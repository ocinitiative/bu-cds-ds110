{
 "cells": [
  {
   "cell_type": "markdown",
   "metadata": {
    "slideshow": {
     "slide_type": "slide"
    }
   },
   "source": [
    "# Advanced Pandas"
   ]
  },
  {
   "cell_type": "markdown",
   "metadata": {
    "id": "oiC6BgUMCUDU",
    "slideshow": {
     "slide_type": "slide"
    }
   },
   "source": [
    "# Pivot tables\n",
    "\n",
    "Pivot tables are a way of organizing data so that the values of particular combinations of features are highlighted.  For example, if you're looking at resale value of used cars, and have a long list of used cars before you, a pivot table could help you see the average resale value of a red 2013 Honda Fit.\n"
   ]
  },
  {
   "cell_type": "markdown",
   "metadata": {
    "slideshow": {
     "slide_type": "slide"
    }
   },
   "source": [
    "\n",
    "How a pivot table works is best illustrated with an example (modified from the API reference)."
   ]
  },
  {
   "cell_type": "code",
   "execution_count": null,
   "metadata": {
    "id": "qOBdUqI2CPkN",
    "slideshow": {
     "slide_type": "-"
    },
    "pycharm": {
     "is_executing": true
    }
   },
   "outputs": [],
   "source": [
    "import pandas as pd\n",
    "\n",
    "df = pd.DataFrame({\"Creature\": [\"foo\", \"foo\", \"foo\", \"foo\", \"foo\",\n",
    "                         \"bar\", \"bar\", \"bar\", \"bar\"],\n",
    "                   \"Type\": [\"one\", \"one\", \"one\", \"two\", \"two\",\n",
    "                          \"one\", \"one\", \"two\", \"two\"],\n",
    "                   \"Size\": [\"small\", \"large\", \"large\", \"small\", \"small\",\n",
    "                         \"large\", \"small\", \"small\", \"large\"],\n",
    "                   \"Number\": [1, 2, 2, 3, 3, 4, 5, 6, 7],\n",
    "                   \"Number2\": [2, 4, 5, 5, 6, 6, 8, 9, 9]})\n",
    "df"
   ]
  },
  {
   "cell_type": "markdown",
   "metadata": {
    "id": "OZqjL5smJX-c",
    "slideshow": {
     "slide_type": "fragment"
    }
   },
   "source": [
    "There are repeated values and a missing combination of features (no \"foo two large\"), but these facts are hard to determine by scanning the data.  Instead, we can create a table that summarizes the average values for each combination of Creature, Type, and Size."
   ]
  },
  {
   "cell_type": "code",
   "execution_count": 32,
   "metadata": {
    "id": "iy9Ntei0J4BX",
    "slideshow": {
     "slide_type": "slide"
    }
   },
   "outputs": [
    {
     "data": {
      "text/html": [
       "<div>\n",
       "<style scoped>\n",
       "    .dataframe tbody tr th:only-of-type {\n",
       "        vertical-align: middle;\n",
       "    }\n",
       "\n",
       "    .dataframe tbody tr th {\n",
       "        vertical-align: top;\n",
       "    }\n",
       "\n",
       "    .dataframe thead th {\n",
       "        text-align: right;\n",
       "    }\n",
       "</style>\n",
       "<table border=\"1\" class=\"dataframe\">\n",
       "  <thead>\n",
       "    <tr style=\"text-align: right;\">\n",
       "      <th></th>\n",
       "      <th>Size</th>\n",
       "      <th>large</th>\n",
       "      <th>small</th>\n",
       "    </tr>\n",
       "    <tr>\n",
       "      <th>Creature</th>\n",
       "      <th>Type</th>\n",
       "      <th></th>\n",
       "      <th></th>\n",
       "    </tr>\n",
       "  </thead>\n",
       "  <tbody>\n",
       "    <tr>\n",
       "      <th rowspan=\"2\" valign=\"top\">bar</th>\n",
       "      <th>one</th>\n",
       "      <td>4.0</td>\n",
       "      <td>5.0</td>\n",
       "    </tr>\n",
       "    <tr>\n",
       "      <th>two</th>\n",
       "      <td>7.0</td>\n",
       "      <td>6.0</td>\n",
       "    </tr>\n",
       "    <tr>\n",
       "      <th rowspan=\"2\" valign=\"top\">foo</th>\n",
       "      <th>one</th>\n",
       "      <td>2.0</td>\n",
       "      <td>1.0</td>\n",
       "    </tr>\n",
       "    <tr>\n",
       "      <th>two</th>\n",
       "      <td>NaN</td>\n",
       "      <td>3.0</td>\n",
       "    </tr>\n",
       "  </tbody>\n",
       "</table>\n",
       "</div>"
      ],
      "text/plain": [
       "Size           large  small\n",
       "Creature Type              \n",
       "bar      one     4.0    5.0\n",
       "         two     7.0    6.0\n",
       "foo      one     2.0    1.0\n",
       "         two     NaN    3.0"
      ]
     },
     "execution_count": 32,
     "metadata": {},
     "output_type": "execute_result"
    }
   ],
   "source": [
    "import numpy as np\n",
    "\n",
    "table = pd.pivot_table(df, values='Number',\n",
    "                       index=['Creature', 'Type'],\n",
    "                       columns=['Size'],\n",
    "                       aggfunc=np.mean)\n",
    "table"
   ]
  },
  {
   "cell_type": "markdown",
   "metadata": {
    "id": "i75pK_LdKS_x",
    "slideshow": {
     "slide_type": "fragment"
    }
   },
   "source": [
    "The table shows the average value for each combination of three attributes (Creature, Type, and Size), putting NaN where no such combination was found.  Creature and Type were passed as indices, so their combinations appear on the left.  Size was passed as a column.  And numpy.mean was given as the way to combine multiple values for the same feature combinations; we could have added instead if we were looking at total sales or something similar.  (Notice also that the Number2 values were dropped, as all the values are now from column Number.)"
   ]
  },
  {
   "cell_type": "markdown",
   "metadata": {
    "id": "RHV13zjALimN",
    "slideshow": {
     "slide_type": "slide"
    }
   },
   "source": [
    "Here's a slightly less abstract example."
   ]
  },
  {
   "cell_type": "code",
   "execution_count": 33,
   "metadata": {
    "id": "SJBVJE4OLl18",
    "slideshow": {
     "slide_type": "-"
    }
   },
   "outputs": [
    {
     "data": {
      "text/html": [
       "<div>\n",
       "<style scoped>\n",
       "    .dataframe tbody tr th:only-of-type {\n",
       "        vertical-align: middle;\n",
       "    }\n",
       "\n",
       "    .dataframe tbody tr th {\n",
       "        vertical-align: top;\n",
       "    }\n",
       "\n",
       "    .dataframe thead th {\n",
       "        text-align: right;\n",
       "    }\n",
       "</style>\n",
       "<table border=\"1\" class=\"dataframe\">\n",
       "  <thead>\n",
       "    <tr style=\"text-align: right;\">\n",
       "      <th></th>\n",
       "      <th>Model</th>\n",
       "      <th>Color</th>\n",
       "      <th>Year</th>\n",
       "      <th>Price</th>\n",
       "    </tr>\n",
       "  </thead>\n",
       "  <tbody>\n",
       "    <tr>\n",
       "      <th>0</th>\n",
       "      <td>Fit</td>\n",
       "      <td>red</td>\n",
       "      <td>2009</td>\n",
       "      <td>3300</td>\n",
       "    </tr>\n",
       "    <tr>\n",
       "      <th>1</th>\n",
       "      <td>Corolla</td>\n",
       "      <td>blue</td>\n",
       "      <td>2010</td>\n",
       "      <td>3600</td>\n",
       "    </tr>\n",
       "    <tr>\n",
       "      <th>2</th>\n",
       "      <td>Civic</td>\n",
       "      <td>red</td>\n",
       "      <td>2009</td>\n",
       "      <td>3000</td>\n",
       "    </tr>\n",
       "    <tr>\n",
       "      <th>3</th>\n",
       "      <td>Fit</td>\n",
       "      <td>silver</td>\n",
       "      <td>2011</td>\n",
       "      <td>4000</td>\n",
       "    </tr>\n",
       "    <tr>\n",
       "      <th>4</th>\n",
       "      <td>Civic</td>\n",
       "      <td>red</td>\n",
       "      <td>2012</td>\n",
       "      <td>4200</td>\n",
       "    </tr>\n",
       "    <tr>\n",
       "      <th>5</th>\n",
       "      <td>Corolla</td>\n",
       "      <td>blue</td>\n",
       "      <td>2012</td>\n",
       "      <td>4300</td>\n",
       "    </tr>\n",
       "    <tr>\n",
       "      <th>6</th>\n",
       "      <td>Civic</td>\n",
       "      <td>silver</td>\n",
       "      <td>2009</td>\n",
       "      <td>2000</td>\n",
       "    </tr>\n",
       "    <tr>\n",
       "      <th>7</th>\n",
       "      <td>Fit</td>\n",
       "      <td>red</td>\n",
       "      <td>2010</td>\n",
       "      <td>3000</td>\n",
       "    </tr>\n",
       "    <tr>\n",
       "      <th>8</th>\n",
       "      <td>Corolla</td>\n",
       "      <td>blue</td>\n",
       "      <td>2011</td>\n",
       "      <td>3600</td>\n",
       "    </tr>\n",
       "    <tr>\n",
       "      <th>9</th>\n",
       "      <td>Fit</td>\n",
       "      <td>silver</td>\n",
       "      <td>2010</td>\n",
       "      <td>3200</td>\n",
       "    </tr>\n",
       "    <tr>\n",
       "      <th>10</th>\n",
       "      <td>Civic</td>\n",
       "      <td>silver</td>\n",
       "      <td>2012</td>\n",
       "      <td>4500</td>\n",
       "    </tr>\n",
       "  </tbody>\n",
       "</table>\n",
       "</div>"
      ],
      "text/plain": [
       "      Model   Color  Year  Price\n",
       "0       Fit     red  2009   3300\n",
       "1   Corolla    blue  2010   3600\n",
       "2     Civic     red  2009   3000\n",
       "3       Fit  silver  2011   4000\n",
       "4     Civic     red  2012   4200\n",
       "5   Corolla    blue  2012   4300\n",
       "6     Civic  silver  2009   2000\n",
       "7       Fit     red  2010   3000\n",
       "8   Corolla    blue  2011   3600\n",
       "9       Fit  silver  2010   3200\n",
       "10    Civic  silver  2012   4500"
      ]
     },
     "execution_count": 33,
     "metadata": {},
     "output_type": "execute_result"
    }
   ],
   "source": [
    "df = pd.DataFrame({\"Model\": [\"Fit\", \"Corolla\", \"Civic\", \"Fit\", \"Civic\",\n",
    "                             \"Corolla\",\"Civic\", \"Fit\", \"Corolla\",\n",
    "                             \"Fit\", \"Civic\"],\n",
    "                   \"Color\": [\"red\", \"blue\", \"red\", \"silver\", \"red\",\n",
    "                             \"blue\", \"silver\", \"red\", \"blue\",\n",
    "                             \"silver\", \"silver\"],\n",
    "                   \"Year\": [2009, 2010, 2009, 2011, 2012,\n",
    "                          2012, 2009, 2010, 2011, 2010, 2012],\n",
    "                   \"Price\": [3300, 3600, 3000, 4000, 4200,\n",
    "                             4300, 2000, 3000, 3600, 3200,4500]})\n",
    "df"
   ]
  },
  {
   "cell_type": "code",
   "execution_count": null,
   "metadata": {
    "pycharm": {
     "is_executing": true
    }
   },
   "outputs": [],
   "source": [
    "table = pd.pivot_table(df, values='Price',\n",
    "                       index=['Model', 'Color'],\n",
    "                       columns=['Year'],\n",
    "                       aggfunc=np.mean)\n",
    "table"
   ]
  },
  {
   "cell_type": "markdown",
   "metadata": {
    "id": "TtUWL_tzS7xe",
    "slideshow": {
     "slide_type": "subslide"
    }
   },
   "source": [
    "\n",
    "\n",
    "The same grouping that we see in the rows, we could perform in the columns.  Each entry still represents the intersection of 3 attributes."
   ]
  },
  {
   "cell_type": "code",
   "execution_count": 35,
   "metadata": {
    "id": "EF-z7hv5THs7",
    "slideshow": {
     "slide_type": "-"
    }
   },
   "outputs": [
    {
     "data": {
      "text/html": [
       "<div>\n",
       "<style scoped>\n",
       "    .dataframe tbody tr th:only-of-type {\n",
       "        vertical-align: middle;\n",
       "    }\n",
       "\n",
       "    .dataframe tbody tr th {\n",
       "        vertical-align: top;\n",
       "    }\n",
       "\n",
       "    .dataframe thead tr th {\n",
       "        text-align: left;\n",
       "    }\n",
       "\n",
       "    .dataframe thead tr:last-of-type th {\n",
       "        text-align: right;\n",
       "    }\n",
       "</style>\n",
       "<table border=\"1\" class=\"dataframe\">\n",
       "  <thead>\n",
       "    <tr>\n",
       "      <th>Model</th>\n",
       "      <th colspan=\"2\" halign=\"left\">Civic</th>\n",
       "      <th colspan=\"3\" halign=\"left\">Corolla</th>\n",
       "      <th colspan=\"3\" halign=\"left\">Fit</th>\n",
       "    </tr>\n",
       "    <tr>\n",
       "      <th>Year</th>\n",
       "      <th>2009</th>\n",
       "      <th>2012</th>\n",
       "      <th>2010</th>\n",
       "      <th>2011</th>\n",
       "      <th>2012</th>\n",
       "      <th>2009</th>\n",
       "      <th>2010</th>\n",
       "      <th>2011</th>\n",
       "    </tr>\n",
       "    <tr>\n",
       "      <th>Color</th>\n",
       "      <th></th>\n",
       "      <th></th>\n",
       "      <th></th>\n",
       "      <th></th>\n",
       "      <th></th>\n",
       "      <th></th>\n",
       "      <th></th>\n",
       "      <th></th>\n",
       "    </tr>\n",
       "  </thead>\n",
       "  <tbody>\n",
       "    <tr>\n",
       "      <th>blue</th>\n",
       "      <td>NaN</td>\n",
       "      <td>NaN</td>\n",
       "      <td>3600.0</td>\n",
       "      <td>3600.0</td>\n",
       "      <td>4300.0</td>\n",
       "      <td>NaN</td>\n",
       "      <td>NaN</td>\n",
       "      <td>NaN</td>\n",
       "    </tr>\n",
       "    <tr>\n",
       "      <th>red</th>\n",
       "      <td>3000.0</td>\n",
       "      <td>4200.0</td>\n",
       "      <td>NaN</td>\n",
       "      <td>NaN</td>\n",
       "      <td>NaN</td>\n",
       "      <td>3300.0</td>\n",
       "      <td>3000.0</td>\n",
       "      <td>NaN</td>\n",
       "    </tr>\n",
       "    <tr>\n",
       "      <th>silver</th>\n",
       "      <td>2000.0</td>\n",
       "      <td>4500.0</td>\n",
       "      <td>NaN</td>\n",
       "      <td>NaN</td>\n",
       "      <td>NaN</td>\n",
       "      <td>NaN</td>\n",
       "      <td>3200.0</td>\n",
       "      <td>4000.0</td>\n",
       "    </tr>\n",
       "  </tbody>\n",
       "</table>\n",
       "</div>"
      ],
      "text/plain": [
       "Model    Civic         Corolla                     Fit                \n",
       "Year      2009    2012    2010    2011    2012    2009    2010    2011\n",
       "Color                                                                 \n",
       "blue       NaN     NaN  3600.0  3600.0  4300.0     NaN     NaN     NaN\n",
       "red     3000.0  4200.0     NaN     NaN     NaN  3300.0  3000.0     NaN\n",
       "silver  2000.0  4500.0     NaN     NaN     NaN     NaN  3200.0  4000.0"
      ]
     },
     "execution_count": 35,
     "metadata": {},
     "output_type": "execute_result"
    }
   ],
   "source": [
    "table = pd.pivot_table(df, values='Price',\n",
    "                       index=['Color'],\n",
    "                       columns=['Model','Year'],\n",
    "                       aggfunc=np.mean)\n",
    "table"
   ]
  },
  {
   "cell_type": "markdown",
   "metadata": {
    "id": "-_3TVLVgN5kr",
    "slideshow": {
     "slide_type": "subslide"
    }
   },
   "source": [
    "With so many missing values, we could decide to not care about the year.  This will group entries with different years together, as long as they agree on Model and Color."
   ]
  },
  {
   "cell_type": "code",
   "execution_count": 36,
   "metadata": {
    "id": "Ey1erB2VN-39",
    "slideshow": {
     "slide_type": "-"
    }
   },
   "outputs": [
    {
     "data": {
      "text/html": [
       "<div>\n",
       "<style scoped>\n",
       "    .dataframe tbody tr th:only-of-type {\n",
       "        vertical-align: middle;\n",
       "    }\n",
       "\n",
       "    .dataframe tbody tr th {\n",
       "        vertical-align: top;\n",
       "    }\n",
       "\n",
       "    .dataframe thead th {\n",
       "        text-align: right;\n",
       "    }\n",
       "</style>\n",
       "<table border=\"1\" class=\"dataframe\">\n",
       "  <thead>\n",
       "    <tr style=\"text-align: right;\">\n",
       "      <th>Color</th>\n",
       "      <th>blue</th>\n",
       "      <th>red</th>\n",
       "      <th>silver</th>\n",
       "    </tr>\n",
       "    <tr>\n",
       "      <th>Model</th>\n",
       "      <th></th>\n",
       "      <th></th>\n",
       "      <th></th>\n",
       "    </tr>\n",
       "  </thead>\n",
       "  <tbody>\n",
       "    <tr>\n",
       "      <th>Civic</th>\n",
       "      <td>NaN</td>\n",
       "      <td>3600.0</td>\n",
       "      <td>3250.0</td>\n",
       "    </tr>\n",
       "    <tr>\n",
       "      <th>Corolla</th>\n",
       "      <td>3833.333333</td>\n",
       "      <td>NaN</td>\n",
       "      <td>NaN</td>\n",
       "    </tr>\n",
       "    <tr>\n",
       "      <th>Fit</th>\n",
       "      <td>NaN</td>\n",
       "      <td>3150.0</td>\n",
       "      <td>3600.0</td>\n",
       "    </tr>\n",
       "  </tbody>\n",
       "</table>\n",
       "</div>"
      ],
      "text/plain": [
       "Color           blue     red  silver\n",
       "Model                               \n",
       "Civic            NaN  3600.0  3250.0\n",
       "Corolla  3833.333333     NaN     NaN\n",
       "Fit              NaN  3150.0  3600.0"
      ]
     },
     "execution_count": 36,
     "metadata": {},
     "output_type": "execute_result"
    }
   ],
   "source": [
    "table = pd.pivot_table(df, values='Price',\n",
    "                       index=['Model'], columns=['Color'],\n",
    "                       aggfunc=np.mean)\n",
    "table"
   ]
  },
  {
   "cell_type": "markdown",
   "metadata": {
    "id": "qkcIibwcOQFm",
    "slideshow": {
     "slide_type": "fragment"
    }
   },
   "source": [
    "Now all the different years are being averaged together for the same color and model of car.\n"
   ]
  },
  {
   "cell_type": "markdown",
   "metadata": {
    "slideshow": {
     "slide_type": "slide"
    }
   },
   "source": [
    "The fill_value parameter replaces the NaN's with some other value."
   ]
  },
  {
   "cell_type": "code",
   "execution_count": 37,
   "metadata": {
    "id": "lP-EO54oO2_Q",
    "slideshow": {
     "slide_type": "-"
    }
   },
   "outputs": [
    {
     "data": {
      "text/html": [
       "<div>\n",
       "<style scoped>\n",
       "    .dataframe tbody tr th:only-of-type {\n",
       "        vertical-align: middle;\n",
       "    }\n",
       "\n",
       "    .dataframe tbody tr th {\n",
       "        vertical-align: top;\n",
       "    }\n",
       "\n",
       "    .dataframe thead th {\n",
       "        text-align: right;\n",
       "    }\n",
       "</style>\n",
       "<table border=\"1\" class=\"dataframe\">\n",
       "  <thead>\n",
       "    <tr style=\"text-align: right;\">\n",
       "      <th>Color</th>\n",
       "      <th>blue</th>\n",
       "      <th>red</th>\n",
       "      <th>silver</th>\n",
       "    </tr>\n",
       "    <tr>\n",
       "      <th>Model</th>\n",
       "      <th></th>\n",
       "      <th></th>\n",
       "      <th></th>\n",
       "    </tr>\n",
       "  </thead>\n",
       "  <tbody>\n",
       "    <tr>\n",
       "      <th>Civic</th>\n",
       "      <td>0.000000</td>\n",
       "      <td>3600</td>\n",
       "      <td>3250</td>\n",
       "    </tr>\n",
       "    <tr>\n",
       "      <th>Corolla</th>\n",
       "      <td>3833.333333</td>\n",
       "      <td>0</td>\n",
       "      <td>0</td>\n",
       "    </tr>\n",
       "    <tr>\n",
       "      <th>Fit</th>\n",
       "      <td>0.000000</td>\n",
       "      <td>3150</td>\n",
       "      <td>3600</td>\n",
       "    </tr>\n",
       "  </tbody>\n",
       "</table>\n",
       "</div>"
      ],
      "text/plain": [
       "Color           blue   red  silver\n",
       "Model                             \n",
       "Civic       0.000000  3600    3250\n",
       "Corolla  3833.333333     0       0\n",
       "Fit         0.000000  3150    3600"
      ]
     },
     "execution_count": 37,
     "metadata": {},
     "output_type": "execute_result"
    }
   ],
   "source": [
    "table = pd.pivot_table(df, values='Price', index=['Model'],\n",
    "                       columns=['Color'], aggfunc=np.mean,\n",
    "                       fill_value=0)\n",
    "table"
   ]
  },
  {
   "cell_type": "markdown",
   "metadata": {
    "id": "q7DubvaTO-Fa",
    "slideshow": {
     "slide_type": "slide"
    }
   },
   "source": [
    "It's also possible to include multiple values and multiple statistics  in the same table, using different columns.  aggfunc can take a dictionary from value name to function instead of a single function as its argument.  The dictionary values can even be lists of functions instead of single functions. See the example below."
   ]
  },
  {
   "cell_type": "code",
   "execution_count": 38,
   "metadata": {
    "id": "YY2XhBH9PJNl",
    "slideshow": {
     "slide_type": "-"
    }
   },
   "outputs": [
    {
     "data": {
      "text/html": [
       "<div>\n",
       "<style scoped>\n",
       "    .dataframe tbody tr th:only-of-type {\n",
       "        vertical-align: middle;\n",
       "    }\n",
       "\n",
       "    .dataframe tbody tr th {\n",
       "        vertical-align: top;\n",
       "    }\n",
       "\n",
       "    .dataframe thead tr th {\n",
       "        text-align: left;\n",
       "    }\n",
       "\n",
       "    .dataframe thead tr:last-of-type th {\n",
       "        text-align: right;\n",
       "    }\n",
       "</style>\n",
       "<table border=\"1\" class=\"dataframe\">\n",
       "  <thead>\n",
       "    <tr>\n",
       "      <th></th>\n",
       "      <th></th>\n",
       "      <th>Price</th>\n",
       "      <th colspan=\"2\" halign=\"left\">Year</th>\n",
       "    </tr>\n",
       "    <tr>\n",
       "      <th></th>\n",
       "      <th></th>\n",
       "      <th>mean</th>\n",
       "      <th>max</th>\n",
       "      <th>min</th>\n",
       "    </tr>\n",
       "    <tr>\n",
       "      <th>Model</th>\n",
       "      <th>Color</th>\n",
       "      <th></th>\n",
       "      <th></th>\n",
       "      <th></th>\n",
       "    </tr>\n",
       "  </thead>\n",
       "  <tbody>\n",
       "    <tr>\n",
       "      <th rowspan=\"2\" valign=\"top\">Civic</th>\n",
       "      <th>red</th>\n",
       "      <td>3600.000000</td>\n",
       "      <td>2012</td>\n",
       "      <td>2009</td>\n",
       "    </tr>\n",
       "    <tr>\n",
       "      <th>silver</th>\n",
       "      <td>3250.000000</td>\n",
       "      <td>2012</td>\n",
       "      <td>2009</td>\n",
       "    </tr>\n",
       "    <tr>\n",
       "      <th>Corolla</th>\n",
       "      <th>blue</th>\n",
       "      <td>3833.333333</td>\n",
       "      <td>2012</td>\n",
       "      <td>2010</td>\n",
       "    </tr>\n",
       "    <tr>\n",
       "      <th rowspan=\"2\" valign=\"top\">Fit</th>\n",
       "      <th>red</th>\n",
       "      <td>3150.000000</td>\n",
       "      <td>2010</td>\n",
       "      <td>2009</td>\n",
       "    </tr>\n",
       "    <tr>\n",
       "      <th>silver</th>\n",
       "      <td>3600.000000</td>\n",
       "      <td>2011</td>\n",
       "      <td>2010</td>\n",
       "    </tr>\n",
       "  </tbody>\n",
       "</table>\n",
       "</div>"
      ],
      "text/plain": [
       "                      Price  Year      \n",
       "                       mean   max   min\n",
       "Model   Color                          \n",
       "Civic   red     3600.000000  2012  2009\n",
       "        silver  3250.000000  2012  2009\n",
       "Corolla blue    3833.333333  2012  2010\n",
       "Fit     red     3150.000000  2010  2009\n",
       "        silver  3600.000000  2011  2010"
      ]
     },
     "execution_count": 38,
     "metadata": {},
     "output_type": "execute_result"
    }
   ],
   "source": [
    "table = pd.pivot_table(df, values=['Year','Price'],\n",
    "                       index=['Model', 'Color'],\n",
    "                       aggfunc={'Year': [min, max], 'Price': np.mean})\n",
    "table"
   ]
  },
  {
   "cell_type": "markdown",
   "metadata": {
    "id": "TuUSAbNeibOI",
    "slideshow": {
     "slide_type": "slide"
    }
   },
   "source": [
    "The pivot table is for seeing patterns in data, so you should use whatever layout best illustrates answers your questions.  For example, we could ask, does color change how a car's value changes over time?  As we're watching price change with the year over time, it makes sense to make the color a row, and the year a column."
   ]
  },
  {
   "cell_type": "code",
   "execution_count": 39,
   "metadata": {
    "id": "HdV5-rp5j9_d",
    "slideshow": {
     "slide_type": "-"
    }
   },
   "outputs": [
    {
     "data": {
      "text/html": [
       "<div>\n",
       "<style scoped>\n",
       "    .dataframe tbody tr th:only-of-type {\n",
       "        vertical-align: middle;\n",
       "    }\n",
       "\n",
       "    .dataframe tbody tr th {\n",
       "        vertical-align: top;\n",
       "    }\n",
       "\n",
       "    .dataframe thead th {\n",
       "        text-align: right;\n",
       "    }\n",
       "</style>\n",
       "<table border=\"1\" class=\"dataframe\">\n",
       "  <thead>\n",
       "    <tr style=\"text-align: right;\">\n",
       "      <th>Year</th>\n",
       "      <th>2009</th>\n",
       "      <th>2010</th>\n",
       "      <th>2011</th>\n",
       "      <th>2012</th>\n",
       "    </tr>\n",
       "    <tr>\n",
       "      <th>Color</th>\n",
       "      <th></th>\n",
       "      <th></th>\n",
       "      <th></th>\n",
       "      <th></th>\n",
       "    </tr>\n",
       "  </thead>\n",
       "  <tbody>\n",
       "    <tr>\n",
       "      <th>blue</th>\n",
       "      <td>NaN</td>\n",
       "      <td>3600.0</td>\n",
       "      <td>3600.0</td>\n",
       "      <td>4300.0</td>\n",
       "    </tr>\n",
       "    <tr>\n",
       "      <th>red</th>\n",
       "      <td>3150.0</td>\n",
       "      <td>3000.0</td>\n",
       "      <td>NaN</td>\n",
       "      <td>4200.0</td>\n",
       "    </tr>\n",
       "    <tr>\n",
       "      <th>silver</th>\n",
       "      <td>2000.0</td>\n",
       "      <td>3200.0</td>\n",
       "      <td>4000.0</td>\n",
       "      <td>4500.0</td>\n",
       "    </tr>\n",
       "  </tbody>\n",
       "</table>\n",
       "</div>"
      ],
      "text/plain": [
       "Year      2009    2010    2011    2012\n",
       "Color                                 \n",
       "blue       NaN  3600.0  3600.0  4300.0\n",
       "red     3150.0  3000.0     NaN  4200.0\n",
       "silver  2000.0  3200.0  4000.0  4500.0"
      ]
     },
     "execution_count": 39,
     "metadata": {},
     "output_type": "execute_result"
    }
   ],
   "source": [
    "table = pd.pivot_table(df, values='Price', index=['Color'],\n",
    "                       columns=['Year'], aggfunc=np.mean)\n",
    "table"
   ]
  },
  {
   "cell_type": "markdown",
   "metadata": {
    "slideshow": {
     "slide_type": "slide"
    }
   },
   "source": [
    "If the table itself isn't easy to read, it's straightforward to pass the pivot table to one of several kinds of plot with the plot() method of the dataframe.  See the pandas.DataFrame.plot() documentation for more types."
   ]
  },
  {
   "cell_type": "code",
   "execution_count": 40,
   "metadata": {
    "slideshow": {
     "slide_type": "-"
    }
   },
   "outputs": [
    {
     "data": {
      "text/plain": [
       "<AxesSubplot:xlabel='Color'>"
      ]
     },
     "execution_count": 40,
     "metadata": {},
     "output_type": "execute_result"
    },
    {
     "data": {
      "image/png": "[encoded data removed]",
      "text/plain": [
       "<Figure size 432x288 with 1 Axes>"
      ]
     },
     "metadata": {
      "needs_background": "light"
     },
     "output_type": "display_data"
    }
   ],
   "source": [
    "table.plot(kind='bar')"
   ]
  },
  {
   "cell_type": "markdown",
   "metadata": {
    "id": "7WCUHxVOTwTU",
    "slideshow": {
     "slide_type": "slide"
    }
   },
   "source": [
    "# Exercise\n",
    "\n",
    "Try predicting what the table will look like when the following pivot_table methods are called."
   ]
  },
  {
   "cell_type": "code",
   "execution_count": 41,
   "metadata": {
    "id": "1syD-3z6PKxo",
    "slideshow": {
     "slide_type": "-"
    }
   },
   "outputs": [
    {
     "data": {
      "text/html": [
       "<div>\n",
       "<style scoped>\n",
       "    .dataframe tbody tr th:only-of-type {\n",
       "        vertical-align: middle;\n",
       "    }\n",
       "\n",
       "    .dataframe tbody tr th {\n",
       "        vertical-align: top;\n",
       "    }\n",
       "\n",
       "    .dataframe thead th {\n",
       "        text-align: right;\n",
       "    }\n",
       "</style>\n",
       "<table border=\"1\" class=\"dataframe\">\n",
       "  <thead>\n",
       "    <tr style=\"text-align: right;\">\n",
       "      <th></th>\n",
       "      <th>Student</th>\n",
       "      <th>GPA</th>\n",
       "      <th>GradYear</th>\n",
       "      <th>Major</th>\n",
       "      <th>Took110</th>\n",
       "    </tr>\n",
       "  </thead>\n",
       "  <tbody>\n",
       "    <tr>\n",
       "      <th>0</th>\n",
       "      <td>Alice</td>\n",
       "      <td>4.0</td>\n",
       "      <td>2022</td>\n",
       "      <td>EE</td>\n",
       "      <td>False</td>\n",
       "    </tr>\n",
       "    <tr>\n",
       "      <th>1</th>\n",
       "      <td>Bob</td>\n",
       "      <td>3.5</td>\n",
       "      <td>2023</td>\n",
       "      <td>CS</td>\n",
       "      <td>True</td>\n",
       "    </tr>\n",
       "    <tr>\n",
       "      <th>2</th>\n",
       "      <td>Chu</td>\n",
       "      <td>3.8</td>\n",
       "      <td>2022</td>\n",
       "      <td>EE</td>\n",
       "      <td>False</td>\n",
       "    </tr>\n",
       "    <tr>\n",
       "      <th>3</th>\n",
       "      <td>Dedue</td>\n",
       "      <td>2.8</td>\n",
       "      <td>2024</td>\n",
       "      <td>CS</td>\n",
       "      <td>True</td>\n",
       "    </tr>\n",
       "    <tr>\n",
       "      <th>4</th>\n",
       "      <td>Egla</td>\n",
       "      <td>3.9</td>\n",
       "      <td>2022</td>\n",
       "      <td>EE</td>\n",
       "      <td>False</td>\n",
       "    </tr>\n",
       "    <tr>\n",
       "      <th>5</th>\n",
       "      <td>Fatima</td>\n",
       "      <td>3.7</td>\n",
       "      <td>2024</td>\n",
       "      <td>CS</td>\n",
       "      <td>False</td>\n",
       "    </tr>\n",
       "    <tr>\n",
       "      <th>6</th>\n",
       "      <td>Grund</td>\n",
       "      <td>4.0</td>\n",
       "      <td>2023</td>\n",
       "      <td>EE</td>\n",
       "      <td>False</td>\n",
       "    </tr>\n",
       "  </tbody>\n",
       "</table>\n",
       "</div>"
      ],
      "text/plain": [
       "  Student  GPA  GradYear Major  Took110\n",
       "0   Alice  4.0      2022    EE    False\n",
       "1     Bob  3.5      2023    CS     True\n",
       "2     Chu  3.8      2022    EE    False\n",
       "3   Dedue  2.8      2024    CS     True\n",
       "4    Egla  3.9      2022    EE    False\n",
       "5  Fatima  3.7      2024    CS    False\n",
       "6   Grund  4.0      2023    EE    False"
      ]
     },
     "execution_count": 41,
     "metadata": {},
     "output_type": "execute_result"
    }
   ],
   "source": [
    "import pandas as pd\n",
    "import numpy as np\n",
    "\n",
    "df = pd.DataFrame({\"Student\": [\"Alice\", \"Bob\", \"Chu\", \"Dedue\", \"Egla\", \"Fatima\",\"Grund\"],\n",
    "                   \"GPA\": [4.0, 3.5, 3.8, 2.8, 3.9, 3.7, 4.0],\n",
    "                   \"GradYear\": [2022, 2023, 2022, 2024, 2022, 2024, 2023],\n",
    "                   \"Major\": [\"EE\",\"CS\",\"EE\",\"CS\",\"EE\",\"CS\",\"EE\"],\n",
    "                   \"Took110\": [False, True, False, True, False, False, False]})\n",
    "df"
   ]
  },
  {
   "cell_type": "code",
   "execution_count": 42,
   "metadata": {
    "id": "PGwuJcS7T-Zu",
    "slideshow": {
     "slide_type": "-"
    }
   },
   "outputs": [
    {
     "data": {
      "text/html": [
       "<div>\n",
       "<style scoped>\n",
       "    .dataframe tbody tr th:only-of-type {\n",
       "        vertical-align: middle;\n",
       "    }\n",
       "\n",
       "    .dataframe tbody tr th {\n",
       "        vertical-align: top;\n",
       "    }\n",
       "\n",
       "    .dataframe thead th {\n",
       "        text-align: right;\n",
       "    }\n",
       "</style>\n",
       "<table border=\"1\" class=\"dataframe\">\n",
       "  <thead>\n",
       "    <tr style=\"text-align: right;\">\n",
       "      <th>GradYear</th>\n",
       "      <th>2022</th>\n",
       "      <th>2023</th>\n",
       "      <th>2024</th>\n",
       "    </tr>\n",
       "    <tr>\n",
       "      <th>Major</th>\n",
       "      <th></th>\n",
       "      <th></th>\n",
       "      <th></th>\n",
       "    </tr>\n",
       "  </thead>\n",
       "  <tbody>\n",
       "    <tr>\n",
       "      <th>CS</th>\n",
       "      <td>NaN</td>\n",
       "      <td>3.5</td>\n",
       "      <td>3.25</td>\n",
       "    </tr>\n",
       "    <tr>\n",
       "      <th>EE</th>\n",
       "      <td>3.9</td>\n",
       "      <td>4.0</td>\n",
       "      <td>NaN</td>\n",
       "    </tr>\n",
       "  </tbody>\n",
       "</table>\n",
       "</div>"
      ],
      "text/plain": [
       "GradYear  2022  2023  2024\n",
       "Major                     \n",
       "CS         NaN   3.5  3.25\n",
       "EE         3.9   4.0   NaN"
      ]
     },
     "execution_count": 42,
     "metadata": {},
     "output_type": "execute_result"
    }
   ],
   "source": [
    "table = pd.pivot_table(df, values='GPA', index=['Major'], columns=['GradYear'], aggfunc=np.mean)\n",
    "table"
   ]
  },
  {
   "cell_type": "code",
   "execution_count": 43,
   "metadata": {
    "id": "0UINK9C9NQDE",
    "slideshow": {
     "slide_type": "-"
    }
   },
   "outputs": [
    {
     "data": {
      "text/html": [
       "<div>\n",
       "<style scoped>\n",
       "    .dataframe tbody tr th:only-of-type {\n",
       "        vertical-align: middle;\n",
       "    }\n",
       "\n",
       "    .dataframe tbody tr th {\n",
       "        vertical-align: top;\n",
       "    }\n",
       "\n",
       "    .dataframe thead th {\n",
       "        text-align: right;\n",
       "    }\n",
       "</style>\n",
       "<table border=\"1\" class=\"dataframe\">\n",
       "  <thead>\n",
       "    <tr style=\"text-align: right;\">\n",
       "      <th></th>\n",
       "      <th></th>\n",
       "      <th>max</th>\n",
       "      <th>mean</th>\n",
       "    </tr>\n",
       "    <tr>\n",
       "      <th>Major</th>\n",
       "      <th>GradYear</th>\n",
       "      <th></th>\n",
       "      <th></th>\n",
       "    </tr>\n",
       "  </thead>\n",
       "  <tbody>\n",
       "    <tr>\n",
       "      <th rowspan=\"2\" valign=\"top\">CS</th>\n",
       "      <th>2023</th>\n",
       "      <td>3.5</td>\n",
       "      <td>3.50</td>\n",
       "    </tr>\n",
       "    <tr>\n",
       "      <th>2024</th>\n",
       "      <td>3.7</td>\n",
       "      <td>3.25</td>\n",
       "    </tr>\n",
       "    <tr>\n",
       "      <th rowspan=\"2\" valign=\"top\">EE</th>\n",
       "      <th>2022</th>\n",
       "      <td>4.0</td>\n",
       "      <td>3.90</td>\n",
       "    </tr>\n",
       "    <tr>\n",
       "      <th>2023</th>\n",
       "      <td>4.0</td>\n",
       "      <td>4.00</td>\n",
       "    </tr>\n",
       "  </tbody>\n",
       "</table>\n",
       "</div>"
      ],
      "text/plain": [
       "                max  mean\n",
       "Major GradYear           \n",
       "CS    2023      3.5  3.50\n",
       "      2024      3.7  3.25\n",
       "EE    2022      4.0  3.90\n",
       "      2023      4.0  4.00"
      ]
     },
     "execution_count": 43,
     "metadata": {},
     "output_type": "execute_result"
    }
   ],
   "source": [
    "table = pd.pivot_table(df, values='GPA', index=['Major','GradYear'], aggfunc={'GPA': [np.mean, max]})\n",
    "table"
   ]
  },
  {
   "cell_type": "code",
   "execution_count": 44,
   "metadata": {
    "id": "fiZ0auwUOVxu",
    "slideshow": {
     "slide_type": "-"
    }
   },
   "outputs": [
    {
     "data": {
      "text/html": [
       "<div>\n",
       "<style scoped>\n",
       "    .dataframe tbody tr th:only-of-type {\n",
       "        vertical-align: middle;\n",
       "    }\n",
       "\n",
       "    .dataframe tbody tr th {\n",
       "        vertical-align: top;\n",
       "    }\n",
       "\n",
       "    .dataframe thead tr th {\n",
       "        text-align: left;\n",
       "    }\n",
       "\n",
       "    .dataframe thead tr:last-of-type th {\n",
       "        text-align: right;\n",
       "    }\n",
       "</style>\n",
       "<table border=\"1\" class=\"dataframe\">\n",
       "  <thead>\n",
       "    <tr>\n",
       "      <th>GradYear</th>\n",
       "      <th>2022</th>\n",
       "      <th colspan=\"2\" halign=\"left\">2023</th>\n",
       "      <th colspan=\"2\" halign=\"left\">2024</th>\n",
       "    </tr>\n",
       "    <tr>\n",
       "      <th>Took110</th>\n",
       "      <th>False</th>\n",
       "      <th>False</th>\n",
       "      <th>True</th>\n",
       "      <th>False</th>\n",
       "      <th>True</th>\n",
       "    </tr>\n",
       "    <tr>\n",
       "      <th>Major</th>\n",
       "      <th></th>\n",
       "      <th></th>\n",
       "      <th></th>\n",
       "      <th></th>\n",
       "      <th></th>\n",
       "    </tr>\n",
       "  </thead>\n",
       "  <tbody>\n",
       "    <tr>\n",
       "      <th>CS</th>\n",
       "      <td>NaN</td>\n",
       "      <td>NaN</td>\n",
       "      <td>3.5</td>\n",
       "      <td>3.7</td>\n",
       "      <td>2.8</td>\n",
       "    </tr>\n",
       "    <tr>\n",
       "      <th>EE</th>\n",
       "      <td>3.9</td>\n",
       "      <td>4.0</td>\n",
       "      <td>NaN</td>\n",
       "      <td>NaN</td>\n",
       "      <td>NaN</td>\n",
       "    </tr>\n",
       "  </tbody>\n",
       "</table>\n",
       "</div>"
      ],
      "text/plain": [
       "GradYear  2022  2023        2024      \n",
       "Took110  False False True  False True \n",
       "Major                                 \n",
       "CS         NaN   NaN   3.5   3.7   2.8\n",
       "EE         3.9   4.0   NaN   NaN   NaN"
      ]
     },
     "execution_count": 44,
     "metadata": {},
     "output_type": "execute_result"
    }
   ],
   "source": [
    "table = pd.pivot_table(df, values='GPA', index=['Major'], columns=['GradYear','Took110'], aggfunc=np.mean)\n",
    "table"
   ]
  },
  {
   "cell_type": "markdown",
   "metadata": {
    "id": "nZoRoW5Fkh5U",
    "slideshow": {
     "slide_type": "slide"
    }
   },
   "source": [
    "# Groupby\n",
    "\n",
    "A related method is groupby(), which groups the entries by a particular value they have in common (such as same model of car).  This allows for a quick mean() of the other features of those individuals.  It's like a pivot table, but it perhaps more convenient as it requires fewer parameters (in exchange for being a little less flexible)."
   ]
  },
  {
   "cell_type": "code",
   "execution_count": 45,
   "metadata": {
    "id": "2kC8N9-Ik6wK",
    "slideshow": {
     "slide_type": "-"
    }
   },
   "outputs": [
    {
     "data": {
      "text/html": [
       "<div>\n",
       "<style scoped>\n",
       "    .dataframe tbody tr th:only-of-type {\n",
       "        vertical-align: middle;\n",
       "    }\n",
       "\n",
       "    .dataframe tbody tr th {\n",
       "        vertical-align: top;\n",
       "    }\n",
       "\n",
       "    .dataframe thead th {\n",
       "        text-align: right;\n",
       "    }\n",
       "</style>\n",
       "<table border=\"1\" class=\"dataframe\">\n",
       "  <thead>\n",
       "    <tr style=\"text-align: right;\">\n",
       "      <th></th>\n",
       "      <th>GPA</th>\n",
       "      <th>GradYear</th>\n",
       "      <th>Took110</th>\n",
       "    </tr>\n",
       "    <tr>\n",
       "      <th>Major</th>\n",
       "      <th></th>\n",
       "      <th></th>\n",
       "      <th></th>\n",
       "    </tr>\n",
       "  </thead>\n",
       "  <tbody>\n",
       "    <tr>\n",
       "      <th>CS</th>\n",
       "      <td>3.333333</td>\n",
       "      <td>2023.666667</td>\n",
       "      <td>0.666667</td>\n",
       "    </tr>\n",
       "    <tr>\n",
       "      <th>EE</th>\n",
       "      <td>3.925000</td>\n",
       "      <td>2022.250000</td>\n",
       "      <td>0.000000</td>\n",
       "    </tr>\n",
       "  </tbody>\n",
       "</table>\n",
       "</div>"
      ],
      "text/plain": [
       "            GPA     GradYear   Took110\n",
       "Major                                 \n",
       "CS     3.333333  2023.666667  0.666667\n",
       "EE     3.925000  2022.250000  0.000000"
      ]
     },
     "execution_count": 45,
     "metadata": {},
     "output_type": "execute_result"
    }
   ],
   "source": [
    "df.groupby([\"Major\"]).mean()"
   ]
  },
  {
   "cell_type": "markdown",
   "metadata": {
    "id": "ORZD51KgO7h3",
    "slideshow": {
     "slide_type": "subslide"
    }
   },
   "source": [
    "It may make sense to run the groupby only on particular columns, which should include the one you want to run groupby on."
   ]
  },
  {
   "cell_type": "code",
   "execution_count": 46,
   "metadata": {
    "id": "0nZbhmKOOM1_",
    "slideshow": {
     "slide_type": "-"
    }
   },
   "outputs": [
    {
     "data": {
      "text/html": [
       "<div>\n",
       "<style scoped>\n",
       "    .dataframe tbody tr th:only-of-type {\n",
       "        vertical-align: middle;\n",
       "    }\n",
       "\n",
       "    .dataframe tbody tr th {\n",
       "        vertical-align: top;\n",
       "    }\n",
       "\n",
       "    .dataframe thead th {\n",
       "        text-align: right;\n",
       "    }\n",
       "</style>\n",
       "<table border=\"1\" class=\"dataframe\">\n",
       "  <thead>\n",
       "    <tr style=\"text-align: right;\">\n",
       "      <th></th>\n",
       "      <th>GPA</th>\n",
       "    </tr>\n",
       "    <tr>\n",
       "      <th>Major</th>\n",
       "      <th></th>\n",
       "    </tr>\n",
       "  </thead>\n",
       "  <tbody>\n",
       "    <tr>\n",
       "      <th>CS</th>\n",
       "      <td>3.333333</td>\n",
       "    </tr>\n",
       "    <tr>\n",
       "      <th>EE</th>\n",
       "      <td>3.925000</td>\n",
       "    </tr>\n",
       "  </tbody>\n",
       "</table>\n",
       "</div>"
      ],
      "text/plain": [
       "            GPA\n",
       "Major          \n",
       "CS     3.333333\n",
       "EE     3.925000"
      ]
     },
     "execution_count": 46,
     "metadata": {},
     "output_type": "execute_result"
    }
   ],
   "source": [
    "df[[\"GPA\", \"Major\"]].groupby([\"Major\"]).mean()"
   ]
  },
  {
   "cell_type": "markdown",
   "metadata": {
    "id": "pMtn2U6zViFb",
    "slideshow": {
     "slide_type": "subslide"
    }
   },
   "source": [
    "You can also groupby multiple criteria, so it finds the average (or other statistic) for each combination.  Groupby's result then starts to look like a pivot table (it's actually a MultiIndex)."
   ]
  },
  {
   "cell_type": "code",
   "execution_count": 47,
   "metadata": {
    "id": "ZX9mxFoIVvGt",
    "slideshow": {
     "slide_type": "-"
    }
   },
   "outputs": [
    {
     "data": {
      "text/html": [
       "<div>\n",
       "<style scoped>\n",
       "    .dataframe tbody tr th:only-of-type {\n",
       "        vertical-align: middle;\n",
       "    }\n",
       "\n",
       "    .dataframe tbody tr th {\n",
       "        vertical-align: top;\n",
       "    }\n",
       "\n",
       "    .dataframe thead th {\n",
       "        text-align: right;\n",
       "    }\n",
       "</style>\n",
       "<table border=\"1\" class=\"dataframe\">\n",
       "  <thead>\n",
       "    <tr style=\"text-align: right;\">\n",
       "      <th></th>\n",
       "      <th></th>\n",
       "      <th>GPA</th>\n",
       "      <th>Took110</th>\n",
       "    </tr>\n",
       "    <tr>\n",
       "      <th>Major</th>\n",
       "      <th>GradYear</th>\n",
       "      <th></th>\n",
       "      <th></th>\n",
       "    </tr>\n",
       "  </thead>\n",
       "  <tbody>\n",
       "    <tr>\n",
       "      <th rowspan=\"2\" valign=\"top\">CS</th>\n",
       "      <th>2023</th>\n",
       "      <td>3.50</td>\n",
       "      <td>1.0</td>\n",
       "    </tr>\n",
       "    <tr>\n",
       "      <th>2024</th>\n",
       "      <td>3.25</td>\n",
       "      <td>0.5</td>\n",
       "    </tr>\n",
       "    <tr>\n",
       "      <th rowspan=\"2\" valign=\"top\">EE</th>\n",
       "      <th>2022</th>\n",
       "      <td>3.90</td>\n",
       "      <td>0.0</td>\n",
       "    </tr>\n",
       "    <tr>\n",
       "      <th>2023</th>\n",
       "      <td>4.00</td>\n",
       "      <td>0.0</td>\n",
       "    </tr>\n",
       "  </tbody>\n",
       "</table>\n",
       "</div>"
      ],
      "text/plain": [
       "                 GPA  Took110\n",
       "Major GradYear               \n",
       "CS    2023      3.50      1.0\n",
       "      2024      3.25      0.5\n",
       "EE    2022      3.90      0.0\n",
       "      2023      4.00      0.0"
      ]
     },
     "execution_count": 47,
     "metadata": {},
     "output_type": "execute_result"
    }
   ],
   "source": [
    "df.groupby([\"Major\",\"GradYear\"]).mean()"
   ]
  },
  {
   "cell_type": "markdown",
   "metadata": {
    "id": "iYg-usBlWoi5",
    "slideshow": {
     "slide_type": "slide"
    }
   },
   "source": [
    "# Exercise\n",
    "\n",
    "Use groupby on the cars dataframe to find the average price for each model.  Try to only include the price information, and not the year."
   ]
  },
  {
   "cell_type": "code",
   "execution_count": 48,
   "metadata": {
    "id": "bLNsBKnFW843",
    "slideshow": {
     "slide_type": "-"
    }
   },
   "outputs": [],
   "source": [
    "cars = pd.DataFrame({\"Model\": [\"Fit\", \"Corolla\", \"Civic\", \"Fit\", \"Civic\",\n",
    "                             \"Corolla\",\"Civic\", \"Fit\", \"Corolla\"],\n",
    "                   \"Color\": [\"red\", \"blue\", \"red\", \"silver\", \"red\",\n",
    "                             \"blue\", \"silver\", \"red\", \"blue\"],\n",
    "                   \"Year\": [2009, 2010, 2009, 2011, 2013,\n",
    "                          2013, 2009, 2010, 2011],\n",
    "                   \"Price\": [3300, 3600, 3000, 4000, 4000,\n",
    "                             4000, 2000, 3000, 3000]})"
   ]
  },
  {
   "cell_type": "code",
   "execution_count": 49,
   "metadata": {
    "id": "0_XZ_wuUXGZH",
    "slideshow": {
     "slide_type": "slide"
    }
   },
   "outputs": [
    {
     "data": {
      "text/html": [
       "<div>\n",
       "<style scoped>\n",
       "    .dataframe tbody tr th:only-of-type {\n",
       "        vertical-align: middle;\n",
       "    }\n",
       "\n",
       "    .dataframe tbody tr th {\n",
       "        vertical-align: top;\n",
       "    }\n",
       "\n",
       "    .dataframe thead th {\n",
       "        text-align: right;\n",
       "    }\n",
       "</style>\n",
       "<table border=\"1\" class=\"dataframe\">\n",
       "  <thead>\n",
       "    <tr style=\"text-align: right;\">\n",
       "      <th></th>\n",
       "      <th>Price</th>\n",
       "    </tr>\n",
       "    <tr>\n",
       "      <th>Model</th>\n",
       "      <th></th>\n",
       "    </tr>\n",
       "  </thead>\n",
       "  <tbody>\n",
       "    <tr>\n",
       "      <th>Civic</th>\n",
       "      <td>3000.000000</td>\n",
       "    </tr>\n",
       "    <tr>\n",
       "      <th>Corolla</th>\n",
       "      <td>3533.333333</td>\n",
       "    </tr>\n",
       "    <tr>\n",
       "      <th>Fit</th>\n",
       "      <td>3433.333333</td>\n",
       "    </tr>\n",
       "  </tbody>\n",
       "</table>\n",
       "</div>"
      ],
      "text/plain": [
       "               Price\n",
       "Model               \n",
       "Civic    3000.000000\n",
       "Corolla  3533.333333\n",
       "Fit      3433.333333"
      ]
     },
     "execution_count": 49,
     "metadata": {},
     "output_type": "execute_result"
    }
   ],
   "source": [
    "cars[[\"Model\",\"Price\"]].groupby([\"Model\"]).mean()"
   ]
  },
  {
   "cell_type": "markdown",
   "metadata": {
    "id": "EINHMi9WRnIP",
    "slideshow": {
     "slide_type": "slide"
    }
   },
   "source": [
    "# Merging tables\n",
    "\n",
    "You can *join* tables on the basis of shared key values.  You need to pass the name of each table's column to join on, as left_on and right_on.  The join will create a table with rows that combine rows from each table, using the column to join on as the identity that links both tables."
   ]
  },
  {
   "cell_type": "code",
   "execution_count": 50,
   "metadata": {
    "id": "M06kX68bTWGl",
    "slideshow": {
     "slide_type": "-"
    }
   },
   "outputs": [
    {
     "data": {
      "text/html": [
       "<div>\n",
       "<style scoped>\n",
       "    .dataframe tbody tr th:only-of-type {\n",
       "        vertical-align: middle;\n",
       "    }\n",
       "\n",
       "    .dataframe tbody tr th {\n",
       "        vertical-align: top;\n",
       "    }\n",
       "\n",
       "    .dataframe thead th {\n",
       "        text-align: right;\n",
       "    }\n",
       "</style>\n",
       "<table border=\"1\" class=\"dataframe\">\n",
       "  <thead>\n",
       "    <tr style=\"text-align: right;\">\n",
       "      <th></th>\n",
       "      <th>Name</th>\n",
       "      <th>GPA</th>\n",
       "      <th>Major</th>\n",
       "    </tr>\n",
       "  </thead>\n",
       "  <tbody>\n",
       "    <tr>\n",
       "      <th>0</th>\n",
       "      <td>Alice</td>\n",
       "      <td>4.0</td>\n",
       "      <td>EE</td>\n",
       "    </tr>\n",
       "    <tr>\n",
       "      <th>1</th>\n",
       "      <td>Bob</td>\n",
       "      <td>3.5</td>\n",
       "      <td>CS</td>\n",
       "    </tr>\n",
       "    <tr>\n",
       "      <th>2</th>\n",
       "      <td>Chu</td>\n",
       "      <td>3.9</td>\n",
       "      <td>EE</td>\n",
       "    </tr>\n",
       "    <tr>\n",
       "      <th>3</th>\n",
       "      <td>Daisy</td>\n",
       "      <td>3.1</td>\n",
       "      <td>CS</td>\n",
       "    </tr>\n",
       "  </tbody>\n",
       "</table>\n",
       "</div>"
      ],
      "text/plain": [
       "    Name  GPA Major\n",
       "0  Alice  4.0    EE\n",
       "1    Bob  3.5    CS\n",
       "2    Chu  3.9    EE\n",
       "3  Daisy  3.1    CS"
      ]
     },
     "execution_count": 50,
     "metadata": {},
     "output_type": "execute_result"
    }
   ],
   "source": [
    "grade_df = pd.DataFrame({'Name': ['Alice', 'Bob', 'Chu', 'Daisy'],\n",
    "                    'GPA': [4.0, 3.5, 3.9, 3.1]})\n",
    "\n",
    "major_df = pd.DataFrame({'Name': ['Alice', 'Bob', 'Chu', 'Daisy'],\n",
    "                        'Major': ['EE', 'CS', 'EE', 'CS']})\n",
    "\n",
    "merged_df = grade_df.merge(major_df, left_on = 'Name',\n",
    "                           right_on = 'Name')\n",
    "merged_df"
   ]
  },
  {
   "cell_type": "markdown",
   "metadata": {
    "id": "U2sqiZG6Wt5Z",
    "slideshow": {
     "slide_type": "slide"
    }
   },
   "source": [
    "Now, it's possible that either one of the tables is missing some keys that the other has.  The default behavior is to ignore any rows that are missing from the other table, in both tables.  This is called an 'inner join.'  But, if you want some other kind of join, you can specify this in the \"how\" parameter.  An \"outer\" join creates rows for records that have either key, and a \"left\" or \"right\" join creates rows according to just the left table's or right table's keys."
   ]
  },
  {
   "cell_type": "code",
   "execution_count": 51,
   "metadata": {
    "id": "Q0cvMsFrXbIS",
    "slideshow": {
     "slide_type": "slide"
    }
   },
   "outputs": [
    {
     "data": {
      "text/html": [
       "<div>\n",
       "<style scoped>\n",
       "    .dataframe tbody tr th:only-of-type {\n",
       "        vertical-align: middle;\n",
       "    }\n",
       "\n",
       "    .dataframe tbody tr th {\n",
       "        vertical-align: top;\n",
       "    }\n",
       "\n",
       "    .dataframe thead th {\n",
       "        text-align: right;\n",
       "    }\n",
       "</style>\n",
       "<table border=\"1\" class=\"dataframe\">\n",
       "  <thead>\n",
       "    <tr style=\"text-align: right;\">\n",
       "      <th></th>\n",
       "      <th>Name</th>\n",
       "      <th>GPA</th>\n",
       "      <th>Major</th>\n",
       "    </tr>\n",
       "  </thead>\n",
       "  <tbody>\n",
       "    <tr>\n",
       "      <th>0</th>\n",
       "      <td>Alice</td>\n",
       "      <td>4.0</td>\n",
       "      <td>EE</td>\n",
       "    </tr>\n",
       "    <tr>\n",
       "      <th>1</th>\n",
       "      <td>Bob</td>\n",
       "      <td>3.5</td>\n",
       "      <td>CS</td>\n",
       "    </tr>\n",
       "    <tr>\n",
       "      <th>2</th>\n",
       "      <td>Chu</td>\n",
       "      <td>3.9</td>\n",
       "      <td>EE</td>\n",
       "    </tr>\n",
       "    <tr>\n",
       "      <th>3</th>\n",
       "      <td>Dominique</td>\n",
       "      <td>3.1</td>\n",
       "      <td>NaN</td>\n",
       "    </tr>\n",
       "    <tr>\n",
       "      <th>4</th>\n",
       "      <td>Daisy</td>\n",
       "      <td>NaN</td>\n",
       "      <td>CS</td>\n",
       "    </tr>\n",
       "  </tbody>\n",
       "</table>\n",
       "</div>"
      ],
      "text/plain": [
       "        Name  GPA Major\n",
       "0      Alice  4.0    EE\n",
       "1        Bob  3.5    CS\n",
       "2        Chu  3.9    EE\n",
       "3  Dominique  3.1   NaN\n",
       "4      Daisy  NaN    CS"
      ]
     },
     "execution_count": 51,
     "metadata": {},
     "output_type": "execute_result"
    }
   ],
   "source": [
    "# These two lists now differ in their D person\n",
    "\n",
    "grade_df = pd.DataFrame({'Name': ['Alice', 'Bob', 'Chu', 'Dominique'],\n",
    "                    'GPA': [4.0, 3.5, 3.9,3.1]})\n",
    "\n",
    "major_df = pd.DataFrame({'Name': ['Alice', 'Bob', 'Chu', 'Daisy'],\n",
    "                        'Major': ['EE', 'CS', 'EE', 'CS']})\n",
    "\n",
    "outer_merge = grade_df.merge(major_df, how=\"outer\",\n",
    "                             left_on='Name', right_on='Name')\n",
    "outer_merge"
   ]
  },
  {
   "cell_type": "code",
   "execution_count": 52,
   "metadata": {
    "id": "oy69AKoFX_yD",
    "slideshow": {
     "slide_type": "-"
    }
   },
   "outputs": [
    {
     "data": {
      "text/html": [
       "<div>\n",
       "<style scoped>\n",
       "    .dataframe tbody tr th:only-of-type {\n",
       "        vertical-align: middle;\n",
       "    }\n",
       "\n",
       "    .dataframe tbody tr th {\n",
       "        vertical-align: top;\n",
       "    }\n",
       "\n",
       "    .dataframe thead th {\n",
       "        text-align: right;\n",
       "    }\n",
       "</style>\n",
       "<table border=\"1\" class=\"dataframe\">\n",
       "  <thead>\n",
       "    <tr style=\"text-align: right;\">\n",
       "      <th></th>\n",
       "      <th>Name</th>\n",
       "      <th>GPA</th>\n",
       "      <th>Major</th>\n",
       "    </tr>\n",
       "  </thead>\n",
       "  <tbody>\n",
       "    <tr>\n",
       "      <th>0</th>\n",
       "      <td>Alice</td>\n",
       "      <td>4.0</td>\n",
       "      <td>EE</td>\n",
       "    </tr>\n",
       "    <tr>\n",
       "      <th>1</th>\n",
       "      <td>Bob</td>\n",
       "      <td>3.5</td>\n",
       "      <td>CS</td>\n",
       "    </tr>\n",
       "    <tr>\n",
       "      <th>2</th>\n",
       "      <td>Chu</td>\n",
       "      <td>3.9</td>\n",
       "      <td>EE</td>\n",
       "    </tr>\n",
       "  </tbody>\n",
       "</table>\n",
       "</div>"
      ],
      "text/plain": [
       "    Name  GPA Major\n",
       "0  Alice  4.0    EE\n",
       "1    Bob  3.5    CS\n",
       "2    Chu  3.9    EE"
      ]
     },
     "execution_count": 52,
     "metadata": {},
     "output_type": "execute_result"
    }
   ],
   "source": [
    "inner_merge = grade_df.merge(major_df, how=\"inner\",\n",
    "                             left_on='Name',right_on='Name') # also the default\n",
    "inner_merge"
   ]
  },
  {
   "cell_type": "code",
   "execution_count": 53,
   "metadata": {
    "id": "7std1gb1YM9Z",
    "slideshow": {
     "slide_type": "-"
    }
   },
   "outputs": [
    {
     "data": {
      "text/html": [
       "<div>\n",
       "<style scoped>\n",
       "    .dataframe tbody tr th:only-of-type {\n",
       "        vertical-align: middle;\n",
       "    }\n",
       "\n",
       "    .dataframe tbody tr th {\n",
       "        vertical-align: top;\n",
       "    }\n",
       "\n",
       "    .dataframe thead th {\n",
       "        text-align: right;\n",
       "    }\n",
       "</style>\n",
       "<table border=\"1\" class=\"dataframe\">\n",
       "  <thead>\n",
       "    <tr style=\"text-align: right;\">\n",
       "      <th></th>\n",
       "      <th>Name</th>\n",
       "      <th>GPA</th>\n",
       "      <th>Major</th>\n",
       "    </tr>\n",
       "  </thead>\n",
       "  <tbody>\n",
       "    <tr>\n",
       "      <th>0</th>\n",
       "      <td>Alice</td>\n",
       "      <td>4.0</td>\n",
       "      <td>EE</td>\n",
       "    </tr>\n",
       "    <tr>\n",
       "      <th>1</th>\n",
       "      <td>Bob</td>\n",
       "      <td>3.5</td>\n",
       "      <td>CS</td>\n",
       "    </tr>\n",
       "    <tr>\n",
       "      <th>2</th>\n",
       "      <td>Chu</td>\n",
       "      <td>3.9</td>\n",
       "      <td>EE</td>\n",
       "    </tr>\n",
       "    <tr>\n",
       "      <th>3</th>\n",
       "      <td>Dominique</td>\n",
       "      <td>3.1</td>\n",
       "      <td>NaN</td>\n",
       "    </tr>\n",
       "  </tbody>\n",
       "</table>\n",
       "</div>"
      ],
      "text/plain": [
       "        Name  GPA Major\n",
       "0      Alice  4.0    EE\n",
       "1        Bob  3.5    CS\n",
       "2        Chu  3.9    EE\n",
       "3  Dominique  3.1   NaN"
      ]
     },
     "execution_count": 53,
     "metadata": {},
     "output_type": "execute_result"
    }
   ],
   "source": [
    "left_merge = grade_df.merge(major_df, how=\"left\",\n",
    "                            left_on='Name',right_on='Name')\n",
    "left_merge"
   ]
  },
  {
   "cell_type": "markdown",
   "metadata": {
    "id": "xwC0D2XOPHK4",
    "slideshow": {
     "slide_type": "slide"
    }
   },
   "source": [
    "# Exercise\n",
    "\n",
    "If the two lists of keys to merge on are ['X', 'Y', 'Z'] and ['W', 'X', 'Y'], predict which keys are kept in an inner merge, outer merge, and right merge."
   ]
  },
  {
   "cell_type": "markdown",
   "metadata": {
    "id": "ttj3QqMPYL-2",
    "slideshow": {
     "slide_type": "slide"
    }
   },
   "source": [
    "# Missing values\n",
    "\n",
    "The values NaN (not a number), None, and pd.NA are all used for missing values in Pandas.  As a first pass to dealing with missing values, isna() returns True in exactly those places in the data where values are missing."
   ]
  },
  {
   "cell_type": "code",
   "execution_count": 54,
   "metadata": {
    "id": "JqKhMX6mftUB",
    "slideshow": {
     "slide_type": "-"
    }
   },
   "outputs": [
    {
     "data": {
      "text/html": [
       "<div>\n",
       "<style scoped>\n",
       "    .dataframe tbody tr th:only-of-type {\n",
       "        vertical-align: middle;\n",
       "    }\n",
       "\n",
       "    .dataframe tbody tr th {\n",
       "        vertical-align: top;\n",
       "    }\n",
       "\n",
       "    .dataframe thead th {\n",
       "        text-align: right;\n",
       "    }\n",
       "</style>\n",
       "<table border=\"1\" class=\"dataframe\">\n",
       "  <thead>\n",
       "    <tr style=\"text-align: right;\">\n",
       "      <th></th>\n",
       "      <th>Name</th>\n",
       "      <th>GPA</th>\n",
       "      <th>Major</th>\n",
       "    </tr>\n",
       "  </thead>\n",
       "  <tbody>\n",
       "    <tr>\n",
       "      <th>0</th>\n",
       "      <td>False</td>\n",
       "      <td>False</td>\n",
       "      <td>False</td>\n",
       "    </tr>\n",
       "    <tr>\n",
       "      <th>1</th>\n",
       "      <td>False</td>\n",
       "      <td>False</td>\n",
       "      <td>False</td>\n",
       "    </tr>\n",
       "    <tr>\n",
       "      <th>2</th>\n",
       "      <td>False</td>\n",
       "      <td>False</td>\n",
       "      <td>False</td>\n",
       "    </tr>\n",
       "    <tr>\n",
       "      <th>3</th>\n",
       "      <td>False</td>\n",
       "      <td>False</td>\n",
       "      <td>True</td>\n",
       "    </tr>\n",
       "    <tr>\n",
       "      <th>4</th>\n",
       "      <td>False</td>\n",
       "      <td>True</td>\n",
       "      <td>False</td>\n",
       "    </tr>\n",
       "  </tbody>\n",
       "</table>\n",
       "</div>"
      ],
      "text/plain": [
       "    Name    GPA  Major\n",
       "0  False  False  False\n",
       "1  False  False  False\n",
       "2  False  False  False\n",
       "3  False  False   True\n",
       "4  False   True  False"
      ]
     },
     "execution_count": 54,
     "metadata": {},
     "output_type": "execute_result"
    }
   ],
   "source": [
    "outer_merge.isna()"
   ]
  },
  {
   "cell_type": "markdown",
   "metadata": {
    "id": "1zbHJ8n1f2JP",
    "slideshow": {
     "slide_type": "slide"
    }
   },
   "source": [
    "One reasonable response is to drop the missing value rows altogether.  The dropna() method does this."
   ]
  },
  {
   "cell_type": "code",
   "execution_count": 55,
   "metadata": {
    "id": "KDUYjE17f_wH",
    "slideshow": {
     "slide_type": "-"
    }
   },
   "outputs": [
    {
     "data": {
      "text/html": [
       "<div>\n",
       "<style scoped>\n",
       "    .dataframe tbody tr th:only-of-type {\n",
       "        vertical-align: middle;\n",
       "    }\n",
       "\n",
       "    .dataframe tbody tr th {\n",
       "        vertical-align: top;\n",
       "    }\n",
       "\n",
       "    .dataframe thead th {\n",
       "        text-align: right;\n",
       "    }\n",
       "</style>\n",
       "<table border=\"1\" class=\"dataframe\">\n",
       "  <thead>\n",
       "    <tr style=\"text-align: right;\">\n",
       "      <th></th>\n",
       "      <th>Name</th>\n",
       "      <th>GPA</th>\n",
       "      <th>Major</th>\n",
       "    </tr>\n",
       "  </thead>\n",
       "  <tbody>\n",
       "    <tr>\n",
       "      <th>0</th>\n",
       "      <td>Alice</td>\n",
       "      <td>4.0</td>\n",
       "      <td>EE</td>\n",
       "    </tr>\n",
       "    <tr>\n",
       "      <th>1</th>\n",
       "      <td>Bob</td>\n",
       "      <td>3.5</td>\n",
       "      <td>CS</td>\n",
       "    </tr>\n",
       "    <tr>\n",
       "      <th>2</th>\n",
       "      <td>Chu</td>\n",
       "      <td>3.9</td>\n",
       "      <td>EE</td>\n",
       "    </tr>\n",
       "  </tbody>\n",
       "</table>\n",
       "</div>"
      ],
      "text/plain": [
       "    Name  GPA Major\n",
       "0  Alice  4.0    EE\n",
       "1    Bob  3.5    CS\n",
       "2    Chu  3.9    EE"
      ]
     },
     "execution_count": 55,
     "metadata": {},
     "output_type": "execute_result"
    }
   ],
   "source": [
    "inner_merge = outer_merge.dropna()\n",
    "inner_merge"
   ]
  },
  {
   "cell_type": "markdown",
   "metadata": {
    "id": "a5erN0AKgYwB",
    "slideshow": {
     "slide_type": "slide"
    }
   },
   "source": [
    "Another reasonable response would be to fill the missing data with default values.  The fillna() method does this.  For individual entries, you could set them by hand, but fillna() will work across the DataFrame or Series.  (Recall that columns are Series, and you can access them with dot operators.)"
   ]
  },
  {
   "cell_type": "code",
   "execution_count": null,
   "metadata": {
    "id": "-rFoOCv6g7dO",
    "slideshow": {
     "slide_type": "-"
    }
   },
   "outputs": [],
   "source": [
    "outer_merge.GPA = outer_merge.GPA.fillna(0)\n",
    "outer_merge.Major = outer_merge.Major.fillna(\"Undeclared\")\n",
    "outer_merge"
   ]
  },
  {
   "cell_type": "markdown",
   "metadata": {
    "id": "pQ84Uah0g6b8",
    "slideshow": {
     "slide_type": "slide"
    }
   },
   "source": [
    "There are further ways to interpolate the data for missing values(such as passing a mean() to fillna), but dropping the values or \n",
    "inserting default values will be what you want in most cases.  See the [Pandas documentation](https://pandas.pydata.org/pandas-docs/stable/user_guide/missing_data.html) for more on how to interpolate values."
   ]
  },
  {
   "cell_type": "markdown",
   "metadata": {
    "id": "gKzzHhOJRT2h",
    "slideshow": {
     "slide_type": "slide"
    }
   },
   "source": [
    "# Assorted Other Pandas Functionality\n",
    "\n",
    "The sort_values() function will sort by a column's values -- good for seeing some of the most extreme values.  The \"by\" argument gives the column to sort by.  Sorting in ascending order is the default.  If the result is big, you can run this through a head() command."
   ]
  },
  {
   "cell_type": "code",
   "execution_count": 56,
   "metadata": {
    "id": "ZjUksrlARklu",
    "slideshow": {
     "slide_type": "-"
    }
   },
   "outputs": [
    {
     "data": {
      "text/html": [
       "<div>\n",
       "<style scoped>\n",
       "    .dataframe tbody tr th:only-of-type {\n",
       "        vertical-align: middle;\n",
       "    }\n",
       "\n",
       "    .dataframe tbody tr th {\n",
       "        vertical-align: top;\n",
       "    }\n",
       "\n",
       "    .dataframe thead th {\n",
       "        text-align: right;\n",
       "    }\n",
       "</style>\n",
       "<table border=\"1\" class=\"dataframe\">\n",
       "  <thead>\n",
       "    <tr style=\"text-align: right;\">\n",
       "      <th></th>\n",
       "      <th>Name</th>\n",
       "      <th>GPA</th>\n",
       "    </tr>\n",
       "  </thead>\n",
       "  <tbody>\n",
       "    <tr>\n",
       "      <th>0</th>\n",
       "      <td>Alice</td>\n",
       "      <td>4.0</td>\n",
       "    </tr>\n",
       "    <tr>\n",
       "      <th>2</th>\n",
       "      <td>Chu</td>\n",
       "      <td>3.9</td>\n",
       "    </tr>\n",
       "    <tr>\n",
       "      <th>1</th>\n",
       "      <td>Bob</td>\n",
       "      <td>3.5</td>\n",
       "    </tr>\n",
       "    <tr>\n",
       "      <th>3</th>\n",
       "      <td>Dominique</td>\n",
       "      <td>3.1</td>\n",
       "    </tr>\n",
       "  </tbody>\n",
       "</table>\n",
       "</div>"
      ],
      "text/plain": [
       "        Name  GPA\n",
       "0      Alice  4.0\n",
       "2        Chu  3.9\n",
       "1        Bob  3.5\n",
       "3  Dominique  3.1"
      ]
     },
     "execution_count": 56,
     "metadata": {},
     "output_type": "execute_result"
    }
   ],
   "source": [
    "df = pd.DataFrame({'Name': ['Alice', 'Bob', 'Chu', 'Dominique'],\n",
    "                         'GPA': [4.0, 3.5, 3.9,3.1],\n",
    "                         'Major': ['EE', 'CS', 'EE', 'CS']})\n",
    "\n",
    "df[[\"Name\",\"GPA\"]].sort_values(by=\"GPA\",ascending=False)"
   ]
  },
  {
   "cell_type": "markdown",
   "metadata": {
    "id": "T0d2OyVDSx1T",
    "slideshow": {
     "slide_type": "slide"
    }
   },
   "source": [
    "You can insert a new column in the table that is computed from another column.  Keeping computations around in the table can help troubleshooting later, or reveal patterns you didn't expect."
   ]
  },
  {
   "cell_type": "code",
   "execution_count": 57,
   "metadata": {
    "id": "5VFOu_aeSwWM",
    "slideshow": {
     "slide_type": "-"
    }
   },
   "outputs": [
    {
     "data": {
      "text/html": [
       "<div>\n",
       "<style scoped>\n",
       "    .dataframe tbody tr th:only-of-type {\n",
       "        vertical-align: middle;\n",
       "    }\n",
       "\n",
       "    .dataframe tbody tr th {\n",
       "        vertical-align: top;\n",
       "    }\n",
       "\n",
       "    .dataframe thead th {\n",
       "        text-align: right;\n",
       "    }\n",
       "</style>\n",
       "<table border=\"1\" class=\"dataframe\">\n",
       "  <thead>\n",
       "    <tr style=\"text-align: right;\">\n",
       "      <th></th>\n",
       "      <th>Name</th>\n",
       "      <th>GPA</th>\n",
       "      <th>Major</th>\n",
       "      <th>Above 3.5</th>\n",
       "    </tr>\n",
       "  </thead>\n",
       "  <tbody>\n",
       "    <tr>\n",
       "      <th>0</th>\n",
       "      <td>Alice</td>\n",
       "      <td>4.0</td>\n",
       "      <td>EE</td>\n",
       "      <td>True</td>\n",
       "    </tr>\n",
       "    <tr>\n",
       "      <th>1</th>\n",
       "      <td>Bob</td>\n",
       "      <td>3.5</td>\n",
       "      <td>CS</td>\n",
       "      <td>True</td>\n",
       "    </tr>\n",
       "    <tr>\n",
       "      <th>2</th>\n",
       "      <td>Chu</td>\n",
       "      <td>3.9</td>\n",
       "      <td>EE</td>\n",
       "      <td>True</td>\n",
       "    </tr>\n",
       "    <tr>\n",
       "      <th>3</th>\n",
       "      <td>Dominique</td>\n",
       "      <td>3.1</td>\n",
       "      <td>CS</td>\n",
       "      <td>False</td>\n",
       "    </tr>\n",
       "  </tbody>\n",
       "</table>\n",
       "</div>"
      ],
      "text/plain": [
       "        Name  GPA Major  Above 3.5\n",
       "0      Alice  4.0    EE       True\n",
       "1        Bob  3.5    CS       True\n",
       "2        Chu  3.9    EE       True\n",
       "3  Dominique  3.1    CS      False"
      ]
     },
     "execution_count": 57,
     "metadata": {},
     "output_type": "execute_result"
    }
   ],
   "source": [
    "df[\"Above 3.5\"] = df[\"GPA\"] >= 3.5\n",
    "df"
   ]
  },
  {
   "cell_type": "markdown",
   "metadata": {
    "id": "0hUXbtyPTZC9",
    "slideshow": {
     "slide_type": "subslide"
    }
   },
   "source": [
    "If it's easier to read the table with the new column next to another specific column, you can use insert() to set the column index.  Its arguments are the column index, column title, and new column."
   ]
  },
  {
   "cell_type": "code",
   "execution_count": 58,
   "metadata": {
    "id": "Sk0CYDa_R570",
    "slideshow": {
     "slide_type": "-"
    }
   },
   "outputs": [
    {
     "data": {
      "text/html": [
       "<div>\n",
       "<style scoped>\n",
       "    .dataframe tbody tr th:only-of-type {\n",
       "        vertical-align: middle;\n",
       "    }\n",
       "\n",
       "    .dataframe tbody tr th {\n",
       "        vertical-align: top;\n",
       "    }\n",
       "\n",
       "    .dataframe thead th {\n",
       "        text-align: right;\n",
       "    }\n",
       "</style>\n",
       "<table border=\"1\" class=\"dataframe\">\n",
       "  <thead>\n",
       "    <tr style=\"text-align: right;\">\n",
       "      <th></th>\n",
       "      <th>Name</th>\n",
       "      <th>GPA</th>\n",
       "      <th>Above 3.8</th>\n",
       "      <th>Major</th>\n",
       "      <th>Above 3.5</th>\n",
       "    </tr>\n",
       "  </thead>\n",
       "  <tbody>\n",
       "    <tr>\n",
       "      <th>0</th>\n",
       "      <td>Alice</td>\n",
       "      <td>4.0</td>\n",
       "      <td>True</td>\n",
       "      <td>EE</td>\n",
       "      <td>True</td>\n",
       "    </tr>\n",
       "    <tr>\n",
       "      <th>1</th>\n",
       "      <td>Bob</td>\n",
       "      <td>3.5</td>\n",
       "      <td>False</td>\n",
       "      <td>CS</td>\n",
       "      <td>True</td>\n",
       "    </tr>\n",
       "    <tr>\n",
       "      <th>2</th>\n",
       "      <td>Chu</td>\n",
       "      <td>3.9</td>\n",
       "      <td>True</td>\n",
       "      <td>EE</td>\n",
       "      <td>True</td>\n",
       "    </tr>\n",
       "    <tr>\n",
       "      <th>3</th>\n",
       "      <td>Dominique</td>\n",
       "      <td>3.1</td>\n",
       "      <td>False</td>\n",
       "      <td>CS</td>\n",
       "      <td>False</td>\n",
       "    </tr>\n",
       "  </tbody>\n",
       "</table>\n",
       "</div>"
      ],
      "text/plain": [
       "        Name  GPA  Above 3.8 Major  Above 3.5\n",
       "0      Alice  4.0       True    EE       True\n",
       "1        Bob  3.5      False    CS       True\n",
       "2        Chu  3.9       True    EE       True\n",
       "3  Dominique  3.1      False    CS      False"
      ]
     },
     "execution_count": 58,
     "metadata": {},
     "output_type": "execute_result"
    }
   ],
   "source": [
    "df.insert(2, \"Above 3.8\", df[\"GPA\"] >= 3.8)\n",
    "df"
   ]
  }
 ],
 "metadata": {
  "celltoolbar": "Slideshow",
  "colab": {
   "name": "Lecture31AdvancedPandas.ipynb",
   "provenance": []
  },
  "kernelspec": {
   "display_name": "Python 3",
   "language": "python",
   "name": "python3"
  },
  "language_info": {
   "codemirror_mode": {
    "name": "ipython",
    "version": 3
   },
   "file_extension": ".py",
   "mimetype": "text/x-python",
   "name": "python",
   "nbconvert_exporter": "python",
   "pygments_lexer": "ipython3",
   "version": "3.8.8"
  },
  "rise": {
   "scroll": true
  }
 },
 "nbformat": 4,
 "nbformat_minor": 1
}
