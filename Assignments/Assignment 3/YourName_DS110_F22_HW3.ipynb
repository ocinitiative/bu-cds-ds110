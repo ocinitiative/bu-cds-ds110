{
  "nbformat": 4,
  "nbformat_minor": 0,
  "metadata": {
    "colab": {
      "name": "YourName_DS110_F22_HW3.ipynb",
      "provenance": [],
      "collapsed_sections": []
    },
    "kernelspec": {
      "name": "python3",
      "display_name": "Python 3"
    },
    "language_info": {
      "name": "python"
    }
  },
  "cells": [
    {
      "cell_type": "markdown",
      "source": [
        "# Problem 1:  Basic functions (41 pts:  6,7,7,7,6,8)"
      ],
      "metadata": {
        "id": "EldL0furZti2"
      }
    },
    {
      "cell_type": "markdown",
      "source": [
        "For each of the following subproblems, you also need to write tests.  In square brackets, the inputs of the tests will be described.  Print the output of the function on the given inputs and check that the output matches your expectations."
      ],
      "metadata": {
        "id": "OxHU9jKmcTBL"
      }
    },
    {
      "cell_type": "markdown",
      "source": [
        "a, 6pts) Write a function minion_name() that takes a string as an argument and returns True only if the string is \"Kevin\", \"Stuart\", or \"Bob\".  (These are the three protagonists of the movie *Minions*.) [2 tests:  input \"Kevin\", input \"Alice\"]"
      ],
      "metadata": {
        "id": "g_ia2QTGZ8hP"
      }
    },
    {
      "cell_type": "code",
      "execution_count": null,
      "metadata": {
        "id": "cPxVohqaYYGh"
      },
      "outputs": [],
      "source": [
        "# TODO minion_name()"
      ]
    },
    {
      "cell_type": "markdown",
      "source": [
        "b, 7 pts) both_found() takes two items *a* and *b* and one list *l* as input, and returns True if both items *a* and *b* are in list *l*, false otherwise.  [3 tests:  both in the list, a in the list but not b, b in the list but not a.]"
      ],
      "metadata": {
        "id": "1Neg10E1e7fL"
      }
    },
    {
      "cell_type": "code",
      "source": [
        "# TODO both_found()"
      ],
      "metadata": {
        "id": "9vVAMkgshvef"
      },
      "execution_count": null,
      "outputs": []
    },
    {
      "cell_type": "markdown",
      "source": [
        "c, 7 pts) Write a function total_price() that takes a single price and a list of quantities, and returns the sum of price*quantity over all the quantities. [2 tests:  3,[1,2,3] should return 18; 10,[] should return 0.]"
      ],
      "metadata": {
        "id": "ds-ep0aFbjJj"
      }
    },
    {
      "cell_type": "code",
      "source": [
        "# TODO total_price()\n"
      ],
      "metadata": {
        "id": "wX8Xm79Zduje"
      },
      "execution_count": null,
      "outputs": []
    },
    {
      "cell_type": "markdown",
      "source": [
        "d, 7 pts) is_square():  given an input that is necessarily a numpy array, return True only if the array is square (its number of rows equals the number of columns).  [2 tests:  np.array([[1, 1],[2,2]]), np.array([[1,1,1],[2,2,2]])]"
      ],
      "metadata": {
        "id": "7jt_UQTRkfaK"
      }
    },
    {
      "cell_type": "code",
      "source": [
        "# TODO is_square()"
      ],
      "metadata": {
        "id": "MwIn18fal1SH"
      },
      "execution_count": null,
      "outputs": []
    },
    {
      "cell_type": "markdown",
      "source": [
        "e, 6 pts) Write a function maybe_sum() that takes a string and a list as its two arguments. If the string argument is the all lowercase string 'ignore', return 0.  Otherwise, return the sum of the list (which you can assume contains all integers).  You should not sum the list if it is to be ignored; you should return before then in that case. [2 tests:  'ignore', [1,2,3,4] should return 0; 'keep', [1,2,3,4] should return 10.] "
      ],
      "metadata": {
        "id": "cNCAXx9ZFR54"
      }
    },
    {
      "cell_type": "code",
      "source": [
        "# TODO maybe_sum()\n",
        "  "
      ],
      "metadata": {
        "id": "4yPLNwhjGsmb"
      },
      "execution_count": null,
      "outputs": []
    },
    {
      "cell_type": "markdown",
      "source": [
        "f, 8 pts) Write a function find_all() that takes an input *to_find* and list of numbers, and returns (with two return values) the number of times *to_find* appears in the list, and True if and only if *all* the values in the list match.  (Hint:  Consider using a variable *found_mismatch* that is set to True if a value that's doesn't match is found.)  [2 tests:  2,[2,2,2] returns (3, True); 2, [1,0,2] returns (1,False).]\n",
        "\n"
      ],
      "metadata": {
        "id": "79VROSvDm50r"
      }
    },
    {
      "cell_type": "code",
      "source": [
        "# TODO find_all()"
      ],
      "metadata": {
        "id": "JjoDsaExeSbv"
      },
      "execution_count": null,
      "outputs": []
    },
    {
      "cell_type": "markdown",
      "source": [
        "# Problem 2:  Map and Filter (11 pts:  5,6)\n",
        "\n",
        "Each function below uses at least one of **map** or **filter** to accomplish its results.  Given a description of what the map- or filter-using function does, write the helper function that completes the function.  For example, if add_2_to_all() adds 2 to everything in a list with a map, then you would complete add2() which adds 2 to a single value."
      ],
      "metadata": {
        "id": "p-GHoakeL9k3"
      }
    },
    {
      "cell_type": "markdown",
      "source": [
        "a, 5pts) Given a list of integers, function filter_zeros() returns the same list but with all zero values missing."
      ],
      "metadata": {
        "id": "jVGCkAssNdZZ"
      }
    },
    {
      "cell_type": "code",
      "source": [
        "def filter_zeros(lst):\n",
        "  return list(filter(not_zero, lst))\n",
        "\n",
        "# TODO not_zero()\n",
        "\n",
        "filter_zeros([2,3,0,-2,5])"
      ],
      "metadata": {
        "id": "XnNL_pVwNcZh"
      },
      "execution_count": null,
      "outputs": []
    },
    {
      "cell_type": "markdown",
      "source": [
        "b,6pts) Function clip_all() clips each value in the list to the range [0,255] - that is, values below this range are turned into 0, values above 255 should become 255, and all other values should be unchanged."
      ],
      "metadata": {
        "id": "_A_O-BWUOICH"
      }
    },
    {
      "cell_type": "code",
      "source": [
        "def clip_all(lst):\n",
        "  return list(map(clip,lst))\n",
        "\n",
        "# TODO clip()\n",
        "\n",
        "print(clip_all([256,-1,5]))"
      ],
      "metadata": {
        "id": "Xal2pbjXPUxz"
      },
      "execution_count": null,
      "outputs": []
    },
    {
      "cell_type": "markdown",
      "source": [
        "# Problem 3:  Second place (8 pts)\n",
        "\n",
        "Write a function second() that takes a list of integers as input and returns the second largest value in the list.  (Hint:  Sorting the list with sort() is allowed.)"
      ],
      "metadata": {
        "id": "KJa-GKCUgo62"
      }
    },
    {
      "cell_type": "code",
      "source": [
        "# TODO second()"
      ],
      "metadata": {
        "id": "Fwd9DkhCkBvT"
      },
      "execution_count": null,
      "outputs": []
    }
  ]
}