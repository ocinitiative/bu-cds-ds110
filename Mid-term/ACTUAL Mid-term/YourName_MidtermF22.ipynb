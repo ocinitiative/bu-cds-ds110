{
  "cells": [
    {
      "cell_type": "markdown",
      "metadata": {
        "id": "6OPeWm17b3El"
      },
      "source": [
        "# Midterm - DS 110 Fall 2022"
      ]
    },
    {
      "cell_type": "markdown",
      "metadata": {
        "id": "88hYvBbg-1aa"
      },
      "source": [
        "**For this midterm, you may refer to the Internet or your notes, but you must add a comment to your answer citing the source(s) that helped you.  This includes using the lecture notes.  Include a URL for a web source or the number of the lecture for lecture materials.  Failure to cite sources could result in point penalties or, in extreme cases, an academic integrity case.**\n",
        "\n",
        "**You also may not collaborate with other students.**\n",
        "\n",
        "**The deadline is 3:35pm on Thursday November 3.**"
      ]
    },
    {
      "cell_type": "markdown",
      "metadata": {
        "id": "WKnqomRCb_hQ"
      },
      "source": [
        "## 1) Loops (15 points)\n",
        "\n",
        "Write a function countdowns() that takes a list of integers as its sole argument.  The function should then print a \"countdown\" for each item in the list, starting from that number and ending in 0, with one number per line.  For example, if the input were [3, 4, 2], then the output would be:"
      ]
    },
    {
      "cell_type": "code",
      "execution_count": null,
      "metadata": {
        "id": "trWcZWJRq_vO"
      },
      "outputs": [],
      "source": [
        "3\n",
        "2\n",
        "1\n",
        "0\n",
        "4\n",
        "3\n",
        "2\n",
        "1\n",
        "0\n",
        "2\n",
        "1\n",
        "0"
      ]
    },
    {
      "cell_type": "markdown",
      "metadata": {
        "id": "IJ8EBkWBrZ5i"
      },
      "source": [
        "The function can return void."
      ]
    },
    {
      "cell_type": "code",
      "execution_count": null,
      "metadata": {
        "id": "cRoQ6Ls9rI-L"
      },
      "outputs": [],
      "source": [
        "# def countdowns(lst): TODO"
      ]
    },
    {
      "cell_type": "code",
      "execution_count": null,
      "metadata": {
        "id": "NnoyO1yFrekf"
      },
      "outputs": [],
      "source": [
        "# Test\n",
        "countdowns([3,4,2])"
      ]
    },
    {
      "cell_type": "markdown",
      "metadata": {
        "id": "UGMYw5zdc_SR"
      },
      "source": [
        "## 2) Dictionaries (10 points)\n",
        "\n",
        "Write a function max_dict_merge() that takes two dictionaries as arguments and returns a third dictionary that is distinct from the other two (don't modify the input dictionaries).  If a key is in one of the dictionaries but not the other, that key should have the same value it had in its old dictionary in the new one.  But if the key was in both dictionaries, the new value in the new dictionary should be the max of the old values.  For example, max_dict_merge({'a':2,'b':3}, {'b':4,'c':5}) creates the new dictionary {'a':2,'b':4,'c':5}."
      ]
    },
    {
      "cell_type": "code",
      "execution_count": null,
      "metadata": {
        "id": "8KRbvnhivdEc"
      },
      "outputs": [],
      "source": [
        "# def max_dict_merge(d1, d2): TODO"
      ]
    },
    {
      "cell_type": "code",
      "execution_count": null,
      "metadata": {
        "id": "_LQI_X57wHc5"
      },
      "outputs": [],
      "source": [
        "# Test\n",
        "max_dict_merge({'a':2,'b':3}, {'b':4,'c':5})"
      ]
    },
    {
      "cell_type": "markdown",
      "metadata": {
        "id": "QQnckno-dDEC"
      },
      "source": [
        "## 3) DataFrames (10 points)"
      ]
    },
    {
      "cell_type": "markdown",
      "metadata": {
        "id": "DNtMbmtn4zqs"
      },
      "source": [
        "a) Using the file genre_region_totals.csv, write code that prints the video game genre that sold the most worldwide.  (Note that \"Worldwide\" is a possible value for the region column.)"
      ]
    },
    {
      "cell_type": "code",
      "execution_count": null,
      "metadata": {
        "id": "HwNYiONn2bGC"
      },
      "outputs": [],
      "source": [
        "# Google colab only\n",
        "from google.colab import files\n",
        "import io\n",
        "\n",
        "uploaded = files.upload() # pick genre_region_totals.csv"
      ]
    },
    {
      "cell_type": "code",
      "execution_count": null,
      "metadata": {
        "id": "GRpVa14c354-"
      },
      "outputs": [],
      "source": [
        "import pandas as pd\n",
        "\n",
        "df = pd.read_csv('genre_region_totals.csv', index_col = 'genre')"
      ]
    },
    {
      "cell_type": "code",
      "execution_count": null,
      "metadata": {
        "id": "-5RGPcpd4iT5"
      },
      "outputs": [],
      "source": [
        "df.head()"
      ]
    },
    {
      "cell_type": "code",
      "execution_count": null,
      "metadata": {
        "id": "WW7_9rYN4--l"
      },
      "outputs": [],
      "source": [
        "# a) TODO"
      ]
    },
    {
      "cell_type": "markdown",
      "metadata": {
        "id": "rVG9691TdLjY"
      },
      "source": [
        "b) Now write code to print the \"Puzzle\" game sales in \"North America\".  (Hint: Your last step should be a call to loc[].)  The file has the sales records in millions, and you can keep them in that format."
      ]
    },
    {
      "cell_type": "code",
      "execution_count": null,
      "metadata": {
        "id": "TuKS3v03dLjZ"
      },
      "outputs": [],
      "source": [
        "# b) TODO"
      ]
    },
    {
      "cell_type": "markdown",
      "metadata": {
        "id": "gsja4XBndKel"
      },
      "source": [
        "## 4) Objects (15 points)"
      ]
    },
    {
      "cell_type": "markdown",
      "metadata": {
        "id": "DBigGbYt7Bfl"
      },
      "source": [
        "Write a class Transaction that contains fields for a string name of the Transaction and a floating point amount of the Transaction.\n",
        "\n",
        "* Write a constructor for this class that takes the name and amount as arguments and initializes the fields with those values.\n",
        "* Write a method sum() that takes the present Transaction and another transaction (an argument) and returns the sum of their two values.  If the argument isn't a Transaction, throw a ValueError.\n",
        "* Write a function that isn't a method, sum_all(), that takes a list of Transactions as an argument, and returns their total sum. (You don't need to check the types of the items in the list.)"
      ]
    },
    {
      "cell_type": "code",
      "execution_count": null,
      "metadata": {
        "id": "qvff7pex9xK1"
      },
      "outputs": [],
      "source": [
        "# class Transaction:  TODO"
      ]
    },
    {
      "cell_type": "code",
      "execution_count": null,
      "metadata": {
        "id": "GbxbStQE-VbW"
      },
      "outputs": [],
      "source": [
        "t = Transaction(\"Lunch\", 12.99)\n",
        "t2 = Transaction(\"Dinner\", 18.99)\n",
        "print(t.sum(t2)) # Prints roughly 31.98\n",
        "print(sum_all([t,t2])) # Also prints roughly 31.98"
      ]
    },
    {
      "cell_type": "code",
      "execution_count": null,
      "metadata": {
        "id": "qoiqDJfg-5Wf"
      },
      "outputs": [],
      "source": [
        "t.sum(2) # raise ValueError"
      ]
    },
    {
      "cell_type": "markdown",
      "metadata": {
        "id": "lmM4KbsBdSW6"
      },
      "source": [
        "## 5) Recursion (10 points)"
      ]
    },
    {
      "cell_type": "markdown",
      "metadata": {
        "id": "L6h1o1g5A58d"
      },
      "source": [
        "Write a recursive function tree_max() that takes a binary tree as an argument and returns the largest value in the tree.  (Note that it is not a binary *search* tree, so the largest value could be anywhere in the tree.)  Hint:  you could consider the value of None branches to be negative infinity, float('-inf')."
      ]
    },
    {
      "cell_type": "code",
      "execution_count": null,
      "metadata": {
        "id": "NVg3ihUtb2F6"
      },
      "outputs": [],
      "source": [
        "class BinaryTree:\n",
        "  def __init__(self, left, right, val):\n",
        "    self.left = left\n",
        "    self.right = right\n",
        "    self.val = val\n",
        "\n",
        "small_tree = BinaryTree(BinaryTree(None,None,3), BinaryTree(None,None,2), 1)\n",
        "larger_tree = BinaryTree(BinaryTree(None,None,4), small_tree, 5)"
      ]
    },
    {
      "cell_type": "code",
      "execution_count": null,
      "metadata": {
        "id": "ZIStK97bBxpR"
      },
      "outputs": [],
      "source": [
        "# def tree_max(tree):  TODO"
      ]
    },
    {
      "cell_type": "code",
      "execution_count": null,
      "metadata": {
        "id": "CAfLnVnHCLpj"
      },
      "outputs": [],
      "source": [
        "tree_max(small_tree) # Should return 3"
      ]
    },
    {
      "cell_type": "code",
      "execution_count": null,
      "metadata": {
        "id": "QTXwbcuFCh82"
      },
      "outputs": [],
      "source": [
        "tree_max(larger_tree) # Should return 5"
      ]
    }
  ],
  "metadata": {
    "colab": {
      "collapsed_sections": [],
      "provenance": []
    },
    "kernelspec": {
      "display_name": "Python 3.11.0a5 64-bit",
      "language": "python",
      "name": "python3"
    },
    "language_info": {
      "codemirror_mode": {
        "name": "ipython",
        "version": 3
      },
      "file_extension": ".py",
      "mimetype": "text/x-python",
      "name": "python",
      "nbconvert_exporter": "python",
      "pygments_lexer": "ipython3",
      "version": "3.11.0"
    },
    "vscode": {
      "interpreter": {
        "hash": "1a1af0ee75eeea9e2e1ee996c87e7a2b11a0bebd85af04bb136d915cefc0abce"
      }
    }
  },
  "nbformat": 4,
  "nbformat_minor": 0
}
