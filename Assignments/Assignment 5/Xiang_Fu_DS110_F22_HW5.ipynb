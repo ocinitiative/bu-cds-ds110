{
  "nbformat": 4,
  "nbformat_minor": 0,
  "metadata": {
    "colab": {
      "provenance": [],
      "collapsed_sections": []
    },
    "kernelspec": {
      "name": "python3",
      "display_name": "Python 3"
    },
    "language_info": {
      "name": "python"
    }
  },
  "cells": [
    {
      "cell_type": "markdown",
      "source": [
        "# HW5 (60 points possible)"
      ],
      "metadata": {
        "id": "4QjxoHMoAqof"
      }
    },
    {
      "cell_type": "markdown",
      "source": [
        "Also needs Pokemon.csv, available from the same place you downloaded this file."
      ],
      "metadata": {
        "id": "wWuBjlYtCnEZ"
      }
    },
    {
      "cell_type": "markdown",
      "source": [
        "# Problem 1:  String Validation (30 pts:  6,6,8,10)"
      ],
      "metadata": {
        "id": "Fe8cg3NO_K6X"
      }
    },
    {
      "cell_type": "markdown",
      "source": [
        "Data validation is the practice of checking that the data conforms to expectations - values that should be numbers are numbers, strings don't have any extra whitespace, and so on.  For each problem, unless otherwise noted, write a function that takes a string as an argument and returns True or False based on whether it conforms to the expectations in the problem description."
      ],
      "metadata": {
        "id": "5WYQ5DeAGXLP"
      }
    },
    {
      "cell_type": "markdown",
      "source": [
        "a, 6pts) check_alpha_or_digit():  True if the string is composed only of lowercase or uppercase letters *or* if the string is composed entirely of numerical digits (a mix of the two returns False)."
      ],
      "metadata": {
        "id": "T62DxPYpHSql"
      }
    },
    {
      "cell_type": "code",
      "source": [
        "# TODO check_alpha_or_digit()\n",
        "\n",
        "def check_alpha_or_digit(some_string):\n",
        "  if some_string.isalpha():\n",
        "      return True\n",
        "  elif some_string.isdigit():\n",
        "      return True\n",
        "  else:\n",
        "      return False"
      ],
      "metadata": {
        "id": "ch2PV5cFHhu8"
      },
      "execution_count": 7,
      "outputs": []
    },
    {
      "cell_type": "code",
      "source": [
        "print(check_alpha_or_digit('foo')) # expect True\n",
        "print(check_alpha_or_digit('111')) # expect True\n",
        "print(check_alpha_or_digit('1f2d')) # expect False"
      ],
      "metadata": {
        "id": "rwW4BuZLHM0v",
        "colab": {
          "base_uri": "https://localhost:8080/"
        },
        "outputId": "24a0b6ff-8a5a-436c-de6d-eb432537b01a"
      },
      "execution_count": 8,
      "outputs": [
        {
          "output_type": "stream",
          "name": "stdout",
          "text": [
            "True\n",
            "True\n",
            "False\n"
          ]
        }
      ]
    },
    {
      "cell_type": "markdown",
      "source": [
        "b, 6 points) well_trimmed():  True if the string contains no whitespace of the kind that would be removed by strip().  False if it contains leading or trailing whitespace."
      ],
      "metadata": {
        "id": "xdvxix2mMOPF"
      }
    },
    {
      "cell_type": "code",
      "source": [
        "# TODO well_trimmed()\n",
        "\n",
        "def well_trimmed(some_string):\n",
        "    if some_string.strip() == some_string:\n",
        "        return True\n",
        "    else:\n",
        "        return False"
      ],
      "metadata": {
        "id": "TYM52ANnMl8D"
      },
      "execution_count": 5,
      "outputs": []
    },
    {
      "cell_type": "code",
      "source": [
        "print(well_trimmed('whitespace.   ')) # expect False\n",
        "print(well_trimmed('\\nwhitespace.')) # expect False\n",
        "print(well_trimmed('whitespace')) # expect True"
      ],
      "metadata": {
        "id": "Dj3iuEtJdsd9",
        "colab": {
          "base_uri": "https://localhost:8080/"
        },
        "outputId": "6f439d51-3acc-46f8-87d5-6701a3c1f439"
      },
      "execution_count": 51,
      "outputs": [
        {
          "output_type": "stream",
          "name": "stdout",
          "text": [
            "False\n",
            "False\n",
            "True\n"
          ]
        }
      ]
    },
    {
      "cell_type": "markdown",
      "source": [
        "c, 8 points) is_ok():  True if the string contains any number of 'o's (but at least one) followed by a 'k'.  Case shouldn't matter, nor should any leading or trailing characters.  (Hint: call lower() on the string to ignore case)."
      ],
      "metadata": {
        "id": "SLNfn1-NeOgn"
      }
    },
    {
      "cell_type": "code",
      "source": [
        "# TODO is_ok()\n",
        "\n",
        "def is_ok(some_string):\n",
        "    if some_string.lower().strip().count('o') >= 1 and some_string.lower().strip().endswith('k'):\n",
        "        return True\n",
        "    else:\n",
        "        return False"
      ],
      "metadata": {
        "id": "Ym0p9XSAeNjl"
      },
      "execution_count": 52,
      "outputs": []
    },
    {
      "cell_type": "code",
      "source": [
        "print(is_ok('ok')) # Expect True\n",
        "print(is_ok('oooook')) # Expect True\n",
        "print(is_ok('k')) # Expect False\n",
        "print(is_ok('.......okay')) # Expect True\n",
        "print(is_ok('OK')) # Expect True"
      ],
      "metadata": {
        "id": "vsZHE0Z0gIzG",
        "colab": {
          "base_uri": "https://localhost:8080/"
        },
        "outputId": "795f1052-10b3-4990-bfd4-79b660ef5a0b"
      },
      "execution_count": 53,
      "outputs": [
        {
          "output_type": "stream",
          "name": "stdout",
          "text": [
            "True\n",
            "True\n",
            "False\n",
            "False\n",
            "True\n"
          ]
        }
      ]
    },
    {
      "cell_type": "markdown",
      "source": [
        "d, 10 pts) no_bad_words():  False if the string contains either of the words 'fudge' or 'shoot', where the u in fudge or o's in shoot could be repeated arbitrarily many times; True if neither questionable word is contained in the string.  Ignore case again, so capitalized or lowercase words are grounds for a False.\n"
      ],
      "metadata": {
        "id": "20bzovXNlNKy"
      }
    },
    {
      "cell_type": "code",
      "source": [
        "# TODO no_bad_words()\n",
        "\n",
        "import re\n",
        "\n",
        "def no_bad_words(some_string):\n",
        "  \n",
        "  pattern = '(fu+dge)|(shoo+t)'\n",
        "  \n",
        "  if re.search(pattern, some_string, re.IGNORECASE):\n",
        "    return False\n",
        "  else:\n",
        "    return True\n",
        "\n"
      ],
      "metadata": {
        "id": "gehor_Y1v5Me"
      },
      "execution_count": 54,
      "outputs": []
    },
    {
      "cell_type": "code",
      "source": [
        "print(no_bad_words('fudge')) # expect False\n",
        "print(no_bad_words('fuuuudge')) # expect False\n",
        "print(no_bad_words('fdgeshot')) # expect True\n",
        "print(no_bad_words('shoot')) # expect False\n",
        "print(no_bad_words('shooooooot')) # expect False"
      ],
      "metadata": {
        "id": "50g8ouu-mMk_",
        "colab": {
          "base_uri": "https://localhost:8080/"
        },
        "outputId": "85d916c1-f366-4227-c971-75b985efac07"
      },
      "execution_count": 55,
      "outputs": [
        {
          "output_type": "stream",
          "name": "stdout",
          "text": [
            "False\n",
            "False\n",
            "True\n",
            "False\n",
            "False\n"
          ]
        }
      ]
    },
    {
      "cell_type": "markdown",
      "source": [
        "# Problem 2: Counting Pokémon (30 points: 10, 14, 6)\n",
        "\n",
        "You work for the creators of Pokémon GO, a game where players try to collect odd-looking monsters called Pokémon by venturing to real-life locations.  You got a CSV file with each player's name followed by a list of Pokemon they've captured, but the list could contain duplicates.  The goal is to create a JSON file that maps each player to the *number* of unique Pokemon they've captured.\n",
        "\n",
        "a) (10 points) Write a function count_pokemans() that takes a comma-separated string of Pokémon names and returns the number of unique Pokémon mentioned.  (Not only could there be duplicates in the string, but there may be whitespace differences that shouldn't matter; be sure to use strip().)\n",
        "\n",
        "b) (14 points) Write a function pokemon_to_dict that takes as its only argument the name of a CSV file.  The CSV file has player names in its first column and comma-separated Pokemon lists as its second column (see part a).  (You can assume there is *no* header line that is different from all the others - all the lines contain data in the format described.)  The function should return a dictionary where the keys are player names, and the values are the number of unique Pokémon associated with their player (see part a).\n",
        "\n",
        "If the file isn't there, a FileNotFoundError should be handled by printing a message that states the particular filename in the argument wasn't found.\n",
        "\n",
        "A sample Pokémon CSV, pokemon.csv, has been provided for this part.\n",
        "\n",
        "c) (6 points) Write a function dict_to_json that takes a dictionary and a filename as an arguments a dictionary of the kind created in part (b) and an output filename; the function should write the JSON implied by the dictionary to the given filename.\n",
        "\n",
        "Use the following code box to upload the sample Pokemon.csv file, and include your final code for parts (a)-(c) in the code box after that."
      ],
      "metadata": {
        "id": "KAL1n2uMAorU"
      }
    },
    {
      "cell_type": "code",
      "execution_count": 10,
      "metadata": {
        "id": "3Yj24VI7_Buf",
        "colab": {
          "base_uri": "https://localhost:8080/",
          "height": 126
        },
        "outputId": "c386e8d7-ad7a-483e-9797-79db6dca58e2"
      },
      "outputs": [
        {
          "output_type": "display_data",
          "data": {
            "text/plain": [
              "<IPython.core.display.HTML object>"
            ],
            "text/html": [
              "\n",
              "     <input type=\"file\" id=\"files-7b2ea655-262b-4bdc-9b5c-ab6de1da4ee1\" name=\"files[]\" multiple disabled\n",
              "        style=\"border:none\" />\n",
              "     <output id=\"result-7b2ea655-262b-4bdc-9b5c-ab6de1da4ee1\">\n",
              "      Upload widget is only available when the cell has been executed in the\n",
              "      current browser session. Please rerun this cell to enable.\n",
              "      </output>\n",
              "      <script>// Copyright 2017 Google LLC\n",
              "//\n",
              "// Licensed under the Apache License, Version 2.0 (the \"License\");\n",
              "// you may not use this file except in compliance with the License.\n",
              "// You may obtain a copy of the License at\n",
              "//\n",
              "//      http://www.apache.org/licenses/LICENSE-2.0\n",
              "//\n",
              "// Unless required by applicable law or agreed to in writing, software\n",
              "// distributed under the License is distributed on an \"AS IS\" BASIS,\n",
              "// WITHOUT WARRANTIES OR CONDITIONS OF ANY KIND, either express or implied.\n",
              "// See the License for the specific language governing permissions and\n",
              "// limitations under the License.\n",
              "\n",
              "/**\n",
              " * @fileoverview Helpers for google.colab Python module.\n",
              " */\n",
              "(function(scope) {\n",
              "function span(text, styleAttributes = {}) {\n",
              "  const element = document.createElement('span');\n",
              "  element.textContent = text;\n",
              "  for (const key of Object.keys(styleAttributes)) {\n",
              "    element.style[key] = styleAttributes[key];\n",
              "  }\n",
              "  return element;\n",
              "}\n",
              "\n",
              "// Max number of bytes which will be uploaded at a time.\n",
              "const MAX_PAYLOAD_SIZE = 100 * 1024;\n",
              "\n",
              "function _uploadFiles(inputId, outputId) {\n",
              "  const steps = uploadFilesStep(inputId, outputId);\n",
              "  const outputElement = document.getElementById(outputId);\n",
              "  // Cache steps on the outputElement to make it available for the next call\n",
              "  // to uploadFilesContinue from Python.\n",
              "  outputElement.steps = steps;\n",
              "\n",
              "  return _uploadFilesContinue(outputId);\n",
              "}\n",
              "\n",
              "// This is roughly an async generator (not supported in the browser yet),\n",
              "// where there are multiple asynchronous steps and the Python side is going\n",
              "// to poll for completion of each step.\n",
              "// This uses a Promise to block the python side on completion of each step,\n",
              "// then passes the result of the previous step as the input to the next step.\n",
              "function _uploadFilesContinue(outputId) {\n",
              "  const outputElement = document.getElementById(outputId);\n",
              "  const steps = outputElement.steps;\n",
              "\n",
              "  const next = steps.next(outputElement.lastPromiseValue);\n",
              "  return Promise.resolve(next.value.promise).then((value) => {\n",
              "    // Cache the last promise value to make it available to the next\n",
              "    // step of the generator.\n",
              "    outputElement.lastPromiseValue = value;\n",
              "    return next.value.response;\n",
              "  });\n",
              "}\n",
              "\n",
              "/**\n",
              " * Generator function which is called between each async step of the upload\n",
              " * process.\n",
              " * @param {string} inputId Element ID of the input file picker element.\n",
              " * @param {string} outputId Element ID of the output display.\n",
              " * @return {!Iterable<!Object>} Iterable of next steps.\n",
              " */\n",
              "function* uploadFilesStep(inputId, outputId) {\n",
              "  const inputElement = document.getElementById(inputId);\n",
              "  inputElement.disabled = false;\n",
              "\n",
              "  const outputElement = document.getElementById(outputId);\n",
              "  outputElement.innerHTML = '';\n",
              "\n",
              "  const pickedPromise = new Promise((resolve) => {\n",
              "    inputElement.addEventListener('change', (e) => {\n",
              "      resolve(e.target.files);\n",
              "    });\n",
              "  });\n",
              "\n",
              "  const cancel = document.createElement('button');\n",
              "  inputElement.parentElement.appendChild(cancel);\n",
              "  cancel.textContent = 'Cancel upload';\n",
              "  const cancelPromise = new Promise((resolve) => {\n",
              "    cancel.onclick = () => {\n",
              "      resolve(null);\n",
              "    };\n",
              "  });\n",
              "\n",
              "  // Wait for the user to pick the files.\n",
              "  const files = yield {\n",
              "    promise: Promise.race([pickedPromise, cancelPromise]),\n",
              "    response: {\n",
              "      action: 'starting',\n",
              "    }\n",
              "  };\n",
              "\n",
              "  cancel.remove();\n",
              "\n",
              "  // Disable the input element since further picks are not allowed.\n",
              "  inputElement.disabled = true;\n",
              "\n",
              "  if (!files) {\n",
              "    return {\n",
              "      response: {\n",
              "        action: 'complete',\n",
              "      }\n",
              "    };\n",
              "  }\n",
              "\n",
              "  for (const file of files) {\n",
              "    const li = document.createElement('li');\n",
              "    li.append(span(file.name, {fontWeight: 'bold'}));\n",
              "    li.append(span(\n",
              "        `(${file.type || 'n/a'}) - ${file.size} bytes, ` +\n",
              "        `last modified: ${\n",
              "            file.lastModifiedDate ? file.lastModifiedDate.toLocaleDateString() :\n",
              "                                    'n/a'} - `));\n",
              "    const percent = span('0% done');\n",
              "    li.appendChild(percent);\n",
              "\n",
              "    outputElement.appendChild(li);\n",
              "\n",
              "    const fileDataPromise = new Promise((resolve) => {\n",
              "      const reader = new FileReader();\n",
              "      reader.onload = (e) => {\n",
              "        resolve(e.target.result);\n",
              "      };\n",
              "      reader.readAsArrayBuffer(file);\n",
              "    });\n",
              "    // Wait for the data to be ready.\n",
              "    let fileData = yield {\n",
              "      promise: fileDataPromise,\n",
              "      response: {\n",
              "        action: 'continue',\n",
              "      }\n",
              "    };\n",
              "\n",
              "    // Use a chunked sending to avoid message size limits. See b/62115660.\n",
              "    let position = 0;\n",
              "    do {\n",
              "      const length = Math.min(fileData.byteLength - position, MAX_PAYLOAD_SIZE);\n",
              "      const chunk = new Uint8Array(fileData, position, length);\n",
              "      position += length;\n",
              "\n",
              "      const base64 = btoa(String.fromCharCode.apply(null, chunk));\n",
              "      yield {\n",
              "        response: {\n",
              "          action: 'append',\n",
              "          file: file.name,\n",
              "          data: base64,\n",
              "        },\n",
              "      };\n",
              "\n",
              "      let percentDone = fileData.byteLength === 0 ?\n",
              "          100 :\n",
              "          Math.round((position / fileData.byteLength) * 100);\n",
              "      percent.textContent = `${percentDone}% done`;\n",
              "\n",
              "    } while (position < fileData.byteLength);\n",
              "  }\n",
              "\n",
              "  // All done.\n",
              "  yield {\n",
              "    response: {\n",
              "      action: 'complete',\n",
              "    }\n",
              "  };\n",
              "}\n",
              "\n",
              "scope.google = scope.google || {};\n",
              "scope.google.colab = scope.google.colab || {};\n",
              "scope.google.colab._files = {\n",
              "  _uploadFiles,\n",
              "  _uploadFilesContinue,\n",
              "};\n",
              "})(self);\n",
              "</script> "
            ]
          },
          "metadata": {}
        },
        {
          "output_type": "stream",
          "name": "stdout",
          "text": [
            "Saving Pokemon.csv to Pokemon.csv\n"
          ]
        },
        {
          "output_type": "execute_result",
          "data": {
            "text/plain": [
              "{'Pokemon.csv': b'Alice,\"Pikachu,Charizard,Evee,Snorlax,Charmander, Ditto, Sylveon\"\\r\\nBob,\"Pikachu, Charizard, Pikachu, Charizard, Sylveon\"\\r\\nCarol,\"Ditto, Bulbasaur, Snorlax, Bulbasaur\"\\r\\nDeng,\"Squirtle, Mewtwo , Charmander\"\\r\\nEileen,\"Snorlax, Pikachu, Pikachu, Sylveon\"\\r\\nFatima,\"Lucario, Mew, Garchomp, Bulbasaur, Jigglypuff\"\\r\\n'}"
            ]
          },
          "metadata": {},
          "execution_count": 10
        }
      ],
      "source": [
        "from google.colab import files\n",
        "files.upload()"
      ]
    },
    {
      "cell_type": "code",
      "source": [
        "# TODO pokemon_to_dict,dict_to_json,count_pokemans\n",
        "\n",
        "# A\n",
        "\n",
        "def count_pokeman_to_dict(some_string):\n",
        "    return len(set(some_string.split(',')))\n",
        "\n",
        "\n",
        "# B\n",
        "\n",
        "import csv\n",
        "\n",
        "def pokemon_to_dict(filename):\n",
        "    try:\n",
        "        with open(filename, 'r') as f:\n",
        "            reader = csv.reader(f)\n",
        "            pokemon_dict = {}\n",
        "            for row in reader:\n",
        "                pokemon_dict[row[0]] = row[1].split(',')\n",
        "            return pokemon_dict\n",
        "    except FileNotFoundError:\n",
        "        print('File not found: {}'.format(filename))\n",
        "\n",
        "\n",
        "# C \n",
        "\n",
        "def dict_to_json(filename, dict):\n",
        "  with open(filename, 'w') as mydict:\n",
        "    json.dump(dict, mydict)\n",
        "\n",
        "my_dict = {\n",
        "    'a': 3,\n",
        "    'b': 7,\n",
        "    'c': 10\n",
        "}\n",
        "\n",
        "dict_to_json('poke.json', mydict)\n"
      ],
      "metadata": {
        "id": "um1Ejkp1CD7M"
      },
      "execution_count": 47,
      "outputs": []
    },
    {
      "cell_type": "code",
      "source": [
        "mydict = pokemon_to_dict('Pokemon.csv')\n",
        "dict_to_json('poke.json', mydict)\n",
        "!ls\n",
        "!cat poke.json   # Should be Alice: 7, Bob: 3, Carol: 3, Eileen: 3, Fatima: 5"
      ],
      "metadata": {
        "id": "pLlfJCipCJqj",
        "colab": {
          "base_uri": "https://localhost:8080/"
        },
        "outputId": "74587248-6c26-4e04-9f0b-0ebc6b33c4e8"
      },
      "execution_count": 50,
      "outputs": [
        {
          "output_type": "stream",
          "name": "stdout",
          "text": [
            "poke.json  Pokemon.csv\tsample_data  sample.json\n",
            "{\"Alice\": [\"Pikachu\", \"Charizard\", \"Evee\", \"Snorlax\", \"Charmander\", \" Ditto\", \" Sylveon\"], \"Bob\": [\"Pikachu\", \" Charizard\", \" Pikachu\", \" Charizard\", \" Sylveon\"], \"Carol\": [\"Ditto\", \" Bulbasaur\", \" Snorlax\", \" Bulbasaur\"], \"Deng\": [\"Squirtle\", \" Mewtwo \", \" Charmander\"], \"Eileen\": [\"Snorlax\", \" Pikachu\", \" Pikachu\", \" Sylveon\"], \"Fatima\": [\"Lucario\", \" Mew\", \" Garchomp\", \" Bulbasaur\", \" Jigglypuff\"]}"
          ]
        }
      ]
    }
  ]
}