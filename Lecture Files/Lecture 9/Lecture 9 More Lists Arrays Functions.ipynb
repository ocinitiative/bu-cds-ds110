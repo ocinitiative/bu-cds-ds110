{
 "cells": [
  {
   "cell_type": "markdown",
   "metadata": {
    "slideshow": {
     "slide_type": "slide"
    }
   },
   "source": [
    "# More on Lists, Arrays, and Functions"
   ]
  },
  {
   "cell_type": "markdown",
   "metadata": {
    "slideshow": {
     "slide_type": "slide"
    }
   },
   "source": [
    "## Exercise 1:  Lists review\n",
    "\n",
    "Write a function merge() that merges two lists into one list that contains every item exactly once, in sorted order.  So merge([2,1,3],[3,3,4]) should produce [1,2,3,4].\n",
    "\n",
    "Recall for this:\n",
    "* a in b checks whether item a is in list b\n",
    "* c.sort() sorts list c"
   ]
  },
  {
   "cell_type": "code",
   "execution_count": null,
   "metadata": {
    "slideshow": {
     "slide_type": "slide"
    }
   },
   "outputs": [],
   "source": [
    "def merge(list1, list2):\n",
    "    combined_raw = list1 + list2\n",
    "    combined = []\n",
    "    for item in combined_raw:\n",
    "        if not item in combined:\n",
    "            combined.append(item)\n",
    "    combined.sort()\n",
    "    return combined\n",
    "\n",
    "merge([2,1,3], [3,3,4])"
   ]
  },
  {
   "cell_type": "markdown",
   "metadata": {
    "id": "-oheRTv6gXMh",
    "slideshow": {
     "slide_type": "slide"
    }
   },
   "source": [
    "# More array functionality\n",
    "\n",
    "* Arrays have \"attributes\" that let you know useful things like the number of dimensions (.ndim), the dimensions themselves (.shape, which is a tuple), and the total number of items (.size)."
   ]
  },
  {
   "cell_type": "code",
   "execution_count": 1,
   "metadata": {
    "colab": {
     "base_uri": "https://localhost:8080/"
    },
    "id": "T4FeFq41g6A2",
    "outputId": "3a46f479-dc47-4b78-9441-c064e58f49a4",
    "slideshow": {
     "slide_type": "-"
    }
   },
   "outputs": [
    {
     "name": "stdout",
     "output_type": "stream",
     "text": [
      "2\n",
      "(2, 3)\n",
      "6\n"
     ]
    }
   ],
   "source": [
    "import numpy as np\n",
    "\n",
    "myarray = np.array([[3, 1, 2], [2, 0, 8]])\n",
    "\n",
    "print(myarray.ndim)\n",
    "print(myarray.shape)\n",
    "print(myarray.size)"
   ]
  },
  {
   "cell_type": "markdown",
   "metadata": {
    "id": "TMD1BhKQhNkY",
    "slideshow": {
     "slide_type": "subslide"
    }
   },
   "source": [
    "For shape, the convention is (rows, columns), and it matches the convention for how the array is indexed.  It's common to \"unpack\" this immediately into variables, so that they can be used for iteration."
   ]
  },
  {
   "cell_type": "code",
   "execution_count": null,
   "metadata": {
    "colab": {
     "base_uri": "https://localhost:8080/"
    },
    "id": "cAdcZ_u8hWVt",
    "outputId": "c82ed3bb-a437-4ef3-bbec-d8b920e19791",
    "slideshow": {
     "slide_type": "-"
    }
   },
   "outputs": [],
   "source": [
    "rows, columns = myarray.shape\n",
    "for i in range(rows):\n",
    "  for j in range(columns):\n",
    "    myarray[i,j] += 2\n",
    "print(myarray)\n"
   ]
  },
  {
   "cell_type": "markdown",
   "metadata": {
    "id": "VdJxgj-0j-z-",
    "slideshow": {
     "slide_type": "subslide"
    }
   },
   "source": [
    "* Two common methods to see in code are reshape() and flatten().  Reshape creates a new array with the same data but a different shape.  (Note that it may or may not create a new copy of the data; it may just create a reference to the same buffer of values.)  Flatten() returns a copy of the array that is 1D."
   ]
  },
  {
   "cell_type": "code",
   "execution_count": 3,
   "metadata": {
    "colab": {
     "base_uri": "https://localhost:8080/"
    },
    "id": "aJeHFvxNki4d",
    "outputId": "650cb970-cee2-4e3d-8719-7a625374b808",
    "slideshow": {
     "slide_type": "-"
    }
   },
   "outputs": [
    {
     "name": "stdout",
     "output_type": "stream",
     "text": [
      "[[1 2]\n",
      " [3 4]\n",
      " [5 6]]\n",
      "[[1 2 3]\n",
      " [4 5 6]]\n",
      "[1 2 3 4 5 6]\n"
     ]
    }
   ],
   "source": [
    "A = np.array([[1,2],[3,4],[5,6]])\n",
    "print(A)\n",
    "Ashaped = A.reshape(2,3)\n",
    "print(Ashaped)\n",
    "print(A.flatten())"
   ]
  },
  {
   "cell_type": "markdown",
   "metadata": {
    "slideshow": {
     "slide_type": "slide"
    }
   },
   "source": [
    "# Exercise 2\n",
    "\n",
    " Write a function that returns True iff its arguments A and B are matrices that can be legally multiplied (AB).  That is, the number of columns of A must equal the number of rows of B.  You can assume A and B are both 2D arrays."
   ]
  },
  {
   "cell_type": "code",
   "execution_count": null,
   "metadata": {
    "slideshow": {
     "slide_type": "slide"
    }
   },
   "outputs": [],
   "source": [
    "def legal_mult(A,B):\n",
    "    return A.shape[1] == B.shape[0]\n",
    "\n",
    "A = np.array([[1,2,3,4],[5,6,7,8]])\n",
    "B = np.array([[1,2,3],[4,5,6],[7,8,9],[10,11,12]])\n",
    "\n",
    "print(legal_mult(A,B)) # should return True\n",
    "print(legal_mult(B,A)) # should return False"
   ]
  },
  {
   "cell_type": "markdown",
   "metadata": {
    "id": "z_LT0LS_Ukz3",
    "slideshow": {
     "slide_type": "slide"
    }
   },
   "source": [
    "# A functional style:  map and lambda\n",
    "\n",
    "Python is mostly what's called an imperative language - commands are executed one after the other in sequence.   C++ and Java are two other imperative languages.\n",
    "\n",
    "Another style, functional programming, treats the program more like a giant nested function that needs evaluation.  Scheme and Lisp are in this category of language.  Things aren't written one command after the other, but rather everything is nested.  Some programming languages people like these languages because of their elegance.\n"
   ]
  },
  {
   "cell_type": "markdown",
   "metadata": {
    "slideshow": {
     "slide_type": "slide"
    }
   },
   "source": [
    "\n",
    "But Python does support some functionality that came from the functional programming side, and languages that interact with big, distributed data often find it useful to have the following concepts around, too."
   ]
  },
  {
   "cell_type": "markdown",
   "metadata": {
    "slideshow": {
     "slide_type": "slide"
    }
   },
   "source": [
    "First, there's \"map.\"  This takes a function and applies it to every element of a list."
   ]
  },
  {
   "cell_type": "code",
   "execution_count": 4,
   "metadata": {
    "colab": {
     "base_uri": "https://localhost:8080/"
    },
    "id": "VBkCbXu8XRgN",
    "outputId": "e5a6e1ba-f62e-41ef-94cc-34825f383739",
    "slideshow": {
     "slide_type": "-"
    }
   },
   "outputs": [
    {
     "data": {
      "text/plain": [
       "['coolish', 'interestingish', 'neatish']"
      ]
     },
     "execution_count": 4,
     "metadata": {},
     "output_type": "execute_result"
    }
   ],
   "source": [
    "def appendish(x):\n",
    "  return x + \"ish\"\n",
    "\n",
    "list(map(appendish, [\"cool\",\"interesting\",\"neat\"]))"
   ]
  },
  {
   "cell_type": "markdown",
   "metadata": {
    "id": "3j5SPHsjYSDS",
    "slideshow": {
     "slide_type": "-"
    }
   },
   "source": [
    "Notice that we passed a function as an argument.\n",
    "\n",
    "Also notice that we had to pass the result to list() to get a final result; this is because map does what's called \"lazy evaluation\" and doesn't calculate anything until it needs to.  list() forces it to generate the list."
   ]
  },
  {
   "cell_type": "markdown",
   "metadata": {
    "id": "SGIX7Ot_XgQ1",
    "slideshow": {
     "slide_type": "slide"
    }
   },
   "source": [
    "\n",
    "Map's little helper is \"lambda.\"  This creates what's called an *anonymous function*.  If the function's only going to be used for the map, the code might be more readable if you just define the function right where you use it."
   ]
  },
  {
   "cell_type": "code",
   "execution_count": null,
   "metadata": {
    "colab": {
     "base_uri": "https://localhost:8080/"
    },
    "id": "LfYmUHhyY1Oy",
    "outputId": "179076dc-70ce-4537-ad0e-cce8a4a1cff7",
    "slideshow": {
     "slide_type": "-"
    }
   },
   "outputs": [],
   "source": [
    "list(map(lambda x: x + \"ish\", [\"cool\",\"interesting\",\"neat\"]))"
   ]
  },
  {
   "cell_type": "markdown",
   "metadata": {
    "id": "kGq3NW_EY8NY",
    "slideshow": {
     "slide_type": "-"
    }
   },
   "source": [
    "Lambda quickly defines its function, giving arguments (x) and what should be returned (x + \"ish\").  It's slick when you see an opportunity for it."
   ]
  },
  {
   "cell_type": "markdown",
   "metadata": {
    "slideshow": {
     "slide_type": "slide"
    }
   },
   "source": [
    "Related to map and lambda is \"filter.\"  While map creates a list of elements that is as long as the original, \"filter\" only keeps elements that pass the test of a Boolean function returning True.  That function could be an anonymous function created by lambda."
   ]
  },
  {
   "cell_type": "code",
   "execution_count": 7,
   "metadata": {
    "colab": {
     "base_uri": "https://localhost:8080/"
    },
    "id": "Uz4fgzFkZvX5",
    "outputId": "ba780321-36ce-4064-9fdb-adadcf3cd90f",
    "slideshow": {
     "slide_type": "-"
    }
   },
   "outputs": [
    {
     "name": "stdout",
     "output_type": "stream",
     "text": [
      "[5, 2]\n"
     ]
    }
   ],
   "source": [
    "# Named function version\n",
    "def isPositive(x):\n",
    "  return x > 0\n",
    "\n",
    "my_list = [5, 0, -1, 2]\n",
    "\n",
    "new_list = list(filter(isPositive, my_list))\n",
    "print(new_list)"
   ]
  },
  {
   "cell_type": "code",
   "execution_count": 8,
   "metadata": {
    "colab": {
     "base_uri": "https://localhost:8080/"
    },
    "id": "5HWsoh8QaJRp",
    "outputId": "0c57bfc3-a018-4707-d2f7-2e516ea9ab28",
    "slideshow": {
     "slide_type": "slide"
    }
   },
   "outputs": [
    {
     "data": {
      "text/plain": [
       "[5, 2]"
      ]
     },
     "execution_count": 8,
     "metadata": {},
     "output_type": "execute_result"
    }
   ],
   "source": [
    "# Anonymous version\n",
    "list(filter(lambda x:  x > 0, [5, 0, -1, 2]))"
   ]
  },
  {
   "cell_type": "markdown",
   "metadata": {
    "id": "91p51bczahJP",
    "slideshow": {
     "slide_type": "slide"
    }
   },
   "source": [
    "Often a lambda is used to just specialize a more general function."
   ]
  },
  {
   "cell_type": "code",
   "execution_count": 9,
   "metadata": {
    "colab": {
     "base_uri": "https://localhost:8080/"
    },
    "id": "Kt4o0C6Da_3o",
    "outputId": "becd6d7a-f271-4126-9cb9-58c2815e1d1c",
    "slideshow": {
     "slide_type": "-"
    }
   },
   "outputs": [
    {
     "data": {
      "text/plain": [
       "['foo', 'bar', 'baz']"
      ]
     },
     "execution_count": 9,
     "metadata": {},
     "output_type": "execute_result"
    }
   ],
   "source": [
    "def longerThan(mystr, thresh):\n",
    "  return len(mystr) > thresh\n",
    "\n",
    "strlist = [\"foo\", \"bar\", \"baz\", \"f\"]\n",
    "list(filter(lambda x: longerThan(x,2), strlist)) # specializing an existing function"
   ]
  },
  {
   "cell_type": "markdown",
   "metadata": {
    "id": "vzxPRaEjbezp",
    "slideshow": {
     "slide_type": "slide"
    }
   },
   "source": [
    "# Exercise 3\n",
    "\n",
    "Try to write an expression that takes a list of strings and, using map, \"doubles\" each string (\"foo\" becomes \"foofoo\" etc).\n",
    "\n",
    "# Exercise 4\n",
    "\n",
    "Try to write an expression that takes a list of numbers and, using filter, filters out all the 2's.\n"
   ]
  },
  {
   "cell_type": "code",
   "execution_count": 10,
   "metadata": {
    "colab": {
     "base_uri": "https://localhost:8080/"
    },
    "id": "bdaDdoaadLVE",
    "outputId": "d243cc7b-e439-407a-f561-127ab56768d6",
    "slideshow": {
     "slide_type": "slide"
    }
   },
   "outputs": [
    {
     "data": {
      "text/plain": [
       "['aa', 'bb', 'cc']"
      ]
     },
     "execution_count": 10,
     "metadata": {},
     "output_type": "execute_result"
    }
   ],
   "source": [
    "list(map(lambda x: x + x, [\"a\", \"b\", \"c\"]))"
   ]
  },
  {
   "cell_type": "code",
   "execution_count": 14,
   "metadata": {
    "colab": {
     "base_uri": "https://localhost:8080/"
    },
    "id": "Fk2f3Pm5bc6y",
    "outputId": "ace4f316-28c6-4270-f110-b5ded0a87e99",
    "slideshow": {
     "slide_type": "-"
    }
   },
   "outputs": [
    {
     "data": {
      "text/plain": [
       "[1, 5, 7]"
      ]
     },
     "execution_count": 14,
     "metadata": {},
     "output_type": "execute_result"
    }
   ],
   "source": [
    "list(filter(lambda x: x != 2, [2, 1, 5, 7, 2]))"
   ]
  }
 ],
 "metadata": {
  "celltoolbar": "Slideshow",
  "colab": {
   "name": "Lecture7MoreListsEtc_after.ipynb",
   "provenance": []
  },
  "kernelspec": {
   "display_name": "Python 3",
   "language": "python",
   "name": "python3"
  },
  "language_info": {
   "codemirror_mode": {
    "name": "ipython",
    "version": 3
   },
   "file_extension": ".py",
   "mimetype": "text/x-python",
   "name": "python",
   "nbconvert_exporter": "python",
   "pygments_lexer": "ipython3",
   "version": "3.8.8"
  },
  "rise": {
   "scroll": true
  }
 },
 "nbformat": 4,
 "nbformat_minor": 1
}
