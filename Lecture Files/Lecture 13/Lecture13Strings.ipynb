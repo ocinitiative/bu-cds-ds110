{
 "cells": [
  {
   "cell_type": "markdown",
   "metadata": {
    "slideshow": {
     "slide_type": "slide"
    }
   },
   "source": [
    "# Strings"
   ]
  },
  {
   "cell_type": "markdown",
   "metadata": {
    "id": "jsSnS1gU2Efa",
    "slideshow": {
     "slide_type": "slide"
    }
   },
   "source": [
    "# Formatted strings\n",
    "\n",
    "Suppose you want to print a number with just two decimal places of precision - so, not 12.95821, but just 12.96.  This is a very common use case for formatted strings, which also are sometimes just easier to use than concatenating other strings.\n",
    "\n",
    "\n"
   ]
  },
  {
   "cell_type": "markdown",
   "metadata": {
    "slideshow": {
     "slide_type": "subslide"
    }
   },
   "source": [
    "f-strings (the f is for formatted) are the easiest way to get a formatted string.  f precedes the string, and an expression (like a variable name) can be placed between curly braces in the string."
   ]
  },
  {
   "cell_type": "code",
   "execution_count": 37,
   "metadata": {
    "colab": {
     "base_uri": "https://localhost:8080/"
    },
    "id": "ofBN6h9F11EC",
    "outputId": "2e0a80cc-f4fc-4dbc-9d12-cad8aaeb01fa",
    "slideshow": {
     "slide_type": "-"
    }
   },
   "outputs": [
    {
     "name": "stdout",
     "output_type": "stream",
     "text": [
      "The total cost was 12.95821 dollars\n"
     ]
    }
   ],
   "source": [
    "my_cost = 12.95821\n",
    "print(f'The total cost was {my_cost} dollars')"
   ]
  },
  {
   "cell_type": "markdown",
   "metadata": {
    "id": "F7hpr55z3o5V",
    "slideshow": {
     "slide_type": "subslide"
    }
   },
   "source": [
    "To give two places after the decimal, add :.2f to the expression.  (The f stands for the float \"presentation type.\")"
   ]
  },
  {
   "cell_type": "code",
   "execution_count": 38,
   "metadata": {
    "colab": {
     "base_uri": "https://localhost:8080/"
    },
    "id": "1njhXwem36Hn",
    "outputId": "f4a175b0-d6fc-4859-b6d9-90fc7ad67990",
    "slideshow": {
     "slide_type": "-"
    }
   },
   "outputs": [
    {
     "name": "stdout",
     "output_type": "stream",
     "text": [
      "The total cost was 12.96 dollars\n"
     ]
    }
   ],
   "source": [
    "print(f'The total cost was {my_cost:.2f} dollars')"
   ]
  },
  {
   "cell_type": "markdown",
   "metadata": {
    "id": "fVby_iMZ4Ejd",
    "slideshow": {
     "slide_type": "subslide"
    }
   },
   "source": [
    "The older way of doing this, with .format() as a string method, is still something you may see around.  It gives variable names as arguments to a format() method of the string, but still puts the formatting information in the curly braces."
   ]
  },
  {
   "cell_type": "code",
   "execution_count": null,
   "metadata": {
    "colab": {
     "base_uri": "https://localhost:8080/"
    },
    "id": "NgM3MRcO4Ouz",
    "outputId": "115b9e74-d215-4cde-d9cc-b4901480f7d8",
    "slideshow": {
     "slide_type": "-"
    }
   },
   "outputs": [],
   "source": [
    "print('The total cost was {:.2f} dollars'.format(my_cost))"
   ]
  },
  {
   "cell_type": "markdown",
   "metadata": {
    "id": "BUNg2OZD45rN",
    "slideshow": {
     "slide_type": "subslide"
    }
   },
   "source": [
    "If the decimal point is left out, the number now means how many spaces the number should take up, padding with whitespace.  This can be useful when writing tables of numbers with values that have different orders of magnitude.\n",
    "\n",
    "We'll also change the 'f' for float to 'd' for decimal because these are integer values.  Keeping it 'f' would give us unnecessary places after the decimal."
   ]
  },
  {
   "cell_type": "code",
   "execution_count": 39,
   "metadata": {
    "colab": {
     "base_uri": "https://localhost:8080/"
    },
    "id": "wz81o2Uk5h_A",
    "outputId": "d243f814-75f6-47cf-c576-039c8fce4391",
    "slideshow": {
     "slide_type": "-"
    }
   },
   "outputs": [
    {
     "name": "stdout",
     "output_type": "stream",
     "text": [
      "   0   0\n",
      "   1  10\n",
      "   2  20\n",
      "   3  30\n",
      "   4  40\n",
      "   5  50\n",
      "   6  60\n",
      "   7  70\n",
      "   8  80\n",
      "   9  90\n",
      "  10 100\n",
      "  11 110\n",
      "  12 120\n",
      "  13 130\n",
      "  14 140\n",
      "  15 150\n",
      "  16 160\n",
      "  17 170\n",
      "  18 180\n",
      "  19 190\n"
     ]
    }
   ],
   "source": [
    "for i in range(20):\n",
    "  j = i*10\n",
    "  print(f'{i:4d}{j:4d}')"
   ]
  },
  {
   "cell_type": "markdown",
   "metadata": {
    "id": "nMKaRi0NgZ6-",
    "slideshow": {
     "slide_type": "slide"
    }
   },
   "source": [
    "# Exercise\n",
    "\n",
    "Try out this method of formatting strings by printing a string of the form \"The price was $[price to 2 decimal places], so I rated it [rating] stars.\""
   ]
  },
  {
   "cell_type": "code",
   "execution_count": null,
   "metadata": {
    "colab": {
     "base_uri": "https://localhost:8080/"
    },
    "id": "hbYITgsmgsj2",
    "outputId": "692ff58d-6aaa-452d-b181-9b1b07102f00",
    "slideshow": {
     "slide_type": "-"
    }
   },
   "outputs": [],
   "source": [
    "price = 1000/3\n",
    "rating = 4.5\n"
   ]
  },
  {
   "cell_type": "code",
   "execution_count": null,
   "metadata": {
    "slideshow": {
     "slide_type": "slide"
    }
   },
   "outputs": [],
   "source": [
    "print(f'The price was ${price:.2f}, so I rated it {rating} stars.')"
   ]
  },
  {
   "cell_type": "markdown",
   "metadata": {
    "id": "W7Evtd597J3W",
    "slideshow": {
     "slide_type": "slide"
    }
   },
   "source": [
    "# Other useful string functions\n",
    "\n",
    "One of the most useful string functions is split(), which turns a string like \"A,B,C,D\" into a list of strings ['A','B','C','D'].  It takes the valid separators as an argument.\n"
   ]
  },
  {
   "cell_type": "code",
   "execution_count": 40,
   "metadata": {
    "colab": {
     "base_uri": "https://localhost:8080/"
    },
    "id": "ljL5o8Z29_nC",
    "outputId": "da2e5521-4bd4-4164-d4a7-87a7cfb7e054",
    "slideshow": {
     "slide_type": "-"
    }
   },
   "outputs": [
    {
     "name": "stdout",
     "output_type": "stream",
     "text": [
      "['milk', 'eggs', 'yogurt']\n"
     ]
    }
   ],
   "source": [
    "mylist = \"milk,eggs,yogurt\"\n",
    "mylistlist = mylist.split(',')\n",
    "print(mylistlist)"
   ]
  },
  {
   "cell_type": "code",
   "execution_count": 41,
   "metadata": {
    "colab": {
     "base_uri": "https://localhost:8080/"
    },
    "id": "323IjGU4-SuW",
    "outputId": "2e21ab7c-7abb-4fd3-f2d9-a00a85ba9e7a",
    "slideshow": {
     "slide_type": "subslide"
    }
   },
   "outputs": [
    {
     "name": "stdout",
     "output_type": "stream",
     "text": [
      "['milk', 'eggs', 'yogurt']\n"
     ]
    }
   ],
   "source": [
    "mylist = \"milk eggs yogurt\"\n",
    "mylistlist = mylist.split(' ')\n",
    "print(mylistlist)"
   ]
  },
  {
   "cell_type": "markdown",
   "metadata": {
    "id": "qWIDUEiE_HZm",
    "slideshow": {
     "slide_type": "subslide"
    }
   },
   "source": [
    "splitlines() is a special case for splitting by the newline character."
   ]
  },
  {
   "cell_type": "code",
   "execution_count": 42,
   "metadata": {
    "colab": {
     "base_uri": "https://localhost:8080/"
    },
    "id": "Dtl-Pa69_LHm",
    "outputId": "275996a8-8709-43cb-dc1b-3b32bfc58755",
    "slideshow": {
     "slide_type": "-"
    }
   },
   "outputs": [
    {
     "name": "stdout",
     "output_type": "stream",
     "text": [
      "['milk', 'eggs', 'yogurt']\n"
     ]
    }
   ],
   "source": [
    "mylist = \"milk\\neggs\\nyogurt\".splitlines()\n",
    "print(mylist)"
   ]
  },
  {
   "cell_type": "markdown",
   "metadata": {
    "id": "iV_ZYwBk-sYC",
    "slideshow": {
     "slide_type": "slide"
    }
   },
   "source": [
    "A common thing that is 'wrong' with strings is too much invisible whitespace where you didn't expect any.  strip() gets rid of whitespace on either side of the string."
   ]
  },
  {
   "cell_type": "code",
   "execution_count": 43,
   "metadata": {
    "colab": {
     "base_uri": "https://localhost:8080/",
     "height": 36
    },
    "id": "vl1e4aUN-4Su",
    "outputId": "09edc278-fb04-4047-9a6f-f05a374d3e1d",
    "slideshow": {
     "slide_type": "-"
    }
   },
   "outputs": [
    {
     "data": {
      "text/plain": [
       "'milk,eggs,yogurt'"
      ]
     },
     "execution_count": 43,
     "metadata": {},
     "output_type": "execute_result"
    }
   ],
   "source": [
    "'     milk,eggs,yogurt     '.strip()"
   ]
  },
  {
   "cell_type": "markdown",
   "metadata": {
    "id": "iswi_aVd94PK",
    "slideshow": {
     "slide_type": "slide"
    }
   },
   "source": [
    "\n",
    "Sometimes lines of interest can be identified with particular starting substrings.  startswith() can easily pick these out.  (There's also an endswith(), probably less used.)"
   ]
  },
  {
   "cell_type": "code",
   "execution_count": 44,
   "metadata": {
    "colab": {
     "base_uri": "https://localhost:8080/"
    },
    "id": "CHQqTavlAAtY",
    "outputId": "6c5276c5-19f5-4429-d03f-39d53b5886c7",
    "slideshow": {
     "slide_type": "-"
    }
   },
   "outputs": [
    {
     "name": "stdout",
     "output_type": "stream",
     "text": [
      "Geese, villain?\n"
     ]
    }
   ],
   "source": [
    "lines = \"SERVANT: Sir, there are ten thousand--\\nMACBETH: Geese, villain?\"\n",
    "linelist = lines.splitlines()\n",
    "for line in linelist:\n",
    "  if line.startswith(\"MACBETH\"):\n",
    "    print(line.split(\": \")[1])"
   ]
  },
  {
   "cell_type": "markdown",
   "metadata": {
    "id": "80LPLD0O_g1l",
    "slideshow": {
     "slide_type": "slide"
    }
   },
   "source": [
    "When looking for nonsense entries in files, isdigit() returns true only if a whole string uses just digits 0-9; isalpha() return true only if all the characters are lower or uppercase letters; isalnum() returns true if the string is all letters and digits.  Checks like these can tell when something has gone very wrong."
   ]
  },
  {
   "cell_type": "code",
   "execution_count": 45,
   "metadata": {
    "colab": {
     "base_uri": "https://localhost:8080/"
    },
    "id": "3LqxF6Ah9sri",
    "outputId": "3309046f-d093-497a-cc3a-dbb201aef5a7",
    "slideshow": {
     "slide_type": "-"
    }
   },
   "outputs": [
    {
     "data": {
      "text/plain": [
       "[True, True, True, False]"
      ]
     },
     "execution_count": 45,
     "metadata": {},
     "output_type": "execute_result"
    }
   ],
   "source": [
    "mygroceries = 'milk,honey,eggs,!3#$@$'\n",
    "[x.isalpha() for x in mygroceries.split(\",\")] "
   ]
  },
  {
   "cell_type": "markdown",
   "metadata": {
    "id": "6AeXrJ7YTQhP",
    "slideshow": {
     "slide_type": "slide"
    }
   },
   "source": [
    "The simple \"in\" operator can let you check for substrings within strings."
   ]
  },
  {
   "cell_type": "code",
   "execution_count": 46,
   "metadata": {
    "colab": {
     "base_uri": "https://localhost:8080/"
    },
    "id": "HgdYdF1ITXm2",
    "outputId": "8bb2013f-8d06-4f09-c14b-61b8d6c2fea7",
    "slideshow": {
     "slide_type": "-"
    }
   },
   "outputs": [
    {
     "name": "stdout",
     "output_type": "stream",
     "text": [
      "True\n"
     ]
    }
   ],
   "source": [
    "print(\"foo\" in \"food\")"
   ]
  },
  {
   "cell_type": "markdown",
   "metadata": {
    "id": "g6HxerungXyq",
    "slideshow": {
     "slide_type": "slide"
    }
   },
   "source": [
    "# String comparison\n",
    "\n",
    "Strings can be compared using <, <=, ==, and similar comparison operators.  The comparison follows alphabetical order to a point, but it's really comparing the values of the characters in their binary encodings (accessible with the ord() function).  So uppercase registers as less than lowercase.  It's advisable to convert to lowercase with lower() before comparing strings in this way."
   ]
  },
  {
   "cell_type": "code",
   "execution_count": 47,
   "metadata": {
    "colab": {
     "base_uri": "https://localhost:8080/"
    },
    "id": "g3_iSwZTg2-P",
    "outputId": "09e88cf9-d9bb-420c-c847-f071377d5e89",
    "slideshow": {
     "slide_type": "-"
    }
   },
   "outputs": [
    {
     "data": {
      "text/plain": [
       "True"
      ]
     },
     "execution_count": 47,
     "metadata": {},
     "output_type": "execute_result"
    }
   ],
   "source": [
    "'bat' < 'cat'"
   ]
  },
  {
   "cell_type": "code",
   "execution_count": 48,
   "metadata": {
    "colab": {
     "base_uri": "https://localhost:8080/"
    },
    "id": "-u2ytD6rg_61",
    "outputId": "c7229223-34a5-48cd-c8e3-a85e6e8a453f",
    "slideshow": {
     "slide_type": "-"
    }
   },
   "outputs": [
    {
     "data": {
      "text/plain": [
       "False"
      ]
     },
     "execution_count": 48,
     "metadata": {},
     "output_type": "execute_result"
    }
   ],
   "source": [
    "'bat' < 'Cat'"
   ]
  },
  {
   "cell_type": "code",
   "execution_count": 49,
   "metadata": {
    "colab": {
     "base_uri": "https://localhost:8080/",
     "height": 36
    },
    "id": "GlI9UEOLhDX6",
    "outputId": "bcb2b10d-1530-464b-a327-64656979a445",
    "slideshow": {
     "slide_type": "-"
    }
   },
   "outputs": [
    {
     "data": {
      "text/plain": [
       "'b is 98, c is 99, C is 67'"
      ]
     },
     "execution_count": 49,
     "metadata": {},
     "output_type": "execute_result"
    }
   ],
   "source": [
    "f\"b is {ord('b')}, c is {ord('c')}, C is {ord('C')}\""
   ]
  },
  {
   "cell_type": "markdown",
   "metadata": {
    "id": "TLFgFBi_CeqU",
    "slideshow": {
     "slide_type": "slide"
    }
   },
   "source": [
    "# DataFrames and String operations\n",
    "\n",
    "DataFrames have great integration with the Python string methods.  You can call a string function and have it automatically applied to every item in the same column.  You just need to access the .str attribute, as demonstrated below.\n"
   ]
  },
  {
   "cell_type": "code",
   "execution_count": 52,
   "metadata": {
    "colab": {
     "base_uri": "https://localhost:8080/",
     "height": 112
    },
    "id": "yvWig6GzDMMV",
    "outputId": "acc1c215-cfbb-45dd-c789-7f2dcd6858c5",
    "slideshow": {
     "slide_type": "-"
    }
   },
   "outputs": [
    {
     "data": {
      "text/html": [
       "<div>\n",
       "<style scoped>\n",
       "    .dataframe tbody tr th:only-of-type {\n",
       "        vertical-align: middle;\n",
       "    }\n",
       "\n",
       "    .dataframe tbody tr th {\n",
       "        vertical-align: top;\n",
       "    }\n",
       "\n",
       "    .dataframe thead th {\n",
       "        text-align: right;\n",
       "    }\n",
       "</style>\n",
       "<table border=\"1\" class=\"dataframe\">\n",
       "  <thead>\n",
       "    <tr style=\"text-align: right;\">\n",
       "      <th></th>\n",
       "      <th>Hilton</th>\n",
       "      <th>Marriott</th>\n",
       "      <th>Four Seasons</th>\n",
       "    </tr>\n",
       "  </thead>\n",
       "  <tbody>\n",
       "    <tr>\n",
       "      <th>Alice</th>\n",
       "      <td>Excellent</td>\n",
       "      <td>Okay</td>\n",
       "      <td>Okay</td>\n",
       "    </tr>\n",
       "    <tr>\n",
       "      <th>Bob</th>\n",
       "      <td>Great</td>\n",
       "      <td>Good</td>\n",
       "      <td>Good</td>\n",
       "    </tr>\n",
       "  </tbody>\n",
       "</table>\n",
       "</div>"
      ],
      "text/plain": [
       "          Hilton    Marriott Four Seasons\n",
       "Alice  Excellent     Okay            Okay\n",
       "Bob    Great            Good         Good"
      ]
     },
     "execution_count": 52,
     "metadata": {},
     "output_type": "execute_result"
    }
   ],
   "source": [
    "import numpy as np\n",
    "import pandas as pd\n",
    "\n",
    "# Hotel ratings on a 5-star scale\n",
    "my_data = np.array([[\"Excellent\", \"   Okay   \", \"   Okay\"], [\"Great    \", \"   Good\", \"   Good\"]])\n",
    "df = pd.DataFrame(my_data, columns = [\"Hilton\", \"Marriott\", \"Four Seasons\"], index = [\"Alice\", \"Bob\"])\n",
    "df"
   ]
  },
  {
   "cell_type": "code",
   "execution_count": 56,
   "metadata": {
    "colab": {
     "base_uri": "https://localhost:8080/"
    },
    "id": "tbR9qwx-DqB0",
    "outputId": "54029a8c-a4c7-417a-bd4a-63dd747e7b50",
    "slideshow": {
     "slide_type": "-"
    }
   },
   "outputs": [
    {
     "name": "stdout",
     "output_type": "stream",
     "text": [
      "Alice       Okay   \n",
      "Bob            Good\n",
      "Name: Marriott, dtype: object\n"
     ]
    },
    {
     "data": {
      "text/plain": [
       "Alice    Okay\n",
       "Bob      Good\n",
       "Name: Marriott, dtype: object"
      ]
     },
     "execution_count": 56,
     "metadata": {},
     "output_type": "execute_result"
    }
   ],
   "source": [
    "marriott = df[\"Marriott\"] # Gets a Series from the DataFrame\n",
    "print(marriott)\n",
    "marriott.str.strip()"
   ]
  },
  {
   "cell_type": "markdown",
   "metadata": {
    "id": "Mg8Ti5E6jJQw",
    "slideshow": {
     "slide_type": "subslide"
    }
   },
   "source": [
    "Another use for this can be checking whether the string entries are all of an expected type - alphabetical or alphanumerical."
   ]
  },
  {
   "cell_type": "code",
   "execution_count": 57,
   "metadata": {
    "colab": {
     "base_uri": "https://localhost:8080/"
    },
    "id": "ffwNREWmjV16",
    "outputId": "31793436-3106-43c6-b16a-29ad1e14abe8",
    "slideshow": {
     "slide_type": "-"
    }
   },
   "outputs": [
    {
     "data": {
      "text/plain": [
       "Alice    False\n",
       "Bob      False\n",
       "Name: Marriott, dtype: bool"
      ]
     },
     "execution_count": 57,
     "metadata": {},
     "output_type": "execute_result"
    }
   ],
   "source": [
    "marriott.str.isalpha()  # Expect false because of spaces"
   ]
  },
  {
   "cell_type": "markdown",
   "metadata": {
    "id": "a6Zzzt_KfKhm",
    "slideshow": {
     "slide_type": "subslide"
    }
   },
   "source": [
    "DataFrames are also well-integrated with regular expression matching, which we'll explore just below."
   ]
  },
  {
   "cell_type": "code",
   "execution_count": 58,
   "metadata": {
    "colab": {
     "base_uri": "https://localhost:8080/"
    },
    "id": "NOYB4FZdfQGD",
    "outputId": "9e838d8d-0aa6-4d10-b247-d609e3452e0a",
    "slideshow": {
     "slide_type": "-"
    }
   },
   "outputs": [
    {
     "data": {
      "text/plain": [
       "Alice     True\n",
       "Bob      False\n",
       "Name: Marriott, dtype: bool"
      ]
     },
     "execution_count": 58,
     "metadata": {},
     "output_type": "execute_result"
    }
   ],
   "source": [
    "marriott.str.match(\"\\s*Okay\\s*\")"
   ]
  },
  {
   "cell_type": "markdown",
   "metadata": {
    "id": "Dm6LqIfSE3NW",
    "slideshow": {
     "slide_type": "slide"
    }
   },
   "source": [
    "# Regular expressions\n",
    "\n",
    "Regular expressions search for patterns in your data.  They can be either very specific, such as looking for a particular zip code (02143); or they could be very broad, like looking for words.  Once a pattern has been found, you can get back the string that matched the pattern; or you could extract details of the string that matched the pattern, like the name next to the zip code.\n"
   ]
  },
  {
   "cell_type": "markdown",
   "metadata": {
    "slideshow": {
     "slide_type": "subslide"
    }
   },
   "source": [
    "Regular expressions generally are hand-designed instead of generated with machine learning.  Machine learning also looks for patterns, but outshines humans when we can't easily describe the pattern we're looking for.  Regular expressions tend to be most successful when we know what we're looking for.\n"
   ]
  },
  {
   "cell_type": "markdown",
   "metadata": {
    "slideshow": {
     "slide_type": "subslide"
    }
   },
   "source": [
    "The pattern we're looking for is described by a string; it can literally be exactly the string we're looking for.  We hand this pattern to a method search() from the \"re\" module, and it can tell us whether the pattern is in the data.  The result is a \"match object,\" but its group() method tells us the string it found.  (The result is None if no match was found.)"
   ]
  },
  {
   "cell_type": "code",
   "execution_count": 59,
   "metadata": {
    "colab": {
     "base_uri": "https://localhost:8080/"
    },
    "id": "-XEER6vjE1rX",
    "outputId": "e4c839a6-18ac-4621-efab-a3eaaa765c92",
    "slideshow": {
     "slide_type": "-"
    }
   },
   "outputs": [
    {
     "name": "stdout",
     "output_type": "stream",
     "text": [
      "02143\n"
     ]
    }
   ],
   "source": [
    "import re\n",
    "\n",
    "pattern = '02143'\n",
    "longstring = '0132428190214300'  #It's before the last two zeros\n",
    "result = re.search(pattern, longstring)\n",
    "print(result.group())"
   ]
  },
  {
   "cell_type": "code",
   "execution_count": 60,
   "metadata": {
    "colab": {
     "base_uri": "https://localhost:8080/"
    },
    "id": "39hTc6XvHjjb",
    "outputId": "9f87d1d9-c01e-4ddb-e530-a93def437c69",
    "slideshow": {
     "slide_type": "subslide"
    }
   },
   "outputs": [
    {
     "name": "stdout",
     "output_type": "stream",
     "text": [
      "None\n"
     ]
    }
   ],
   "source": [
    "longstring = '0132428190214300'\n",
    "pattern2 = '999'\n",
    "result2 = re.search(pattern2, longstring)\n",
    "print(result2)"
   ]
  },
  {
   "cell_type": "markdown",
   "metadata": {
    "id": "FTCgd3D3H46H",
    "slideshow": {
     "slide_type": "subslide"
    }
   },
   "source": [
    "We can increase the power of the regular expression by using \"escape sequences\" that represent whole categories of symbol, like \\d for any digit, \\s for any whitespace, and \\w for any alphanumeric character.  So we could look for an arbitrary zip code with \\d\\d\\d\\d\\d."
   ]
  },
  {
   "cell_type": "code",
   "execution_count": 65,
   "metadata": {
    "colab": {
     "base_uri": "https://localhost:8080/"
    },
    "id": "Zp31FvE-JJMJ",
    "outputId": "fb00c63c-a152-4397-a523-526d3e9fc6fd",
    "slideshow": {
     "slide_type": "-"
    }
   },
   "outputs": [
    {
     "name": "stdout",
     "output_type": "stream",
     "text": [
      "42819\n"
     ]
    }
   ],
   "source": [
    "pattern3 = '\\d\\d\\d\\d\\d'\n",
    "\n",
    "longstring = 'blah0132blah42819blah0214300'\n",
    "\n",
    "result3 = re.search(pattern3, longstring)\n",
    "\n",
    "print(result3.group())"
   ]
  },
  {
   "cell_type": "markdown",
   "metadata": {
    "id": "RrMTdzX9JZ6r",
    "slideshow": {
     "slide_type": "subslide"
    }
   },
   "source": [
    "A * can match zero or more characters, and + can match one or more characters.  So looking for '3\\d*3' will try to find a sequence of digits bookended by 3's, but the stuff between could be arbitrarily long."
   ]
  },
  {
   "cell_type": "code",
   "execution_count": 66,
   "metadata": {
    "colab": {
     "base_uri": "https://localhost:8080/"
    },
    "id": "ViDeLnrrKlIq",
    "outputId": "4031abcf-28b9-4f51-f97f-04cf62789977",
    "slideshow": {
     "slide_type": "-"
    }
   },
   "outputs": [
    {
     "name": "stdout",
     "output_type": "stream",
     "text": [
      "324281902143\n"
     ]
    }
   ],
   "source": [
    "longstring = '0132428190214300'\n",
    "pattern4 = '3\\d*3'\n",
    "result4 = re.search(pattern4, longstring)\n",
    "print(result4.group())"
   ]
  },
  {
   "cell_type": "markdown",
   "metadata": {
    "id": "7di3yj9NxvIi",
    "slideshow": {
     "slide_type": "subslide"
    }
   },
   "source": [
    "It's also possible to be uncertain about a particular character being there or not:  a '?' in the expression indicates that the character could be there or not, and the expression still matches."
   ]
  },
  {
   "cell_type": "code",
   "execution_count": 67,
   "metadata": {
    "colab": {
     "base_uri": "https://localhost:8080/"
    },
    "id": "58pdjn9qx5zS",
    "outputId": "bde6a8ae-a67f-45f5-ee41-8b8f53ce7ec2",
    "slideshow": {
     "slide_type": "-"
    }
   },
   "outputs": [
    {
     "name": "stdout",
     "output_type": "stream",
     "text": [
      "242\n"
     ]
    }
   ],
   "source": [
    "longstring = '0132428190214300'\n",
    "pattern5 = '2\\d?2'\n",
    "result5 = re.search(pattern5, longstring)\n",
    "print(result5.group())\n"
   ]
  },
  {
   "cell_type": "markdown",
   "metadata": {
    "id": "VFZ2W3VSiJZV",
    "slideshow": {
     "slide_type": "subslide"
    }
   },
   "source": [
    "Something that can greatly increase the power of the regular expression is putting subsequences in parentheses, then using +, *, or ? on that \"group.\"  In the case of star, the whole sequence now can appear zero or more times, and + and ? are similarly extended to apply to the whole subgroup."
   ]
  },
  {
   "cell_type": "code",
   "execution_count": 68,
   "metadata": {
    "colab": {
     "base_uri": "https://localhost:8080/"
    },
    "id": "j7Fc-wabiiNg",
    "outputId": "6cb2eecb-8bdc-4abf-9033-b6b09c5e59c2",
    "slideshow": {
     "slide_type": "-"
    }
   },
   "outputs": [
    {
     "name": "stdout",
     "output_type": "stream",
     "text": [
      "foofoofoo\n"
     ]
    }
   ],
   "source": [
    "pattern = \"(foo)+\"\n",
    "longstring = \"foofoofoobar.\"\n",
    "result = re.search(pattern, longstring)\n",
    "print(result.group())"
   ]
  },
  {
   "cell_type": "markdown",
   "metadata": {
    "id": "212QjeWN25ZF",
    "slideshow": {
     "slide_type": "subslide"
    }
   },
   "source": [
    "Sometimes you may want to accept one of a few different strings.  The | (or) operator allows the regular expression to accept this or that."
   ]
  },
  {
   "cell_type": "code",
   "execution_count": 69,
   "metadata": {
    "colab": {
     "base_uri": "https://localhost:8080/"
    },
    "id": "sUPIqw6l3IKQ",
    "outputId": "e8b1e527-e117-4ea7-eafe-153336b18341",
    "slideshow": {
     "slide_type": "-"
    }
   },
   "outputs": [
    {
     "name": "stdout",
     "output_type": "stream",
     "text": [
      "foofoofoobar\n"
     ]
    }
   ],
   "source": [
    "pattern = \"(foo|bar)+\"\n",
    "longstring = \"foofoofoobar.\"\n",
    "result = re.search(pattern, longstring)\n",
    "print(result.group())"
   ]
  },
  {
   "cell_type": "markdown",
   "metadata": {
    "id": "JuhL1DRuKY5Z",
    "slideshow": {
     "slide_type": "slide"
    }
   },
   "source": [
    "A last interesting thing to do with a regex is capture information from subgroups (parentheses) in the regular expression.  This kind of thing is often done by machine learning now, because people can't write big enough expressions to make this work for arbitrary natural language, but you can do it yourself if you know what you're looking for."
   ]
  },
  {
   "cell_type": "code",
   "execution_count": 70,
   "metadata": {
    "colab": {
     "base_uri": "https://localhost:8080/"
    },
    "id": "amM8M2_BLWmX",
    "outputId": "ad4c3c95-6710-4cc1-c7e8-996818bf261e",
    "slideshow": {
     "slide_type": "-"
    }
   },
   "outputs": [
    {
     "name": "stdout",
     "output_type": "stream",
     "text": [
      "200\n"
     ]
    }
   ],
   "source": [
    "longstring = \"I ate 200 ham sandwiches last year\"\n",
    "pattern = \"(\\d+)\\sham\"  # Grab the digits before the word ham\n",
    "result = re.search(pattern, longstring)\n",
    "print(result.group(1))  # Subgroup 1, the first () in the pattern"
   ]
  },
  {
   "cell_type": "markdown",
   "metadata": {
    "id": "vWecNAmphtkx",
    "slideshow": {
     "slide_type": "slide"
    }
   },
   "source": [
    "# Exercise\n",
    "\n",
    "Write a regular expression that looks for a price:  a dollar sign followed by at least one digit.  Try running the search on the provided string.  Note that a dollar sign has a specific meaning in regular expressions (end of string), so you'll need to write it as an escape character (precede it with \\\\)."
   ]
  },
  {
   "cell_type": "code",
   "execution_count": null,
   "metadata": {
    "colab": {
     "base_uri": "https://localhost:8080/"
    },
    "id": "4yU2s1lYiCTn",
    "outputId": "4e0a274f-6549-46be-955a-03ee775dc135",
    "slideshow": {
     "slide_type": "slide"
    }
   },
   "outputs": [],
   "source": [
    "import re\n",
    "\n",
    "longstring = \"We paid $100 for those shoes\"\n",
    "pattern = '\\$\\d+'\n",
    "result = re.search(pattern, longstring)\n",
    "print(result.group())"
   ]
  },
  {
   "cell_type": "markdown",
   "metadata": {
    "id": "fMKsbqyNsiSV",
    "slideshow": {
     "slide_type": "slide"
    }
   },
   "source": [
    "For some more exercise with special regex characters and groups, try writing an expression that looks for two words separated by a space; print the second word."
   ]
  },
  {
   "cell_type": "code",
   "execution_count": null,
   "metadata": {
    "colab": {
     "base_uri": "https://localhost:8080/"
    },
    "id": "WKXipGi_pxsu",
    "outputId": "a6728b3f-df79-463a-b9d1-3cb6672dcd93",
    "slideshow": {
     "slide_type": "slide"
    }
   },
   "outputs": [],
   "source": [
    "pattern = '(\\w+)\\s(\\w+)'\n",
    "result = re.search(pattern, longstring)\n",
    "print(result.group(2))"
   ]
  }
 ],
 "metadata": {
  "celltoolbar": "Slideshow",
  "colab": {
   "collapsed_sections": [],
   "name": "Lecture11Strings_after.ipynb",
   "provenance": []
  },
  "kernelspec": {
   "display_name": "Python 3",
   "language": "python",
   "name": "python3"
  },
  "language_info": {
   "codemirror_mode": {
    "name": "ipython",
    "version": 3
   },
   "file_extension": ".py",
   "mimetype": "text/x-python",
   "name": "python",
   "nbconvert_exporter": "python",
   "pygments_lexer": "ipython3",
   "version": "3.8.8"
  },
  "rise": {
   "scroll": true
  }
 },
 "nbformat": 4,
 "nbformat_minor": 1
}
