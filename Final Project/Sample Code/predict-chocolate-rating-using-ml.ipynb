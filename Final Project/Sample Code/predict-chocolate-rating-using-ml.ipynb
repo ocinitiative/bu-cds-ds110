{
 "cells": [
  {
   "cell_type": "markdown",
   "execution_count": null,
   "metadata": {},
   "source": [
    "The dataset had total 9 attributes including the target attribute which is the rating for the chocolate. The problem statement is to classify the rating for the chocolated based on the value of the attributes. This problem was addressed as a classification problem since there were discrete values for the rating in the dataset. "
   ]
  },
  {
   "cell_type": "code",
   "execution_count": 1,
   "metadata": {
    "_cell_guid": "b1076dfc-b9ad-4769-8c92-a6c4dae69d19",
    "_uuid": "8f2839f25d086af736a60e9eeb907d3b93b6e0e5"
   },
   "outputs": [
    {
     "name": "stdout",
     "output_type": "stream",
     "text": [
      "/kaggle/input/chocolate-bar-ratings/flavors_of_cacao.csv\n"
     ]
    }
   ],
   "source": [
    "# This Python 3 environment comes with many helpful analytics libraries installed\n",
    "# It is defined by the kaggle/python Docker image: https://github.com/kaggle/docker-python\n",
    "# For example, here's several helpful packages to load\n",
    "\n",
    "import numpy as np # linear algebra\n",
    "import pandas as pd # data processing, CSV file I/O (e.g. pd.read_csv)\n",
    "\n",
    "# Input data files are available in the read-only \"../input/\" directory\n",
    "# For example, running this (by clicking run or pressing Shift+Enter) will list all files under the input directory\n",
    "\n",
    "import os\n",
    "for dirname, _, filenames in os.walk('/kaggle/input'):\n",
    "    for filename in filenames:\n",
    "        print(os.path.join(dirname, filename))\n",
    "\n",
    "# You can write up to 5GB to the current directory (/kaggle/working/) that gets preserved as output when you create a version using \"Save & Run All\" \n",
    "# You can also write temporary files to /kaggle/temp/, but they won't be saved outside of the current session"
   ]
  },
  {
   "cell_type": "markdown",
   "execution_count": null,
   "metadata": {},
   "source": [
    "First of all lets import the dataset into our notebook."
   ]
  },
  {
   "cell_type": "code",
   "execution_count": 2,
   "metadata": {},
   "outputs": [
    {
     "data": {
      "text/html": [
       "<div>\n",
       "<style scoped>\n",
       "    .dataframe tbody tr th:only-of-type {\n",
       "        vertical-align: middle;\n",
       "    }\n",
       "\n",
       "    .dataframe tbody tr th {\n",
       "        vertical-align: top;\n",
       "    }\n",
       "\n",
       "    .dataframe thead th {\n",
       "        text-align: right;\n",
       "    }\n",
       "</style>\n",
       "<table border=\"1\" class=\"dataframe\">\n",
       "  <thead>\n",
       "    <tr style=\"text-align: right;\">\n",
       "      <th></th>\n",
       "      <th>Company \\n(Maker-if known)</th>\n",
       "      <th>Specific Bean Origin\\nor Bar Name</th>\n",
       "      <th>REF</th>\n",
       "      <th>Review\\nDate</th>\n",
       "      <th>Cocoa\\nPercent</th>\n",
       "      <th>Company\\nLocation</th>\n",
       "      <th>Rating</th>\n",
       "      <th>Bean\\nType</th>\n",
       "      <th>Broad Bean\\nOrigin</th>\n",
       "    </tr>\n",
       "  </thead>\n",
       "  <tbody>\n",
       "    <tr>\n",
       "      <th>0</th>\n",
       "      <td>A. Morin</td>\n",
       "      <td>Agua Grande</td>\n",
       "      <td>1876</td>\n",
       "      <td>2016</td>\n",
       "      <td>63%</td>\n",
       "      <td>France</td>\n",
       "      <td>3.75</td>\n",
       "      <td></td>\n",
       "      <td>Sao Tome</td>\n",
       "    </tr>\n",
       "    <tr>\n",
       "      <th>1</th>\n",
       "      <td>A. Morin</td>\n",
       "      <td>Kpime</td>\n",
       "      <td>1676</td>\n",
       "      <td>2015</td>\n",
       "      <td>70%</td>\n",
       "      <td>France</td>\n",
       "      <td>2.75</td>\n",
       "      <td></td>\n",
       "      <td>Togo</td>\n",
       "    </tr>\n",
       "    <tr>\n",
       "      <th>2</th>\n",
       "      <td>A. Morin</td>\n",
       "      <td>Atsane</td>\n",
       "      <td>1676</td>\n",
       "      <td>2015</td>\n",
       "      <td>70%</td>\n",
       "      <td>France</td>\n",
       "      <td>3.00</td>\n",
       "      <td></td>\n",
       "      <td>Togo</td>\n",
       "    </tr>\n",
       "    <tr>\n",
       "      <th>3</th>\n",
       "      <td>A. Morin</td>\n",
       "      <td>Akata</td>\n",
       "      <td>1680</td>\n",
       "      <td>2015</td>\n",
       "      <td>70%</td>\n",
       "      <td>France</td>\n",
       "      <td>3.50</td>\n",
       "      <td></td>\n",
       "      <td>Togo</td>\n",
       "    </tr>\n",
       "    <tr>\n",
       "      <th>4</th>\n",
       "      <td>A. Morin</td>\n",
       "      <td>Quilla</td>\n",
       "      <td>1704</td>\n",
       "      <td>2015</td>\n",
       "      <td>70%</td>\n",
       "      <td>France</td>\n",
       "      <td>3.50</td>\n",
       "      <td></td>\n",
       "      <td>Peru</td>\n",
       "    </tr>\n",
       "  </tbody>\n",
       "</table>\n",
       "</div>"
      ],
      "text/plain": [
       "  Company \\n(Maker-if known) Specific Bean Origin\\nor Bar Name   REF  \\\n",
       "0                   A. Morin                       Agua Grande  1876   \n",
       "1                   A. Morin                             Kpime  1676   \n",
       "2                   A. Morin                            Atsane  1676   \n",
       "3                   A. Morin                             Akata  1680   \n",
       "4                   A. Morin                            Quilla  1704   \n",
       "\n",
       "   Review\\nDate Cocoa\\nPercent Company\\nLocation  Rating Bean\\nType  \\\n",
       "0          2016            63%            France    3.75              \n",
       "1          2015            70%            France    2.75              \n",
       "2          2015            70%            France    3.00              \n",
       "3          2015            70%            France    3.50              \n",
       "4          2015            70%            France    3.50              \n",
       "\n",
       "  Broad Bean\\nOrigin  \n",
       "0           Sao Tome  \n",
       "1               Togo  \n",
       "2               Togo  \n",
       "3               Togo  \n",
       "4               Peru  "
      ]
     },
     "execution_count": 2,
     "metadata": {},
     "output_type": "execute_result"
    }
   ],
   "source": [
    "import pandas as pd\n",
    "import numpy as np\n",
    "# Importing the csv data files \n",
    "data = pd.read_csv('../input/chocolate-bar-ratings/flavors_of_cacao.csv',error_bad_lines=False, warn_bad_lines=True)\n",
    "data.head()"
   ]
  },
  {
   "cell_type": "markdown",
   "execution_count": null,
   "metadata": {},
   "source": [
    "The name of the attributes(column names) are renamed to make it easier to work with. The main reason is that in the original dataset the column names were taking two rows which would make our references to those columns clumsy as we need to include '\\n' for the column names "
   ]
  },
  {
   "cell_type": "code",
   "execution_count": 3,
   "metadata": {},
   "outputs": [
    {
     "data": {
      "text/html": [
       "<div>\n",
       "<style scoped>\n",
       "    .dataframe tbody tr th:only-of-type {\n",
       "        vertical-align: middle;\n",
       "    }\n",
       "\n",
       "    .dataframe tbody tr th {\n",
       "        vertical-align: top;\n",
       "    }\n",
       "\n",
       "    .dataframe thead th {\n",
       "        text-align: right;\n",
       "    }\n",
       "</style>\n",
       "<table border=\"1\" class=\"dataframe\">\n",
       "  <thead>\n",
       "    <tr style=\"text-align: right;\">\n",
       "      <th></th>\n",
       "      <th>company</th>\n",
       "      <th>bean_origin</th>\n",
       "      <th>REF</th>\n",
       "      <th>review_date</th>\n",
       "      <th>cocoa_percent</th>\n",
       "      <th>company_location</th>\n",
       "      <th>rating</th>\n",
       "      <th>bean_typ</th>\n",
       "      <th>country_origin</th>\n",
       "    </tr>\n",
       "  </thead>\n",
       "  <tbody>\n",
       "    <tr>\n",
       "      <th>0</th>\n",
       "      <td>A. Morin</td>\n",
       "      <td>Agua Grande</td>\n",
       "      <td>1876</td>\n",
       "      <td>2016</td>\n",
       "      <td>63%</td>\n",
       "      <td>France</td>\n",
       "      <td>3.75</td>\n",
       "      <td></td>\n",
       "      <td>Sao Tome</td>\n",
       "    </tr>\n",
       "    <tr>\n",
       "      <th>1</th>\n",
       "      <td>A. Morin</td>\n",
       "      <td>Kpime</td>\n",
       "      <td>1676</td>\n",
       "      <td>2015</td>\n",
       "      <td>70%</td>\n",
       "      <td>France</td>\n",
       "      <td>2.75</td>\n",
       "      <td></td>\n",
       "      <td>Togo</td>\n",
       "    </tr>\n",
       "    <tr>\n",
       "      <th>2</th>\n",
       "      <td>A. Morin</td>\n",
       "      <td>Atsane</td>\n",
       "      <td>1676</td>\n",
       "      <td>2015</td>\n",
       "      <td>70%</td>\n",
       "      <td>France</td>\n",
       "      <td>3.00</td>\n",
       "      <td></td>\n",
       "      <td>Togo</td>\n",
       "    </tr>\n",
       "    <tr>\n",
       "      <th>3</th>\n",
       "      <td>A. Morin</td>\n",
       "      <td>Akata</td>\n",
       "      <td>1680</td>\n",
       "      <td>2015</td>\n",
       "      <td>70%</td>\n",
       "      <td>France</td>\n",
       "      <td>3.50</td>\n",
       "      <td></td>\n",
       "      <td>Togo</td>\n",
       "    </tr>\n",
       "    <tr>\n",
       "      <th>4</th>\n",
       "      <td>A. Morin</td>\n",
       "      <td>Quilla</td>\n",
       "      <td>1704</td>\n",
       "      <td>2015</td>\n",
       "      <td>70%</td>\n",
       "      <td>France</td>\n",
       "      <td>3.50</td>\n",
       "      <td></td>\n",
       "      <td>Peru</td>\n",
       "    </tr>\n",
       "  </tbody>\n",
       "</table>\n",
       "</div>"
      ],
      "text/plain": [
       "    company  bean_origin   REF  review_date cocoa_percent company_location  \\\n",
       "0  A. Morin  Agua Grande  1876         2016           63%           France   \n",
       "1  A. Morin        Kpime  1676         2015           70%           France   \n",
       "2  A. Morin       Atsane  1676         2015           70%           France   \n",
       "3  A. Morin        Akata  1680         2015           70%           France   \n",
       "4  A. Morin       Quilla  1704         2015           70%           France   \n",
       "\n",
       "   rating bean_typ country_origin  \n",
       "0    3.75                Sao Tome  \n",
       "1    2.75                    Togo  \n",
       "2    3.00                    Togo  \n",
       "3    3.50                    Togo  \n",
       "4    3.50                    Peru  "
      ]
     },
     "execution_count": 3,
     "metadata": {},
     "output_type": "execute_result"
    }
   ],
   "source": [
    "# Renaming the column name\n",
    "new_col_names = ['company', 'bean_origin', 'REF', 'review_date', 'cocoa_percent',\n",
    "                'company_location', 'rating', 'bean_typ', 'country_origin']\n",
    "data_clean = data.rename(columns=dict(zip(data.columns, new_col_names)))\n",
    "data_clean.head()"
   ]
  },
  {
   "cell_type": "markdown",
   "execution_count": null,
   "metadata": {},
   "source": [
    "Some functions are being created so that we avoid repetation of the code and to make our code more succinct."
   ]
  },
  {
   "cell_type": "code",
   "execution_count": 4,
   "metadata": {},
   "outputs": [
    {
     "name": "stdout",
     "output_type": "stream",
     "text": [
      "Unique values for the column: company\n",
      "['A. Morin' 'Acalli' 'Adi' 'Aequare (Gianduja)' 'Ah Cacao'\n",
      " \"Akesson's (Pralus)\" 'Alain Ducasse' 'Alexandre' 'Altus aka Cao Artisan'\n",
      " 'Amano' 'Amatller (Simon Coll)' 'Amazona' 'Ambrosia' 'Amedei' 'AMMA'\n",
      " 'Anahata' 'Animas' 'Ara' 'Arete' 'Artisan du Chocolat'\n",
      " 'Artisan du Chocolat (Casa Luker)' 'Askinosie' 'Bahen & Co.' 'Bakau'\n",
      " 'Bar Au Chocolat' \"Baravelli's\" 'Batch' 'Beau Cacao' 'Beehive'\n",
      " 'Belcolade' 'Bellflower' 'Belyzium' 'Benoit Nihant' 'Bernachon'\n",
      " 'Beschle (Felchlin)' 'Bisou' 'Bittersweet Origins' 'Black Mountain'\n",
      " 'Black River (A. Morin)' 'Blanxart' 'Blue Bandana' 'Bonnat'\n",
      " 'Bouga Cacao (Tulicorp)' 'Bowler Man' \"Brasstown aka It's Chocolate\"\n",
      " 'Brazen' 'Breeze Mill' 'Bright' 'Britarev' 'Bronx Grrl Chocolate'\n",
      " 'Burnt Fork Bend' 'Cacao Arabuco' 'Cacao Atlanta' 'Cacao Barry'\n",
      " 'Cacao de Origen' 'Cacao de Origin' 'Cacao Hunters' 'Cacao Market'\n",
      " 'Cacao Prieto' 'Cacao Sampaka' 'Cacao Store'\n",
      " 'Cacaosuyo (Theobroma Inversiones)' 'Cacaoyere (Ecuatoriana)' 'Callebaut'\n",
      " 'C-Amaro' 'Cao' 'Caoni (Tulicorp)' 'Captain Pembleton' 'Caribeans'\n",
      " 'Carlotta Chocolat' 'Castronovo' 'Cello' 'Cemoi' 'Chaleur B'\n",
      " 'Charm School' 'Chchukululu (Tulicorp)' 'Chequessett' 'Chloe Chocolat'\n",
      " 'Chocablog' 'Choco Del Sol' 'Choco Dong' 'Chocolarder' \"Chocola'te\"\n",
      " 'Chocolate Alchemist-Philly' 'Chocolate Con Amor' 'Chocolate Conspiracy'\n",
      " 'Chocolate Makers' 'Chocolate Tree, The' 'Chocolats Privilege'\n",
      " 'ChocoReko' 'Chocosol' 'Chocovic' 'Chocovivo' 'Choklat'\n",
      " 'Chokolat Elot (Girard)' 'Choocsol' 'Christopher Morel (Felchlin)'\n",
      " 'Chuao Chocolatier' 'Chuao Chocolatier (Pralus)' 'Claudio Corallo'\n",
      " 'Cloudforest' 'Coleman & Davis' 'Compania de Chocolate (Salgado)'\n",
      " 'Condor' 'Confluence' 'Coppeneur' \"Cote d' Or (Kraft)\" 'Cravve' 'Creo'\n",
      " 'Daintree' 'Dalloway' 'Damson' 'Dandelion' 'Danta' 'DAR' 'Dark Forest'\n",
      " 'Davis' 'De Mendes' 'De Villiers' 'Dean and Deluca (Belcolade)'\n",
      " 'Debauve & Gallais (Michel Cluizel)' 'Desbarres' 'DeVries' 'Dick Taylor'\n",
      " 'Doble & Bignall' 'Dole (Guittard)' 'Dolfin (Belcolade)' 'Domori'\n",
      " 'Dormouse' \"Duffy's\" 'Dulcinea' 'Durand' 'Durci' 'East Van Roasters'\n",
      " 'Eau de Rose' 'Eclat (Felchlin)' 'Edelmond' 'El Ceibo' 'El Rey'\n",
      " 'Emerald Estate' \"Emily's\" 'ENNA' 'Enric Rovira (Claudio Corallo)'\n",
      " 'Erithaj (A. Morin)' 'Escazu' \"Ethel's Artisan (Mars)\" 'Ethereal'\n",
      " 'Fearless (AMMA)' 'Feitoria Cacao' 'Felchlin' 'Finca' 'Forever Cacao'\n",
      " 'Forteza (Cortes)' 'Fossa' 'Franceschi' 'Frederic Blondeel'\n",
      " 'French Broad' 'Fresco' 'Friis Holm' 'Friis Holm (Bonnat)' 'Fruition'\n",
      " 'Garden Island' 'Georgia Ramon' 'Glennmade' 'Goodnow Farms' 'Grand Place'\n",
      " \"Green & Black's (ICAM)\" 'Green Bean to Bar' 'Grenada Chocolate Co.'\n",
      " 'Guido Castagna' 'Guittard' 'Habitual' 'Hachez' 'Hacienda El Castillo'\n",
      " 'Haigh' 'Harper Macaw' 'Heilemann'\n",
      " 'Heirloom Cacao Preservation (Brasstown)'\n",
      " 'Heirloom Cacao Preservation (Fruition)'\n",
      " 'Heirloom Cacao Preservation (Guittard)'\n",
      " 'Heirloom Cacao Preservation (Manoa)'\n",
      " 'Heirloom Cacao Preservation (Millcreek)'\n",
      " 'Heirloom Cacao Preservation (Mindo)'\n",
      " 'Heirloom Cacao Preservation (Zokoko)' 'hello cocoa' 'hexx' 'Hogarth'\n",
      " 'Hoja Verde (Tulicorp)' 'Holy Cacao' 'Honest' 'Hotel Chocolat'\n",
      " 'Hotel Chocolat (Coppeneur)' 'Hummingbird' 'Idilio (Felchlin)' 'Indah'\n",
      " 'Indaphoria' 'Indi' 'iQ Chocolate' 'Isidro' 'Izard' 'Jacque Torres'\n",
      " 'Jordis' 'Just Good Chocolate' 'Kah Kow' 'Kakao' 'Kallari (Ecuatoriana)'\n",
      " 'Kaoka (Cemoi)' 'Kerchner' \"Ki' Xocolatl\" 'Kiskadee' 'Kto' \"K'ul\" 'Kyya'\n",
      " 'L.A. Burdick (Felchlin)' 'La Chocolaterie Nanairo'\n",
      " 'La Maison du Chocolat (Valrhona)' 'La Oroquidea' 'La Pepa de Oro'\n",
      " 'Laia aka Chat-Noir' 'Lajedo do Ouro' 'Lake Champlain (Callebaut)'\n",
      " \"L'Amourette\" 'Letterpress' 'Levy' 'Lilla' 'Lillie Belle'\n",
      " 'Lindt & Sprungli' 'Loiza' 'Lonohana' 'Love Bar' 'Luker'\n",
      " 'Machu Picchu Trading Co.' 'Madecasse (Cinagra)' 'Madre' 'Maglio'\n",
      " 'Majani' 'Malagasy (Chocolaterie Robert)' 'Malagos'\n",
      " 'Malie Kai (Guittard)' 'Malmo' 'Mana' 'Manifesto Cacao' 'Manoa'\n",
      " 'Manufaktura Czekolady' 'Map Chocolate' 'Marana' \"Marigold's Finest\"\n",
      " 'Marou' 'Mars' 'Marsatta' 'Martin Mayer' 'Mast Brothers' 'Matale'\n",
      " 'Maverick' 'Mayacama' 'Meadowlands' 'Menakao (aka Cinagra)' 'Mesocacao'\n",
      " 'Metiisto' 'Metropolitan' 'Michel Cluizel' 'Middlebury'\n",
      " 'Millcreek Cacao Roasters' 'Mindo' 'Minimal' 'Mission' 'Mita' 'Moho'\n",
      " 'Molucca' 'Momotombo' 'Monarque' 'Monsieur Truffe' 'Montecristi'\n",
      " 'Muchomas (Mesocacao)' 'Mutari' 'Nahua' 'Naive' 'Na�ve' 'Nanea'\n",
      " 'Nathan Miller' 'Neuhaus (Callebaut)' 'Nibble' 'Night Owl'\n",
      " 'Noble Bean aka Jerjobo' \"Noir d' Ebine\" 'Nova Monda' 'Nuance' 'Nugali'\n",
      " 'Oakland Chocolate Co.' 'Obolo' 'Ocelot' 'Ocho' 'Ohiyo'\n",
      " 'Oialla by Bojessen (Malmo)' 'Olive and Sinclair' 'Olivia' 'Omanhene'\n",
      " 'Omnom' 'organicfair' 'Original Beans (Felchlin)'\n",
      " 'Original Hawaiin Chocolate Factory' 'Orquidea' 'Pacari'\n",
      " 'Palette de Bine' 'Pangea' 'Park 75' 'Parliament' 'Pascha' 'Patric'\n",
      " 'Paul Young' 'Peppalo' 'Pierre Marcolini' 'Pinellas' 'Pitch Dark'\n",
      " 'Pomm (aka Dead Dog)' 'Potomac' 'Pralus' 'Pump Street Bakery'\n",
      " 'Pura Delizia' 'Q Chocolate' 'Quetzalli (Wolter)' 'Raaka' 'Rain Republic'\n",
      " 'Rancho San Jacinto' 'Ranger' 'Raoul Boulanger' 'Raw Cocoa'\n",
      " 'Republica del Cacao (aka Confecta)' 'Ritual' 'Roasting Masters'\n",
      " 'Robert (aka Chocolaterie Robert)' 'Rococo (Grenada Chocolate Co.)'\n",
      " 'Rogue' 'Rozsavolgyi' 'S.A.I.D.' 'Sacred' 'Salgado'\n",
      " 'Santander (Compania Nacional)' 'Santome' 'Scharffen Berger' 'Seaforth'\n",
      " 'Shark Mountain' \"Shark's\" 'Shattel' 'Shattell' 'Sibu' 'Sibu Sura'\n",
      " 'Silvio Bessone' 'Sirene' 'Sjolinds' 'Smooth Chocolator, The'\n",
      " 'Snake & Butterfly' 'Sol Cacao' 'Solkiki' 'Solomons Gold' 'Solstice'\n",
      " 'Soma' 'Somerville' 'Soul' 'Spagnvola' 'Spencer' 'Sprungli (Felchlin)'\n",
      " 'SRSLY' 'Starchild' 'Stella (aka Bernrain)' 'Stone Grindz'\n",
      " 'StRita Supreme' 'Sublime Origins' 'Summerbird' 'Suruca Chocolate'\n",
      " 'Svenska Kakaobolaget' 'Szanto Tibor' 'Tabal'\n",
      " 'Tablette (aka Vanillabeans)' 'Tan Ban Skrati' 'Taza' 'TCHO' 'Tejas'\n",
      " 'Terroir' 'The Barn' 'Theo' 'Theobroma' 'Timo A. Meyer'\n",
      " \"To'ak (Ecuatoriana)\" 'Tobago Estate (Pralus)' 'Tocoti' 'Treehouse'\n",
      " 'Tsara (Cinagra)' 'twenty-four blackbirds' 'Two Ravens'\n",
      " 'Un Dimanche A Paris' 'Undone' 'Upchurch' 'Urzi' 'Valrhona'\n",
      " 'Vanleer (Barry Callebaut)' 'Vao Vao (Chocolaterie Robert)' 'Vicuna'\n",
      " 'Videri' 'Vietcacao (A. Morin)' 'Vintage Plantations'\n",
      " 'Vintage Plantations (Tulicorp)' 'Violet Sky' 'Vivra'\n",
      " 'Wellington Chocolate Factory' 'Whittakers' \"Wilkie's Organic\"\n",
      " \"Willie's Cacao\" 'Wm' 'Woodblock' 'Xocolat' 'Xocolla' \"Zak's\"\n",
      " 'Zart Pralinen' 'Zokoko' 'Zotter']\n",
      "\n",
      "\n",
      "Unique values for the column: bean_origin\n",
      "['Agua Grande' 'Kpime' 'Atsane' ... 'Indianer, Raw' 'Kerala State'\n",
      " 'Brazil, Mitzi Blue']\n",
      "\n",
      "\n",
      "Unique values for the column: REF\n",
      "[1876 1676 1680 1704 1315 1319 1011 1015 1019  797 1462 1470  705  370\n",
      "  316  636  502  508 1215 1061 1173 1944 1728 1732 1125 1129 1133  725\n",
      "  470  544  363  304  129  147  175  322  327  464 1145 1494 1498  979\n",
      "  111  123  170   40   75 1065  572 1259 1852 1375 1379 1724 1900 1904\n",
      " 1908 1924 1928 1534 1598 1602 1193  947  729  745  486  531  600  355\n",
      "  300 1181 1780  647  661  331  141 1474  995  999 1454 1554 1295  983\n",
      "  955 1840 1868 1880 1948 1784 1788  586 1800 1804 1864 1768 1141  757\n",
      "  773 1482 1486  963  478  558  565  414  423  431  233  256 1331 1046\n",
      " 1740 1752 1756  911 1912 1339 1418 1038 1042  629  672  761  336  395\n",
      "  199   24   32   48   81  341 1267 1271 1255 1355 1514 1518 1149 1231\n",
      " 1235 1638 1299 1303 1323 1606 1716 1688 1692 1391 1395 1668 1816 1662\n",
      " 1430 1434 1860  991  641  523  537  346 1684  237  245  259  296 1442\n",
      " 1185  809  749  765 1808  266  269 1263 1582 1586  841  845 1884 1888\n",
      " 1570 1574 1347 1371 1407 1101 1105 1109 1153 1247 1251  404 1426  252\n",
      " 1696 1772 1760 1764 1530 1121  919 1219  682  439  209  117 1522  377\n",
      " 1832  666  445  227 1646  579  292 1630 1916 1169  813  817  821  959\n",
      "  451  220  196 1283 1335  971  975 1736 1654  785 1610 1666 1446 1387\n",
      " 1026 1085  805  915  654 1223  987 1920 1708 1550 1093  907  180  263\n",
      "  241  166 1952 1634 1034  895  769  311   63 1672  863  693  272  135\n",
      "  192   87  923  623  697  516 1506 1626 1343 1812  709  206 1137 1450\n",
      " 1205 1209  903 1275  494  105   56 1287 1776 1538 1542 1351 1940  883\n",
      "  887  781 1383 1030 1081 1117  899  927  931  642  688 1359  753 1367\n",
      " 1642 1848  741   15 1896 1053  552  387  276   93   99 1197 1201 1327\n",
      "  701 1700 1748 1239 1243 1744 1458 1546 1712 1872 1466 1113 1307 1311\n",
      " 1097  733  737  943 1279    5 1069 1073  837  248 1422 1363  891  576\n",
      "  597 1892 1189  230  721  713 1590 1594 1438  833  853 1562 1566 1856\n",
      "  855  157 1049 1502  284  288 1089  607  308  184 1003 1007 1844  871\n",
      "  875 1478 1650  849 1836  777 1177 1291 1490  825 1614 1618  772 1658\n",
      "  867 1399 1403 1526 1022  935 1558 1411  457 1161 1165  859 1415  224\n",
      " 1720 1510  829 1820  789  717  202  280  162 1227 1057 1796  967  793\n",
      "  213  615  188 1622 1792 1157 1828 1077  951  676 1932 1936  939  801\n",
      "  153 1211  593 1578 1824  879]\n",
      "\n",
      "\n",
      "Unique values for the column: review_date\n",
      "[2016 2015 2014 2013 2012 2011 2009 2010 2017 2008 2007 2006]\n",
      "\n",
      "\n",
      "Unique values for the column: cocoa_percent\n",
      "['63%' '70%' '60%' '80%' '88%' '72%' '55%' '75%' '65%' '85%' '73%' '64%'\n",
      " '66%' '68%' '50%' '100%' '77%' '90%' '71%' '83%' '78%' '74%' '76%' '86%'\n",
      " '82%' '69%' '91%' '42%' '61%' '73.5%' '62%' '67%' '58%' '60.5%' '79%'\n",
      " '81%' '57%' '72.5%' '56%' '46%' '89%' '99%' '84%' '53%' '87%']\n",
      "\n",
      "\n",
      "Unique values for the column: company_location\n",
      "['France' 'U.S.A.' 'Fiji' 'Ecuador' 'Mexico' 'Switzerland' 'Netherlands'\n",
      " 'Spain' 'Peru' 'Canada' 'Italy' 'Brazil' 'U.K.' 'Australia' 'Wales'\n",
      " 'Belgium' 'Germany' 'Russia' 'Puerto Rico' 'Venezuela' 'Colombia' 'Japan'\n",
      " 'New Zealand' 'Costa Rica' 'South Korea' 'Amsterdam' 'Scotland'\n",
      " 'Martinique' 'Sao Tome' 'Argentina' 'Guatemala' 'South Africa' 'Bolivia'\n",
      " 'St. Lucia' 'Portugal' 'Singapore' 'Denmark' 'Vietnam' 'Grenada' 'Israel'\n",
      " 'India' 'Czech Republic' 'Domincan Republic' 'Finland' 'Madagascar'\n",
      " 'Philippines' 'Sweden' 'Poland' 'Austria' 'Honduras' 'Nicaragua'\n",
      " 'Lithuania' 'Niacragua' 'Chile' 'Ghana' 'Iceland' 'Eucador' 'Hungary'\n",
      " 'Suriname' 'Ireland']\n",
      "\n",
      "\n",
      "Unique values for the column: rating\n",
      "[3.75 2.75 3.   3.5  4.   3.25 2.5  5.   1.75 1.5  2.25 2.   1.  ]\n",
      "\n",
      "\n",
      "Unique values for the column: bean_typ\n",
      "['\\xa0' 'Criollo' 'Trinitario' 'Forastero (Arriba)' 'Forastero'\n",
      " 'Forastero (Nacional)' 'Criollo, Trinitario' 'Criollo (Porcelana)'\n",
      " 'Blend' 'Trinitario (85% Criollo)' 'Forastero (Catongo)'\n",
      " 'Forastero (Parazinho)' 'Trinitario, Criollo' 'CCN51' 'Criollo (Ocumare)'\n",
      " 'Nacional' 'Criollo (Ocumare 61)' 'Criollo (Ocumare 77)'\n",
      " 'Criollo (Ocumare 67)' 'Criollo (Wild)' 'Beniano' 'Amazon mix'\n",
      " 'Trinitario, Forastero' 'Forastero (Arriba) ASS' 'Criollo, +' 'Amazon'\n",
      " 'Amazon, ICS' 'EET' 'Blend-Forastero,Criollo' 'Trinitario (Scavina)'\n",
      " 'Criollo, Forastero' 'Matina' 'Forastero(Arriba, CCN)'\n",
      " 'Nacional (Arriba)' 'Forastero (Arriba) ASSS' 'Forastero, Trinitario'\n",
      " 'Forastero (Amelonado)' nan 'Trinitario, Nacional'\n",
      " 'Trinitario (Amelonado)' 'Trinitario, TCGA' 'Criollo (Amarru)']\n",
      "\n",
      "\n",
      "Unique values for the column: country_origin\n",
      "['Sao Tome' 'Togo' 'Peru' 'Venezuela' 'Cuba' 'Panama' 'Madagascar'\n",
      " 'Brazil' 'Ecuador' 'Colombia' 'Burma' 'Papua New Guinea' 'Bolivia' 'Fiji'\n",
      " 'Mexico' 'Indonesia' 'Trinidad' 'Vietnam' 'Nicaragua' 'Tanzania'\n",
      " 'Dominican Republic' 'Ghana' 'Belize' '\\xa0' 'Jamaica' 'Grenada'\n",
      " 'Guatemala' 'Honduras' 'Costa Rica' 'Domincan Republic' 'Haiti' 'Congo'\n",
      " 'Philippines' 'Malaysia' 'Dominican Rep., Bali'\n",
      " 'Venez,Africa,Brasil,Peru,Mex' 'Gabon' 'Ivory Coast' 'Carribean'\n",
      " 'Sri Lanka' 'Puerto Rico' 'Uganda' 'Martinique' 'Sao Tome & Principe'\n",
      " 'Vanuatu' 'Australia' 'Liberia' 'Ecuador, Costa Rica' 'West Africa'\n",
      " 'Hawaii' 'St. Lucia' 'Cost Rica, Ven' 'Peru, Madagascar'\n",
      " 'Venezuela, Trinidad' 'Trinidad, Tobago' 'Ven, Trinidad, Ecuador'\n",
      " 'South America, Africa' 'India' 'Africa, Carribean, C. Am.' 'Tobago'\n",
      " 'Ven., Indonesia, Ecuad.' 'Trinidad-Tobago' 'Peru, Ecuador, Venezuela'\n",
      " 'Venezuela, Dom. Rep.' 'Colombia, Ecuador' 'Solomon Islands' 'Nigeria'\n",
      " 'Peru, Belize' 'Peru, Mad., Dom. Rep.' nan 'PNG, Vanuatu, Mad'\n",
      " 'El Salvador' 'South America' 'Samoa' 'Ghana, Domin. Rep'\n",
      " 'Trinidad, Ecuador' 'Cameroon' 'Venezuela, Java' 'Venezuela/ Ghana'\n",
      " 'Venezuela, Ghana' 'Indonesia, Ghana' 'Peru(SMartin,Pangoa,nacional)'\n",
      " 'Principe' 'Central and S. America' 'Ven., Trinidad, Mad.'\n",
      " 'Carribean(DR/Jam/Tri)' 'Ghana & Madagascar' 'Ven.,Ecu.,Peru,Nic.'\n",
      " 'Madagascar & Ecuador' 'Guat., D.R., Peru, Mad., PNG' 'Peru, Dom. Rep'\n",
      " 'Dom. Rep., Madagascar' 'Gre., PNG, Haw., Haiti, Mad' 'Mad., Java, PNG'\n",
      " 'Ven, Bolivia, D.R.' 'DR, Ecuador, Peru' 'Suriname' 'Peru, Ecuador'\n",
      " 'Ecuador, Mad., PNG' 'Ghana, Panama, Ecuador' 'Venezuela, Carribean']\n",
      "\n",
      "\n",
      "The total number of null values in : company\n",
      "0\n",
      "The total number of null values in : bean_origin\n",
      "0\n",
      "The total number of null values in : REF\n",
      "0\n",
      "The total number of null values in : review_date\n",
      "0\n",
      "The total number of null values in : cocoa_percent\n",
      "0\n",
      "The total number of null values in : company_location\n",
      "0\n",
      "The total number of null values in : rating\n",
      "0\n",
      "The total number of null values in : bean_typ\n",
      "1\n",
      "The total number of null values in : country_origin\n",
      "1\n"
     ]
    }
   ],
   "source": [
    "# Function to count the number of null values in a column\n",
    "def count_null_values(dataset, column_list):\n",
    "    for i in range (len(column_list)):\n",
    "        print (\"The total number of null values in :\",column_list[i])\n",
    "        print (dataset[column_list[i]].isnull().sum())\n",
    "    return\n",
    "\n",
    "# Function to dispplay the unique counts in a column\n",
    "def print_uniques(dataset, column_list):\n",
    "    for i in range (len(column_list)):\n",
    "        print (\"Unique values for the column:\",column_list[i])\n",
    "        print (dataset[column_list[i]].unique())\n",
    "        print ('\\n')\n",
    "    return\n",
    "\n",
    "# Printing the null and unique values for each attribute in the dataset\n",
    "print_uniques(data_clean, data_clean.columns)\n",
    "count_null_values(data_clean, data_clean.columns)\n",
    "#print len(data['Rating'].unique().tolist())"
   ]
  },
  {
   "cell_type": "markdown",
   "execution_count": null,
   "metadata": {},
   "source": [
    "### Conducting Feature Engineering"
   ]
  },
  {
   "cell_type": "markdown",
   "execution_count": null,
   "metadata": {},
   "source": [
    "There were two attributes- Company(Maker-if known) and bean_typ which stored multiple infomation as a same instance value and thus required feature engineering so that we do not lose any valuable information during the data cleaning process. "
   ]
  },
  {
   "cell_type": "code",
   "execution_count": 5,
   "metadata": {},
   "outputs": [
    {
     "name": "stdout",
     "output_type": "stream",
     "text": [
      "    company  bean_origin   REF  review_date cocoa_percent company_location  \\\n",
      "0  A. Morin  Agua Grande  1876         2016           63%           France   \n",
      "1  A. Morin        Kpime  1676         2015           70%           France   \n",
      "2  A. Morin       Atsane  1676         2015           70%           France   \n",
      "3  A. Morin        Akata  1680         2015           70%           France   \n",
      "\n",
      "   rating bean_typ country_origin company_coffee maker  \n",
      "0    3.75                Sao Tome       A. Morin   NaN  \n",
      "1    2.75                    Togo       A. Morin   NaN  \n",
      "2    3.00                    Togo       A. Morin   NaN  \n",
      "3    3.50                    Togo       A. Morin   NaN  \n",
      "    company  bean_origin   REF  review_date cocoa_percent company_location  \\\n",
      "0  A. Morin  Agua Grande  1876         2016           63%           France   \n",
      "1  A. Morin        Kpime  1676         2015           70%           France   \n",
      "2  A. Morin       Atsane  1676         2015           70%           France   \n",
      "3  A. Morin        Akata  1680         2015           70%           France   \n",
      "4  A. Morin       Quilla  1704         2015           70%           France   \n",
      "\n",
      "   rating bean_typ country_origin company_coffee    maker  \n",
      "0    3.75                Sao Tome       A. Morin  Unknown  \n",
      "1    2.75                    Togo       A. Morin  Unknown  \n",
      "2    3.00                    Togo       A. Morin  Unknown  \n",
      "3    3.50                    Togo       A. Morin  Unknown  \n",
      "4    3.50                    Peru       A. Morin  Unknown  \n",
      "<class 'pandas.core.frame.DataFrame'>\n",
      "RangeIndex: 1795 entries, 0 to 1794\n",
      "Data columns (total 11 columns):\n",
      " #   Column            Non-Null Count  Dtype  \n",
      "---  ------            --------------  -----  \n",
      " 0   company           1795 non-null   object \n",
      " 1   bean_origin       1795 non-null   object \n",
      " 2   REF               1795 non-null   int64  \n",
      " 3   review_date       1795 non-null   int64  \n",
      " 4   cocoa_percent     1795 non-null   object \n",
      " 5   company_location  1795 non-null   object \n",
      " 6   rating            1795 non-null   float64\n",
      " 7   bean_typ          1794 non-null   object \n",
      " 8   country_origin    1794 non-null   object \n",
      " 9   company_coffee    1795 non-null   object \n",
      " 10  maker             1795 non-null   object \n",
      "dtypes: float64(1), int64(2), object(8)\n",
      "memory usage: 154.4+ KB\n",
      "None\n",
      "   bean_origin   REF  review_date cocoa_percent company_location  rating  \\\n",
      "0  Agua Grande  1876         2016           63%           France    3.75   \n",
      "1        Kpime  1676         2015           70%           France    2.75   \n",
      "2       Atsane  1676         2015           70%           France    3.00   \n",
      "3        Akata  1680         2015           70%           France    3.50   \n",
      "\n",
      "  bean_typ country_origin company_coffee    maker  \n",
      "0                Sao Tome       A. Morin  Unknown  \n",
      "1                    Togo       A. Morin  Unknown  \n",
      "2                    Togo       A. Morin  Unknown  \n",
      "3                    Togo       A. Morin  Unknown  \n"
     ]
    },
    {
     "name": "stderr",
     "output_type": "stream",
     "text": [
      "/opt/conda/lib/python3.7/site-packages/ipykernel_launcher.py:2: FutureWarning: Columnar iteration over characters will be deprecated in future releases.\n",
      "  \n"
     ]
    }
   ],
   "source": [
    "# Creating new column named maker \n",
    "data_clean['company_coffee'], data_clean['maker'] = data_clean['company'].str.split('(', 1).str\n",
    "# Replacing the missing values with \"Unknown\"\n",
    "print (data_clean.head(4))\n",
    "data_clean['maker'].fillna(value='Unknown', inplace = True) \n",
    "#data_clean[\"maker\"].replace(np.nan, \"Unknown\")\n",
    "print (data_clean.head())\n",
    "print (data_clean.info())\n",
    "# Removing unwanted character\n",
    "data_clean['maker'] = data_clean['maker'].apply(lambda x: x.split(')')[0])\n",
    "# Dropping the original column\n",
    "data_clean = data_clean.drop('company', 1)\n",
    "\n",
    "print(data_clean.head(4))\n",
    "\n"
   ]
  },
  {
   "cell_type": "code",
   "execution_count": 6,
   "metadata": {},
   "outputs": [
    {
     "name": "stdout",
     "output_type": "stream",
     "text": [
      "      bean_origin   REF  review_date cocoa_percent company_location  rating  \\\n",
      "0     Agua Grande  1876         2016           63%           France    3.75   \n",
      "1           Kpime  1676         2015           70%           France    2.75   \n",
      "2          Atsane  1676         2015           70%           France    3.00   \n",
      "3           Akata  1680         2015           70%           France    3.50   \n",
      "4          Quilla  1704         2015           70%           France    3.50   \n",
      "5        Carenero  1315         2014           70%           France    2.75   \n",
      "6            Cuba  1315         2014           70%           France    3.50   \n",
      "7    Sur del Lago  1315         2014           70%           France    3.50   \n",
      "8  Puerto Cabello  1319         2014           70%           France    3.75   \n",
      "9         Pablino  1319         2014           70%           France    4.00   \n",
      "\n",
      "  country_origin company_coffee    maker bean_type sub_bean_type  \n",
      "0       Sao Tome       A. Morin  Unknown                 unknown  \n",
      "1           Togo       A. Morin  Unknown                 unknown  \n",
      "2           Togo       A. Morin  Unknown                 unknown  \n",
      "3           Togo       A. Morin  Unknown                 unknown  \n",
      "4           Peru       A. Morin  Unknown                 unknown  \n",
      "5      Venezuela       A. Morin  Unknown   criollo       unknown  \n",
      "6           Cuba       A. Morin  Unknown                 unknown  \n",
      "7      Venezuela       A. Morin  Unknown   criollo       unknown  \n",
      "8      Venezuela       A. Morin  Unknown   criollo       unknown  \n",
      "9           Peru       A. Morin  Unknown                 unknown  \n",
      "['\\xa0' 'criollo' 'trinitario' 'forastero (arriba)' 'forastero'\n",
      " 'forastero (nacional)' 'criollo (porcelana)' 'blend'\n",
      " 'trinitario (85% criollo)' 'forastero (catongo)' 'forastero (parazinho)'\n",
      " 'ccn51' 'criollo (ocumare)' 'nacional' 'criollo (ocumare 61)'\n",
      " 'criollo (ocumare 77)' 'criollo (ocumare 67)' 'criollo (wild)' 'beniano'\n",
      " 'amazon mix' 'forastero (arriba) ass' 'amazon' 'eet' 'blend-forastero'\n",
      " 'trinitario (scavina)' 'matina' 'forastero(arriba' 'nacional (arriba)'\n",
      " 'forastero (arriba) asss' 'forastero (amelonado)' nan\n",
      " 'trinitario (amelonado)' 'criollo (amarru)']\n"
     ]
    },
    {
     "name": "stderr",
     "output_type": "stream",
     "text": [
      "/opt/conda/lib/python3.7/site-packages/ipykernel_launcher.py:5: FutureWarning: Columnar iteration over characters will be deprecated in future releases.\n",
      "  \"\"\"\n"
     ]
    }
   ],
   "source": [
    "# Converting the string values to lower case\n",
    "data_clean['bean_typ'] = data_clean['bean_typ'].str.lower()\n",
    "\n",
    "# Creating new column named sub_bean_type \n",
    "data_clean['bean_type'], data_clean['sub_bean_type'] = data_clean['bean_typ'].str.split(',', 1).str\n",
    "# Replacing the missing values with \"Unknown\"\n",
    "data_clean[\"sub_bean_type\"].fillna(\"unknown\", inplace = True) \n",
    "# Removing unwanted character\n",
    "data_clean['sub_bean_type'] = data_clean['sub_bean_type'].apply(lambda x: x.split(')')[0])\n",
    "# Dropping the original column\n",
    "data_clean = data_clean.drop('bean_typ', 1)\n",
    "\n",
    "print (data_clean.head(10))\n",
    "print (data_clean['bean_type'].unique())"
   ]
  },
  {
   "cell_type": "markdown",
   "execution_count": null,
   "metadata": {},
   "source": [
    "### Conducting Data Cleaning"
   ]
  },
  {
   "cell_type": "markdown",
   "execution_count": null,
   "metadata": {},
   "source": [
    "In the data cleaning stage the anomalies in the data were resolved"
   ]
  },
  {
   "cell_type": "code",
   "execution_count": 7,
   "metadata": {},
   "outputs": [
    {
     "name": "stdout",
     "output_type": "stream",
     "text": [
      "['\\xa0' 'criollo' 'trinitario' 'forastero (arriba)' 'forastero'\n",
      " 'forastero (nacional)' 'criollo (porcelana)' 'blend'\n",
      " 'trinitario (85% criollo)' 'forastero (catongo)' 'forastero (parazinho)'\n",
      " 'ccn51' 'criollo (ocumare)' 'nacional' 'criollo (ocumare 61)'\n",
      " 'criollo (ocumare 77)' 'criollo (ocumare 67)' 'criollo (wild)' 'beniano'\n",
      " 'amazon mix' 'amazon' 'eet' 'blend-forastero' 'trinitario (scavina)'\n",
      " 'matina' 'forastero(arriba' 'nacional (arriba)' 'forastero (amelonado)'\n",
      " nan 'trinitario (amelonado)' 'criollo (amarru)']\n"
     ]
    }
   ],
   "source": [
    "# Some data cleaning regarding bean type name\n",
    "data_clean['bean_type'] = data_clean['bean_type'].replace('forastero (arriba) asss', 'forastero (arriba)')\n",
    "data_clean['bean_type'] = data_clean['bean_type'].replace('forastero (arriba) ass', 'forastero (arriba)')\n",
    "print (data_clean['bean_type'].unique())"
   ]
  },
  {
   "cell_type": "code",
   "execution_count": 8,
   "metadata": {},
   "outputs": [
    {
     "name": "stdout",
     "output_type": "stream",
     "text": [
      "Before Cleaning country_origin column: \n",
      "['Sao Tome' 'Togo' 'Peru' 'Venezuela' 'Cuba' 'Panama' 'Madagascar'\n",
      " 'Brazil' 'Ecuador' 'Colombia' 'Burma' 'Papua New Guinea' 'Bolivia' 'Fiji'\n",
      " 'Mexico' 'Indonesia' 'Trinidad' 'Vietnam' 'Nicaragua' 'Tanzania'\n",
      " 'Dominican Republic' 'Ghana' 'Belize' '\\xa0' 'Jamaica' 'Grenada'\n",
      " 'Guatemala' 'Honduras' 'Costa Rica' 'Domincan Republic' 'Haiti' 'Congo'\n",
      " 'Philippines' 'Malaysia' 'Dominican Rep., Bali'\n",
      " 'Venez,Africa,Brasil,Peru,Mex' 'Gabon' 'Ivory Coast' 'Carribean'\n",
      " 'Sri Lanka' 'Puerto Rico' 'Uganda' 'Martinique' 'Sao Tome & Principe'\n",
      " 'Vanuatu' 'Australia' 'Liberia' 'Ecuador, Costa Rica' 'West Africa'\n",
      " 'Hawaii' 'St. Lucia' 'Cost Rica, Ven' 'Peru, Madagascar'\n",
      " 'Venezuela, Trinidad' 'Trinidad, Tobago' 'Ven, Trinidad, Ecuador'\n",
      " 'South America, Africa' 'India' 'Africa, Carribean, C. Am.' 'Tobago'\n",
      " 'Ven., Indonesia, Ecuad.' 'Trinidad-Tobago' 'Peru, Ecuador, Venezuela'\n",
      " 'Venezuela, Dom. Rep.' 'Colombia, Ecuador' 'Solomon Islands' 'Nigeria'\n",
      " 'Peru, Belize' 'Peru, Mad., Dom. Rep.' nan 'PNG, Vanuatu, Mad'\n",
      " 'El Salvador' 'South America' 'Samoa' 'Ghana, Domin. Rep'\n",
      " 'Trinidad, Ecuador' 'Cameroon' 'Venezuela, Java' 'Venezuela/ Ghana'\n",
      " 'Venezuela, Ghana' 'Indonesia, Ghana' 'Peru(SMartin,Pangoa,nacional)'\n",
      " 'Principe' 'Central and S. America' 'Ven., Trinidad, Mad.'\n",
      " 'Carribean(DR/Jam/Tri)' 'Ghana & Madagascar' 'Ven.,Ecu.,Peru,Nic.'\n",
      " 'Madagascar & Ecuador' 'Guat., D.R., Peru, Mad., PNG' 'Peru, Dom. Rep'\n",
      " 'Dom. Rep., Madagascar' 'Gre., PNG, Haw., Haiti, Mad' 'Mad., Java, PNG'\n",
      " 'Ven, Bolivia, D.R.' 'DR, Ecuador, Peru' 'Suriname' 'Peru, Ecuador'\n",
      " 'Ecuador, Mad., PNG' 'Ghana, Panama, Ecuador' 'Venezuela, Carribean']\n",
      "After Cleaning country_origin column: \n",
      "['Sao Tome' 'Togo' 'Peru' 'Venezuela' 'Cuba' 'Panama' 'Madagascar'\n",
      " 'Brazil' 'Ecuador' 'Colombia' 'Burma' 'Papua New Guinea' 'Bolivia' 'Fiji'\n",
      " 'Mexico' 'Indonesia' 'Trinidad' 'Vietnam' 'Nicaragua' 'Tanzania'\n",
      " 'Dominican Republic' 'Ghana' 'Belize' '\\xa0' 'Jamaica' 'Grenada'\n",
      " 'Guatemala' 'Honduras' 'Costa Rica' 'Haiti' 'Congo' 'Philippines'\n",
      " 'Malaysia' 'Dominican Rep., Bali' 'Venez,Africa,Brasil,Peru,Mex' 'Gabon'\n",
      " 'Ivory Coast' 'Carribean' 'Sri Lanka' 'Puerto Rico' 'Uganda' 'Martinique'\n",
      " 'Sao Tome & Principe' 'Vanuatu' 'Australia' 'Liberia'\n",
      " 'Ecuador, Costa Rica' 'West Africa' 'Hawaii' 'St. Lucia' 'Cost Rica, Ven'\n",
      " 'Peru, Madagascar' 'Venezuela, Trinidad' 'Trinidad, Tobago'\n",
      " 'Venezuela, Trinidad, Ecuador' 'South America, Africa' 'India'\n",
      " 'Africa, Carribean, C. Am.' 'Tobago' 'Ven., Indonesia, Ecuad.'\n",
      " 'Peru, Ecuador, Venezuela' 'Venezuela, Dom. Rep.' 'Colombia, Ecuador'\n",
      " 'Solomon Islands' 'Nigeria' 'Peru, Belize'\n",
      " 'Peru, Madagascar, Dominican Republic' nan\n",
      " 'Papua New Guinea, Vanuatu, Madagascar' 'El Salvador' 'South America'\n",
      " 'Samoa' 'Ghana, Dominican Republic' 'Trinidad, Ecuador' 'Cameroon'\n",
      " 'Venezuela, Java' 'Venezuela/ Ghana' 'Venezuela, Ghana'\n",
      " 'Indonesia, Ghana' 'Peru(SMartin,Pangoa,nacional)' 'Principe'\n",
      " 'Central and South America' 'Venezuela, Trinidad, Madagascar'\n",
      " 'Ghana & Madagascar' 'Venezuela, Ecuador, Peru, Nicaragua'\n",
      " 'Madagascar & Ecuador' 'Guat., D.R., Peru, Mad., PNG' 'Peru, Dom. Rep'\n",
      " 'Dom. Rep., Madagascar'\n",
      " 'Grenada, Papua New Guinea, Hawaii, Haiti, Madagascar'\n",
      " 'Madagascar, Java, Papua New Guinea' 'Ven, Bolivia, D.R.'\n",
      " 'DR, Ecuador, Peru' 'Suriname' 'Peru, Ecuador'\n",
      " 'Ecuador, Madagascar, Papua New Guinea' 'Ghana, Panama, Ecuador'\n",
      " 'Venezuela, Carribean']\n"
     ]
    }
   ],
   "source": [
    "# Data cleaning regarding the Broad Bean Origin column\n",
    "print (\"Before Cleaning country_origin column: \")\n",
    "print (data_clean['country_origin'].unique())\n",
    "data_clean['country_origin'] = data_clean['country_origin'].replace('Domincan Republic', 'Dominican Republic')\n",
    "data_clean['country_origin'] = data_clean['country_origin'].replace('Carribean(DR/Jam/Tri)', 'Carribean')\n",
    "data_clean['country_origin'] = data_clean['country_origin'].replace('Trinidad-Tobago', 'Trinidad, Tobago')\n",
    "data_clean['country_origin'] = data_clean['country_origin'].replace(\"Peru, Mad., Dom. Rep.\", \"Peru, Madagascar, Dominican Republic\")\n",
    "data_clean['country_origin'] = data_clean['country_origin'].replace(\"Central and S. America\", \"Central and South America\")\n",
    "data_clean['country_origin'] = data_clean['country_origin'].replace(\"PNG, Vanuatu, Mad\", \"Papua New Guinea, Vanuatu, Madagascar\")\n",
    "data_clean['country_origin'] = data_clean['country_origin'].replace(\"Ven., Trinidad, Mad.\", \"Venezuela, Trinidad, Madagascar\")\n",
    "data_clean['country_origin'] = data_clean['country_origin'].replace(\"Ven.,Ecu.,Peru,Nic.\", \"Venezuela, Ecuador, Peru, Nicaragua\")\n",
    "data_clean['country_origin'] = data_clean['country_origin'].replace(\"Ven, Trinidad, Ecuador\",\"Venezuela, Trinidad, Ecuador\")\n",
    "data_clean['country_origin'] = data_clean['country_origin'].replace(\"Ghana, Domin. Rep\", \"Ghana, Dominican Republic\")\n",
    "data_clean['country_origin'] = data_clean['country_origin'].replace(\"Ecuador, Mad., PNG\",\"Ecuador, Madagascar, Papua New Guinea\")\n",
    "data_clean['country_origin'] = data_clean['country_origin'].replace(\"Mad., Java, PNG\",\"Madagascar, Java, Papua New Guinea\")\n",
    "data_clean['country_origin'] = data_clean['country_origin'].replace(\"Gre., PNG, Haw., Haiti, Mad\", \"Grenada, Papua New Guinea, Hawaii, Haiti, Madagascar\")\n",
    "\n",
    "print (\"After Cleaning country_origin column: \")\n",
    "print (data_clean['country_origin'].unique())"
   ]
  },
  {
   "cell_type": "code",
   "execution_count": 9,
   "metadata": {},
   "outputs": [
    {
     "name": "stdout",
     "output_type": "stream",
     "text": [
      "['agua grande' 'kpime' 'atsane' 'akata' 'quilla' 'carenero' 'cuba'\n",
      " 'sur del lago' 'puerto cabello' 'pablino' 'panama' 'madagascar' 'brazil'\n",
      " 'equateur' 'colombie' 'birmanie' 'papua new guinea' 'chuao' 'piura'\n",
      " 'chanchamayo province' 'bolivia' 'peru' 'chulucanas' 'tumbes'\n",
      " 'vanua levu' 'los rios' 'tabasco' 'bali ' 'monte alegre' 'trinite'\n",
      " 'vietnam' 'winak coop' 'la dalia' 'tien giang' 'makwale village'\n",
      " 'momotombo' 'acopagro' 'ciaab coop' 'villa andina' 'gruppo salinas'\n",
      " 'conacado' 'morobe' 'dos rios' 'guayas' 'montanya' 'bali' 'cuyagua'\n",
      " 'ocumare' 'ghana' 'ecuador' 'lamasdelchanka' 'bellavista gran pajeten'\n",
      " 'belize' 'dominican republic' 'venezuela' 'porcelana' 'nine' 'jamaica'\n",
      " 'grenada' 'trinidad' 'toscano black' 'catongo' 'elvesia' 'alto beni'\n",
      " 'chiapas' 'trincheras' 'san juan' 'kokoa kamili' 'hacienda victoria'\n",
      " 'costa esmeraldas' 'lachua' 'rugoso' 'la masica' 'coto brus' 'phantom'\n",
      " 'matasawalevu' 'lam dong' 'fazenda camboa' 'nacional' 'puerto quito'\n",
      " 'oko caribe' 'maya mountain' 'chuno' 'guatemala' 'camino verde'\n",
      " 'colombia' 'haiti' 'costa rica' 'ba ria vung tau province' 'java'\n",
      " 'brazil rio doce' 'congo' 'orinoqua region' 'mababa' 'tenende' 'cortes'\n",
      " 'davao' 'xoconusco' 'san jose del tambo' 'houseblend' 'sambirano' 'bahia'\n",
      " 'bambamarca' 'huallabamba' 'maranon canyon' 'duarte province'\n",
      " 'single estate' 'asajaya e' 'serian e' 'kakao kamili' 'belize south'\n",
      " 'baracoa' 'cuyagua village' 'rio peripa h' 'somia plantation' 'nature'\n",
      " 'maracaibo' 'indigena amazonia' 'carenero s' 'nicaragua' 'san andres' ''\n",
      " 'puerto plata' 'bocas del toro' 'ankasa' 'la red' 'carenero superior'\n",
      " 'matiguas' 'blue mountain region' 'organic dark' \"akesson's e\"\n",
      " 'zorzal reserva' 'selva maya' 'kaori' 'los colorados' 'surfin' 'maragnam'\n",
      " 'gabon' 'cusco' 'piura blanco' 'libanio' 'juliana' 'jamaique'\n",
      " 'ivory coast' 'one hundred' 'ceylan' 'el oro' 'guasare' \"o'payo\"\n",
      " 'cooproagro' 'elvesia p' 'alta verapaz' 'ambolikapiky p' 'ambolikapkly p'\n",
      " 'marabel farms' 'gran couva' 'mindo' 'blend' 'puerto rico'\n",
      " 'dominican republic w' 'patanemo' \"grand 'anse\" 'santo domingo'\n",
      " 'tanzania' 'mexico' 'rio caribe' 'agua fria' 'macuare'\n",
      " 'hacienda la trinidad' 'macondo' 'perla negra' 'arhuacos' 'sierra nevada'\n",
      " 'tumaco' 'boyaca' 'arauca' 'jutiapa' 'criollo' 'dominican republicm'\n",
      " 'mahali' 'papua' 'amazonia' 'esmeraldas' 'bolivar' 'pichincha' 'grenade'\n",
      " 'baking' 'lago di como' 'sao tome' 'manabi' 'saidor estate'\n",
      " 'kulili estate' 'antigua' 'talamanca' 'anselmo paraiso estate' 'cordoba'\n",
      " 'huila' 'cesar' 'maya mtn' 'the lost city' 'duarte' 'piaroa' 'san martin'\n",
      " 'guaniamo' 'uganda' 'arriba' 'la amistad' 'blend no' 'maya mountain w'\n",
      " 'mekong delta' 'tawau' 'peru ' 'philly blend' 'wild bolivian'\n",
      " 'tres hombres' 'maranon' 'kendari' 'tarakan' 'guyave' 'maragda'\n",
      " 'brazilian' 'guadeloupe' 'choroni' 'terreiro velho p' 'principe'\n",
      " 'camino verde p' 'moxos' 'ghana puristique' 'ecuador puristique'\n",
      " 'uba budo' 'ocumare ' 'chuao ' 'sensations intense' 'new ireland'\n",
      " 'vanuatu' 'namau village' 'djual island' '\"heirloom\"' 'goodman estate'\n",
      " 'daintree estates' 'robson estate' 'crayfish bay aka non pariel estate'\n",
      " 'buto' 'san francisco de macoris' 'cumboto' 'mantuano' 'upala'\n",
      " 'colombian' 'los ujuxtes' 'las acacias e' 'oscuro' 'duo' 'rainforest'\n",
      " 'west africa' 'nativo' 'selvagem' 'bundibugyo district'\n",
      " 'sambirano valley' 'kilombero' 'bolivian' 'lanquin estate' 'johe' \"o'ahu\"\n",
      " 'africa' 'noir' 'il' 'morogoro' 'canoabo' 'carupano' 'teyuna' 'ilblend'\n",
      " 'granella' 'madagared' 'sur del lago classificado' 'apurimac'\n",
      " 'non pariel estate' 'rio dulce' 'rico rugoso' 'indio rojo' 'nicaliso'\n",
      " 'corazon del ecuador' 'star of ecuador' 'star of peru' 'taino secret'\n",
      " 'corona arriba' 'san joaquin' 'emerald estate' 'wampusirpi' 'ben tre'\n",
      " 'ham luong' 'ba lai' 'guapiles' 'red vanilla' 'blue mountain' 'supremo'\n",
      " 'maracaibo clasificado' 'rio eni' 'kokoa kamili coop' 'peru brutus'\n",
      " 'norandino' 'matagalpa' 'palo blanco' 'tumbes coop' 'palo blanco w'\n",
      " 'bellavista coop' 'markham valley' 'barba' 'medagla' 'red mayan'\n",
      " 'signature blend' \"kaua'i\" 'akesson p' 'abocfa coop' 'conacado coop'\n",
      " 'toledo district' 'almendra blanca' 'el carmen' 'asochivite' 'dark'\n",
      " 'trinidad & tobago' 'lacri blend' 'epique' 'coucher du soleil'\n",
      " 'lever du soleil' 'onyx' 'nocturne' 'complexite' 'machu pichu'\n",
      " 'special maker reserve' 'quetzalcoatl' 'chucuri' 'tsaranta' 'semisweet'\n",
      " 'campesino w' 'trinitario' 'downtown london' 'africa meets latina'\n",
      " 'amazonas' 'sharkey' 'don homero' 'south america and africa'\n",
      " 'vale do juliana' 'brazil blend' 'tome acu e' 'vale do juliana e'\n",
      " 'cota brus' 'wild beni' 'maunawili' 'pinchincha' \"akesson's estate\"\n",
      " 'gran blanco' 'mara' 'hispaniola' 'hispaniola w' 'pepiniere' 'marcial'\n",
      " 'island growers' 'mekong delta & dong nai' 'chanchamayo' 'st'\n",
      " 'zorzal reserva w' 'coopertiva amazona' 'coopertiva amazona w' 'india '\n",
      " 'honduras' 'satipo region' 'black label' 'trinatario treasure'\n",
      " 'rizek cacao' 'sisa ' \"sisa's secret\" 'roberto' 'diego' 'diego '\n",
      " 'cacao nacional w' 'roig' 'kafupbo' 'quito' 'venzuela' 'lumas' 'cuana'\n",
      " 'tobago' 'acarigua' 'loma sotavento' 'akosombo' 'kuruba' 'orinoco'\n",
      " 'peruvian amazon' 'vinces' 'liberia' 'beniamo' 'san juan estate'\n",
      " 'maranura' 'perfect illusion' 'la selva' 'purple haze' 'the other one'\n",
      " 'wild thing' 'excellence ' 'haleiwa' 'haleiwa e' 'opaeula estate'\n",
      " 'hawaiian crown' 'selva' 'misterio' 'santander' 'guadalcanal' 'choobua'\n",
      " 'xocunusco' 'hamakua coast' 'dominican' 'sambirano ' 'mora mora '\n",
      " 'waiahole' 'hamakua' 'oahu' 'kolumbia' 'grand cru dominican republic'\n",
      " 'grand cru ghana' 'grand cru ecuador' 'a case of the xerces blues'\n",
      " 'kakoa kamili' 'le chocolat chaud' 'cacao nib crunch'\n",
      " 'tan phu dong island' 'dak lak' 'tan phu dong' 'ba ria' 'dong nai'\n",
      " 'matina ' 'nigeria' 'pisa' 'french laundry ' 'shake shack'\n",
      " 'brooklyn blend' 'moho river' 'la red de guanconejo'\n",
      " 'ocumare de la costa' 'malekula p' 'somia' 'kulili p' 'morropon'\n",
      " 'el salvador' 'la tronca' 'fazenda sempre firme p' 'akesson estate'\n",
      " 'south america' 'vila gracinda' 'carre amer' 'carre grand noir'\n",
      " 'tamarina' 'los ancones p' 'mangaro p' 'maralumi p' 'noir infini'\n",
      " 'balinese' 'acul' 'umoho r' 'indonesia' 'mombacho' 'papaua new guinea'\n",
      " 'ambanja' 'barinas' 'criollo blend' 'manickchand estate' 'moho valley'\n",
      " 'la patriota' 'punta galera' 'fazenda leolinda' 'pangoa' 'virunga'\n",
      " 'sang yum coop' 'png' 'sylvestre' 'dominican republic prototype'\n",
      " 'ghana prototype' 'dark ' 'carribean' 'nicaraqua' 'caribe'\n",
      " 'papua kerafat' 'grand cru blend no' 'd' \"hawai'i\" 'garaua' 'cumbia'\n",
      " 'montubia' 'tangara' 'nube' 'raw' 'silvestre' 'kilombero valley'\n",
      " 'haut penja' 'bahia brazil' 'cabosse' 'fleur de cacao' 'kendem lembu'\n",
      " 'wampusirpi region' 'tenor' 'nicalizo' 'upala w' 'papouasie'\n",
      " 'claudio corallo w' 'monte alegre ' 'sao tome & principe' 'barlovento'\n",
      " 'fortissima' 'caracas' 'djakarta' 'chocoan rainforest'\n",
      " 'crayfish bay estate' \"akesson's\" 'patanemo vil' 'guantupi river'\n",
      " 'akessons estate' 'uranga' 'amazon basin blend' 'suchitepequez e'\n",
      " 'mid mountain' 'la dorado' 'tapanti' 'maleku' 'madagascar w'\n",
      " 'gru grococo' 'caranero' 'tranquilidad' \"bachelor's hall e\"\n",
      " 'rio caribe superior' 'aragua' 'malgascio' 'samana' 'arawak' 'latino'\n",
      " 'midnight' 'twilight' 'bahia superior' 'rio arriba' 'colombian '\n",
      " 'colombian w' 'colombian semi dark' 'colombian dark' 'san juan de cheni'\n",
      " 'camahogne' 'amina' 'tome acu' 'asante' 'finisterra' 'las islas' 'nibby'\n",
      " 'antilles ' 'extra dark' 'bittersweet' 'kumasi sambirano'\n",
      " \"jamaica a l'ancienne\" 'hilo' 'tingo maria' 'oro' 'maya belize'\n",
      " 'trintade' 'wild bolivia' 'lachua w' 'australia' 'chimelb' 'castillo'\n",
      " 'solomon island' 'solomon island w' 'bundibugyo' 'wasatch' 'bahia black'\n",
      " 'abstract s' 'csb chama' 'espiritu santo' 'little big man'\n",
      " 'sangre grande p' \"chef's blend\" 'crazy 88' 'equator' 'noula coop'\n",
      " 'dual origins' 'dancing in your head' 'cahabon region' 'eastern promises'\n",
      " 'peruvian' 'three amigos' 'black science blend ' 'hawaiian'\n",
      " 'agrocriso plantation' 'malekula island' 'cacao verapaz' 'rio tuma'\n",
      " 'india' 'samar' 'sri lanka' 'ambolikapiky' 'winak' 'fazenda sempre firme'\n",
      " 'autumn' 'spring' 'cacao blanco' 'millot plantation' 'ayacucho' 'crudo'\n",
      " 'paramaribo' 'chiapan' 'tchopro ' 'chocolatey' 'fruity' 'citrus' 'nutty'\n",
      " 'concepcion' 'bayou blend' 'aranama' 'presidio' 'la bahia' 'capistrano'\n",
      " 'san jose' 'espada' 'congo w' 'piura select' 'roxborough' 'cedeno'\n",
      " 'palos blancos' 'nourish' 'andoa' 'otucan' 'caraque' 'tainori' 'alpaco'\n",
      " 'nyangbo' 'araguani' 'manjari' 'le noir extra amer' 'abinao'\n",
      " 'le noir amer' 'caraibe' 'guanaja' 'gran couva ' 'manhattan' 'napa'\n",
      " 'palos blancos ' 'classic' 'moho river valley' 'cahabon' 'amazonas w'\n",
      " 'los llanos' 'hacienda las trincheras' 'wild beniano' 'house blend'\n",
      " 'millot p' 'unocace' 'goddess blend' 'tokiala' 'amazonas frucht'\n",
      " 'satipo pangoa region' 'loma los pinos' 'huiwani coop' 'el ceibo coop'\n",
      " 'kongo' 'indianer' 'kerala state']\n"
     ]
    }
   ],
   "source": [
    "# Data cleaning the bean origin column\n",
    "\n",
    "data_clean['bean_origin'] = data_clean['bean_origin'].str.lower()\n",
    "\n",
    "data_clean['bean_origin'] = data_clean['bean_origin'].apply(lambda x: x.split(',')[0])\n",
    "data_clean['bean_origin'] = data_clean['bean_origin'].apply(lambda x: x.split('/')[0])\n",
    "data_clean['bean_origin'] = data_clean['bean_origin'].apply(lambda x: x.split('*')[0])\n",
    "data_clean['bean_origin'] = data_clean['bean_origin'].apply(lambda x: x.split('.')[0])\n",
    "data_clean['bean_origin'] = data_clean['bean_origin'].apply(lambda x: x.split('+')[0])\n",
    "data_clean['bean_origin'] = data_clean['bean_origin'].apply(lambda x: x.split(';')[0])\n",
    "data_clean['bean_origin'] = data_clean['bean_origin'].apply(lambda x: x.split('-')[0])\n",
    "data_clean['bean_origin'] = data_clean['bean_origin'].apply(lambda x: x.split('(')[0])\n",
    "data_clean['bean_origin'] = data_clean['bean_origin'].apply(lambda x: x.split('#')[0])\n",
    "data_clean['bean_origin'] = data_clean['bean_origin'].apply(lambda x: x.split('1')[0])\n",
    "data_clean['bean_origin'] = data_clean['bean_origin'].apply(lambda x: x.split('2')[0])\n",
    "data_clean['bean_origin'] = data_clean['bean_origin'].apply(lambda x: x.split('3')[0])\n",
    "data_clean['bean_origin'] = data_clean['bean_origin'].apply(lambda x: x.split('4')[0])\n",
    "data_clean['bean_origin'] = data_clean['bean_origin'].apply(lambda x: x.split('5')[0])\n",
    "data_clean['bean_origin'] = data_clean['bean_origin'].apply(lambda x: x.split('6')[0])\n",
    "data_clean['bean_origin'] = data_clean['bean_origin'].apply(lambda x: x.split('7')[0])\n",
    "print (data_clean['bean_origin'].unique())\n",
    "#print data_clean['bean_origin'].head()"
   ]
  },
  {
   "cell_type": "markdown",
   "execution_count": null,
   "metadata": {},
   "source": [
    "Previously we have seen that cocoa_percent attribute had the data type of object which was then tranfomed into integer "
   ]
  },
  {
   "cell_type": "code",
   "execution_count": 10,
   "metadata": {},
   "outputs": [
    {
     "name": "stdout",
     "output_type": "stream",
     "text": [
      "<class 'pandas.core.frame.DataFrame'>\n",
      "RangeIndex: 1795 entries, 0 to 1794\n",
      "Data columns (total 11 columns):\n",
      " #   Column            Non-Null Count  Dtype  \n",
      "---  ------            --------------  -----  \n",
      " 0   bean_origin       1795 non-null   object \n",
      " 1   REF               1795 non-null   int64  \n",
      " 2   review_date       1795 non-null   int64  \n",
      " 3   cocoa_percent     1795 non-null   object \n",
      " 4   company_location  1795 non-null   object \n",
      " 5   rating            1795 non-null   float64\n",
      " 6   country_origin    1794 non-null   object \n",
      " 7   company_coffee    1795 non-null   object \n",
      " 8   maker             1795 non-null   object \n",
      " 9   bean_type         1794 non-null   object \n",
      " 10  sub_bean_type     1795 non-null   object \n",
      "dtypes: float64(1), int64(2), object(8)\n",
      "memory usage: 154.4+ KB\n",
      "None\n",
      "<class 'pandas.core.frame.DataFrame'>\n",
      "RangeIndex: 1795 entries, 0 to 1794\n",
      "Data columns (total 11 columns):\n",
      " #   Column            Non-Null Count  Dtype  \n",
      "---  ------            --------------  -----  \n",
      " 0   bean_origin       1795 non-null   object \n",
      " 1   REF               1795 non-null   int64  \n",
      " 2   review_date       1795 non-null   int64  \n",
      " 3   cocoa_percent     1795 non-null   float64\n",
      " 4   company_location  1795 non-null   object \n",
      " 5   rating            1795 non-null   float64\n",
      " 6   country_origin    1794 non-null   object \n",
      " 7   company_coffee    1795 non-null   object \n",
      " 8   maker             1795 non-null   object \n",
      " 9   bean_type         1794 non-null   object \n",
      " 10  sub_bean_type     1795 non-null   object \n",
      "dtypes: float64(2), int64(2), object(7)\n",
      "memory usage: 154.4+ KB\n",
      "None\n"
     ]
    }
   ],
   "source": [
    "# Converting cocoa_percent to numeric\n",
    "\n",
    "print (data_clean.info())\n",
    "data_clean['cocoa_percent'] = data_clean['cocoa_percent'].apply(lambda x: x.split('%')[0])\n",
    "data_clean['cocoa_percent'] = pd.to_numeric(data_clean['cocoa_percent'], errors='coerce')\n",
    "print (data_clean.info())"
   ]
  },
  {
   "cell_type": "markdown",
   "execution_count": null,
   "metadata": {},
   "source": [
    "In the dataset there were some special character epresent due to encoding such as '\\xa0'. This characters were replaced with null"
   ]
  },
  {
   "cell_type": "code",
   "execution_count": 11,
   "metadata": {},
   "outputs": [
    {
     "name": "stdout",
     "output_type": "stream",
     "text": [
      "The total number of null values in : bean_origin\n",
      "0\n",
      "The total number of null values in : REF\n",
      "0\n",
      "The total number of null values in : review_date\n",
      "0\n",
      "The total number of null values in : cocoa_percent\n",
      "0\n",
      "The total number of null values in : company_location\n",
      "0\n",
      "The total number of null values in : rating\n",
      "0\n",
      "The total number of null values in : country_origin\n",
      "74\n",
      "The total number of null values in : company_coffee\n",
      "0\n",
      "The total number of null values in : maker\n",
      "0\n",
      "The total number of null values in : bean_type\n",
      "888\n",
      "The total number of null values in : sub_bean_type\n",
      "0\n"
     ]
    }
   ],
   "source": [
    "# Replacing the empty cells with null\n",
    "data_clean = data_clean.replace('\\xa0', np.nan)\n",
    "count_null_values(data_clean, data_clean.columns)"
   ]
  },
  {
   "cell_type": "code",
   "execution_count": 12,
   "metadata": {},
   "outputs": [
    {
     "name": "stdout",
     "output_type": "stream",
     "text": [
      "<class 'pandas.core.frame.DataFrame'>\n",
      "RangeIndex: 1795 entries, 0 to 1794\n",
      "Data columns (total 11 columns):\n",
      " #   Column            Non-Null Count  Dtype  \n",
      "---  ------            --------------  -----  \n",
      " 0   bean_origin       1795 non-null   object \n",
      " 1   REF               1795 non-null   int64  \n",
      " 2   review_date       1795 non-null   object \n",
      " 3   cocoa_percent     1795 non-null   float64\n",
      " 4   company_location  1795 non-null   object \n",
      " 5   rating            1795 non-null   object \n",
      " 6   country_origin    1721 non-null   object \n",
      " 7   company_coffee    1795 non-null   object \n",
      " 8   maker             1795 non-null   object \n",
      " 9   bean_type         907 non-null    object \n",
      " 10  sub_bean_type     1795 non-null   object \n",
      "dtypes: float64(1), int64(1), object(9)\n",
      "memory usage: 154.4+ KB\n",
      "None\n"
     ]
    }
   ],
   "source": [
    "# Changing the type for review_date from int to object\n",
    "data_clean['review_date'] = data_clean['review_date'].astype(str)\n",
    "data_clean['rating'] = data_clean['rating'].astype(str)\n",
    "print(data_clean.info())"
   ]
  },
  {
   "cell_type": "markdown",
   "execution_count": null,
   "metadata": {},
   "source": [
    "### Data Preprocessing"
   ]
  },
  {
   "cell_type": "markdown",
   "execution_count": null,
   "metadata": {},
   "source": [
    "In this dataset there were two numerical attributes which required scaling so that during training the machine learning model does not learn more from the attribute with the higher values when compared to the attribute with the low values."
   ]
  },
  {
   "cell_type": "code",
   "execution_count": 13,
   "metadata": {},
   "outputs": [
    {
     "name": "stdout",
     "output_type": "stream",
     "text": [
      "      bean_origin       REF review_date  cocoa_percent company_location  \\\n",
      "0     agua grande  1.519895        2016      -1.376022           France   \n",
      "1           kpime  1.158056        2015      -0.268665           France   \n",
      "2          atsane  1.158056        2015      -0.268665           France   \n",
      "3           akata  1.165293        2015      -0.268665           France   \n",
      "4          quilla  1.208714        2015      -0.268665           France   \n",
      "5        carenero  0.504937        2014      -0.268665           France   \n",
      "6            cuba  0.504937        2014      -0.268665           France   \n",
      "7    sur del lago  0.504937        2014      -0.268665           France   \n",
      "8  puerto cabello  0.512174        2014      -0.268665           France   \n",
      "9         pablino  0.512174        2014      -0.268665           France   \n",
      "\n",
      "  rating country_origin company_coffee    maker bean_type sub_bean_type  \n",
      "0   3.75       Sao Tome       A. Morin  Unknown       NaN       unknown  \n",
      "1   2.75           Togo       A. Morin  Unknown       NaN       unknown  \n",
      "2    3.0           Togo       A. Morin  Unknown       NaN       unknown  \n",
      "3    3.5           Togo       A. Morin  Unknown       NaN       unknown  \n",
      "4    3.5           Peru       A. Morin  Unknown       NaN       unknown  \n",
      "5   2.75      Venezuela       A. Morin  Unknown   criollo       unknown  \n",
      "6    3.5           Cuba       A. Morin  Unknown       NaN       unknown  \n",
      "7    3.5      Venezuela       A. Morin  Unknown   criollo       unknown  \n",
      "8   3.75      Venezuela       A. Morin  Unknown   criollo       unknown  \n",
      "9    4.0           Peru       A. Morin  Unknown       NaN       unknown  \n",
      "REF              1.252480e-16\n",
      "cocoa_percent    1.469577e-16\n",
      "dtype: float64\n",
      "<class 'pandas.core.frame.DataFrame'>\n",
      "RangeIndex: 1795 entries, 0 to 1794\n",
      "Data columns (total 11 columns):\n",
      " #   Column            Non-Null Count  Dtype  \n",
      "---  ------            --------------  -----  \n",
      " 0   bean_origin       1795 non-null   object \n",
      " 1   REF               1795 non-null   float64\n",
      " 2   review_date       1795 non-null   object \n",
      " 3   cocoa_percent     1795 non-null   float64\n",
      " 4   company_location  1795 non-null   object \n",
      " 5   rating            1795 non-null   object \n",
      " 6   country_origin    1721 non-null   object \n",
      " 7   company_coffee    1795 non-null   object \n",
      " 8   maker             1795 non-null   object \n",
      " 9   bean_type         907 non-null    object \n",
      " 10  sub_bean_type     1795 non-null   object \n",
      "dtypes: float64(2), object(9)\n",
      "memory usage: 154.4+ KB\n",
      "None\n"
     ]
    }
   ],
   "source": [
    "# Normalizing the column with integer type\n",
    "\n",
    "# Data Normalizing\n",
    "from sklearn.preprocessing import StandardScaler \n",
    "data_norm = data\n",
    "scaler_z = StandardScaler()\n",
    "# Only the columns with integer and float type values are normalized\n",
    "num_d = data_clean.select_dtypes(exclude=['object'])\n",
    "data_clean[num_d.columns] = scaler_z.fit(num_d).transform(num_d)\n",
    "\n",
    "# Getting information of the dataset after normalization\n",
    "print (data_clean.head(10))\n",
    "print (data_clean[num_d.columns].mean(axis= 0))\n",
    "print (data_clean.info())"
   ]
  },
  {
   "cell_type": "markdown",
   "execution_count": null,
   "metadata": {},
   "source": [
    "### Dealing with the null values for country_origin"
   ]
  },
  {
   "cell_type": "markdown",
   "execution_count": null,
   "metadata": {},
   "source": [
    "The attibutes with the null values were both categorical. In order to replace the missing values a KNN model was developed to predict the missing values. "
   ]
  },
  {
   "cell_type": "code",
   "execution_count": 14,
   "metadata": {},
   "outputs": [
    {
     "name": "stdout",
     "output_type": "stream",
     "text": [
      "(74, 10) (1721, 10)\n",
      "(1548, 9) (173, 9)\n",
      "[ 3 19 48 42 84  9  9  3 18 51 84  3 19 80 84 42  2 42 19 19 18 11 53 76\n",
      "  2 19  4 42 51  2 53 18 14 19 42 53 63 19 13 18 18 42 79 18 18  3 18 66\n",
      " 47  3 42 19 37 18  4 19 42 42  9 19 37 42 84 19 11 42  4 10 42 19 34 94\n",
      "  3 19 84 13 19 84 53 18 15 25 84 51 29 48 42 18 18 19  9 34 18  4 42 32\n",
      " 48  4 19 84 53 18 19 61 18 32 84 48 42 19 18 18 18 18 73 18 42 32 18 84\n",
      " 19  9 42 42 53 84 84 94 10 42 53 94 19 13 29 84 34 84  2  3 34  4 42 32\n",
      " 18  4 48 13 18 84 13 48 34 14 19  4 13 61  7  3  4  3 53 13  2 18 42 35\n",
      "  2 18 29 19 19]\n",
      "173\n",
      "Model performace for replacing the missing values: \n",
      "Accuracy:  0.34104046242774566\n",
      "Precision:  0.34104046242774566\n",
      "Recall:  0.34104046242774566\n",
      "F1 Score:  0.34104046242774566\n"
     ]
    }
   ],
   "source": [
    "from sklearn.model_selection import train_test_split\n",
    "from sklearn.metrics import accuracy_score, recall_score, precision_score, f1_score\n",
    "from sklearn.metrics import confusion_matrix\n",
    "from sklearn.preprocessing import LabelEncoder\n",
    "\n",
    "# Creating a temp dataset\n",
    "temp_data_co = data_clean\n",
    "# dropping the bean_type column since it has missing values\n",
    "temp_data_co= temp_data_co.drop('bean_type', 1)\n",
    "\n",
    "# Splitting the dataset into null and not null dataframe\n",
    "test_data_co = temp_data_co[temp_data_co[\"country_origin\"].isnull()]\n",
    "train_data_co = temp_data_co[temp_data_co[\"country_origin\"].notnull()]\n",
    "\n",
    "# Label encoding only the categorical columns \n",
    "test_data_co_l = test_data_co.apply(LabelEncoder().fit_transform)\n",
    "test_data_co_l['REF'] = data_clean['REF']\n",
    "test_data_co_l['cocoa_percent'] = data_clean['cocoa_percent']\n",
    "\n",
    "train_data_co_l = train_data_co.apply(LabelEncoder().fit_transform)\n",
    "train_data_co_l ['REF'] = data_clean['REF']\n",
    "train_data_co_l['cocoa_percent'] = data_clean['cocoa_percent']\n",
    "\n",
    "# Defining the X and y \n",
    "X = train_data_co_l.drop('country_origin', axis=1).values\n",
    "y = train_data_co_l['country_origin'].values\n",
    "\n",
    "print (test_data_co.shape, train_data_co.shape)\n",
    "\n",
    "X_train_co, X_test_co, y_train_co, y_test_co = train_test_split(X, y, test_size= 0.1, train_size=0.9, random_state=42)\n",
    "\n",
    "print (X_train_co.shape, X_test_co.shape)\n",
    "\n",
    "# Training a KNN machine leanring model to replace the missing values\n",
    "from sklearn.neighbors import KNeighborsClassifier\n",
    "# The model gave the best result at n_neighbors = 3\n",
    "knn = KNeighborsClassifier(n_neighbors = 3)\n",
    "knn.fit(X_train_co, y_train_co)\n",
    "y_pred = knn.predict(X_test_co)\n",
    "print (y_pred)\n",
    "print (y_pred.size)\n",
    "\n",
    "# Getting the accuracy metric\n",
    "acc = accuracy_score(y_pred, y_test_co)\n",
    "pre = precision_score(y_pred, y_test_co, average='micro')\n",
    "rec = recall_score(y_pred, y_test_co, average='micro')\n",
    "f1 = f1_score(y_pred, y_test_co, average='micro')\n",
    "\n",
    "print ('Model performace for replacing the missing values: ')\n",
    "print ('Accuracy: ', acc)\n",
    "print ('Precision: ', pre)\n",
    "print ('Recall: ',rec)\n",
    "print ('F1 Score: ', f1)"
   ]
  },
  {
   "cell_type": "code",
   "execution_count": 15,
   "metadata": {},
   "outputs": [
    {
     "name": "stdout",
     "output_type": "stream",
     "text": [
      "   bean_origin       REF  review_date  cocoa_percent  company_location  \\\n",
      "0           12  1.519895           10      -1.376022                18   \n",
      "1          298  1.158056            9      -0.268665                18   \n",
      "2           49  1.158056            9      -0.268665                18   \n",
      "3           13  1.165293            9      -0.268665                18   \n",
      "4          466  1.208714            9      -0.268665                18   \n",
      "\n",
      "   rating  country_origin  company_coffee  maker  sub_bean_type  \n",
      "0      10              65               0     34              9  \n",
      "1       6              75               0     34              9  \n",
      "2       7              75               0     34              9  \n",
      "3       9              75               0     34              9  \n",
      "4       9              53               0     34              9  \n",
      "(1795, 10)\n"
     ]
    }
   ],
   "source": [
    "# Predicting the null values for country_origin\n",
    "pred_data_co_l = test_data_co_l.drop('country_origin', axis=1).values\n",
    "\n",
    "# y_pred containing the predicted value\n",
    "y_pred = knn.predict(pred_data_co_l)\n",
    "\n",
    "# Storing the y_pred values in a column of a dataframe\n",
    "temp1 = test_data_co_l\n",
    "temp1[\"country_origin\"] = y_pred\n",
    "\n",
    "# Incrporating the prediction for the missing values into the main dataset\n",
    "dataset_clean_co = pd.concat([train_data_co_l, temp1], join = 'inner')\n",
    "print (dataset_clean_co.head())\n",
    "print (dataset_clean_co.shape)"
   ]
  },
  {
   "cell_type": "markdown",
   "execution_count": null,
   "metadata": {},
   "source": [
    "### Dealing with the null values for bean_type"
   ]
  },
  {
   "cell_type": "code",
   "execution_count": 16,
   "metadata": {},
   "outputs": [
    {
     "name": "stdout",
     "output_type": "stream",
     "text": [
      "Model performace for replacing the missing values: \n",
      "Accuracy:  0.5054945054945055\n",
      "Precision:  0.5054945054945055\n",
      "Recall:  0.5054945054945055\n",
      "F1 Score:  0.5054945054945055\n"
     ]
    }
   ],
   "source": [
    "# Preparing the dataset by propping the country_origin column since it had missing values\n",
    "temp_data_bt = data_clean\n",
    "temp_data_bt = temp_data_bt.drop('country_origin', 1)\n",
    "\n",
    "# Splitting the dataset into null and not null dataframe\n",
    "test_data_bt = temp_data_bt[temp_data_bt[\"bean_type\"].isnull()]\n",
    "train_data_bt = temp_data_bt[temp_data_bt[\"bean_type\"].notnull()]\n",
    "\n",
    "# Label encoding only the categorical columns \n",
    "test_data_bt = test_data_bt.apply(LabelEncoder().fit_transform)\n",
    "test_data_bt['REF'] = data_clean['REF']\n",
    "test_data_bt['cocoa_percent'] = data_clean['cocoa_percent']\n",
    "\n",
    "train_data_bt = train_data_bt.apply(LabelEncoder().fit_transform)\n",
    "train_data_bt['cocoa_percent'] = data_clean['cocoa_percent']\n",
    "train_data_bt['REF'] = data_clean['REF']\n",
    "\n",
    "# Defining the X and y \n",
    "X = train_data_bt.drop('bean_type', axis=1).values\n",
    "y = train_data_bt['bean_type'].values\n",
    "\n",
    "X_train_bt, X_test_bt, y_train_bt, y_test_bt = train_test_split(X, y, test_size= 0.2, train_size=0.8, random_state=42)\n",
    "\n",
    "\n",
    "# Training a KNN machine leanring model to replace the missing values\n",
    "from sklearn.neighbors import KNeighborsClassifier\n",
    "# The model gave the best result at n_neighbors = 80\n",
    "knn = KNeighborsClassifier(n_neighbors = 80)\n",
    "knn.fit(X_train_bt, y_train_bt)\n",
    "y_pred = knn.predict(X_test_bt)\n",
    "\n",
    "# Getting the accuracy metric\n",
    "acc = accuracy_score(y_pred, y_test_bt)\n",
    "pre = precision_score(y_pred, y_test_bt, average='micro')\n",
    "rec = recall_score(y_pred, y_test_bt, average='micro')\n",
    "f1 = f1_score(y_pred, y_test_bt, average='micro')\n",
    "\n",
    "print ('Model performace for replacing the missing values: ')\n",
    "print ('Accuracy: ', acc)\n",
    "print ('Precision: ', pre)\n",
    "print ('Recall: ',rec)\n",
    "print ('F1 Score: ', f1)"
   ]
  },
  {
   "cell_type": "code",
   "execution_count": 17,
   "metadata": {},
   "outputs": [
    {
     "name": "stdout",
     "output_type": "stream",
     "text": [
      "    bean_origin       REF  review_date  cocoa_percent  company_location  \\\n",
      "5            65  0.504937            8      -0.268665                16   \n",
      "7           300  0.504937            8      -0.268665                16   \n",
      "8           257  0.512174            8      -0.268665                16   \n",
      "11          186 -0.045057            7      -0.268665                16   \n",
      "17           73 -0.037821            7      -0.268665                16   \n",
      "\n",
      "    rating  company_coffee  maker  bean_type  sub_bean_type  \n",
      "5        6               0     26          6              9  \n",
      "7        9               0     26          6              9  \n",
      "8       10               0     26          6              9  \n",
      "11       7               0     26          6              9  \n",
      "17      11               0     26         25              9  \n",
      "(1795, 10)\n"
     ]
    }
   ],
   "source": [
    "# Predicting the null values for bean_type with the KNN model\n",
    "\n",
    "pred_data_bean_l = test_data_bt.drop('bean_type', axis=1).values\n",
    "\n",
    "# y_pred storing the predicted values\n",
    "y_pred = knn.predict(pred_data_bean_l)\n",
    "\n",
    "temp = test_data_bt\n",
    "temp[\"bean_type\"] = y_pred\n",
    "\n",
    "# Incrporating the prediction for the missing values into the dataset\n",
    "dataset_clean_bean = pd.concat([train_data_bt, temp], join = 'inner')\n",
    "print (dataset_clean_bean.head())\n",
    "print (dataset_clean_bean.shape)"
   ]
  },
  {
   "cell_type": "markdown",
   "execution_count": null,
   "metadata": {},
   "source": [
    "### Preparing the final dataset"
   ]
  },
  {
   "cell_type": "code",
   "execution_count": 18,
   "metadata": {},
   "outputs": [
    {
     "name": "stdout",
     "output_type": "stream",
     "text": [
      "The total number of null values in : bean_origin\n",
      "0\n",
      "The total number of null values in : REF\n",
      "0\n",
      "The total number of null values in : review_date\n",
      "0\n",
      "The total number of null values in : cocoa_percent\n",
      "0\n",
      "The total number of null values in : company_location\n",
      "0\n",
      "The total number of null values in : rating\n",
      "0\n",
      "The total number of null values in : company_coffee\n",
      "0\n",
      "The total number of null values in : maker\n",
      "0\n",
      "The total number of null values in : bean_type\n",
      "0\n",
      "The total number of null values in : sub_bean_type\n",
      "0\n",
      "The total number of null values in : country_origin\n",
      "0\n"
     ]
    }
   ],
   "source": [
    "data_clean_label_encoding = dataset_clean_bean\n",
    "data_clean_label_encoding['country_origin'] = dataset_clean_co['country_origin']\n",
    "# Checking the dataset for null values after data processing\n",
    "count_null_values(data_clean_label_encoding, data_clean_label_encoding.columns)\n"
   ]
  },
  {
   "cell_type": "markdown",
   "execution_count": null,
   "metadata": {},
   "source": [
    "### Exploratory Data Analysis"
   ]
  },
  {
   "cell_type": "markdown",
   "execution_count": null,
   "metadata": {},
   "source": [
    "Let's explore the correlation between the categorical values. This will give us a better understanding of how the attributes are related to one another."
   ]
  },
  {
   "cell_type": "code",
   "execution_count": 19,
   "metadata": {},
   "outputs": [
    {
     "data": {
      "image/png": "[encoded data removed]",
      "text/plain": [
       "<Figure size 576x576 with 2 Axes>"
      ]
     },
     "metadata": {},
     "output_type": "display_data"
    }
   ],
   "source": [
    "# Finding out the correlation between the features in the dataset\n",
    "\n",
    "from string import ascii_letters\n",
    "import numpy as np\n",
    "import pandas as pd\n",
    "import seaborn as sns\n",
    "import matplotlib.pyplot as plt\n",
    "import pandas\n",
    "from sklearn.preprocessing import LabelEncoder\n",
    "\n",
    "sns.set(style=\"white\")\n",
    "\n",
    "# Compute the correlation matrix\n",
    "corr = data_clean_label_encoding [['bean_origin','REF','review_date','cocoa_percent','company_location'\\\n",
    "                   ,'rating','maker','bean_type','maker', 'sub_bean_type',\\\n",
    "                   'country_origin']].corr()\n",
    "\n",
    "# Generate a mask for the upper triangle\n",
    "mask = np.triu(np.ones_like(corr, dtype=np.bool))\n",
    "\n",
    "# Set up the matplotlib figure\n",
    "f, ax = plt.subplots(figsize=(8, 8))\n",
    "\n",
    "# Generate a custom diverging colormap\n",
    "cmap = sns.diverging_palette(220, 10, as_cmap=True)\n",
    "sns.set_context(\"paper\", rc={\"font.size\":12,\"axes.titlesize\":12, \"axes.labelsize\":12}) \n",
    "# Draw the heatmap with the mask and correct aspect ratio\n",
    "sns.heatmap(corr, mask=mask, cmap=cmap, vmax=.3, center=0,\n",
    "            square=True, linewidths=.5, cbar_kws={\"shrink\": .5})\n",
    "ax.set_title('Correlation Between The Pairs of Columns ')\n",
    "plt.show()"
   ]
  },
  {
   "cell_type": "markdown",
   "execution_count": null,
   "metadata": {},
   "source": [
    "Analysing the correlation matrix shown above we can notice that there are some high correlation between the attributes which means some of the attributes will not provide significant input to our machine leanring model. Moreover, there is a risk of having an overfitted model due to the presence of high correlation. This issue has been addressed by feature selection; discussed in the later part of the implementation."
   ]
  },
  {
   "cell_type": "code",
   "execution_count": 20,
   "metadata": {},
   "outputs": [
    {
     "data": {
      "image/png": "[encoded data removed]",
      "text/plain": [
       "<Figure size 432x288 with 1 Axes>"
      ]
     },
     "metadata": {},
     "output_type": "display_data"
    }
   ],
   "source": [
    "# Finding the distribution of rating in the dataset\n",
    "from scipy import stats\n",
    "sns.distplot(data_clean[\"rating\"], kde=False, fit=stats.gamma).set(title = 'Distribution for Chocolate Rating', xlabel = 'Rating', ylabel = 'Proportion Distribution' )\n",
    "plt.show()"
   ]
  },
  {
   "cell_type": "markdown",
   "execution_count": null,
   "metadata": {},
   "source": [
    "The graph above shows the distribution of rating in the dataset. We can see that the pattern follows a normal distribution with having the peak rating around the value of 3"
   ]
  },
  {
   "cell_type": "markdown",
   "execution_count": null,
   "metadata": {},
   "source": [
    "### Performing Feature Selection"
   ]
  },
  {
   "cell_type": "code",
   "execution_count": 21,
   "metadata": {},
   "outputs": [
    {
     "name": "stdout",
     "output_type": "stream",
     "text": [
      "(1795, 10)\n",
      "(1795,)\n",
      "bean_origin         11042.111897\n",
      "REF                     1.000557\n",
      "review_date             8.568560\n",
      "cocoa_percent           1.000557\n",
      "company_location      276.440396\n",
      "company_coffee       7412.665802\n",
      "maker                  25.088949\n",
      "bean_type              52.561987\n",
      "sub_bean_type          19.782157\n",
      "country_origin        756.534029\n",
      "dtype: float64\n",
      "Dataset Size Before Feature Selection \n",
      "(1795, 10)\n",
      "Dataset Size After Feature Selection \n",
      "(1795, 5)\n",
      "Relative Feature importance for each of the Features- \n",
      "[0.15698349 0.16832455 0.07789514 0.14840128 0.09184565 0.14007481\n",
      " 0.0358967  0.03814488 0.01710638 0.12532712]\n"
     ]
    },
    {
     "data": {
      "image/png": "[encoded data removed]",
      "text/plain": [
       "<Figure size 432x288 with 1 Axes>"
      ]
     },
     "metadata": {
      "needs_background": "light"
     },
     "output_type": "display_data"
    }
   ],
   "source": [
    "from sklearn.ensemble import ExtraTreesClassifier\n",
    "import matplotlib.pyplot as plt\n",
    "from sklearn.feature_selection import SelectFromModel\n",
    "%matplotlib inline\n",
    "#Splitting the variables into features and target\n",
    "X = data_clean_label_encoding.drop('rating', axis=1)\n",
    "y = data_clean_label_encoding['rating'].values\n",
    "\n",
    "print(X.shape)#printing dimensions of features\n",
    "print(y.shape)#printing dimensions of label\n",
    "\n",
    "#Printing the variability of all the features\n",
    "print(X.var())\n",
    "#Since the Variability of any column is not very low so selecting all the features based on variability\n",
    "\n",
    "\n",
    "# Using ExtraTreesClassifier for feature selection\n",
    "model = ExtraTreesClassifier()\n",
    "model.fit(X,y)\n",
    "print (\"Dataset Size Before Feature Selection \")\n",
    "print( X.shape)\n",
    "clf = ExtraTreesClassifier(n_estimators=50)\n",
    "clf = clf.fit(X, y)\n",
    "clf.feature_importances_  \n",
    "model = SelectFromModel(clf, prefit=True)\n",
    "X_feat_select = model.transform(X)\n",
    "print (\"Dataset Size After Feature Selection \")\n",
    "print (X_feat_select.shape )           \n",
    "print (\"Relative Feature importance for each of the Features- \")\n",
    "print(clf.feature_importances_)\n",
    "\n",
    "feat_importances = pd.Series(clf.feature_importances_, index=X.columns)\n",
    "feat_importances.nlargest(5).plot(kind='barh')\n",
    "plt.title('Important Features')\n",
    "plt.xlabel('Relative Importance')\n",
    "plt.ylabel('Features')\n",
    "plt.show()\n"
   ]
  },
  {
   "cell_type": "markdown",
   "execution_count": null,
   "metadata": {},
   "source": [
    "After applying feature selection we ended up with 5 features down from 10."
   ]
  },
  {
   "cell_type": "markdown",
   "execution_count": null,
   "metadata": {},
   "source": [
    "### Performing Data Partitioning"
   ]
  },
  {
   "cell_type": "code",
   "execution_count": 22,
   "metadata": {},
   "outputs": [
    {
     "name": "stdout",
     "output_type": "stream",
     "text": [
      "Training and testing size\n",
      "(1436, 5)\n",
      "(359, 5)\n"
     ]
    }
   ],
   "source": [
    "# Training- 80% Testing- 20%\n",
    "X_train, X_test, y_train, y_test = train_test_split(X_feat_select, y, test_size= 0.2, random_state=42)\n",
    "print ('Training and testing size')\n",
    "print (X_train.shape)\n",
    "print (X_test.shape)"
   ]
  },
  {
   "cell_type": "markdown",
   "execution_count": null,
   "metadata": {},
   "source": [
    "### Random Forest Model Development"
   ]
  },
  {
   "cell_type": "code",
   "execution_count": 23,
   "metadata": {},
   "outputs": [
    {
     "name": "stderr",
     "output_type": "stream",
     "text": [
      "/opt/conda/lib/python3.7/site-packages/sklearn/model_selection/_split.py:672: UserWarning: The least populated class in y has only 1 members, which is less than n_splits=5.\n",
      "  % (min_groups, self.n_splits)), UserWarning)\n"
     ]
    },
    {
     "name": "stdout",
     "output_type": "stream",
     "text": [
      "{'max_depth': 2, 'max_leaf_nodes': 4, 'min_samples_split': 35, 'n_estimators': 5}\n",
      "0.25695896244676736\n"
     ]
    }
   ],
   "source": [
    "from sklearn.model_selection import GridSearchCV\n",
    "from sklearn.ensemble import RandomForestClassifier\n",
    "\n",
    "random_forest = RandomForestClassifier()\n",
    "# Parameter for performing hyper tuning\n",
    "parameters = {'n_estimators': [4, 5, 6], 'max_depth': [2, 3, 4], \\\n",
    "              'min_samples_split': [25, 30, 35], 'max_leaf_nodes': [4, 5, 6]}\n",
    "\n",
    "random_forest_classifier = GridSearchCV(random_forest, parameters,  cv = 5)\n",
    "random_forest_classifier.fit(X_train, y_train)\n",
    "print(random_forest_classifier.best_params_)\n",
    "print(random_forest_classifier.best_score_)"
   ]
  },
  {
   "cell_type": "markdown",
   "execution_count": null,
   "metadata": {},
   "source": [
    "The best test accuracy for the Random forest model is 25% which is very less as it can be interpreted as- The model will be able to predict the rating for the chocolate correctly once in every four attempts. However, this problem is a multiclass classification problem with 13 distinct values for the rating  which are- 3.75, 2.75, 3, 3.5, 4, 3.25, 2.5, 5, 1.75, 1.5, 2.25, 2, 1"
   ]
  },
  {
   "cell_type": "markdown",
   "execution_count": null,
   "metadata": {},
   "source": [
    "### Rounding the values of rating"
   ]
  },
  {
   "cell_type": "markdown",
   "execution_count": null,
   "metadata": {},
   "source": [
    "We can increase the prediction of the model if we round the values for the ratings to its nearest whole number"
   ]
  },
  {
   "cell_type": "code",
   "execution_count": 24,
   "metadata": {},
   "outputs": [
    {
     "name": "stdout",
     "output_type": "stream",
     "text": [
      "[3 2 4 5 1]\n"
     ]
    }
   ],
   "source": [
    "\n",
    "temp = data_clean\n",
    "temp['rating'] = temp['rating'].astype(float)\n",
    "\n",
    "# Function to convert the values for the  rating to its nearest whole number\n",
    "def round_rating(rating):\n",
    "    if (rating < 1 ):\n",
    "        return 0\n",
    "    elif (rating > 0 ) and (rating < 2 ):\n",
    "        return 1\n",
    "    elif (rating >= 2 ) and (rating < 3 ):\n",
    "        return 2\n",
    "    elif (rating >= 3 ) and (rating < 4 ):\n",
    "        return 3\n",
    "    elif (rating >= 4 ) and (rating < 5 ):\n",
    "        return 4\n",
    "    else:\n",
    "        return 5\n",
    "\n",
    "\n",
    "temp['rating'] = temp['rating'].apply(round_rating)\n",
    "print(temp['rating'].unique())"
   ]
  },
  {
   "cell_type": "code",
   "execution_count": 25,
   "metadata": {},
   "outputs": [
    {
     "name": "stdout",
     "output_type": "stream",
     "text": [
      "Suite-1 training and testing size\n",
      "(1436, 5)\n",
      "(359, 5)\n",
      "[3 2 3 ... 3 3 3]\n"
     ]
    }
   ],
   "source": [
    "y_new = temp['rating'].values\n",
    "X_train, X_test, y_train, y_test = train_test_split(X_feat_select, y_new, test_size= 0.2, random_state=42)\n",
    "print ('Suite-1 training and testing size')\n",
    "print (X_train.shape)\n",
    "print (X_test.shape)\n",
    "print(y_new)"
   ]
  },
  {
   "cell_type": "code",
   "execution_count": 26,
   "metadata": {},
   "outputs": [
    {
     "name": "stderr",
     "output_type": "stream",
     "text": [
      "/opt/conda/lib/python3.7/site-packages/sklearn/model_selection/_split.py:672: UserWarning: The least populated class in y has only 1 members, which is less than n_splits=5.\n",
      "  % (min_groups, self.n_splits)), UserWarning)\n"
     ]
    },
    {
     "name": "stdout",
     "output_type": "stream",
     "text": [
      "{'max_depth': 2, 'max_leaf_nodes': 4, 'min_samples_split': 25, 'n_estimators': 4}\n",
      "0.6922014130855595\n"
     ]
    }
   ],
   "source": [
    "# Training the model\n",
    "random_forest_classifier.fit(X_train, y_train)\n",
    "print(random_forest_classifier.best_params_)\n",
    "print(random_forest_classifier.best_score_)"
   ]
  },
  {
   "cell_type": "code",
   "execution_count": 27,
   "metadata": {},
   "outputs": [
    {
     "name": "stdout",
     "output_type": "stream",
     "text": [
      "Model Performance Statistic: \n",
      "Accuracy:  0.7075208913649025\n",
      "Precision:  0.7075208913649025\n",
      "Recall:  0.7075208913649025\n",
      "F1 Score:  0.7075208913649025\n"
     ]
    }
   ],
   "source": [
    "# Testing the model\n",
    "model = RandomForestClassifier(random_state=42, max_depth= 4, max_leaf_nodes= 4,\\\n",
    "                                       min_samples_split= 35, n_estimators= 6)\n",
    "model.fit(X_train, y_train)\n",
    "#Predict the response for test dataset\n",
    "y_pred = model.predict(X_test)\n",
    "\n",
    "# Getting the accuracy metric\n",
    "acc = accuracy_score(y_pred, y_test)\n",
    "pre = precision_score(y_pred, y_test, average='micro')\n",
    "rec = recall_score(y_pred, y_test,average='micro')\n",
    "f1 = f1_score(y_pred, y_test, average='micro')\n",
    "print ('Model Performance Statistic: ')\n",
    "print ('Accuracy: ', acc)\n",
    "print ('Precision: ', pre)\n",
    "print ('Recall: ',rec)\n",
    "print ('F1 Score: ', f1)"
   ]
  },
  {
   "cell_type": "markdown",
   "execution_count": null,
   "metadata": {},
   "source": [
    "The accuracy of the model is now 70.75%"
   ]
  }
 ],
 "metadata": {
  "kernelspec": {
   "display_name": "Python 3",
   "language": "python",
   "name": "python3"
  },
  "language_info": {
   "codemirror_mode": {
    "name": "ipython",
    "version": 3
   },
   "file_extension": ".py",
   "mimetype": "text/x-python",
   "name": "python",
   "nbconvert_exporter": "python",
   "pygments_lexer": "ipython3",
   "version": "3.7.6"
  }
 },
 "nbformat": 4,
 "nbformat_minor": 4
}
