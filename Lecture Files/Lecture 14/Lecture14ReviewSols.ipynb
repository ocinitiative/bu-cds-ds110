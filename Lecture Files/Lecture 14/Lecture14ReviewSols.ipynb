{
  "cells": [
    {
      "cell_type": "code",
      "execution_count": null,
      "metadata": {
        "colab": {
          "base_uri": "https://localhost:8080/"
        },
        "id": "nfTYnfWCt7_u",
        "outputId": "ea632037-349b-4271-a452-4b6641e4b6bc"
      },
      "outputs": [
        {
          "name": "stdout",
          "output_type": "stream",
          "text": [
            "True\n"
          ]
        }
      ],
      "source": [
        "mylist = ['A', 'B', '1']\n",
        "\n",
        "def contains_number(mylist):\n",
        "  for item in mylist:\n",
        "    if item.isdigit():\n",
        "      return True # number found\n",
        "  return False\n",
        "\n",
        "print(contains_number(mylist))"
      ]
    },
    {
      "cell_type": "code",
      "execution_count": null,
      "metadata": {
        "colab": {
          "base_uri": "https://localhost:8080/"
        },
        "id": "nou6GUkDt-s4",
        "outputId": "278d5626-2385-44c1-f013-11ac135b7e64"
      },
      "outputs": [
        {
          "data": {
            "text/plain": [
              "['a', 'b', '1']"
            ]
          },
          "execution_count": 36,
          "metadata": {
            "tags": []
          },
          "output_type": "execute_result"
        }
      ],
      "source": [
        "list(map(lambda s: s.lower(), mylist))"
      ]
    },
    {
      "cell_type": "code",
      "execution_count": null,
      "metadata": {
        "colab": {
          "base_uri": "https://localhost:8080/"
        },
        "id": "YxQTfoL2xJqv",
        "outputId": "366e684c-9a0f-4a78-e8a3-57e3d3e8155f"
      },
      "outputs": [
        {
          "data": {
            "text/plain": [
              "['a', 'b', '1']"
            ]
          },
          "execution_count": 37,
          "metadata": {
            "tags": []
          },
          "output_type": "execute_result"
        }
      ],
      "source": [
        "[s.lower() for s in mylist]"
      ]
    },
    {
      "cell_type": "code",
      "execution_count": 1,
      "metadata": {
        "colab": {
          "base_uri": "https://localhost:8080/"
        },
        "id": "aSvHUDIBbfE6",
        "outputId": "b534b11f-ebdf-42ed-f44c-93fbaef9167d"
      },
      "outputs": [
        {
          "output_type": "stream",
          "name": "stdout",
          "text": [
            "[[  0.   0.   0.   0.   0.   0.   0.   0.   0.   0.   0.]\n",
            " [  0.   1.   2.   3.   4.   5.   6.   7.   8.   9.  10.]\n",
            " [  0.   2.   4.   6.   8.  10.  12.  14.  16.  18.  20.]\n",
            " [  0.   3.   6.   9.  12.  15.  18.  21.  24.  27.  30.]\n",
            " [  0.   4.   8.  12.  16.  20.  24.  28.  32.  36.  40.]\n",
            " [  0.   5.  10.  15.  20.  25.  30.  35.  40.  45.  50.]\n",
            " [  0.   6.  12.  18.  24.  30.  36.  42.  48.  54.  60.]\n",
            " [  0.   7.  14.  21.  28.  35.  42.  49.  56.  63.  70.]\n",
            " [  0.   8.  16.  24.  32.  40.  48.  56.  64.  72.  80.]\n",
            " [  0.   9.  18.  27.  36.  45.  54.  63.  72.  81.  90.]\n",
            " [  0.  10.  20.  30.  40.  50.  60.  70.  80.  90. 100.]]\n"
          ]
        }
      ],
      "source": [
        "import numpy as np\n",
        "table = np.zeros((11,11))\n",
        "for i in range(11):\n",
        "  for j in range(11):\n",
        "    table[i][j] = i*j\n",
        "print(table)"
      ]
    },
    {
      "cell_type": "code",
      "source": [
        "def unique(lst):\n",
        "  itemset = set()\n",
        "  for item in lst:\n",
        "    if item in itemset:\n",
        "      return False\n",
        "    itemset.add(item)\n",
        "  return True\n",
        "\n",
        "print(unique(animals))\n",
        "print(unique(['bear','lion']))"
      ],
      "metadata": {
        "colab": {
          "base_uri": "https://localhost:8080/"
        },
        "id": "VjZssZl_79VI",
        "outputId": "3b3beb8f-7a5d-404c-9766-3e2b7e0edae5"
      },
      "execution_count": 4,
      "outputs": [
        {
          "output_type": "stream",
          "name": "stdout",
          "text": [
            "False\n",
            "True\n"
          ]
        }
      ]
    },
    {
      "cell_type": "code",
      "execution_count": 3,
      "metadata": {
        "colab": {
          "base_uri": "https://localhost:8080/"
        },
        "id": "AuDIs4h5gNrx",
        "outputId": "a1219cca-bcca-4b87-ca22-02b52ad1adf7"
      },
      "outputs": [
        {
          "output_type": "execute_result",
          "data": {
            "text/plain": [
              "{'panda': 2, 'lion': 2, 'pandas': 2, 'lions': 2, 'bear': 1}"
            ]
          },
          "metadata": {},
          "execution_count": 3
        }
      ],
      "source": [
        "animals = \"panda,lion,panda,lion,bear\"\n",
        "\n",
        "def animalhasher(animals):\n",
        "  animalist = animals.split(\",\")\n",
        "  animaldict = {}\n",
        "  for animal in animalist:\n",
        "    if animal in animaldict:\n",
        "      animaldict[animal] += 1\n",
        "      animaldict[animal + \"s\"] = animaldict[animal]\n",
        "    else:\n",
        "      animaldict[animal] = 1\n",
        "  return animaldict\n",
        "\n",
        "animalhasher(animals)"
      ]
    }
  ],
  "metadata": {
    "colab": {
      "provenance": []
    },
    "kernelspec": {
      "display_name": "Python 3",
      "language": "python",
      "name": "python3"
    },
    "language_info": {
      "codemirror_mode": {
        "name": "ipython",
        "version": 3
      },
      "file_extension": ".py",
      "mimetype": "text/x-python",
      "name": "python",
      "nbconvert_exporter": "python",
      "pygments_lexer": "ipython3",
      "version": "3.8.8"
    }
  },
  "nbformat": 4,
  "nbformat_minor": 0
}