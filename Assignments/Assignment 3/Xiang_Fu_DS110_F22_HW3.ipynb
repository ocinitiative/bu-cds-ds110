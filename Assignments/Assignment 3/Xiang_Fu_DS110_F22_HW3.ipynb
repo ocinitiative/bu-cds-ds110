{
  "nbformat": 4,
  "nbformat_minor": 0,
  "metadata": {
    "colab": {
      "provenance": [],
      "collapsed_sections": []
    },
    "kernelspec": {
      "name": "python3",
      "display_name": "Python 3"
    },
    "language_info": {
      "name": "python"
    }
  },
  "cells": [
    {
      "cell_type": "markdown",
      "source": [
        "# Problem 1:  Basic functions (41 pts:  6,7,7,7,6,8)"
      ],
      "metadata": {
        "id": "EldL0furZti2"
      }
    },
    {
      "cell_type": "markdown",
      "source": [
        "For each of the following subproblems, you also need to write tests.  In square brackets, the inputs of the tests will be described.  Print the output of the function on the given inputs and check that the output matches your expectations."
      ],
      "metadata": {
        "id": "OxHU9jKmcTBL"
      }
    },
    {
      "cell_type": "markdown",
      "source": [
        "a, 6pts) Write a function minion_name() that takes a string as an argument and returns True only if the string is \"Kevin\", \"Stuart\", or \"Bob\".  (These are the three protagonists of the movie *Minions*.) [2 tests:  input \"Kevin\", input \"Alice\"]"
      ],
      "metadata": {
        "id": "g_ia2QTGZ8hP"
      }
    },
    {
      "cell_type": "code",
      "execution_count": null,
      "metadata": {
        "id": "cPxVohqaYYGh",
        "colab": {
          "base_uri": "https://localhost:8080/"
        },
        "outputId": "3ac22cff-0a14-4300-e0e6-d6ab399c9c56"
      },
      "outputs": [
        {
          "output_type": "stream",
          "name": "stdout",
          "text": [
            "True\n",
            "None\n"
          ]
        }
      ],
      "source": [
        "# TODO minion_name()\n",
        "\n",
        "def minion_game(name):\n",
        "\n",
        "  prota = [\"Kevin\", \"Stuart\", \"Bob\"]\n",
        "\n",
        "  if name in prota:\n",
        "    return True\n",
        "\n",
        "\n",
        "# test\n",
        "minion_game('Kevin')\n",
        "minion_game('Alice')"
      ]
    },
    {
      "cell_type": "markdown",
      "source": [
        "b, 7 pts) both_found() takes two items *a* and *b* and one list *l* as input, and returns True if both items *a* and *b* are in list *l*, false otherwise.  [3 tests:  both in the list, a in the list but not b, b in the list but not a.]"
      ],
      "metadata": {
        "id": "1Neg10E1e7fL"
      }
    },
    {
      "cell_type": "code",
      "source": [
        "# TODO both_found()\n",
        "\n",
        "def both_found(a, b, list):\n",
        "\n",
        "    if a and b in list:\n",
        "        return True\n",
        "\n",
        "    else:\n",
        "        return False\n",
        "\n",
        "\n",
        "# test\n",
        "print(both_found(1, 2, [1, 2])) # both a and b are in the list\n",
        "print(both_found(1, 3, [1, 2])) # a in the list but not b\n",
        "print(both_found(1, 3, [1, 3])) # b in the list but not a"
      ],
      "metadata": {
        "colab": {
          "base_uri": "https://localhost:8080/"
        },
        "id": "1xiXdM5VOA7m",
        "outputId": "6e7860ac-5db1-4dd9-c23d-b3f17e09fae3"
      },
      "execution_count": 65,
      "outputs": [
        {
          "output_type": "stream",
          "name": "stdout",
          "text": [
            "True\n",
            "False\n",
            "True\n"
          ]
        }
      ]
    },
    {
      "cell_type": "markdown",
      "source": [
        "c, 7 pts) Write a function total_price() that takes a single price and a list of quantities, and returns the sum of price*quantity over all the quantities. [2 tests:  3,[1,2,3] should return 18; 10,[] should return 0.]"
      ],
      "metadata": {
        "id": "ds-ep0aFbjJj"
      }
    },
    {
      "cell_type": "code",
      "source": [
        "# TODO total_price()\n",
        "\n",
        "def total_price(single_price, list_of_prices):\n",
        "  price_in_total = sum(single_price * list_of_prices[0:])\n",
        "\n",
        "  return price_in_total\n",
        "\n",
        "\n",
        "# test\n",
        "\n",
        "total_price(3, [1, 2, 3]) # should be print out 18\n",
        "total_price(10, []) # should be print out 0\n"
      ],
      "metadata": {
        "id": "wX8Xm79Zduje",
        "colab": {
          "base_uri": "https://localhost:8080/"
        },
        "outputId": "d5d8fb1d-7e2e-4859-8411-ec759a577b2a"
      },
      "execution_count": null,
      "outputs": [
        {
          "output_type": "stream",
          "name": "stdout",
          "text": [
            "18\n",
            "0\n"
          ]
        }
      ]
    },
    {
      "cell_type": "markdown",
      "source": [
        "d, 7 pts) is_square():  given an input that is necessarily a numpy array, return True only if the array is square (its number of rows equals the number of columns).  [2 tests:  np.array([[1, 1],[2,2]]), np.array([[1,1,1],[2,2,2]])]"
      ],
      "metadata": {
        "id": "7jt_UQTRkfaK"
      }
    },
    {
      "cell_type": "code",
      "source": [
        "# TODO is_square()\n",
        "\n",
        "import numpy as np\n",
        "\n",
        "def is_square(sq):\n",
        "  rows = len(sq)\n",
        "  for row in sq:\n",
        "      if len(row) != rows:\n",
        "            return False\n",
        "      return True\n",
        "\n",
        "# test\n",
        "\n",
        "is_square(np.array([[1, 1],[2,2]]),) # supposed to be 'True'\n",
        "\n",
        "is_square(np.array([[1,1,1],[2,2,2]])) # supposed to be 'False'\n"
      ],
      "metadata": {
        "id": "MwIn18fal1SH",
        "colab": {
          "base_uri": "https://localhost:8080/"
        },
        "outputId": "8edf876f-621f-4e6d-a749-2e09ea8b4787"
      },
      "execution_count": null,
      "outputs": [
        {
          "output_type": "stream",
          "name": "stdout",
          "text": [
            "True\n",
            "False\n"
          ]
        }
      ]
    },
    {
      "cell_type": "markdown",
      "source": [
        "e, 6 pts) Write a function maybe_sum() that takes a string and a list as its two arguments. If the string argument is the all lowercase string 'ignore', return 0.  Otherwise, return the sum of the list (which you can assume contains all integers).  You should not sum the list if it is to be ignored; you should return before then in that case. [2 tests:  'ignore', [1,2,3,4] should return 0; 'keep', [1,2,3,4] should return 10.] "
      ],
      "metadata": {
        "id": "cNCAXx9ZFR54"
      }
    },
    {
      "cell_type": "code",
      "source": [
        "# TODO maybe_sum()\n",
        "  \n",
        "\n",
        "def maybe_sum(one_string, one_list):\n",
        "  if one_string == 'ignore':\n",
        "    return 0\n",
        "  else:\n",
        "    return sum(one_list)\n",
        "\n",
        "\n",
        "# test\n",
        "\n",
        "maybe_sum('ignore', [1, 2, 3, 4]) # this should return 0\n",
        "maybe_sum('keep', [1, 2, 3, 4]) # this should return 10\n"
      ],
      "metadata": {
        "id": "4yPLNwhjGsmb",
        "colab": {
          "base_uri": "https://localhost:8080/"
        },
        "outputId": "8e34b960-b100-437a-e39e-114d1b918263"
      },
      "execution_count": 7,
      "outputs": [
        {
          "output_type": "execute_result",
          "data": {
            "text/plain": [
              "10"
            ]
          },
          "metadata": {},
          "execution_count": 7
        }
      ]
    },
    {
      "cell_type": "markdown",
      "source": [
        "f, 8 pts) Write a function find_all() that takes an input *to_find* and list of numbers, and returns (with two return values) the number of times *to_find* appears in the list, and True if and only if *all* the values in the list match.  (Hint:  Consider using a variable *found_mismatch* that is set to True if a value that's doesn't match is found.)  [2 tests:  2,[2,2,2] returns (3, True); 2, [1,0,2] returns (1,False).]\n",
        "\n"
      ],
      "metadata": {
        "id": "79VROSvDm50r"
      }
    },
    {
      "cell_type": "code",
      "source": [
        "# TODO find_all()\n",
        "\n",
        "def find_all(to_find, one_list):\n",
        "  found_mismatch = False\n",
        "  \n",
        "  for i in one_list:\n",
        "    if (i == to_find):\n",
        "      count_alpha = one_list.count(to_find)\n",
        "\n",
        "      if count_alpha == len(one_list):\n",
        "        found_mismatch = True\n",
        "      else:\n",
        "        found_mismatch = False\n",
        "      \n",
        "  return count_alpha, found_mismatch\n",
        "\n",
        "\n",
        "# test\n",
        "\n",
        "find_all(2, [2, 2, 2]) # should be print out (3, True)\n",
        "find_all(2, [1, 0, 2]) # should be print out (1, False)\n"
      ],
      "metadata": {
        "id": "JjoDsaExeSbv",
        "colab": {
          "base_uri": "https://localhost:8080/"
        },
        "outputId": "832a5336-552b-48c4-8ba6-28512f6d7821"
      },
      "execution_count": 8,
      "outputs": [
        {
          "output_type": "execute_result",
          "data": {
            "text/plain": [
              "(1, False)"
            ]
          },
          "metadata": {},
          "execution_count": 8
        }
      ]
    },
    {
      "cell_type": "markdown",
      "source": [
        "# Problem 2:  Map and Filter (11 pts:  5,6)\n",
        "\n",
        "Each function below uses at least one of **map** or **filter** to accomplish its results.  Given a description of what the map- or filter-using function does, write the helper function that completes the function.  For example, if add_2_to_all() adds 2 to everything in a list with a map, then you would complete add2() which adds 2 to a single value."
      ],
      "metadata": {
        "id": "p-GHoakeL9k3"
      }
    },
    {
      "cell_type": "markdown",
      "source": [
        "a, 5pts) Given a list of integers, function filter_zeros() returns the same list but with all zero values missing."
      ],
      "metadata": {
        "id": "jVGCkAssNdZZ"
      }
    },
    {
      "cell_type": "code",
      "source": [
        "# TODO not_zero()\n",
        "\n",
        "# Given function\n",
        "def filter_zeros(lst):\n",
        "  return list(filter(not_zero, lst)) # Using filter to acoomplish its results\n",
        "\n",
        "def not_zero(x):\n",
        "  return x != 0\n",
        "\n",
        "filter_zeros([2, 3, 0, -2, 5])\n"
      ],
      "metadata": {
        "id": "XnNL_pVwNcZh",
        "colab": {
          "base_uri": "https://localhost:8080/"
        },
        "outputId": "eacd422a-7a61-46ba-d407-107497b12ea3"
      },
      "execution_count": null,
      "outputs": [
        {
          "output_type": "execute_result",
          "data": {
            "text/plain": [
              "[2, 3, -2, 5]"
            ]
          },
          "metadata": {},
          "execution_count": 57
        }
      ]
    },
    {
      "cell_type": "markdown",
      "source": [
        "b,6pts) Function clip_all() clips each value in the list to the range [0,255] - that is, values below this range are turned into 0, values above 255 should become 255, and all other values should be unchanged."
      ],
      "metadata": {
        "id": "_A_O-BWUOICH"
      }
    },
    {
      "cell_type": "code",
      "source": [
        "def clip_all(lst):\n",
        "  return list(map(clip,lst))\n",
        "\n",
        "# TODO clip()\n",
        "\n",
        "def clip(x):\n",
        "  if x < 0:\n",
        "      return 0\n",
        "  elif x > 255:\n",
        "      return 255\n",
        "  else:\n",
        "      return x\n",
        "\n",
        "# test \n",
        "clip_all([256,-1,5])"
      ],
      "metadata": {
        "colab": {
          "base_uri": "https://localhost:8080/"
        },
        "id": "bnZKZdzgUanW",
        "outputId": "895a6dfd-a804-4155-ffaa-4124d5203876"
      },
      "execution_count": null,
      "outputs": [
        {
          "output_type": "execute_result",
          "data": {
            "text/plain": [
              "[255, 0, 5]"
            ]
          },
          "metadata": {},
          "execution_count": 87
        }
      ]
    },
    {
      "cell_type": "markdown",
      "source": [
        "# Problem 3:  Second place (8 pts)\n",
        "\n",
        "Write a function second() that takes a list of integers as input and returns the second largest value in the list.  (Hint:  Sorting the list with sort() is allowed.)"
      ],
      "metadata": {
        "id": "KJa-GKCUgo62"
      }
    },
    {
      "cell_type": "code",
      "source": [
        "# TODO second()\n",
        "\n",
        "def second(list_alpha):\n",
        "  sorted_list = sorted(list_alpha) # Sort the list from smallest value to the largest one\n",
        "  return sorted_list[-2]\n",
        "\n",
        "\n",
        "# test\n",
        "\n",
        "test_list = [67, 22, 74, 58, 55, 87]\n",
        "# Sorted list should be [22, 55, 58, 67, 74, 87]\n",
        "second(test_list) # We should use index -2 to get the second largest value in the list"
      ],
      "metadata": {
        "id": "Fwd9DkhCkBvT",
        "colab": {
          "base_uri": "https://localhost:8080/"
        },
        "outputId": "827fc1f5-6355-4443-bc9d-832e7ec0ecaa"
      },
      "execution_count": null,
      "outputs": [
        {
          "output_type": "execute_result",
          "data": {
            "text/plain": [
              "74"
            ]
          },
          "metadata": {},
          "execution_count": 85
        }
      ]
    }
  ]
}