{
  "nbformat": 4,
  "nbformat_minor": 0,
  "metadata": {
    "colab": {
      "provenance": []
    },
    "kernelspec": {
      "name": "python3",
      "display_name": "Python 3"
    },
    "language_info": {
      "name": "python"
    }
  },
  "cells": [
    {
      "cell_type": "markdown",
      "source": [
        "## Graphs and centrality\n",
        "\n",
        "Consider the undirected graph described by the following adjacency list:\n",
        "\n",
        "* A: B, C, E\n",
        "* B: A, D\n",
        "* C: A, D, E\n",
        "* D: B, C, E\n",
        "* E: A, C, D, F\n",
        "* F: E, G\n",
        "* G: F\n",
        "\n",
        "a) Which node has the largest degree centrality?"
      ],
      "metadata": {
        "id": "QXl4SOORxLXu"
      }
    },
    {
      "cell_type": "markdown",
      "source": [
        "**TODO**"
      ],
      "metadata": {
        "id": "XapPwBtlxQrl"
      }
    },
    {
      "cell_type": "markdown",
      "source": [
        "b) What is the connectedness centrality of that node?  (Recall the formula, $\\frac{N-1}{\\sum_y d(x,y)}$.)"
      ],
      "metadata": {
        "id": "QfndmJa4xSTe"
      }
    },
    {
      "cell_type": "markdown",
      "source": [
        "**TODO**"
      ],
      "metadata": {
        "id": "cryJklM4xXuG"
      }
    },
    {
      "cell_type": "markdown",
      "source": [
        "c) What is the connectedness centrality of G?"
      ],
      "metadata": {
        "id": "qmQrcPH_xeEN"
      }
    },
    {
      "cell_type": "markdown",
      "source": [
        "**TODO**"
      ],
      "metadata": {
        "id": "KY40Pp1Oxe6P"
      }
    },
    {
      "cell_type": "markdown",
      "source": [
        "d) Breaking ties by alphabetical order for which nodes get explored first, what is the order the nodes are explored in a BFS starting from G?\n"
      ],
      "metadata": {
        "id": "L3YLHy2xxgHt"
      }
    },
    {
      "cell_type": "markdown",
      "source": [
        "**TODO**"
      ],
      "metadata": {
        "id": "v_odWW56xmTd"
      }
    },
    {
      "cell_type": "markdown",
      "metadata": {
        "id": "zCzmO49UbNgg"
      },
      "source": [
        "## Pivot tables and groupby\n",
        "\n",
        "The exercises that follow refer to the following table."
      ]
    },
    {
      "cell_type": "code",
      "metadata": {
        "id": "he2u9ASPWBao"
      },
      "source": [
        "import pandas as pd\n",
        "movies = pd.DataFrame({\"Title\": [\"Perfect Blue\",\n",
        "                                 \"Adolescence of Utena\",\n",
        "                                 \"Three Colours: Red\",\n",
        "                                 \"Three Colours: Blue\",\n",
        "                                 \"Three Colours: White\",\n",
        "                                 \"Harold and Kumar Go to White Castle\",\n",
        "                                 \"Men in Black\",\n",
        "                                 \"The Triplets of Belleville\"],\n",
        "                       \"Genre\": [\"Thriller\",\"Fantasy\",\"Drama\",\"Drama\",\"Drama\",\"Comedy\",\"Fantasy\",\"Comedy\"],\n",
        "                       \"Year\": [1997,1999,1994,1994,1994,2004,1997,2003],\n",
        "                       \"Country\": [\"Japan\",\"Japan\",\"France\",\"France\",\"France\",\"USA\",\"USA\", \"France\"],\n",
        "                       \"RTScore\": [80, 100, 100, 98, 87, 74, 92,94],\n",
        "                       \"Animated\": [True, True, False, False, False,False,False,True]})"
      ],
      "execution_count": null,
      "outputs": []
    },
    {
      "cell_type": "markdown",
      "metadata": {
        "id": "6mk6xo0Ib7XG"
      },
      "source": [
        "a) Use a groupby to get the average Rotten Tomatoes score by country, breaking it down further by whether the movie is animated.  Don't include the year."
      ]
    },
    {
      "cell_type": "code",
      "metadata": {
        "id": "Yd8WkcwZdeeq"
      },
      "source": [
        "# TODO"
      ],
      "execution_count": null,
      "outputs": []
    },
    {
      "cell_type": "markdown",
      "metadata": {
        "id": "a_EXZqatezQB"
      },
      "source": [
        "b) Use groupby to find the average score by year."
      ]
    },
    {
      "cell_type": "code",
      "metadata": {
        "id": "P1_IskZWfT0Y"
      },
      "source": [
        "# TODO"
      ],
      "execution_count": null,
      "outputs": []
    },
    {
      "cell_type": "markdown",
      "metadata": {
        "id": "tyuNJo2afSwe"
      },
      "source": [
        "Add a column \"21stCentury\" to the table that computes whether the year is 2000 or later.  Then create a pivot table that uses country as an index, 21stCentury as the columns, and Rotten Tomatoes score as a value."
      ]
    },
    {
      "cell_type": "code",
      "metadata": {
        "id": "NoYG6wq6hBFa"
      },
      "source": [
        "# TODO"
      ],
      "execution_count": null,
      "outputs": []
    },
    {
      "cell_type": "markdown",
      "metadata": {
        "id": "BdgXZY02iqrj"
      },
      "source": [
        "Create a table that shows the maximum year and average score for each country's movies."
      ]
    },
    {
      "cell_type": "code",
      "metadata": {
        "id": "GKxkyVX2ivWY"
      },
      "source": [
        "# TODO"
      ],
      "execution_count": null,
      "outputs": []
    }
  ]
}