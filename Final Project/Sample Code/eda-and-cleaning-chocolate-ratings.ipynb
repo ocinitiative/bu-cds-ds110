{
 "cells": [
  {
   "cell_type": "markdown",
   "id": "medical-allocation",
   "metadata": {
    "papermill": {
     "duration": 0.072361,
     "end_time": "2021-08-03T20:52:34.709107",
     "exception": false,
     "start_time": "2021-08-03T20:52:34.636746",
     "status": "completed"
    },
    "tags": []
   },
   "source": [
    "# About the dataset\n",
    "## Context\n",
    "Chocolate is one of the most popular candies in the world. Each year, residents of the United States collectively eat more than 2.8 billions pounds. However, not all chocolate bars are created equal! This dataset contains expert ratings of over 1,700 individual chocolate bars, along with information on their regional origin, percentage of cocoa, the variety of chocolate bean used and where the beans were grown.\n",
    "### Flavors of Cacao Rating System:\n",
    "- 5= Elite (Transcending beyond the ordinary limits)\n",
    "- 4= Premium (Superior flavor development, character and style)\n",
    "- 3= Satisfactory(3.0) to praiseworthy(3.75) (well made with special qualities)\n",
    "- 2= Disappointing (Passable but contains at least one significant flaw)\n",
    "- 1= Unpleasant (mostly unpalatable)\n",
    "\n",
    "\n",
    "\n",
    "![Photo by <a href=\"https://unsplash.com/@foodess?utm_source=unsplash&utm_medium=referral&utm_content=creditCopyText\">Food Photographer | Jennifer Pallian</a> on <a href=\"https://unsplash.com/s/photos/chocolate?utm_source=unsplash&utm_medium=referral&utm_content=creditCopyText\">Unsplash</a>\n",
    "  ](https://images.unsplash.com/photo-1481391319762-47dff72954d9?ixlib=rb-1.2.1&q=80&fm=jpg&crop=entropy&cs=tinysrgb&dl=food-photographer-jennifer-pallian-dcPNZeSY3yk-unsplash.jpg)\n",
    "<br />\n",
    "\n",
    "Each chocolate is evaluated from a combination of both objective qualities and subjective interpretation. A rating here only represents an experience with one bar from one batch. Batch numbers, vintages and review dates are included in the database when known.\n",
    "\n",
    "The database is narrowly focused on plain dark chocolate with an aim of appreciating the flavors of the cacao when made into chocolate. The ratings do not reflect health benefits, social missions, or organic status.\n",
    "\n",
    "**Flavor** is the most important component of the Flavors of Cacao ratings. Diversity, balance, intensity and purity of flavors are all considered. It is possible for a straight forward single note chocolate to rate as high as a complex flavor profile that changes throughout. Genetics, terroir, post harvest techniques, processing and storage can all be discussed when considering the flavor component.\n",
    "\n",
    "**Texture** has a great impact on the overall experience and it is also possible for texture related issues to impact flavor. It is a good way to evaluate the makers vision, attention to detail and level of proficiency.\n",
    "\n",
    "**Aftermelt** is the experience after the chocolate has melted. Higher quality chocolate will linger and be long lasting and enjoyable. Since the aftermelt is the last impression you get from the chocolate, it receives equal importance in the overall rating.\n",
    "\n",
    "Overall Opinion is really where the ratings reflect a subjective opinion. Ideally it is my evaluation of whether or not the components above worked together and an opinion on the flavor development, character and style. It is also here where each chocolate can usually be summarized by the most prominent impressions that you would remember about each chocolate."
   ]
  },
  {
   "cell_type": "markdown",
   "id": "micro-sample",
   "metadata": {
    "papermill": {
     "duration": 0.070833,
     "end_time": "2021-08-03T20:52:34.850666",
     "exception": false,
     "start_time": "2021-08-03T20:52:34.779833",
     "status": "completed"
    },
    "tags": []
   },
   "source": [
    "# Setting up the environment"
   ]
  },
  {
   "cell_type": "code",
   "execution_count": 1,
   "id": "efficient-withdrawal",
   "metadata": {
    "_cell_guid": "b1076dfc-b9ad-4769-8c92-a6c4dae69d19",
    "_uuid": "8f2839f25d086af736a60e9eeb907d3b93b6e0e5",
    "execution": {
     "iopub.execute_input": "2021-08-03T20:52:34.997299Z",
     "iopub.status.busy": "2021-08-03T20:52:34.995784Z",
     "iopub.status.idle": "2021-08-03T20:52:35.831071Z",
     "shell.execute_reply": "2021-08-03T20:52:35.830398Z",
     "shell.execute_reply.started": "2021-07-14T09:13:27.385589Z"
    },
    "papermill": {
     "duration": 0.909417,
     "end_time": "2021-08-03T20:52:35.831251",
     "exception": false,
     "start_time": "2021-08-03T20:52:34.921834",
     "status": "completed"
    },
    "tags": []
   },
   "outputs": [
    {
     "name": "stdout",
     "output_type": "stream",
     "text": [
      "/kaggle/input/chocolate-bar-ratings/flavors_of_cacao.csv\n"
     ]
    }
   ],
   "source": [
    "import numpy as np\n",
    "import pandas as pd\n",
    "import seaborn as sns\n",
    "import matplotlib.pyplot as plt\n",
    "%matplotlib inline\n",
    "\n",
    "import os\n",
    "for dirname, _, filenames in os.walk('/kaggle/input'):\n",
    "    for filename in filenames:\n",
    "        print(os.path.join(dirname, filename))"
   ]
  },
  {
   "cell_type": "code",
   "execution_count": 2,
   "id": "specific-messenger",
   "metadata": {
    "execution": {
     "iopub.execute_input": "2021-08-03T20:52:35.977958Z",
     "iopub.status.busy": "2021-08-03T20:52:35.977279Z",
     "iopub.status.idle": "2021-08-03T20:52:36.027225Z",
     "shell.execute_reply": "2021-08-03T20:52:36.027848Z",
     "shell.execute_reply.started": "2021-07-14T09:13:27.403395Z"
    },
    "papermill": {
     "duration": 0.12484,
     "end_time": "2021-08-03T20:52:36.028023",
     "exception": false,
     "start_time": "2021-08-03T20:52:35.903183",
     "status": "completed"
    },
    "tags": []
   },
   "outputs": [
    {
     "data": {
      "text/html": [
       "<div>\n",
       "<style scoped>\n",
       "    .dataframe tbody tr th:only-of-type {\n",
       "        vertical-align: middle;\n",
       "    }\n",
       "\n",
       "    .dataframe tbody tr th {\n",
       "        vertical-align: top;\n",
       "    }\n",
       "\n",
       "    .dataframe thead th {\n",
       "        text-align: right;\n",
       "    }\n",
       "</style>\n",
       "<table border=\"1\" class=\"dataframe\">\n",
       "  <thead>\n",
       "    <tr style=\"text-align: right;\">\n",
       "      <th></th>\n",
       "      <th>Company \\n(Maker-if known)</th>\n",
       "      <th>Specific Bean Origin\\nor Bar Name</th>\n",
       "      <th>REF</th>\n",
       "      <th>Review\\nDate</th>\n",
       "      <th>Cocoa\\nPercent</th>\n",
       "      <th>Company\\nLocation</th>\n",
       "      <th>Rating</th>\n",
       "      <th>Bean\\nType</th>\n",
       "      <th>Broad Bean\\nOrigin</th>\n",
       "    </tr>\n",
       "  </thead>\n",
       "  <tbody>\n",
       "    <tr>\n",
       "      <th>603</th>\n",
       "      <td>East Van Roasters</td>\n",
       "      <td>Dominican Republic</td>\n",
       "      <td>1343</td>\n",
       "      <td>2014</td>\n",
       "      <td>70%</td>\n",
       "      <td>Canada</td>\n",
       "      <td>3.75</td>\n",
       "      <td></td>\n",
       "      <td>Dominican Republic</td>\n",
       "    </tr>\n",
       "    <tr>\n",
       "      <th>1435</th>\n",
       "      <td>Scharffen Berger</td>\n",
       "      <td>Las Islas</td>\n",
       "      <td>117</td>\n",
       "      <td>2007</td>\n",
       "      <td>72%</td>\n",
       "      <td>U.S.A.</td>\n",
       "      <td>3.00</td>\n",
       "      <td>Blend</td>\n",
       "      <td>Carribean(DR/Jam/Tri)</td>\n",
       "    </tr>\n",
       "    <tr>\n",
       "      <th>1373</th>\n",
       "      <td>Ritual</td>\n",
       "      <td>Camino Verde P., Balao, Guayas, 2014</td>\n",
       "      <td>1466</td>\n",
       "      <td>2015</td>\n",
       "      <td>85%</td>\n",
       "      <td>U.S.A.</td>\n",
       "      <td>3.50</td>\n",
       "      <td></td>\n",
       "      <td>Ecuador</td>\n",
       "    </tr>\n",
       "    <tr>\n",
       "      <th>371</th>\n",
       "      <td>Cello</td>\n",
       "      <td>Ecuador</td>\n",
       "      <td>1247</td>\n",
       "      <td>2014</td>\n",
       "      <td>70%</td>\n",
       "      <td>U.S.A.</td>\n",
       "      <td>2.50</td>\n",
       "      <td></td>\n",
       "      <td>Ecuador</td>\n",
       "    </tr>\n",
       "    <tr>\n",
       "      <th>687</th>\n",
       "      <td>Fresco</td>\n",
       "      <td>Markham Valley, #219, LR, MC</td>\n",
       "      <td>899</td>\n",
       "      <td>2012</td>\n",
       "      <td>69%</td>\n",
       "      <td>U.S.A.</td>\n",
       "      <td>3.50</td>\n",
       "      <td></td>\n",
       "      <td>Papua New Guinea</td>\n",
       "    </tr>\n",
       "    <tr>\n",
       "      <th>568</th>\n",
       "      <td>Domori</td>\n",
       "      <td>Granella</td>\n",
       "      <td>135</td>\n",
       "      <td>2007</td>\n",
       "      <td>60%</td>\n",
       "      <td>Italy</td>\n",
       "      <td>3.25</td>\n",
       "      <td>Trinitario</td>\n",
       "      <td>Venezuela</td>\n",
       "    </tr>\n",
       "    <tr>\n",
       "      <th>290</th>\n",
       "      <td>Cacao de Origen</td>\n",
       "      <td>Rio Caribe</td>\n",
       "      <td>1692</td>\n",
       "      <td>2015</td>\n",
       "      <td>75%</td>\n",
       "      <td>Venezuela</td>\n",
       "      <td>3.25</td>\n",
       "      <td>Trinitario</td>\n",
       "      <td>Venezuela</td>\n",
       "    </tr>\n",
       "    <tr>\n",
       "      <th>168</th>\n",
       "      <td>Belcolade</td>\n",
       "      <td>Peru</td>\n",
       "      <td>586</td>\n",
       "      <td>2010</td>\n",
       "      <td>64%</td>\n",
       "      <td>Belgium</td>\n",
       "      <td>2.75</td>\n",
       "      <td></td>\n",
       "      <td>Peru</td>\n",
       "    </tr>\n",
       "    <tr>\n",
       "      <th>1738</th>\n",
       "      <td>Wilkie's Organic</td>\n",
       "      <td>Amazonas w/ nibs</td>\n",
       "      <td>1173</td>\n",
       "      <td>2013</td>\n",
       "      <td>75%</td>\n",
       "      <td>Ireland</td>\n",
       "      <td>2.75</td>\n",
       "      <td>Criollo</td>\n",
       "      <td>Peru</td>\n",
       "    </tr>\n",
       "    <tr>\n",
       "      <th>1676</th>\n",
       "      <td>Un Dimanche A Paris</td>\n",
       "      <td>Dominican Republic</td>\n",
       "      <td>709</td>\n",
       "      <td>2011</td>\n",
       "      <td>63%</td>\n",
       "      <td>France</td>\n",
       "      <td>3.75</td>\n",
       "      <td></td>\n",
       "      <td>Dominican Republic</td>\n",
       "    </tr>\n",
       "  </tbody>\n",
       "</table>\n",
       "</div>"
      ],
      "text/plain": [
       "     Company \\n(Maker-if known)     Specific Bean Origin\\nor Bar Name   REF  \\\n",
       "603           East Van Roasters                    Dominican Republic  1343   \n",
       "1435           Scharffen Berger                             Las Islas   117   \n",
       "1373                     Ritual  Camino Verde P., Balao, Guayas, 2014  1466   \n",
       "371                       Cello                               Ecuador  1247   \n",
       "687                      Fresco          Markham Valley, #219, LR, MC   899   \n",
       "568                      Domori                              Granella   135   \n",
       "290             Cacao de Origen                            Rio Caribe  1692   \n",
       "168                   Belcolade                                  Peru   586   \n",
       "1738           Wilkie's Organic                      Amazonas w/ nibs  1173   \n",
       "1676        Un Dimanche A Paris                    Dominican Republic   709   \n",
       "\n",
       "      Review\\nDate Cocoa\\nPercent Company\\nLocation  Rating  Bean\\nType  \\\n",
       "603           2014            70%            Canada    3.75               \n",
       "1435          2007            72%            U.S.A.    3.00       Blend   \n",
       "1373          2015            85%            U.S.A.    3.50               \n",
       "371           2014            70%            U.S.A.    2.50               \n",
       "687           2012            69%            U.S.A.    3.50               \n",
       "568           2007            60%             Italy    3.25  Trinitario   \n",
       "290           2015            75%         Venezuela    3.25  Trinitario   \n",
       "168           2010            64%           Belgium    2.75               \n",
       "1738          2013            75%           Ireland    2.75     Criollo   \n",
       "1676          2011            63%            France    3.75               \n",
       "\n",
       "         Broad Bean\\nOrigin  \n",
       "603      Dominican Republic  \n",
       "1435  Carribean(DR/Jam/Tri)  \n",
       "1373                Ecuador  \n",
       "371                 Ecuador  \n",
       "687        Papua New Guinea  \n",
       "568               Venezuela  \n",
       "290               Venezuela  \n",
       "168                    Peru  \n",
       "1738                   Peru  \n",
       "1676     Dominican Republic  "
      ]
     },
     "execution_count": 2,
     "metadata": {},
     "output_type": "execute_result"
    }
   ],
   "source": [
    "df = pd.read_csv(\"/kaggle/input/chocolate-bar-ratings/flavors_of_cacao.csv\")\n",
    "df.sample(10)"
   ]
  },
  {
   "cell_type": "markdown",
   "id": "concerned-rough",
   "metadata": {
    "papermill": {
     "duration": 0.071358,
     "end_time": "2021-08-03T20:52:36.192856",
     "exception": false,
     "start_time": "2021-08-03T20:52:36.121498",
     "status": "completed"
    },
    "tags": []
   },
   "source": [
    "# Cleaning the data\n",
    "To make it easy for us to refer the columns, I'm renaming them."
   ]
  },
  {
   "cell_type": "code",
   "execution_count": 3,
   "id": "tropical-guidance",
   "metadata": {
    "execution": {
     "iopub.execute_input": "2021-08-03T20:52:36.338976Z",
     "iopub.status.busy": "2021-08-03T20:52:36.338238Z",
     "iopub.status.idle": "2021-08-03T20:52:36.353289Z",
     "shell.execute_reply": "2021-08-03T20:52:36.353962Z",
     "shell.execute_reply.started": "2021-07-14T09:13:27.440622Z"
    },
    "papermill": {
     "duration": 0.089701,
     "end_time": "2021-08-03T20:52:36.354130",
     "exception": false,
     "start_time": "2021-08-03T20:52:36.264429",
     "status": "completed"
    },
    "tags": []
   },
   "outputs": [
    {
     "data": {
      "text/html": [
       "<div>\n",
       "<style scoped>\n",
       "    .dataframe tbody tr th:only-of-type {\n",
       "        vertical-align: middle;\n",
       "    }\n",
       "\n",
       "    .dataframe tbody tr th {\n",
       "        vertical-align: top;\n",
       "    }\n",
       "\n",
       "    .dataframe thead th {\n",
       "        text-align: right;\n",
       "    }\n",
       "</style>\n",
       "<table border=\"1\" class=\"dataframe\">\n",
       "  <thead>\n",
       "    <tr style=\"text-align: right;\">\n",
       "      <th></th>\n",
       "      <th>Company</th>\n",
       "      <th>Specific Bean Origin or Bar Name</th>\n",
       "      <th>REF</th>\n",
       "      <th>Review Date</th>\n",
       "      <th>Cocoa Percent</th>\n",
       "      <th>Location</th>\n",
       "      <th>Rating</th>\n",
       "      <th>Bean Type</th>\n",
       "      <th>Broad Bean Origin</th>\n",
       "    </tr>\n",
       "  </thead>\n",
       "  <tbody>\n",
       "    <tr>\n",
       "      <th>434</th>\n",
       "      <td>Claudio Corallo</td>\n",
       "      <td>Terreiro Velho P.</td>\n",
       "      <td>470</td>\n",
       "      <td>2010</td>\n",
       "      <td>73.5%</td>\n",
       "      <td>Sao Tome</td>\n",
       "      <td>3.75</td>\n",
       "      <td>Forastero</td>\n",
       "      <td>Sao Tome &amp; Principe</td>\n",
       "    </tr>\n",
       "  </tbody>\n",
       "</table>\n",
       "</div>"
      ],
      "text/plain": [
       "             Company Specific Bean Origin or Bar Name  REF  Review Date  \\\n",
       "434  Claudio Corallo                Terreiro Velho P.  470         2010   \n",
       "\n",
       "    Cocoa Percent  Location  Rating  Bean Type    Broad Bean Origin  \n",
       "434         73.5%  Sao Tome    3.75  Forastero  Sao Tome & Principe  "
      ]
     },
     "execution_count": 3,
     "metadata": {},
     "output_type": "execute_result"
    }
   ],
   "source": [
    "df.columns = [\"Company\", \"Specific Bean Origin or Bar Name\", \"REF\", \"Review Date\", \"Cocoa Percent\", \"Location\", \"Rating\", \"Bean Type\", \"Broad Bean Origin\"]\n",
    "df.sample()"
   ]
  },
  {
   "cell_type": "markdown",
   "id": "blank-louisiana",
   "metadata": {
    "papermill": {
     "duration": 0.071543,
     "end_time": "2021-08-03T20:52:36.497507",
     "exception": false,
     "start_time": "2021-08-03T20:52:36.425964",
     "status": "completed"
    },
    "tags": []
   },
   "source": [
    "Let's get some info about our dataset."
   ]
  },
  {
   "cell_type": "code",
   "execution_count": 4,
   "id": "helpful-miracle",
   "metadata": {
    "execution": {
     "iopub.execute_input": "2021-08-03T20:52:36.652162Z",
     "iopub.status.busy": "2021-08-03T20:52:36.651444Z",
     "iopub.status.idle": "2021-08-03T20:52:36.676682Z",
     "shell.execute_reply": "2021-08-03T20:52:36.677206Z",
     "shell.execute_reply.started": "2021-07-14T09:13:27.45946Z"
    },
    "papermill": {
     "duration": 0.109046,
     "end_time": "2021-08-03T20:52:36.677383",
     "exception": false,
     "start_time": "2021-08-03T20:52:36.568337",
     "status": "completed"
    },
    "tags": []
   },
   "outputs": [
    {
     "name": "stdout",
     "output_type": "stream",
     "text": [
      "<class 'pandas.core.frame.DataFrame'>\n",
      "RangeIndex: 1795 entries, 0 to 1794\n",
      "Data columns (total 9 columns):\n",
      " #   Column                            Non-Null Count  Dtype  \n",
      "---  ------                            --------------  -----  \n",
      " 0   Company                           1795 non-null   object \n",
      " 1   Specific Bean Origin or Bar Name  1795 non-null   object \n",
      " 2   REF                               1795 non-null   int64  \n",
      " 3   Review Date                       1795 non-null   int64  \n",
      " 4   Cocoa Percent                     1795 non-null   object \n",
      " 5   Location                          1795 non-null   object \n",
      " 6   Rating                            1795 non-null   float64\n",
      " 7   Bean Type                         1794 non-null   object \n",
      " 8   Broad Bean Origin                 1794 non-null   object \n",
      "dtypes: float64(1), int64(2), object(6)\n",
      "memory usage: 126.3+ KB\n"
     ]
    }
   ],
   "source": [
    "df.info()"
   ]
  },
  {
   "cell_type": "markdown",
   "id": "defensive-ethics",
   "metadata": {
    "papermill": {
     "duration": 0.071902,
     "end_time": "2021-08-03T20:52:36.822950",
     "exception": false,
     "start_time": "2021-08-03T20:52:36.751048",
     "status": "completed"
    },
    "tags": []
   },
   "source": [
    "Here we can see that there aren't many null values in out dataset."
   ]
  },
  {
   "cell_type": "code",
   "execution_count": 5,
   "id": "second-chick",
   "metadata": {
    "execution": {
     "iopub.execute_input": "2021-08-03T20:52:36.970545Z",
     "iopub.status.busy": "2021-08-03T20:52:36.969486Z",
     "iopub.status.idle": "2021-08-03T20:52:36.989273Z",
     "shell.execute_reply": "2021-08-03T20:52:36.989946Z",
     "shell.execute_reply.started": "2021-07-14T09:13:27.484485Z"
    },
    "papermill": {
     "duration": 0.095629,
     "end_time": "2021-08-03T20:52:36.990123",
     "exception": false,
     "start_time": "2021-08-03T20:52:36.894494",
     "status": "completed"
    },
    "tags": []
   },
   "outputs": [
    {
     "data": {
      "text/html": [
       "<div>\n",
       "<style scoped>\n",
       "    .dataframe tbody tr th:only-of-type {\n",
       "        vertical-align: middle;\n",
       "    }\n",
       "\n",
       "    .dataframe tbody tr th {\n",
       "        vertical-align: top;\n",
       "    }\n",
       "\n",
       "    .dataframe thead th {\n",
       "        text-align: right;\n",
       "    }\n",
       "</style>\n",
       "<table border=\"1\" class=\"dataframe\">\n",
       "  <thead>\n",
       "    <tr style=\"text-align: right;\">\n",
       "      <th></th>\n",
       "      <th>Company</th>\n",
       "      <th>Specific Bean Origin or Bar Name</th>\n",
       "      <th>REF</th>\n",
       "      <th>Review Date</th>\n",
       "      <th>Cocoa Percent</th>\n",
       "      <th>Location</th>\n",
       "      <th>Rating</th>\n",
       "      <th>Bean Type</th>\n",
       "      <th>Broad Bean Origin</th>\n",
       "    </tr>\n",
       "  </thead>\n",
       "  <tbody>\n",
       "    <tr>\n",
       "      <th>1654</th>\n",
       "      <td>Theo</td>\n",
       "      <td>Congo w/ nibs</td>\n",
       "      <td>903</td>\n",
       "      <td>2012</td>\n",
       "      <td>65%</td>\n",
       "      <td>U.S.A.</td>\n",
       "      <td>3.25</td>\n",
       "      <td>Forastero</td>\n",
       "      <td>Congo</td>\n",
       "    </tr>\n",
       "    <tr>\n",
       "      <th>48</th>\n",
       "      <td>Altus aka Cao Artisan</td>\n",
       "      <td>Gruppo Salinas</td>\n",
       "      <td>1732</td>\n",
       "      <td>2016</td>\n",
       "      <td>60%</td>\n",
       "      <td>U.S.A.</td>\n",
       "      <td>2.75</td>\n",
       "      <td></td>\n",
       "      <td>Ecuador</td>\n",
       "    </tr>\n",
       "    <tr>\n",
       "      <th>376</th>\n",
       "      <td>Chaleur B</td>\n",
       "      <td>Uganda</td>\n",
       "      <td>1426</td>\n",
       "      <td>2014</td>\n",
       "      <td>70%</td>\n",
       "      <td>Canada</td>\n",
       "      <td>2.75</td>\n",
       "      <td>Forastero</td>\n",
       "      <td>Uganda</td>\n",
       "    </tr>\n",
       "    <tr>\n",
       "      <th>1021</th>\n",
       "      <td>Manoa</td>\n",
       "      <td>Markham Valley</td>\n",
       "      <td>1522</td>\n",
       "      <td>2015</td>\n",
       "      <td>72%</td>\n",
       "      <td>U.S.A.</td>\n",
       "      <td>3.50</td>\n",
       "      <td></td>\n",
       "      <td>Papua New Guinea</td>\n",
       "    </tr>\n",
       "    <tr>\n",
       "      <th>1758</th>\n",
       "      <td>Xocolat</td>\n",
       "      <td>Hispaniola</td>\n",
       "      <td>1057</td>\n",
       "      <td>2013</td>\n",
       "      <td>66%</td>\n",
       "      <td>Domincan Republic</td>\n",
       "      <td>3.00</td>\n",
       "      <td></td>\n",
       "      <td>Dominican Republic</td>\n",
       "    </tr>\n",
       "    <tr>\n",
       "      <th>600</th>\n",
       "      <td>Durci</td>\n",
       "      <td>Corona Arriba</td>\n",
       "      <td>1630</td>\n",
       "      <td>2015</td>\n",
       "      <td>70%</td>\n",
       "      <td>U.S.A.</td>\n",
       "      <td>4.00</td>\n",
       "      <td></td>\n",
       "      <td>Ecuador</td>\n",
       "    </tr>\n",
       "    <tr>\n",
       "      <th>446</th>\n",
       "      <td>Confluence</td>\n",
       "      <td>Tien Giang, 2015, batch 10-2-16</td>\n",
       "      <td>1916</td>\n",
       "      <td>2016</td>\n",
       "      <td>78%</td>\n",
       "      <td>U.S.A.</td>\n",
       "      <td>2.75</td>\n",
       "      <td>Trinitario</td>\n",
       "      <td>Vietnam</td>\n",
       "    </tr>\n",
       "    <tr>\n",
       "      <th>527</th>\n",
       "      <td>Dean and Deluca (Belcolade)</td>\n",
       "      <td>Papua New Guinea</td>\n",
       "      <td>180</td>\n",
       "      <td>2007</td>\n",
       "      <td>64%</td>\n",
       "      <td>U.S.A.</td>\n",
       "      <td>3.00</td>\n",
       "      <td></td>\n",
       "      <td>Papua New Guinea</td>\n",
       "    </tr>\n",
       "    <tr>\n",
       "      <th>731</th>\n",
       "      <td>Georgia Ramon</td>\n",
       "      <td>Conacado Coop</td>\n",
       "      <td>1646</td>\n",
       "      <td>2015</td>\n",
       "      <td>80%</td>\n",
       "      <td>Germany</td>\n",
       "      <td>3.50</td>\n",
       "      <td>Trinitario</td>\n",
       "      <td>Domincan Republic</td>\n",
       "    </tr>\n",
       "    <tr>\n",
       "      <th>944</th>\n",
       "      <td>Laia aka Chat-Noir</td>\n",
       "      <td>Cuba, Batch 59/100</td>\n",
       "      <td>1590</td>\n",
       "      <td>2015</td>\n",
       "      <td>75%</td>\n",
       "      <td>France</td>\n",
       "      <td>3.00</td>\n",
       "      <td></td>\n",
       "      <td>Cuba</td>\n",
       "    </tr>\n",
       "  </tbody>\n",
       "</table>\n",
       "</div>"
      ],
      "text/plain": [
       "                          Company Specific Bean Origin or Bar Name   REF  \\\n",
       "1654                         Theo                    Congo w/ nibs   903   \n",
       "48          Altus aka Cao Artisan                   Gruppo Salinas  1732   \n",
       "376                     Chaleur B                           Uganda  1426   \n",
       "1021                        Manoa                   Markham Valley  1522   \n",
       "1758                      Xocolat                       Hispaniola  1057   \n",
       "600                         Durci                    Corona Arriba  1630   \n",
       "446                    Confluence  Tien Giang, 2015, batch 10-2-16  1916   \n",
       "527   Dean and Deluca (Belcolade)                 Papua New Guinea   180   \n",
       "731                 Georgia Ramon                    Conacado Coop  1646   \n",
       "944            Laia aka Chat-Noir               Cuba, Batch 59/100  1590   \n",
       "\n",
       "      Review Date Cocoa Percent           Location  Rating   Bean Type  \\\n",
       "1654         2012           65%             U.S.A.    3.25   Forastero   \n",
       "48           2016           60%             U.S.A.    2.75               \n",
       "376          2014           70%             Canada    2.75   Forastero   \n",
       "1021         2015           72%             U.S.A.    3.50               \n",
       "1758         2013           66%  Domincan Republic    3.00               \n",
       "600          2015           70%             U.S.A.    4.00               \n",
       "446          2016           78%             U.S.A.    2.75  Trinitario   \n",
       "527          2007           64%             U.S.A.    3.00               \n",
       "731          2015           80%            Germany    3.50  Trinitario   \n",
       "944          2015           75%             France    3.00               \n",
       "\n",
       "       Broad Bean Origin  \n",
       "1654               Congo  \n",
       "48               Ecuador  \n",
       "376               Uganda  \n",
       "1021    Papua New Guinea  \n",
       "1758  Dominican Republic  \n",
       "600              Ecuador  \n",
       "446              Vietnam  \n",
       "527     Papua New Guinea  \n",
       "731    Domincan Republic  \n",
       "944                 Cuba  "
      ]
     },
     "execution_count": 5,
     "metadata": {},
     "output_type": "execute_result"
    }
   ],
   "source": [
    "df.sample(10)"
   ]
  },
  {
   "cell_type": "markdown",
   "id": "polyphonic-cause",
   "metadata": {
    "papermill": {
     "duration": 0.072535,
     "end_time": "2021-08-03T20:52:37.137292",
     "exception": false,
     "start_time": "2021-08-03T20:52:37.064757",
     "status": "completed"
    },
    "tags": []
   },
   "source": [
    "But in this sample we can see that there are a lot of blanks in the `Bean Type` column."
   ]
  },
  {
   "cell_type": "markdown",
   "id": "differential-ministry",
   "metadata": {
    "papermill": {
     "duration": 0.092216,
     "end_time": "2021-08-03T20:52:37.303476",
     "exception": false,
     "start_time": "2021-08-03T20:52:37.211260",
     "status": "completed"
    },
    "tags": []
   },
   "source": [
    "Let's clean that."
   ]
  },
  {
   "cell_type": "code",
   "execution_count": 6,
   "id": "portuguese-locking",
   "metadata": {
    "execution": {
     "iopub.execute_input": "2021-08-03T20:52:37.460355Z",
     "iopub.status.busy": "2021-08-03T20:52:37.459214Z",
     "iopub.status.idle": "2021-08-03T20:52:37.466267Z",
     "shell.execute_reply": "2021-08-03T20:52:37.467004Z",
     "shell.execute_reply.started": "2021-07-14T09:13:27.514086Z"
    },
    "papermill": {
     "duration": 0.08727,
     "end_time": "2021-08-03T20:52:37.467171",
     "exception": false,
     "start_time": "2021-08-03T20:52:37.379901",
     "status": "completed"
    },
    "tags": []
   },
   "outputs": [
    {
     "data": {
      "text/plain": [
       "['\\xa0', '\\xa0', '\\xa0', '\\xa0', '\\xa0']"
      ]
     },
     "execution_count": 6,
     "metadata": {},
     "output_type": "execute_result"
    }
   ],
   "source": [
    "list(df['Bean Type'][0:5])"
   ]
  },
  {
   "cell_type": "code",
   "execution_count": 7,
   "id": "compatible-jerusalem",
   "metadata": {
    "execution": {
     "iopub.execute_input": "2021-08-03T20:52:37.620382Z",
     "iopub.status.busy": "2021-08-03T20:52:37.619260Z",
     "iopub.status.idle": "2021-08-03T20:52:37.654249Z",
     "shell.execute_reply": "2021-08-03T20:52:37.653627Z",
     "shell.execute_reply.started": "2021-07-14T09:13:27.522842Z"
    },
    "papermill": {
     "duration": 0.112829,
     "end_time": "2021-08-03T20:52:37.654421",
     "exception": false,
     "start_time": "2021-08-03T20:52:37.541592",
     "status": "completed"
    },
    "tags": []
   },
   "outputs": [],
   "source": [
    "df = df.applymap(lambda x: np.nan if str(x).strip()==\"\\xa0\" else x)\n",
    "df = df.applymap(lambda x: np.nan if str(x).strip()==\"\" else x)"
   ]
  },
  {
   "cell_type": "code",
   "execution_count": 8,
   "id": "round-edinburgh",
   "metadata": {
    "execution": {
     "iopub.execute_input": "2021-08-03T20:52:37.806431Z",
     "iopub.status.busy": "2021-08-03T20:52:37.805412Z",
     "iopub.status.idle": "2021-08-03T20:52:37.822048Z",
     "shell.execute_reply": "2021-08-03T20:52:37.821491Z",
     "shell.execute_reply.started": "2021-07-14T09:13:27.567245Z"
    },
    "papermill": {
     "duration": 0.093418,
     "end_time": "2021-08-03T20:52:37.822196",
     "exception": false,
     "start_time": "2021-08-03T20:52:37.728778",
     "status": "completed"
    },
    "tags": []
   },
   "outputs": [
    {
     "name": "stdout",
     "output_type": "stream",
     "text": [
      "<class 'pandas.core.frame.DataFrame'>\n",
      "RangeIndex: 1795 entries, 0 to 1794\n",
      "Data columns (total 9 columns):\n",
      " #   Column                            Non-Null Count  Dtype  \n",
      "---  ------                            --------------  -----  \n",
      " 0   Company                           1795 non-null   object \n",
      " 1   Specific Bean Origin or Bar Name  1795 non-null   object \n",
      " 2   REF                               1795 non-null   int64  \n",
      " 3   Review Date                       1795 non-null   int64  \n",
      " 4   Cocoa Percent                     1795 non-null   object \n",
      " 5   Location                          1795 non-null   object \n",
      " 6   Rating                            1795 non-null   float64\n",
      " 7   Bean Type                         907 non-null    object \n",
      " 8   Broad Bean Origin                 1721 non-null   object \n",
      "dtypes: float64(1), int64(2), object(6)\n",
      "memory usage: 126.3+ KB\n"
     ]
    }
   ],
   "source": [
    "df.info()"
   ]
  },
  {
   "cell_type": "markdown",
   "id": "million-celtic",
   "metadata": {
    "papermill": {
     "duration": 0.072472,
     "end_time": "2021-08-03T20:52:37.968351",
     "exception": false,
     "start_time": "2021-08-03T20:52:37.895879",
     "status": "completed"
    },
    "tags": []
   },
   "source": [
    "Now we can see that there are a lot of missing values in `Bean Type`."
   ]
  },
  {
   "cell_type": "code",
   "execution_count": 9,
   "id": "noble-annual",
   "metadata": {
    "execution": {
     "iopub.execute_input": "2021-08-03T20:52:38.152786Z",
     "iopub.status.busy": "2021-08-03T20:52:38.152116Z",
     "iopub.status.idle": "2021-08-03T20:52:38.155765Z",
     "shell.execute_reply": "2021-08-03T20:52:38.156342Z",
     "shell.execute_reply.started": "2021-07-14T09:13:27.589018Z"
    },
    "papermill": {
     "duration": 0.111256,
     "end_time": "2021-08-03T20:52:38.156507",
     "exception": false,
     "start_time": "2021-08-03T20:52:38.045251",
     "status": "completed"
    },
    "tags": []
   },
   "outputs": [
    {
     "data": {
      "text/plain": [
       "Trinitario                  419\n",
       "Criollo                     153\n",
       "Forastero                    87\n",
       "Forastero (Nacional)         52\n",
       "Blend                        41\n",
       "Criollo, Trinitario          39\n",
       "Forastero (Arriba)           37\n",
       "Criollo (Porcelana)          10\n",
       "Trinitario, Criollo           9\n",
       "Forastero (Parazinho)         8\n",
       "Forastero (Arriba) ASS        6\n",
       "EET                           3\n",
       "Beniano                       3\n",
       "Matina                        3\n",
       "Nacional (Arriba)             3\n",
       "Criollo, Forastero            2\n",
       "Criollo (Amarru)              2\n",
       "Trinitario (85% Criollo)      2\n",
       "Forastero (Catongo)           2\n",
       "Nacional                      2\n",
       "Criollo (Ocumare 61)          2\n",
       "Amazon mix                    2\n",
       "Trinitario, Forastero         2\n",
       "Amazon, ICS                   2\n",
       "CCN51                         1\n",
       "Criollo (Wild)                1\n",
       "Blend-Forastero,Criollo       1\n",
       "Criollo (Ocumare 77)          1\n",
       "Trinitario (Amelonado)        1\n",
       "Trinitario, TCGA              1\n",
       "Forastero(Arriba, CCN)        1\n",
       "Criollo (Ocumare)             1\n",
       "Forastero, Trinitario         1\n",
       "Criollo (Ocumare 67)          1\n",
       "Trinitario, Nacional          1\n",
       "Forastero (Amelonado)         1\n",
       "Forastero (Arriba) ASSS       1\n",
       "Amazon                        1\n",
       "Trinitario (Scavina)          1\n",
       "Criollo, +                    1\n",
       "Name: Bean Type, dtype: int64"
      ]
     },
     "execution_count": 9,
     "metadata": {},
     "output_type": "execute_result"
    }
   ],
   "source": [
    "df['Bean Type'].value_counts()"
   ]
  },
  {
   "cell_type": "markdown",
   "id": "massive-valuable",
   "metadata": {
    "papermill": {
     "duration": 0.074697,
     "end_time": "2021-08-03T20:52:38.305712",
     "exception": false,
     "start_time": "2021-08-03T20:52:38.231015",
     "status": "completed"
    },
    "tags": []
   },
   "source": [
    "We have two options here:\n",
    "1. Fill all of the null values with the mode value (`Trinitario`)\n",
    "2. Drop the column"
   ]
  },
  {
   "cell_type": "markdown",
   "id": "senior-potential",
   "metadata": {
    "papermill": {
     "duration": 0.075656,
     "end_time": "2021-08-03T20:52:38.454932",
     "exception": false,
     "start_time": "2021-08-03T20:52:38.379276",
     "status": "completed"
    },
    "tags": []
   },
   "source": [
    "Let's try method 1."
   ]
  },
  {
   "cell_type": "code",
   "execution_count": 10,
   "id": "flush-continuity",
   "metadata": {
    "execution": {
     "iopub.execute_input": "2021-08-03T20:52:38.606382Z",
     "iopub.status.busy": "2021-08-03T20:52:38.605181Z",
     "iopub.status.idle": "2021-08-03T20:52:38.610475Z",
     "shell.execute_reply": "2021-08-03T20:52:38.611156Z",
     "shell.execute_reply.started": "2021-07-14T09:13:27.602945Z"
    },
    "papermill": {
     "duration": 0.083554,
     "end_time": "2021-08-03T20:52:38.611332",
     "exception": false,
     "start_time": "2021-08-03T20:52:38.527778",
     "status": "completed"
    },
    "tags": []
   },
   "outputs": [],
   "source": [
    "df['Bean Type'] = df['Bean Type'].fillna('Trinitario')"
   ]
  },
  {
   "cell_type": "code",
   "execution_count": 11,
   "id": "crucial-panic",
   "metadata": {
    "execution": {
     "iopub.execute_input": "2021-08-03T20:52:38.763536Z",
     "iopub.status.busy": "2021-08-03T20:52:38.762870Z",
     "iopub.status.idle": "2021-08-03T20:52:38.771025Z",
     "shell.execute_reply": "2021-08-03T20:52:38.771614Z",
     "shell.execute_reply.started": "2021-07-14T09:13:27.614645Z"
    },
    "papermill": {
     "duration": 0.085394,
     "end_time": "2021-08-03T20:52:38.771806",
     "exception": false,
     "start_time": "2021-08-03T20:52:38.686412",
     "status": "completed"
    },
    "tags": []
   },
   "outputs": [
    {
     "data": {
      "text/plain": [
       "Trinitario                  1307\n",
       "Criollo                      153\n",
       "Forastero                     87\n",
       "Forastero (Nacional)          52\n",
       "Blend                         41\n",
       "Criollo, Trinitario           39\n",
       "Forastero (Arriba)            37\n",
       "Criollo (Porcelana)           10\n",
       "Trinitario, Criollo            9\n",
       "Forastero (Parazinho)          8\n",
       "Forastero (Arriba) ASS         6\n",
       "EET                            3\n",
       "Beniano                        3\n",
       "Matina                         3\n",
       "Nacional (Arriba)              3\n",
       "Criollo, Forastero             2\n",
       "Criollo (Amarru)               2\n",
       "Trinitario (85% Criollo)       2\n",
       "Forastero (Catongo)            2\n",
       "Nacional                       2\n",
       "Criollo (Ocumare 61)           2\n",
       "Amazon mix                     2\n",
       "Trinitario, Forastero          2\n",
       "Amazon, ICS                    2\n",
       "CCN51                          1\n",
       "Criollo (Wild)                 1\n",
       "Blend-Forastero,Criollo        1\n",
       "Criollo (Ocumare 77)           1\n",
       "Trinitario (Amelonado)         1\n",
       "Trinitario, TCGA               1\n",
       "Forastero(Arriba, CCN)         1\n",
       "Criollo (Ocumare)              1\n",
       "Forastero, Trinitario          1\n",
       "Criollo (Ocumare 67)           1\n",
       "Trinitario, Nacional           1\n",
       "Forastero (Amelonado)          1\n",
       "Forastero (Arriba) ASSS        1\n",
       "Amazon                         1\n",
       "Trinitario (Scavina)           1\n",
       "Criollo, +                     1\n",
       "Name: Bean Type, dtype: int64"
      ]
     },
     "execution_count": 11,
     "metadata": {},
     "output_type": "execute_result"
    }
   ],
   "source": [
    "df['Bean Type'].value_counts()"
   ]
  },
  {
   "cell_type": "markdown",
   "id": "oriented-teacher",
   "metadata": {
    "papermill": {
     "duration": 0.075009,
     "end_time": "2021-08-03T20:52:38.920199",
     "exception": false,
     "start_time": "2021-08-03T20:52:38.845190",
     "status": "completed"
    },
    "tags": []
   },
   "source": [
    "But now if we see, `Trinitario` is a little too much (as there were a lot of null values) and might end up affecting the results. Therefore, we will drop the whole column."
   ]
  },
  {
   "cell_type": "code",
   "execution_count": 12,
   "id": "becoming-clothing",
   "metadata": {
    "execution": {
     "iopub.execute_input": "2021-08-03T20:52:39.072768Z",
     "iopub.status.busy": "2021-08-03T20:52:39.072095Z",
     "iopub.status.idle": "2021-08-03T20:52:39.078779Z",
     "shell.execute_reply": "2021-08-03T20:52:39.078105Z",
     "shell.execute_reply.started": "2021-07-14T09:13:27.633959Z"
    },
    "papermill": {
     "duration": 0.083452,
     "end_time": "2021-08-03T20:52:39.078921",
     "exception": false,
     "start_time": "2021-08-03T20:52:38.995469",
     "status": "completed"
    },
    "tags": []
   },
   "outputs": [],
   "source": [
    "df.drop(['Bean Type'], axis=1, inplace=True)"
   ]
  },
  {
   "cell_type": "code",
   "execution_count": 13,
   "id": "ongoing-causing",
   "metadata": {
    "execution": {
     "iopub.execute_input": "2021-08-03T20:52:39.233510Z",
     "iopub.status.busy": "2021-08-03T20:52:39.232871Z",
     "iopub.status.idle": "2021-08-03T20:52:39.246676Z",
     "shell.execute_reply": "2021-08-03T20:52:39.246098Z",
     "shell.execute_reply.started": "2021-07-14T09:13:27.648364Z"
    },
    "papermill": {
     "duration": 0.092238,
     "end_time": "2021-08-03T20:52:39.246850",
     "exception": false,
     "start_time": "2021-08-03T20:52:39.154612",
     "status": "completed"
    },
    "tags": []
   },
   "outputs": [
    {
     "data": {
      "text/html": [
       "<div>\n",
       "<style scoped>\n",
       "    .dataframe tbody tr th:only-of-type {\n",
       "        vertical-align: middle;\n",
       "    }\n",
       "\n",
       "    .dataframe tbody tr th {\n",
       "        vertical-align: top;\n",
       "    }\n",
       "\n",
       "    .dataframe thead th {\n",
       "        text-align: right;\n",
       "    }\n",
       "</style>\n",
       "<table border=\"1\" class=\"dataframe\">\n",
       "  <thead>\n",
       "    <tr style=\"text-align: right;\">\n",
       "      <th></th>\n",
       "      <th>Company</th>\n",
       "      <th>Specific Bean Origin or Bar Name</th>\n",
       "      <th>REF</th>\n",
       "      <th>Review Date</th>\n",
       "      <th>Cocoa Percent</th>\n",
       "      <th>Location</th>\n",
       "      <th>Rating</th>\n",
       "      <th>Broad Bean Origin</th>\n",
       "    </tr>\n",
       "  </thead>\n",
       "  <tbody>\n",
       "    <tr>\n",
       "      <th>1279</th>\n",
       "      <td>Paul Young</td>\n",
       "      <td>Madagascar, w/ shell</td>\n",
       "      <td>1271</td>\n",
       "      <td>2014</td>\n",
       "      <td>64%</td>\n",
       "      <td>U.K.</td>\n",
       "      <td>2.75</td>\n",
       "      <td>Madagascar</td>\n",
       "    </tr>\n",
       "  </tbody>\n",
       "</table>\n",
       "</div>"
      ],
      "text/plain": [
       "         Company Specific Bean Origin or Bar Name   REF  Review Date  \\\n",
       "1279  Paul Young             Madagascar, w/ shell  1271         2014   \n",
       "\n",
       "     Cocoa Percent Location  Rating Broad Bean Origin  \n",
       "1279           64%     U.K.    2.75        Madagascar  "
      ]
     },
     "execution_count": 13,
     "metadata": {},
     "output_type": "execute_result"
    }
   ],
   "source": [
    "df.sample()"
   ]
  },
  {
   "cell_type": "markdown",
   "id": "excited-nurse",
   "metadata": {
    "papermill": {
     "duration": 0.072937,
     "end_time": "2021-08-03T20:52:39.395101",
     "exception": false,
     "start_time": "2021-08-03T20:52:39.322164",
     "status": "completed"
    },
    "tags": []
   },
   "source": [
    "Great!"
   ]
  },
  {
   "cell_type": "markdown",
   "id": "exposed-religious",
   "metadata": {
    "papermill": {
     "duration": 0.075687,
     "end_time": "2021-08-03T20:52:39.545410",
     "exception": false,
     "start_time": "2021-08-03T20:52:39.469723",
     "status": "completed"
    },
    "tags": []
   },
   "source": [
    "Now, let's analyze the `Company` column."
   ]
  },
  {
   "cell_type": "code",
   "execution_count": 14,
   "id": "strategic-graphics",
   "metadata": {
    "execution": {
     "iopub.execute_input": "2021-08-03T20:52:39.696751Z",
     "iopub.status.busy": "2021-08-03T20:52:39.696053Z",
     "iopub.status.idle": "2021-08-03T20:52:39.705022Z",
     "shell.execute_reply": "2021-08-03T20:52:39.705604Z",
     "shell.execute_reply.started": "2021-07-14T09:13:27.670333Z"
    },
    "papermill": {
     "duration": 0.086012,
     "end_time": "2021-08-03T20:52:39.705801",
     "exception": false,
     "start_time": "2021-08-03T20:52:39.619789",
     "status": "completed"
    },
    "tags": []
   },
   "outputs": [
    {
     "data": {
      "text/plain": [
       "Soma                  47\n",
       "Bonnat                27\n",
       "Fresco                26\n",
       "Pralus                25\n",
       "A. Morin              23\n",
       "                      ..\n",
       "Breeze Mill            1\n",
       "Cloudforest            1\n",
       "La Oroquidea           1\n",
       "Cote d' Or (Kraft)     1\n",
       "Garden Island          1\n",
       "Name: Company, Length: 416, dtype: int64"
      ]
     },
     "execution_count": 14,
     "metadata": {},
     "output_type": "execute_result"
    }
   ],
   "source": [
    "df['Company'].value_counts()"
   ]
  },
  {
   "cell_type": "markdown",
   "id": "israeli-insight",
   "metadata": {
    "papermill": {
     "duration": 0.072793,
     "end_time": "2021-08-03T20:52:39.852262",
     "exception": false,
     "start_time": "2021-08-03T20:52:39.779469",
     "status": "completed"
    },
    "tags": []
   },
   "source": [
    "We can see `Company` has 416 different classes."
   ]
  },
  {
   "cell_type": "markdown",
   "id": "senior-winter",
   "metadata": {
    "papermill": {
     "duration": 0.073075,
     "end_time": "2021-08-03T20:52:39.999899",
     "exception": false,
     "start_time": "2021-08-03T20:52:39.926824",
     "status": "completed"
    },
    "tags": []
   },
   "source": [
    "Again, we have 2 options:\n",
    "1. Group the companies based on some other metric\n",
    "2. Drop the column"
   ]
  },
  {
   "cell_type": "markdown",
   "id": "silver-projection",
   "metadata": {
    "papermill": {
     "duration": 0.073125,
     "end_time": "2021-08-03T20:52:40.145514",
     "exception": false,
     "start_time": "2021-08-03T20:52:40.072389",
     "status": "completed"
    },
    "tags": []
   },
   "source": [
    "Let's check the top 14 companies."
   ]
  },
  {
   "cell_type": "code",
   "execution_count": 15,
   "id": "operating-robertson",
   "metadata": {
    "execution": {
     "iopub.execute_input": "2021-08-03T20:52:40.297950Z",
     "iopub.status.busy": "2021-08-03T20:52:40.297247Z",
     "iopub.status.idle": "2021-08-03T20:52:40.304833Z",
     "shell.execute_reply": "2021-08-03T20:52:40.305462Z",
     "shell.execute_reply.started": "2021-07-14T09:13:27.682165Z"
    },
    "papermill": {
     "duration": 0.08528,
     "end_time": "2021-08-03T20:52:40.305634",
     "exception": false,
     "start_time": "2021-08-03T20:52:40.220354",
     "status": "completed"
    },
    "tags": []
   },
   "outputs": [
    {
     "data": {
      "text/plain": [
       "['Soma',\n",
       " 'Bonnat',\n",
       " 'Fresco',\n",
       " 'Pralus',\n",
       " 'A. Morin',\n",
       " 'Guittard',\n",
       " 'Domori',\n",
       " 'Arete',\n",
       " 'Valrhona',\n",
       " 'Hotel Chocolat (Coppeneur)',\n",
       " 'Coppeneur',\n",
       " 'Mast Brothers',\n",
       " 'Zotter',\n",
       " 'Scharffen Berger']"
      ]
     },
     "execution_count": 15,
     "metadata": {},
     "output_type": "execute_result"
    }
   ],
   "source": [
    "top_companies = list(df['Company'].value_counts()[:14].index)\n",
    "top_companies"
   ]
  },
  {
   "cell_type": "markdown",
   "id": "outdoor-publication",
   "metadata": {
    "papermill": {
     "duration": 0.074513,
     "end_time": "2021-08-03T20:52:40.454735",
     "exception": false,
     "start_time": "2021-08-03T20:52:40.380222",
     "status": "completed"
    },
    "tags": []
   },
   "source": [
    "Maybe, we can group the rest of the companies as `Other`."
   ]
  },
  {
   "cell_type": "code",
   "execution_count": 16,
   "id": "hydraulic-allowance",
   "metadata": {
    "execution": {
     "iopub.execute_input": "2021-08-03T20:52:40.609494Z",
     "iopub.status.busy": "2021-08-03T20:52:40.608831Z",
     "iopub.status.idle": "2021-08-03T20:52:40.618094Z",
     "shell.execute_reply": "2021-08-03T20:52:40.618741Z",
     "shell.execute_reply.started": "2021-07-14T09:13:27.696018Z"
    },
    "papermill": {
     "duration": 0.088074,
     "end_time": "2021-08-03T20:52:40.618909",
     "exception": false,
     "start_time": "2021-08-03T20:52:40.530835",
     "status": "completed"
    },
    "tags": []
   },
   "outputs": [
    {
     "data": {
      "text/plain": [
       "Other                         1471\n",
       "Soma                            47\n",
       "Bonnat                          27\n",
       "Fresco                          26\n",
       "Pralus                          25\n",
       "A. Morin                        23\n",
       "Guittard                        22\n",
       "Arete                           22\n",
       "Domori                          22\n",
       "Valrhona                        21\n",
       "Hotel Chocolat (Coppeneur)      19\n",
       "Coppeneur                       18\n",
       "Mast Brothers                   18\n",
       "Zotter                          17\n",
       "Scharffen Berger                17\n",
       "Name: Company, dtype: int64"
      ]
     },
     "execution_count": 16,
     "metadata": {},
     "output_type": "execute_result"
    }
   ],
   "source": [
    "df['Company'] = df['Company'].apply(lambda x: x if x in top_companies else 'Other')\n",
    "df['Company'].value_counts()"
   ]
  },
  {
   "cell_type": "markdown",
   "id": "outstanding-insulation",
   "metadata": {
    "papermill": {
     "duration": 0.075094,
     "end_time": "2021-08-03T20:52:40.770119",
     "exception": false,
     "start_time": "2021-08-03T20:52:40.695025",
     "status": "completed"
    },
    "tags": []
   },
   "source": [
    "We have the same problem as `Bean Type`. Therefore, let's drop this column too."
   ]
  },
  {
   "cell_type": "code",
   "execution_count": 17,
   "id": "encouraging-experience",
   "metadata": {
    "execution": {
     "iopub.execute_input": "2021-08-03T20:52:40.925611Z",
     "iopub.status.busy": "2021-08-03T20:52:40.924950Z",
     "iopub.status.idle": "2021-08-03T20:52:40.927061Z",
     "shell.execute_reply": "2021-08-03T20:52:40.927601Z",
     "shell.execute_reply.started": "2021-07-14T09:13:27.712621Z"
    },
    "papermill": {
     "duration": 0.083279,
     "end_time": "2021-08-03T20:52:40.927798",
     "exception": false,
     "start_time": "2021-08-03T20:52:40.844519",
     "status": "completed"
    },
    "tags": []
   },
   "outputs": [],
   "source": [
    "df.drop(['Company'], axis=1, inplace=True)"
   ]
  },
  {
   "cell_type": "code",
   "execution_count": 18,
   "id": "equivalent-client",
   "metadata": {
    "execution": {
     "iopub.execute_input": "2021-08-03T20:52:41.080478Z",
     "iopub.status.busy": "2021-08-03T20:52:41.079841Z",
     "iopub.status.idle": "2021-08-03T20:52:41.093128Z",
     "shell.execute_reply": "2021-08-03T20:52:41.092536Z",
     "shell.execute_reply.started": "2021-07-14T09:13:27.724949Z"
    },
    "papermill": {
     "duration": 0.089617,
     "end_time": "2021-08-03T20:52:41.093272",
     "exception": false,
     "start_time": "2021-08-03T20:52:41.003655",
     "status": "completed"
    },
    "tags": []
   },
   "outputs": [
    {
     "data": {
      "text/html": [
       "<div>\n",
       "<style scoped>\n",
       "    .dataframe tbody tr th:only-of-type {\n",
       "        vertical-align: middle;\n",
       "    }\n",
       "\n",
       "    .dataframe tbody tr th {\n",
       "        vertical-align: top;\n",
       "    }\n",
       "\n",
       "    .dataframe thead th {\n",
       "        text-align: right;\n",
       "    }\n",
       "</style>\n",
       "<table border=\"1\" class=\"dataframe\">\n",
       "  <thead>\n",
       "    <tr style=\"text-align: right;\">\n",
       "      <th></th>\n",
       "      <th>Specific Bean Origin or Bar Name</th>\n",
       "      <th>REF</th>\n",
       "      <th>Review Date</th>\n",
       "      <th>Cocoa Percent</th>\n",
       "      <th>Location</th>\n",
       "      <th>Rating</th>\n",
       "      <th>Broad Bean Origin</th>\n",
       "    </tr>\n",
       "  </thead>\n",
       "  <tbody>\n",
       "    <tr>\n",
       "      <th>1666</th>\n",
       "      <td>Dominican Republic</td>\n",
       "      <td>789</td>\n",
       "      <td>2011</td>\n",
       "      <td>74%</td>\n",
       "      <td>U.S.A.</td>\n",
       "      <td>3.0</td>\n",
       "      <td>Dominican Republic</td>\n",
       "    </tr>\n",
       "  </tbody>\n",
       "</table>\n",
       "</div>"
      ],
      "text/plain": [
       "     Specific Bean Origin or Bar Name  REF  Review Date Cocoa Percent  \\\n",
       "1666               Dominican Republic  789         2011           74%   \n",
       "\n",
       "     Location  Rating   Broad Bean Origin  \n",
       "1666   U.S.A.     3.0  Dominican Republic  "
      ]
     },
     "execution_count": 18,
     "metadata": {},
     "output_type": "execute_result"
    }
   ],
   "source": [
    "df.sample()"
   ]
  },
  {
   "cell_type": "markdown",
   "id": "prepared-pharmaceutical",
   "metadata": {
    "papermill": {
     "duration": 0.075957,
     "end_time": "2021-08-03T20:52:41.243889",
     "exception": false,
     "start_time": "2021-08-03T20:52:41.167932",
     "status": "completed"
    },
    "tags": []
   },
   "source": [
    "Nice!"
   ]
  },
  {
   "cell_type": "markdown",
   "id": "meaning-canada",
   "metadata": {
    "papermill": {
     "duration": 0.07635,
     "end_time": "2021-08-03T20:52:41.396198",
     "exception": false,
     "start_time": "2021-08-03T20:52:41.319848",
     "status": "completed"
    },
    "tags": []
   },
   "source": [
    "Now let's convert the `Cocoa Percent` to *float*."
   ]
  },
  {
   "cell_type": "code",
   "execution_count": 19,
   "id": "configured-identity",
   "metadata": {
    "execution": {
     "iopub.execute_input": "2021-08-03T20:52:41.558269Z",
     "iopub.status.busy": "2021-08-03T20:52:41.557310Z",
     "iopub.status.idle": "2021-08-03T20:52:41.560266Z",
     "shell.execute_reply": "2021-08-03T20:52:41.559670Z",
     "shell.execute_reply.started": "2021-07-14T09:13:27.746968Z"
    },
    "papermill": {
     "duration": 0.088018,
     "end_time": "2021-08-03T20:52:41.560394",
     "exception": false,
     "start_time": "2021-08-03T20:52:41.472376",
     "status": "completed"
    },
    "tags": []
   },
   "outputs": [],
   "source": [
    "df['Cocoa Percent'] = df['Cocoa Percent'].apply(lambda x: float(x.strip('%')) / 100.0)"
   ]
  },
  {
   "cell_type": "code",
   "execution_count": 20,
   "id": "induced-picture",
   "metadata": {
    "execution": {
     "iopub.execute_input": "2021-08-03T20:52:41.729203Z",
     "iopub.status.busy": "2021-08-03T20:52:41.728216Z",
     "iopub.status.idle": "2021-08-03T20:52:41.732468Z",
     "shell.execute_reply": "2021-08-03T20:52:41.733160Z",
     "shell.execute_reply.started": "2021-07-14T09:13:27.760936Z"
    },
    "papermill": {
     "duration": 0.096112,
     "end_time": "2021-08-03T20:52:41.733346",
     "exception": false,
     "start_time": "2021-08-03T20:52:41.637234",
     "status": "completed"
    },
    "tags": []
   },
   "outputs": [
    {
     "data": {
      "text/html": [
       "<div>\n",
       "<style scoped>\n",
       "    .dataframe tbody tr th:only-of-type {\n",
       "        vertical-align: middle;\n",
       "    }\n",
       "\n",
       "    .dataframe tbody tr th {\n",
       "        vertical-align: top;\n",
       "    }\n",
       "\n",
       "    .dataframe thead th {\n",
       "        text-align: right;\n",
       "    }\n",
       "</style>\n",
       "<table border=\"1\" class=\"dataframe\">\n",
       "  <thead>\n",
       "    <tr style=\"text-align: right;\">\n",
       "      <th></th>\n",
       "      <th>Specific Bean Origin or Bar Name</th>\n",
       "      <th>REF</th>\n",
       "      <th>Review Date</th>\n",
       "      <th>Cocoa Percent</th>\n",
       "      <th>Location</th>\n",
       "      <th>Rating</th>\n",
       "      <th>Broad Bean Origin</th>\n",
       "    </tr>\n",
       "  </thead>\n",
       "  <tbody>\n",
       "    <tr>\n",
       "      <th>675</th>\n",
       "      <td>Palo Blanco, Chulucanas</td>\n",
       "      <td>883</td>\n",
       "      <td>2012</td>\n",
       "      <td>0.61</td>\n",
       "      <td>U.S.A.</td>\n",
       "      <td>3.5</td>\n",
       "      <td>Peru</td>\n",
       "    </tr>\n",
       "    <tr>\n",
       "      <th>791</th>\n",
       "      <td>Alto Beni, Upper Rio Beni, 2014</td>\n",
       "      <td>1239</td>\n",
       "      <td>2014</td>\n",
       "      <td>0.67</td>\n",
       "      <td>U.S.A.</td>\n",
       "      <td>3.5</td>\n",
       "      <td>Bolivia</td>\n",
       "    </tr>\n",
       "    <tr>\n",
       "      <th>355</th>\n",
       "      <td>Huila</td>\n",
       "      <td>1888</td>\n",
       "      <td>2016</td>\n",
       "      <td>0.65</td>\n",
       "      <td>Colombia</td>\n",
       "      <td>3.5</td>\n",
       "      <td>Colombia</td>\n",
       "    </tr>\n",
       "  </tbody>\n",
       "</table>\n",
       "</div>"
      ],
      "text/plain": [
       "    Specific Bean Origin or Bar Name   REF  Review Date  Cocoa Percent  \\\n",
       "675          Palo Blanco, Chulucanas   883         2012           0.61   \n",
       "791  Alto Beni, Upper Rio Beni, 2014  1239         2014           0.67   \n",
       "355                            Huila  1888         2016           0.65   \n",
       "\n",
       "     Location  Rating Broad Bean Origin  \n",
       "675    U.S.A.     3.5              Peru  \n",
       "791    U.S.A.     3.5           Bolivia  \n",
       "355  Colombia     3.5          Colombia  "
      ]
     },
     "execution_count": 20,
     "metadata": {},
     "output_type": "execute_result"
    }
   ],
   "source": [
    "df.sample(3)"
   ]
  },
  {
   "cell_type": "markdown",
   "id": "sufficient-think",
   "metadata": {
    "papermill": {
     "duration": 0.076797,
     "end_time": "2021-08-03T20:52:41.887107",
     "exception": false,
     "start_time": "2021-08-03T20:52:41.810310",
     "status": "completed"
    },
    "tags": []
   },
   "source": [
    "Awesome!"
   ]
  },
  {
   "cell_type": "markdown",
   "id": "residential-georgia",
   "metadata": {
    "papermill": {
     "duration": 0.076652,
     "end_time": "2021-08-03T20:52:42.040298",
     "exception": false,
     "start_time": "2021-08-03T20:52:41.963646",
     "status": "completed"
    },
    "tags": []
   },
   "source": [
    "Now let's see the `Specific Bean Origin or Bar Name` column and the `Broad Bean Origin` column."
   ]
  },
  {
   "cell_type": "code",
   "execution_count": 21,
   "id": "spiritual-width",
   "metadata": {
    "execution": {
     "iopub.execute_input": "2021-08-03T20:52:42.200036Z",
     "iopub.status.busy": "2021-08-03T20:52:42.198861Z",
     "iopub.status.idle": "2021-08-03T20:52:42.208784Z",
     "shell.execute_reply": "2021-08-03T20:52:42.209320Z",
     "shell.execute_reply.started": "2021-07-14T09:13:27.783461Z"
    },
    "papermill": {
     "duration": 0.09152,
     "end_time": "2021-08-03T20:52:42.209497",
     "exception": false,
     "start_time": "2021-08-03T20:52:42.117977",
     "status": "completed"
    },
    "tags": []
   },
   "outputs": [
    {
     "data": {
      "text/plain": [
       "Madagascar                                       57\n",
       "Peru                                             45\n",
       "Ecuador                                          42\n",
       "Dominican Republic                               37\n",
       "Venezuela                                        21\n",
       "                                                 ..\n",
       "Bahia Superior                                    1\n",
       "Wild Beni, Lower Rio Beni, Tranquilidad, 2014     1\n",
       "Carenero Superior, Urrutia, Barlovento            1\n",
       "Selva Maya                                        1\n",
       "Bali                                              1\n",
       "Name: Specific Bean Origin or Bar Name, Length: 1039, dtype: int64"
      ]
     },
     "execution_count": 21,
     "metadata": {},
     "output_type": "execute_result"
    }
   ],
   "source": [
    "df['Specific Bean Origin or Bar Name'].value_counts()"
   ]
  },
  {
   "cell_type": "code",
   "execution_count": 22,
   "id": "nutritional-asbestos",
   "metadata": {
    "execution": {
     "iopub.execute_input": "2021-08-03T20:52:42.367208Z",
     "iopub.status.busy": "2021-08-03T20:52:42.366118Z",
     "iopub.status.idle": "2021-08-03T20:52:42.375615Z",
     "shell.execute_reply": "2021-08-03T20:52:42.376248Z",
     "shell.execute_reply.started": "2021-07-14T09:13:27.797155Z"
    },
    "papermill": {
     "duration": 0.090427,
     "end_time": "2021-08-03T20:52:42.376440",
     "exception": false,
     "start_time": "2021-08-03T20:52:42.286013",
     "status": "completed"
    },
    "tags": []
   },
   "outputs": [
    {
     "data": {
      "text/plain": [
       "Venezuela                        214\n",
       "Ecuador                          193\n",
       "Peru                             165\n",
       "Madagascar                       145\n",
       "Dominican Republic               141\n",
       "                                ... \n",
       "Ven, Trinidad, Ecuador             1\n",
       "Mad., Java, PNG                    1\n",
       "Nigeria                            1\n",
       "Venezuela, Dom. Rep.               1\n",
       "Peru(SMartin,Pangoa,nacional)      1\n",
       "Name: Broad Bean Origin, Length: 99, dtype: int64"
      ]
     },
     "execution_count": 22,
     "metadata": {},
     "output_type": "execute_result"
    }
   ],
   "source": [
    "df['Broad Bean Origin'].value_counts()"
   ]
  },
  {
   "cell_type": "code",
   "execution_count": 23,
   "id": "continuing-integrity",
   "metadata": {
    "execution": {
     "iopub.execute_input": "2021-08-03T20:52:42.537504Z",
     "iopub.status.busy": "2021-08-03T20:52:42.536415Z",
     "iopub.status.idle": "2021-08-03T20:52:42.554660Z",
     "shell.execute_reply": "2021-08-03T20:52:42.555198Z",
     "shell.execute_reply.started": "2021-07-14T09:13:27.816404Z"
    },
    "papermill": {
     "duration": 0.099955,
     "end_time": "2021-08-03T20:52:42.555375",
     "exception": false,
     "start_time": "2021-08-03T20:52:42.455420",
     "status": "completed"
    },
    "tags": []
   },
   "outputs": [
    {
     "data": {
      "text/html": [
       "<div>\n",
       "<style scoped>\n",
       "    .dataframe tbody tr th:only-of-type {\n",
       "        vertical-align: middle;\n",
       "    }\n",
       "\n",
       "    .dataframe tbody tr th {\n",
       "        vertical-align: top;\n",
       "    }\n",
       "\n",
       "    .dataframe thead th {\n",
       "        text-align: right;\n",
       "    }\n",
       "</style>\n",
       "<table border=\"1\" class=\"dataframe\">\n",
       "  <thead>\n",
       "    <tr style=\"text-align: right;\">\n",
       "      <th></th>\n",
       "      <th>Specific Bean Origin or Bar Name</th>\n",
       "      <th>REF</th>\n",
       "      <th>Review Date</th>\n",
       "      <th>Cocoa Percent</th>\n",
       "      <th>Location</th>\n",
       "      <th>Rating</th>\n",
       "      <th>Broad Bean Origin</th>\n",
       "    </tr>\n",
       "  </thead>\n",
       "  <tbody>\n",
       "    <tr>\n",
       "      <th>820</th>\n",
       "      <td>Mara</td>\n",
       "      <td>1466</td>\n",
       "      <td>2015</td>\n",
       "      <td>0.70</td>\n",
       "      <td>Israel</td>\n",
       "      <td>3.50</td>\n",
       "      <td>Venezuela</td>\n",
       "    </tr>\n",
       "    <tr>\n",
       "      <th>796</th>\n",
       "      <td>Los Rios, Hacienda Limon, Orecao, 2015</td>\n",
       "      <td>1744</td>\n",
       "      <td>2016</td>\n",
       "      <td>0.70</td>\n",
       "      <td>U.S.A.</td>\n",
       "      <td>3.50</td>\n",
       "      <td>Ecuador</td>\n",
       "    </tr>\n",
       "    <tr>\n",
       "      <th>601</th>\n",
       "      <td>Peru</td>\n",
       "      <td>1343</td>\n",
       "      <td>2014</td>\n",
       "      <td>0.70</td>\n",
       "      <td>Canada</td>\n",
       "      <td>3.25</td>\n",
       "      <td>Peru</td>\n",
       "    </tr>\n",
       "    <tr>\n",
       "      <th>268</th>\n",
       "      <td>Somia Plantation</td>\n",
       "      <td>1231</td>\n",
       "      <td>2014</td>\n",
       "      <td>0.72</td>\n",
       "      <td>Australia</td>\n",
       "      <td>3.00</td>\n",
       "      <td>Madagascar</td>\n",
       "    </tr>\n",
       "    <tr>\n",
       "      <th>901</th>\n",
       "      <td>La Red, Guanconjeco</td>\n",
       "      <td>1251</td>\n",
       "      <td>2014</td>\n",
       "      <td>0.60</td>\n",
       "      <td>U.S.A.</td>\n",
       "      <td>3.00</td>\n",
       "      <td>Dominican Republic</td>\n",
       "    </tr>\n",
       "    <tr>\n",
       "      <th>667</th>\n",
       "      <td>Ghana</td>\n",
       "      <td>1351</td>\n",
       "      <td>2014</td>\n",
       "      <td>0.60</td>\n",
       "      <td>Belgium</td>\n",
       "      <td>3.50</td>\n",
       "      <td>Ghana</td>\n",
       "    </tr>\n",
       "    <tr>\n",
       "      <th>536</th>\n",
       "      <td>Tien Giang</td>\n",
       "      <td>1864</td>\n",
       "      <td>2016</td>\n",
       "      <td>0.78</td>\n",
       "      <td>U.S.A.</td>\n",
       "      <td>3.50</td>\n",
       "      <td>Vietnam</td>\n",
       "    </tr>\n",
       "    <tr>\n",
       "      <th>395</th>\n",
       "      <td>Uganda</td>\n",
       "      <td>1760</td>\n",
       "      <td>2016</td>\n",
       "      <td>0.70</td>\n",
       "      <td>U.S.A.</td>\n",
       "      <td>2.75</td>\n",
       "      <td>Uganda</td>\n",
       "    </tr>\n",
       "    <tr>\n",
       "      <th>505</th>\n",
       "      <td>Las Acacias E.</td>\n",
       "      <td>423</td>\n",
       "      <td>2009</td>\n",
       "      <td>0.75</td>\n",
       "      <td>Guatemala</td>\n",
       "      <td>3.00</td>\n",
       "      <td>Guatemala</td>\n",
       "    </tr>\n",
       "    <tr>\n",
       "      <th>1537</th>\n",
       "      <td>Cahabon Region</td>\n",
       "      <td>951</td>\n",
       "      <td>2012</td>\n",
       "      <td>0.70</td>\n",
       "      <td>Canada</td>\n",
       "      <td>3.50</td>\n",
       "      <td>Guatemala</td>\n",
       "    </tr>\n",
       "  </tbody>\n",
       "</table>\n",
       "</div>"
      ],
      "text/plain": [
       "            Specific Bean Origin or Bar Name   REF  Review Date  \\\n",
       "820                                     Mara  1466         2015   \n",
       "796   Los Rios, Hacienda Limon, Orecao, 2015  1744         2016   \n",
       "601                                     Peru  1343         2014   \n",
       "268                         Somia Plantation  1231         2014   \n",
       "901                      La Red, Guanconjeco  1251         2014   \n",
       "667                                    Ghana  1351         2014   \n",
       "536                               Tien Giang  1864         2016   \n",
       "395                                   Uganda  1760         2016   \n",
       "505                           Las Acacias E.   423         2009   \n",
       "1537                          Cahabon Region   951         2012   \n",
       "\n",
       "      Cocoa Percent   Location  Rating   Broad Bean Origin  \n",
       "820            0.70     Israel    3.50           Venezuela  \n",
       "796            0.70     U.S.A.    3.50             Ecuador  \n",
       "601            0.70     Canada    3.25                Peru  \n",
       "268            0.72  Australia    3.00          Madagascar  \n",
       "901            0.60     U.S.A.    3.00  Dominican Republic  \n",
       "667            0.60    Belgium    3.50               Ghana  \n",
       "536            0.78     U.S.A.    3.50             Vietnam  \n",
       "395            0.70     U.S.A.    2.75              Uganda  \n",
       "505            0.75  Guatemala    3.00           Guatemala  \n",
       "1537           0.70     Canada    3.50           Guatemala  "
      ]
     },
     "execution_count": 23,
     "metadata": {},
     "output_type": "execute_result"
    }
   ],
   "source": [
    "df.sample(10)"
   ]
  },
  {
   "cell_type": "markdown",
   "id": "sweet-worcester",
   "metadata": {
    "papermill": {
     "duration": 0.078499,
     "end_time": "2021-08-03T20:52:42.712489",
     "exception": false,
     "start_time": "2021-08-03T20:52:42.633990",
     "status": "completed"
    },
    "tags": []
   },
   "source": [
    "Here we can see the two columns are very similar. Therefore, we can drop `Specific Bean Origin or Bar Name`."
   ]
  },
  {
   "cell_type": "code",
   "execution_count": 24,
   "id": "acceptable-squad",
   "metadata": {
    "execution": {
     "iopub.execute_input": "2021-08-03T20:52:42.876084Z",
     "iopub.status.busy": "2021-08-03T20:52:42.874979Z",
     "iopub.status.idle": "2021-08-03T20:52:42.880596Z",
     "shell.execute_reply": "2021-08-03T20:52:42.881180Z",
     "shell.execute_reply.started": "2021-07-14T09:13:27.838939Z"
    },
    "papermill": {
     "duration": 0.088079,
     "end_time": "2021-08-03T20:52:42.881342",
     "exception": false,
     "start_time": "2021-08-03T20:52:42.793263",
     "status": "completed"
    },
    "tags": []
   },
   "outputs": [],
   "source": [
    "df.drop(['Specific Bean Origin or Bar Name'], axis=1, inplace=True)"
   ]
  },
  {
   "cell_type": "code",
   "execution_count": 25,
   "id": "humanitarian-failure",
   "metadata": {
    "execution": {
     "iopub.execute_input": "2021-08-03T20:52:43.042737Z",
     "iopub.status.busy": "2021-08-03T20:52:43.041643Z",
     "iopub.status.idle": "2021-08-03T20:52:43.055268Z",
     "shell.execute_reply": "2021-08-03T20:52:43.055925Z",
     "shell.execute_reply.started": "2021-07-14T09:13:27.846344Z"
    },
    "papermill": {
     "duration": 0.095835,
     "end_time": "2021-08-03T20:52:43.056124",
     "exception": false,
     "start_time": "2021-08-03T20:52:42.960289",
     "status": "completed"
    },
    "tags": []
   },
   "outputs": [
    {
     "data": {
      "text/html": [
       "<div>\n",
       "<style scoped>\n",
       "    .dataframe tbody tr th:only-of-type {\n",
       "        vertical-align: middle;\n",
       "    }\n",
       "\n",
       "    .dataframe tbody tr th {\n",
       "        vertical-align: top;\n",
       "    }\n",
       "\n",
       "    .dataframe thead th {\n",
       "        text-align: right;\n",
       "    }\n",
       "</style>\n",
       "<table border=\"1\" class=\"dataframe\">\n",
       "  <thead>\n",
       "    <tr style=\"text-align: right;\">\n",
       "      <th></th>\n",
       "      <th>REF</th>\n",
       "      <th>Review Date</th>\n",
       "      <th>Cocoa Percent</th>\n",
       "      <th>Location</th>\n",
       "      <th>Rating</th>\n",
       "      <th>Broad Bean Origin</th>\n",
       "    </tr>\n",
       "  </thead>\n",
       "  <tbody>\n",
       "    <tr>\n",
       "      <th>451</th>\n",
       "      <td>959</td>\n",
       "      <td>2012</td>\n",
       "      <td>0.7</td>\n",
       "      <td>Germany</td>\n",
       "      <td>3.5</td>\n",
       "      <td>Madagascar</td>\n",
       "    </tr>\n",
       "  </tbody>\n",
       "</table>\n",
       "</div>"
      ],
      "text/plain": [
       "     REF  Review Date  Cocoa Percent Location  Rating Broad Bean Origin\n",
       "451  959         2012            0.7  Germany     3.5        Madagascar"
      ]
     },
     "execution_count": 25,
     "metadata": {},
     "output_type": "execute_result"
    }
   ],
   "source": [
    "df.sample()"
   ]
  },
  {
   "cell_type": "markdown",
   "id": "viral-engine",
   "metadata": {
    "papermill": {
     "duration": 0.077195,
     "end_time": "2021-08-03T20:52:43.212128",
     "exception": false,
     "start_time": "2021-08-03T20:52:43.134933",
     "status": "completed"
    },
    "tags": []
   },
   "source": [
    "Cool!"
   ]
  },
  {
   "cell_type": "code",
   "execution_count": 26,
   "id": "weekly-conducting",
   "metadata": {
    "execution": {
     "iopub.execute_input": "2021-08-03T20:52:43.369997Z",
     "iopub.status.busy": "2021-08-03T20:52:43.368951Z",
     "iopub.status.idle": "2021-08-03T20:52:43.378038Z",
     "shell.execute_reply": "2021-08-03T20:52:43.378529Z",
     "shell.execute_reply.started": "2021-07-14T09:13:27.867863Z"
    },
    "papermill": {
     "duration": 0.08982,
     "end_time": "2021-08-03T20:52:43.378726",
     "exception": false,
     "start_time": "2021-08-03T20:52:43.288906",
     "status": "completed"
    },
    "tags": []
   },
   "outputs": [
    {
     "data": {
      "text/plain": [
       "Venezuela                        214\n",
       "Ecuador                          193\n",
       "Peru                             165\n",
       "Madagascar                       145\n",
       "Dominican Republic               141\n",
       "                                ... \n",
       "Ven, Trinidad, Ecuador             1\n",
       "Mad., Java, PNG                    1\n",
       "Nigeria                            1\n",
       "Venezuela, Dom. Rep.               1\n",
       "Peru(SMartin,Pangoa,nacional)      1\n",
       "Name: Broad Bean Origin, Length: 99, dtype: int64"
      ]
     },
     "execution_count": 26,
     "metadata": {},
     "output_type": "execute_result"
    }
   ],
   "source": [
    "df['Broad Bean Origin'].value_counts()"
   ]
  },
  {
   "cell_type": "markdown",
   "id": "chemical-producer",
   "metadata": {
    "papermill": {
     "duration": 0.079554,
     "end_time": "2021-08-03T20:52:43.536417",
     "exception": false,
     "start_time": "2021-08-03T20:52:43.456863",
     "status": "completed"
    },
    "tags": []
   },
   "source": [
    "Let's reduce the number of classes in this column."
   ]
  },
  {
   "cell_type": "code",
   "execution_count": 27,
   "id": "international-alaska",
   "metadata": {
    "execution": {
     "iopub.execute_input": "2021-08-03T20:52:43.700631Z",
     "iopub.status.busy": "2021-08-03T20:52:43.699602Z",
     "iopub.status.idle": "2021-08-03T20:52:43.704227Z",
     "shell.execute_reply": "2021-08-03T20:52:43.703532Z",
     "shell.execute_reply.started": "2021-07-14T09:13:27.885576Z"
    },
    "papermill": {
     "duration": 0.088959,
     "end_time": "2021-08-03T20:52:43.704376",
     "exception": false,
     "start_time": "2021-08-03T20:52:43.615417",
     "status": "completed"
    },
    "tags": []
   },
   "outputs": [
    {
     "data": {
      "text/plain": [
       "['Venezuela',\n",
       " 'Ecuador',\n",
       " 'Peru',\n",
       " 'Madagascar',\n",
       " 'Dominican Republic',\n",
       " 'Nicaragua',\n",
       " 'Brazil',\n",
       " 'Bolivia',\n",
       " 'Belize',\n",
       " 'Papua New Guinea',\n",
       " 'Colombia',\n",
       " 'Costa Rica',\n",
       " 'Vietnam',\n",
       " 'Tanzania']"
      ]
     },
     "execution_count": 27,
     "metadata": {},
     "output_type": "execute_result"
    }
   ],
   "source": [
    "top_origin = list(df['Broad Bean Origin'].value_counts()[:14].index)\n",
    "top_origin"
   ]
  },
  {
   "cell_type": "code",
   "execution_count": 28,
   "id": "designing-tract",
   "metadata": {
    "execution": {
     "iopub.execute_input": "2021-08-03T20:52:43.866019Z",
     "iopub.status.busy": "2021-08-03T20:52:43.865319Z",
     "iopub.status.idle": "2021-08-03T20:52:43.868410Z",
     "shell.execute_reply": "2021-08-03T20:52:43.867882Z",
     "shell.execute_reply.started": "2021-07-14T09:13:27.896852Z"
    },
    "papermill": {
     "duration": 0.086132,
     "end_time": "2021-08-03T20:52:43.868555",
     "exception": false,
     "start_time": "2021-08-03T20:52:43.782423",
     "status": "completed"
    },
    "tags": []
   },
   "outputs": [],
   "source": [
    "df['Broad Bean Origin'] = df['Broad Bean Origin'].apply(lambda x: x if x in top_origin else 'Other')"
   ]
  },
  {
   "cell_type": "code",
   "execution_count": 29,
   "id": "sought-class",
   "metadata": {
    "execution": {
     "iopub.execute_input": "2021-08-03T20:52:44.031612Z",
     "iopub.status.busy": "2021-08-03T20:52:44.030616Z",
     "iopub.status.idle": "2021-08-03T20:52:44.035230Z",
     "shell.execute_reply": "2021-08-03T20:52:44.034541Z",
     "shell.execute_reply.started": "2021-07-14T09:13:27.908341Z"
    },
    "papermill": {
     "duration": 0.08936,
     "end_time": "2021-08-03T20:52:44.035372",
     "exception": false,
     "start_time": "2021-08-03T20:52:43.946012",
     "status": "completed"
    },
    "tags": []
   },
   "outputs": [
    {
     "data": {
      "text/plain": [
       "Other                 521\n",
       "Venezuela             214\n",
       "Ecuador               193\n",
       "Peru                  165\n",
       "Madagascar            145\n",
       "Dominican Republic    141\n",
       "Nicaragua              60\n",
       "Brazil                 58\n",
       "Bolivia                57\n",
       "Belize                 49\n",
       "Papua New Guinea       42\n",
       "Colombia               40\n",
       "Vietnam                38\n",
       "Costa Rica             38\n",
       "Tanzania               34\n",
       "Name: Broad Bean Origin, dtype: int64"
      ]
     },
     "execution_count": 29,
     "metadata": {},
     "output_type": "execute_result"
    }
   ],
   "source": [
    "df['Broad Bean Origin'].value_counts()"
   ]
  },
  {
   "cell_type": "markdown",
   "id": "alleged-river",
   "metadata": {
    "papermill": {
     "duration": 0.077909,
     "end_time": "2021-08-03T20:52:44.191720",
     "exception": false,
     "start_time": "2021-08-03T20:52:44.113811",
     "status": "completed"
    },
    "tags": []
   },
   "source": [
    "# Feature Generation\n",
    "We can classify the chocolates into `Dark`, `Normal` and `White` chocolates."
   ]
  },
  {
   "cell_type": "code",
   "execution_count": 30,
   "id": "deadly-chancellor",
   "metadata": {
    "execution": {
     "iopub.execute_input": "2021-08-03T20:52:44.354746Z",
     "iopub.status.busy": "2021-08-03T20:52:44.353926Z",
     "iopub.status.idle": "2021-08-03T20:52:44.384329Z",
     "shell.execute_reply": "2021-08-03T20:52:44.383653Z",
     "shell.execute_reply.started": "2021-07-14T09:13:27.922215Z"
    },
    "papermill": {
     "duration": 0.114859,
     "end_time": "2021-08-03T20:52:44.384473",
     "exception": false,
     "start_time": "2021-08-03T20:52:44.269614",
     "status": "completed"
    },
    "tags": []
   },
   "outputs": [
    {
     "data": {
      "text/html": [
       "<div>\n",
       "<style scoped>\n",
       "    .dataframe tbody tr th:only-of-type {\n",
       "        vertical-align: middle;\n",
       "    }\n",
       "\n",
       "    .dataframe tbody tr th {\n",
       "        vertical-align: top;\n",
       "    }\n",
       "\n",
       "    .dataframe thead th {\n",
       "        text-align: right;\n",
       "    }\n",
       "</style>\n",
       "<table border=\"1\" class=\"dataframe\">\n",
       "  <thead>\n",
       "    <tr style=\"text-align: right;\">\n",
       "      <th></th>\n",
       "      <th>REF</th>\n",
       "      <th>Review Date</th>\n",
       "      <th>Cocoa Percent</th>\n",
       "      <th>Location</th>\n",
       "      <th>Rating</th>\n",
       "      <th>Broad Bean Origin</th>\n",
       "    </tr>\n",
       "  </thead>\n",
       "  <tbody>\n",
       "    <tr>\n",
       "      <th>1277</th>\n",
       "      <td>1034</td>\n",
       "      <td>2013</td>\n",
       "      <td>0.67</td>\n",
       "      <td>U.S.A.</td>\n",
       "      <td>4.00</td>\n",
       "      <td>Peru</td>\n",
       "    </tr>\n",
       "    <tr>\n",
       "      <th>261</th>\n",
       "      <td>1514</td>\n",
       "      <td>2015</td>\n",
       "      <td>0.60</td>\n",
       "      <td>U.S.A.</td>\n",
       "      <td>3.00</td>\n",
       "      <td>Dominican Republic</td>\n",
       "    </tr>\n",
       "    <tr>\n",
       "      <th>1410</th>\n",
       "      <td>607</td>\n",
       "      <td>2010</td>\n",
       "      <td>0.64</td>\n",
       "      <td>Italy</td>\n",
       "      <td>3.50</td>\n",
       "      <td>Madagascar</td>\n",
       "    </tr>\n",
       "    <tr>\n",
       "      <th>1592</th>\n",
       "      <td>1796</td>\n",
       "      <td>2016</td>\n",
       "      <td>0.60</td>\n",
       "      <td>Venezuela</td>\n",
       "      <td>3.00</td>\n",
       "      <td>Venezuela</td>\n",
       "    </tr>\n",
       "    <tr>\n",
       "      <th>798</th>\n",
       "      <td>1744</td>\n",
       "      <td>2016</td>\n",
       "      <td>0.68</td>\n",
       "      <td>U.S.A.</td>\n",
       "      <td>3.75</td>\n",
       "      <td>Bolivia</td>\n",
       "    </tr>\n",
       "    <tr>\n",
       "      <th>1687</th>\n",
       "      <td>757</td>\n",
       "      <td>2011</td>\n",
       "      <td>0.64</td>\n",
       "      <td>France</td>\n",
       "      <td>4.00</td>\n",
       "      <td>Venezuela</td>\n",
       "    </tr>\n",
       "    <tr>\n",
       "      <th>925</th>\n",
       "      <td>451</td>\n",
       "      <td>2009</td>\n",
       "      <td>0.68</td>\n",
       "      <td>U.S.A.</td>\n",
       "      <td>3.00</td>\n",
       "      <td>Bolivia</td>\n",
       "    </tr>\n",
       "    <tr>\n",
       "      <th>951</th>\n",
       "      <td>1438</td>\n",
       "      <td>2014</td>\n",
       "      <td>0.68</td>\n",
       "      <td>France</td>\n",
       "      <td>2.75</td>\n",
       "      <td>Other</td>\n",
       "    </tr>\n",
       "    <tr>\n",
       "      <th>1788</th>\n",
       "      <td>883</td>\n",
       "      <td>2012</td>\n",
       "      <td>0.68</td>\n",
       "      <td>Austria</td>\n",
       "      <td>3.25</td>\n",
       "      <td>Other</td>\n",
       "    </tr>\n",
       "    <tr>\n",
       "      <th>1460</th>\n",
       "      <td>725</td>\n",
       "      <td>2011</td>\n",
       "      <td>0.65</td>\n",
       "      <td>Italy</td>\n",
       "      <td>3.25</td>\n",
       "      <td>Other</td>\n",
       "    </tr>\n",
       "  </tbody>\n",
       "</table>\n",
       "</div>"
      ],
      "text/plain": [
       "       REF  Review Date  Cocoa Percent   Location  Rating   Broad Bean Origin\n",
       "1277  1034         2013           0.67     U.S.A.    4.00                Peru\n",
       "261   1514         2015           0.60     U.S.A.    3.00  Dominican Republic\n",
       "1410   607         2010           0.64      Italy    3.50          Madagascar\n",
       "1592  1796         2016           0.60  Venezuela    3.00           Venezuela\n",
       "798   1744         2016           0.68     U.S.A.    3.75             Bolivia\n",
       "1687   757         2011           0.64     France    4.00           Venezuela\n",
       "925    451         2009           0.68     U.S.A.    3.00             Bolivia\n",
       "951   1438         2014           0.68     France    2.75               Other\n",
       "1788   883         2012           0.68    Austria    3.25               Other\n",
       "1460   725         2011           0.65      Italy    3.25               Other"
      ]
     },
     "execution_count": 30,
     "metadata": {},
     "output_type": "execute_result"
    }
   ],
   "source": [
    "df[df['Cocoa Percent']<0.7].sample(10)"
   ]
  },
  {
   "cell_type": "code",
   "execution_count": 31,
   "id": "tropical-contact",
   "metadata": {
    "execution": {
     "iopub.execute_input": "2021-08-03T20:52:44.549873Z",
     "iopub.status.busy": "2021-08-03T20:52:44.548855Z",
     "iopub.status.idle": "2021-08-03T20:52:44.552295Z",
     "shell.execute_reply": "2021-08-03T20:52:44.551736Z",
     "shell.execute_reply.started": "2021-07-14T09:13:27.946824Z"
    },
    "papermill": {
     "duration": 0.089703,
     "end_time": "2021-08-03T20:52:44.552477",
     "exception": false,
     "start_time": "2021-08-03T20:52:44.462774",
     "status": "completed"
    },
    "tags": []
   },
   "outputs": [],
   "source": [
    "df['Chocolate Type'] = df['Cocoa Percent'].apply(lambda x: 'dark' if x>=0.7 else 'normal' if x>0.0 else 'white')"
   ]
  },
  {
   "cell_type": "code",
   "execution_count": 32,
   "id": "heavy-sight",
   "metadata": {
    "execution": {
     "iopub.execute_input": "2021-08-03T20:52:44.722921Z",
     "iopub.status.busy": "2021-08-03T20:52:44.722257Z",
     "iopub.status.idle": "2021-08-03T20:52:44.725291Z",
     "shell.execute_reply": "2021-08-03T20:52:44.725843Z",
     "shell.execute_reply.started": "2021-07-14T09:13:27.961497Z"
    },
    "papermill": {
     "duration": 0.09166,
     "end_time": "2021-08-03T20:52:44.726052",
     "exception": false,
     "start_time": "2021-08-03T20:52:44.634392",
     "status": "completed"
    },
    "tags": []
   },
   "outputs": [
    {
     "data": {
      "text/plain": [
       "dark      1467\n",
       "normal     328\n",
       "Name: Chocolate Type, dtype: int64"
      ]
     },
     "execution_count": 32,
     "metadata": {},
     "output_type": "execute_result"
    }
   ],
   "source": [
    "df['Chocolate Type'].value_counts()"
   ]
  },
  {
   "cell_type": "code",
   "execution_count": 33,
   "id": "welsh-vegetable",
   "metadata": {
    "execution": {
     "iopub.execute_input": "2021-08-03T20:52:44.893545Z",
     "iopub.status.busy": "2021-08-03T20:52:44.892892Z",
     "iopub.status.idle": "2021-08-03T20:52:44.909176Z",
     "shell.execute_reply": "2021-08-03T20:52:44.908492Z",
     "shell.execute_reply.started": "2021-07-14T09:13:27.975361Z"
    },
    "papermill": {
     "duration": 0.101342,
     "end_time": "2021-08-03T20:52:44.909325",
     "exception": false,
     "start_time": "2021-08-03T20:52:44.807983",
     "status": "completed"
    },
    "tags": []
   },
   "outputs": [
    {
     "name": "stdout",
     "output_type": "stream",
     "text": [
      "<class 'pandas.core.frame.DataFrame'>\n",
      "RangeIndex: 1795 entries, 0 to 1794\n",
      "Data columns (total 7 columns):\n",
      " #   Column             Non-Null Count  Dtype  \n",
      "---  ------             --------------  -----  \n",
      " 0   REF                1795 non-null   int64  \n",
      " 1   Review Date        1795 non-null   int64  \n",
      " 2   Cocoa Percent      1795 non-null   float64\n",
      " 3   Location           1795 non-null   object \n",
      " 4   Rating             1795 non-null   float64\n",
      " 5   Broad Bean Origin  1795 non-null   object \n",
      " 6   Chocolate Type     1795 non-null   object \n",
      "dtypes: float64(2), int64(2), object(3)\n",
      "memory usage: 98.3+ KB\n"
     ]
    }
   ],
   "source": [
    "df.info()"
   ]
  },
  {
   "cell_type": "markdown",
   "id": "naughty-driving",
   "metadata": {
    "papermill": {
     "duration": 0.080762,
     "end_time": "2021-08-03T20:52:45.070241",
     "exception": false,
     "start_time": "2021-08-03T20:52:44.989479",
     "status": "completed"
    },
    "tags": []
   },
   "source": [
    "Peace."
   ]
  },
  {
   "cell_type": "markdown",
   "id": "naval-making",
   "metadata": {
    "papermill": {
     "duration": 0.080849,
     "end_time": "2021-08-03T20:52:45.233502",
     "exception": false,
     "start_time": "2021-08-03T20:52:45.152653",
     "status": "completed"
    },
    "tags": []
   },
   "source": [
    "We can even group the `Location` column into continents."
   ]
  },
  {
   "cell_type": "code",
   "execution_count": 34,
   "id": "pointed-answer",
   "metadata": {
    "execution": {
     "iopub.execute_input": "2021-08-03T20:52:45.405312Z",
     "iopub.status.busy": "2021-08-03T20:52:45.404576Z",
     "iopub.status.idle": "2021-08-03T20:52:45.408184Z",
     "shell.execute_reply": "2021-08-03T20:52:45.408844Z",
     "shell.execute_reply.started": "2021-07-14T09:13:27.999571Z"
    },
    "papermill": {
     "duration": 0.090125,
     "end_time": "2021-08-03T20:52:45.409015",
     "exception": false,
     "start_time": "2021-08-03T20:52:45.318890",
     "status": "completed"
    },
    "tags": []
   },
   "outputs": [
    {
     "data": {
      "text/plain": [
       "['U.S.A.',\n",
       " 'France',\n",
       " 'Canada',\n",
       " 'U.K.',\n",
       " 'Italy',\n",
       " 'Ecuador',\n",
       " 'Australia',\n",
       " 'Belgium',\n",
       " 'Switzerland',\n",
       " 'Germany']"
      ]
     },
     "execution_count": 34,
     "metadata": {},
     "output_type": "execute_result"
    }
   ],
   "source": [
    "# Lising top 10 countries\n",
    "list(df['Location'].value_counts()[:10].index)"
   ]
  },
  {
   "cell_type": "code",
   "execution_count": 35,
   "id": "pointed-mission",
   "metadata": {
    "execution": {
     "iopub.execute_input": "2021-08-03T20:52:45.570370Z",
     "iopub.status.busy": "2021-08-03T20:52:45.569714Z",
     "iopub.status.idle": "2021-08-03T20:52:45.576376Z",
     "shell.execute_reply": "2021-08-03T20:52:45.576934Z",
     "shell.execute_reply.started": "2021-07-14T09:13:28.008489Z"
    },
    "papermill": {
     "duration": 0.089424,
     "end_time": "2021-08-03T20:52:45.577096",
     "exception": false,
     "start_time": "2021-08-03T20:52:45.487672",
     "status": "completed"
    },
    "tags": []
   },
   "outputs": [],
   "source": [
    "asia = ['Japan', 'Vietnam', 'Israel', 'South Korea', 'Singapore', 'India', 'Philippines', 'Russia']\n",
    "africa = ['Madagascar', 'Sao Tome', 'South Africa', 'Ghana']\n",
    "north_america = ['U.S.A.', 'Canada', 'Martinique', 'Niacragua', 'Guatemala', 'St. Lucia', 'Puerto Rico', 'Mexico', 'Costa Rica', 'Honduras', 'Nicaragua', 'Domincan Republic', ]\n",
    "south_america = ['Ecuador', 'Eucador', 'Colombia', 'Suriname', 'Bolivia', 'Venezuela', 'Chile', 'Peru', 'Brazil', 'Argentina', 'Lithuania']\n",
    "europe = ['France', 'Denmark', 'Scotland', 'Wales', 'Czech Republic', 'Finland', 'Ireland', 'Portugal', 'Netherlands', 'Poland', 'Amsterdam', 'Sweden', 'U.K.', 'Italy', 'Belgium', 'Switzerland', 'Germany', 'Austria', 'Spain', 'Hungary', ]\n",
    "oceania = ['Australia', 'New Zealand', 'Fiji']"
   ]
  },
  {
   "cell_type": "code",
   "execution_count": 36,
   "id": "portable-basic",
   "metadata": {
    "execution": {
     "iopub.execute_input": "2021-08-03T20:52:45.744607Z",
     "iopub.status.busy": "2021-08-03T20:52:45.743899Z",
     "iopub.status.idle": "2021-08-03T20:52:45.747053Z",
     "shell.execute_reply": "2021-08-03T20:52:45.746428Z",
     "shell.execute_reply.started": "2021-07-14T09:13:28.019908Z"
    },
    "papermill": {
     "duration": 0.089904,
     "end_time": "2021-08-03T20:52:45.747194",
     "exception": false,
     "start_time": "2021-08-03T20:52:45.657290",
     "status": "completed"
    },
    "tags": []
   },
   "outputs": [],
   "source": [
    "def continents(x):\n",
    "    if x in asia:\n",
    "        return 'asia'\n",
    "    if x in africa:\n",
    "        return 'africa'\n",
    "    if x in north_america:\n",
    "        return 'north america'\n",
    "    if x in south_america:\n",
    "        return 'south america'\n",
    "    if x in europe:\n",
    "        return 'europe'\n",
    "    if x in oceania:\n",
    "        return 'oceania'\n",
    "    return 'europe'"
   ]
  },
  {
   "cell_type": "code",
   "execution_count": 37,
   "id": "thirty-moderator",
   "metadata": {
    "execution": {
     "iopub.execute_input": "2021-08-03T20:52:45.915140Z",
     "iopub.status.busy": "2021-08-03T20:52:45.914460Z",
     "iopub.status.idle": "2021-08-03T20:52:45.917911Z",
     "shell.execute_reply": "2021-08-03T20:52:45.917332Z",
     "shell.execute_reply.started": "2021-07-14T09:13:28.03165Z"
    },
    "papermill": {
     "duration": 0.089921,
     "end_time": "2021-08-03T20:52:45.918053",
     "exception": false,
     "start_time": "2021-08-03T20:52:45.828132",
     "status": "completed"
    },
    "tags": []
   },
   "outputs": [],
   "source": [
    "df['Continent'] = df['Location'].apply(continents)"
   ]
  },
  {
   "cell_type": "code",
   "execution_count": 38,
   "id": "moved-worth",
   "metadata": {
    "execution": {
     "iopub.execute_input": "2021-08-03T20:52:46.086602Z",
     "iopub.status.busy": "2021-08-03T20:52:46.085583Z",
     "iopub.status.idle": "2021-08-03T20:52:46.102765Z",
     "shell.execute_reply": "2021-08-03T20:52:46.103314Z",
     "shell.execute_reply.started": "2021-07-14T09:13:28.045974Z"
    },
    "papermill": {
     "duration": 0.106253,
     "end_time": "2021-08-03T20:52:46.103483",
     "exception": false,
     "start_time": "2021-08-03T20:52:45.997230",
     "status": "completed"
    },
    "tags": []
   },
   "outputs": [
    {
     "data": {
      "text/html": [
       "<div>\n",
       "<style scoped>\n",
       "    .dataframe tbody tr th:only-of-type {\n",
       "        vertical-align: middle;\n",
       "    }\n",
       "\n",
       "    .dataframe tbody tr th {\n",
       "        vertical-align: top;\n",
       "    }\n",
       "\n",
       "    .dataframe thead th {\n",
       "        text-align: right;\n",
       "    }\n",
       "</style>\n",
       "<table border=\"1\" class=\"dataframe\">\n",
       "  <thead>\n",
       "    <tr style=\"text-align: right;\">\n",
       "      <th></th>\n",
       "      <th>REF</th>\n",
       "      <th>Review Date</th>\n",
       "      <th>Cocoa Percent</th>\n",
       "      <th>Location</th>\n",
       "      <th>Rating</th>\n",
       "      <th>Broad Bean Origin</th>\n",
       "      <th>Chocolate Type</th>\n",
       "      <th>Continent</th>\n",
       "    </tr>\n",
       "  </thead>\n",
       "  <tbody>\n",
       "    <tr>\n",
       "      <th>831</th>\n",
       "      <td>1065</td>\n",
       "      <td>2013</td>\n",
       "      <td>0.90</td>\n",
       "      <td>U.K.</td>\n",
       "      <td>3.00</td>\n",
       "      <td>Ecuador</td>\n",
       "      <td>dark</td>\n",
       "      <td>europe</td>\n",
       "    </tr>\n",
       "    <tr>\n",
       "      <th>548</th>\n",
       "      <td>1688</td>\n",
       "      <td>2015</td>\n",
       "      <td>0.85</td>\n",
       "      <td>U.K.</td>\n",
       "      <td>3.00</td>\n",
       "      <td>Venezuela</td>\n",
       "      <td>dark</td>\n",
       "      <td>europe</td>\n",
       "    </tr>\n",
       "    <tr>\n",
       "      <th>1438</th>\n",
       "      <td>188</td>\n",
       "      <td>2007</td>\n",
       "      <td>0.75</td>\n",
       "      <td>U.S.A.</td>\n",
       "      <td>3.00</td>\n",
       "      <td>Other</td>\n",
       "      <td>dark</td>\n",
       "      <td>north america</td>\n",
       "    </tr>\n",
       "    <tr>\n",
       "      <th>1514</th>\n",
       "      <td>1594</td>\n",
       "      <td>2015</td>\n",
       "      <td>0.70</td>\n",
       "      <td>Canada</td>\n",
       "      <td>3.50</td>\n",
       "      <td>Venezuela</td>\n",
       "      <td>dark</td>\n",
       "      <td>north america</td>\n",
       "    </tr>\n",
       "    <tr>\n",
       "      <th>487</th>\n",
       "      <td>1387</td>\n",
       "      <td>2014</td>\n",
       "      <td>0.70</td>\n",
       "      <td>U.S.A.</td>\n",
       "      <td>3.75</td>\n",
       "      <td>Dominican Republic</td>\n",
       "      <td>dark</td>\n",
       "      <td>north america</td>\n",
       "    </tr>\n",
       "  </tbody>\n",
       "</table>\n",
       "</div>"
      ],
      "text/plain": [
       "       REF  Review Date  Cocoa Percent Location  Rating   Broad Bean Origin  \\\n",
       "831   1065         2013           0.90     U.K.    3.00             Ecuador   \n",
       "548   1688         2015           0.85     U.K.    3.00           Venezuela   \n",
       "1438   188         2007           0.75   U.S.A.    3.00               Other   \n",
       "1514  1594         2015           0.70   Canada    3.50           Venezuela   \n",
       "487   1387         2014           0.70   U.S.A.    3.75  Dominican Republic   \n",
       "\n",
       "     Chocolate Type      Continent  \n",
       "831            dark         europe  \n",
       "548            dark         europe  \n",
       "1438           dark  north america  \n",
       "1514           dark  north america  \n",
       "487            dark  north america  "
      ]
     },
     "execution_count": 38,
     "metadata": {},
     "output_type": "execute_result"
    }
   ],
   "source": [
    "df.sample(5)"
   ]
  },
  {
   "cell_type": "code",
   "execution_count": 39,
   "id": "medium-disco",
   "metadata": {
    "execution": {
     "iopub.execute_input": "2021-08-03T20:52:46.273281Z",
     "iopub.status.busy": "2021-08-03T20:52:46.272158Z",
     "iopub.status.idle": "2021-08-03T20:52:46.278006Z",
     "shell.execute_reply": "2021-08-03T20:52:46.278560Z",
     "shell.execute_reply.started": "2021-07-14T09:13:28.06519Z"
    },
    "papermill": {
     "duration": 0.094236,
     "end_time": "2021-08-03T20:52:46.278746",
     "exception": false,
     "start_time": "2021-08-03T20:52:46.184510",
     "status": "completed"
    },
    "tags": []
   },
   "outputs": [],
   "source": [
    "df.drop(['Location'], axis=1, inplace=True)"
   ]
  },
  {
   "cell_type": "code",
   "execution_count": 40,
   "id": "matched-spank",
   "metadata": {
    "execution": {
     "iopub.execute_input": "2021-08-03T20:52:46.446933Z",
     "iopub.status.busy": "2021-08-03T20:52:46.445843Z",
     "iopub.status.idle": "2021-08-03T20:52:46.459922Z",
     "shell.execute_reply": "2021-08-03T20:52:46.460535Z",
     "shell.execute_reply.started": "2021-07-14T09:13:28.074638Z"
    },
    "papermill": {
     "duration": 0.101956,
     "end_time": "2021-08-03T20:52:46.460696",
     "exception": false,
     "start_time": "2021-08-03T20:52:46.358740",
     "status": "completed"
    },
    "tags": []
   },
   "outputs": [
    {
     "data": {
      "text/html": [
       "<div>\n",
       "<style scoped>\n",
       "    .dataframe tbody tr th:only-of-type {\n",
       "        vertical-align: middle;\n",
       "    }\n",
       "\n",
       "    .dataframe tbody tr th {\n",
       "        vertical-align: top;\n",
       "    }\n",
       "\n",
       "    .dataframe thead th {\n",
       "        text-align: right;\n",
       "    }\n",
       "</style>\n",
       "<table border=\"1\" class=\"dataframe\">\n",
       "  <thead>\n",
       "    <tr style=\"text-align: right;\">\n",
       "      <th></th>\n",
       "      <th>REF</th>\n",
       "      <th>Review Date</th>\n",
       "      <th>Cocoa Percent</th>\n",
       "      <th>Rating</th>\n",
       "      <th>Broad Bean Origin</th>\n",
       "      <th>Chocolate Type</th>\n",
       "      <th>Continent</th>\n",
       "    </tr>\n",
       "  </thead>\n",
       "  <tbody>\n",
       "    <tr>\n",
       "      <th>227</th>\n",
       "      <td>629</td>\n",
       "      <td>2011</td>\n",
       "      <td>0.75</td>\n",
       "      <td>3.5</td>\n",
       "      <td>Other</td>\n",
       "      <td>dark</td>\n",
       "      <td>europe</td>\n",
       "    </tr>\n",
       "  </tbody>\n",
       "</table>\n",
       "</div>"
      ],
      "text/plain": [
       "     REF  Review Date  Cocoa Percent  Rating Broad Bean Origin Chocolate Type  \\\n",
       "227  629         2011           0.75     3.5             Other           dark   \n",
       "\n",
       "    Continent  \n",
       "227    europe  "
      ]
     },
     "execution_count": 40,
     "metadata": {},
     "output_type": "execute_result"
    }
   ],
   "source": [
    "df.sample()"
   ]
  },
  {
   "cell_type": "code",
   "execution_count": 41,
   "id": "short-scroll",
   "metadata": {
    "execution": {
     "iopub.execute_input": "2021-08-03T20:52:46.632493Z",
     "iopub.status.busy": "2021-08-03T20:52:46.631327Z",
     "iopub.status.idle": "2021-08-03T20:52:46.640181Z",
     "shell.execute_reply": "2021-08-03T20:52:46.640850Z",
     "shell.execute_reply.started": "2021-07-14T09:13:28.093777Z"
    },
    "papermill": {
     "duration": 0.09715,
     "end_time": "2021-08-03T20:52:46.641011",
     "exception": false,
     "start_time": "2021-08-03T20:52:46.543861",
     "status": "completed"
    },
    "tags": []
   },
   "outputs": [
    {
     "data": {
      "text/plain": [
       "north america    936\n",
       "europe           564\n",
       "south america    152\n",
       "oceania           70\n",
       "asia              48\n",
       "africa            25\n",
       "Name: Continent, dtype: int64"
      ]
     },
     "execution_count": 41,
     "metadata": {},
     "output_type": "execute_result"
    }
   ],
   "source": [
    "df['Continent'].value_counts()"
   ]
  },
  {
   "cell_type": "code",
   "execution_count": 42,
   "id": "suitable-metallic",
   "metadata": {
    "execution": {
     "iopub.execute_input": "2021-08-03T20:52:46.812381Z",
     "iopub.status.busy": "2021-08-03T20:52:46.811291Z",
     "iopub.status.idle": "2021-08-03T20:52:46.826748Z",
     "shell.execute_reply": "2021-08-03T20:52:46.827322Z",
     "shell.execute_reply.started": "2021-07-14T09:13:28.102383Z"
    },
    "papermill": {
     "duration": 0.103004,
     "end_time": "2021-08-03T20:52:46.827487",
     "exception": false,
     "start_time": "2021-08-03T20:52:46.724483",
     "status": "completed"
    },
    "tags": []
   },
   "outputs": [
    {
     "name": "stdout",
     "output_type": "stream",
     "text": [
      "<class 'pandas.core.frame.DataFrame'>\n",
      "RangeIndex: 1795 entries, 0 to 1794\n",
      "Data columns (total 7 columns):\n",
      " #   Column             Non-Null Count  Dtype  \n",
      "---  ------             --------------  -----  \n",
      " 0   REF                1795 non-null   int64  \n",
      " 1   Review Date        1795 non-null   int64  \n",
      " 2   Cocoa Percent      1795 non-null   float64\n",
      " 3   Rating             1795 non-null   float64\n",
      " 4   Broad Bean Origin  1795 non-null   object \n",
      " 5   Chocolate Type     1795 non-null   object \n",
      " 6   Continent          1795 non-null   object \n",
      "dtypes: float64(2), int64(2), object(3)\n",
      "memory usage: 98.3+ KB\n"
     ]
    }
   ],
   "source": [
    "df.info()"
   ]
  },
  {
   "cell_type": "markdown",
   "id": "responsible-needle",
   "metadata": {
    "papermill": {
     "duration": 0.083883,
     "end_time": "2021-08-03T20:52:46.996025",
     "exception": false,
     "start_time": "2021-08-03T20:52:46.912142",
     "status": "completed"
    },
    "tags": []
   },
   "source": [
    "Now, let's drop the `REF` column as it is of no use to us."
   ]
  },
  {
   "cell_type": "code",
   "execution_count": 43,
   "id": "descending-right",
   "metadata": {
    "execution": {
     "iopub.execute_input": "2021-08-03T20:52:47.166312Z",
     "iopub.status.busy": "2021-08-03T20:52:47.165230Z",
     "iopub.status.idle": "2021-08-03T20:52:47.171630Z",
     "shell.execute_reply": "2021-08-03T20:52:47.171075Z",
     "shell.execute_reply.started": "2021-07-14T09:13:28.124342Z"
    },
    "papermill": {
     "duration": 0.092914,
     "end_time": "2021-08-03T20:52:47.171819",
     "exception": false,
     "start_time": "2021-08-03T20:52:47.078905",
     "status": "completed"
    },
    "tags": []
   },
   "outputs": [],
   "source": [
    "df.drop(['REF'], axis=1, inplace=True)"
   ]
  },
  {
   "cell_type": "code",
   "execution_count": 44,
   "id": "proof-monthly",
   "metadata": {
    "execution": {
     "iopub.execute_input": "2021-08-03T20:52:47.347348Z",
     "iopub.status.busy": "2021-08-03T20:52:47.346406Z",
     "iopub.status.idle": "2021-08-03T20:52:47.350250Z",
     "shell.execute_reply": "2021-08-03T20:52:47.350858Z",
     "shell.execute_reply.started": "2021-07-14T09:13:31.883652Z"
    },
    "papermill": {
     "duration": 0.098268,
     "end_time": "2021-08-03T20:52:47.351026",
     "exception": false,
     "start_time": "2021-08-03T20:52:47.252758",
     "status": "completed"
    },
    "tags": []
   },
   "outputs": [
    {
     "data": {
      "text/html": [
       "<div>\n",
       "<style scoped>\n",
       "    .dataframe tbody tr th:only-of-type {\n",
       "        vertical-align: middle;\n",
       "    }\n",
       "\n",
       "    .dataframe tbody tr th {\n",
       "        vertical-align: top;\n",
       "    }\n",
       "\n",
       "    .dataframe thead th {\n",
       "        text-align: right;\n",
       "    }\n",
       "</style>\n",
       "<table border=\"1\" class=\"dataframe\">\n",
       "  <thead>\n",
       "    <tr style=\"text-align: right;\">\n",
       "      <th></th>\n",
       "      <th>Review Date</th>\n",
       "      <th>Cocoa Percent</th>\n",
       "      <th>Rating</th>\n",
       "      <th>Broad Bean Origin</th>\n",
       "      <th>Chocolate Type</th>\n",
       "      <th>Continent</th>\n",
       "    </tr>\n",
       "  </thead>\n",
       "  <tbody>\n",
       "    <tr>\n",
       "      <th>989</th>\n",
       "      <td>2010</td>\n",
       "      <td>0.55</td>\n",
       "      <td>2.25</td>\n",
       "      <td>Peru</td>\n",
       "      <td>normal</td>\n",
       "      <td>south america</td>\n",
       "    </tr>\n",
       "  </tbody>\n",
       "</table>\n",
       "</div>"
      ],
      "text/plain": [
       "     Review Date  Cocoa Percent  Rating Broad Bean Origin Chocolate Type  \\\n",
       "989         2010           0.55    2.25              Peru         normal   \n",
       "\n",
       "         Continent  \n",
       "989  south america  "
      ]
     },
     "execution_count": 44,
     "metadata": {},
     "output_type": "execute_result"
    }
   ],
   "source": [
    "df.sample()"
   ]
  },
  {
   "cell_type": "markdown",
   "id": "multiple-scale",
   "metadata": {
    "papermill": {
     "duration": 0.081095,
     "end_time": "2021-08-03T20:52:47.513855",
     "exception": false,
     "start_time": "2021-08-03T20:52:47.432760",
     "status": "completed"
    },
    "tags": []
   },
   "source": [
    "Now let's convert the data type of the string columns into categorical data type."
   ]
  },
  {
   "cell_type": "code",
   "execution_count": 45,
   "id": "continent-scholarship",
   "metadata": {
    "execution": {
     "iopub.execute_input": "2021-08-03T20:52:47.683080Z",
     "iopub.status.busy": "2021-08-03T20:52:47.682010Z",
     "iopub.status.idle": "2021-08-03T20:52:47.690648Z",
     "shell.execute_reply": "2021-08-03T20:52:47.691226Z",
     "shell.execute_reply.started": "2021-07-14T09:14:13.635596Z"
    },
    "papermill": {
     "duration": 0.09445,
     "end_time": "2021-08-03T20:52:47.691392",
     "exception": false,
     "start_time": "2021-08-03T20:52:47.596942",
     "status": "completed"
    },
    "tags": []
   },
   "outputs": [],
   "source": [
    "df['Continent'] = pd.Categorical(df['Continent'])\n",
    "df['Broad Bean Origin'] = pd.Categorical(df['Broad Bean Origin'])\n",
    "df['Chocolate Type'] = pd.Categorical(df['Chocolate Type'])"
   ]
  },
  {
   "cell_type": "code",
   "execution_count": 46,
   "id": "automotive-topic",
   "metadata": {
    "execution": {
     "iopub.execute_input": "2021-08-03T20:52:47.864032Z",
     "iopub.status.busy": "2021-08-03T20:52:47.862882Z",
     "iopub.status.idle": "2021-08-03T20:52:47.885163Z",
     "shell.execute_reply": "2021-08-03T20:52:47.884579Z",
     "shell.execute_reply.started": "2021-07-14T09:14:14.362663Z"
    },
    "papermill": {
     "duration": 0.109651,
     "end_time": "2021-08-03T20:52:47.885310",
     "exception": false,
     "start_time": "2021-08-03T20:52:47.775659",
     "status": "completed"
    },
    "tags": []
   },
   "outputs": [
    {
     "name": "stdout",
     "output_type": "stream",
     "text": [
      "<class 'pandas.core.frame.DataFrame'>\n",
      "RangeIndex: 1795 entries, 0 to 1794\n",
      "Data columns (total 6 columns):\n",
      " #   Column             Non-Null Count  Dtype   \n",
      "---  ------             --------------  -----   \n",
      " 0   Review Date        1795 non-null   int64   \n",
      " 1   Cocoa Percent      1795 non-null   float64 \n",
      " 2   Rating             1795 non-null   float64 \n",
      " 3   Broad Bean Origin  1795 non-null   category\n",
      " 4   Chocolate Type     1795 non-null   category\n",
      " 5   Continent          1795 non-null   category\n",
      "dtypes: category(3), float64(2), int64(1)\n",
      "memory usage: 48.5 KB\n"
     ]
    }
   ],
   "source": [
    "df.info()"
   ]
  },
  {
   "cell_type": "markdown",
   "id": "corrected-strategy",
   "metadata": {
    "papermill": {
     "duration": 0.087262,
     "end_time": "2021-08-03T20:52:48.059143",
     "exception": false,
     "start_time": "2021-08-03T20:52:47.971881",
     "status": "completed"
    },
    "tags": []
   },
   "source": [
    "# EDA\n",
    "Types of chocolates reviewed"
   ]
  },
  {
   "cell_type": "code",
   "execution_count": 47,
   "id": "confirmed-wales",
   "metadata": {
    "execution": {
     "iopub.execute_input": "2021-08-03T20:52:48.253732Z",
     "iopub.status.busy": "2021-08-03T20:52:48.237225Z",
     "iopub.status.idle": "2021-08-03T20:52:48.403980Z",
     "shell.execute_reply": "2021-08-03T20:52:48.403237Z",
     "shell.execute_reply.started": "2021-07-14T09:14:17.284457Z"
    },
    "papermill": {
     "duration": 0.259209,
     "end_time": "2021-08-03T20:52:48.404213",
     "exception": false,
     "start_time": "2021-08-03T20:52:48.145004",
     "status": "completed"
    },
    "tags": []
   },
   "outputs": [
    {
     "data": {
      "text/plain": [
       "<AxesSubplot:xlabel='Chocolate Type', ylabel='count'>"
      ]
     },
     "execution_count": 47,
     "metadata": {},
     "output_type": "execute_result"
    },
    {
     "data": {
      "image/png": "[encoded data removed]",
      "text/plain": [
       "<Figure size 432x288 with 1 Axes>"
      ]
     },
     "metadata": {
      "needs_background": "light"
     },
     "output_type": "display_data"
    }
   ],
   "source": [
    "sns.countplot(x='Chocolate Type', data=df)"
   ]
  },
  {
   "cell_type": "markdown",
   "id": "first-pension",
   "metadata": {
    "papermill": {
     "duration": 0.083241,
     "end_time": "2021-08-03T20:52:48.570852",
     "exception": false,
     "start_time": "2021-08-03T20:52:48.487611",
     "status": "completed"
    },
    "tags": []
   },
   "source": [
    "We can see that a lot more dark chocolates are reviewed."
   ]
  },
  {
   "cell_type": "markdown",
   "id": "olympic-positive",
   "metadata": {
    "papermill": {
     "duration": 0.083118,
     "end_time": "2021-08-03T20:52:48.739074",
     "exception": false,
     "start_time": "2021-08-03T20:52:48.655956",
     "status": "completed"
    },
    "tags": []
   },
   "source": [
    "*Maybe other types aren't really chocolates... just saying :)*"
   ]
  },
  {
   "cell_type": "code",
   "execution_count": 48,
   "id": "american-survival",
   "metadata": {
    "execution": {
     "iopub.execute_input": "2021-08-03T20:52:48.926347Z",
     "iopub.status.busy": "2021-08-03T20:52:48.916428Z",
     "iopub.status.idle": "2021-08-03T20:52:50.503304Z",
     "shell.execute_reply": "2021-08-03T20:52:50.502600Z",
     "shell.execute_reply.started": "2021-07-14T09:14:19.612479Z"
    },
    "papermill": {
     "duration": 1.679154,
     "end_time": "2021-08-03T20:52:50.503455",
     "exception": false,
     "start_time": "2021-08-03T20:52:48.824301",
     "status": "completed"
    },
    "tags": []
   },
   "outputs": [
    {
     "data": {
      "text/plain": [
       "<AxesSubplot:xlabel='Cocoa Percent', ylabel='Rating'>"
      ]
     },
     "execution_count": 48,
     "metadata": {},
     "output_type": "execute_result"
    },
    {
     "data": {
      "image/png": "[encoded data removed]",
      "text/plain": [
       "<Figure size 1080x576 with 1 Axes>"
      ]
     },
     "metadata": {
      "needs_background": "light"
     },
     "output_type": "display_data"
    }
   ],
   "source": [
    "plt.figure(figsize=(15,8))\n",
    "sns.lineplot(x='Cocoa Percent', y='Rating', data=df)"
   ]
  },
  {
   "cell_type": "markdown",
   "id": "varying-coach",
   "metadata": {
    "papermill": {
     "duration": 0.087813,
     "end_time": "2021-08-03T20:52:50.678351",
     "exception": false,
     "start_time": "2021-08-03T20:52:50.590538",
     "status": "completed"
    },
    "tags": []
   },
   "source": [
    "According to this plot, we can see majority of the people do not like the extreme types of chocolate (i.e. too dark or too light). The *sweet spot* is around 60%-70%. "
   ]
  },
  {
   "cell_type": "markdown",
   "id": "hazardous-lingerie",
   "metadata": {
    "papermill": {
     "duration": 0.085933,
     "end_time": "2021-08-03T20:52:50.850180",
     "exception": false,
     "start_time": "2021-08-03T20:52:50.764247",
     "status": "completed"
    },
    "tags": []
   },
   "source": [
    "*You see what I did there... **Sweet spot**... hehe*"
   ]
  },
  {
   "cell_type": "code",
   "execution_count": 49,
   "id": "dedicated-tokyo",
   "metadata": {
    "execution": {
     "iopub.execute_input": "2021-08-03T20:52:51.031645Z",
     "iopub.status.busy": "2021-08-03T20:52:51.030929Z",
     "iopub.status.idle": "2021-08-03T20:52:51.880360Z",
     "shell.execute_reply": "2021-08-03T20:52:51.880970Z",
     "shell.execute_reply.started": "2021-07-14T09:14:22.264366Z"
    },
    "papermill": {
     "duration": 0.944345,
     "end_time": "2021-08-03T20:52:51.881152",
     "exception": false,
     "start_time": "2021-08-03T20:52:50.936807",
     "status": "completed"
    },
    "tags": []
   },
   "outputs": [
    {
     "data": {
      "image/png": "[encoded data removed]",
      "text/plain": [
       "<Figure size 439.125x360 with 1 Axes>"
      ]
     },
     "metadata": {
      "needs_background": "light"
     },
     "output_type": "display_data"
    }
   ],
   "source": [
    "sns.relplot(x=\"Review Date\", y=\"Rating\", size=\"Cocoa Percent\", sizes=(15, 200), data=df);"
   ]
  },
  {
   "cell_type": "markdown",
   "id": "social-imperial",
   "metadata": {
    "papermill": {
     "duration": 0.08723,
     "end_time": "2021-08-03T20:52:52.055239",
     "exception": false,
     "start_time": "2021-08-03T20:52:51.968009",
     "status": "completed"
    },
    "tags": []
   },
   "source": [
    "Here we can see people don't like very dark chocolates :/"
   ]
  },
  {
   "cell_type": "markdown",
   "id": "hungarian-confidentiality",
   "metadata": {
    "papermill": {
     "duration": 0.125378,
     "end_time": "2021-08-03T20:52:52.271447",
     "exception": false,
     "start_time": "2021-08-03T20:52:52.146069",
     "status": "completed"
    },
    "tags": []
   },
   "source": [
    "The heavier dots are the bottom of the rating chart for almost all of the years"
   ]
  },
  {
   "cell_type": "code",
   "execution_count": 50,
   "id": "outdoor-pepper",
   "metadata": {
    "execution": {
     "iopub.execute_input": "2021-08-03T20:52:52.451837Z",
     "iopub.status.busy": "2021-08-03T20:52:52.450771Z",
     "iopub.status.idle": "2021-08-03T20:52:53.791583Z",
     "shell.execute_reply": "2021-08-03T20:52:53.790626Z",
     "shell.execute_reply.started": "2021-07-14T09:14:24.432618Z"
    },
    "papermill": {
     "duration": 1.432059,
     "end_time": "2021-08-03T20:52:53.791796",
     "exception": false,
     "start_time": "2021-08-03T20:52:52.359737",
     "status": "completed"
    },
    "tags": []
   },
   "outputs": [
    {
     "data": {
      "image/png": "[encoded data removed]",
      "text/plain": [
       "<Figure size 443.625x360 with 1 Axes>"
      ]
     },
     "metadata": {
      "needs_background": "light"
     },
     "output_type": "display_data"
    }
   ],
   "source": [
    "sns.relplot(x=\"Review Date\", y=\"Rating\", hue=\"Chocolate Type\", kind=\"line\", data=df);"
   ]
  },
  {
   "cell_type": "markdown",
   "id": "proud-twist",
   "metadata": {
    "papermill": {
     "duration": 0.08882,
     "end_time": "2021-08-03T20:52:53.970539",
     "exception": false,
     "start_time": "2021-08-03T20:52:53.881719",
     "status": "completed"
    },
    "tags": []
   },
   "source": [
    "Here we can see, the liking for dark chocolates have increased over the years whereas for the other, it's the same."
   ]
  },
  {
   "cell_type": "code",
   "execution_count": 51,
   "id": "revised-watts",
   "metadata": {
    "execution": {
     "iopub.execute_input": "2021-08-03T20:52:54.153185Z",
     "iopub.status.busy": "2021-08-03T20:52:54.152112Z",
     "iopub.status.idle": "2021-08-03T20:52:54.309943Z",
     "shell.execute_reply": "2021-08-03T20:52:54.309336Z",
     "shell.execute_reply.started": "2021-07-14T09:14:26.141263Z"
    },
    "papermill": {
     "duration": 0.249823,
     "end_time": "2021-08-03T20:52:54.310100",
     "exception": false,
     "start_time": "2021-08-03T20:52:54.060277",
     "status": "completed"
    },
    "tags": []
   },
   "outputs": [
    {
     "data": {
      "text/plain": [
       "<AxesSubplot:xlabel='Continent', ylabel='count'>"
      ]
     },
     "execution_count": 51,
     "metadata": {},
     "output_type": "execute_result"
    },
    {
     "data": {
      "image/png": "[encoded data removed]",
      "text/plain": [
       "<Figure size 432x288 with 1 Axes>"
      ]
     },
     "metadata": {
      "needs_background": "light"
     },
     "output_type": "display_data"
    }
   ],
   "source": [
    "sns.countplot(x='Continent', data=df)"
   ]
  },
  {
   "cell_type": "markdown",
   "id": "congressional-massage",
   "metadata": {
    "papermill": {
     "duration": 0.090741,
     "end_time": "2021-08-03T20:52:54.491894",
     "exception": false,
     "start_time": "2021-08-03T20:52:54.401153",
     "status": "completed"
    },
    "tags": []
   },
   "source": [
    "If we see this graph, we can make out that this dataset is not very diversed and could be biased towards the European's and the North American's likings."
   ]
  },
  {
   "cell_type": "code",
   "execution_count": 52,
   "id": "amazing-production",
   "metadata": {
    "execution": {
     "iopub.execute_input": "2021-08-03T20:52:54.681237Z",
     "iopub.status.busy": "2021-08-03T20:52:54.680124Z",
     "iopub.status.idle": "2021-08-03T20:52:54.955169Z",
     "shell.execute_reply": "2021-08-03T20:52:54.955742Z",
     "shell.execute_reply.started": "2021-07-14T09:14:27.189422Z"
    },
    "papermill": {
     "duration": 0.373678,
     "end_time": "2021-08-03T20:52:54.955932",
     "exception": false,
     "start_time": "2021-08-03T20:52:54.582254",
     "status": "completed"
    },
    "tags": []
   },
   "outputs": [
    {
     "data": {
      "text/plain": [
       "<AxesSubplot:xlabel='Broad Bean Origin', ylabel='count'>"
      ]
     },
     "execution_count": 52,
     "metadata": {},
     "output_type": "execute_result"
    },
    {
     "data": {
      "image/png": "[encoded data removed]",
      "text/plain": [
       "<Figure size 1440x576 with 1 Axes>"
      ]
     },
     "metadata": {
      "needs_background": "light"
     },
     "output_type": "display_data"
    }
   ],
   "source": [
    "plt.figure(figsize=(20,8))\n",
    "sns.countplot(x='Broad Bean Origin', data=df)"
   ]
  },
  {
   "cell_type": "markdown",
   "id": "vertical-partnership",
   "metadata": {
    "papermill": {
     "duration": 0.090492,
     "end_time": "2021-08-03T20:52:55.137091",
     "exception": false,
     "start_time": "2021-08-03T20:52:55.046599",
     "status": "completed"
    },
    "tags": []
   },
   "source": [
    "If we exclude others, we can see that most of the `Broad Bean Origin` is in *Venezuela*."
   ]
  },
  {
   "cell_type": "code",
   "execution_count": 53,
   "id": "another-manner",
   "metadata": {
    "execution": {
     "iopub.execute_input": "2021-08-03T20:52:55.324401Z",
     "iopub.status.busy": "2021-08-03T20:52:55.323326Z",
     "iopub.status.idle": "2021-08-03T20:52:56.250184Z",
     "shell.execute_reply": "2021-08-03T20:52:56.250742Z",
     "shell.execute_reply.started": "2021-07-14T09:14:28.422024Z"
    },
    "papermill": {
     "duration": 1.021776,
     "end_time": "2021-08-03T20:52:56.250922",
     "exception": false,
     "start_time": "2021-08-03T20:52:55.229146",
     "status": "completed"
    },
    "tags": []
   },
   "outputs": [
    {
     "data": {
      "text/plain": [
       "<AxesSubplot:xlabel='Broad Bean Origin', ylabel='Rating'>"
      ]
     },
     "execution_count": 53,
     "metadata": {},
     "output_type": "execute_result"
    },
    {
     "data": {
      "image/png": "[encoded data removed]",
      "text/plain": [
       "<Figure size 1440x576 with 1 Axes>"
      ]
     },
     "metadata": {
      "needs_background": "light"
     },
     "output_type": "display_data"
    }
   ],
   "source": [
    "plt.figure(figsize=(20,8))\n",
    "sns.lineplot(y='Rating', x='Broad Bean Origin', data=df)"
   ]
  },
  {
   "cell_type": "markdown",
   "id": "sound-workshop",
   "metadata": {
    "papermill": {
     "duration": 0.094523,
     "end_time": "2021-08-03T20:52:56.439912",
     "exception": false,
     "start_time": "2021-08-03T20:52:56.345389",
     "status": "completed"
    },
    "tags": []
   },
   "source": [
    "In this plot we can see that beans from all of the origins are more or less equally liked."
   ]
  },
  {
   "cell_type": "code",
   "execution_count": 54,
   "id": "tender-audience",
   "metadata": {
    "execution": {
     "iopub.execute_input": "2021-08-03T20:52:56.637855Z",
     "iopub.status.busy": "2021-08-03T20:52:56.636895Z",
     "iopub.status.idle": "2021-08-03T20:52:56.641611Z",
     "shell.execute_reply": "2021-08-03T20:52:56.641049Z",
     "shell.execute_reply.started": "2021-07-14T09:14:30.082136Z"
    },
    "papermill": {
     "duration": 0.108982,
     "end_time": "2021-08-03T20:52:56.641789",
     "exception": false,
     "start_time": "2021-08-03T20:52:56.532807",
     "status": "completed"
    },
    "tags": []
   },
   "outputs": [
    {
     "data": {
      "text/plain": [
       "Index(['Broad Bean Origin', 'Chocolate Type', 'Continent'], dtype='object')"
      ]
     },
     "execution_count": 54,
     "metadata": {},
     "output_type": "execute_result"
    }
   ],
   "source": [
    "cat_columns = df.select_dtypes(['category']).columns\n",
    "cat_columns"
   ]
  },
  {
   "cell_type": "code",
   "execution_count": 55,
   "id": "smoking-wheel",
   "metadata": {
    "execution": {
     "iopub.execute_input": "2021-08-03T20:52:56.849433Z",
     "iopub.status.busy": "2021-08-03T20:52:56.848724Z",
     "iopub.status.idle": "2021-08-03T20:52:56.853104Z",
     "shell.execute_reply": "2021-08-03T20:52:56.852425Z",
     "shell.execute_reply.started": "2021-07-14T09:14:30.585966Z"
    },
    "papermill": {
     "duration": 0.116583,
     "end_time": "2021-08-03T20:52:56.853261",
     "exception": false,
     "start_time": "2021-08-03T20:52:56.736678",
     "status": "completed"
    },
    "tags": []
   },
   "outputs": [
    {
     "data": {
      "text/html": [
       "<div>\n",
       "<style scoped>\n",
       "    .dataframe tbody tr th:only-of-type {\n",
       "        vertical-align: middle;\n",
       "    }\n",
       "\n",
       "    .dataframe tbody tr th {\n",
       "        vertical-align: top;\n",
       "    }\n",
       "\n",
       "    .dataframe thead th {\n",
       "        text-align: right;\n",
       "    }\n",
       "</style>\n",
       "<table border=\"1\" class=\"dataframe\">\n",
       "  <thead>\n",
       "    <tr style=\"text-align: right;\">\n",
       "      <th></th>\n",
       "      <th>Review Date</th>\n",
       "      <th>Cocoa Percent</th>\n",
       "      <th>Rating</th>\n",
       "      <th>Broad Bean Origin</th>\n",
       "      <th>Chocolate Type</th>\n",
       "      <th>Continent</th>\n",
       "    </tr>\n",
       "  </thead>\n",
       "  <tbody>\n",
       "    <tr>\n",
       "      <th>540</th>\n",
       "      <td>2013</td>\n",
       "      <td>0.76</td>\n",
       "      <td>3.50</td>\n",
       "      <td>6</td>\n",
       "      <td>0</td>\n",
       "      <td>3</td>\n",
       "    </tr>\n",
       "    <tr>\n",
       "      <th>1230</th>\n",
       "      <td>2014</td>\n",
       "      <td>0.68</td>\n",
       "      <td>2.75</td>\n",
       "      <td>10</td>\n",
       "      <td>1</td>\n",
       "      <td>2</td>\n",
       "    </tr>\n",
       "    <tr>\n",
       "      <th>888</th>\n",
       "      <td>2009</td>\n",
       "      <td>0.65</td>\n",
       "      <td>3.75</td>\n",
       "      <td>9</td>\n",
       "      <td>1</td>\n",
       "      <td>2</td>\n",
       "    </tr>\n",
       "    <tr>\n",
       "      <th>1666</th>\n",
       "      <td>2011</td>\n",
       "      <td>0.74</td>\n",
       "      <td>3.00</td>\n",
       "      <td>5</td>\n",
       "      <td>0</td>\n",
       "      <td>3</td>\n",
       "    </tr>\n",
       "    <tr>\n",
       "      <th>74</th>\n",
       "      <td>2015</td>\n",
       "      <td>0.68</td>\n",
       "      <td>3.50</td>\n",
       "      <td>11</td>\n",
       "      <td>1</td>\n",
       "      <td>3</td>\n",
       "    </tr>\n",
       "  </tbody>\n",
       "</table>\n",
       "</div>"
      ],
      "text/plain": [
       "      Review Date  Cocoa Percent  Rating  Broad Bean Origin  Chocolate Type  \\\n",
       "540          2013           0.76    3.50                  6               0   \n",
       "1230         2014           0.68    2.75                 10               1   \n",
       "888          2009           0.65    3.75                  9               1   \n",
       "1666         2011           0.74    3.00                  5               0   \n",
       "74           2015           0.68    3.50                 11               1   \n",
       "\n",
       "      Continent  \n",
       "540           3  \n",
       "1230          2  \n",
       "888           2  \n",
       "1666          3  \n",
       "74            3  "
      ]
     },
     "execution_count": 55,
     "metadata": {},
     "output_type": "execute_result"
    }
   ],
   "source": [
    "df[cat_columns] = df[cat_columns].apply(lambda x: x.cat.codes)\n",
    "df.sample(5)"
   ]
  },
  {
   "cell_type": "code",
   "execution_count": 56,
   "id": "increasing-poultry",
   "metadata": {
    "execution": {
     "iopub.execute_input": "2021-08-03T20:52:57.050174Z",
     "iopub.status.busy": "2021-08-03T20:52:57.049456Z",
     "iopub.status.idle": "2021-08-03T20:52:57.590364Z",
     "shell.execute_reply": "2021-08-03T20:52:57.589821Z",
     "shell.execute_reply.started": "2021-07-14T09:14:31.703832Z"
    },
    "papermill": {
     "duration": 0.642234,
     "end_time": "2021-08-03T20:52:57.590518",
     "exception": false,
     "start_time": "2021-08-03T20:52:56.948284",
     "status": "completed"
    },
    "tags": []
   },
   "outputs": [
    {
     "data": {
      "text/plain": [
       "Text(0.5, 1.0, 'Correlation Map')"
      ]
     },
     "execution_count": 56,
     "metadata": {},
     "output_type": "execute_result"
    },
    {
     "data": {
      "image/png": "[encoded data removed]",
      "text/plain": [
       "<Figure size 720x720 with 2 Axes>"
      ]
     },
     "metadata": {
      "needs_background": "light"
     },
     "output_type": "display_data"
    }
   ],
   "source": [
    "plt.figure(figsize=(10,10))\n",
    "sns.heatmap(df.corr(), linewidths=0.1, vmax=1.0, square=True, cmap='coolwarm', linecolor='white', annot=True).set_title(\"Correlation Map\")"
   ]
  },
  {
   "cell_type": "markdown",
   "id": "tight-operations",
   "metadata": {
    "papermill": {
     "duration": 0.09606,
     "end_time": "2021-08-03T20:52:57.784013",
     "exception": false,
     "start_time": "2021-08-03T20:52:57.687953",
     "status": "completed"
    },
    "tags": []
   },
   "source": [
    "Consider upvoting :)"
   ]
  }
 ],
 "metadata": {
  "kernelspec": {
   "display_name": "Python 3",
   "language": "python",
   "name": "python3"
  },
  "language_info": {
   "codemirror_mode": {
    "name": "ipython",
    "version": 3
   },
   "file_extension": ".py",
   "mimetype": "text/x-python",
   "name": "python",
   "nbconvert_exporter": "python",
   "pygments_lexer": "ipython3",
   "version": "3.7.10"
  },
  "papermill": {
   "default_parameters": {},
   "duration": 31.814693,
   "end_time": "2021-08-03T20:52:58.489877",
   "environment_variables": {},
   "exception": null,
   "input_path": "__notebook__.ipynb",
   "output_path": "__notebook__.ipynb",
   "parameters": {},
   "start_time": "2021-08-03T20:52:26.675184",
   "version": "2.3.3"
  }
 },
 "nbformat": 4,
 "nbformat_minor": 5
}
