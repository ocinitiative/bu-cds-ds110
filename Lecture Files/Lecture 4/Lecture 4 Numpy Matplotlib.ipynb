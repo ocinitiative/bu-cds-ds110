{
 "cells": [
  {
   "cell_type": "markdown",
   "metadata": {
    "slideshow": {
     "slide_type": "slide"
    }
   },
   "source": [
    "# numpy and matplotlib"
   ]
  },
  {
   "cell_type": "markdown",
   "metadata": {
    "id": "AhSpbvMXkNM3",
    "slideshow": {
     "slide_type": "slide"
    }
   },
   "source": [
    "# Two major libraries:  numpy and matplotlib\n",
    "\n",
    "Today we'll introduce you to two of the most important libraries for data science.  Numpy stands for \"numerical python\" and contains many tools essential for working with data.  matplotlib is named after its goal of having plotting tools as nice as matlab's.  We'll demonstrate some of the most essential tools here."
   ]
  },
  {
   "cell_type": "markdown",
   "metadata": {
    "id": "0RImclJIlc5R",
    "slideshow": {
     "slide_type": "slide"
    }
   },
   "source": [
    "# Importing numpy and matplotlib\n",
    "\n",
    "While we could just write \"import numpy\" and \"import matplotlib,\" this would require us to type out \"numpy\" or \"matplotlib\" before every function call from these modules.  Instead, it's conventional to rename these modules or their libraries to conventional abbreviations, resulting in less typing.  The particular choice of abbreviation in each case helps with readability, since the name is a convention.  Thus:"
   ]
  },
  {
   "cell_type": "code",
   "execution_count": 3,
   "metadata": {
    "id": "LinuBXszmE-e"
   },
   "outputs": [],
   "source": [
    "import numpy as np\n",
    "import matplotlib.pyplot as plt"
   ]
  },
  {
   "cell_type": "markdown",
   "metadata": {
    "id": "0z6gOroQOVBK",
    "slideshow": {
     "slide_type": "fragment"
    }
   },
   "source": [
    "If we wanted just a particular function to import, we could write something like the following:"
   ]
  },
  {
   "cell_type": "code",
   "execution_count": 9,
   "metadata": {
    "id": "ueOhfegIOc3l",
    "slideshow": {
     "slide_type": "-"
    }
   },
   "outputs": [
    {
     "data": {
      "text/plain": [
       "4.0"
      ]
     },
     "execution_count": 9,
     "metadata": {},
     "output_type": "execute_result"
    }
   ],
   "source": [
    "from numpy import mean as avg\n",
    "avg([3,4,5])"
   ]
  },
  {
   "cell_type": "markdown",
   "metadata": {
    "id": "ULqWNNUIlPi4",
    "slideshow": {
     "slide_type": "slide"
    }
   },
   "source": [
    "# Numpy, vectors, and matrices\n",
    "\n",
    "Vectors and matrices could be just represented as lists and lists of lists, respectively - but lists are all-purpose, and that means they're not particularly optimized for numerical tasks.  So while numpy expects you to define your vector as a list and your matrix as a list-of-lists, it then also expects you to convert either one to an *array* for efficiency."
   ]
  },
  {
   "cell_type": "markdown",
   "metadata": {
    "slideshow": {
     "slide_type": "subslide"
    }
   },
   "source": [
    "Arrays are efficient because, under the hood, it's very easy to compute exactly where an item with a particular index is.  In a 2d 3x3 array of ints, for example, the data for element [1][1] is definitely 4 int-sized steps from the beginning of the array.  Lists-of-lists, on the other hand, could be more disorganized in memory, since they're not even required to have the same length of list each time."
   ]
  },
  {
   "cell_type": "markdown",
   "metadata": {
    "slideshow": {
     "slide_type": "subslide"
    }
   },
   "source": [
    "Here is how to create 1D and 2D numpy arrays."
   ]
  },
  {
   "cell_type": "code",
   "execution_count": 10,
   "metadata": {
    "id": "22FsaBslkJO2",
    "slideshow": {
     "slide_type": "-"
    }
   },
   "outputs": [],
   "source": [
    "v = np.array([1,2,3])\n",
    "A = np.array([[1,0,0],[0,2,0],[0,0,3]])"
   ]
  },
  {
   "cell_type": "markdown",
   "metadata": {
    "slideshow": {
     "slide_type": "slide"
    }
   },
   "source": [
    "One thing that arrays can do but lists can't is called broadcasting.  When a number is added to a vector, it's added to all the elements of the vector.  The same thing goes for multiplication, raising to a power, and some other mathematical operations - they're applied element by element to the whole array."
   ]
  },
  {
   "cell_type": "code",
   "execution_count": 13,
   "metadata": {},
   "outputs": [
    {
     "name": "stdout",
     "output_type": "stream",
     "text": [
      "[1 2 3]\n",
      "[2 3 4]\n",
      "[2 4 6]\n",
      "[1 4 9]\n",
      "[2 3 4]\n"
     ]
    }
   ],
   "source": [
    "print(v)\n",
    "print(v + 1)\n",
    "print(v * 2)\n",
    "print(v ** 2)\n",
    "v2 = np.array([1, 1, 1])\n",
    "print(v+v2)"
   ]
  },
  {
   "cell_type": "markdown",
   "metadata": {
    "id": "LH8ObwhkoPrv",
    "slideshow": {
     "slide_type": "slide"
    }
   },
   "source": [
    "Another operation that is common in data science that numpy makes easy is matrix multiplication.  Matrix multiplication gets its own operator in numpy, @.  Matrix A has an effect of multiplying the second element of a vector by 2 and the third element by 3, and that's what happens when we use matrix multiplication here."
   ]
  },
  {
   "cell_type": "code",
   "execution_count": 14,
   "metadata": {
    "colab": {
     "base_uri": "https://localhost:8080/"
    },
    "id": "XexuZ-NYoqeI",
    "outputId": "0a745b09-f0f6-4e41-85d4-f72385552f76",
    "slideshow": {
     "slide_type": "-"
    }
   },
   "outputs": [
    {
     "name": "stdout",
     "output_type": "stream",
     "text": [
      "[[1 0 0]\n",
      " [0 2 0]\n",
      " [0 0 3]]\n",
      "[1 2 3]\n"
     ]
    },
    {
     "data": {
      "text/plain": [
       "array([1, 4, 9])"
      ]
     },
     "execution_count": 14,
     "metadata": {},
     "output_type": "execute_result"
    }
   ],
   "source": [
    "print(A)\n",
    "print(v)\n",
    "A @ v"
   ]
  },
  {
   "cell_type": "markdown",
   "metadata": {
    "id": "Lr7tyWnnpB7O",
    "slideshow": {
     "slide_type": "slide"
    }
   },
   "source": [
    "Matrix-matrix multiplication is possible, too."
   ]
  },
  {
   "cell_type": "code",
   "execution_count": 15,
   "metadata": {
    "colab": {
     "base_uri": "https://localhost:8080/"
    },
    "id": "XwnUqL5go9Od",
    "outputId": "ecbb64fc-19cc-42d8-ef3b-49edc92137c9",
    "slideshow": {
     "slide_type": "-"
    }
   },
   "outputs": [
    {
     "data": {
      "text/plain": [
       "array([[1, 0, 0],\n",
       "       [0, 4, 0],\n",
       "       [0, 0, 9]])"
      ]
     },
     "execution_count": 15,
     "metadata": {},
     "output_type": "execute_result"
    }
   ],
   "source": [
    "A @ A"
   ]
  },
  {
   "cell_type": "markdown",
   "metadata": {
    "slideshow": {
     "slide_type": "slide"
    }
   },
   "source": [
    "It's very common to want to know the dimensions of an array of data - you may have just loaded the dataset without knowing how many rows of data are in it.  The shape attribute of an array (such as a matrix) is a tuple that tells you its dimensions.  (An attribute is like a function that takes no arguments, but tells you something about the object it's attached to.)"
   ]
  },
  {
   "cell_type": "code",
   "execution_count": 16,
   "metadata": {},
   "outputs": [
    {
     "name": "stdout",
     "output_type": "stream",
     "text": [
      "(3, 3)\n",
      "(3,)\n"
     ]
    }
   ],
   "source": [
    "print(A.shape)\n",
    "print(v.shape)"
   ]
  },
  {
   "cell_type": "markdown",
   "metadata": {
    "id": "epYArlRZpqmL",
    "slideshow": {
     "slide_type": "slide"
    }
   },
   "source": [
    "# Slicing\n",
    "\n",
    "One very convenient thing that you can do with numpy arrays (which you can also do with lists and strings) is \"slicing,\" or grabbing values between particular indices.  The syntax for a 1D array is my_array[first_included_index:first_excluded_index], so the second index isn't in the result."
   ]
  },
  {
   "cell_type": "code",
   "execution_count": 17,
   "metadata": {
    "colab": {
     "base_uri": "https://localhost:8080/"
    },
    "id": "rSxYYddquY51",
    "outputId": "1a133a3c-d3be-4b1b-f8c7-e103074600b8",
    "slideshow": {
     "slide_type": "-"
    }
   },
   "outputs": [
    {
     "name": "stdout",
     "output_type": "stream",
     "text": [
      "[6 7]\n"
     ]
    }
   ],
   "source": [
    "my_array = np.array([8, 6, 7, 5, 3, 0])\n",
    "print(my_array[1:3]) # prints index 1 and 2, not 3"
   ]
  },
  {
   "cell_type": "markdown",
   "metadata": {
    "id": "zSLrH-xeurVr",
    "slideshow": {
     "slide_type": "subslide"
    }
   },
   "source": [
    "Leaving off the second number means all the rest of the indices will be included.  Leaving off the first means all elements before the index after the colon will be included."
   ]
  },
  {
   "cell_type": "code",
   "execution_count": 18,
   "metadata": {
    "colab": {
     "base_uri": "https://localhost:8080/"
    },
    "id": "yhpBoMEgu9oq",
    "outputId": "7bfa1a29-21e7-48f1-90be-e7b165275751",
    "slideshow": {
     "slide_type": "-"
    }
   },
   "outputs": [
    {
     "data": {
      "text/plain": [
       "array([6, 7, 5, 3, 0])"
      ]
     },
     "execution_count": 18,
     "metadata": {},
     "output_type": "execute_result"
    }
   ],
   "source": [
    "my_array = np.array([8, 6, 7, 5, 3, 0]) # Repeat for presentation\n",
    "my_array[1:]"
   ]
  },
  {
   "cell_type": "code",
   "execution_count": null,
   "metadata": {
    "colab": {
     "base_uri": "https://localhost:8080/"
    },
    "id": "oiZzX8O7vBHo",
    "outputId": "30738d89-dc53-4f97-c968-206057c1779d",
    "slideshow": {
     "slide_type": "-"
    }
   },
   "outputs": [],
   "source": [
    "my_array [:3]"
   ]
  },
  {
   "cell_type": "markdown",
   "metadata": {
    "id": "uGkjiCT7vHef",
    "slideshow": {
     "slide_type": "slide"
    }
   },
   "source": [
    "This all works in a similar way for the 2D case.\n",
    "\n",
    "One detail is that the ranges are comma-separated.  (You might be tempted to use double-square-brackets if you thought of them as list-of-lists.)"
   ]
  },
  {
   "cell_type": "code",
   "execution_count": 19,
   "metadata": {
    "colab": {
     "base_uri": "https://localhost:8080/"
    },
    "id": "zB_zdMcnvNot",
    "outputId": "23fa10f3-e1a2-45c9-9a9c-89c90ff414cc",
    "slideshow": {
     "slide_type": "-"
    }
   },
   "outputs": [
    {
     "name": "stdout",
     "output_type": "stream",
     "text": [
      "[[5 6]\n",
      " [8 9]]\n"
     ]
    }
   ],
   "source": [
    "my_matrix = np.array([[1,2,3],[4,5,6],[7,8,9]])\n",
    "two_by_two_square = my_matrix[1:,1:]\n",
    "print(two_by_two_square)"
   ]
  },
  {
   "cell_type": "markdown",
   "metadata": {
    "id": "09tFWGMyv-z8",
    "slideshow": {
     "slide_type": "subslide"
    }
   },
   "source": [
    "A colon alone refers to grabbing all rows or columns."
   ]
  },
  {
   "cell_type": "code",
   "execution_count": 22,
   "metadata": {
    "colab": {
     "base_uri": "https://localhost:8080/"
    },
    "id": "o2WDauuUwCf9",
    "outputId": "fa9da6a8-c6e5-4366-c219-7e7da2962205",
    "slideshow": {
     "slide_type": "-"
    }
   },
   "outputs": [
    {
     "name": "stdout",
     "output_type": "stream",
     "text": [
      "[[2 3]\n",
      " [5 6]\n",
      " [8 9]]\n",
      "[1, 2, 3]\n"
     ]
    }
   ],
   "source": [
    "no_first_column = my_matrix[:,1:]\n",
    "print(no_first_column)"
   ]
  },
  {
   "cell_type": "markdown",
   "metadata": {
    "id": "X9PfuVnewsDk",
    "slideshow": {
     "slide_type": "subslide"
    }
   },
   "source": [
    "Using slices is relatively common when dealing with datasets, because you may know that you only want the first 5 columns of data, for example; or you may want just the first 100 records to set aside for debugging."
   ]
  },
  {
   "cell_type": "markdown",
   "metadata": {
    "id": "x2djMILqwPIg",
    "slideshow": {
     "slide_type": "slide"
    }
   },
   "source": [
    "# Useful matrix construction numpy methods\n",
    "\n",
    "Two rather common things to need when dealing with matrices are a matrix that is all zeros, of a particular size, and a matrix of all ones, also of a particular size.  In both cases, the first argument is a tuple with the shape.  This has the somewhat odd effect of making these function calls have double parentheses."
   ]
  },
  {
   "cell_type": "code",
   "execution_count": 23,
   "metadata": {
    "colab": {
     "base_uri": "https://localhost:8080/"
    },
    "id": "3QqAeOuOxPGV",
    "outputId": "dce877cb-bc06-42fe-c5ef-098a198231c3",
    "slideshow": {
     "slide_type": "-"
    }
   },
   "outputs": [
    {
     "name": "stdout",
     "output_type": "stream",
     "text": [
      "[[0. 0. 0.]\n",
      " [0. 0. 0.]]\n"
     ]
    }
   ],
   "source": [
    "print(np.zeros((2,3))) # shape is a single argument, a pair tuple"
   ]
  },
  {
   "cell_type": "code",
   "execution_count": 24,
   "metadata": {
    "colab": {
     "base_uri": "https://localhost:8080/"
    },
    "id": "NmzbV3mOxZTN",
    "outputId": "b78732da-59b6-48a1-bedf-62d39cda6769",
    "slideshow": {
     "slide_type": "-"
    }
   },
   "outputs": [
    {
     "name": "stdout",
     "output_type": "stream",
     "text": [
      "[[1. 1. 1.]\n",
      " [1. 1. 1.]]\n"
     ]
    }
   ],
   "source": [
    "print(np.ones((2,3))) "
   ]
  },
  {
   "cell_type": "markdown",
   "metadata": {
    "id": "sEOhMdlIxkBQ",
    "slideshow": {
     "slide_type": "slide"
    }
   },
   "source": [
    "Other times, you need to glue two different matrices together.  np.concatenate() will do this gluing.  Its first argument is a tuple containing all the arrays to glue.  Its second argument determines the axis of gluing: 0 for stacking matrices on top of each other, 1 for gluing left to right.  It's 0 by default."
   ]
  },
  {
   "cell_type": "code",
   "execution_count": 4,
   "metadata": {
    "colab": {
     "base_uri": "https://localhost:8080/"
    },
    "id": "2KYELit3yZ63",
    "outputId": "b73a1ead-98c1-4904-fd71-6e5f418c06b5",
    "slideshow": {
     "slide_type": "-"
    }
   },
   "outputs": [
    {
     "data": {
      "text/plain": [
       "array([[0., 0., 0.],\n",
       "       [0., 0., 0.],\n",
       "       [1., 1., 1.]])"
      ]
     },
     "execution_count": 4,
     "metadata": {},
     "output_type": "execute_result"
    }
   ],
   "source": [
    "np.concatenate((np.zeros((2,3)),(np.ones((1,3)))))"
   ]
  },
  {
   "cell_type": "code",
   "execution_count": 5,
   "metadata": {
    "colab": {
     "base_uri": "https://localhost:8080/"
    },
    "id": "uh0ZHVzTyv2r",
    "outputId": "617c3fbb-3102-4abb-8fd3-f41f0ec7216d",
    "slideshow": {
     "slide_type": "-"
    }
   },
   "outputs": [
    {
     "data": {
      "text/plain": [
       "array([[0., 0., 0., 1.],\n",
       "       [0., 0., 0., 1.]])"
      ]
     },
     "execution_count": 5,
     "metadata": {},
     "output_type": "execute_result"
    }
   ],
   "source": [
    "np.concatenate((np.zeros((2,3)),(np.ones((2,1)))),1)"
   ]
  },
  {
   "cell_type": "markdown",
   "metadata": {
    "id": "PZYyxDuLy_Z-",
    "slideshow": {
     "slide_type": "slide"
    }
   },
   "source": [
    "Sometimes, you just want a matrix with a repeated structure.  np.tile() accomplishes this, taking the array to tile as a the first argument, and the second argument is a tuple indicating how many copies to make in each direction."
   ]
  },
  {
   "cell_type": "code",
   "execution_count": 6,
   "metadata": {
    "colab": {
     "base_uri": "https://localhost:8080/"
    },
    "id": "JViryLc9z5XY",
    "outputId": "1414a207-17f0-47bb-d3fd-1ab87ddc1b56",
    "slideshow": {
     "slide_type": "-"
    }
   },
   "outputs": [
    {
     "name": "stdout",
     "output_type": "stream",
     "text": [
      "[[0 1 2 0 1 2 0 1 2]\n",
      " [0 1 2 0 1 2 0 1 2]\n",
      " [0 1 2 0 1 2 0 1 2]]\n"
     ]
    }
   ],
   "source": [
    "B = np.tile(np.array([0, 1, 2]), (3,3))\n",
    "print(B)"
   ]
  },
  {
   "cell_type": "markdown",
   "metadata": {
    "id": "DlgVpI1g0ec6",
    "slideshow": {
     "slide_type": "slide"
    }
   },
   "source": [
    "There are many other numpy functions, and nobody is particularly expected to know all their names and signatures.  Googling \"numpy [description of desired function]\" is fairly common for even experienced programmers."
   ]
  },
  {
   "cell_type": "markdown",
   "metadata": {
    "id": "mNmqPole0QcS",
    "slideshow": {
     "slide_type": "slide"
    }
   },
   "source": [
    "# Matplotlib:  2D line and scatter plots\n",
    "\n",
    "Matplotlib's plt.plot() function has a great deal of functionality.  In its most basic form, it takes a list of n x coordinates and a list of y coordinates, and it plots lines connecting the implied points $(x_0,y_0),\\ldots,(x_{n-1},y_{n-1})$."
   ]
  },
  {
   "cell_type": "code",
   "execution_count": 7,
   "metadata": {},
   "outputs": [
    {
     "data": {
      "text/plain": [
       "[<matplotlib.lines.Line2D at 0x7ff47a081dc0>]"
      ]
     },
     "execution_count": 7,
     "metadata": {},
     "output_type": "execute_result"
    },
    {
     "data": {
      "image/png": "[encoded data removed]",
      "text/plain": [
       "<Figure size 432x288 with 1 Axes>"
      ]
     },
     "metadata": {
      "needs_background": "light"
     },
     "output_type": "display_data"
    }
   ],
   "source": [
    "x = [1, 2, 3]\n",
    "y = [1, 4, 9]\n",
    "plt.plot(x,y)"
   ]
  },
  {
   "cell_type": "markdown",
   "metadata": {
    "slideshow": {
     "slide_type": "slide"
    }
   },
   "source": [
    "If the points are represented as a list-of-lists, you may need to slice to grab the first column's x coordinates and the second column's y coordinates."
   ]
  },
  {
   "cell_type": "code",
   "execution_count": 8,
   "metadata": {
    "colab": {
     "base_uri": "https://localhost:8080/",
     "height": 283
    },
    "id": "M4lqP-IK1YI5",
    "outputId": "bd4d29cc-55c2-45e2-b20e-210ea758f6f1",
    "slideshow": {
     "slide_type": "-"
    }
   },
   "outputs": [
    {
     "name": "stdout",
     "output_type": "stream",
     "text": [
      "[[2 1]\n",
      " [3 4]\n",
      " [5 6]]\n"
     ]
    },
    {
     "data": {
      "text/plain": [
       "[<matplotlib.lines.Line2D at 0x7ff47a220ee0>]"
      ]
     },
     "execution_count": 8,
     "metadata": {},
     "output_type": "execute_result"
    },
    {
     "data": {
      "image/png": "[encoded data removed]",
      "text/plain": [
       "<Figure size 432x288 with 1 Axes>"
      ]
     },
     "metadata": {
      "needs_background": "light"
     },
     "output_type": "display_data"
    }
   ],
   "source": [
    "my_points = np.array([[2,1], [3,4], [5,6]]) # Each list is a point\n",
    "print(my_points)\n",
    "plt.plot(my_points[:,0], my_points[:,1])    # Slice to get x values separate from y values"
   ]
  },
  {
   "cell_type": "markdown",
   "metadata": {
    "id": "5CQL9Cxa2ict",
    "slideshow": {
     "slide_type": "slide"
    }
   },
   "source": [
    "A scatterplot is achievable with plt.plot() by just handing it an 'o' (lowercase o) as a third argument.  You can also hand it a color abbreviation as part of the same string to plot in a different color."
   ]
  },
  {
   "cell_type": "code",
   "execution_count": 9,
   "metadata": {
    "colab": {
     "base_uri": "https://localhost:8080/",
     "height": 283
    },
    "id": "QnNs7BN827Y6",
    "outputId": "01260826-52fb-4907-e319-41899a848165",
    "slideshow": {
     "slide_type": "-"
    }
   },
   "outputs": [
    {
     "data": {
      "text/plain": [
       "[<matplotlib.lines.Line2D at 0x7ff47a2abca0>]"
      ]
     },
     "execution_count": 9,
     "metadata": {},
     "output_type": "execute_result"
    },
    {
     "data": {
      "image/png": "[encoded data removed]",
      "text/plain": [
       "<Figure size 432x288 with 1 Axes>"
      ]
     },
     "metadata": {
      "needs_background": "light"
     },
     "output_type": "display_data"
    }
   ],
   "source": [
    "plt.plot(my_points[:,0], my_points[:,1],'ro') # 'r' is for red, 'o' is for circles"
   ]
  },
  {
   "cell_type": "markdown",
   "metadata": {
    "id": "tb4Uh6jb3HFG",
    "slideshow": {
     "slide_type": "slide"
    }
   },
   "source": [
    "If want to plot smooth lines for a curved function, we'd probably want to evaluate at a lot of points.  matplotlib connects them with straight lines, but if they're close together, we get an illusion of a smooth curve.\n",
    "\n",
    "np.linspace(begin,end,points) spaces *points* points evenly between *begin* and *end*.  If we pick a *points* value large enough, we can make a line graph that looks as though it curves."
   ]
  },
  {
   "cell_type": "code",
   "execution_count": 10,
   "metadata": {
    "colab": {
     "base_uri": "https://localhost:8080/",
     "height": 283
    },
    "id": "-eio5Hje3rPa",
    "outputId": "8749a99f-7e70-4600-bded-b5235c990966",
    "slideshow": {
     "slide_type": "slide"
    }
   },
   "outputs": [
    {
     "data": {
      "text/plain": [
       "[<matplotlib.lines.Line2D at 0x7ff47a32f910>]"
      ]
     },
     "execution_count": 10,
     "metadata": {},
     "output_type": "execute_result"
    },
    {
     "data": {
      "image/png": "[encoded data removed]",
      "text/plain": [
       "<Figure size 432x288 with 1 Axes>"
      ]
     },
     "metadata": {
      "needs_background": "light"
     },
     "output_type": "display_data"
    }
   ],
   "source": [
    "xpoints = np.linspace(0, 10,100)\n",
    "ypoints = xpoints ** 2 + 1\n",
    "plt.plot(xpoints,ypoints)"
   ]
  },
  {
   "cell_type": "markdown",
   "metadata": {
    "id": "sYu2J6r6D4_i",
    "slideshow": {
     "slide_type": "fragment"
    }
   },
   "source": [
    "You might notice something strange about this graph:  a graph of $x^2 + 1$ should show a much steeper increase. The axes aren't on the same scale."
   ]
  },
  {
   "cell_type": "markdown",
   "metadata": {
    "slideshow": {
     "slide_type": "slide"
    }
   },
   "source": [
    "Autoscaling to fit the box is the norm for plt.plot(), resulting in the less steep increase of $x^2$ in the previous example.  Let's try setting plt.autoscale(False) beforehand, along with better limits, to get a better sense of the data."
   ]
  },
  {
   "cell_type": "code",
   "execution_count": 11,
   "metadata": {
    "colab": {
     "base_uri": "https://localhost:8080/",
     "height": 285
    },
    "id": "bgny3KiJEkK8",
    "outputId": "79fd28ee-e04d-40eb-f376-1584a323583b",
    "slideshow": {
     "slide_type": "slide"
    }
   },
   "outputs": [
    {
     "data": {
      "text/plain": [
       "[<matplotlib.lines.Line2D at 0x7ff47a46c4f0>]"
      ]
     },
     "execution_count": 11,
     "metadata": {},
     "output_type": "execute_result"
    },
    {
     "data": {
      "image/png": "[encoded data removed]",
      "text/plain": [
       "<Figure size 432x288 with 1 Axes>"
      ]
     },
     "metadata": {
      "needs_background": "light"
     },
     "output_type": "display_data"
    }
   ],
   "source": [
    "plt.autoscale(False)\n",
    "plt.xlim(min(ypoints),max(ypoints))\n",
    "plt.ylim(min(ypoints),max(ypoints)) # Same limits to avoid stretch\n",
    "plt.plot(xpoints,ypoints)"
   ]
  },
  {
   "cell_type": "markdown",
   "metadata": {
    "id": "A-LsCFLCFWuu",
    "slideshow": {
     "slide_type": "slide"
    }
   },
   "source": [
    "You can plot multiple plots on top of each other, such as the raw scatter data as well as a fit, by just plotting in the same code box."
   ]
  },
  {
   "cell_type": "code",
   "execution_count": 12,
   "metadata": {
    "colab": {
     "base_uri": "https://localhost:8080/",
     "height": 283
    },
    "id": "VEm1t681Fpnj",
    "outputId": "6b9bc11a-ca2e-4ae3-a62c-3af472ff637a",
    "slideshow": {
     "slide_type": "-"
    }
   },
   "outputs": [
    {
     "data": {
      "text/plain": [
       "[<matplotlib.lines.Line2D at 0x7ff47a54a6d0>]"
      ]
     },
     "execution_count": 12,
     "metadata": {},
     "output_type": "execute_result"
    },
    {
     "data": {
      "image/png": "[encoded data removed]",
      "text/plain": [
       "<Figure size 432x288 with 1 Axes>"
      ]
     },
     "metadata": {
      "needs_background": "light"
     },
     "output_type": "display_data"
    }
   ],
   "source": [
    "plt.plot(my_points[:,0], my_points[:,1],'ro')\n",
    "myfit_x = np.linspace(1,5,100)\n",
    "myfit_y = np.linspace(1.5, 5.5, 100)\n",
    "plt.plot(myfit_x,myfit_y)"
   ]
  },
  {
   "cell_type": "markdown",
   "metadata": {
    "id": "IkMgH_jDGdWR",
    "slideshow": {
     "slide_type": "slide"
    }
   },
   "source": [
    "# 3D scatterplots and curves\n",
    "\n",
    "We can also make 3D plots with matplotlib.  This requires some boilerplate to set up a 3D drawing surface, followed by a scatter() call that is passed x, y, and z coordinates, similar to plt.plot().\n"
   ]
  },
  {
   "cell_type": "code",
   "execution_count": 13,
   "metadata": {
    "colab": {
     "base_uri": "https://localhost:8080/",
     "height": 266
    },
    "id": "q8o0qrZFHszL",
    "outputId": "53e3615f-6af2-4efa-829a-1c4dd723e408",
    "slideshow": {
     "slide_type": "slide"
    }
   },
   "outputs": [
    {
     "data": {
      "text/plain": [
       "<mpl_toolkits.mplot3d.art3d.Path3DCollection at 0x7ff47a635bb0>"
      ]
     },
     "execution_count": 13,
     "metadata": {},
     "output_type": "execute_result"
    },
    {
     "data": {
      "image/png": "[encoded data removed]",
      "text/plain": [
       "<Figure size 432x288 with 1 Axes>"
      ]
     },
     "metadata": {
      "needs_background": "light"
     },
     "output_type": "display_data"
    }
   ],
   "source": [
    "# Boilerplate to set up ax\n",
    "fig = plt.figure()\n",
    "ax = fig.add_subplot(projection='3d')\n",
    "\n",
    "x = [1, 2, 3, 4, 5, 6]\n",
    "y = [1, 1, 2, 2, 2, 3]\n",
    "z = [1, 1, 2, 2, 3, 3]\n",
    "ax.scatter(x,y,z)\n"
   ]
  },
  {
   "cell_type": "markdown",
   "metadata": {
    "slideshow": {
     "slide_type": "slide"
    }
   },
   "source": [
    "The next bit of 3D plotting requires np.meshgrid().  Given two arrays, one for x values and one for y values, np.meshgrid returns the x and y coordinates of all points on a 2D grid with those values.  For example:"
   ]
  },
  {
   "cell_type": "code",
   "execution_count": 14,
   "metadata": {
    "slideshow": {
     "slide_type": "-"
    }
   },
   "outputs": [
    {
     "name": "stdout",
     "output_type": "stream",
     "text": [
      "[[1 2 3]\n",
      " [1 2 3]\n",
      " [1 2 3]]\n",
      "[[10 10 10]\n",
      " [20 20 20]\n",
      " [30 30 30]]\n"
     ]
    }
   ],
   "source": [
    "x = [1, 2, 3]\n",
    "y = [10, 20, 30]\n",
    "\n",
    "xx, yy = np.meshgrid(x,y)\n",
    "# Produces (1,10), (2,10), (3,10), (1,20), ... (3, 30)\n",
    "# but separated into x and y components\n",
    "print(xx)\n",
    "print(yy)"
   ]
  },
  {
   "cell_type": "markdown",
   "metadata": {
    "id": "eH8Ota9VIKBf",
    "slideshow": {
     "slide_type": "slide"
    }
   },
   "source": [
    "If you're actually plotting some function z = f(x,y), np.meshgrid() will create all the combinations of x and y necessary to evaluate the function on a grid."
   ]
  },
  {
   "cell_type": "code",
   "execution_count": 15,
   "metadata": {
    "colab": {
     "base_uri": "https://localhost:8080/",
     "height": 266
    },
    "id": "qkoK9qtmIsLu",
    "outputId": "70f7fa7e-b472-4758-d1c9-0148e9112aa3",
    "slideshow": {
     "slide_type": "slide"
    }
   },
   "outputs": [
    {
     "data": {
      "text/plain": [
       "<mpl_toolkits.mplot3d.art3d.Poly3DCollection at 0x7ff47a6f6c10>"
      ]
     },
     "execution_count": 15,
     "metadata": {},
     "output_type": "execute_result"
    },
    {
     "data": {
      "image/png": "[encoded data removed]",
      "text/plain": [
       "<Figure size 432x288 with 1 Axes>"
      ]
     },
     "metadata": {
      "needs_background": "light"
     },
     "output_type": "display_data"
    }
   ],
   "source": [
    "# Plot x^2 + y^2\n",
    "x = np.linspace(-10,10,20)\n",
    "y = np.linspace(-10,10,20)\n",
    "xx, yy = np.meshgrid(x,y)  # Creates appropriate lists of x coords, y coords\n",
    "zz = xx ** 2 + yy ** 2 # They're each 1d lists, so zz is as well; ** is power\n",
    "\n",
    "fig = plt.figure()\n",
    "ax = fig.add_subplot(projection='3d')\n",
    "ax.plot_surface(xx,yy,zz)"
   ]
  },
  {
   "cell_type": "markdown",
   "metadata": {
    "id": "q3eYA6JKLOtM",
    "slideshow": {
     "slide_type": "slide"
    }
   },
   "source": [
    "As with numpy, there are many more functions in matplotlib, and even more functionality we haven't explored with the plotting functions we did see.  Googling how to do new things is normal and healthy."
   ]
  },
  {
   "cell_type": "markdown",
   "metadata": {
    "id": "0nB4VIJpLgi3",
    "slideshow": {
     "slide_type": "slide"
    }
   },
   "source": [
    "# Exercise\n",
    "\n",
    "Make up some time series data for yourself over the last 5 years, like \"books read\" or \"hours of free time per week.\"  You should make mock data for years 2016, 2017, 2018, 2019, and 2020.  Plot your datapoints as both scatterplot and line plot."
   ]
  },
  {
   "cell_type": "code",
   "execution_count": 18,
   "metadata": {
    "colab": {
     "base_uri": "https://localhost:8080/",
     "height": 283
    },
    "id": "CSzt56OUMzEB",
    "outputId": "ef8d42a1-bd75-40bc-fab6-98451d7b5827",
    "slideshow": {
     "slide_type": "slide"
    }
   },
   "outputs": [
    {
     "data": {
      "text/plain": [
       "[<matplotlib.lines.Line2D at 0x7ff47af4c490>]"
      ]
     },
     "execution_count": 18,
     "metadata": {},
     "output_type": "execute_result"
    },
    {
     "data": {
      "image/png": "[encoded data removed]",
      "text/plain": [
       "<Figure size 432x288 with 1 Axes>"
      ]
     },
     "metadata": {
      "needs_background": "light"
     },
     "output_type": "display_data"
    }
   ],
   "source": [
    "years = [2016, 2017, 2018, 2019, 2020]\n",
    "books_read = [12, 15, 2, 1, 1]\n",
    "plt.plot(years, books_read)\n",
    "plt.plot(years, books_read, 'o')"
   ]
  }
 ],
 "metadata": {
  "celltoolbar": "Slideshow",
  "colab": {
   "collapsed_sections": [],
   "name": "Lecture4NumpyMatplotlib_done.ipynb",
   "provenance": []
  },
  "kernelspec": {
   "display_name": "Python 3",
   "language": "python",
   "name": "python3"
  },
  "language_info": {
   "codemirror_mode": {
    "name": "ipython",
    "version": 3
   },
   "file_extension": ".py",
   "mimetype": "text/x-python",
   "name": "python",
   "nbconvert_exporter": "python",
   "pygments_lexer": "ipython3",
   "version": "3.8.8"
  },
  "rise": {
   "scroll": true
  }
 },
 "nbformat": 4,
 "nbformat_minor": 1
}
