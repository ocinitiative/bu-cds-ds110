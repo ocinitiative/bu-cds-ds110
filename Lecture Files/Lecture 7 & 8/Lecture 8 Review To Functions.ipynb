{
  "nbformat": 4,
  "nbformat_minor": 0,
  "metadata": {
    "colab": {
      "provenance": []
    },
    "kernelspec": {
      "name": "python3",
      "display_name": "Python 3"
    },
    "language_info": {
      "name": "python"
    }
  },
  "cells": [
    {
      "cell_type": "code",
      "execution_count": 36,
      "metadata": {
        "colab": {
          "base_uri": "https://localhost:8080/"
        },
        "id": "n3Qq_mfDhQUM",
        "outputId": "690958af-6e91-4242-aa11-5f815bdd9674"
      },
      "outputs": [
        {
          "output_type": "stream",
          "name": "stdout",
          "text": [
            "6\n",
            "Guangzhi\n",
            "70\n"
          ]
        }
      ],
      "source": [
        "# Dealing with a table of data before we have the conveniences of DataFrames\n",
        "colnames = ['Name', 'HeightInches','WeightPounds']\n",
        "data = [['Alice',62,130],\n",
        "        ['Bob',66,168],\n",
        "        ['Che',68,161],\n",
        "        ['Dominique',61,120],\n",
        "        ['Ellie',64,130],\n",
        "        ['Fred',64,168],\n",
        "        ['Guangzhi',70,210]]\n",
        "\n",
        "def find_max_index_by_colname(colname, colnames, data):\n",
        "  # Find the row number of the entry with the largest value for the given column\n",
        "  colnum = colnames.index(colname)\n",
        "  bestmaxval = 0\n",
        "  bestindex = -1\n",
        "  for i in range(len(data)):\n",
        "    if data[i][colnum] > bestmaxval:\n",
        "      bestmaxval = data[i][colnum]\n",
        "      bestindex = i\n",
        "  return bestindex\n",
        "\n",
        "def find_max_name_by_colname(colname, colnames, data):\n",
        "  # Find the name of the person with the largest value for the given column\n",
        "  bestindex = find_max_index_by_colname(colname, colnames, data)\n",
        "  return data[bestindex][0]\n",
        "\n",
        "def find_max_value_by_colname(colname, colnames, data):\n",
        "  # Find the largest value for the given column\n",
        "  bestindex = find_max_index_by_colname(colname, colnames, data)\n",
        "  return data[bestindex][colnames.index(colname)]\n",
        "\n",
        "print(find_max_index_by_colname('HeightInches', colnames, data))\n",
        "print(find_max_name_by_colname('HeightInches', colnames, data))\n",
        "print(find_max_value_by_colname('HeightInches', colnames, data))"
      ]
    },
    {
      "cell_type": "code",
      "source": [
        "import numpy as np\n",
        "import matplotlib.pyplot as plt\n",
        "def get_numpy_array(data):\n",
        "  # Remove the string labels of 1st col and just get the numerical data\n",
        "  # (also, nested for loop example)\n",
        "  listoflists = []\n",
        "  for i in range(len(data)):\n",
        "    newlist = []\n",
        "    for j in range(1,len(data[0])):\n",
        "      newlist.append(data[i][j])\n",
        "    listoflists.append(newlist)\n",
        "  return np.array(listoflists)\n",
        "\n",
        "nparray = get_numpy_array(data)\n",
        "print(nparray)\n",
        "plt.plot(nparray[:,0], nparray[:,1],'o')"
      ],
      "metadata": {
        "colab": {
          "base_uri": "https://localhost:8080/",
          "height": 412
        },
        "id": "faHcJs1kkHu4",
        "outputId": "e2d5d425-9a12-4761-daff-f29f01b107c1"
      },
      "execution_count": 37,
      "outputs": [
        {
          "output_type": "stream",
          "name": "stdout",
          "text": [
            "[[ 62 130]\n",
            " [ 66 168]\n",
            " [ 68 161]\n",
            " [ 61 120]\n",
            " [ 64 130]\n",
            " [ 64 168]\n",
            " [ 70 210]]\n"
          ]
        },
        {
          "output_type": "execute_result",
          "data": {
            "text/plain": [
              "[<matplotlib.lines.Line2D at 0x7f1858f808d0>]"
            ]
          },
          "metadata": {},
          "execution_count": 37
        },
        {
          "output_type": "display_data",
          "data": {
            "text/plain": [
              "<Figure size 432x288 with 1 Axes>"
            ],
            "image/png": "[encoded data removed]"
          },
          "metadata": {
            "needs_background": "light"
          }
        }
      ]
    },
    {
      "cell_type": "code",
      "source": [
        "# BMI calculation - example of calling the function before coding it\n",
        "\n",
        "def calc_bmi(heightInches,weightPounds):\n",
        "  # Body mass index - weight in kilograms divided by height in meters squared\n",
        "  return weightKg(weightPounds)/(heightMeters(heightInches) ** 2)\n",
        "\n",
        "def weightKg(weightPounds):\n",
        "  # Convert weight in pounds to weight in kilograms\n",
        "  return weightPounds * 0.45359237\n",
        "\n",
        "def heightMeters(heightInches):\n",
        "  # Convert inches to meters\n",
        "  return heightInches * 0.0254\n",
        "\n",
        "def getBMIbyName(name, data):\n",
        "  # Look up a name in the data and retrieve the BMI\n",
        "  for i in range(len(data)):\n",
        "    if data[i][0] == name:\n",
        "      return calc_bmi(data[i][1],data[i][2])\n",
        "  print('Name not found')\n",
        "  return None\n",
        "\n",
        "getBMIbyName('Guangzhi', data)"
      ],
      "metadata": {
        "colab": {
          "base_uri": "https://localhost:8080/"
        },
        "id": "AgpM4d_-qREe",
        "outputId": "e9b3307c-d518-4661-ce7b-740fa7973be0"
      },
      "execution_count": 35,
      "outputs": [
        {
          "output_type": "execute_result",
          "data": {
            "text/plain": [
              "30.131553413106825"
            ]
          },
          "metadata": {},
          "execution_count": 35
        }
      ]
    },
    {
      "cell_type": "code",
      "source": [],
      "metadata": {
        "id": "fJm7BMUitgT5"
      },
      "execution_count": null,
      "outputs": []
    }
  ]
}