{
 "cells": [
  {
   "cell_type": "markdown",
   "metadata": {
    "id": "nIkJiQC6hR53",
    "slideshow": {
     "slide_type": "slide"
    }
   },
   "source": [
    "# Ensemble methods\n"
   ]
  },
  {
   "cell_type": "markdown",
   "metadata": {
    "id": "z2U1tI72iWve",
    "slideshow": {
     "slide_type": "slide"
    }
   },
   "source": [
    "# Bagging and random forests\n",
    "\n",
    "See slides for details.  We can try a demo on the LFW faces dataset:"
   ]
  },
  {
   "cell_type": "code",
   "execution_count": 2,
   "metadata": {
    "id": "_yhNa1a_hOUu",
    "slideshow": {
     "slide_type": "-"
    }
   },
   "outputs": [],
   "source": [
    "from sklearn.datasets import fetch_lfw_people\n",
    "from sklearn.ensemble import RandomForestClassifier\n",
    "\n",
    "faces = fetch_lfw_people(min_faces_per_person = 100)"
   ]
  },
  {
   "cell_type": "code",
   "execution_count": 3,
   "metadata": {
    "colab": {
     "base_uri": "https://localhost:8080/"
    },
    "id": "pvD3FknmrXVA",
    "outputId": "096012e9-e771-41f9-edfa-d495a549a3c8",
    "slideshow": {
     "slide_type": "-"
    }
   },
   "outputs": [
    {
     "data": {
      "text/plain": [
       "0.7017543859649122"
      ]
     },
     "execution_count": 3,
     "metadata": {},
     "output_type": "execute_result"
    }
   ],
   "source": [
    "from sklearn.model_selection import train_test_split\n",
    "\n",
    "face_f_train, face_f_test, face_l_train, face_l_test = \\\n",
    "    train_test_split(faces['data'], faces['target'], \\\n",
    "                     test_size=0.1, random_state=4100)\n",
    "forest = RandomForestClassifier(n_estimators=200).fit(face_f_train, face_l_train)\n",
    "forest.score(face_f_test,face_l_test)"
   ]
  },
  {
   "cell_type": "markdown",
   "metadata": {
    "id": "CPU_oFI9tEJV",
    "slideshow": {
     "slide_type": "slide"
    }
   },
   "source": [
    "We can ask which features were most important; in scikit-learn, this is the total gain from asking questions related to that feature (although scikit-learn uses gini index, a slightly different metric for impurity/entropy).  High numbers indicate important features.  For faces, it's hard to imagine any particular pixel being very important."
   ]
  },
  {
   "cell_type": "code",
   "execution_count": 4,
   "metadata": {
    "colab": {
     "base_uri": "https://localhost:8080/"
    },
    "id": "HcGJHUmGtDfN",
    "outputId": "41653fb5-49fa-4c0a-91b8-d4d5fb4afda9",
    "slideshow": {
     "slide_type": "-"
    }
   },
   "outputs": [
    {
     "name": "stdout",
     "output_type": "stream",
     "text": [
      "0.001637109720292415\n",
      "0.002261037570677264\n",
      "0.001297770846192008\n",
      "0.00048482589923869\n",
      "0.0003599372020477337\n",
      "0.0002129559793343158\n",
      "0.00031461029415769305\n",
      "0.0002138831103211658\n",
      "0.00041805154736268416\n",
      "0.00020639372616406153\n",
      "0.00046046349010493877\n",
      "0.00048193107131307\n",
      "0.000305110738771393\n",
      "0.00023990728077692805\n",
      "0.00011662035744837266\n",
      "0.00017657437059042218\n",
      "9.956583799868253e-05\n",
      "0.0001639350707825467\n",
      "0.00019253082967936108\n",
      "1.1118727089976617e-05\n"
     ]
    }
   ],
   "source": [
    "for i in range(20):\n",
    "  print(forest.feature_importances_[i])"
   ]
  },
  {
   "cell_type": "markdown",
   "metadata": {
    "id": "EcG6X-lZwdYy",
    "slideshow": {
     "slide_type": "slide"
    }
   },
   "source": [
    "On the iris dataset, we get both much better performance and an easier to read feature importance list."
   ]
  },
  {
   "cell_type": "code",
   "execution_count": 6,
   "metadata": {
    "id": "_KMCTlM9xKiV",
    "slideshow": {
     "slide_type": "-"
    }
   },
   "outputs": [],
   "source": [
    "from sklearn.datasets import load_iris\n",
    "import numpy as np\n",
    "\n",
    "iris = load_iris()"
   ]
  },
  {
   "cell_type": "code",
   "execution_count": 7,
   "metadata": {
    "colab": {
     "base_uri": "https://localhost:8080/"
    },
    "id": "_nAIz4RKxawR",
    "outputId": "2ff94f77-05f3-4a3a-8a86-5fb14db3299e",
    "slideshow": {
     "slide_type": "-"
    }
   },
   "outputs": [
    {
     "data": {
      "text/plain": [
       "1.0"
      ]
     },
     "execution_count": 7,
     "metadata": {},
     "output_type": "execute_result"
    }
   ],
   "source": [
    "features_train, features_test, labels_train, labels_test = \\\n",
    "  train_test_split(iris['data'], iris['target'], test_size=0.1)\n",
    "irisforest = RandomForestClassifier(n_estimators=200, random_state=110)\n",
    "irisforest.fit(features_train, labels_train)\n",
    "\n",
    "irisforest.score(features_test, labels_test)"
   ]
  },
  {
   "cell_type": "code",
   "execution_count": 8,
   "metadata": {
    "colab": {
     "base_uri": "https://localhost:8080/"
    },
    "id": "f1n4YIywyA3z",
    "outputId": "c62668da-90d4-447d-b3fb-7cabe3fed467",
    "slideshow": {
     "slide_type": "slide"
    }
   },
   "outputs": [
    {
     "data": {
      "text/plain": [
       "array([0.10038726, 0.0258324 , 0.43240505, 0.44137529])"
      ]
     },
     "execution_count": 8,
     "metadata": {},
     "output_type": "execute_result"
    }
   ],
   "source": [
    "irisforest.feature_importances_"
   ]
  },
  {
   "cell_type": "code",
   "execution_count": 9,
   "metadata": {
    "colab": {
     "base_uri": "https://localhost:8080/"
    },
    "id": "Te0p8rXdxRP-",
    "outputId": "e69e6b85-dbf0-48a5-8444-ddaff048d9e5",
    "slideshow": {
     "slide_type": "-"
    }
   },
   "outputs": [
    {
     "data": {
      "text/plain": [
       "['sepal length (cm)',\n",
       " 'sepal width (cm)',\n",
       " 'petal length (cm)',\n",
       " 'petal width (cm)']"
      ]
     },
     "execution_count": 9,
     "metadata": {},
     "output_type": "execute_result"
    }
   ],
   "source": [
    "iris[\"feature_names\"]"
   ]
  },
  {
   "cell_type": "markdown",
   "metadata": {
    "id": "tFXJvORJNbde",
    "slideshow": {
     "slide_type": "slide"
    }
   },
   "source": [
    "# Boosting example\n",
    "\n",
    "Boosting is, like bagging, an ensemble machine learning method, training groups of classifiers to vote on new examples.  But boosting adaptively changes the training set to try to fix the errors of previous learners; see slides for more details."
   ]
  },
  {
   "cell_type": "code",
   "execution_count": 11,
   "metadata": {
    "colab": {
     "base_uri": "https://localhost:8080/"
    },
    "id": "VMNBxRSQNaHa",
    "outputId": "630b0f53-f0f6-4750-f215-bac6955ba617",
    "slideshow": {
     "slide_type": "slide"
    }
   },
   "outputs": [
    {
     "name": "stdout",
     "output_type": "stream",
     "text": [
      "0.7719298245614035\n",
      "0.6929824561403509\n"
     ]
    }
   ],
   "source": [
    "from sklearn.datasets import fetch_lfw_people\n",
    "from sklearn.ensemble import AdaBoostClassifier\n",
    "from sklearn.model_selection import train_test_split\n",
    "\n",
    "faces = fetch_lfw_people(min_faces_per_person = 100)\n",
    "face_f_train, face_f_test, face_l_train, face_l_test = \\\n",
    "   train_test_split(faces['data'],faces['target'], test_size=0.1, random_state=110)\n",
    "clf = AdaBoostClassifier(n_estimators=200)\n",
    "clf.fit(face_f_train, face_l_train) # This takes a little while\n",
    "print(clf.score(face_f_train,face_l_train))\n",
    "print(clf.score(face_f_test,face_l_test))"
   ]
  },
  {
   "cell_type": "code",
   "execution_count": null,
   "metadata": {},
   "outputs": [],
   "source": []
  }
 ],
 "metadata": {
  "celltoolbar": "Slideshow",
  "colab": {
   "name": "Lecture20RandomForests.ipynb",
   "provenance": []
  },
  "kernelspec": {
   "display_name": "Python 3",
   "language": "python",
   "name": "python3"
  },
  "language_info": {
   "codemirror_mode": {
    "name": "ipython",
    "version": 3
   },
   "file_extension": ".py",
   "mimetype": "text/x-python",
   "name": "python",
   "nbconvert_exporter": "python",
   "pygments_lexer": "ipython3",
   "version": "3.8.8"
  },
  "rise": {
   "scroll": true
  }
 },
 "nbformat": 4,
 "nbformat_minor": 1
}
