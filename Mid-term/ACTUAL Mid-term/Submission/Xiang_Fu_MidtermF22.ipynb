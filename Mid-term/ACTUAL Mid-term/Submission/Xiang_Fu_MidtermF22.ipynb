{
  "cells": [
    {
      "cell_type": "markdown",
      "metadata": {
        "id": "6OPeWm17b3El"
      },
      "source": [
        "# Midterm - DS 110 Fall 2022"
      ]
    },
    {
      "cell_type": "markdown",
      "metadata": {
        "id": "88hYvBbg-1aa"
      },
      "source": [
        "**For this midterm, you may refer to the Internet or your notes, but you must add a comment to your answer citing the source(s) that helped you.  This includes using the lecture notes.  Include a URL for a web source or the number of the lecture for lecture materials.  Failure to cite sources could result in point penalties or, in extreme cases, an academic integrity case.**\n",
        "\n",
        "**You also may not collaborate with other students.**\n",
        "\n",
        "**The deadline is 3:35pm on Thursday November 3.**"
      ]
    },
    {
      "cell_type": "markdown",
      "metadata": {
        "id": "WKnqomRCb_hQ"
      },
      "source": [
        "## 1) Loops (15 points)\n",
        "\n",
        "Write a function countdowns() that takes a list of integers as its sole argument.  The function should then print a \"countdown\" for each item in the list, starting from that number and ending in 0, with one number per line.  For example, if the input were [3, 4, 2], then the output would be:"
      ]
    },
    {
      "cell_type": "code",
      "execution_count": null,
      "metadata": {
        "id": "trWcZWJRq_vO"
      },
      "outputs": [],
      "source": [
        "3\n",
        "2\n",
        "1\n",
        "0\n",
        "4\n",
        "3\n",
        "2\n",
        "1\n",
        "0\n",
        "2\n",
        "1\n",
        "0"
      ]
    },
    {
      "cell_type": "markdown",
      "metadata": {
        "id": "IJ8EBkWBrZ5i"
      },
      "source": [
        "The function can return void."
      ]
    },
    {
      "cell_type": "code",
      "execution_count": 35,
      "metadata": {
        "id": "cRoQ6Ls9rI-L"
      },
      "outputs": [],
      "source": [
        "# def countdowns(lst): TODO\n",
        "\n",
        "def countdowns(some_list):\n",
        "    for alpha in some_list:\n",
        "        for beta in range(alpha, -1, -1):\n",
        "            print(beta)"
      ]
    },
    {
      "cell_type": "code",
      "execution_count": 36,
      "metadata": {
        "id": "NnoyO1yFrekf",
        "colab": {
          "base_uri": "https://localhost:8080/"
        },
        "outputId": "7688e974-b71c-4d10-e7e0-269f0309b75a"
      },
      "outputs": [
        {
          "output_type": "stream",
          "name": "stdout",
          "text": [
            "3\n",
            "2\n",
            "1\n",
            "0\n",
            "4\n",
            "3\n",
            "2\n",
            "1\n",
            "0\n",
            "2\n",
            "1\n",
            "0\n"
          ]
        }
      ],
      "source": [
        "# Test\n",
        "countdowns([3,4,2])"
      ]
    },
    {
      "cell_type": "markdown",
      "source": [
        "**Citations:**\n",
        "\n",
        "1. More Control Flow Tools, Python 3.11.0 Documentation: https://docs.python.org/3/tutorial/controlflow.html"
      ],
      "metadata": {
        "id": "RjXFrMSblcU4"
      }
    },
    {
      "cell_type": "markdown",
      "metadata": {
        "id": "UGMYw5zdc_SR"
      },
      "source": [
        "## 2) Dictionaries (10 points)\n",
        "\n",
        "Write a function max_dict_merge() that takes two dictionaries as arguments and returns a third dictionary that is distinct from the other two (don't modify the input dictionaries).  If a key is in one of the dictionaries but not the other, that key should have the same value it had in its old dictionary in the new one.  But if the key was in both dictionaries, the new value in the new dictionary should be the max of the old values.  For example, max_dict_merge({'a':2,'b':3}, {'b':4,'c':5}) creates the new dictionary {'a':2,'b':4,'c':5}."
      ]
    },
    {
      "cell_type": "code",
      "execution_count": 33,
      "metadata": {
        "id": "8KRbvnhivdEc"
      },
      "outputs": [],
      "source": [
        "# def max_dict_merge(d1, d2): TODO\n",
        "\n",
        "def max_dict_merge(dict1, dict2):\n",
        "    dict3 = {}\n",
        "    for key in dict1:\n",
        "        if key in dict2:\n",
        "            dict3[key] = max(dict1[key], dict2[key])\n",
        "        else:\n",
        "            dict3[key] = dict1[key]\n",
        "    for key in dict2:\n",
        "        if key not in dict3:\n",
        "            dict3[key] = dict2[key]\n",
        "    return dict3"
      ]
    },
    {
      "cell_type": "code",
      "execution_count": 34,
      "metadata": {
        "id": "_LQI_X57wHc5",
        "colab": {
          "base_uri": "https://localhost:8080/"
        },
        "outputId": "1b3f12b6-be34-4614-c7a7-4a50321c7d97"
      },
      "outputs": [
        {
          "output_type": "execute_result",
          "data": {
            "text/plain": [
              "{'a': 2, 'b': 4, 'c': 5}"
            ]
          },
          "metadata": {},
          "execution_count": 34
        }
      ],
      "source": [
        "# Test\n",
        "max_dict_merge({'a':2,'b':3}, {'b':4,'c':5})"
      ]
    },
    {
      "cell_type": "markdown",
      "source": [
        "**Citations:**\n",
        "\n",
        "1. Data Structures, Python 3.11.0 Documentation: https://docs.python.org/3/tutorial/datastructures.html\n",
        "2. Python Program to Merge Dictionaries (with Examples): https://favtutor.com/blogs/merge-dictionaries-python\n",
        "\n"
      ],
      "metadata": {
        "id": "7hccwehjkiww"
      }
    },
    {
      "cell_type": "markdown",
      "metadata": {
        "id": "QQnckno-dDEC"
      },
      "source": [
        "## 3) DataFrames (10 points)"
      ]
    },
    {
      "cell_type": "markdown",
      "metadata": {
        "id": "DNtMbmtn4zqs"
      },
      "source": [
        "a) Using the file genre_region_totals.csv, write code that prints the video game genre that sold the most worldwide.  (Note that \"Worldwide\" is a possible\n",
        "value for the region column.)"
      ]
    },
    {
      "cell_type": "code",
      "execution_count": 7,
      "metadata": {
        "id": "HwNYiONn2bGC",
        "colab": {
          "base_uri": "https://localhost:8080/",
          "height": 74
        },
        "outputId": "8867d4d1-523e-4d3f-c7f3-26949886ca6f"
      },
      "outputs": [
        {
          "output_type": "display_data",
          "data": {
            "text/plain": [
              "<IPython.core.display.HTML object>"
            ],
            "text/html": [
              "\n",
              "     <input type=\"file\" id=\"files-2106adf3-b02a-4a2c-ad0e-4feedd014a29\" name=\"files[]\" multiple disabled\n",
              "        style=\"border:none\" />\n",
              "     <output id=\"result-2106adf3-b02a-4a2c-ad0e-4feedd014a29\">\n",
              "      Upload widget is only available when the cell has been executed in the\n",
              "      current browser session. Please rerun this cell to enable.\n",
              "      </output>\n",
              "      <script>// Copyright 2017 Google LLC\n",
              "//\n",
              "// Licensed under the Apache License, Version 2.0 (the \"License\");\n",
              "// you may not use this file except in compliance with the License.\n",
              "// You may obtain a copy of the License at\n",
              "//\n",
              "//      http://www.apache.org/licenses/LICENSE-2.0\n",
              "//\n",
              "// Unless required by applicable law or agreed to in writing, software\n",
              "// distributed under the License is distributed on an \"AS IS\" BASIS,\n",
              "// WITHOUT WARRANTIES OR CONDITIONS OF ANY KIND, either express or implied.\n",
              "// See the License for the specific language governing permissions and\n",
              "// limitations under the License.\n",
              "\n",
              "/**\n",
              " * @fileoverview Helpers for google.colab Python module.\n",
              " */\n",
              "(function(scope) {\n",
              "function span(text, styleAttributes = {}) {\n",
              "  const element = document.createElement('span');\n",
              "  element.textContent = text;\n",
              "  for (const key of Object.keys(styleAttributes)) {\n",
              "    element.style[key] = styleAttributes[key];\n",
              "  }\n",
              "  return element;\n",
              "}\n",
              "\n",
              "// Max number of bytes which will be uploaded at a time.\n",
              "const MAX_PAYLOAD_SIZE = 100 * 1024;\n",
              "\n",
              "function _uploadFiles(inputId, outputId) {\n",
              "  const steps = uploadFilesStep(inputId, outputId);\n",
              "  const outputElement = document.getElementById(outputId);\n",
              "  // Cache steps on the outputElement to make it available for the next call\n",
              "  // to uploadFilesContinue from Python.\n",
              "  outputElement.steps = steps;\n",
              "\n",
              "  return _uploadFilesContinue(outputId);\n",
              "}\n",
              "\n",
              "// This is roughly an async generator (not supported in the browser yet),\n",
              "// where there are multiple asynchronous steps and the Python side is going\n",
              "// to poll for completion of each step.\n",
              "// This uses a Promise to block the python side on completion of each step,\n",
              "// then passes the result of the previous step as the input to the next step.\n",
              "function _uploadFilesContinue(outputId) {\n",
              "  const outputElement = document.getElementById(outputId);\n",
              "  const steps = outputElement.steps;\n",
              "\n",
              "  const next = steps.next(outputElement.lastPromiseValue);\n",
              "  return Promise.resolve(next.value.promise).then((value) => {\n",
              "    // Cache the last promise value to make it available to the next\n",
              "    // step of the generator.\n",
              "    outputElement.lastPromiseValue = value;\n",
              "    return next.value.response;\n",
              "  });\n",
              "}\n",
              "\n",
              "/**\n",
              " * Generator function which is called between each async step of the upload\n",
              " * process.\n",
              " * @param {string} inputId Element ID of the input file picker element.\n",
              " * @param {string} outputId Element ID of the output display.\n",
              " * @return {!Iterable<!Object>} Iterable of next steps.\n",
              " */\n",
              "function* uploadFilesStep(inputId, outputId) {\n",
              "  const inputElement = document.getElementById(inputId);\n",
              "  inputElement.disabled = false;\n",
              "\n",
              "  const outputElement = document.getElementById(outputId);\n",
              "  outputElement.innerHTML = '';\n",
              "\n",
              "  const pickedPromise = new Promise((resolve) => {\n",
              "    inputElement.addEventListener('change', (e) => {\n",
              "      resolve(e.target.files);\n",
              "    });\n",
              "  });\n",
              "\n",
              "  const cancel = document.createElement('button');\n",
              "  inputElement.parentElement.appendChild(cancel);\n",
              "  cancel.textContent = 'Cancel upload';\n",
              "  const cancelPromise = new Promise((resolve) => {\n",
              "    cancel.onclick = () => {\n",
              "      resolve(null);\n",
              "    };\n",
              "  });\n",
              "\n",
              "  // Wait for the user to pick the files.\n",
              "  const files = yield {\n",
              "    promise: Promise.race([pickedPromise, cancelPromise]),\n",
              "    response: {\n",
              "      action: 'starting',\n",
              "    }\n",
              "  };\n",
              "\n",
              "  cancel.remove();\n",
              "\n",
              "  // Disable the input element since further picks are not allowed.\n",
              "  inputElement.disabled = true;\n",
              "\n",
              "  if (!files) {\n",
              "    return {\n",
              "      response: {\n",
              "        action: 'complete',\n",
              "      }\n",
              "    };\n",
              "  }\n",
              "\n",
              "  for (const file of files) {\n",
              "    const li = document.createElement('li');\n",
              "    li.append(span(file.name, {fontWeight: 'bold'}));\n",
              "    li.append(span(\n",
              "        `(${file.type || 'n/a'}) - ${file.size} bytes, ` +\n",
              "        `last modified: ${\n",
              "            file.lastModifiedDate ? file.lastModifiedDate.toLocaleDateString() :\n",
              "                                    'n/a'} - `));\n",
              "    const percent = span('0% done');\n",
              "    li.appendChild(percent);\n",
              "\n",
              "    outputElement.appendChild(li);\n",
              "\n",
              "    const fileDataPromise = new Promise((resolve) => {\n",
              "      const reader = new FileReader();\n",
              "      reader.onload = (e) => {\n",
              "        resolve(e.target.result);\n",
              "      };\n",
              "      reader.readAsArrayBuffer(file);\n",
              "    });\n",
              "    // Wait for the data to be ready.\n",
              "    let fileData = yield {\n",
              "      promise: fileDataPromise,\n",
              "      response: {\n",
              "        action: 'continue',\n",
              "      }\n",
              "    };\n",
              "\n",
              "    // Use a chunked sending to avoid message size limits. See b/62115660.\n",
              "    let position = 0;\n",
              "    do {\n",
              "      const length = Math.min(fileData.byteLength - position, MAX_PAYLOAD_SIZE);\n",
              "      const chunk = new Uint8Array(fileData, position, length);\n",
              "      position += length;\n",
              "\n",
              "      const base64 = btoa(String.fromCharCode.apply(null, chunk));\n",
              "      yield {\n",
              "        response: {\n",
              "          action: 'append',\n",
              "          file: file.name,\n",
              "          data: base64,\n",
              "        },\n",
              "      };\n",
              "\n",
              "      let percentDone = fileData.byteLength === 0 ?\n",
              "          100 :\n",
              "          Math.round((position / fileData.byteLength) * 100);\n",
              "      percent.textContent = `${percentDone}% done`;\n",
              "\n",
              "    } while (position < fileData.byteLength);\n",
              "  }\n",
              "\n",
              "  // All done.\n",
              "  yield {\n",
              "    response: {\n",
              "      action: 'complete',\n",
              "    }\n",
              "  };\n",
              "}\n",
              "\n",
              "scope.google = scope.google || {};\n",
              "scope.google.colab = scope.google.colab || {};\n",
              "scope.google.colab._files = {\n",
              "  _uploadFiles,\n",
              "  _uploadFilesContinue,\n",
              "};\n",
              "})(self);\n",
              "</script> "
            ]
          },
          "metadata": {}
        },
        {
          "output_type": "stream",
          "name": "stdout",
          "text": [
            "Saving genre_region_totals.csv to genre_region_totals.csv\n"
          ]
        }
      ],
      "source": [
        "# Google colab only\n",
        "from google.colab import files\n",
        "import io\n",
        "\n",
        "uploaded = files.upload() # pick genre_region_totals.csv"
      ]
    },
    {
      "cell_type": "code",
      "execution_count": 8,
      "metadata": {
        "id": "GRpVa14c354-"
      },
      "outputs": [],
      "source": [
        "import pandas as pd\n",
        "\n",
        "df = pd.read_csv('genre_region_totals.csv', index_col = 'genre')"
      ]
    },
    {
      "cell_type": "code",
      "execution_count": 9,
      "metadata": {
        "id": "-5RGPcpd4iT5",
        "colab": {
          "base_uri": "https://localhost:8080/",
          "height": 238
        },
        "outputId": "c895676a-9ca3-4e4e-d54b-7e06debc86c1"
      },
      "outputs": [
        {
          "output_type": "execute_result",
          "data": {
            "text/plain": [
              "                region    sales\n",
              "genre                          \n",
              "Action  European Union   510.99\n",
              "Action           Japan   160.15\n",
              "Action   North America   863.17\n",
              "Action           Other   182.22\n",
              "Action       Worldwide  1717.63"
            ],
            "text/html": [
              "\n",
              "  <div id=\"df-39bc0ce8-f8c5-48df-87c4-3a93ab464576\">\n",
              "    <div class=\"colab-df-container\">\n",
              "      <div>\n",
              "<style scoped>\n",
              "    .dataframe tbody tr th:only-of-type {\n",
              "        vertical-align: middle;\n",
              "    }\n",
              "\n",
              "    .dataframe tbody tr th {\n",
              "        vertical-align: top;\n",
              "    }\n",
              "\n",
              "    .dataframe thead th {\n",
              "        text-align: right;\n",
              "    }\n",
              "</style>\n",
              "<table border=\"1\" class=\"dataframe\">\n",
              "  <thead>\n",
              "    <tr style=\"text-align: right;\">\n",
              "      <th></th>\n",
              "      <th>region</th>\n",
              "      <th>sales</th>\n",
              "    </tr>\n",
              "    <tr>\n",
              "      <th>genre</th>\n",
              "      <th></th>\n",
              "      <th></th>\n",
              "    </tr>\n",
              "  </thead>\n",
              "  <tbody>\n",
              "    <tr>\n",
              "      <th>Action</th>\n",
              "      <td>European Union</td>\n",
              "      <td>510.99</td>\n",
              "    </tr>\n",
              "    <tr>\n",
              "      <th>Action</th>\n",
              "      <td>Japan</td>\n",
              "      <td>160.15</td>\n",
              "    </tr>\n",
              "    <tr>\n",
              "      <th>Action</th>\n",
              "      <td>North America</td>\n",
              "      <td>863.17</td>\n",
              "    </tr>\n",
              "    <tr>\n",
              "      <th>Action</th>\n",
              "      <td>Other</td>\n",
              "      <td>182.22</td>\n",
              "    </tr>\n",
              "    <tr>\n",
              "      <th>Action</th>\n",
              "      <td>Worldwide</td>\n",
              "      <td>1717.63</td>\n",
              "    </tr>\n",
              "  </tbody>\n",
              "</table>\n",
              "</div>\n",
              "      <button class=\"colab-df-convert\" onclick=\"convertToInteractive('df-39bc0ce8-f8c5-48df-87c4-3a93ab464576')\"\n",
              "              title=\"Convert this dataframe to an interactive table.\"\n",
              "              style=\"display:none;\">\n",
              "        \n",
              "  <svg xmlns=\"http://www.w3.org/2000/svg\" height=\"24px\"viewBox=\"0 0 24 24\"\n",
              "       width=\"24px\">\n",
              "    <path d=\"M0 0h24v24H0V0z\" fill=\"none\"/>\n",
              "    <path d=\"M18.56 5.44l.94 2.06.94-2.06 2.06-.94-2.06-.94-.94-2.06-.94 2.06-2.06.94zm-11 1L8.5 8.5l.94-2.06 2.06-.94-2.06-.94L8.5 2.5l-.94 2.06-2.06.94zm10 10l.94 2.06.94-2.06 2.06-.94-2.06-.94-.94-2.06-.94 2.06-2.06.94z\"/><path d=\"M17.41 7.96l-1.37-1.37c-.4-.4-.92-.59-1.43-.59-.52 0-1.04.2-1.43.59L10.3 9.45l-7.72 7.72c-.78.78-.78 2.05 0 2.83L4 21.41c.39.39.9.59 1.41.59.51 0 1.02-.2 1.41-.59l7.78-7.78 2.81-2.81c.8-.78.8-2.07 0-2.86zM5.41 20L4 18.59l7.72-7.72 1.47 1.35L5.41 20z\"/>\n",
              "  </svg>\n",
              "      </button>\n",
              "      \n",
              "  <style>\n",
              "    .colab-df-container {\n",
              "      display:flex;\n",
              "      flex-wrap:wrap;\n",
              "      gap: 12px;\n",
              "    }\n",
              "\n",
              "    .colab-df-convert {\n",
              "      background-color: #E8F0FE;\n",
              "      border: none;\n",
              "      border-radius: 50%;\n",
              "      cursor: pointer;\n",
              "      display: none;\n",
              "      fill: #1967D2;\n",
              "      height: 32px;\n",
              "      padding: 0 0 0 0;\n",
              "      width: 32px;\n",
              "    }\n",
              "\n",
              "    .colab-df-convert:hover {\n",
              "      background-color: #E2EBFA;\n",
              "      box-shadow: 0px 1px 2px rgba(60, 64, 67, 0.3), 0px 1px 3px 1px rgba(60, 64, 67, 0.15);\n",
              "      fill: #174EA6;\n",
              "    }\n",
              "\n",
              "    [theme=dark] .colab-df-convert {\n",
              "      background-color: #3B4455;\n",
              "      fill: #D2E3FC;\n",
              "    }\n",
              "\n",
              "    [theme=dark] .colab-df-convert:hover {\n",
              "      background-color: #434B5C;\n",
              "      box-shadow: 0px 1px 3px 1px rgba(0, 0, 0, 0.15);\n",
              "      filter: drop-shadow(0px 1px 2px rgba(0, 0, 0, 0.3));\n",
              "      fill: #FFFFFF;\n",
              "    }\n",
              "  </style>\n",
              "\n",
              "      <script>\n",
              "        const buttonEl =\n",
              "          document.querySelector('#df-39bc0ce8-f8c5-48df-87c4-3a93ab464576 button.colab-df-convert');\n",
              "        buttonEl.style.display =\n",
              "          google.colab.kernel.accessAllowed ? 'block' : 'none';\n",
              "\n",
              "        async function convertToInteractive(key) {\n",
              "          const element = document.querySelector('#df-39bc0ce8-f8c5-48df-87c4-3a93ab464576');\n",
              "          const dataTable =\n",
              "            await google.colab.kernel.invokeFunction('convertToInteractive',\n",
              "                                                     [key], {});\n",
              "          if (!dataTable) return;\n",
              "\n",
              "          const docLinkHtml = 'Like what you see? Visit the ' +\n",
              "            '<a target=\"_blank\" href=https://colab.research.google.com/notebooks/data_table.ipynb>data table notebook</a>'\n",
              "            + ' to learn more about interactive tables.';\n",
              "          element.innerHTML = '';\n",
              "          dataTable['output_type'] = 'display_data';\n",
              "          await google.colab.output.renderOutput(dataTable, element);\n",
              "          const docLink = document.createElement('div');\n",
              "          docLink.innerHTML = docLinkHtml;\n",
              "          element.appendChild(docLink);\n",
              "        }\n",
              "      </script>\n",
              "    </div>\n",
              "  </div>\n",
              "  "
            ]
          },
          "metadata": {},
          "execution_count": 9
        }
      ],
      "source": [
        "df.head()"
      ]
    },
    {
      "cell_type": "code",
      "execution_count": 14,
      "metadata": {
        "id": "WW7_9rYN4--l",
        "colab": {
          "base_uri": "https://localhost:8080/"
        },
        "outputId": "8fa8b68e-e167-424a-f0d4-709731b739d9"
      },
      "outputs": [
        {
          "output_type": "stream",
          "name": "stdout",
          "text": [
            "Action\n"
          ]
        }
      ],
      "source": [
        "# a) TODO\n",
        "\n",
        "df = df[df['region'] == 'Worldwide']\n",
        "print(df[df['sales'] == df['sales'].max()]['genre'].values[0])"
      ]
    },
    {
      "cell_type": "markdown",
      "metadata": {
        "id": "rVG9691TdLjY"
      },
      "source": [
        "b) Now write code to print the \"Puzzle\" game sales in \"North America\".  (Hint: Your last step should be a call to loc[].)  The file has the sales records in millions, and you can keep them in that format."
      ]
    },
    {
      "cell_type": "code",
      "execution_count": 12,
      "metadata": {
        "id": "TuKS3v03dLjZ",
        "colab": {
          "base_uri": "https://localhost:8080/",
          "height": 39
        },
        "outputId": "41ae499a-cb17-4037-ec45-ae2e6e35f8f9"
      },
      "outputs": [
        {
          "output_type": "display_data",
          "data": {
            "text/plain": [
              "<IPython.core.display.HTML object>"
            ],
            "text/html": [
              "\n",
              "     <input type=\"file\" id=\"files-c77a2238-2608-44ff-a899-430b2d7b1750\" name=\"files[]\" multiple disabled\n",
              "        style=\"border:none\" />\n",
              "     <output id=\"result-c77a2238-2608-44ff-a899-430b2d7b1750\">\n",
              "      Upload widget is only available when the cell has been executed in the\n",
              "      current browser session. Please rerun this cell to enable.\n",
              "      </output>\n",
              "      <script>// Copyright 2017 Google LLC\n",
              "//\n",
              "// Licensed under the Apache License, Version 2.0 (the \"License\");\n",
              "// you may not use this file except in compliance with the License.\n",
              "// You may obtain a copy of the License at\n",
              "//\n",
              "//      http://www.apache.org/licenses/LICENSE-2.0\n",
              "//\n",
              "// Unless required by applicable law or agreed to in writing, software\n",
              "// distributed under the License is distributed on an \"AS IS\" BASIS,\n",
              "// WITHOUT WARRANTIES OR CONDITIONS OF ANY KIND, either express or implied.\n",
              "// See the License for the specific language governing permissions and\n",
              "// limitations under the License.\n",
              "\n",
              "/**\n",
              " * @fileoverview Helpers for google.colab Python module.\n",
              " */\n",
              "(function(scope) {\n",
              "function span(text, styleAttributes = {}) {\n",
              "  const element = document.createElement('span');\n",
              "  element.textContent = text;\n",
              "  for (const key of Object.keys(styleAttributes)) {\n",
              "    element.style[key] = styleAttributes[key];\n",
              "  }\n",
              "  return element;\n",
              "}\n",
              "\n",
              "// Max number of bytes which will be uploaded at a time.\n",
              "const MAX_PAYLOAD_SIZE = 100 * 1024;\n",
              "\n",
              "function _uploadFiles(inputId, outputId) {\n",
              "  const steps = uploadFilesStep(inputId, outputId);\n",
              "  const outputElement = document.getElementById(outputId);\n",
              "  // Cache steps on the outputElement to make it available for the next call\n",
              "  // to uploadFilesContinue from Python.\n",
              "  outputElement.steps = steps;\n",
              "\n",
              "  return _uploadFilesContinue(outputId);\n",
              "}\n",
              "\n",
              "// This is roughly an async generator (not supported in the browser yet),\n",
              "// where there are multiple asynchronous steps and the Python side is going\n",
              "// to poll for completion of each step.\n",
              "// This uses a Promise to block the python side on completion of each step,\n",
              "// then passes the result of the previous step as the input to the next step.\n",
              "function _uploadFilesContinue(outputId) {\n",
              "  const outputElement = document.getElementById(outputId);\n",
              "  const steps = outputElement.steps;\n",
              "\n",
              "  const next = steps.next(outputElement.lastPromiseValue);\n",
              "  return Promise.resolve(next.value.promise).then((value) => {\n",
              "    // Cache the last promise value to make it available to the next\n",
              "    // step of the generator.\n",
              "    outputElement.lastPromiseValue = value;\n",
              "    return next.value.response;\n",
              "  });\n",
              "}\n",
              "\n",
              "/**\n",
              " * Generator function which is called between each async step of the upload\n",
              " * process.\n",
              " * @param {string} inputId Element ID of the input file picker element.\n",
              " * @param {string} outputId Element ID of the output display.\n",
              " * @return {!Iterable<!Object>} Iterable of next steps.\n",
              " */\n",
              "function* uploadFilesStep(inputId, outputId) {\n",
              "  const inputElement = document.getElementById(inputId);\n",
              "  inputElement.disabled = false;\n",
              "\n",
              "  const outputElement = document.getElementById(outputId);\n",
              "  outputElement.innerHTML = '';\n",
              "\n",
              "  const pickedPromise = new Promise((resolve) => {\n",
              "    inputElement.addEventListener('change', (e) => {\n",
              "      resolve(e.target.files);\n",
              "    });\n",
              "  });\n",
              "\n",
              "  const cancel = document.createElement('button');\n",
              "  inputElement.parentElement.appendChild(cancel);\n",
              "  cancel.textContent = 'Cancel upload';\n",
              "  const cancelPromise = new Promise((resolve) => {\n",
              "    cancel.onclick = () => {\n",
              "      resolve(null);\n",
              "    };\n",
              "  });\n",
              "\n",
              "  // Wait for the user to pick the files.\n",
              "  const files = yield {\n",
              "    promise: Promise.race([pickedPromise, cancelPromise]),\n",
              "    response: {\n",
              "      action: 'starting',\n",
              "    }\n",
              "  };\n",
              "\n",
              "  cancel.remove();\n",
              "\n",
              "  // Disable the input element since further picks are not allowed.\n",
              "  inputElement.disabled = true;\n",
              "\n",
              "  if (!files) {\n",
              "    return {\n",
              "      response: {\n",
              "        action: 'complete',\n",
              "      }\n",
              "    };\n",
              "  }\n",
              "\n",
              "  for (const file of files) {\n",
              "    const li = document.createElement('li');\n",
              "    li.append(span(file.name, {fontWeight: 'bold'}));\n",
              "    li.append(span(\n",
              "        `(${file.type || 'n/a'}) - ${file.size} bytes, ` +\n",
              "        `last modified: ${\n",
              "            file.lastModifiedDate ? file.lastModifiedDate.toLocaleDateString() :\n",
              "                                    'n/a'} - `));\n",
              "    const percent = span('0% done');\n",
              "    li.appendChild(percent);\n",
              "\n",
              "    outputElement.appendChild(li);\n",
              "\n",
              "    const fileDataPromise = new Promise((resolve) => {\n",
              "      const reader = new FileReader();\n",
              "      reader.onload = (e) => {\n",
              "        resolve(e.target.result);\n",
              "      };\n",
              "      reader.readAsArrayBuffer(file);\n",
              "    });\n",
              "    // Wait for the data to be ready.\n",
              "    let fileData = yield {\n",
              "      promise: fileDataPromise,\n",
              "      response: {\n",
              "        action: 'continue',\n",
              "      }\n",
              "    };\n",
              "\n",
              "    // Use a chunked sending to avoid message size limits. See b/62115660.\n",
              "    let position = 0;\n",
              "    do {\n",
              "      const length = Math.min(fileData.byteLength - position, MAX_PAYLOAD_SIZE);\n",
              "      const chunk = new Uint8Array(fileData, position, length);\n",
              "      position += length;\n",
              "\n",
              "      const base64 = btoa(String.fromCharCode.apply(null, chunk));\n",
              "      yield {\n",
              "        response: {\n",
              "          action: 'append',\n",
              "          file: file.name,\n",
              "          data: base64,\n",
              "        },\n",
              "      };\n",
              "\n",
              "      let percentDone = fileData.byteLength === 0 ?\n",
              "          100 :\n",
              "          Math.round((position / fileData.byteLength) * 100);\n",
              "      percent.textContent = `${percentDone}% done`;\n",
              "\n",
              "    } while (position < fileData.byteLength);\n",
              "  }\n",
              "\n",
              "  // All done.\n",
              "  yield {\n",
              "    response: {\n",
              "      action: 'complete',\n",
              "    }\n",
              "  };\n",
              "}\n",
              "\n",
              "scope.google = scope.google || {};\n",
              "scope.google.colab = scope.google.colab || {};\n",
              "scope.google.colab._files = {\n",
              "  _uploadFiles,\n",
              "  _uploadFilesContinue,\n",
              "};\n",
              "})(self);\n",
              "</script> "
            ]
          },
          "metadata": {}
        }
      ],
      "source": [
        "\n",
        "from google.colab import files\n",
        "import io\n",
        "import pandas as pd\n",
        "uploaded = files.upload() # pick genre_region_totals.csv\n"
      ]
    },
    {
      "cell_type": "code",
      "source": [
        "# b) TODO\n",
        "df = pd.read_csv('genre_region_totals.csv')\n",
        "print(df.loc[(df['genre'] == 'Puzzle') & (df['region'] == 'North America'), 'sales'].values[0])\n"
      ],
      "metadata": {
        "colab": {
          "base_uri": "https://localhost:8080/"
        },
        "id": "YJNg5Y4jiXGg",
        "outputId": "94c66370-5d3f-4894-96ec-1b8c5b1b0dbf"
      },
      "execution_count": 13,
      "outputs": [
        {
          "output_type": "stream",
          "name": "stdout",
          "text": [
            "121.13\n"
          ]
        }
      ]
    },
    {
      "cell_type": "markdown",
      "source": [
        "**Citations:**\n",
        "\n",
        "1. Pandas API Reference: https://pandas.pydata.org/docs/reference/api/pandas.DataFrame.loc.html"
      ],
      "metadata": {
        "id": "ldnYX3CPkFGP"
      }
    },
    {
      "cell_type": "markdown",
      "metadata": {
        "id": "gsja4XBndKel"
      },
      "source": [
        "## 4) Objects (15 points)"
      ]
    },
    {
      "cell_type": "markdown",
      "metadata": {
        "id": "DBigGbYt7Bfl"
      },
      "source": [
        "Write a class Transaction that contains fields for a string name of the Transaction and a floating point amount of the Transaction.\n",
        "\n",
        "* Write a constructor for this class that takes the name and amount as arguments and initializes the fields with those values.\n",
        "* Write a method sum() that takes the present Transaction and another transaction (an argument) and returns the sum of their two values.  If the argument isn't a Transaction, throw a ValueError.\n",
        "* Write a function that isn't a method, sum_all(), that takes a list of Transactions as an argument, and returns their total sum. (You don't need to check the types of the items in the list.)"
      ]
    },
    {
      "cell_type": "code",
      "execution_count": 20,
      "metadata": {
        "id": "qvff7pex9xK1"
      },
      "outputs": [],
      "source": [
        "# class Transaction:  TODO\n",
        "\n",
        "class Transaction:\n",
        "    def __init__(self, name, amount):\n",
        "        self.name = name\n",
        "        self.amount = amount\n",
        "    \n",
        "    def sum(self, some_transaction):\n",
        "        if not isinstance(some_transaction, Transaction):\n",
        "            raise ValueError\n",
        "        return self.amount + some_transaction.amount\n",
        "    \n",
        "    def sum_all(transactions_alpha):\n",
        "      total_num = 0\n",
        "      for trans in transactions_alpha:\n",
        "        total_num += trans.amount\n",
        "      return total_num\n",
        "    \n",
        "\n",
        "    \n"
      ]
    },
    {
      "cell_type": "code",
      "execution_count": 37,
      "metadata": {
        "id": "GbxbStQE-VbW",
        "colab": {
          "base_uri": "https://localhost:8080/"
        },
        "outputId": "9c442dbf-4c49-421c-ea15-8ec5ace6999d"
      },
      "outputs": [
        {
          "output_type": "stream",
          "name": "stdout",
          "text": [
            "31.979999999999997\n",
            "31.979999999999997\n"
          ]
        }
      ],
      "source": [
        "t = Transaction(\"Lunch\", 12.99)\n",
        "t2 = Transaction(\"Dinner\", 18.99)\n",
        "print(t.sum(t2)) # Prints roughly 31.98\n",
        "print(sum_all([t,t2])) # Also prints roughly 31.98"
      ]
    },
    {
      "cell_type": "code",
      "execution_count": null,
      "metadata": {
        "id": "qoiqDJfg-5Wf"
      },
      "outputs": [],
      "source": [
        "t.sum(2) # raise ValueError"
      ]
    },
    {
      "cell_type": "markdown",
      "source": [
        "**Citations:**\n",
        "\n",
        "1. Python isinstance0 method: https://www.geeksforgeeks.org/python-isinstance-method/"
      ],
      "metadata": {
        "id": "zaHOC6mjNI4A"
      }
    },
    {
      "cell_type": "markdown",
      "metadata": {
        "id": "lmM4KbsBdSW6"
      },
      "source": [
        "## 5) Recursion (10 points)"
      ]
    },
    {
      "cell_type": "markdown",
      "metadata": {
        "id": "L6h1o1g5A58d"
      },
      "source": [
        "Write a recursive function tree_max() that takes a binary tree as an argument and returns the largest value in the tree.  (Note that it is not a binary *search* tree, so the largest value could be anywhere in the tree.)  Hint:  you could consider the value of None branches to be negative infinity, float('-inf')."
      ]
    },
    {
      "cell_type": "code",
      "execution_count": 23,
      "metadata": {
        "id": "NVg3ihUtb2F6"
      },
      "outputs": [],
      "source": [
        "class BinaryTree:\n",
        "  def __init__(self, left, right, val):\n",
        "    self.left = left\n",
        "    self.right = right\n",
        "    self.val = val\n",
        "\n",
        "small_tree = BinaryTree(BinaryTree(None,None,3), BinaryTree(None,None,2), 1)\n",
        "larger_tree = BinaryTree(BinaryTree(None,None,4), small_tree, 5)"
      ]
    },
    {
      "cell_type": "code",
      "execution_count": 30,
      "metadata": {
        "id": "ZIStK97bBxpR"
      },
      "outputs": [],
      "source": [
        "# def tree_max(tree):  TODO\n",
        "\n",
        "def tree_max(tree):\n",
        "    if tree == None:\n",
        "        return float('-inf')\n",
        "    if tree.left == None and tree.right == None:\n",
        "        return tree.val\n",
        "    return max(tree.val, tree_max(tree.left), tree_max(tree.right))"
      ]
    },
    {
      "cell_type": "code",
      "execution_count": 31,
      "metadata": {
        "id": "CAfLnVnHCLpj",
        "colab": {
          "base_uri": "https://localhost:8080/"
        },
        "outputId": "36228fdc-2b1f-4ccc-ea12-3d670378d03a"
      },
      "outputs": [
        {
          "output_type": "execute_result",
          "data": {
            "text/plain": [
              "3"
            ]
          },
          "metadata": {},
          "execution_count": 31
        }
      ],
      "source": [
        "tree_max(small_tree) # Should return 3"
      ]
    },
    {
      "cell_type": "code",
      "execution_count": 32,
      "metadata": {
        "id": "QTXwbcuFCh82",
        "colab": {
          "base_uri": "https://localhost:8080/"
        },
        "outputId": "23034b31-70bb-49c3-f5cb-aa6ffd17417e"
      },
      "outputs": [
        {
          "output_type": "execute_result",
          "data": {
            "text/plain": [
              "5"
            ]
          },
          "metadata": {},
          "execution_count": 32
        }
      ],
      "source": [
        "tree_max(larger_tree) # Should return 5"
      ]
    },
    {
      "cell_type": "markdown",
      "source": [
        "**Citations:**\n",
        "\n",
        "1. Python Recursion: https://www.programiz.com/python-programming/recursion"
      ],
      "metadata": {
        "id": "GPk6sHPHmUgC"
      }
    }
  ],
  "metadata": {
    "colab": {
      "collapsed_sections": [],
      "provenance": []
    },
    "kernelspec": {
      "display_name": "Python 3",
      "language": "python",
      "name": "python3"
    },
    "language_info": {
      "codemirror_mode": {
        "name": "ipython",
        "version": 3
      },
      "file_extension": ".py",
      "mimetype": "text/x-python",
      "name": "python",
      "nbconvert_exporter": "python",
      "pygments_lexer": "ipython3",
      "version": "3.8.8"
    }
  },
  "nbformat": 4,
  "nbformat_minor": 0
}