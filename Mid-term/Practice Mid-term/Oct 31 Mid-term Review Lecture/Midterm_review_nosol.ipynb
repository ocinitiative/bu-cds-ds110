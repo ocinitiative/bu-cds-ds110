{
  "cells": [
    {
      "cell_type": "markdown",
      "metadata": {
        "id": "NAzzJ7u9guf3"
      },
      "source": [
        "# Midterm Review"
      ]
    },
    {
      "cell_type": "markdown",
      "metadata": {
        "id": "my1LRlcJKFFi"
      },
      "source": [
        "\n",
        "##  Loops\n",
        "\n",
        "The basic kind of loop is the foreach loop that does something with each element in the list (or other \"iterable\"):"
      ]
    },
    {
      "cell_type": "code",
      "execution_count": null,
      "metadata": {
        "id": "8ctByDroiQY1"
      },
      "outputs": [],
      "source": [
        "a  = [1,2, 100]\n",
        "for item in a:\n",
        "  print(item)"
      ]
    },
    {
      "cell_type": "markdown",
      "metadata": {
        "id": "d8Z8wxt6ieiu"
      },
      "source": [
        "If we just want to do something a set number of times, we can use range() as the source of items to iterate over. Remember that range(n) iterates from 0 to n-1."
      ]
    },
    {
      "cell_type": "code",
      "execution_count": null,
      "metadata": {
        "id": "H8EamXK-ilfz"
      },
      "outputs": [],
      "source": [
        "for i in range(3):\n",
        "  print(f'Hooray {i}!')"
      ]
    },
    {
      "cell_type": "markdown",
      "metadata": {
        "id": "CC5CzY7iitJb"
      },
      "source": [
        "If we want to do something until a condition is met, we can use a while loop -- which iterates until a condition is *not* met."
      ]
    },
    {
      "cell_type": "code",
      "execution_count": null,
      "metadata": {
        "id": "BAaMx6X-i1-v"
      },
      "outputs": [],
      "source": [
        "a = 3\n",
        "while (a < 10):\n",
        "  print(a)\n",
        "  a += 3"
      ]
    },
    {
      "cell_type": "markdown",
      "metadata": {
        "id": "nN49x9ycjA_m"
      },
      "source": [
        "enumerate() is useful for producing both an item number and an item during iteration, in case you want both."
      ]
    },
    {
      "cell_type": "code",
      "execution_count": null,
      "metadata": {
        "id": "PP99IVKLjJqN"
      },
      "outputs": [],
      "source": [
        "for i, item in enumerate([3, 6, 9]):\n",
        "  print(\"item \" + str(i) + \" is \" + str(item))"
      ]
    },
    {
      "cell_type": "markdown",
      "metadata": {
        "id": "_u_C9fzrjaBw"
      },
      "source": [
        "Recall also that you can generally unpack tuples as a part of list iteration."
      ]
    },
    {
      "cell_type": "code",
      "execution_count": null,
      "metadata": {
        "id": "B-6OkEx6gsP4"
      },
      "outputs": [],
      "source": [
        "rated = [(\"Back to the Future\", 4), (\"Time Bandits\", 2), (\"Looper\", 3)]\n",
        "for movie, rating in rated:\n",
        "  print(\"My rating of \" + movie + \" is \" + str(rating))"
      ]
    },
    {
      "cell_type": "markdown",
      "metadata": {
        "id": "b9go-WR3kiAm"
      },
      "source": [
        "You can iterate over dictionaries, too."
      ]
    },
    {
      "cell_type": "code",
      "execution_count": null,
      "metadata": {
        "id": "uutrVcoVkmUk"
      },
      "outputs": [],
      "source": [
        "mydict = {\n",
        "    \"Back to the Future\": 4,\n",
        "    \"Time Bandits\": 2,\n",
        "    \"Looper\": 3\n",
        "}\n",
        "\n",
        "for key in mydict:\n",
        "  print(\"My rating of \" + key + \" is \" + str(mydict[key]))"
      ]
    },
    {
      "cell_type": "markdown",
      "metadata": {
        "id": "Lx5A3J_7kX4l"
      },
      "source": [
        "## Dictionaries\n",
        "\n",
        "Recall that you can use square brackets to both set values for keys and look up values."
      ]
    },
    {
      "cell_type": "code",
      "execution_count": null,
      "metadata": {
        "id": "JZjJXYrDlmAv"
      },
      "outputs": [],
      "source": [
        "newdict = {}\n",
        "newdict[\"Marco\"] = \"Polo\"\n",
        "print(newdict[\"Marco\"])"
      ]
    },
    {
      "cell_type": "markdown",
      "metadata": {
        "id": "XZh9liIklz9S"
      },
      "source": [
        "If you try to access a key that isn't there, you will raise an error unless you supply a default value, as demonstrated below."
      ]
    },
    {
      "cell_type": "code",
      "execution_count": null,
      "metadata": {
        "id": "8WMWFOWFly8K"
      },
      "outputs": [],
      "source": [
        "print(newdict.get(\"Polo\", \"Not Found\"))"
      ]
    },
    {
      "cell_type": "markdown",
      "metadata": {
        "id": "-8QiHaUtmRkS"
      },
      "source": [
        "The \"in\" keyword can also check whether something is a key in the dictionary already."
      ]
    },
    {
      "cell_type": "code",
      "execution_count": null,
      "metadata": {
        "id": "IOz1Rl5Em1E6"
      },
      "outputs": [],
      "source": [
        "\"Polo\" in newdict"
      ]
    },
    {
      "cell_type": "markdown",
      "metadata": {
        "id": "-DtW4FEMnsrx"
      },
      "source": [
        "We mentioned earlier that you can iterate over keys, but you can also iterate over both keys and values as a tuple:"
      ]
    },
    {
      "cell_type": "code",
      "execution_count": null,
      "metadata": {
        "id": "vAdSYwg0nyoz"
      },
      "outputs": [],
      "source": [
        "for movie, rating in mydict.items():\n",
        "  print(movie + \": \" + str(rating))"
      ]
    },
    {
      "cell_type": "markdown",
      "metadata": {
        "id": "QUnGkSVEnfpp"
      },
      "source": [
        "## DataFrames\n",
        "\n",
        "DataFrames are a major way to work with data in data science.\n"
      ]
    },
    {
      "cell_type": "code",
      "execution_count": null,
      "metadata": {
        "id": "erCg5liHog4v"
      },
      "outputs": [],
      "source": [
        "# Google colab only\n",
        "from google.colab import files\n",
        "import io\n",
        "\n",
        "uploaded = files.upload() # pick starbucks_drinkMenu_expanded.csv"
      ]
    },
    {
      "cell_type": "code",
      "execution_count": null,
      "metadata": {
        "id": "7OetIyctorAP"
      },
      "outputs": [],
      "source": [
        "import pandas as pd\n",
        "\n",
        "df = pd.read_csv('starbucks_drinkMenu_expanded.csv', index_col = 'Beverage')"
      ]
    },
    {
      "cell_type": "markdown",
      "metadata": {
        "id": "7z1lejRqpAYT"
      },
      "source": [
        "Recall that we can get smaller dataframes using \".loc[]\" on the dataframe.  We can pass it names of rows or columns we want, or colon if we want everything."
      ]
    },
    {
      "cell_type": "code",
      "execution_count": null,
      "metadata": {
        "id": "UtZFmAD_pQAM"
      },
      "outputs": [],
      "source": [
        "df.loc[\"Brewed Coffee\", \"Calories\"]"
      ]
    },
    {
      "cell_type": "code",
      "execution_count": null,
      "metadata": {
        "id": "_GGFP8APpqwj"
      },
      "outputs": [],
      "source": [
        "df.loc[\"Brewed Coffee\", :]"
      ]
    },
    {
      "cell_type": "markdown",
      "metadata": {
        "id": "lrbB5-VOpyV6"
      },
      "source": [
        "If we call mean() on a dataframe with no arguments, it'll find the means of all columns."
      ]
    },
    {
      "cell_type": "code",
      "execution_count": null,
      "metadata": {
        "id": "vQe6jIuRp7ue"
      },
      "outputs": [],
      "source": [
        "df.loc[\"Brewed Coffee\", :].mean()"
      ]
    },
    {
      "cell_type": "markdown",
      "source": [
        "idxmax() will find the entry with the greatest value in some column."
      ],
      "metadata": {
        "id": "9Nqz6Lm0Kfhd"
      }
    },
    {
      "cell_type": "code",
      "source": [
        "df[\"Calories\"].idxmax()"
      ],
      "metadata": {
        "id": "14tvKmNFMHZT"
      },
      "execution_count": null,
      "outputs": []
    },
    {
      "cell_type": "markdown",
      "metadata": {
        "id": "DR9gFD3iqDcd"
      },
      "source": [
        "It's possible to filter for values that match particular criteria.  We create a nested expression where the inside expression checks which values fit and evaluates to an array of booleans, then use that to index the dataframe as a whole."
      ]
    },
    {
      "cell_type": "code",
      "execution_count": null,
      "metadata": {
        "id": "cL0EjZXoqycA"
      },
      "outputs": [],
      "source": [
        "df[df[\"Calories\"] > 500]"
      ]
    },
    {
      "cell_type": "markdown",
      "metadata": {
        "id": "1gcMrBhCrHSw"
      },
      "source": [
        "It's possible to index by multiple criteria in this way, but they need to be separated by an & and each surrounded by parentheses."
      ]
    },
    {
      "cell_type": "code",
      "execution_count": null,
      "metadata": {
        "id": "umGA8jhNrVhD"
      },
      "outputs": [],
      "source": [
        "df[(df[\"Calories\"] > 300) & (df[\"Beverage_prep\"] == \"Venti\")]"
      ]
    },
    {
      "cell_type": "markdown",
      "metadata": {
        "id": "6Ez7kAB9rsJz"
      },
      "source": [
        "## Objects\n",
        "\n",
        "We define objects as bundles of related data and functions associated with that data (methods).  Some methods are common to all objects and can be overridden; these include \\_\\_init\\_\\_() for initialization and \\_\\_str\\_\\_() for rendering the object as a string.  (The double-underscores indicate built-in functions.)\n"
      ]
    },
    {
      "cell_type": "markdown",
      "metadata": {
        "id": "GxyCbB0OKFGA"
      },
      "source": [
        "\n",
        "All of an object's methods need to include self as a first parameter (unless they're static).  You can then refer to fields (variables inside the object) within the object code with \"self.fieldname\", or from outside the object using \"variablename.fieldname\"."
      ]
    },
    {
      "cell_type": "code",
      "execution_count": null,
      "metadata": {
        "id": "Jxg7plVdslil"
      },
      "outputs": [],
      "source": [
        "class Square:\n",
        "  def __init__(self, side):\n",
        "    self.side = side\n",
        "\n",
        "  def __str__(self):\n",
        "    out = \"\"\n",
        "    for i in range(self.side):\n",
        "      for j in range(self.side):\n",
        "        out += \"O\"\n",
        "      out += \"\\n\"\n",
        "    return out\n",
        "  \n",
        "  def report_side_length(self):\n",
        "    print(str(self.side))\n",
        "\n",
        "square = Square(4)\n",
        "print(square) # implicitly calls __str__\n",
        "square.report_side_length()"
      ]
    },
    {
      "cell_type": "markdown",
      "metadata": {
        "id": "MzYBI4-67Z3F"
      },
      "source": [
        "## Strings\n",
        "\n",
        "Recall that split() is a handy way to turn a string into a list; its argument is the separator."
      ]
    },
    {
      "cell_type": "code",
      "execution_count": null,
      "metadata": {
        "id": "dpq1u3X37wJd"
      },
      "outputs": [],
      "source": [
        "\"cabbage,beets,lettuce\".split(',')"
      ]
    },
    {
      "cell_type": "markdown",
      "metadata": {
        "id": "KZyfjuEk8WQl"
      },
      "source": [
        ".lower() is a good way of making sure comparisons are case-insensitive."
      ]
    },
    {
      "cell_type": "code",
      "execution_count": null,
      "metadata": {
        "id": "Lz2SCAoL8ePP"
      },
      "outputs": [],
      "source": [
        "\"Hello\".lower() == \"hEllO\".lower()"
      ]
    },
    {
      "cell_type": "markdown",
      "metadata": {
        "id": "rra2wikR75VL"
      },
      "source": [
        "Remember that \"in\" is the Python way of checking whether a string contains a substring."
      ]
    },
    {
      "cell_type": "code",
      "execution_count": null,
      "metadata": {
        "id": "NTj__mJi8BVW"
      },
      "outputs": [],
      "source": [
        "\"foo\" in \"foobar\""
      ]
    },
    {
      "cell_type": "markdown",
      "metadata": {
        "id": "Z5hJQJkL8Iu4"
      },
      "source": [
        "But for more complex pattern-matching, you need to use regular expressions."
      ]
    },
    {
      "cell_type": "code",
      "execution_count": null,
      "metadata": {
        "id": "tAbTrcZI8zs9"
      },
      "outputs": [],
      "source": [
        "import re\n",
        "\n",
        "longstring = \"We saw 200 people\"\n",
        "pattern = '(\\d+) people'\n",
        "result = re.search(pattern, longstring)\n",
        "print(result.group(1))"
      ]
    },
    {
      "cell_type": "markdown",
      "metadata": {
        "id": "0D_CPBOT9I3I"
      },
      "source": [
        "# Recursion\n",
        "\n",
        "Recall that a good way to program recursively is to assume the function already works for smaller problems, then make use of that to code the current case.\n",
        "\n",
        "The recursive call should always be making progress toward your base cases, or else the program will run infinitely.\n"
      ]
    },
    {
      "cell_type": "code",
      "execution_count": null,
      "metadata": {
        "id": "0ORVCZm09nmN"
      },
      "outputs": [],
      "source": [
        "def reverse_string(s):\n",
        "  if s == \"\":\n",
        "    return \"\"\n",
        "  return reverse_string(s[1:]) + s[0]\n",
        "\n",
        "reverse_string(\"foobar\")"
      ]
    },
    {
      "cell_type": "markdown",
      "metadata": {
        "id": "WBb7gYER-Pia"
      },
      "source": [
        "Recursion is particularly common for functions on trees, with the recursive calls acting on the children of the current node."
      ]
    },
    {
      "cell_type": "markdown",
      "metadata": {
        "id": "JdsnKID_wmUY"
      },
      "source": [
        "## Other assorted reminders\n",
        "\n",
        "* When you get errors, it tells you where things went wrong.\n",
        "\n",
        "* You may find it helpful to create pseudocode to structure your answers before writing the program.  Outline in comments what needs to be done."
      ]
    },
    {
      "cell_type": "markdown",
      "metadata": {
        "id": "bHGUGwDam3bR"
      },
      "source": [
        "# Short sample problem 1:  Loop\n",
        "\n",
        "Write a function that returns the next power of 2 after the argument (or the argument, if it is a power of 2).  You can assume the argument is at least 1."
      ]
    },
    {
      "cell_type": "code",
      "execution_count": null,
      "metadata": {
        "id": "vxHqbkaqnZnj"
      },
      "outputs": [],
      "source": [
        "def next_power(input):\n",
        "  # TODO\n",
        "\n",
        "print(next_power(32)) # Should be 32\n",
        "print(next_power(33)) # Should be 64"
      ]
    },
    {
      "cell_type": "markdown",
      "metadata": {
        "id": "VwPe_Zzxn9UZ"
      },
      "source": [
        "# Short sample problem 2:  Dictionaries\n",
        "\n",
        "Write a function that takes a list of strings and a dictionary as input.  Return a tuple, where the first element is the number of strings in the argument that are keys in the dictionary, and the second element is a list of the found keys' values."
      ]
    },
    {
      "cell_type": "code",
      "execution_count": null,
      "metadata": {
        "id": "UXMhigaLpLlj"
      },
      "outputs": [],
      "source": [
        "def find_strings(strings, mydict):\n",
        "  # TODO\n",
        "\n",
        "\n",
        "test_dict = {\n",
        "    \"foo\" : 1,\n",
        "    \"bar\" : 3,\n",
        "    \"qux\" : 2\n",
        "}\n",
        "find_strings([\"foo\", \"bar\", \"baz\"], test_dict)  # Expect (2, [1,3])"
      ]
    },
    {
      "cell_type": "markdown",
      "metadata": {
        "id": "_UtiGgGPqrfj"
      },
      "source": [
        "# Short sample problem 3:  Dataframes\n",
        "\n",
        "Using the Starbucks dataframe, find the mean calories of all Venti drinks."
      ]
    },
    {
      "cell_type": "code",
      "execution_count": null,
      "metadata": {
        "id": "9R-QQ6XerYSV"
      },
      "outputs": [],
      "source": [
        "# TODO"
      ]
    },
    {
      "cell_type": "markdown",
      "metadata": {
        "id": "Hym5JcDWr19j"
      },
      "source": [
        "# Short sample problem 4:  Objects\n",
        "\n",
        "Define a right triangle object.  The constructor should take the lengths of the two legs adjacent to the right angle.  Define a method that returns the area, and also override the string method so that it says \"Triangle of area X\", where X is the area."
      ]
    },
    {
      "cell_type": "code",
      "execution_count": null,
      "metadata": {
        "id": "IdNtaVfHr00U"
      },
      "outputs": [],
      "source": [
        "class RightTriangle():\n",
        "  # TODO\n",
        "\n",
        "my_tri = RightTriangle(5,4)\n",
        "print(my_tri)  # Expect Triangle of area 10.0"
      ]
    },
    {
      "cell_type": "markdown",
      "metadata": {
        "id": "2Oq-4l1i-gXg"
      },
      "source": [
        "# Short sample problem 5:  Recursion\n",
        "\n",
        "Write a recursive program that flips a BinaryTree (defined below) to be its mirror image, so that the rightmost leaf is now the leftmost leaf and similarly throughout the tree."
      ]
    },
    {
      "cell_type": "code",
      "execution_count": null,
      "metadata": {
        "id": "8tl8iC18-9Tu"
      },
      "outputs": [],
      "source": [
        "class BinaryTree:\n",
        "  def __init__(self,left,right,s):  # s is string data\n",
        "    self.left = left\n",
        "    self.right = right\n",
        "    self.s = s\n",
        "  \n",
        "  def __str__(self):\n",
        "    if (self.left):\n",
        "      leftstring = str(self.left)\n",
        "    else:\n",
        "      leftstring = \"\"\n",
        "    if (self.right):\n",
        "      rightstring = str(self.right)\n",
        "    else:\n",
        "      rightstring = \"\"\n",
        "    return leftstring + self.s + rightstring\n",
        "\n",
        "leftleft = BinaryTree(None,None,\"a\")\n",
        "leftright = BinaryTree(None,None,\"c\")\n",
        "left = BinaryTree(leftleft,leftright,\"b\")\n",
        "rightleft = BinaryTree(None,None,\"e\")\n",
        "rightright = BinaryTree(None,None,\"g\")\n",
        "right = BinaryTree(rightleft,rightright,\"f\")\n",
        "root = BinaryTree(left,right,\"d\")\n",
        "\n",
        "def mirror(bt):\n",
        "  # TODO\n",
        "\n",
        "print(mirror(root)) # Expect gfedcba\n"
      ]
    }
  ],
  "metadata": {
    "celltoolbar": "Slideshow",
    "colab": {
      "name": "Midterm_review_nosol.ipynb",
      "provenance": []
    },
    "kernelspec": {
      "display_name": "Python 3",
      "language": "python",
      "name": "python3"
    },
    "language_info": {
      "codemirror_mode": {
        "name": "ipython",
        "version": 3
      },
      "file_extension": ".py",
      "mimetype": "text/x-python",
      "name": "python",
      "nbconvert_exporter": "python",
      "pygments_lexer": "ipython3",
      "version": "3.8.8"
    },
    "rise": {
      "scroll": true
    }
  },
  "nbformat": 4,
  "nbformat_minor": 0
}