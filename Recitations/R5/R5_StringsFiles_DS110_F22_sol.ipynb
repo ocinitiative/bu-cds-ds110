{
  "nbformat": 4,
  "nbformat_minor": 0,
  "metadata": {
    "colab": {
      "name": "R5_StringsFiles_DS110_F22_sol.ipynb",
      "provenance": [],
      "collapsed_sections": []
    },
    "kernelspec": {
      "name": "python3",
      "display_name": "Python 3"
    },
    "language_info": {
      "name": "python"
    }
  },
  "cells": [
    {
      "cell_type": "markdown",
      "source": [
        "1) Write a regular expression that looks for the pattern \"\"In a ____ in the ground\" where the blank contains at least one \"word\" character.  (Note that the case must match.)"
      ],
      "metadata": {
        "id": "eVvAlS5ndXKa"
      }
    },
    {
      "cell_type": "code",
      "execution_count": null,
      "metadata": {
        "id": "LCro-LQHdJML"
      },
      "outputs": [],
      "source": [
        "hobbit_beginning = \"\"\"In a hole in the ground there lived a hobbit.\n",
        "Not a nasty, dirty, wet hole, filled with the ends of worms and an oozy smell,\n",
        "nor yet a dry, bare, sandy hole with nothing in it to sit down on or to eat:\n",
        "it was a hobbit-hole, and that means comfort.\"\"\""
      ]
    },
    {
      "cell_type": "code",
      "source": [
        "import re\n",
        "\n",
        "pattern = 'In a \\w+ in the ground'\n",
        "\n",
        "result = re.search(pattern, hobbit_beginning)\n",
        "if result:\n",
        "  print(result.group())"
      ],
      "metadata": {
        "colab": {
          "base_uri": "https://localhost:8080/"
        },
        "id": "B49wp2UUkU5X",
        "outputId": "7db0d38c-2267-4c2a-a252-a11b059bb406"
      },
      "execution_count": null,
      "outputs": [
        {
          "output_type": "stream",
          "name": "stdout",
          "text": [
            "In a hole in the ground\n"
          ]
        }
      ]
    },
    {
      "cell_type": "markdown",
      "source": [
        "2) Perform the same search, but capture the group with parentheses and print just what filled in the blank."
      ],
      "metadata": {
        "id": "cwUAzsl9kThK"
      }
    },
    {
      "cell_type": "code",
      "source": [
        " pattern = 'In a (\\w+) in the ground'\n",
        "\n",
        "result = re.search(pattern, hobbit_beginning)\n",
        "if result:\n",
        "  print(result.group(1))"
      ],
      "metadata": {
        "colab": {
          "base_uri": "https://localhost:8080/"
        },
        "id": "8d3KCV1flKc-",
        "outputId": "293c6ab8-b134-4f46-a723-195bc57da644"
      },
      "execution_count": null,
      "outputs": [
        {
          "output_type": "stream",
          "name": "stdout",
          "text": [
            "hole\n"
          ]
        }
      ]
    },
    {
      "cell_type": "markdown",
      "source": [
        "3) Now write an expression that grabs the whole first line up to the newline.  It helps to know that a '.' can match any character except a newline."
      ],
      "metadata": {
        "id": "7UFZLHs1lVK1"
      }
    },
    {
      "cell_type": "code",
      "source": [
        "pattern = '.+'\n",
        "result = re.search(pattern, hobbit_beginning)\n",
        "if result:\n",
        "  print(result.group())"
      ],
      "metadata": {
        "colab": {
          "base_uri": "https://localhost:8080/"
        },
        "id": "H6NC3UVolcVk",
        "outputId": "28d42f55-af79-4752-9fc7-8677984f697e"
      },
      "execution_count": null,
      "outputs": [
        {
          "output_type": "stream",
          "name": "stdout",
          "text": [
            "In a hole in the ground there lived a hobbit.\n"
          ]
        }
      ]
    },
    {
      "cell_type": "markdown",
      "source": [
        "4) In the following, have the regular expression look for the word \"color\" or \"colour\" (the expression should accept either), and print a color word that comes any distance after it.  The colors\n",
        "to look for can be green, yellow, red, or blue.  It doesn't need to be the first matching color word after the word \"color/colour\", just any match."
      ],
      "metadata": {
        "id": "IA5LEGxlm-LJ"
      }
    },
    {
      "cell_type": "code",
      "source": [
        "longstring = \"\"\"They are inclined to be fat in the stomach;\n",
        "they dress in bright colours (chiefly green and yellow);\n",
        "wear no shoes, because their feet grow natural leathery soles\n",
        "and thick warm brown hair like the stuff on their heads (which is curly);\n",
        "have long clever brown fingers, good-natured faces, and laugh deep fruity laughs\n",
        "(especially after dinner, which they have twice a day when they can get it).\"\"\"\n",
        "\n",
        "pattern = 'colou?r.*(green|yellow|red|blue)'\n",
        "result = re.search(pattern, longstring)\n",
        "if result:\n",
        "  print(result.group(1))"
      ],
      "metadata": {
        "colab": {
          "base_uri": "https://localhost:8080/"
        },
        "id": "gEL4cGHwnLrT",
        "outputId": "9a1d982e-cc70-44a2-b61e-515e6113ff9d"
      },
      "execution_count": null,
      "outputs": [
        {
          "output_type": "stream",
          "name": "stdout",
          "text": [
            "yellow\n"
          ]
        }
      ]
    },
    {
      "cell_type": "markdown",
      "source": [
        "For the following problems, you'll find it especially helpful to refer to the lecture .ipynb for Files and Exceptions."
      ],
      "metadata": {
        "id": "_xBXtEJ_8I2O"
      }
    },
    {
      "cell_type": "markdown",
      "source": [
        "5) Try writing a csv file hobbit.csv that consists of two lines:  \"green, yellow\" for the first line, \"curly, clever\" for the second."
      ],
      "metadata": {
        "id": "IzQzeCXutwJ8"
      }
    },
    {
      "cell_type": "code",
      "source": [
        "import csv\n",
        "\n",
        "with open('hobbit.csv', mode = 'w') as my_csv:\n",
        "    writer = csv.writer(my_csv)\n",
        "    writer.writerow(['green','yellow'])\n",
        "    writer.writerow(['curly','clever'])"
      ],
      "metadata": {
        "id": "_fFmJkPXuQgF"
      },
      "execution_count": null,
      "outputs": []
    },
    {
      "cell_type": "markdown",
      "source": [
        "Use !ls and !cat hobbit.csv to make sure it worked."
      ],
      "metadata": {
        "id": "KwmGs863umHP"
      }
    },
    {
      "cell_type": "code",
      "source": [
        "!ls\n",
        "!cat hobbit.csv"
      ],
      "metadata": {
        "colab": {
          "base_uri": "https://localhost:8080/"
        },
        "id": "bdq7QuAJurth",
        "outputId": "fc5f5749-870a-4202-a18a-f6a0c8ea500a"
      },
      "execution_count": null,
      "outputs": [
        {
          "output_type": "stream",
          "name": "stdout",
          "text": [
            "hobbit.csv  sample_data\n",
            "green,yellow\n",
            "curly,clever\n"
          ]
        }
      ]
    },
    {
      "cell_type": "markdown",
      "source": [
        "6) Now, try writing to file a JSON that uses the following dictionary."
      ],
      "metadata": {
        "id": "VXdGu315u6-b"
      }
    },
    {
      "cell_type": "code",
      "source": [
        "my_dict = {\n",
        "    'colors': ['green, blue'],\n",
        "    'descriptions': ['curly','clever']\n",
        "}\n",
        "\n",
        "import json\n",
        "with open('hobbit.json', 'w') as myfile:\n",
        "  json.dump(my_dict,myfile)"
      ],
      "metadata": {
        "id": "FlmROqQru_nc"
      },
      "execution_count": null,
      "outputs": []
    },
    {
      "cell_type": "code",
      "source": [
        "!ls"
      ],
      "metadata": {
        "colab": {
          "base_uri": "https://localhost:8080/"
        },
        "id": "ba_ruoa_v2_f",
        "outputId": "a759ffab-b4b5-4cf4-b47a-ddb1d39e94ef"
      },
      "execution_count": null,
      "outputs": [
        {
          "output_type": "stream",
          "name": "stdout",
          "text": [
            "hobbit.csv  hobbit.json  sample_data\n"
          ]
        }
      ]
    },
    {
      "cell_type": "markdown",
      "source": [
        "7) Read the JSON file back again and print the values associated with 'colors'."
      ],
      "metadata": {
        "id": "6KAjgD6qwKOR"
      }
    },
    {
      "cell_type": "code",
      "source": [
        "with open('hobbit.json', 'r') as myfile:\n",
        "  my_dict = json.load(myfile)\n",
        "  print(my_dict['colors'])"
      ],
      "metadata": {
        "colab": {
          "base_uri": "https://localhost:8080/"
        },
        "id": "Bfi8wBG1wSwx",
        "outputId": "b3608c6d-0351-42d0-bf4e-8dec7dc1fbd0"
      },
      "execution_count": null,
      "outputs": [
        {
          "output_type": "stream",
          "name": "stdout",
          "text": [
            "['green, blue']\n"
          ]
        }
      ]
    }
  ]
}