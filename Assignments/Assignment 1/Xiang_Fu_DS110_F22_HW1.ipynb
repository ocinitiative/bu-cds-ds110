{
  "cells": [
    {
      "cell_type": "markdown",
      "metadata": {
        "id": "t5mfEbDIGzKz",
        "pycharm": {
          "name": "#%% md\n"
        }
      },
      "source": [
        "# Homework 1 - 60 points possible - Due 9/19 11:59pm"
      ]
    },
    {
      "cell_type": "markdown",
      "metadata": {
        "id": "r3B-dpH5iZLv",
        "pycharm": {
          "name": "#%% md\n"
        }
      },
      "source": [
        "# Problem 1:  Expression warmups (20 pts: 2,2,2,2,4,2,3,3)\n",
        "\n",
        "Compute the following quantities in the code boxes that follow each prompt.\n",
        "Note that for each of these, we care about what the code *evaluates to* and not what it *prints* - so you don't need to call print() for any of these.\n",
        "\n",
        "a) (2 pts) The square of 2022.\n",
        "\n"
      ]
    },
    {
      "cell_type": "code",
      "execution_count": null,
      "metadata": {
        "colab": {
          "base_uri": "https://localhost:8080/"
        },
        "id": "rEMn_1TbiuB8",
        "outputId": "fef98fc3-673e-4f66-ed2f-13173f81ae84",
        "pycharm": {
          "name": "#%%\n"
        }
      },
      "outputs": [
        {
          "output_type": "execute_result",
          "data": {
            "text/plain": [
              "4088484.0"
            ]
          },
          "metadata": {},
          "execution_count": 1
        }
      ],
      "source": [
        "# TODO\n",
        "\n",
        "import math\n",
        "math.pow(2022, 2)\n"
      ]
    },
    {
      "cell_type": "markdown",
      "metadata": {
        "id": "xxv597ytixjM",
        "pycharm": {
          "name": "#%% md\n"
        }
      },
      "source": [
        "b) (2 pts) The number of characters in the phrase \"Try, try again.\"  (Including the whitespace and period.)"
      ]
    },
    {
      "cell_type": "code",
      "execution_count": null,
      "metadata": {
        "colab": {
          "base_uri": "https://localhost:8080/"
        },
        "id": "uIGdIsgbi_Lb",
        "outputId": "539a4130-a055-4f05-d56a-3932281b8c4f",
        "pycharm": {
          "name": "#%%\n"
        }
      },
      "outputs": [
        {
          "data": {
            "text/plain": "14"
          },
          "execution_count": 7,
          "metadata": {},
          "output_type": "execute_result"
        }
      ],
      "source": [
        "# TODO\n",
        "\n",
        "len(\"Try, try again\")\n"
      ]
    },
    {
      "cell_type": "markdown",
      "metadata": {
        "id": "V_fmMh-3ja1o",
        "pycharm": {
          "name": "#%% md\n"
        }
      },
      "source": [
        "c) (2 pts) The square root - import the math library - of 289."
      ]
    },
    {
      "cell_type": "code",
      "execution_count": null,
      "metadata": {
        "colab": {
          "base_uri": "https://localhost:8080/"
        },
        "id": "QM5HsgRIjZ5T",
        "outputId": "a6731f8a-8601-4a74-9dd2-6dca54514fa5",
        "pycharm": {
          "name": "#%%\n"
        }
      },
      "outputs": [
        {
          "data": {
            "text/plain": "17.0"
          },
          "execution_count": 1,
          "metadata": {},
          "output_type": "execute_result"
        }
      ],
      "source": [
        "# TODO\n",
        "\n",
        "import math\n",
        "math.sqrt(289)\n"
      ]
    },
    {
      "cell_type": "markdown",
      "metadata": {
        "id": "V2Xpw2VuUzSi",
        "pycharm": {
          "name": "#%% md\n"
        }
      },
      "source": [
        "d) (2 pts) A Boolean expression that is true only if both variable *a* and variable *b* are True."
      ]
    },
    {
      "cell_type": "code",
      "execution_count": 1,
      "metadata": {
        "colab": {
          "base_uri": "https://localhost:8080/"
        },
        "id": "1KBoX8FhUxgW",
        "outputId": "4ae9a4a7-b4e4-40bf-da92-47f36b79455d",
        "pycharm": {
          "name": "#%%\n"
        }
      },
      "outputs": [
        {
          "output_type": "execute_result",
          "data": {
            "text/plain": [
              "True"
            ]
          },
          "metadata": {},
          "execution_count": 1
        }
      ],
      "source": [
        "a = True  # play with this to test\n",
        "b = True  # play with this to test\n",
        "\n",
        "# TODO your expression below\n",
        "\n",
        "a and b\n"
      ]
    },
    {
      "cell_type": "markdown",
      "metadata": {
        "id": "EjOTeZl90KO9",
        "pycharm": {
          "name": "#%% md\n"
        }
      },
      "source": [
        "e) (4 pts) A Boolean expression that is true *unless* both variable *a* and variable *b* are True."
      ]
    },
    {
      "cell_type": "code",
      "execution_count": 11,
      "metadata": {
        "colab": {
          "base_uri": "https://localhost:8080/"
        },
        "id": "LOWHYmZ-0JZx",
        "outputId": "c4a7b528-aeae-4b14-e2fe-f8e26a11481b",
        "pycharm": {
          "name": "#%%\n"
        }
      },
      "outputs": [
        {
          "output_type": "execute_result",
          "data": {
            "text/plain": [
              "True"
            ]
          },
          "metadata": {},
          "execution_count": 11
        }
      ],
      "source": [
        "a=False\n",
        "b=True\n",
        "\n",
        "# TODO your expression below\n",
        "\n",
        "not(a and b)"
      ]
    },
    {
      "cell_type": "markdown",
      "metadata": {
        "id": "zoGUTlOjV_7O",
        "pycharm": {
          "name": "#%% md\n"
        }
      },
      "source": [
        "f) (2 pts) An expression that is true only if the variable balance is not negative."
      ]
    },
    {
      "cell_type": "code",
      "execution_count": 16,
      "metadata": {
        "colab": {
          "base_uri": "https://localhost:8080/"
        },
        "id": "1wOj7ryvWL05",
        "outputId": "ae0c2a36-e0ce-443b-e291-d61566d7ac7a",
        "pycharm": {
          "name": "#%%\n"
        }
      },
      "outputs": [
        {
          "output_type": "execute_result",
          "data": {
            "text/plain": [
              "True"
            ]
          },
          "metadata": {},
          "execution_count": 16
        }
      ],
      "source": [
        "balance = 76\n",
        "# TODO your expression below\n",
        "\n",
        "balance >= 0\n"
      ]
    },
    {
      "cell_type": "markdown",
      "metadata": {
        "id": "mKs8KYCs1LEe",
        "pycharm": {
          "name": "#%% md\n"
        }
      },
      "source": [
        "g) (3pts) An expression that is True only if variable *balance* is in the range [0, 10000] (0 through 10000 inclusive)"
      ]
    },
    {
      "cell_type": "code",
      "execution_count": 14,
      "metadata": {
        "colab": {
          "base_uri": "https://localhost:8080/"
        },
        "id": "lMEhW2cT1keY",
        "outputId": "9ca70288-9793-4d5d-cd3b-9545b010ba57",
        "pycharm": {
          "name": "#%%\n"
        }
      },
      "outputs": [
        {
          "output_type": "execute_result",
          "data": {
            "text/plain": [
              "False"
            ]
          },
          "metadata": {},
          "execution_count": 14
        }
      ],
      "source": [
        "balance = 1000828\n",
        "# TODO expression below\n",
        "\n",
        "0 <= balance <= 10000\n"
      ]
    },
    {
      "cell_type": "markdown",
      "metadata": {
        "id": "EocUerLnGOGX",
        "pycharm": {
          "name": "#%% md\n"
        }
      },
      "source": [
        "h) (3 pts) An expression that is true only if list L is empty (length 0)."
      ]
    },
    {
      "cell_type": "code",
      "execution_count": 17,
      "metadata": {
        "id": "QBZPtfqTGcbr",
        "pycharm": {
          "name": "#%%\n"
        },
        "colab": {
          "base_uri": "https://localhost:8080/"
        },
        "outputId": "e7e014b4-9f4a-490e-e365-f7b62c2797d9"
      },
      "outputs": [
        {
          "output_type": "execute_result",
          "data": {
            "text/plain": [
              "True"
            ]
          },
          "metadata": {},
          "execution_count": 17
        }
      ],
      "source": [
        "L = [] # An empty list\n",
        "# TODO\n",
        "\n",
        "len(L) == 0"
      ]
    },
    {
      "cell_type": "markdown",
      "metadata": {
        "id": "zSHlKxeL2Dxi",
        "pycharm": {
          "name": "#%% md\n"
        }
      },
      "source": [
        "# Problem 2:  Conditional warmups (20 pts: 6,8,6)"
      ]
    },
    {
      "cell_type": "markdown",
      "metadata": {
        "id": "vnnhP-eg2GaI",
        "pycharm": {
          "name": "#%% md\n"
        }
      },
      "source": [
        "Write a brief program for each prompt that makes use of the provided variable current_hour to determine what hour of the day it is.  current_hour can be set to any value between 0 (midnight) and 23 (11pm)."
      ]
    },
    {
      "cell_type": "code",
      "execution_count": null,
      "metadata": {
        "id": "7INB3vZW2QEZ",
        "pycharm": {
          "name": "#%%\n"
        }
      },
      "outputs": [],
      "source": [
        "current_hour = 12  # change to get different outputs below"
      ]
    },
    {
      "cell_type": "markdown",
      "metadata": {
        "id": "WyUKMhGV3-TV",
        "pycharm": {
          "name": "#%% md\n"
        }
      },
      "source": [
        "a) (6 pts) If the current hour is between 6 and 8 inclusive, print \"Breakfast!\".  If the current hour is between 10 and 12 inclusive, print \"Brunch!\"  Otherwise, print \"Not breakfast :(\"."
      ]
    },
    {
      "cell_type": "code",
      "execution_count": null,
      "metadata": {
        "colab": {
          "base_uri": "https://localhost:8080/"
        },
        "id": "0ywaqLMb4Znk",
        "outputId": "ed50f1bc-a54d-4d2a-8fda-6c1d43a779fb",
        "pycharm": {
          "name": "#%%\n"
        }
      },
      "outputs": [
        {
          "name": "stdout",
          "output_type": "stream",
          "text": [
            "Not breakfast:(\n"
          ]
        }
      ],
      "source": [
        "# TODO\n",
        "\n",
        "current_hour = 18\n",
        "\n",
        "if 6 <= current_hour <= 8:\n",
        "    print(\"Breakfast!\")\n",
        "elif 10 <= current_hour <= 12:\n",
        "    print(\"Brunch!\")\n",
        "else:\n",
        "    print(\"Not breakfast:(\")"
      ]
    },
    {
      "cell_type": "markdown",
      "metadata": {
        "id": "ydjGzl3N5FxV",
        "pycharm": {
          "name": "#%% md\n"
        }
      },
      "source": [
        "b) (8 points) If the time is equal to or after 10:00pm (22), print \"In two hours, it will be tomorrow.\" Otherwise, print \"In two hours, it will be \" followed by the hour two hours later using non-military time (so between 1 and 12).  (For example, if current_hour were 16, write \"In two hours, it will be 6.\") Be careful about how you handle 10am, which should print 12.\n",
        "\n"
      ]
    },
    {
      "cell_type": "code",
      "execution_count": null,
      "metadata": {
        "colab": {
          "base_uri": "https://localhost:8080/"
        },
        "id": "qCDO8lpj5ENe",
        "outputId": "8e4537d5-082f-4b3a-aa7b-bce1e4fc9eca",
        "pycharm": {
          "name": "#%%\n"
        }
      },
      "outputs": [
        {
          "output_type": "stream",
          "name": "stdout",
          "text": [
            "In two hours, it will be 3\n"
          ]
        }
      ],
      "source": [
        "# TODO\n",
        "\n",
        "current_hour = 13\n",
        "\n",
        "if current_hour >= 22:\n",
        "    print(\"In two hours, it will be tomorrow\")\n",
        "elif current_hour == 10:\n",
        "    print(\"In two hours, it will be 12\")\n",
        "else:\n",
        "    print(\"In two hours, it will be\" + \" \" + str((current_hour - 10)))\n"
      ]
    },
    {
      "cell_type": "markdown",
      "metadata": {
        "pycharm": {
          "name": "#%% md\n"
        },
        "id": "ovSpxCEiIATw"
      },
      "source": [
        "c) (6 points)  Given another variable \"deadline\", print \"X hours until the deadline\" if current_hour is before or equal to the deadline and \"X hours after the deadline\" if current_hour is larger than the deadline, where X is the correct amount.  For example, if current_hour is 7 and deadline is 14, print \"7 hours until the deadline.\""
      ]
    },
    {
      "cell_type": "code",
      "execution_count": null,
      "metadata": {
        "pycharm": {
          "name": "#%%\n"
        },
        "colab": {
          "base_uri": "https://localhost:8080/"
        },
        "id": "XyH1lwhRIATx",
        "outputId": "5229b4da-c923-49ce-b3dd-b00cea738912"
      },
      "outputs": [
        {
          "output_type": "stream",
          "name": "stdout",
          "text": [
            "3 hours after the deadline\n"
          ]
        }
      ],
      "source": [
        "current_hour = 6\n",
        "deadline = 3\n",
        "\n",
        "\n",
        "# TODO\n",
        "if current_hour <= deadline:\n",
        "  beforeValue = deadline - current_hour\n",
        "  print(str(beforeValue) + \" \" + \"hour until the deadline\")\n",
        "elif current_hour > deadline:\n",
        "  afterValue = current_hour - deadline\n",
        "  print(str(afterValue) + \" \" + \"hours after the deadline\")\n"
      ]
    },
    {
      "cell_type": "markdown",
      "metadata": {
        "id": "4ZCmUSwkr484",
        "pycharm": {
          "name": "#%% md\n"
        }
      },
      "source": [
        "# Problem 3: Lists (20 pts: 2,2,3,4,3,3)\n",
        "\n",
        "Some gas prices around the Boston area are 4.99, 5.10, 5.40, and 4.80.\n",
        "\n",
        "a, 2pts) Create a variable named gas_prices that stores all four values as a list."
      ]
    },
    {
      "cell_type": "code",
      "execution_count": null,
      "metadata": {
        "id": "Ujr6MRQQsX9t",
        "pycharm": {
          "name": "#%%\n"
        }
      },
      "outputs": [],
      "source": [
        "# TODO\n",
        "\n",
        "gas_prices = [4.99, 5.10, 5.40, 4.80]"
      ]
    },
    {
      "cell_type": "markdown",
      "metadata": {
        "id": "Yr3TSbbJsoao",
        "pycharm": {
          "name": "#%% md\n"
        }
      },
      "source": [
        "b, 2pts) We discovered a new gas station.  Call the list method\n",
        " append() to add the value 4.75 to the end of the list."
      ]
    },
    {
      "cell_type": "code",
      "execution_count": null,
      "metadata": {
        "colab": {
          "base_uri": "https://localhost:8080/"
        },
        "id": "NqzSEhGfsfiy",
        "outputId": "98ece99e-3989-4e6a-f6d3-f70b394eeacf",
        "pycharm": {
          "name": "#%%\n"
        }
      },
      "outputs": [
        {
          "name": "stdout",
          "output_type": "stream",
          "text": [
            "[4.99, 5.1, 5.4, 4.8, 4.75]\n"
          ]
        }
      ],
      "source": [
        "# TODO\n",
        "\n",
        "gas_prices = [4.99, 5.10, 5.40, 4.80]\n",
        "gas_prices.append(4.75)"
      ]
    },
    {
      "cell_type": "markdown",
      "metadata": {
        "id": "aPVRow22s6mp",
        "pycharm": {
          "name": "#%% md\n"
        }
      },
      "source": [
        "c, 3pts) Call the sort() method on the prices, then write an expression that returns the first (zeroth) price in the list."
      ]
    },
    {
      "cell_type": "code",
      "execution_count": null,
      "metadata": {
        "colab": {
          "base_uri": "https://localhost:8080/"
        },
        "id": "vRM2otpXtOCg",
        "outputId": "aa53d9a4-f80a-4224-b579-57ef368ee21a",
        "pycharm": {
          "name": "#%%\n"
        }
      },
      "outputs": [
        {
          "name": "stdout",
          "output_type": "stream",
          "text": [
            "4.8\n"
          ]
        }
      ],
      "source": [
        "# TODO\n",
        "\n",
        "gas_prices = [4.99, 5.10, 5.40, 4.80]\n",
        "gas_prices.sort()\n",
        "gas_prices[0]\n"
      ]
    },
    {
      "cell_type": "markdown",
      "metadata": {
        "id": "2-MkftMYtlgZ",
        "pycharm": {
          "name": "#%% md\n"
        }
      },
      "source": [
        "d, 4pts) Code an expression that returns the final element in the list.  Assume you don't know the length of the list - call len() to get this value, or use a method that doesn't rely on knowing the length of the list ahead of time."
      ]
    },
    {
      "cell_type": "code",
      "execution_count": null,
      "metadata": {
        "colab": {
          "base_uri": "https://localhost:8080/"
        },
        "id": "V1RO8jtHtxnf",
        "outputId": "e3e1221a-dcc0-4c03-c6e0-945cdf9b0b6c",
        "pycharm": {
          "name": "#%%\n"
        }
      },
      "outputs": [
        {
          "name": "stdout",
          "output_type": "stream",
          "text": [
            "4.8\n"
          ]
        }
      ],
      "source": [
        "# TODO\n",
        "\n",
        "gas_prices = [4.99, 5.10, 5.40, 4.80]\n",
        "gas_prices[-1]\n"
      ]
    },
    {
      "cell_type": "markdown",
      "metadata": {
        "pycharm": {
          "name": "#%% md\n"
        },
        "id": "e-aabsqJIAT3"
      },
      "source": [
        "e, 3pts) Look online for a list method that removes the first (zeroth) item, whatever its value, and returns that value. Do this to gas_prices."
      ]
    },
    {
      "cell_type": "code",
      "execution_count": null,
      "metadata": {
        "pycharm": {
          "name": "#%%\n"
        },
        "id": "31FdyfenIAT4",
        "outputId": "fd3af6fb-b083-4616-e46b-fa025f521964"
      },
      "outputs": [
        {
          "name": "stdout",
          "output_type": "stream",
          "text": [
            "[5.1, 5.4, 4.8]\n"
          ]
        }
      ],
      "source": [
        "# TODO\n",
        "\n",
        "gas_prices = [4.99, 5.10, 5.40, 4.80]\n",
        "\n",
        "gas_prices.pop(0)\n"
      ]
    },
    {
      "cell_type": "markdown",
      "metadata": {
        "pycharm": {
          "name": "#%% md\n"
        },
        "id": "Zn-C04FEIAT4"
      },
      "source": [
        "f, 3 pts) Here is a list-of-lists \"prices\" containing gas prices by the gallon in the first list, and milk prices by the gallon in the second list.  Write the expression that accesses the first (zeroth) milk price."
      ]
    },
    {
      "cell_type": "code",
      "execution_count": null,
      "metadata": {
        "pycharm": {
          "name": "#%%\n"
        },
        "id": "Dt5TF_RSIAT4"
      },
      "outputs": [],
      "source": [
        "prices = [[4.99, 5.10, 5.40, 4.80], # gas prices\n",
        "          [2.90, 3.04, 3.32, 3.55]] # milk prices"
      ]
    },
    {
      "cell_type": "code",
      "execution_count": null,
      "metadata": {
        "pycharm": {
          "name": "#%%\n"
        },
        "id": "7zLlEm1BIAT5",
        "outputId": "4070bf64-a841-4308-a1ea-be15acadfaeb"
      },
      "outputs": [
        {
          "name": "stdout",
          "output_type": "stream",
          "text": [
            "2.9\n"
          ]
        }
      ],
      "source": [
        "# TODO\n",
        "\n",
        "prices = [[4.99, 5.10, 5.40, 4.80], # gas prices\n",
        "          [2.90, 3.04, 3.32, 3.55]] # milk prices\n",
        "\n",
        "prices[1][2]\n"
      ]
    },
    {
      "cell_type": "markdown",
      "metadata": {
        "pycharm": {
          "name": "#%% md\n"
        },
        "id": "1uXNidDcIAT5"
      },
      "source": [
        "g, 3pts) Use the function max() to find the largest *milk* price.  (Index just once into prices, to get the milk list.)"
      ]
    },
    {
      "cell_type": "code",
      "execution_count": null,
      "metadata": {
        "pycharm": {
          "name": "#%%\n"
        },
        "id": "5wvlrNBeIAT7",
        "outputId": "640b24c7-f6d2-45df-b678-d62aee69424c"
      },
      "outputs": [
        {
          "name": "stdout",
          "output_type": "stream",
          "text": [
            "3.55\n"
          ]
        }
      ],
      "source": [
        "# TODO\n",
        "\n",
        "max(prices[1])\n"
      ]
    }
  ],
  "metadata": {
    "colab": {
      "collapsed_sections": [],
      "provenance": []
    },
    "kernelspec": {
      "display_name": "Python 3",
      "language": "python",
      "name": "python3"
    },
    "language_info": {
      "codemirror_mode": {
        "name": "ipython",
        "version": 3
      },
      "file_extension": ".py",
      "mimetype": "text/x-python",
      "name": "python",
      "nbconvert_exporter": "python",
      "pygments_lexer": "ipython3",
      "version": "3.8.8"
    }
  },
  "nbformat": 4,
  "nbformat_minor": 0
}