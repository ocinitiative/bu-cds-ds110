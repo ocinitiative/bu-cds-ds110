{
 "cells": [
  {
   "cell_type": "markdown",
   "metadata": {
    "slideshow": {
     "slide_type": "slide"
    }
   },
   "source": [
    "# Recursion"
   ]
  },
  {
   "cell_type": "markdown",
   "metadata": {
    "id": "VEBT9VQ6jmkX",
    "slideshow": {
     "slide_type": "slide"
    }
   },
   "source": [
    "# What is recursion?\n",
    "\n",
    "Functions can call themselves in their definitions; that's recursion.  It seems like it should be illegal to have a circular definition.  And in fact, it's very easy to create cases where the code will never terminate because of the way it calls itself."
   ]
  },
  {
   "cell_type": "code",
   "execution_count": null,
   "metadata": {
    "id": "nQ0Eh0vCj-5Q",
    "slideshow": {
     "slide_type": "-"
    }
   },
   "outputs": [],
   "source": [
    "def bad_recursion():\n",
    "  print(\"Bad!\")\n",
    "  bad_recursion()\n",
    "\n",
    "bad_recursion()"
   ]
  },
  {
   "cell_type": "markdown",
   "metadata": {
    "id": "iC3F0IWBkLbV",
    "slideshow": {
     "slide_type": "slide"
    }
   },
   "source": [
    "But it's not the case that every self-mention results in infinite recursion.  The recursive call may be dealing with an inherently smaller problem.  If the problem keeps getting smaller until it can be handled with a simple case that isn't recursive, then that's a good recursion.\n",
    "\n"
   ]
  },
  {
   "cell_type": "markdown",
   "metadata": {
    "slideshow": {
     "slide_type": "slide"
    }
   },
   "source": [
    "To use a classic example, we can think about factorial, where 7! = $7 * 6 * 5 * 4 * 3 * 2 * 1$ and similarly for other numbers.  We could define this as $7 * 6!$.  We could define $6!$ as $6 * 5!$.  We could generally define $n!$ as $n * (n-1)!$.  And none of this would be helpful unless we also defined a small base case where $1! = 1$."
   ]
  },
  {
   "cell_type": "code",
   "execution_count": null,
   "metadata": {
    "id": "Mb8Y8TpJllji",
    "slideshow": {
     "slide_type": "slide"
    }
   },
   "outputs": [],
   "source": [
    "def factorial(n):\n",
    "  # Omitting checks to make sure we're a natural number, etc\n",
    "  if n == 1:\n",
    "    return 1\n",
    "  return n * factorial(n-1)\n",
    "\n",
    "print (factorial(4))"
   ]
  },
  {
   "cell_type": "markdown",
   "metadata": {
    "id": "XXoyK93Cl22T",
    "slideshow": {
     "slide_type": "-"
    }
   },
   "source": [
    "Here, the code tries to evaluate 4! by trying to find 3!.  Trying to find 3! causes it to try to find 2!.  Trying to evaluate 2!, it tries to evaluate 1!.  And that is the *base case* and a simple lookup.  It returns, and all the calls return their values on the way back up:  $2*1 = 2, 3*2 = 6, 4*6 = 24$."
   ]
  },
  {
   "cell_type": "code",
   "execution_count": null,
   "metadata": {
    "slideshow": {
     "slide_type": "slide"
    }
   },
   "outputs": [],
   "source": [
    "def factorial(n):\n",
    "  # Omitting checks to make sure we're a natural number, etc\n",
    "  print(f'Evaluating {n}!')\n",
    "  if n == 1:\n",
    "    print('Returning 1')\n",
    "    return 1\n",
    "  result = n * factorial(n-1)\n",
    "  print(f'Returning {result}')\n",
    "  return result\n",
    "\n",
    "print (factorial(4))"
   ]
  },
  {
   "cell_type": "markdown",
   "metadata": {
    "slideshow": {
     "slide_type": "slide"
    }
   },
   "source": [
    "Here are some similar functions that compute their results recursively.  We can compute a sum of consecutive numbers more or less the same way we compute a factorial, stopping early when we hit the starting number."
   ]
  },
  {
   "cell_type": "code",
   "execution_count": null,
   "metadata": {
    "slideshow": {
     "slide_type": "-"
    }
   },
   "outputs": [],
   "source": [
    "# Sum from m to n\n",
    "def sum_m_to_n(m, n):\n",
    "    if n == m:\n",
    "        return m\n",
    "    result = n + sum_m_to_n(m, n-1)\n",
    "    return result\n",
    "\n",
    "sum_m_to_n(3, 7) # 3 + 4 + 5 + 6 + 7 = 25"
   ]
  },
  {
   "cell_type": "code",
   "execution_count": null,
   "metadata": {
    "slideshow": {
     "slide_type": "slide"
    }
   },
   "outputs": [],
   "source": [
    "# Sum from m to n\n",
    "def sum_m_to_n(m, n):\n",
    "    print(f'Evaluating sum from {m} to {n}')\n",
    "    if n == m:\n",
    "        print(f'Returning {m}')\n",
    "        return m\n",
    "    result = n + sum_m_to_n(m, n-1)\n",
    "    print(f'Returning {result}')\n",
    "    return result\n",
    "\n",
    "sum_m_to_n(3, 7) # 3 + 4 + 5 + 6 + 7 = 25"
   ]
  },
  {
   "cell_type": "markdown",
   "metadata": {
    "slideshow": {
     "slide_type": "slide"
    }
   },
   "source": [
    "A power $a^p$ = $a^{p-1}a$, so it can also be computed recursively."
   ]
  },
  {
   "cell_type": "code",
   "execution_count": null,
   "metadata": {
    "slideshow": {
     "slide_type": "-"
    }
   },
   "outputs": [],
   "source": [
    "def mypow(a, p):\n",
    "    if p == 0:\n",
    "        return 1\n",
    "    result = a * mypow(a, p-1)\n",
    "    return result\n",
    "\n",
    "mypow(2,8)"
   ]
  },
  {
   "cell_type": "code",
   "execution_count": null,
   "metadata": {
    "slideshow": {
     "slide_type": "slide"
    }
   },
   "outputs": [],
   "source": [
    "def mypow(a, p):\n",
    "    print(f'Evaluating {a}^{p}')\n",
    "    if p == 0:\n",
    "        print('Returning 1')\n",
    "        return 1\n",
    "    result = a * mypow(a, p-1)\n",
    "    print(f'Returning {result}')\n",
    "    return result\n",
    "\n",
    "mypow(2,8)"
   ]
  },
  {
   "cell_type": "markdown",
   "metadata": {},
   "source": [
    "In each of these cases, the problem in some way gets \"smaller\" with each recursive call, and our base case code is waiting to handle the return value when the value gets small enough.  Then each function builds on what it gets back from its recursive call."
   ]
  },
  {
   "cell_type": "markdown",
   "metadata": {
    "id": "ediKPmL4msgS",
    "slideshow": {
     "slide_type": "slide"
    }
   },
   "source": [
    "Now, let's be honest.  These examples could have been coded iteratively; it's not clear there's a benefit to the recursive approach here."
   ]
  },
  {
   "cell_type": "code",
   "execution_count": null,
   "metadata": {
    "id": "d5wTYKFwnIp0",
    "slideshow": {
     "slide_type": "-"
    }
   },
   "outputs": [],
   "source": [
    "def iter_factorial(n):\n",
    "  running_fact = 1\n",
    "  for i in range(1,n+1):\n",
    "    running_fact *= i\n",
    "  return running_fact\n",
    "  \n",
    "print(iter_factorial(4))"
   ]
  },
  {
   "cell_type": "markdown",
   "metadata": {
    "id": "-RXjqS1un2hH",
    "slideshow": {
     "slide_type": "slide"
    }
   },
   "source": [
    "But sometimes, recursion maps very well on to problem, such that it's difficult to write the code any other way.  Arguably an example of this is computing the power set, or set of all possible subsets, of a set.  Given an arbitrary \"first\" element of the set, A, the power set contains all subsets that contain A and all subsets that don't contain A.  For example, the power set containing {'a','b'} is equal to those subsets that contain 'a' ({'a'},{'a','b'}) combined with the subsets that don't contain 'a' ({'b'},empty set).  This leads to the recursive approach of computing the power set without the first element, then computing the overall power set as two copies of that smaller subset, one of which has element A added to everything."
   ]
  },
  {
   "cell_type": "code",
   "execution_count": null,
   "metadata": {
    "slideshow": {
     "slide_type": "slide"
    }
   },
   "outputs": [],
   "source": [
    "# Demo with a string representing the set because it's a little cleaner to code\n",
    "def power_set(setstring):\n",
    "    if len(setstring) == 0:\n",
    "        return [\"\"]\n",
    "    subset_list = []\n",
    "    smaller_power_set = power_set(setstring[1:])\n",
    "    # The starting character is either in the subset...\n",
    "    for substring in smaller_power_set:\n",
    "        subset_list.append(setstring[0] + substring)\n",
    "    # ...or not.\n",
    "    for substring in smaller_power_set:\n",
    "        subset_list.append(substring)\n",
    "    return subset_list\n",
    "\n",
    "power_set(\"abcd\")"
   ]
  },
  {
   "cell_type": "markdown",
   "metadata": {
    "id": "7H14ZYkeoX5k",
    "slideshow": {
     "slide_type": "slide"
    }
   },
   "source": [
    "# Trees\n",
    "\n",
    "Often the most concise way of handling a problem involving trees is to use recursion.\n",
    "\n",
    "Simply counting the nodes in a binary tree is a useful beginning exercise in recursion.  How many nodes are in the tree?  There are the nodes in the left tree, the nodes in the right tree, and the node in the center connecting the two.  Trying to describe how this algorithm works in an iterative way can be done, but the code is much simpler written recursively."
   ]
  },
  {
   "cell_type": "code",
   "execution_count": null,
   "metadata": {
    "id": "t2oEOU6dpch4",
    "slideshow": {
     "slide_type": "slide"
    }
   },
   "outputs": [],
   "source": [
    "class BinaryTree:\n",
    "  def __init__(self, left, right):\n",
    "    self.leftNode = left # Pass None for no child\n",
    "    self.rightNode = right # again, None for no child\n",
    "\n",
    "myTree = BinaryTree(BinaryTree(None,None), BinaryTree(BinaryTree(BinaryTree(None,None), None), None))"
   ]
  },
  {
   "cell_type": "code",
   "execution_count": null,
   "metadata": {
    "id": "UkKitO6umrSQ",
    "slideshow": {
     "slide_type": "-"
    }
   },
   "outputs": [],
   "source": [
    "def countNodes(tree):\n",
    "  if (tree == None):\n",
    "    return 0\n",
    "  return 1 + countNodes(tree.leftNode) + countNodes(tree.rightNode)\n",
    "\n",
    "countNodes(myTree)"
   ]
  },
  {
   "cell_type": "markdown",
   "metadata": {
    "id": "LB25FhHlq2oK",
    "slideshow": {
     "slide_type": "subslide"
    }
   },
   "source": [
    "The problem gets smaller for each recursive call because the subtree on the left is necessarily smaller than the tree as a whole, and the same goes for the right.  So the algorithm *definitely makes progress* as it reduces the problem to one of smaller size.  That's requirement number one for a successful recursive algorithm; the new problem should be smaller.\n",
    "\n",
    "\n"
   ]
  },
  {
   "cell_type": "markdown",
   "metadata": {
    "slideshow": {
     "slide_type": "subslide"
    }
   },
   "source": [
    "And the second requirement is having a base case, without which the algorithm will either crash or go on forever.  Having multiple base cases is possible, too.  That's fine, and it's better to write something that works instead of something slick that may not work all the time.\n"
   ]
  },
  {
   "cell_type": "markdown",
   "metadata": {
    "slideshow": {
     "slide_type": "subslide"
    }
   },
   "source": [
    "Another interesting property of recursion is that it requires you really *trust your code*, even if you haven't written it yet.  Believing 100% that the smaller case will work is necessary to moving on to think about how to use that value to compute the larger case.  We have to trust that factorial(n-1) works.  We have to trust that the count of the smaller subtree's nodes will work.\n"
   ]
  },
  {
   "cell_type": "markdown",
   "metadata": {
    "slideshow": {
     "slide_type": "slide"
    }
   },
   "source": [
    "# Induction\n",
    "\n",
    "That sounds a little like magical thinking, so why *does* a recursive algorithm work?  The answer is that it's a little like mathematical induction.  You may at some point have had to prove something by induction:  you prove the truth of the statement for the base case, then you prove that if it's true for n=i, it's also true for n=i+1.  \n"
   ]
  },
  {
   "cell_type": "markdown",
   "metadata": {
    "slideshow": {
     "slide_type": "subslide"
    }
   },
   "source": [
    "So it is with recursion.  The base case needs to make sense, and then, the step that you use to get from the smaller case to the larger case must also make sense.  We have base cases for all the algorithms we've seen so far (i=1 for factorial, empty tree for tree node counting, etc).  And in each case, our logic was rock solid for getting to the next step (multiply by n always makes sense, adding the current node to the two subtrees always makes sense)."
   ]
  },
  {
   "cell_type": "markdown",
   "metadata": {
    "slideshow": {
     "slide_type": "slide"
    }
   },
   "source": [
    "When coding or designing an algorithm, it might still feel a little bit magical to *just assume* the algorithm works for smaller inputs.  But as long as the base cases work and the logic is sound for solving bigger problems from smaller ones, the whole thing will work.\n"
   ]
  },
  {
   "cell_type": "markdown",
   "metadata": {
    "slideshow": {
     "slide_type": "slide"
    }
   },
   "source": [
    "\n",
    "# Tree example number two:  traversal to build a set\n",
    "\n",
    "Here is code that iterates through a tree and puts all the values stored in it into a set.  Sets have a \"union\" functionality to combine with other sets, so we'll want to union the stuff on the left,\n",
    "the stuff on the right, and our own data."
   ]
  },
  {
   "cell_type": "code",
   "execution_count": null,
   "metadata": {
    "id": "y706eQqrvq_q",
    "slideshow": {
     "slide_type": "-"
    }
   },
   "outputs": [],
   "source": [
    "class BinaryTree:\n",
    "  def __init__(self, left, right, s):\n",
    "    self.leftNode = left # Pass None for no child\n",
    "    self.rightNode = right # again, None for no child\n",
    "    self.s = s # a string\n",
    "\n",
    "btD = BinaryTree(None,None,\"D\")\n",
    "btE = BinaryTree(None,None,\"E\")\n",
    "btF = BinaryTree(None,None,\"F\")\n",
    "myTree = BinaryTree(BinaryTree(btD,btE, \"A\"),BinaryTree(btF, None, \"C\"), \"B\")\n",
    "\n",
    "def build_set(node):\n",
    "    if node == None:\n",
    "      return set()\n",
    "    # Recursive idea:  union the stuff from the left\n",
    "    # with stuff from the right with us\n",
    "    return set(node.s).union(build_set(node.leftNode)) \\\n",
    "                      .union(build_set(node.rightNode))\n",
    "\n",
    "print(build_set(myTree))"
   ]
  },
  {
   "cell_type": "markdown",
   "metadata": {
    "id": "x3fXwNZsSXhm",
    "slideshow": {
     "slide_type": "slide"
    }
   },
   "source": [
    "# Worked exercise:  a palindrome checker\n",
    "\n"
   ]
  },
  {
   "cell_type": "markdown",
   "metadata": {
    "slideshow": {
     "slide_type": "slide"
    }
   },
   "source": [
    "A palindrome is a word that reads the same forwards and backwards.  It stands to reason that a word is a palindrome if its outermost letters match, and the word with those letters removed is also a palindrome.  That's the beginning of a recursive approach.  We then need to think about base cases, what it would look like when the algorithm is reaching the end.  It could end up with an empty string, which we would say is a palindrome, or a single letter, which is also a palindrome.  But we probably only need to return False when we have evidence of a mismatch on the ends."
   ]
  },
  {
   "cell_type": "code",
   "execution_count": null,
   "metadata": {
    "id": "fzqBHZI5RKU0",
    "slideshow": {
     "slide_type": "slide"
    }
   },
   "outputs": [],
   "source": [
    "def palindrome(s):\n",
    "  if len(s) == 1 or len(s) == 0:\n",
    "    return True\n",
    "  if s[0] != s[-1]:  # [-1] is the last letter\n",
    "    return False\n",
    "  return palindrome(s[1:-1])\n",
    "\n",
    "print(palindrome(\"ababa\"))\n",
    "print(palindrome(\"axe\"))\n",
    "print(palindrome(\"amanaplanacanalpanama\"))"
   ]
  },
  {
   "cell_type": "markdown",
   "metadata": {
    "id": "jT4Byhl6HIrK",
    "slideshow": {
     "slide_type": "slide"
    }
   },
   "source": [
    "# Exercise\n",
    "Try combining some of the ideas above to write code that takes a BinaryTree (as defined above with a string piece of data) and prints every string in the tree (you pick the order).  How could you change the order?"
   ]
  },
  {
   "cell_type": "code",
   "execution_count": null,
   "metadata": {
    "colab": {
     "base_uri": "https://localhost:8080/",
     "height": 245
    },
    "id": "RtOltSXRHqA3",
    "outputId": "4e57a11a-e1b5-4f39-91f4-048eb4438945",
    "slideshow": {
     "slide_type": "slide"
    }
   },
   "outputs": [],
   "source": [
    "def print_tree(my_tree):\n",
    "  if my_tree is None:\n",
    "    return\n",
    "  print(my_tree.s)\n",
    "  print_tree(my_tree.leftNode)\n",
    "  print_tree(my_tree.rightNode)\n",
    "  return\n",
    "\n",
    "btD = BinaryTree(None,None,\"D\")\n",
    "btE = BinaryTree(None,None,\"E\")\n",
    "btF = BinaryTree(None,None,\"F\")\n",
    "myTree = BinaryTree(BinaryTree(btD,btE, \"A\"),BinaryTree(btF, None, \"C\"), \"B\")\n",
    "print_tree(myTree)\n"
   ]
  },
  {
   "cell_type": "code",
   "execution_count": null,
   "metadata": {},
   "outputs": [],
   "source": []
  }
 ],
 "metadata": {
  "celltoolbar": "Slideshow",
  "colab": {
   "collapsed_sections": [],
   "name": "Lecture17Recursion_after.ipynb",
   "provenance": []
  },
  "kernelspec": {
   "display_name": "Python 3",
   "language": "python",
   "name": "python3"
  },
  "language_info": {
   "codemirror_mode": {
    "name": "ipython",
    "version": 3
   },
   "file_extension": ".py",
   "mimetype": "text/x-python",
   "name": "python",
   "nbconvert_exporter": "python",
   "pygments_lexer": "ipython3",
   "version": "3.8.8"
  },
  "rise": {
   "scroll": true
  }
 },
 "nbformat": 4,
 "nbformat_minor": 1
}
