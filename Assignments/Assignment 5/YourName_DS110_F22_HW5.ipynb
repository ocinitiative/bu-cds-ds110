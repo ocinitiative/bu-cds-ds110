{
  "nbformat": 4,
  "nbformat_minor": 0,
  "metadata": {
    "colab": {
      "name": "YourName_DS110_F22_HW5.ipynb",
      "provenance": [],
      "collapsed_sections": []
    },
    "kernelspec": {
      "name": "python3",
      "display_name": "Python 3"
    },
    "language_info": {
      "name": "python"
    }
  },
  "cells": [
    {
      "cell_type": "markdown",
      "source": [
        "# HW5 (60 points possible)"
      ],
      "metadata": {
        "id": "4QjxoHMoAqof"
      }
    },
    {
      "cell_type": "markdown",
      "source": [
        "Also needs Pokemon.csv, available from the same place you downloaded this file."
      ],
      "metadata": {
        "id": "wWuBjlYtCnEZ"
      }
    },
    {
      "cell_type": "markdown",
      "source": [
        "# Problem 1:  String Validation (30 pts:  6,6,8,10)"
      ],
      "metadata": {
        "id": "Fe8cg3NO_K6X"
      }
    },
    {
      "cell_type": "markdown",
      "source": [
        "Data validation is the practice of checking that the data conforms to expectations - values that should be numbers are numbers, strings don't have any extra whitespace, and so on.  For each problem, unless otherwise noted, write a function that takes a string as an argument and returns True or False based on whether it conforms to the expectations in the problem description."
      ],
      "metadata": {
        "id": "5WYQ5DeAGXLP"
      }
    },
    {
      "cell_type": "markdown",
      "source": [
        "a, 6pts) check_alpha_or_digit():  True if the string is composed only of lowercase or uppercase letters *or* if the string is composed entirely of numerical digits (a mix of the two returns False)."
      ],
      "metadata": {
        "id": "T62DxPYpHSql"
      }
    },
    {
      "cell_type": "code",
      "source": [
        "# TODO check_alpha_or_digit()"
      ],
      "metadata": {
        "id": "ch2PV5cFHhu8"
      },
      "execution_count": null,
      "outputs": []
    },
    {
      "cell_type": "code",
      "source": [
        "print(check_alpha_or_digit('foo')) # expect True\n",
        "print(check_alpha_or_digit('111')) # expect True\n",
        "print(check_alpha_or_digit('1f2d')) # expect False"
      ],
      "metadata": {
        "id": "rwW4BuZLHM0v"
      },
      "execution_count": null,
      "outputs": []
    },
    {
      "cell_type": "markdown",
      "source": [
        "b, 6 points) well_trimmed():  True if the string contains no whitespace of the kind that would be removed by strip().  False if it contains leading or trailing whitespace."
      ],
      "metadata": {
        "id": "xdvxix2mMOPF"
      }
    },
    {
      "cell_type": "code",
      "source": [
        "# TODO well_trimmed()"
      ],
      "metadata": {
        "id": "TYM52ANnMl8D"
      },
      "execution_count": null,
      "outputs": []
    },
    {
      "cell_type": "code",
      "source": [
        "print(well_trimmed('whitespace.   ')) # expect False\n",
        "print(well_trimmed('\\nwhitespace.')) # expect False\n",
        "print(well_trimmed('whitespace')) # expect True"
      ],
      "metadata": {
        "id": "Dj3iuEtJdsd9"
      },
      "execution_count": null,
      "outputs": []
    },
    {
      "cell_type": "markdown",
      "source": [
        "c, 8 points) is_ok():  True if the string contains any number of 'o's (but at least one) followed by a 'k'.  Case shouldn't matter, nor should any leading or trailing characters.  (Hint: call lower() on the string to ignore case)."
      ],
      "metadata": {
        "id": "SLNfn1-NeOgn"
      }
    },
    {
      "cell_type": "code",
      "source": [
        "# TODO is_ok()\n"
      ],
      "metadata": {
        "id": "Ym0p9XSAeNjl"
      },
      "execution_count": null,
      "outputs": []
    },
    {
      "cell_type": "code",
      "source": [
        "print(contains_ok('ok')) # Expect True\n",
        "print(contains_ok('oooook')) # Expect True\n",
        "print(contains_ok('k')) # Expect False\n",
        "print(contains_ok('.......okay')) # Expect True\n",
        "print(contains_ok('OK')) # Expect True"
      ],
      "metadata": {
        "id": "vsZHE0Z0gIzG"
      },
      "execution_count": null,
      "outputs": []
    },
    {
      "cell_type": "markdown",
      "source": [
        "d, 10 pts) no_bad_words():  False if the string contains either of the words 'fudge' or 'shoot', where the u in fudge or o's in shoot could be repeated arbitrarily many times; True if neither questionable word is contained in the string.  Ignore case again, so capitalized or lowercase words are grounds for a False.\n"
      ],
      "metadata": {
        "id": "20bzovXNlNKy"
      }
    },
    {
      "cell_type": "code",
      "source": [
        "def no_bad_words(s):\n",
        "  pattern = '(fu+dge)|(shoo+t)'\n",
        "  result = re.search(pattern, s.lower())\n",
        "  if result:\n",
        "    return False\n",
        "  return True"
      ],
      "metadata": {
        "id": "AzMHr201l7Du"
      },
      "execution_count": null,
      "outputs": []
    },
    {
      "cell_type": "code",
      "source": [
        "print(no_bad_words('fudge')) # expect False\n",
        "print(no_bad_words('fuuuudge')) # expect False\n",
        "print(no_bad_words('fdgeshot')) # expect True\n",
        "print(no_bad_words('shoot')) # expect False\n",
        "print(no_bad_words('shooooooot')) # expect False"
      ],
      "metadata": {
        "id": "50g8ouu-mMk_"
      },
      "execution_count": null,
      "outputs": []
    },
    {
      "cell_type": "markdown",
      "source": [
        "# Problem 2: Counting Pokémon (30 points: 10, 14, 6)\n",
        "\n",
        "You work for the creators of Pokémon GO, a game where players try to collect odd-looking monsters called Pokémon by venturing to real-life locations.  You got a CSV file with each player's name followed by a list of Pokemon they've captured, but the list could contain duplicates.  The goal is to create a JSON file that maps each player to the *number* of unique Pokemon they've captured.\n",
        "\n",
        "a) (10 points) Write a function count_pokemans() that takes a comma-separated string of Pokémon names and returns the number of unique Pokémon mentioned.  (Not only could there be duplicates in the string, but there may be whitespace differences that shouldn't matter; be sure to use strip().)\n",
        "\n",
        "b) (14 points) Write a function pokemon_to_dict that takes as its only argument the name of a CSV file.  The CSV file has player names in its first column and comma-separated Pokemon lists as its second column (see part a).  (You can assume there is *no* header line that is different from all the others - all the lines contain data in the format described.)  The function should return a dictionary where the keys are player names, and the values are the number of unique Pokémon associated with their player (see part a).\n",
        "\n",
        "If the file isn't there, a FileNotFoundError should be handled by printing a message that states the particular filename in the argument wasn't found.\n",
        "\n",
        "A sample Pokémon CSV, pokemon.csv, has been provided for this part.\n",
        "\n",
        "c) (6 points) Write a function dict_to_json that takes a dictionary and a filename as an arguments a dictionary of the kind created in part (b) and an output filename; the function should write the JSON implied by the dictionary to the given filename.\n",
        "\n",
        "Use the following code box to upload the sample Pokemon.csv file, and include your final code for parts (a)-(c) in the code box after that."
      ],
      "metadata": {
        "id": "KAL1n2uMAorU"
      }
    },
    {
      "cell_type": "code",
      "execution_count": null,
      "metadata": {
        "id": "3Yj24VI7_Buf"
      },
      "outputs": [],
      "source": [
        "from google.colab import files\n",
        "files.upload()"
      ]
    },
    {
      "cell_type": "code",
      "source": [
        "# TODO pokemon_to_dict,dict_to_json,count_pokemans\n"
      ],
      "metadata": {
        "id": "um1Ejkp1CD7M"
      },
      "execution_count": null,
      "outputs": []
    },
    {
      "cell_type": "code",
      "source": [
        "mydict = pokemon_to_dict('Pokemon.csv')\n",
        "dict_to_json(mydict, 'poke.json')\n",
        "!ls\n",
        "!cat poke.json   # Should be Alice: 7, Bob: 3, Carol: 3, Eileen: 3, Fatima: 5"
      ],
      "metadata": {
        "id": "pLlfJCipCJqj"
      },
      "execution_count": null,
      "outputs": []
    }
  ]
}