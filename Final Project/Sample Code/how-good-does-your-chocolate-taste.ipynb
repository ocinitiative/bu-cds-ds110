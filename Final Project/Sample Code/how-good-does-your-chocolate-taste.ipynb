{
 "cells": [
  {
   "cell_type": "markdown",
   "metadata": {
    "_uuid": "818afd10be80ea4c6f312c4a971f783a75661516"
   },
   "source": [
    "## Hi Kaggler! :-)\n",
    "\n",
    "Do you know what characterizes good chocolate? Is it the type of beans or where they come from? Our is the taste already predetermined by the company that has produced it?\n",
    "\n",
    "<a title=\"Keith Weller, USDA ARS [Public domain], via Wikimedia Commons\" ref=\"https://commons.wikimedia.org/wiki/File:Cacao-pod-k4636-14.jpg\"><img width=\"512\" alt=\"Cacao-pod-k4636-14\" src=\"https://upload.wikimedia.org/wikipedia/commons/thumb/0/01/Cacao-pod-k4636-14.jpg/512px-Cacao-pod-k4636-14.jpg\"></a>\n",
    "\n",
    "With this kernel I invite you to find it out. Given the dataset of chocolate bar ratings we will explore the features of the dataset, perform **data cleaning as well as preprocessing**. Using catboost as our model to predict chocolate ratings we will try to **generate new features** that may boost our model performance. By the way we will **dive into the catboost library and try out different functionalities**. If you like my notebook **you can make me very happy with an upvote and/or comment**. This way it's much more fun to share learning pathways. :-)\n",
    "\n",
    "### I like to know...\n",
    "\n",
    "* What properties does good chocolate have?\n",
    "* Where does good chocolate come from? \n",
    "* The darker the chocolate the better?\n",
    "* Are there companies that are more likely to produce good chocolate? If so, are they more unknown, small ones or common big companies?\n",
    "* Can we predict the rating of a chocolate?\n",
    "\n",
    "### Table of contents\n",
    "\n",
    "1. [Loading packages and data](#load) \n",
    "2. [Data cleaning](#cleaning) (complete)\n",
    "3. [EDA - Level 1 - Exploring the flavours of chocolate](#eda1)\n",
    "    * [What is given by the chocolate rating?](#rating) (complete)\n",
    "    * [What bean types do we have?](#bean_type) (complete)\n",
    "    * [Where do the beans come from?](#bean_origin) (almost complete)\n",
    "    * [What is the specific geo region of the chocolate bar or bean?](#geo_region)\n",
    "    * [How much cocoa is contained in good chocolate?](#cocoa) (complete)\n",
    "    * [When were the ratings published and updated?](#review_date)\n",
    "4. [Building up a validation strategy](#validation)\n",
    "5. [Setting up baseline models with Catboost](#catboost)\n",
    "6. [Analysing results](#results)\n",
    "7. [EDA - Level 2 - Feature engineering](#eda2)\n",
    "8. [Lift off models & turn to final predictions](#final)"
   ]
  },
  {
   "cell_type": "markdown",
   "metadata": {
    "_uuid": "fb7c493827f15fd8f8d09dedc42f1835e7239787"
   },
   "source": [
    "## Loading packages and data <a class=\"anchor\" id=\"load\"></a>"
   ]
  },
  {
   "cell_type": "code",
   "execution_count": 1,
   "metadata": {
    "_cell_guid": "b1076dfc-b9ad-4769-8c92-a6c4dae69d19",
    "_kg_hide-input": true,
    "_uuid": "8f2839f25d086af736a60e9eeb907d3b93b6e0e5"
   },
   "outputs": [
    {
     "name": "stdout",
     "output_type": "stream",
     "text": [
      "['chocolate-bar-ratings', 'python-folio-country-boundaries']\n"
     ]
    }
   ],
   "source": [
    "import numpy as np \n",
    "import pandas as pd \n",
    "\n",
    "import matplotlib.pyplot as plt\n",
    "%matplotlib inline\n",
    "import seaborn as sns\n",
    "sns.set()\n",
    "\n",
    "import json\n",
    "import folium\n",
    "from IPython.display import HTML\n",
    "from branca.colormap import linear\n",
    "\n",
    "from catboost import CatBoostRegressor, Pool\n",
    "\n",
    "from sklearn.model_selection import train_test_split\n",
    "from sklearn.feature_extraction.text import CountVectorizer\n",
    "\n",
    "from nltk.tokenize import sent_tokenize, word_tokenize\n",
    "from nltk.stem import LancasterStemmer\n",
    "from nltk.tokenize import RegexpTokenizer\n",
    "\n",
    "import os\n",
    "print(os.listdir(\"../input\"))\n",
    "\n",
    "import warnings\n",
    "warnings.filterwarnings(\"ignore\", category=DeprecationWarning)\n",
    "warnings.filterwarnings(\"ignore\", category=UserWarning)\n",
    "warnings.filterwarnings(\"ignore\", category=FutureWarning)"
   ]
  },
  {
   "cell_type": "markdown",
   "metadata": {
    "_uuid": "2296da5f7a213ad9c5b10c6cb66c733a84685d3a"
   },
   "source": [
    "### What features can we find in this dataset?"
   ]
  },
  {
   "cell_type": "code",
   "execution_count": 2,
   "metadata": {
    "_cell_guid": "79c7e3d0-c299-4dcb-8224-4455121ee9b0",
    "_kg_hide-input": true,
    "_uuid": "d629ff2d2480ee46fbb7e2d37f6b5fab8052498a"
   },
   "outputs": [
    {
     "data": {
      "text/html": [
       "<div>\n",
       "<style scoped>\n",
       "    .dataframe tbody tr th:only-of-type {\n",
       "        vertical-align: middle;\n",
       "    }\n",
       "\n",
       "    .dataframe tbody tr th {\n",
       "        vertical-align: top;\n",
       "    }\n",
       "\n",
       "    .dataframe thead th {\n",
       "        text-align: right;\n",
       "    }\n",
       "</style>\n",
       "<table border=\"1\" class=\"dataframe\">\n",
       "  <thead>\n",
       "    <tr style=\"text-align: right;\">\n",
       "      <th></th>\n",
       "      <th>Company \n",
       "(Maker-if known)</th>\n",
       "      <th>Specific Bean Origin\n",
       "or Bar Name</th>\n",
       "      <th>REF</th>\n",
       "      <th>Review\n",
       "Date</th>\n",
       "      <th>Cocoa\n",
       "Percent</th>\n",
       "      <th>Company\n",
       "Location</th>\n",
       "      <th>Rating</th>\n",
       "      <th>Bean\n",
       "Type</th>\n",
       "      <th>Broad Bean\n",
       "Origin</th>\n",
       "    </tr>\n",
       "  </thead>\n",
       "  <tbody>\n",
       "    <tr>\n",
       "      <th>0</th>\n",
       "      <td>A. Morin</td>\n",
       "      <td>Agua Grande</td>\n",
       "      <td>1876</td>\n",
       "      <td>2016</td>\n",
       "      <td>63%</td>\n",
       "      <td>France</td>\n",
       "      <td>3.75</td>\n",
       "      <td></td>\n",
       "      <td>Sao Tome</td>\n",
       "    </tr>\n",
       "    <tr>\n",
       "      <th>1</th>\n",
       "      <td>A. Morin</td>\n",
       "      <td>Kpime</td>\n",
       "      <td>1676</td>\n",
       "      <td>2015</td>\n",
       "      <td>70%</td>\n",
       "      <td>France</td>\n",
       "      <td>2.75</td>\n",
       "      <td></td>\n",
       "      <td>Togo</td>\n",
       "    </tr>\n",
       "    <tr>\n",
       "      <th>2</th>\n",
       "      <td>A. Morin</td>\n",
       "      <td>Atsane</td>\n",
       "      <td>1676</td>\n",
       "      <td>2015</td>\n",
       "      <td>70%</td>\n",
       "      <td>France</td>\n",
       "      <td>3.00</td>\n",
       "      <td></td>\n",
       "      <td>Togo</td>\n",
       "    </tr>\n",
       "    <tr>\n",
       "      <th>3</th>\n",
       "      <td>A. Morin</td>\n",
       "      <td>Akata</td>\n",
       "      <td>1680</td>\n",
       "      <td>2015</td>\n",
       "      <td>70%</td>\n",
       "      <td>France</td>\n",
       "      <td>3.50</td>\n",
       "      <td></td>\n",
       "      <td>Togo</td>\n",
       "    </tr>\n",
       "    <tr>\n",
       "      <th>4</th>\n",
       "      <td>A. Morin</td>\n",
       "      <td>Quilla</td>\n",
       "      <td>1704</td>\n",
       "      <td>2015</td>\n",
       "      <td>70%</td>\n",
       "      <td>France</td>\n",
       "      <td>3.50</td>\n",
       "      <td></td>\n",
       "      <td>Peru</td>\n",
       "    </tr>\n",
       "  </tbody>\n",
       "</table>\n",
       "</div>"
      ],
      "text/plain": [
       "  Company \\n(Maker-if known)        ...         Broad Bean\\nOrigin\n",
       "0                   A. Morin        ...                   Sao Tome\n",
       "1                   A. Morin        ...                       Togo\n",
       "2                   A. Morin        ...                       Togo\n",
       "3                   A. Morin        ...                       Togo\n",
       "4                   A. Morin        ...                       Peru\n",
       "\n",
       "[5 rows x 9 columns]"
      ]
     },
     "execution_count": 2,
     "metadata": {},
     "output_type": "execute_result"
    }
   ],
   "source": [
    "data = pd.read_csv(\"../input/chocolate-bar-ratings/flavors_of_cacao.csv\")\n",
    "data.head()"
   ]
  },
  {
   "cell_type": "markdown",
   "metadata": {
    "_uuid": "257f2f75d3292ff2b88e8988e7a1c8bf61311f24"
   },
   "source": [
    "### Take-Away\n",
    "\n",
    "* The column names look a bit strange. It seems that they include newlines and I like to rename them for more comfortable work.\n",
    "* In addition we can see that the features need some more preprocessing and cleaning. Take a look at cocoa percent - you can see the annoying % symbol. \n",
    "* There are at least some missing values in the bean type. "
   ]
  },
  {
   "cell_type": "markdown",
   "metadata": {
    "_uuid": "35ce4115ebbe924ba6c31a3c9a98d5093b3e9753"
   },
   "source": [
    "### Renaming the columns"
   ]
  },
  {
   "cell_type": "code",
   "execution_count": 3,
   "metadata": {
    "_uuid": "19e5e4ae2c98cc99f1cdcb3945cdbc3a4501def7"
   },
   "outputs": [
    {
     "data": {
      "text/plain": [
       "Index(['Company \\n(Maker-if known)', 'Specific Bean Origin\\nor Bar Name',\n",
       "       'REF', 'Review\\nDate', 'Cocoa\\nPercent', 'Company\\nLocation', 'Rating',\n",
       "       'Bean\\nType', 'Broad Bean\\nOrigin'],\n",
       "      dtype='object')"
      ]
     },
     "execution_count": 3,
     "metadata": {},
     "output_type": "execute_result"
    }
   ],
   "source": [
    "data.columns"
   ]
  },
  {
   "cell_type": "markdown",
   "metadata": {
    "_uuid": "1575577118b4c4a113c4769bbe6a1fc1854ae073"
   },
   "source": [
    "Let's specify new column names. I was not able to rename the first column as the others and this is the reason why you see data.columns[0] instead of the original \"Company...\" name:"
   ]
  },
  {
   "cell_type": "code",
   "execution_count": 4,
   "metadata": {
    "_uuid": "1d401634d9bbea199b232acd7f683f9648d43344"
   },
   "outputs": [],
   "source": [
    "new_names = {\n",
    "     data.columns[0]: 'company',\n",
    "    'Specific Bean Origin\\nor Bar Name': 'bar_origin',\n",
    "    'REF': 'review_update_value',\n",
    "    'Review\\nDate': 'review_pub_date',\n",
    "    'Cocoa\\nPercent': 'cocoa_percentage',\n",
    "    'Company\\nLocation': 'company_location',\n",
    "    'Rating': 'rating',\n",
    "    'Bean\\nType': 'bean_type',\n",
    "    'Broad Bean\\nOrigin': 'bean_origin'\n",
    "}\n",
    "data = data.rename(new_names, axis='columns')"
   ]
  },
  {
   "cell_type": "code",
   "execution_count": 5,
   "metadata": {
    "_uuid": "1aa5efc4bed635c6ac6ab6712905bb95b874bf09"
   },
   "outputs": [
    {
     "data": {
      "text/html": [
       "<div>\n",
       "<style scoped>\n",
       "    .dataframe tbody tr th:only-of-type {\n",
       "        vertical-align: middle;\n",
       "    }\n",
       "\n",
       "    .dataframe tbody tr th {\n",
       "        vertical-align: top;\n",
       "    }\n",
       "\n",
       "    .dataframe thead th {\n",
       "        text-align: right;\n",
       "    }\n",
       "</style>\n",
       "<table border=\"1\" class=\"dataframe\">\n",
       "  <thead>\n",
       "    <tr style=\"text-align: right;\">\n",
       "      <th></th>\n",
       "      <th>company</th>\n",
       "      <th>bar_origin</th>\n",
       "      <th>review_update_value</th>\n",
       "      <th>review_pub_date</th>\n",
       "      <th>cocoa_percentage</th>\n",
       "      <th>company_location</th>\n",
       "      <th>rating</th>\n",
       "      <th>bean_type</th>\n",
       "      <th>bean_origin</th>\n",
       "    </tr>\n",
       "  </thead>\n",
       "  <tbody>\n",
       "    <tr>\n",
       "      <th>0</th>\n",
       "      <td>A. Morin</td>\n",
       "      <td>Agua Grande</td>\n",
       "      <td>1876</td>\n",
       "      <td>2016</td>\n",
       "      <td>63%</td>\n",
       "      <td>France</td>\n",
       "      <td>3.75</td>\n",
       "      <td></td>\n",
       "      <td>Sao Tome</td>\n",
       "    </tr>\n",
       "  </tbody>\n",
       "</table>\n",
       "</div>"
      ],
      "text/plain": [
       "    company   bar_origin     ...       bean_type  bean_origin\n",
       "0  A. Morin  Agua Grande     ...                     Sao Tome\n",
       "\n",
       "[1 rows x 9 columns]"
      ]
     },
     "execution_count": 5,
     "metadata": {},
     "output_type": "execute_result"
    }
   ],
   "source": [
    "data.head(1)"
   ]
  },
  {
   "cell_type": "markdown",
   "metadata": {
    "_uuid": "3d299fc2a50e76991940397c5651e783c640a22e"
   },
   "source": [
    "## Cleaning up the data <a class=\"anchor\" id=\"cleaning\"></a>\n",
    "\n",
    "### Getting rid of % in the cocoa percentages "
   ]
  },
  {
   "cell_type": "code",
   "execution_count": 6,
   "metadata": {
    "_uuid": "25e5da150fcd4c9eaad8754377bd281b7713f0fb"
   },
   "outputs": [],
   "source": [
    "def clean_cocperc(l):\n",
    "    fractions = l.split(\"%\")\n",
    "    return np.float32(fractions[0])\n",
    "\n",
    "data.cocoa_percentage = data.cocoa_percentage.apply(lambda l: clean_cocperc(l))"
   ]
  },
  {
   "cell_type": "code",
   "execution_count": 7,
   "metadata": {
    "_uuid": "916d6fec62d982f30e04cb096b8e7bcc66bf0248"
   },
   "outputs": [
    {
     "name": "stdout",
     "output_type": "stream",
     "text": [
      "<class 'pandas.core.frame.DataFrame'>\n",
      "RangeIndex: 1795 entries, 0 to 1794\n",
      "Data columns (total 9 columns):\n",
      "company                1795 non-null object\n",
      "bar_origin             1795 non-null object\n",
      "review_update_value    1795 non-null int64\n",
      "review_pub_date        1795 non-null int64\n",
      "cocoa_percentage       1795 non-null float64\n",
      "company_location       1795 non-null object\n",
      "rating                 1795 non-null float64\n",
      "bean_type              1794 non-null object\n",
      "bean_origin            1794 non-null object\n",
      "dtypes: float64(2), int64(2), object(5)\n",
      "memory usage: 126.3+ KB\n"
     ]
    }
   ],
   "source": [
    "data.info()"
   ]
  },
  {
   "cell_type": "markdown",
   "metadata": {
    "_uuid": "227eab5313b6752ae3e3ed2860d176cdc4c4c343"
   },
   "source": [
    "Ok, at a first glance everything looks nice now, but....\n",
    "\n",
    "* the rating should be of type float instead of object,\n",
    "* bean_type has only one missing value even though we can see a lot of empty rows in data.head\n",
    "\n",
    "That's strange and perhaps this behaviour does not only hold for this feature. Ohoh! "
   ]
  },
  {
   "cell_type": "code",
   "execution_count": 8,
   "metadata": {
    "_uuid": "cabe5737c8963908874983b98dabdfd5a5f338e3"
   },
   "outputs": [],
   "source": [
    "data.rating = data.rating.apply(pd.to_numeric)"
   ]
  },
  {
   "cell_type": "markdown",
   "metadata": {
    "_uuid": "0ac123dc4d981db2d35167d5f6a04b53ef991737"
   },
   "source": [
    "### Where have all our missing values gone?"
   ]
  },
  {
   "cell_type": "code",
   "execution_count": 9,
   "metadata": {
    "_uuid": "1237592d9b93ed6063269a17a9bc0a5b5d02fe83"
   },
   "outputs": [
    {
     "data": {
      "text/html": [
       "<div>\n",
       "<style scoped>\n",
       "    .dataframe tbody tr th:only-of-type {\n",
       "        vertical-align: middle;\n",
       "    }\n",
       "\n",
       "    .dataframe tbody tr th {\n",
       "        vertical-align: top;\n",
       "    }\n",
       "\n",
       "    .dataframe thead th {\n",
       "        text-align: right;\n",
       "    }\n",
       "</style>\n",
       "<table border=\"1\" class=\"dataframe\">\n",
       "  <thead>\n",
       "    <tr style=\"text-align: right;\">\n",
       "      <th></th>\n",
       "      <th>company</th>\n",
       "      <th>bar_origin</th>\n",
       "      <th>review_update_value</th>\n",
       "      <th>review_pub_date</th>\n",
       "      <th>cocoa_percentage</th>\n",
       "      <th>company_location</th>\n",
       "      <th>rating</th>\n",
       "      <th>bean_type</th>\n",
       "      <th>bean_origin</th>\n",
       "    </tr>\n",
       "  </thead>\n",
       "  <tbody>\n",
       "    <tr>\n",
       "      <th>0</th>\n",
       "      <td>A. Morin</td>\n",
       "      <td>Agua Grande</td>\n",
       "      <td>1876</td>\n",
       "      <td>2016</td>\n",
       "      <td>63.0</td>\n",
       "      <td>France</td>\n",
       "      <td>3.75</td>\n",
       "      <td></td>\n",
       "      <td>Sao Tome</td>\n",
       "    </tr>\n",
       "    <tr>\n",
       "      <th>1</th>\n",
       "      <td>A. Morin</td>\n",
       "      <td>Kpime</td>\n",
       "      <td>1676</td>\n",
       "      <td>2015</td>\n",
       "      <td>70.0</td>\n",
       "      <td>France</td>\n",
       "      <td>2.75</td>\n",
       "      <td></td>\n",
       "      <td>Togo</td>\n",
       "    </tr>\n",
       "    <tr>\n",
       "      <th>2</th>\n",
       "      <td>A. Morin</td>\n",
       "      <td>Atsane</td>\n",
       "      <td>1676</td>\n",
       "      <td>2015</td>\n",
       "      <td>70.0</td>\n",
       "      <td>France</td>\n",
       "      <td>3.00</td>\n",
       "      <td></td>\n",
       "      <td>Togo</td>\n",
       "    </tr>\n",
       "    <tr>\n",
       "      <th>3</th>\n",
       "      <td>A. Morin</td>\n",
       "      <td>Akata</td>\n",
       "      <td>1680</td>\n",
       "      <td>2015</td>\n",
       "      <td>70.0</td>\n",
       "      <td>France</td>\n",
       "      <td>3.50</td>\n",
       "      <td></td>\n",
       "      <td>Togo</td>\n",
       "    </tr>\n",
       "    <tr>\n",
       "      <th>4</th>\n",
       "      <td>A. Morin</td>\n",
       "      <td>Quilla</td>\n",
       "      <td>1704</td>\n",
       "      <td>2015</td>\n",
       "      <td>70.0</td>\n",
       "      <td>France</td>\n",
       "      <td>3.50</td>\n",
       "      <td></td>\n",
       "      <td>Peru</td>\n",
       "    </tr>\n",
       "    <tr>\n",
       "      <th>5</th>\n",
       "      <td>A. Morin</td>\n",
       "      <td>Carenero</td>\n",
       "      <td>1315</td>\n",
       "      <td>2014</td>\n",
       "      <td>70.0</td>\n",
       "      <td>France</td>\n",
       "      <td>2.75</td>\n",
       "      <td>Criollo</td>\n",
       "      <td>Venezuela</td>\n",
       "    </tr>\n",
       "    <tr>\n",
       "      <th>6</th>\n",
       "      <td>A. Morin</td>\n",
       "      <td>Cuba</td>\n",
       "      <td>1315</td>\n",
       "      <td>2014</td>\n",
       "      <td>70.0</td>\n",
       "      <td>France</td>\n",
       "      <td>3.50</td>\n",
       "      <td></td>\n",
       "      <td>Cuba</td>\n",
       "    </tr>\n",
       "    <tr>\n",
       "      <th>7</th>\n",
       "      <td>A. Morin</td>\n",
       "      <td>Sur del Lago</td>\n",
       "      <td>1315</td>\n",
       "      <td>2014</td>\n",
       "      <td>70.0</td>\n",
       "      <td>France</td>\n",
       "      <td>3.50</td>\n",
       "      <td>Criollo</td>\n",
       "      <td>Venezuela</td>\n",
       "    </tr>\n",
       "    <tr>\n",
       "      <th>8</th>\n",
       "      <td>A. Morin</td>\n",
       "      <td>Puerto Cabello</td>\n",
       "      <td>1319</td>\n",
       "      <td>2014</td>\n",
       "      <td>70.0</td>\n",
       "      <td>France</td>\n",
       "      <td>3.75</td>\n",
       "      <td>Criollo</td>\n",
       "      <td>Venezuela</td>\n",
       "    </tr>\n",
       "    <tr>\n",
       "      <th>9</th>\n",
       "      <td>A. Morin</td>\n",
       "      <td>Pablino</td>\n",
       "      <td>1319</td>\n",
       "      <td>2014</td>\n",
       "      <td>70.0</td>\n",
       "      <td>France</td>\n",
       "      <td>4.00</td>\n",
       "      <td></td>\n",
       "      <td>Peru</td>\n",
       "    </tr>\n",
       "  </tbody>\n",
       "</table>\n",
       "</div>"
      ],
      "text/plain": [
       "    company      bar_origin     ...       bean_type  bean_origin\n",
       "0  A. Morin     Agua Grande     ...                     Sao Tome\n",
       "1  A. Morin           Kpime     ...                         Togo\n",
       "2  A. Morin          Atsane     ...                         Togo\n",
       "3  A. Morin           Akata     ...                         Togo\n",
       "4  A. Morin          Quilla     ...                         Peru\n",
       "5  A. Morin        Carenero     ...         Criollo    Venezuela\n",
       "6  A. Morin            Cuba     ...                         Cuba\n",
       "7  A. Morin    Sur del Lago     ...         Criollo    Venezuela\n",
       "8  A. Morin  Puerto Cabello     ...         Criollo    Venezuela\n",
       "9  A. Morin         Pablino     ...                         Peru\n",
       "\n",
       "[10 rows x 9 columns]"
      ]
     },
     "execution_count": 9,
     "metadata": {},
     "output_type": "execute_result"
    }
   ],
   "source": [
    "data.head(10)"
   ]
  },
  {
   "cell_type": "markdown",
   "metadata": {
    "_uuid": "851737c4d18bb1ff6ec5f4b602bcadbbb76db47d"
   },
   "source": [
    "Ok, this is sufficient for an experiment:"
   ]
  },
  {
   "cell_type": "code",
   "execution_count": 10,
   "metadata": {
    "_uuid": "d158816e4950eb633c0804c8e8048b116ebdede4"
   },
   "outputs": [
    {
     "name": "stdout",
     "output_type": "stream",
     "text": [
      "This entry is of type <class 'str'> and has the value   and a length of 1\n",
      "This entry is of type <class 'str'> and has the value   and a length of 1\n",
      "This entry is of type <class 'str'> and has the value   and a length of 1\n",
      "This entry is of type <class 'str'> and has the value   and a length of 1\n",
      "This entry is of type <class 'str'> and has the value   and a length of 1\n",
      "This entry is of type <class 'str'> and has the value Criollo and a length of 7\n",
      "This entry is of type <class 'str'> and has the value   and a length of 1\n",
      "This entry is of type <class 'str'> and has the value Criollo and a length of 7\n",
      "This entry is of type <class 'str'> and has the value Criollo and a length of 7\n",
      "This entry is of type <class 'str'> and has the value   and a length of 1\n"
     ]
    }
   ],
   "source": [
    "for n in range(10):\n",
    "    value = data.bean_type.values[n]\n",
    "    instance_of = type(value)\n",
    "    print(\"This entry is of type {} and has the value {} and a length of {}\".format(instance_of, value, len(value)))"
   ]
  },
  {
   "cell_type": "markdown",
   "metadata": {
    "_uuid": "6f7424be79fdc9d4eadb4666b7ab0e53d2b4c673"
   },
   "source": [
    "Ihh! :-) Ok, however this empty string looks like, we should transform it to np.nan and we should check whether this type of missing value representation was used in other object columns as well:"
   ]
  },
  {
   "cell_type": "code",
   "execution_count": 11,
   "metadata": {
    "_uuid": "ba059cb66426a3faf4eec0dd53995edfd0d89447"
   },
   "outputs": [],
   "source": [
    "emptyness = data.bean_type.values[0]"
   ]
  },
  {
   "cell_type": "code",
   "execution_count": 12,
   "metadata": {
    "_uuid": "700bac54a9e96d7c446fbec5a284e9a173e833a6"
   },
   "outputs": [],
   "source": [
    "def turn_to_nan(l):\n",
    "    if l == emptyness:\n",
    "        return np.nan\n",
    "    else:\n",
    "        return l\n",
    "\n",
    "for col in data.columns:\n",
    "    if data[col].dtype == 'O':\n",
    "        data[col] = data[col].apply(lambda l: turn_to_nan(l))"
   ]
  },
  {
   "cell_type": "code",
   "execution_count": 13,
   "metadata": {
    "_kg_hide-input": true,
    "_uuid": "bf4e027c7f2ae39e4d9973ce16987e97d1d59c2e"
   },
   "outputs": [
    {
     "data": {
      "image/png": "[encoded data removed]",
      "text/plain": [
       "<Figure size 576x360 with 1 Axes>"
      ]
     },
     "metadata": {},
     "output_type": "display_data"
    }
   ],
   "source": [
    "missing = data.isnull().sum()\n",
    "missing = missing[missing > 0]\n",
    "\n",
    "plt.figure(figsize=(8,5))\n",
    "sns.barplot(x=missing.index, y=missing.values, palette=\"Purples\")\n",
    "plt.ylabel(\"Counts of missing values\");"
   ]
  },
  {
   "cell_type": "markdown",
   "metadata": {
    "_uuid": "fe1a8dd89867734778edd588b4f07c9c8355377c"
   },
   "source": [
    "Ok, that's it."
   ]
  },
  {
   "cell_type": "markdown",
   "metadata": {
    "_uuid": "e6c46dd49e2b0ee2b7553b6084e34e0a1d42bada"
   },
   "source": [
    "## Exploring the flavours of chocolate... <a class=\"anchor\" id=\"eda1\"></a>\n",
    "\n",
    "In this first exploratory data analysis I like to get an first intuition about the data. Perhaps we will gain some insights that may already help to understand what makes a chocolate bar tasty. I like to start with the important feature *rating* that I will use as a target for prediction later on. "
   ]
  },
  {
   "cell_type": "markdown",
   "metadata": {
    "_uuid": "246c33b23937366f1de85025edebb409069c9a63"
   },
   "source": [
    "### What is given by the chocolate rating? <a class=\"anchor\" id=\"rating\"></a>\n",
    "\n",
    "The dataset description says...\n",
    "\n",
    "1. Unpleasant (Mostly unpalatable)\n",
    "2. Disappointing\n",
    "3. Satisfactory (3) to praiseworthy (3.5)\n",
    "4. Premium\n",
    "5. Elite"
   ]
  },
  {
   "cell_type": "code",
   "execution_count": 14,
   "metadata": {
    "_kg_hide-input": true,
    "_uuid": "5546a854ac00d205336d9a19f63978332174e5a5"
   },
   "outputs": [
    {
     "data": {
      "image/png": "[encoded data removed]",
      "text/plain": [
       "<Figure size 1440x360 with 1 Axes>"
      ]
     },
     "metadata": {},
     "output_type": "display_data"
    }
   ],
   "source": [
    "rating_counts = data.rating.value_counts()\n",
    "\n",
    "plt.figure(figsize=(20,5))\n",
    "sns.barplot(x=rating_counts.index, y=rating_counts.values, palette=\"Greens\")\n",
    "plt.xlabel(\"Rating value\")\n",
    "plt.ylabel(\"Counts\")\n",
    "plt.title(\"Which rating counts are most common?\");"
   ]
  },
  {
   "cell_type": "markdown",
   "metadata": {
    "_uuid": "946da615ce30acff070ac0bbd2a900dcb790cf7c"
   },
   "source": [
    "Crazy. The description says that we can find sublevels in the 3-rating category but as you can see they also appear for the 1 and 2 ratings and with more sublevels. I think it's not very useful to have such splittings in case of unpleasant chocolate bars. It should be sufficient to know that you can't enjoy the bar instead of knowing each subtle nuance of bad taste. "
   ]
  },
  {
   "cell_type": "code",
   "execution_count": 15,
   "metadata": {
    "_uuid": "e68d523b5f982e31c6011c3570eb506189df4d1a"
   },
   "outputs": [],
   "source": [
    "def map_to_rating(l):\n",
    "    if l <= 2:\n",
    "        return 1\n",
    "    elif 2 < l <= 2.5:\n",
    "        return 2\n",
    "    elif 2.5 < l <= 3:\n",
    "        return 3\n",
    "    elif 3 < l <= 3.5:\n",
    "        return 4\n",
    "    elif 3.5 < l <= 3.75:\n",
    "        return 5\n",
    "    else:\n",
    "        return 6"
   ]
  },
  {
   "cell_type": "code",
   "execution_count": 16,
   "metadata": {
    "_uuid": "7460656a5f52afc6123cb664538e4c2ef3f4a044"
   },
   "outputs": [],
   "source": [
    "data[\"new_rating\"] = data.rating.apply(lambda l: map_to_rating(l))"
   ]
  },
  {
   "cell_type": "markdown",
   "metadata": {
    "_uuid": "f62029364bfa6d3ff8ec19c1e8dfba47fc78ceb1"
   },
   "source": [
    "### What bean types do we have? <a class=\"anchor\" id=\"bean_types\"></a>"
   ]
  },
  {
   "cell_type": "code",
   "execution_count": 17,
   "metadata": {
    "_kg_hide-input": true,
    "_uuid": "d42354b26a8e68b43d3c626596c652d884618428"
   },
   "outputs": [
    {
     "data": {
      "image/png": "[encoded data removed]",
      "text/plain": [
       "<Figure size 1440x360 with 1 Axes>"
      ]
     },
     "metadata": {},
     "output_type": "display_data"
    }
   ],
   "source": [
    "plt.figure(figsize=(20,5))\n",
    "sns.countplot(data.bean_type)\n",
    "plt.xticks(rotation=90);\n",
    "plt.title(\"Bean types\");"
   ]
  },
  {
   "cell_type": "markdown",
   "metadata": {
    "_uuid": "5a9adf2f91e1bd747e53fdbe2698c3826150ce9a"
   },
   "source": [
    "Again, I feel astrong need to fuse bean types and turn them to something more general. In addition we know that we have a lot of missing values for the bean type. Let's check how many:"
   ]
  },
  {
   "cell_type": "code",
   "execution_count": 18,
   "metadata": {
    "_uuid": "5c61e4827dfbf339655a71c553ba2c75066df433"
   },
   "outputs": [
    {
     "data": {
      "text/plain": [
       "False    50.529248\n",
       "True     49.470752\n",
       "Name: bean_type, dtype: float64"
      ]
     },
     "execution_count": 18,
     "metadata": {},
     "output_type": "execute_result"
    }
   ],
   "source": [
    "data.bean_type.isnull().value_counts() / len(data) * 100"
   ]
  },
  {
   "cell_type": "markdown",
   "metadata": {
    "_uuid": "40fac45fb106eae6765daec25f8f7753ac84aae0"
   },
   "source": [
    "Ok, almost 50 % are missing. Now, we need to setup some strategy how to deal with the bean types. A first attempt could be to focus on the names that occur most often:\n",
    "\n",
    "* Criollo\n",
    "* Trinitario\n",
    "* Forastero\n",
    "* Amazon\n",
    "\n",
    "In addition we can see that most chocolate bars have mixed bean types and we may create a feature that counts how many of these 4 bean types are included. "
   ]
  },
  {
   "cell_type": "code",
   "execution_count": 19,
   "metadata": {
    "_uuid": "c50ba12b12bf8bebbaf21a11e923a36e02af7c28"
   },
   "outputs": [],
   "source": [
    "def check_bean(l, name):\n",
    "    l = l.lower()\n",
    "    if name in l:\n",
    "        return 1\n",
    "    return 0\n",
    "\n",
    "data[\"criollo_bean\"] = data.bean_type.dropna().apply(lambda l: check_bean(l, \"criollo\"))\n",
    "data[\"forastero_bean\"] = data.bean_type.dropna().apply(lambda l: check_bean(l, \"forastero\"))\n",
    "data[\"trinitario_bean\"] = data.bean_type.dropna().apply(lambda l: check_bean(l, \"trinitario\"))\n",
    "data[\"amazon_bean\"] = data.bean_type.dropna().apply(lambda l: check_bean(l, \"amazon\"))"
   ]
  },
  {
   "cell_type": "markdown",
   "metadata": {
    "_uuid": "79dfa9e37d8829d1a9bf91baf5278e5f24cdb02c"
   },
   "source": [
    "Now, we can easily sum up the number of bean types to describe a mixture in a chocolate bar. Besides that we should take into account that some bean type names are given by \"blend\". This name just tells us that we have a mixture of beans but there is no specification which kind of beans were used. Consequently it could be nice to create two more features:\n",
    "\n",
    "* the number of different bean types in a bar\n",
    "* if the bar contains a mixture (blend) or not"
   ]
  },
  {
   "cell_type": "code",
   "execution_count": 20,
   "metadata": {
    "_uuid": "c0320d55a59a5f73fc5150dec665c0892796c40f"
   },
   "outputs": [],
   "source": [
    "data[\"num_beans\"] = data.loc[\n",
    "    :,[\"criollo_bean\", \"forastero_bean\", \"trinitario_bean\", \"amazon_bean\"]\n",
    "].sum(axis=1)"
   ]
  },
  {
   "cell_type": "code",
   "execution_count": 21,
   "metadata": {
    "_uuid": "bc7361070c7e458df934f1181cc834a58de3cc96"
   },
   "outputs": [],
   "source": [
    "blend_names = data.bean_type.dropna().apply(lambda l: np.where(\"blend\" in l.lower(), 1, 0))\n",
    "is_blend_idx = blend_names.loc[blend_names == 1].index.values\n",
    "\n",
    "data[\"blend\"] = 0\n",
    "data.loc[(data.num_beans > 1) | (data.index.isin(is_blend_idx)), \"blend\"] = 1 "
   ]
  },
  {
   "cell_type": "markdown",
   "metadata": {
    "_uuid": "440525c33f2d136a44a04dce4a96f0a61dd47942"
   },
   "source": [
    "In addition it's useful to generate a feature that shows us if the bean type was missing:"
   ]
  },
  {
   "cell_type": "code",
   "execution_count": 22,
   "metadata": {
    "_uuid": "6942306e1e8efd26343d8d0f48dcc435fb606389"
   },
   "outputs": [
    {
     "data": {
      "text/plain": [
       "0    907\n",
       "1    888\n",
       "Name: missing_bean_type, dtype: int64"
      ]
     },
     "execution_count": 22,
     "metadata": {},
     "output_type": "execute_result"
    }
   ],
   "source": [
    "data[\"missing_bean_type\"] = np.where(data.bean_type.isnull()==True, 1, 0)\n",
    "data.missing_bean_type.value_counts()"
   ]
  },
  {
   "cell_type": "code",
   "execution_count": 23,
   "metadata": {
    "_kg_hide-input": true,
    "_uuid": "45bfbee2d4520319aceaed0156361b40720cb9de"
   },
   "outputs": [
    {
     "data": {
      "image/png": "[encoded data removed]",
      "text/plain": [
       "<Figure size 1440x720 with 4 Axes>"
      ]
     },
     "metadata": {},
     "output_type": "display_data"
    }
   ],
   "source": [
    "bean_type_counts = data.loc[\n",
    "    :,[\"criollo_bean\", \"forastero_bean\", \"trinitario_bean\", \"amazon_bean\"]\n",
    "].sum(axis=0)\n",
    "\n",
    "fig, ax = plt.subplots(2,2,figsize=(20,10))\n",
    "\n",
    "sns.barplot(x=bean_type_counts.index, y=bean_type_counts.values, ax=ax[0,0], palette=\"Set2\")\n",
    "sns.countplot(data.loc[data.missing_bean_type==0].blend, ax=ax[1,0], palette=\"Set2\");\n",
    "sns.countplot(data.loc[data.missing_bean_type==0].num_beans, ax=ax[0,1], palette=\"Set2\");"
   ]
  },
  {
   "cell_type": "markdown",
   "metadata": {
    "_uuid": "42c16713833335795bf36e89316213bc579cd073"
   },
   "source": [
    "### Where do the beans come from? <a class=\"anchor\" id=\"bean_origin\"></a>"
   ]
  },
  {
   "cell_type": "markdown",
   "metadata": {
    "_uuid": "2423517144e104fd8569421131648a89c6c7b1e7"
   },
   "source": [
    "Ok, first of all, let's see how many different origins are mentioned for the cocoa beans:"
   ]
  },
  {
   "cell_type": "code",
   "execution_count": 24,
   "metadata": {
    "_uuid": "1476ec078c877175051be274a3d62b43c9de312d"
   },
   "outputs": [
    {
     "data": {
      "text/plain": [
       "100"
      ]
     },
     "execution_count": 24,
     "metadata": {},
     "output_type": "execute_result"
    }
   ],
   "source": [
    "len(data.bean_origin.unique())"
   ]
  },
  {
   "cell_type": "markdown",
   "metadata": {
    "_uuid": "795e87d96b7bacacc9851ee6c29b587387df6fba"
   },
   "source": [
    "Ok, that sounds not so much. But nonetheless we may have redundant information that tells us the same only in different words. "
   ]
  },
  {
   "cell_type": "code",
   "execution_count": 25,
   "metadata": {
    "_uuid": "23b2e06171d72a960a0d76fa4f794dcf13d68fca"
   },
   "outputs": [
    {
     "data": {
      "image/png": "[encoded data removed]",
      "text/plain": [
       "<Figure size 1440x360 with 1 Axes>"
      ]
     },
     "metadata": {},
     "output_type": "display_data"
    }
   ],
   "source": [
    "top_counts = data.bean_origin.value_counts().head(10)\n",
    "sparse_counts = data.bean_origin.value_counts().tail(10)\n",
    "\n",
    "plt.figure(figsize=(20,5))\n",
    "sns.barplot(x=top_counts.index, y=top_counts.values, palette=\"Blues_r\")\n",
    "plt.title(\"Where do most beans come from?\")\n",
    "plt.ylabel(\"count\");"
   ]
  },
  {
   "cell_type": "code",
   "execution_count": 26,
   "metadata": {
    "_uuid": "00f628db376c078fa1afabe24a10e669860977e0"
   },
   "outputs": [
    {
     "data": {
      "text/plain": [
       "Martinique                   1\n",
       "Ven., Indonesia, Ecuad.      1\n",
       "Peru, Dom. Rep               1\n",
       "Suriname                     1\n",
       "Peru, Belize                 1\n",
       "Africa, Carribean, C. Am.    1\n",
       "Peru, Ecuador                1\n",
       "Ven, Bolivia, D.R.           1\n",
       "PNG, Vanuatu, Mad            1\n",
       "Burma                        1\n",
       "Name: bean_origin, dtype: int64"
      ]
     },
     "execution_count": 26,
     "metadata": {},
     "output_type": "execute_result"
    }
   ],
   "source": [
    "sparse_counts"
   ]
  },
  {
   "cell_type": "markdown",
   "metadata": {
    "_uuid": "91685922ee0b15e3302085646c9a4c80e9c4ae8a"
   },
   "source": [
    "We can already see that we have some origins that can be easily fused with some of the top counts: Venezuela, Peru, Dominican Republic... To fuse categories it might be useful to know the distribution of value counts:"
   ]
  },
  {
   "cell_type": "code",
   "execution_count": 27,
   "metadata": {
    "_kg_hide-input": true,
    "_uuid": "33ebf3a9204de13e50d43ad0564a72bffb6f1777"
   },
   "outputs": [
    {
     "data": {
      "image/png": "[encoded data removed]",
      "text/plain": [
       "<Figure size 1440x360 with 2 Axes>"
      ]
     },
     "metadata": {},
     "output_type": "display_data"
    }
   ],
   "source": [
    "fig, ax = plt.subplots(1,2, figsize=(20,5))\n",
    "sns.distplot(data.bean_origin.value_counts(), ax=ax[0], color=\"Red\")\n",
    "sns.distplot(data.bean_origin.value_counts() / data.bean_origin.count() * 100, ax=ax[1], color=\"darkred\")\n",
    "ax[0].set_xlabel(\"Number of counts\");\n",
    "ax[0].set_ylabel(\"Frequency density\");\n",
    "ax[0].set_title(\"Which value counts of bean types are most common?\")\n",
    "ax[1].set_xlabel(\"Occurence in data in %\");\n",
    "ax[1].set_ylabel(\"Frequency density\");\n",
    "ax[1].set_title(\"How many % of the data are occupied by such counts?\");"
   ]
  },
  {
   "cell_type": "markdown",
   "metadata": {
    "_uuid": "73f001500d90652044d25f1699517850ad862039"
   },
   "source": [
    "#### Take-Away\n",
    "\n",
    "* We can see that most of the origins have only a few counts. That confirms the need to fuse sparse bean type origins to gain more insights out of this data. Currently it contains too much detail to work with.\n",
    "* Only a very few origins have counts greater than 50. From the figures above you can see that Nicaragua, Brazil, Bolivia, Belize and Papua New Guinea have all counts close to 50 and from the second subplot here you can see that each of them only cover around 3-4 % of the data. It's probably not very fruitful to include origins that have lower value counts. "
   ]
  },
  {
   "cell_type": "markdown",
   "metadata": {
    "_uuid": "97f68e62afd9dcaf90dea49358055a695fc0857f"
   },
   "source": [
    "#### Stemming bean origins\n",
    "\n",
    "Ok, we have seen that many words acutally mean the same: Take a look at Venezuela. You can find words like Ven that are likely to be an abbreviation of Venezuela. In addition we can see that we sometimes have multiple origins for one entry. I'm new to natural language processing but as my attempt of this kernel is to learn I like to try out some methods. :-)\n",
    "\n",
    "This first is **stemming: It reduces a word to its root which is called stem**. Consequenly different words can have the same stem. In contrast to lemmatization this stem **need not be a valid word in the current language**. I think this technique could be useful for our problem. Let's try to find out, if it helps:"
   ]
  },
  {
   "cell_type": "code",
   "execution_count": 28,
   "metadata": {
    "_uuid": "452363dbfbf854d1a57e1922bb716e4c530632d8"
   },
   "outputs": [],
   "source": [
    "stemmer=LancasterStemmer()\n",
    "\n",
    "def stem(l):\n",
    "    tokenizer = RegexpTokenizer(r'\\w+')\n",
    "    token_words = tokenizer.tokenize(l)\n",
    "    stem_sentence=[]\n",
    "    for word in token_words:\n",
    "        stem_sentence.append(stemmer.stem(word))\n",
    "        stem_sentence.append(\" \")\n",
    "    return \"\".join(stem_sentence)\n",
    "\n",
    "data[\"stemmed_bean_origin\"] = data.dropna().bean_origin.apply(lambda l: stem(l))"
   ]
  },
  {
   "cell_type": "markdown",
   "metadata": {
    "_uuid": "1f4595642bb7449e3bbd69d0d51c5abac4a17b9b"
   },
   "source": [
    "Now, how many different bean origins are left?"
   ]
  },
  {
   "cell_type": "code",
   "execution_count": 29,
   "metadata": {
    "_uuid": "ad7bc45860caafb3964a6798936c5a9a2123edd5"
   },
   "outputs": [
    {
     "data": {
      "text/plain": [
       "66"
      ]
     },
     "execution_count": 29,
     "metadata": {},
     "output_type": "execute_result"
    }
   ],
   "source": [
    "len(data.stemmed_bean_origin.unique())"
   ]
  },
  {
   "cell_type": "markdown",
   "metadata": {
    "_uuid": "144346ff573743d6a0f1a72e22378994e7ceefaf"
   },
   "source": [
    "Jeha! We have turned 34 bean origins to some that are only named a bit differently. How does it look like for Venezuela?"
   ]
  },
  {
   "cell_type": "code",
   "execution_count": 30,
   "metadata": {
    "_uuid": "c3a9a2938542b438a23666f3118fa2c7f28d1f30"
   },
   "outputs": [
    {
     "data": {
      "text/plain": [
       "stemmed_bean_origin  bean_origin            \n",
       "vanuatu              Vanuatu                      7\n",
       "ven indones ecuad    Ven., Indonesia, Ecuad.      1\n",
       "ven trinidad mad     Ven., Trinidad, Mad.         1\n",
       "venezuel             Venezuela                  139\n",
       "venezuel carrib      Venezuela, Carribean         1\n",
       "venezuel ghan        Venezuela, Ghana             1\n",
       "                     Venezuela/ Ghana             1\n",
       "venezuel jav         Venezuela, Java              1\n",
       "vietnam              Vietnam                     37\n",
       "west afric           West Africa                  6\n",
       "Name: bean_origin, dtype: int64"
      ]
     },
     "execution_count": 30,
     "metadata": {},
     "output_type": "execute_result"
    }
   ],
   "source": [
    "data.dropna().groupby(\"stemmed_bean_origin\").bean_origin.value_counts().tail(10)"
   ]
  },
  {
   "cell_type": "markdown",
   "metadata": {
    "_uuid": "4101ba3042bc6f980d8b3e2a0303576c0eed3df7"
   },
   "source": [
    "Ok, only ven is not recognized well. Perhaps we will find a way to tackle that, but I think this is sufficient to start with."
   ]
  },
  {
   "cell_type": "code",
   "execution_count": 31,
   "metadata": {
    "_uuid": "92dccb9e86acd4558cecd75bb75f56859b4d4334"
   },
   "outputs": [
    {
     "data": {
      "text/plain": [
       "(884, 65)"
      ]
     },
     "execution_count": 31,
     "metadata": {},
     "output_type": "execute_result"
    }
   ],
   "source": [
    "vectorizer = CountVectorizer()\n",
    "corpus = data.dropna().stemmed_bean_origin.values\n",
    "word_counts = vectorizer.fit_transform(corpus)\n",
    "word_counts.shape"
   ]
  },
  {
   "cell_type": "code",
   "execution_count": 32,
   "metadata": {
    "_uuid": "e540a5fce6b81cc4402c5fffc5b0bcc4106cce39"
   },
   "outputs": [],
   "source": [
    "names = vectorizer.get_feature_names()"
   ]
  },
  {
   "cell_type": "code",
   "execution_count": 33,
   "metadata": {
    "_kg_hide-input": true,
    "_uuid": "60b54d68eea474a13bf3673196ddb4037b28e973"
   },
   "outputs": [
    {
     "data": {
      "image/png": "[encoded data removed]",
      "text/plain": [
       "<Figure size 1512x576 with 1 Axes>"
      ]
     },
     "metadata": {},
     "output_type": "display_data"
    }
   ],
   "source": [
    "word_counts_df = pd.DataFrame(index=data.dropna().index.values, data=word_counts.toarray(), columns=names)\n",
    "single_origin_counts = word_counts_df.sum().sort_values(ascending=False)\n",
    "\n",
    "\n",
    "plt.figure(figsize=(21,8))\n",
    "sns.barplot(single_origin_counts.index, single_origin_counts.values)\n",
    "plt.xticks(rotation=90);"
   ]
  },
  {
   "cell_type": "markdown",
   "metadata": {
    "_uuid": "5dfb53310f17fe1d813f54be6cbce1b7dd5bc2a2"
   },
   "source": [
    "Take a look at papua new guinea: It was splitted into three parts - papu, new, guine. Consequently if we compute the total number of origins for one entry it would add 3 instead of 1. Let's try to rework this part. To find pairs that I'm not sure of, I like to use this kind of filter:"
   ]
  },
  {
   "cell_type": "markdown",
   "metadata": {
    "_uuid": "249a8ceb63e481de0f7b0d7ed84ebe3b5f9c39ce"
   },
   "source": [
    "### Extracting bean origin codes\n",
    "\n",
    "Work in progress"
   ]
  },
  {
   "cell_type": "code",
   "execution_count": 34,
   "metadata": {
    "_uuid": "879583456d42fac47b4e64bc14b43cdf10cbfd1d"
   },
   "outputs": [
    {
     "data": {
      "text/plain": [
       "guine    13\n",
       "new      13\n",
       "papu     13\n",
       "dtype: int64"
      ]
     },
     "execution_count": 34,
     "metadata": {},
     "output_type": "execute_result"
    }
   ],
   "source": [
    "col = \"papu\"\n",
    "viewer = word_counts_df[word_counts_df[col] == 1].sum()\n",
    "viewer[viewer > 0]"
   ]
  },
  {
   "cell_type": "markdown",
   "metadata": {
    "_uuid": "7810055d9617b84df6fe032175777e09cf060d72"
   },
   "source": [
    "And to fuse words in a list:"
   ]
  },
  {
   "cell_type": "code",
   "execution_count": 35,
   "metadata": {
    "_uuid": "7079ec4afcb96a9dcaa7277362a3e3070853526b"
   },
   "outputs": [],
   "source": [
    "def fuse_words(words):\n",
    "    return np.where(word_counts_df.loc[:, words].sum(axis=1) == len(words), 1, 0)"
   ]
  },
  {
   "cell_type": "markdown",
   "metadata": {
    "_uuid": "016d66ec8b0ebedf9aca5fbec1ed4991922d5962"
   },
   "source": [
    "Ok, let's start:"
   ]
  },
  {
   "cell_type": "code",
   "execution_count": 36,
   "metadata": {
    "_uuid": "ceb7d0b69dd6313389494874fa71d9fa0a6d836a"
   },
   "outputs": [],
   "source": [
    "word_counts_df[\"domin_republ\"] = fuse_words([\"domin\", \"republ\"])\n",
    "word_counts_df[\"domint_republ\"] = fuse_words([\"domint\", \"republ\"])\n",
    "word_counts_df[\"dom_rep\"] = fuse_words([\"dom\", \"rep\"])\n",
    "\n",
    "word_counts_df[\"sao_tom\"] = fuse_words([\"sao\", \"tom\"])\n",
    "word_counts_df[\"papu_new_guine\"] = fuse_words([\"papu\", \"new\", \"guine\"])\n",
    "word_counts_df[\"cost_ric\"] = fuse_words([\"cost\", \"ric\"])\n",
    "word_counts_df[\"west_afric\"] = fuse_words([\"west\", \"afric\"])\n",
    "word_counts_df[\"st_luc\"] = fuse_words([\"st\", \"luc\"])\n",
    "word_counts_df[\"sou_americ\"] = fuse_words([\"sou\", \"americ\"])\n",
    "word_counts_df[\"sri_lank\"] = fuse_words([\"sri\", \"lank\"])\n",
    "\n",
    "word_counts_df = word_counts_df.drop(\n",
    "    [\"domin\", \"republ\", \"dom\", \"rep\", \"sao\", \"tom\", \"papu\", \"new\", \"guine\",\n",
    "     \"cost\", \"ric\", \"west\", \"afric\", \"st\", \"luc\", \"sou\", \"americ\", \"domint\",\n",
    "     \"sri\", \"lank\"], axis=1)"
   ]
  },
  {
   "cell_type": "markdown",
   "metadata": {
    "_uuid": "a226e23c487c451e8ab335d28472e5df2d198039"
   },
   "source": [
    "Ok, finally there is one thing left: We should turn ven into venezuela and fuse all occurances of dominican republic:"
   ]
  },
  {
   "cell_type": "code",
   "execution_count": 37,
   "metadata": {
    "_uuid": "87a4121ddbcd550e0334561f3f5a18c4bfb2785a"
   },
   "outputs": [],
   "source": [
    "def get_indices(col):\n",
    "    return word_counts_df.loc[word_counts_df[col] == 1].index.values"
   ]
  },
  {
   "cell_type": "code",
   "execution_count": 38,
   "metadata": {
    "_uuid": "fc45692c296ea1debc46554fb81c8386a7d8dc63"
   },
   "outputs": [],
   "source": [
    "word_counts_df.loc[get_indices(\"ven\"), \"venezuel\"] = 1\n",
    "word_counts_df.loc[get_indices(\"princip\"), \"sao_tom\"] = 1\n",
    "word_counts_df.loc[get_indices(\"png\"), \"papu_new_guine\"] = 1\n",
    "word_counts_df.loc[get_indices(\"jam\"), \"jamaic\"] = 1\n",
    "word_counts_df.loc[get_indices(\"gre\"), \"grenad\"] = 1\n",
    "word_counts_df.loc[get_indices(\"haw\"), \"hawai\"] = 1\n",
    "word_counts_df.loc[get_indices(\"mad\"), \"madagasc\"] = 1\n",
    "\n",
    "trinidad_index = set(get_indices(\"tri\")).union(get_indices(\"tobago\"))\n",
    "word_counts_df.loc[trinidad_index, \"trinidad\"] = 1\n",
    "\n",
    "domin_index = set(get_indices(\"domint_republ\")).union(\n",
    "    set(get_indices(\"dom_rep\"))).union(\n",
    "    get_indices(\"dr\"))\n",
    "word_counts_df.loc[domin_index, \"domin_republ\"] = 1\n",
    "\n",
    "\n",
    "word_counts_df = word_counts_df.drop(\n",
    "    [\"ven\", \"domint_republ\", \"dom_rep\", \"dr\",\n",
    "     \"princip\", \"tri\", \"tobago\", \"jam\", \"gre\", \n",
    "     \"haw\", \"png\", \"mad\"], axis=1)"
   ]
  },
  {
   "cell_type": "markdown",
   "metadata": {
    "_uuid": "316b28cce8130c1894d7bf7ab4fe6aa6c3f72a33"
   },
   "source": [
    "How many bean origins are left now?"
   ]
  },
  {
   "cell_type": "code",
   "execution_count": 39,
   "metadata": {
    "_uuid": "97e5dc2f6827d40fe9f53288f0dc642ca9883ce9"
   },
   "outputs": [
    {
     "data": {
      "text/plain": [
       "43"
      ]
     },
     "execution_count": 39,
     "metadata": {},
     "output_type": "execute_result"
    }
   ],
   "source": [
    "len(word_counts_df.columns.values)"
   ]
  },
  {
   "cell_type": "markdown",
   "metadata": {
    "_uuid": "8ce2f82823c2a99bbae2d0ba35089e785cf0fe19"
   },
   "source": [
    "Great! We have clearly reduced the number of total bean origins from 66 to.... "
   ]
  },
  {
   "cell_type": "code",
   "execution_count": 40,
   "metadata": {
    "_uuid": "ff986f25ceebb87ec4a9c6609dc80961bc540905"
   },
   "outputs": [
    {
     "data": {
      "text/html": [
       "<div>\n",
       "<style scoped>\n",
       "    .dataframe tbody tr th:only-of-type {\n",
       "        vertical-align: middle;\n",
       "    }\n",
       "\n",
       "    .dataframe tbody tr th {\n",
       "        vertical-align: top;\n",
       "    }\n",
       "\n",
       "    .dataframe thead th {\n",
       "        text-align: right;\n",
       "    }\n",
       "</style>\n",
       "<table border=\"1\" class=\"dataframe\">\n",
       "  <thead>\n",
       "    <tr style=\"text-align: right;\">\n",
       "      <th></th>\n",
       "      <th>company</th>\n",
       "      <th>bar_origin</th>\n",
       "      <th>review_update_value</th>\n",
       "      <th>review_pub_date</th>\n",
       "      <th>cocoa_percentage</th>\n",
       "      <th>company_location</th>\n",
       "      <th>rating</th>\n",
       "      <th>bean_type</th>\n",
       "      <th>new_rating</th>\n",
       "      <th>criollo_bean</th>\n",
       "      <th>forastero_bean</th>\n",
       "      <th>trinitario_bean</th>\n",
       "      <th>amazon_bean</th>\n",
       "      <th>num_beans</th>\n",
       "      <th>blend</th>\n",
       "      <th>missing_bean_type</th>\n",
       "      <th>stemmed_bean_origin</th>\n",
       "      <th>bal</th>\n",
       "      <th>bel</th>\n",
       "      <th>boliv</th>\n",
       "      <th>brazil</th>\n",
       "      <th>cameroon</th>\n",
       "      <th>carrib</th>\n",
       "      <th>colomb</th>\n",
       "      <th>congo</th>\n",
       "      <th>cub</th>\n",
       "      <th>ecuad</th>\n",
       "      <th>fij</th>\n",
       "      <th>ghan</th>\n",
       "      <th>grenad</th>\n",
       "      <th>guatemal</th>\n",
       "      <th>hait</th>\n",
       "      <th>hawai</th>\n",
       "      <th>hondura</th>\n",
       "      <th>ind</th>\n",
       "      <th>indones</th>\n",
       "      <th>jamaic</th>\n",
       "      <th>jav</th>\n",
       "      <th>madagasc</th>\n",
       "      <th>malays</th>\n",
       "      <th>mexico</th>\n",
       "      <th>nicaragu</th>\n",
       "      <th>panam</th>\n",
       "      <th>peru</th>\n",
       "      <th>philippin</th>\n",
       "      <th>surinam</th>\n",
       "      <th>tanzan</th>\n",
       "      <th>trinidad</th>\n",
       "      <th>ugand</th>\n",
       "      <th>vanuatu</th>\n",
       "      <th>venezuel</th>\n",
       "      <th>vietnam</th>\n",
       "      <th>domin_republ</th>\n",
       "      <th>sao_tom</th>\n",
       "      <th>papu_new_guine</th>\n",
       "      <th>cost_ric</th>\n",
       "      <th>west_afric</th>\n",
       "      <th>st_luc</th>\n",
       "      <th>sou_americ</th>\n",
       "      <th>sri_lank</th>\n",
       "    </tr>\n",
       "  </thead>\n",
       "  <tbody>\n",
       "    <tr>\n",
       "      <th>0</th>\n",
       "      <td>A. Morin</td>\n",
       "      <td>Agua Grande</td>\n",
       "      <td>1876</td>\n",
       "      <td>2016</td>\n",
       "      <td>63.0</td>\n",
       "      <td>France</td>\n",
       "      <td>3.75</td>\n",
       "      <td>NaN</td>\n",
       "      <td>5</td>\n",
       "      <td>NaN</td>\n",
       "      <td>NaN</td>\n",
       "      <td>NaN</td>\n",
       "      <td>NaN</td>\n",
       "      <td>0.0</td>\n",
       "      <td>0</td>\n",
       "      <td>1</td>\n",
       "      <td>NaN</td>\n",
       "      <td>NaN</td>\n",
       "      <td>NaN</td>\n",
       "      <td>NaN</td>\n",
       "      <td>NaN</td>\n",
       "      <td>NaN</td>\n",
       "      <td>NaN</td>\n",
       "      <td>NaN</td>\n",
       "      <td>NaN</td>\n",
       "      <td>NaN</td>\n",
       "      <td>NaN</td>\n",
       "      <td>NaN</td>\n",
       "      <td>NaN</td>\n",
       "      <td>NaN</td>\n",
       "      <td>NaN</td>\n",
       "      <td>NaN</td>\n",
       "      <td>NaN</td>\n",
       "      <td>NaN</td>\n",
       "      <td>NaN</td>\n",
       "      <td>NaN</td>\n",
       "      <td>NaN</td>\n",
       "      <td>NaN</td>\n",
       "      <td>NaN</td>\n",
       "      <td>NaN</td>\n",
       "      <td>NaN</td>\n",
       "      <td>NaN</td>\n",
       "      <td>NaN</td>\n",
       "      <td>NaN</td>\n",
       "      <td>NaN</td>\n",
       "      <td>NaN</td>\n",
       "      <td>NaN</td>\n",
       "      <td>NaN</td>\n",
       "      <td>NaN</td>\n",
       "      <td>NaN</td>\n",
       "      <td>NaN</td>\n",
       "      <td>NaN</td>\n",
       "      <td>NaN</td>\n",
       "      <td>NaN</td>\n",
       "      <td>NaN</td>\n",
       "      <td>NaN</td>\n",
       "      <td>NaN</td>\n",
       "      <td>NaN</td>\n",
       "      <td>NaN</td>\n",
       "      <td>NaN</td>\n",
       "    </tr>\n",
       "    <tr>\n",
       "      <th>1</th>\n",
       "      <td>A. Morin</td>\n",
       "      <td>Kpime</td>\n",
       "      <td>1676</td>\n",
       "      <td>2015</td>\n",
       "      <td>70.0</td>\n",
       "      <td>France</td>\n",
       "      <td>2.75</td>\n",
       "      <td>NaN</td>\n",
       "      <td>3</td>\n",
       "      <td>NaN</td>\n",
       "      <td>NaN</td>\n",
       "      <td>NaN</td>\n",
       "      <td>NaN</td>\n",
       "      <td>0.0</td>\n",
       "      <td>0</td>\n",
       "      <td>1</td>\n",
       "      <td>NaN</td>\n",
       "      <td>NaN</td>\n",
       "      <td>NaN</td>\n",
       "      <td>NaN</td>\n",
       "      <td>NaN</td>\n",
       "      <td>NaN</td>\n",
       "      <td>NaN</td>\n",
       "      <td>NaN</td>\n",
       "      <td>NaN</td>\n",
       "      <td>NaN</td>\n",
       "      <td>NaN</td>\n",
       "      <td>NaN</td>\n",
       "      <td>NaN</td>\n",
       "      <td>NaN</td>\n",
       "      <td>NaN</td>\n",
       "      <td>NaN</td>\n",
       "      <td>NaN</td>\n",
       "      <td>NaN</td>\n",
       "      <td>NaN</td>\n",
       "      <td>NaN</td>\n",
       "      <td>NaN</td>\n",
       "      <td>NaN</td>\n",
       "      <td>NaN</td>\n",
       "      <td>NaN</td>\n",
       "      <td>NaN</td>\n",
       "      <td>NaN</td>\n",
       "      <td>NaN</td>\n",
       "      <td>NaN</td>\n",
       "      <td>NaN</td>\n",
       "      <td>NaN</td>\n",
       "      <td>NaN</td>\n",
       "      <td>NaN</td>\n",
       "      <td>NaN</td>\n",
       "      <td>NaN</td>\n",
       "      <td>NaN</td>\n",
       "      <td>NaN</td>\n",
       "      <td>NaN</td>\n",
       "      <td>NaN</td>\n",
       "      <td>NaN</td>\n",
       "      <td>NaN</td>\n",
       "      <td>NaN</td>\n",
       "      <td>NaN</td>\n",
       "      <td>NaN</td>\n",
       "      <td>NaN</td>\n",
       "    </tr>\n",
       "    <tr>\n",
       "      <th>2</th>\n",
       "      <td>A. Morin</td>\n",
       "      <td>Atsane</td>\n",
       "      <td>1676</td>\n",
       "      <td>2015</td>\n",
       "      <td>70.0</td>\n",
       "      <td>France</td>\n",
       "      <td>3.00</td>\n",
       "      <td>NaN</td>\n",
       "      <td>3</td>\n",
       "      <td>NaN</td>\n",
       "      <td>NaN</td>\n",
       "      <td>NaN</td>\n",
       "      <td>NaN</td>\n",
       "      <td>0.0</td>\n",
       "      <td>0</td>\n",
       "      <td>1</td>\n",
       "      <td>NaN</td>\n",
       "      <td>NaN</td>\n",
       "      <td>NaN</td>\n",
       "      <td>NaN</td>\n",
       "      <td>NaN</td>\n",
       "      <td>NaN</td>\n",
       "      <td>NaN</td>\n",
       "      <td>NaN</td>\n",
       "      <td>NaN</td>\n",
       "      <td>NaN</td>\n",
       "      <td>NaN</td>\n",
       "      <td>NaN</td>\n",
       "      <td>NaN</td>\n",
       "      <td>NaN</td>\n",
       "      <td>NaN</td>\n",
       "      <td>NaN</td>\n",
       "      <td>NaN</td>\n",
       "      <td>NaN</td>\n",
       "      <td>NaN</td>\n",
       "      <td>NaN</td>\n",
       "      <td>NaN</td>\n",
       "      <td>NaN</td>\n",
       "      <td>NaN</td>\n",
       "      <td>NaN</td>\n",
       "      <td>NaN</td>\n",
       "      <td>NaN</td>\n",
       "      <td>NaN</td>\n",
       "      <td>NaN</td>\n",
       "      <td>NaN</td>\n",
       "      <td>NaN</td>\n",
       "      <td>NaN</td>\n",
       "      <td>NaN</td>\n",
       "      <td>NaN</td>\n",
       "      <td>NaN</td>\n",
       "      <td>NaN</td>\n",
       "      <td>NaN</td>\n",
       "      <td>NaN</td>\n",
       "      <td>NaN</td>\n",
       "      <td>NaN</td>\n",
       "      <td>NaN</td>\n",
       "      <td>NaN</td>\n",
       "      <td>NaN</td>\n",
       "      <td>NaN</td>\n",
       "      <td>NaN</td>\n",
       "    </tr>\n",
       "    <tr>\n",
       "      <th>3</th>\n",
       "      <td>A. Morin</td>\n",
       "      <td>Akata</td>\n",
       "      <td>1680</td>\n",
       "      <td>2015</td>\n",
       "      <td>70.0</td>\n",
       "      <td>France</td>\n",
       "      <td>3.50</td>\n",
       "      <td>NaN</td>\n",
       "      <td>4</td>\n",
       "      <td>NaN</td>\n",
       "      <td>NaN</td>\n",
       "      <td>NaN</td>\n",
       "      <td>NaN</td>\n",
       "      <td>0.0</td>\n",
       "      <td>0</td>\n",
       "      <td>1</td>\n",
       "      <td>NaN</td>\n",
       "      <td>NaN</td>\n",
       "      <td>NaN</td>\n",
       "      <td>NaN</td>\n",
       "      <td>NaN</td>\n",
       "      <td>NaN</td>\n",
       "      <td>NaN</td>\n",
       "      <td>NaN</td>\n",
       "      <td>NaN</td>\n",
       "      <td>NaN</td>\n",
       "      <td>NaN</td>\n",
       "      <td>NaN</td>\n",
       "      <td>NaN</td>\n",
       "      <td>NaN</td>\n",
       "      <td>NaN</td>\n",
       "      <td>NaN</td>\n",
       "      <td>NaN</td>\n",
       "      <td>NaN</td>\n",
       "      <td>NaN</td>\n",
       "      <td>NaN</td>\n",
       "      <td>NaN</td>\n",
       "      <td>NaN</td>\n",
       "      <td>NaN</td>\n",
       "      <td>NaN</td>\n",
       "      <td>NaN</td>\n",
       "      <td>NaN</td>\n",
       "      <td>NaN</td>\n",
       "      <td>NaN</td>\n",
       "      <td>NaN</td>\n",
       "      <td>NaN</td>\n",
       "      <td>NaN</td>\n",
       "      <td>NaN</td>\n",
       "      <td>NaN</td>\n",
       "      <td>NaN</td>\n",
       "      <td>NaN</td>\n",
       "      <td>NaN</td>\n",
       "      <td>NaN</td>\n",
       "      <td>NaN</td>\n",
       "      <td>NaN</td>\n",
       "      <td>NaN</td>\n",
       "      <td>NaN</td>\n",
       "      <td>NaN</td>\n",
       "      <td>NaN</td>\n",
       "      <td>NaN</td>\n",
       "    </tr>\n",
       "    <tr>\n",
       "      <th>4</th>\n",
       "      <td>A. Morin</td>\n",
       "      <td>Quilla</td>\n",
       "      <td>1704</td>\n",
       "      <td>2015</td>\n",
       "      <td>70.0</td>\n",
       "      <td>France</td>\n",
       "      <td>3.50</td>\n",
       "      <td>NaN</td>\n",
       "      <td>4</td>\n",
       "      <td>NaN</td>\n",
       "      <td>NaN</td>\n",
       "      <td>NaN</td>\n",
       "      <td>NaN</td>\n",
       "      <td>0.0</td>\n",
       "      <td>0</td>\n",
       "      <td>1</td>\n",
       "      <td>NaN</td>\n",
       "      <td>NaN</td>\n",
       "      <td>NaN</td>\n",
       "      <td>NaN</td>\n",
       "      <td>NaN</td>\n",
       "      <td>NaN</td>\n",
       "      <td>NaN</td>\n",
       "      <td>NaN</td>\n",
       "      <td>NaN</td>\n",
       "      <td>NaN</td>\n",
       "      <td>NaN</td>\n",
       "      <td>NaN</td>\n",
       "      <td>NaN</td>\n",
       "      <td>NaN</td>\n",
       "      <td>NaN</td>\n",
       "      <td>NaN</td>\n",
       "      <td>NaN</td>\n",
       "      <td>NaN</td>\n",
       "      <td>NaN</td>\n",
       "      <td>NaN</td>\n",
       "      <td>NaN</td>\n",
       "      <td>NaN</td>\n",
       "      <td>NaN</td>\n",
       "      <td>NaN</td>\n",
       "      <td>NaN</td>\n",
       "      <td>NaN</td>\n",
       "      <td>NaN</td>\n",
       "      <td>NaN</td>\n",
       "      <td>NaN</td>\n",
       "      <td>NaN</td>\n",
       "      <td>NaN</td>\n",
       "      <td>NaN</td>\n",
       "      <td>NaN</td>\n",
       "      <td>NaN</td>\n",
       "      <td>NaN</td>\n",
       "      <td>NaN</td>\n",
       "      <td>NaN</td>\n",
       "      <td>NaN</td>\n",
       "      <td>NaN</td>\n",
       "      <td>NaN</td>\n",
       "      <td>NaN</td>\n",
       "      <td>NaN</td>\n",
       "      <td>NaN</td>\n",
       "      <td>NaN</td>\n",
       "    </tr>\n",
       "  </tbody>\n",
       "</table>\n",
       "</div>"
      ],
      "text/plain": [
       "    company   bar_origin    ...     sou_americ  sri_lank\n",
       "0  A. Morin  Agua Grande    ...            NaN       NaN\n",
       "1  A. Morin        Kpime    ...            NaN       NaN\n",
       "2  A. Morin       Atsane    ...            NaN       NaN\n",
       "3  A. Morin        Akata    ...            NaN       NaN\n",
       "4  A. Morin       Quilla    ...            NaN       NaN\n",
       "\n",
       "[5 rows x 60 columns]"
      ]
     },
     "execution_count": 40,
     "metadata": {},
     "output_type": "execute_result"
    }
   ],
   "source": [
    "prepared_data = data.copy()\n",
    "prepared_data.drop(\"bean_origin\", axis=1, inplace=True)\n",
    "prepared_data = prepared_data.join(word_counts_df)\n",
    "prepared_data.head()"
   ]
  },
  {
   "cell_type": "code",
   "execution_count": 41,
   "metadata": {
    "_uuid": "f42754a7ffba43627e3f7a84f78b3dbff2b5c191"
   },
   "outputs": [],
   "source": [
    "prepared_data.drop(\"stemmed_bean_origin\", axis=1, inplace=True)"
   ]
  },
  {
   "cell_type": "code",
   "execution_count": 42,
   "metadata": {
    "_uuid": "ea10f6b2417909e1a60a7c4cd73b7dcc2f7d0938"
   },
   "outputs": [
    {
     "data": {
      "text/plain": [
       "Index(['company', 'bar_origin', 'review_update_value', 'review_pub_date',\n",
       "       'cocoa_percentage', 'company_location', 'rating', 'bean_type',\n",
       "       'new_rating', 'criollo_bean', 'forastero_bean', 'trinitario_bean',\n",
       "       'amazon_bean', 'num_beans', 'blend', 'missing_bean_type', 'bal', 'bel',\n",
       "       'boliv', 'brazil', 'cameroon', 'carrib', 'colomb', 'congo', 'cub',\n",
       "       'ecuad', 'fij', 'ghan', 'grenad', 'guatemal', 'hait', 'hawai',\n",
       "       'hondura', 'ind', 'indones', 'jamaic', 'jav', 'madagasc', 'malays',\n",
       "       'mexico', 'nicaragu', 'panam', 'peru', 'philippin', 'surinam', 'tanzan',\n",
       "       'trinidad', 'ugand', 'vanuatu', 'venezuel', 'vietnam', 'domin_republ',\n",
       "       'sao_tom', 'papu_new_guine', 'cost_ric', 'west_afric', 'st_luc',\n",
       "       'sou_americ', 'sri_lank'],\n",
       "      dtype='object')"
      ]
     },
     "execution_count": 42,
     "metadata": {},
     "output_type": "execute_result"
    }
   ],
   "source": [
    "prepared_data.columns"
   ]
  },
  {
   "cell_type": "code",
   "execution_count": 43,
   "metadata": {
    "_uuid": "8315d713ae18db426d2931b0a795eeebf84ebe15"
   },
   "outputs": [],
   "source": [
    "origin_names = {\n",
    "    \"venezuel\": \"VEN\",\n",
    "    \"boliv\": \"BOL\",\n",
    "    \"vietnam\": \"VNM\",\n",
    "    \"sri_lank\": \"LKA\",\n",
    "    \"st_luc\": \"LC\",\n",
    "    \"cost_ric\": \"CR\",\n",
    "    \"papu_new_guine\": \"PG\",\n",
    "    \"sao_tom\": \"STP\",\n",
    "    \"domint_republ\": \"DOM\",\n",
    "    \"vanuatu\": \"VUT\",\n",
    "    \"ugand\": \"UGA\",\n",
    "    \"trinidad\": \"TTO\",\n",
    "    \"tanzan\": \"TZA\",\n",
    "    \"surinam\": \"SUR\",\n",
    "    \"philippin\": \"PHL\",\n",
    "    \"peru\": \"PER\",\n",
    "    \"panam\": \"PAN\",\n",
    "    \"nicaragu\": \"NIC\",\n",
    "    \"mexico\": \"MEX\",\n",
    "    \"malays\": \"MYS\",\n",
    "    \"madagasc\": \"MDG\",\n",
    "    \"jamaic\": \"JAM\",\n",
    "    \"indones\": \"IDN\",\n",
    "    \"ind\": \"IND\",\n",
    "    \"hondura\": \"HND\",\n",
    "    \"hait\": \"HTI\",\n",
    "    \"guatemal\": \"GTM\",\n",
    "    \"grenad\": \"GRD\",\n",
    "    \"ghan\": \"GHA\",\n",
    "    \"fij\": \"FJI\",\n",
    "    \"ecuad\": \"ECU\",\n",
    "    \"cub\": \"CUB\",\n",
    "    \"congo\": \"COG\",\n",
    "    \"colomb\": \"COL\",\n",
    "    \"cameroon\": \"CMR\",\n",
    "    \"brazil\": \"BRA\",\n",
    "    \"bel\": \"BLZ\",\n",
    "    \"carrib\": \"BQ\",\n",
    "    \"bal\": \"Bali\",\n",
    "    \"hawai\": \"Hawai\",\n",
    "    \"jav\": \"Java\"\n",
    "}"
   ]
  },
  {
   "cell_type": "markdown",
   "metadata": {
    "_uuid": "e710f10b4f8f2b042406766cd21941dbefc5cd13"
   },
   "source": [
    "#### Exploring the ratings of bean origins - Focusing on the top\n",
    "\n",
    "To get started I like to focus on the most common, top 10, bean origins:"
   ]
  },
  {
   "cell_type": "code",
   "execution_count": 44,
   "metadata": {
    "_uuid": "aac5c6bcbc5874851cc1e9f13afb5f80c6efc91a"
   },
   "outputs": [],
   "source": [
    "top_bean_origins = data.bean_origin.value_counts().head(20)"
   ]
  },
  {
   "cell_type": "markdown",
   "metadata": {
    "_uuid": "6b422ab2b6720f920f9f0a446128e952889185a5"
   },
   "source": [
    "How much data is covered by these origins? How much data would we loose by skipping the others?"
   ]
  },
  {
   "cell_type": "code",
   "execution_count": 45,
   "metadata": {
    "_uuid": "fef4071959e3bd84ad9f2dd8ac27c3263614e48d"
   },
   "outputs": [
    {
     "data": {
      "text/plain": [
       "80.83565459610028"
      ]
     },
     "execution_count": 45,
     "metadata": {},
     "output_type": "execute_result"
    }
   ],
   "source": [
    "data.loc[data.bean_origin.isin(top_bean_origins.index),:].shape[0] / data.shape[0] * 100"
   ]
  },
  {
   "cell_type": "markdown",
   "metadata": {
    "_uuid": "3ab5a27922856c8d75788223c553eb4e0617f03b"
   },
   "source": [
    "Great! By focusing on the top 10 bean origins ... throwing the other away ... we still cover around 81 % of the data. Before I try to regain the lost information, let's explore if the quality of the chocolate is related to its bean origin. For this purpose I like to use folium. "
   ]
  },
  {
   "cell_type": "code",
   "execution_count": 46,
   "metadata": {
    "_uuid": "1cb415b34264ef2da5be1455810bc152deef36dd"
   },
   "outputs": [],
   "source": [
    "focus_data = data.loc[data.bean_origin.isin(top_bean_origins.index),:].copy()\n",
    "bean_origin_ratings = focus_data.groupby(\"bean_origin\").new_rating.mean()"
   ]
  },
  {
   "cell_type": "code",
   "execution_count": 47,
   "metadata": {
    "_uuid": "389109adc437a76c61cf979a09571f0c1980778c"
   },
   "outputs": [],
   "source": [
    "geo_json_data = json.load(open(\"../input/python-folio-country-boundaries/world-countries.json\"))"
   ]
  },
  {
   "cell_type": "code",
   "execution_count": 48,
   "metadata": {
    "_kg_hide-input": true,
    "_uuid": "65b51bc006fea8232a60bb17b080319785c8440b"
   },
   "outputs": [],
   "source": [
    "colormap = linear.YlGnBu_09.scale(\n",
    "    bean_origin_ratings.min(),\n",
    "    bean_origin_ratings.max())\n",
    "\n",
    "used_names = []\n",
    "def make_color(feature):\n",
    "    current_country = feature['properties']['name']\n",
    "    if current_country in bean_origin_ratings.index.values:\n",
    "        used_names.append(current_country)\n",
    "        return colormap(bean_origin_ratings[feature['properties']['name']])\n",
    "    else:\n",
    "        return \"floralwhite\""
   ]
  },
  {
   "cell_type": "code",
   "execution_count": 49,
   "metadata": {
    "_kg_hide-input": true,
    "_uuid": "c982bd90d4bddc158a3f5fdb7a3214c7111f986d"
   },
   "outputs": [
    {
     "data": {
      "text/html": [
       "<iframe src=bean_origin_ratings.html width=800 height=450></iframe>"
      ],
      "text/plain": [
       "<IPython.core.display.HTML object>"
      ]
     },
     "execution_count": 49,
     "metadata": {},
     "output_type": "execute_result"
    }
   ],
   "source": [
    "m = folium.Map([0,0], zoom_start=1.5)\n",
    "\n",
    "folium.GeoJson(\n",
    "    geo_json_data,\n",
    "    name='mean ratings of bean origin',\n",
    "    style_function=lambda feature: {\n",
    "        'fillColor': make_color(feature),\n",
    "        'color': 'grey',\n",
    "        'weight': 1,\n",
    "        'dashArray': '3, 3',\n",
    "        'fillOpacity': 0.8,\n",
    "    }\n",
    ").add_to(m)\n",
    "\n",
    "colormap.caption = 'mean ratings of bean origin'\n",
    "colormap.add_to(m)\n",
    "folium.LayerControl().add_to(m)\n",
    "\n",
    "m.save(\"bean_origin_ratings.html\")\n",
    "HTML('<iframe src=bean_origin_ratings.html width=800 height=450></iframe>')"
   ]
  },
  {
   "cell_type": "markdown",
   "metadata": {
    "_uuid": "bddc52f8cc3dc72d30084ae9e2a0e8fa281f3740"
   },
   "source": [
    " We can see that there are some origins of the top 10 that are more likely to yield a high quality chocolate bar. But which names were not used? (Have to fix this!)"
   ]
  },
  {
   "cell_type": "code",
   "execution_count": 50,
   "metadata": {
    "_uuid": "b45e56a0a1d92c2f368dd6002a933cbfb15c018b"
   },
   "outputs": [
    {
     "data": {
      "text/plain": [
       "{'Domincan Republic', 'Hawaii', 'Tanzania', 'Trinidad'}"
      ]
     },
     "execution_count": 50,
     "metadata": {},
     "output_type": "execute_result"
    }
   ],
   "source": [
    "set(bean_origin_ratings.index.values).difference(set(used_names))"
   ]
  },
  {
   "cell_type": "markdown",
   "metadata": {
    "_uuid": "ea7c4cd48584b9d28cb0c0731ba6bfefb1c3904f"
   },
   "source": [
    "### What is the specific geo region of a bean or chocolate bar? <a class=\"anchor\" id=\"geo_region\"></a>"
   ]
  },
  {
   "cell_type": "markdown",
   "metadata": {
    "_uuid": "7fabcedec0adbe377ffa6855e5e2d43e9c193412"
   },
   "source": [
    "### How much cocoa is contained in good chocolate? <a class=\"anchor\" id=\"cocoa\"></a>\n"
   ]
  },
  {
   "cell_type": "code",
   "execution_count": 51,
   "metadata": {
    "_kg_hide-input": true,
    "_uuid": "ea7674602e35d96868557ca44aa18f9f236126bf"
   },
   "outputs": [
    {
     "data": {
      "image/png": "[encoded data removed]",
      "text/plain": [
       "<Figure size 1440x720 with 4 Axes>"
      ]
     },
     "metadata": {},
     "output_type": "display_data"
    }
   ],
   "source": [
    "fig, ax = plt.subplots(2,2,figsize=(20,10))\n",
    "\n",
    "sns.distplot(data.cocoa_percentage, kde=False, color=\"sienna\", ax=ax[0,0])\n",
    "ax[0,0].set_xlabel(\"% of cocoa\")\n",
    "ax[0,0].set_ylabel(\"frequency\")\n",
    "ax[0,0].set_title(\"Distribution of cocoa percentage\");\n",
    "\n",
    "sns.kdeplot(data.new_rating, data.cocoa_percentage, cmap=\"Reds\", shade=True, n_levels=20,\n",
    "            shade_lowest=False, ax=ax[0,1]);\n",
    "ax[0,1].scatter(data.new_rating, data.cocoa_percentage, s=0.5, c=\"Brown\")\n",
    "ax[0,1].set_ylabel(\"% of cocoa\")\n",
    "ax[0,1].set_xlabel(\"rating\");\n",
    "ax[0,1].set_title(\"Cocoa percentage vs. rating of chocolate bar\");\n",
    "\n",
    "sns.violinplot(x=data.new_rating, y=data.cocoa_percentage, ax=ax[1,0], palette=\"Reds\")\n",
    "sns.boxplot(x=data.new_rating, y=data.cocoa_percentage, ax=ax[1,1], palette=\"Reds\");"
   ]
  },
  {
   "cell_type": "markdown",
   "metadata": {
    "_uuid": "a2fcb2a40d123cea8c22eae4183bab3f67a3dd73"
   },
   "source": [
    "Interestingly chocolate with very high % of cocoa have a tendency to be not delicious. This might be related to bitter compounds in cocoa. In addition we can see that the distributions or cocoa percentage become narrower with increasing rates. It seems that all good chocolate bars have cocoa percentages close to 70 %. "
   ]
  },
  {
   "cell_type": "markdown",
   "metadata": {
    "_uuid": "1e554fc7655f34c3a7b75342ca27e64ed92883c5"
   },
   "source": [
    "** under construction ** "
   ]
  },
  {
   "cell_type": "markdown",
   "metadata": {
    "_uuid": "e4fc1b9e0aa715bee9466da6fca0be569e509677"
   },
   "source": [
    "### When were the ratings published and updated?  <a class=\"anchor\" id=\"review_date\"></a>"
   ]
  },
  {
   "cell_type": "code",
   "execution_count": 52,
   "metadata": {
    "_kg_hide-input": true,
    "_uuid": "99a83d3f931aaf9db8fab7a2cc19f2a12460a468"
   },
   "outputs": [
    {
     "name": "stdout",
     "output_type": "stream",
     "text": [
      "The first review was published 2006 and the last 2017.\n"
     ]
    }
   ],
   "source": [
    "print(\"The first review was published {} and the last {}.\".format(\n",
    "    data.review_pub_date.min(), data.review_pub_date.max()))"
   ]
  },
  {
   "cell_type": "markdown",
   "metadata": {
    "_uuid": "2e9f83f542a548111ecb59d047287c167d54defc"
   },
   "source": [
    "Huuh, 11 years are covered by the data. As ingredients of chocolate bars might have changed during this period we should consider the up-to-dateness of the review as well ;-) . In the dataset description we can see that this is related to the review_update_value (REF). The higher this value the more recent was the entry in the database:"
   ]
  },
  {
   "cell_type": "markdown",
   "metadata": {
    "_uuid": "1f78d53881590fc984acfe6fae9743085e9759b4"
   },
   "source": [
    "## Predicting the chocolate rating with catboost <a class=\"anchor\" id=\"catboost\"></a>\n",
    "\n",
    "**This part is heavily under construction and has currently nothing great to show**\n",
    "\n",
    "I'm new to catboost and one reason to start this kernel was to get started with it and to explore it's features thereby practicing feature exploration and engineering of categorical data."
   ]
  },
  {
   "cell_type": "code",
   "execution_count": 53,
   "metadata": {
    "_uuid": "20ff3771d2e1f0d2b67e02b7978b946a47567742"
   },
   "outputs": [
    {
     "data": {
      "text/html": [
       "<div>\n",
       "<style scoped>\n",
       "    .dataframe tbody tr th:only-of-type {\n",
       "        vertical-align: middle;\n",
       "    }\n",
       "\n",
       "    .dataframe tbody tr th {\n",
       "        vertical-align: top;\n",
       "    }\n",
       "\n",
       "    .dataframe thead th {\n",
       "        text-align: right;\n",
       "    }\n",
       "</style>\n",
       "<table border=\"1\" class=\"dataframe\">\n",
       "  <thead>\n",
       "    <tr style=\"text-align: right;\">\n",
       "      <th></th>\n",
       "      <th>company</th>\n",
       "      <th>bar_origin</th>\n",
       "      <th>review_update_value</th>\n",
       "      <th>review_pub_date</th>\n",
       "      <th>cocoa_percentage</th>\n",
       "      <th>company_location</th>\n",
       "      <th>rating</th>\n",
       "      <th>bean_type</th>\n",
       "      <th>new_rating</th>\n",
       "      <th>criollo_bean</th>\n",
       "      <th>forastero_bean</th>\n",
       "      <th>trinitario_bean</th>\n",
       "      <th>amazon_bean</th>\n",
       "      <th>num_beans</th>\n",
       "      <th>blend</th>\n",
       "      <th>missing_bean_type</th>\n",
       "      <th>bal</th>\n",
       "      <th>bel</th>\n",
       "      <th>boliv</th>\n",
       "      <th>brazil</th>\n",
       "      <th>cameroon</th>\n",
       "      <th>carrib</th>\n",
       "      <th>colomb</th>\n",
       "      <th>congo</th>\n",
       "      <th>cub</th>\n",
       "      <th>ecuad</th>\n",
       "      <th>fij</th>\n",
       "      <th>ghan</th>\n",
       "      <th>grenad</th>\n",
       "      <th>guatemal</th>\n",
       "      <th>hait</th>\n",
       "      <th>hawai</th>\n",
       "      <th>hondura</th>\n",
       "      <th>ind</th>\n",
       "      <th>indones</th>\n",
       "      <th>jamaic</th>\n",
       "      <th>jav</th>\n",
       "      <th>madagasc</th>\n",
       "      <th>malays</th>\n",
       "      <th>mexico</th>\n",
       "      <th>nicaragu</th>\n",
       "      <th>panam</th>\n",
       "      <th>peru</th>\n",
       "      <th>philippin</th>\n",
       "      <th>surinam</th>\n",
       "      <th>tanzan</th>\n",
       "      <th>trinidad</th>\n",
       "      <th>ugand</th>\n",
       "      <th>vanuatu</th>\n",
       "      <th>venezuel</th>\n",
       "      <th>vietnam</th>\n",
       "      <th>domin_republ</th>\n",
       "      <th>sao_tom</th>\n",
       "      <th>papu_new_guine</th>\n",
       "      <th>cost_ric</th>\n",
       "      <th>west_afric</th>\n",
       "      <th>st_luc</th>\n",
       "      <th>sou_americ</th>\n",
       "      <th>sri_lank</th>\n",
       "    </tr>\n",
       "  </thead>\n",
       "  <tbody>\n",
       "    <tr>\n",
       "      <th>0</th>\n",
       "      <td>A. Morin</td>\n",
       "      <td>Agua Grande</td>\n",
       "      <td>1876</td>\n",
       "      <td>2016</td>\n",
       "      <td>63.0</td>\n",
       "      <td>France</td>\n",
       "      <td>3.75</td>\n",
       "      <td>NaN</td>\n",
       "      <td>5</td>\n",
       "      <td>NaN</td>\n",
       "      <td>NaN</td>\n",
       "      <td>NaN</td>\n",
       "      <td>NaN</td>\n",
       "      <td>0.0</td>\n",
       "      <td>0</td>\n",
       "      <td>1</td>\n",
       "      <td>NaN</td>\n",
       "      <td>NaN</td>\n",
       "      <td>NaN</td>\n",
       "      <td>NaN</td>\n",
       "      <td>NaN</td>\n",
       "      <td>NaN</td>\n",
       "      <td>NaN</td>\n",
       "      <td>NaN</td>\n",
       "      <td>NaN</td>\n",
       "      <td>NaN</td>\n",
       "      <td>NaN</td>\n",
       "      <td>NaN</td>\n",
       "      <td>NaN</td>\n",
       "      <td>NaN</td>\n",
       "      <td>NaN</td>\n",
       "      <td>NaN</td>\n",
       "      <td>NaN</td>\n",
       "      <td>NaN</td>\n",
       "      <td>NaN</td>\n",
       "      <td>NaN</td>\n",
       "      <td>NaN</td>\n",
       "      <td>NaN</td>\n",
       "      <td>NaN</td>\n",
       "      <td>NaN</td>\n",
       "      <td>NaN</td>\n",
       "      <td>NaN</td>\n",
       "      <td>NaN</td>\n",
       "      <td>NaN</td>\n",
       "      <td>NaN</td>\n",
       "      <td>NaN</td>\n",
       "      <td>NaN</td>\n",
       "      <td>NaN</td>\n",
       "      <td>NaN</td>\n",
       "      <td>NaN</td>\n",
       "      <td>NaN</td>\n",
       "      <td>NaN</td>\n",
       "      <td>NaN</td>\n",
       "      <td>NaN</td>\n",
       "      <td>NaN</td>\n",
       "      <td>NaN</td>\n",
       "      <td>NaN</td>\n",
       "      <td>NaN</td>\n",
       "      <td>NaN</td>\n",
       "    </tr>\n",
       "    <tr>\n",
       "      <th>1</th>\n",
       "      <td>A. Morin</td>\n",
       "      <td>Kpime</td>\n",
       "      <td>1676</td>\n",
       "      <td>2015</td>\n",
       "      <td>70.0</td>\n",
       "      <td>France</td>\n",
       "      <td>2.75</td>\n",
       "      <td>NaN</td>\n",
       "      <td>3</td>\n",
       "      <td>NaN</td>\n",
       "      <td>NaN</td>\n",
       "      <td>NaN</td>\n",
       "      <td>NaN</td>\n",
       "      <td>0.0</td>\n",
       "      <td>0</td>\n",
       "      <td>1</td>\n",
       "      <td>NaN</td>\n",
       "      <td>NaN</td>\n",
       "      <td>NaN</td>\n",
       "      <td>NaN</td>\n",
       "      <td>NaN</td>\n",
       "      <td>NaN</td>\n",
       "      <td>NaN</td>\n",
       "      <td>NaN</td>\n",
       "      <td>NaN</td>\n",
       "      <td>NaN</td>\n",
       "      <td>NaN</td>\n",
       "      <td>NaN</td>\n",
       "      <td>NaN</td>\n",
       "      <td>NaN</td>\n",
       "      <td>NaN</td>\n",
       "      <td>NaN</td>\n",
       "      <td>NaN</td>\n",
       "      <td>NaN</td>\n",
       "      <td>NaN</td>\n",
       "      <td>NaN</td>\n",
       "      <td>NaN</td>\n",
       "      <td>NaN</td>\n",
       "      <td>NaN</td>\n",
       "      <td>NaN</td>\n",
       "      <td>NaN</td>\n",
       "      <td>NaN</td>\n",
       "      <td>NaN</td>\n",
       "      <td>NaN</td>\n",
       "      <td>NaN</td>\n",
       "      <td>NaN</td>\n",
       "      <td>NaN</td>\n",
       "      <td>NaN</td>\n",
       "      <td>NaN</td>\n",
       "      <td>NaN</td>\n",
       "      <td>NaN</td>\n",
       "      <td>NaN</td>\n",
       "      <td>NaN</td>\n",
       "      <td>NaN</td>\n",
       "      <td>NaN</td>\n",
       "      <td>NaN</td>\n",
       "      <td>NaN</td>\n",
       "      <td>NaN</td>\n",
       "      <td>NaN</td>\n",
       "    </tr>\n",
       "    <tr>\n",
       "      <th>2</th>\n",
       "      <td>A. Morin</td>\n",
       "      <td>Atsane</td>\n",
       "      <td>1676</td>\n",
       "      <td>2015</td>\n",
       "      <td>70.0</td>\n",
       "      <td>France</td>\n",
       "      <td>3.00</td>\n",
       "      <td>NaN</td>\n",
       "      <td>3</td>\n",
       "      <td>NaN</td>\n",
       "      <td>NaN</td>\n",
       "      <td>NaN</td>\n",
       "      <td>NaN</td>\n",
       "      <td>0.0</td>\n",
       "      <td>0</td>\n",
       "      <td>1</td>\n",
       "      <td>NaN</td>\n",
       "      <td>NaN</td>\n",
       "      <td>NaN</td>\n",
       "      <td>NaN</td>\n",
       "      <td>NaN</td>\n",
       "      <td>NaN</td>\n",
       "      <td>NaN</td>\n",
       "      <td>NaN</td>\n",
       "      <td>NaN</td>\n",
       "      <td>NaN</td>\n",
       "      <td>NaN</td>\n",
       "      <td>NaN</td>\n",
       "      <td>NaN</td>\n",
       "      <td>NaN</td>\n",
       "      <td>NaN</td>\n",
       "      <td>NaN</td>\n",
       "      <td>NaN</td>\n",
       "      <td>NaN</td>\n",
       "      <td>NaN</td>\n",
       "      <td>NaN</td>\n",
       "      <td>NaN</td>\n",
       "      <td>NaN</td>\n",
       "      <td>NaN</td>\n",
       "      <td>NaN</td>\n",
       "      <td>NaN</td>\n",
       "      <td>NaN</td>\n",
       "      <td>NaN</td>\n",
       "      <td>NaN</td>\n",
       "      <td>NaN</td>\n",
       "      <td>NaN</td>\n",
       "      <td>NaN</td>\n",
       "      <td>NaN</td>\n",
       "      <td>NaN</td>\n",
       "      <td>NaN</td>\n",
       "      <td>NaN</td>\n",
       "      <td>NaN</td>\n",
       "      <td>NaN</td>\n",
       "      <td>NaN</td>\n",
       "      <td>NaN</td>\n",
       "      <td>NaN</td>\n",
       "      <td>NaN</td>\n",
       "      <td>NaN</td>\n",
       "      <td>NaN</td>\n",
       "    </tr>\n",
       "    <tr>\n",
       "      <th>3</th>\n",
       "      <td>A. Morin</td>\n",
       "      <td>Akata</td>\n",
       "      <td>1680</td>\n",
       "      <td>2015</td>\n",
       "      <td>70.0</td>\n",
       "      <td>France</td>\n",
       "      <td>3.50</td>\n",
       "      <td>NaN</td>\n",
       "      <td>4</td>\n",
       "      <td>NaN</td>\n",
       "      <td>NaN</td>\n",
       "      <td>NaN</td>\n",
       "      <td>NaN</td>\n",
       "      <td>0.0</td>\n",
       "      <td>0</td>\n",
       "      <td>1</td>\n",
       "      <td>NaN</td>\n",
       "      <td>NaN</td>\n",
       "      <td>NaN</td>\n",
       "      <td>NaN</td>\n",
       "      <td>NaN</td>\n",
       "      <td>NaN</td>\n",
       "      <td>NaN</td>\n",
       "      <td>NaN</td>\n",
       "      <td>NaN</td>\n",
       "      <td>NaN</td>\n",
       "      <td>NaN</td>\n",
       "      <td>NaN</td>\n",
       "      <td>NaN</td>\n",
       "      <td>NaN</td>\n",
       "      <td>NaN</td>\n",
       "      <td>NaN</td>\n",
       "      <td>NaN</td>\n",
       "      <td>NaN</td>\n",
       "      <td>NaN</td>\n",
       "      <td>NaN</td>\n",
       "      <td>NaN</td>\n",
       "      <td>NaN</td>\n",
       "      <td>NaN</td>\n",
       "      <td>NaN</td>\n",
       "      <td>NaN</td>\n",
       "      <td>NaN</td>\n",
       "      <td>NaN</td>\n",
       "      <td>NaN</td>\n",
       "      <td>NaN</td>\n",
       "      <td>NaN</td>\n",
       "      <td>NaN</td>\n",
       "      <td>NaN</td>\n",
       "      <td>NaN</td>\n",
       "      <td>NaN</td>\n",
       "      <td>NaN</td>\n",
       "      <td>NaN</td>\n",
       "      <td>NaN</td>\n",
       "      <td>NaN</td>\n",
       "      <td>NaN</td>\n",
       "      <td>NaN</td>\n",
       "      <td>NaN</td>\n",
       "      <td>NaN</td>\n",
       "      <td>NaN</td>\n",
       "    </tr>\n",
       "    <tr>\n",
       "      <th>4</th>\n",
       "      <td>A. Morin</td>\n",
       "      <td>Quilla</td>\n",
       "      <td>1704</td>\n",
       "      <td>2015</td>\n",
       "      <td>70.0</td>\n",
       "      <td>France</td>\n",
       "      <td>3.50</td>\n",
       "      <td>NaN</td>\n",
       "      <td>4</td>\n",
       "      <td>NaN</td>\n",
       "      <td>NaN</td>\n",
       "      <td>NaN</td>\n",
       "      <td>NaN</td>\n",
       "      <td>0.0</td>\n",
       "      <td>0</td>\n",
       "      <td>1</td>\n",
       "      <td>NaN</td>\n",
       "      <td>NaN</td>\n",
       "      <td>NaN</td>\n",
       "      <td>NaN</td>\n",
       "      <td>NaN</td>\n",
       "      <td>NaN</td>\n",
       "      <td>NaN</td>\n",
       "      <td>NaN</td>\n",
       "      <td>NaN</td>\n",
       "      <td>NaN</td>\n",
       "      <td>NaN</td>\n",
       "      <td>NaN</td>\n",
       "      <td>NaN</td>\n",
       "      <td>NaN</td>\n",
       "      <td>NaN</td>\n",
       "      <td>NaN</td>\n",
       "      <td>NaN</td>\n",
       "      <td>NaN</td>\n",
       "      <td>NaN</td>\n",
       "      <td>NaN</td>\n",
       "      <td>NaN</td>\n",
       "      <td>NaN</td>\n",
       "      <td>NaN</td>\n",
       "      <td>NaN</td>\n",
       "      <td>NaN</td>\n",
       "      <td>NaN</td>\n",
       "      <td>NaN</td>\n",
       "      <td>NaN</td>\n",
       "      <td>NaN</td>\n",
       "      <td>NaN</td>\n",
       "      <td>NaN</td>\n",
       "      <td>NaN</td>\n",
       "      <td>NaN</td>\n",
       "      <td>NaN</td>\n",
       "      <td>NaN</td>\n",
       "      <td>NaN</td>\n",
       "      <td>NaN</td>\n",
       "      <td>NaN</td>\n",
       "      <td>NaN</td>\n",
       "      <td>NaN</td>\n",
       "      <td>NaN</td>\n",
       "      <td>NaN</td>\n",
       "      <td>NaN</td>\n",
       "    </tr>\n",
       "  </tbody>\n",
       "</table>\n",
       "</div>"
      ],
      "text/plain": [
       "    company   bar_origin    ...     sou_americ  sri_lank\n",
       "0  A. Morin  Agua Grande    ...            NaN       NaN\n",
       "1  A. Morin        Kpime    ...            NaN       NaN\n",
       "2  A. Morin       Atsane    ...            NaN       NaN\n",
       "3  A. Morin        Akata    ...            NaN       NaN\n",
       "4  A. Morin       Quilla    ...            NaN       NaN\n",
       "\n",
       "[5 rows x 59 columns]"
      ]
     },
     "execution_count": 53,
     "metadata": {},
     "output_type": "execute_result"
    }
   ],
   "source": [
    "prepared_data.head()"
   ]
  },
  {
   "cell_type": "code",
   "execution_count": 54,
   "metadata": {
    "_uuid": "bdeb552c6fb40500722696974d2cc4c66892be27"
   },
   "outputs": [],
   "source": [
    "prepared_data[\"company\"] = prepared_data[\"company\"].astype(\"category\")\n",
    "prepared_data[\"bar_origin\"] = prepared_data[\"bar_origin\"].astype(\"category\")\n",
    "prepared_data[\"company_location\"] = prepared_data[\"company_location\"].astype(\"category\")\n",
    "prepared_data[\"bean_type\"] = prepared_data[\"bean_type\"].astype(\"category\")\n",
    "prepared_data[\"review_update_value\"] = prepared_data[\"review_pub_date\"].astype(\"category\")"
   ]
  },
  {
   "cell_type": "markdown",
   "metadata": {
    "_uuid": "38e88d4384966388ad5cdbe3a8d264aabe964c1c"
   },
   "source": [
    "Ok, to get started, let's drop all missing values. I like to use some other models later that are able to fill in missing values... but at the moment just drop them ;-) ..."
   ]
  },
  {
   "cell_type": "code",
   "execution_count": 55,
   "metadata": {
    "_uuid": "24864cbaa78eeb66994942a35940959a4cf6a804"
   },
   "outputs": [],
   "source": [
    "prepared_data.dropna(inplace=True)\n",
    "\n",
    "to_drop = [\"rating\", \"new_rating\"]\n",
    "X = prepared_data.drop(to_drop, axis=1).copy()\n",
    "y = prepared_data.rating"
   ]
  },
  {
   "cell_type": "code",
   "execution_count": 56,
   "metadata": {
    "_uuid": "89b6010b5de49447c7c5742d65497db6db95c819"
   },
   "outputs": [
    {
     "name": "stdout",
     "output_type": "stream",
     "text": [
      "5\n"
     ]
    }
   ],
   "source": [
    "cat_idx = []\n",
    "for n in range(0, len(X.columns.values)):\n",
    "    col = X.columns.values[n]\n",
    "    col_type = X[col].dtype\n",
    "    if col_type.name == \"category\":\n",
    "        cat_idx.append(n)\n",
    "print(len(cat_idx))"
   ]
  },
  {
   "cell_type": "code",
   "execution_count": 57,
   "metadata": {
    "_uuid": "f2f45260dc5755199ad80ae8ff782402b6e5293e"
   },
   "outputs": [],
   "source": [
    "x_train, x_test, y_train, y_test = train_test_split(X, y, shuffle=True, random_state=0)"
   ]
  },
  {
   "cell_type": "code",
   "execution_count": 58,
   "metadata": {
    "_uuid": "9c2e926bfe19e3b38564a9a376688a2b1800023e"
   },
   "outputs": [],
   "source": [
    "train_pool = Pool(x_train.values, y_train.values, cat_features=cat_idx)\n",
    "test_pool = Pool(x_test.values, y_test.values, cat_features=cat_idx)"
   ]
  },
  {
   "cell_type": "code",
   "execution_count": 59,
   "metadata": {
    "_uuid": "aa8076b0009345d71578bf6f08864c6e92072bc6"
   },
   "outputs": [],
   "source": [
    "model = CatBoostRegressor(iterations=50, \n",
    "                           depth=3, \n",
    "                           learning_rate=1, \n",
    "                           loss_function='RMSE', \n",
    "                           logging_level='Verbose')"
   ]
  },
  {
   "cell_type": "code",
   "execution_count": 60,
   "metadata": {
    "_uuid": "44484113bb86e9cfaf8cf51cdd471fd29844e77d"
   },
   "outputs": [
    {
     "name": "stdout",
     "output_type": "stream",
     "text": [
      "0:\tlearn: 0.4863206\ttotal: 54.3ms\tremaining: 2.66s\n",
      "1:\tlearn: 0.4794149\ttotal: 57.3ms\tremaining: 1.38s\n",
      "2:\tlearn: 0.4703812\ttotal: 60.2ms\tremaining: 943ms\n",
      "3:\tlearn: 0.4508356\ttotal: 64.1ms\tremaining: 737ms\n",
      "4:\tlearn: 0.4503500\ttotal: 66.9ms\tremaining: 602ms\n",
      "5:\tlearn: 0.4499195\ttotal: 70.5ms\tremaining: 517ms\n",
      "6:\tlearn: 0.4420148\ttotal: 73.2ms\tremaining: 450ms\n",
      "7:\tlearn: 0.4360463\ttotal: 75.6ms\tremaining: 397ms\n",
      "8:\tlearn: 0.4346046\ttotal: 78.1ms\tremaining: 356ms\n",
      "9:\tlearn: 0.4200674\ttotal: 81.1ms\tremaining: 324ms\n",
      "10:\tlearn: 0.4180782\ttotal: 83.2ms\tremaining: 295ms\n",
      "11:\tlearn: 0.4147472\ttotal: 85.5ms\tremaining: 271ms\n",
      "12:\tlearn: 0.4137619\ttotal: 87.4ms\tremaining: 249ms\n",
      "13:\tlearn: 0.4130796\ttotal: 89.5ms\tremaining: 230ms\n",
      "14:\tlearn: 0.4114418\ttotal: 91.6ms\tremaining: 214ms\n",
      "15:\tlearn: 0.4105122\ttotal: 93.7ms\tremaining: 199ms\n",
      "16:\tlearn: 0.4082990\ttotal: 95.8ms\tremaining: 186ms\n",
      "17:\tlearn: 0.4074717\ttotal: 98ms\tremaining: 174ms\n",
      "18:\tlearn: 0.4061420\ttotal: 100ms\tremaining: 164ms\n",
      "19:\tlearn: 0.4058862\ttotal: 102ms\tremaining: 153ms\n",
      "20:\tlearn: 0.4035327\ttotal: 104ms\tremaining: 144ms\n",
      "21:\tlearn: 0.4013858\ttotal: 107ms\tremaining: 136ms\n",
      "22:\tlearn: 0.4004655\ttotal: 109ms\tremaining: 128ms\n",
      "23:\tlearn: 0.3991978\ttotal: 112ms\tremaining: 121ms\n",
      "24:\tlearn: 0.3972090\ttotal: 114ms\tremaining: 114ms\n",
      "25:\tlearn: 0.3969049\ttotal: 117ms\tremaining: 108ms\n",
      "26:\tlearn: 0.3966295\ttotal: 119ms\tremaining: 101ms\n",
      "27:\tlearn: 0.3953641\ttotal: 121ms\tremaining: 95ms\n",
      "28:\tlearn: 0.3941979\ttotal: 123ms\tremaining: 89.1ms\n",
      "29:\tlearn: 0.3931845\ttotal: 127ms\tremaining: 84.5ms\n",
      "30:\tlearn: 0.3918047\ttotal: 129ms\tremaining: 79.1ms\n",
      "31:\tlearn: 0.3916821\ttotal: 131ms\tremaining: 73.8ms\n",
      "32:\tlearn: 0.3904215\ttotal: 134ms\tremaining: 68.9ms\n",
      "33:\tlearn: 0.3881398\ttotal: 136ms\tremaining: 64ms\n",
      "34:\tlearn: 0.3858117\ttotal: 138ms\tremaining: 59.2ms\n",
      "35:\tlearn: 0.3856320\ttotal: 140ms\tremaining: 54.5ms\n",
      "36:\tlearn: 0.3854000\ttotal: 142ms\tremaining: 50.1ms\n",
      "37:\tlearn: 0.3824986\ttotal: 144ms\tremaining: 45.6ms\n",
      "38:\tlearn: 0.3820694\ttotal: 147ms\tremaining: 41.4ms\n",
      "39:\tlearn: 0.3798850\ttotal: 149ms\tremaining: 37.2ms\n",
      "40:\tlearn: 0.3796788\ttotal: 151ms\tremaining: 33.1ms\n",
      "41:\tlearn: 0.3784825\ttotal: 153ms\tremaining: 29.1ms\n",
      "42:\tlearn: 0.3781170\ttotal: 155ms\tremaining: 25.3ms\n",
      "43:\tlearn: 0.3768719\ttotal: 157ms\tremaining: 21.5ms\n",
      "44:\tlearn: 0.3767017\ttotal: 160ms\tremaining: 17.7ms\n",
      "45:\tlearn: 0.3765473\ttotal: 162ms\tremaining: 14.1ms\n",
      "46:\tlearn: 0.3752794\ttotal: 164ms\tremaining: 10.5ms\n",
      "47:\tlearn: 0.3745473\ttotal: 166ms\tremaining: 6.92ms\n",
      "48:\tlearn: 0.3742860\ttotal: 168ms\tremaining: 3.43ms\n",
      "49:\tlearn: 0.3741644\ttotal: 171ms\tremaining: 0us\n"
     ]
    },
    {
     "data": {
      "text/plain": [
       "<catboost.core.CatBoostRegressor at 0x7f5c6a20cb38>"
      ]
     },
     "execution_count": 60,
     "metadata": {},
     "output_type": "execute_result"
    }
   ],
   "source": [
    "model.fit(train_pool)"
   ]
  },
  {
   "cell_type": "code",
   "execution_count": 61,
   "metadata": {
    "_uuid": "f7ad2ab0ea93671942e0a4f388e2f52515fe5bab"
   },
   "outputs": [
    {
     "name": "stdout",
     "output_type": "stream",
     "text": [
      "[3.19452879 3.44565698 2.75228859 3.20958821 3.0181572  3.3822438\n",
      " 3.06083978 3.14939382 3.97516883 3.24149809]\n"
     ]
    }
   ],
   "source": [
    "# make the prediction using the resulting model\n",
    "preds = model.predict(test_pool)\n",
    "print(preds[0:10])"
   ]
  },
  {
   "cell_type": "code",
   "execution_count": 62,
   "metadata": {
    "_uuid": "3e36df4d1fcf0ae7064a94f5baab8223a5406153"
   },
   "outputs": [
    {
     "data": {
      "text/plain": [
       "33      2.75\n",
       "1337    3.00\n",
       "134     3.00\n",
       "405     3.75\n",
       "1011    3.50\n",
       "970     3.50\n",
       "419     2.50\n",
       "1426    2.75\n",
       "1310    3.00\n",
       "1070    3.75\n",
       "Name: rating, dtype: float64"
      ]
     },
     "execution_count": 62,
     "metadata": {},
     "output_type": "execute_result"
    }
   ],
   "source": [
    "y_test[0:10]"
   ]
  },
  {
   "cell_type": "code",
   "execution_count": 63,
   "metadata": {
    "_uuid": "c0adec4025837eb029595f92805cbb8695fe4723"
   },
   "outputs": [
    {
     "data": {
      "image/png": "[encoded data removed]",
      "text/plain": [
       "<Figure size 1440x360 with 1 Axes>"
      ]
     },
     "metadata": {},
     "output_type": "display_data"
    }
   ],
   "source": [
    "importances = model.get_feature_importance()\n",
    "best_idx = np.argsort(importances)[::-1][:10]\n",
    "\n",
    "plt.figure(figsize=(20,5))\n",
    "sns.barplot(x=X.columns.values[best_idx], y=np.array(importances)[best_idx], palette=\"Reds_r\")\n",
    "plt.xticks(rotation=90);"
   ]
  },
  {
   "cell_type": "code",
   "execution_count": 64,
   "metadata": {
    "_uuid": "3bd79860800f91525e32f093e6d34dc201bdaf83"
   },
   "outputs": [],
   "source": []
  }
 ],
 "metadata": {
  "kernelspec": {
   "display_name": "Python 3",
   "language": "python",
   "name": "python3"
  },
  "language_info": {
   "codemirror_mode": {
    "name": "ipython",
    "version": 3
   },
   "file_extension": ".py",
   "mimetype": "text/x-python",
   "name": "python",
   "nbconvert_exporter": "python",
   "pygments_lexer": "ipython3",
   "version": "3.6.6"
  }
 },
 "nbformat": 4,
 "nbformat_minor": 1
}
