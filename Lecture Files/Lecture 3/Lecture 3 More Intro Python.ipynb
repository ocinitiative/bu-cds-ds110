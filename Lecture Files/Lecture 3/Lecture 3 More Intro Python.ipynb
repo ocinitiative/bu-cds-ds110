{
 "cells": [
  {
   "cell_type": "markdown",
   "metadata": {
    "slideshow": {
     "slide_type": "slide"
    }
   },
   "source": [
    "# More Introductory Python"
   ]
  },
  {
   "cell_type": "markdown",
   "metadata": {
    "id": "GFDw201P2q-l",
    "slideshow": {
     "slide_type": "slide"
    }
   },
   "source": [
    "# Variables and assignment\n",
    "\n",
    "Programs would be unreadable if they all consisted of gigantic expressions.  A common way to logically break things up is to assign an expression's value to a variable.\n"
   ]
  },
  {
   "cell_type": "markdown",
   "metadata": {
    "slideshow": {
     "slide_type": "slide"
    }
   },
   "source": [
    "In Python, we can write a line of code (\"statement\") that follows the format\n",
    "\n",
    "variablename = [expression]\n",
    "\n",
    "The expression's value will be stored in a variable with the name that we chose.  That variable now evaluates to the stored value."
   ]
  },
  {
   "cell_type": "code",
   "execution_count": null,
   "metadata": {
    "id": "YQfDYKuX3WR1",
    "slideshow": {
     "slide_type": "subslide"
    }
   },
   "outputs": [],
   "source": [
    "a = 2 + 2\n",
    "print(a + 2)"
   ]
  },
  {
   "cell_type": "code",
   "execution_count": null,
   "metadata": {
    "id": "9aMGDYP83ftb",
    "slideshow": {
     "slide_type": "-"
    }
   },
   "outputs": [],
   "source": [
    "a = 2 + 2\n",
    "b = 7 * 2\n",
    "print(a+b)"
   ]
  },
  {
   "cell_type": "markdown",
   "metadata": {
    "id": "WzEa7F1i3pz0",
    "slideshow": {
     "slide_type": "slide"
    }
   },
   "source": [
    "While other languages require you to \"declare\" a variable and its type before using the variable, Python tries to interpret the type of the variable from context (\"dynamically\") - and in fact, the same variable could switch types, although you shouldn't do a confusing thing like this intentionally."
   ]
  },
  {
   "cell_type": "code",
   "execution_count": null,
   "metadata": {
    "id": "doSSn5ax3oC-",
    "slideshow": {
     "slide_type": "-"
    }
   },
   "outputs": [],
   "source": [
    "a = 3\n",
    "a = \"sky\"\n",
    "print(a)"
   ]
  },
  {
   "cell_type": "markdown",
   "metadata": {
    "id": "-HDLrRZB4Pm0",
    "slideshow": {
     "slide_type": "slide"
    }
   },
   "source": [
    "Variable names (\"identifiers\") are best when they're both short and descriptive.  We avoid single-letter variable names unless a single-letter name makes the variable's purpose clear.  If you use multiple words for a variable name, separate them with an underscore _ as a matter of convention.  They can't start with digits."
   ]
  },
  {
   "cell_type": "code",
   "execution_count": null,
   "metadata": {
    "id": "ooxOzNCO4exA",
    "slideshow": {
     "slide_type": "-"
    }
   },
   "outputs": [],
   "source": [
    "dollars_per_hour = 50\n",
    "hours_worked = 40\n",
    "total_dollars = dollars_per_hour * hours_worked\n",
    "total_dollars"
   ]
  },
  {
   "cell_type": "markdown",
   "metadata": {
    "id": "cwFqY7L44-Xd",
    "slideshow": {
     "slide_type": "-"
    }
   },
   "source": [
    "Note that assignment doesn't evaluate to anything - hence the need for the extra total_dollars line above.\n"
   ]
  },
  {
   "cell_type": "markdown",
   "metadata": {
    "slideshow": {
     "slide_type": "slide"
    }
   },
   "source": [
    "You need to avoid existing keywords and function names when naming variables,\n",
    "or the Python interpreter may get confused.  A common way to do this is to\n",
    "add \"my_\" to the variable name."
   ]
  },
  {
   "cell_type": "code",
   "execution_count": null,
   "metadata": {
    "id": "gac2WmOd2eLV",
    "slideshow": {
     "slide_type": "-"
    }
   },
   "outputs": [],
   "source": [
    "my_len = len(\"foo\")"
   ]
  },
  {
   "cell_type": "markdown",
   "metadata": {
    "slideshow": {
     "slide_type": "slide"
    }
   },
   "source": [
    "## A brief note on types\n",
    "\n",
    "Bugs can crop up in code when the program expects one data type and another is delivered.  (You can't take the square root of a string, for example.)  If you're dealing with variables, it can be easy to mistakenly assign one type to a variable, but then later write code that expects a different type.\n"
   ]
  },
  {
   "cell_type": "markdown",
   "metadata": {
    "slideshow": {
     "slide_type": "slide"
    }
   },
   "source": [
    "The four \"primitive\" types in Python are integer (int), floating point number (float), string (str), and boolean (bool).  (A float is a number with a decimal point, and is represented differently from integers in memory; a boolean is True or False.)  It's good to be aware of these abbreviations when debugging.\n",
    "\n",
    "Other non-primitive types are possible with objects and data structures, discussed later, which combine the primitive types into bigger structures."
   ]
  },
  {
   "cell_type": "markdown",
   "metadata": {
    "slideshow": {
     "slide_type": "slide"
    }
   },
   "source": [
    "It may sometimes help in debugging to inspect the type of a variable; the type() function does this."
   ]
  },
  {
   "cell_type": "code",
   "execution_count": null,
   "metadata": {
    "slideshow": {
     "slide_type": "-"
    }
   },
   "outputs": [],
   "source": [
    "a = 2.3\n",
    "type(a)"
   ]
  },
  {
   "cell_type": "markdown",
   "metadata": {
    "id": "6prMss7K6YfJ",
    "slideshow": {
     "slide_type": "slide"
    }
   },
   "source": [
    "# Branching execution"
   ]
  },
  {
   "cell_type": "markdown",
   "metadata": {
    "id": "hbaKlkOA6e7W",
    "slideshow": {
     "slide_type": "subslide"
    }
   },
   "source": [
    "Branching refers to a situtation where if a condition holds, one thing will happen, and if not, a different thing will happen.  Branching is mostly handled by \"if\" statements.  Their basic structure is\n",
    "\n",
    "```\n",
    "if condition:\n",
    "  code line 1\n",
    "  code line 2\n",
    "  ...\n",
    "  code line n\n",
    "else:\n",
    "  code line 1'\n",
    "  code line 2'\n",
    "  ...\n",
    "  code line n'\n",
    "\n",
    "```\n"
   ]
  },
  {
   "cell_type": "markdown",
   "metadata": {
    "slideshow": {
     "slide_type": "subslide"
    }
   },
   "source": [
    "The condition is an expression that evaluates to a Boolean, like \"a < 5\" to check whether variable *a* has a value less than 5.  The colon at the end of the if is mandatory to signal that what follows is the stuff to execute if the condition is true.  Then, the optional else with its colon signals that the block to follow is what to do if the condition evaluated to false."
   ]
  },
  {
   "cell_type": "code",
   "execution_count": null,
   "metadata": {
    "id": "9rtp7SUb8TAg",
    "slideshow": {
     "slide_type": "-"
    }
   },
   "outputs": [],
   "source": [
    "a = \"\"; # Delete to see other path\n",
    "if len(a) > 0:\n",
    "    print(\"String isn't empty: \" + a)\n",
    "else:\n",
    "    print(\"String is empty\")\n"
   ]
  },
  {
   "cell_type": "markdown",
   "metadata": {
    "id": "qgm_1h0E9bw0",
    "slideshow": {
     "slide_type": "slide"
    }
   },
   "source": [
    "This is the first time we've seen indentation mattering in Python.  In Python, indentation determines what code belongs together, like all the statements immediately under the \"if.\"    "
   ]
  },
  {
   "cell_type": "markdown",
   "metadata": {
    "slideshow": {
     "slide_type": "fragment"
    }
   },
   "source": [
    "Python is actually somewhat unique, in that other languages define what is in a code block using symbols like curly braces.  Python takes a style rule that is usually followed in other languages - indent code in the same functional block to the same level - and turns it into a rule, doing away with the need for extra curly braces around the two code paths."
   ]
  },
  {
   "cell_type": "markdown",
   "metadata": {
    "id": "15rMBkWn-dzd",
    "slideshow": {
     "slide_type": "slide"
    }
   },
   "source": [
    "One variation on the if/else branching is that the \"else\" isn't strictly necessary.  You could just have some code that only happens if the condition is true, and if the condition isn't true, execution just keeps going."
   ]
  },
  {
   "cell_type": "code",
   "execution_count": null,
   "metadata": {
    "id": "qqd5ZUks9a1t",
    "slideshow": {
     "slide_type": "-"
    }
   },
   "outputs": [],
   "source": [
    "a = 100     # Changing this makes the next branch not execute\n",
    "if a == 100:\n",
    "  print(\"100 is my favorite number!\")\n",
    "print(a)"
   ]
  },
  {
   "cell_type": "markdown",
   "metadata": {
    "id": "55nWAx1e_NZo",
    "slideshow": {
     "slide_type": "slide"
    }
   },
   "source": [
    "It's possible you need a branch to go multiple ways, not just a two-option this or that.  In that case, you can handle multiple branches with \"if\" for the first option, \"elif\" for the second through second-to-last options, and \"else\" to handle everything else."
   ]
  },
  {
   "cell_type": "code",
   "execution_count": null,
   "metadata": {
    "id": "HrD05ZpQ_mFZ",
    "slideshow": {
     "slide_type": "-"
    }
   },
   "outputs": [],
   "source": [
    "a = 100\n",
    "if a == 100:\n",
    "  print(\"100 is my favorite number!\")\n",
    "elif a == 50:\n",
    "  print(\"50 is my friend Bob's favorite number!\")\n",
    "elif a == 25:\n",
    "  print(\"25 is probably somebody's favorite number!\")\n",
    "else:\n",
    "  print(\"I can't think of anybody who loves that number, sorry...\")\n",
    "print(\"Moving on...\")"
   ]
  },
  {
   "cell_type": "markdown",
   "metadata": {
    "id": "G98zic2w_k8o",
    "slideshow": {
     "slide_type": "slide"
    }
   },
   "source": [
    "You might occasionally see an expression on the same line as the if condition.  This works, although you'll often need more than one line in the end:\n",
    "\n"
   ]
  },
  {
   "cell_type": "code",
   "execution_count": null,
   "metadata": {
    "id": "ZMuZmsUSBRVI",
    "slideshow": {
     "slide_type": "-"
    }
   },
   "outputs": [],
   "source": [
    "a = 100\n",
    "if a == 100: print(\"100 is my favorite number!\")"
   ]
  },
  {
   "cell_type": "markdown",
   "metadata": {
    "id": "qhl0jHSsewSo",
    "slideshow": {
     "slide_type": "slide"
    }
   },
   "source": [
    "Incidentally, these examples may make it seem that conditionals aren't necessary - we only go down one branch!  But when we start working with arbitrary datasets provided as input, we won't know what's in the data ahead of time, and will need to program code that works regardless of what's in the dataset."
   ]
  },
  {
   "cell_type": "markdown",
   "metadata": {
    "id": "sX6dq78RBsZM",
    "slideshow": {
     "slide_type": "slide"
    }
   },
   "source": [
    "# Exercise:  if statements\n",
    "\n",
    "Assign your name to a variable named 's', then write a conditional that says \"Long!\" if the string is over 12 characters, \"Short!\" if it's 8 or less, and\n",
    "\"Medium\" otherwise."
   ]
  },
  {
   "cell_type": "code",
   "execution_count": null,
   "metadata": {
    "id": "Yu8_wO0OBrgE",
    "slideshow": {
     "slide_type": "subslide"
    }
   },
   "outputs": [],
   "source": [
    "s = 'Kevin Leahy Gold'\n",
    "if len(s) > 12:\n",
    "    print('Long!')\n",
    "elif len(s) <= 8:\n",
    "    print('Short')\n",
    "else:\n",
    "    print('Medium')"
   ]
  },
  {
   "cell_type": "markdown",
   "metadata": {
    "id": "KJ-h6ETdCY6z",
    "slideshow": {
     "slide_type": "slide"
    }
   },
   "source": [
    "# Lists\n",
    "\n",
    "A list is a *data structure*, which is to say, it's a data type that holds data of other types.  A list can be a list of strings, or a list of numbers, or even a list of lists.  It can even hold multiple data types at once, like strings and numbers, although typically every element is of the same type.\n",
    "\n",
    "You can create a list by putting comma-separated values between square brackets, like so:"
   ]
  },
  {
   "cell_type": "code",
   "execution_count": null,
   "metadata": {
    "id": "Zp_5qsgIDabc",
    "slideshow": {
     "slide_type": "-"
    }
   },
   "outputs": [],
   "source": [
    "my_numbers = [1, 2, 3]\n",
    "my_strings = [\"foo\", \"bar\", \"baz\"]"
   ]
  },
  {
   "cell_type": "markdown",
   "metadata": {
    "id": "8aJPBYM5DvPp",
    "slideshow": {
     "slide_type": "subslide"
    }
   },
   "source": [
    "To retrieve an individual item from the list, give the list name, followed by the index of the item in square brackets.  For historical reasons, the counting starts from 0."
   ]
  },
  {
   "cell_type": "code",
   "execution_count": null,
   "metadata": {
    "id": "Uz2xtymjEANn",
    "slideshow": {
     "slide_type": "-"
    }
   },
   "outputs": [],
   "source": [
    "my_numbers = [1, 2, 3]\n",
    "my_strings = [\"foo\", \"bar\", \"baz\"]\n",
    "print(my_numbers[0])\n",
    "print(my_numbers[1])\n",
    "print(my_numbers[2])"
   ]
  },
  {
   "cell_type": "markdown",
   "metadata": {
    "id": "CyNOL68mEK0X",
    "slideshow": {
     "slide_type": "slide"
    }
   },
   "source": [
    "You can also assign values to a list using this \"array notation.\"  (Arrays are a similar data structure but historically used this notation first.)"
   ]
  },
  {
   "cell_type": "code",
   "execution_count": null,
   "metadata": {
    "id": "gvAFfU-DEX7U",
    "slideshow": {
     "slide_type": "-"
    }
   },
   "outputs": [],
   "source": [
    "my_numbers[0] = 100\n",
    "print(my_numbers)"
   ]
  },
  {
   "cell_type": "markdown",
   "metadata": {
    "id": "Aqtmspt7_nae",
    "slideshow": {
     "slide_type": "slide"
    }
   },
   "source": [
    "If you need to get to an item inside a list that itself is a list - a list-of-lists - you can index and then index again, like so:"
   ]
  },
  {
   "cell_type": "code",
   "execution_count": null,
   "metadata": {
    "id": "PTgPQ10E_7fm",
    "slideshow": {
     "slide_type": "-"
    }
   },
   "outputs": [],
   "source": [
    "my_list_of_lists = [[3,2,1], [1,5]]\n",
    "print(my_list_of_lists[0][1]) # 1st element of 0th list\n",
    "print(my_list_of_lists[0])"
   ]
  },
  {
   "cell_type": "markdown",
   "metadata": {
    "id": "1JJH43Y-Efmm",
    "slideshow": {
     "slide_type": "slide"
    }
   },
   "source": [
    "There are other data structures that we'll cover besides the list, but Python's list implementation makes it very flexible as an all-purpose container of data.  You can look at the list documentation at https://docs.python.org/3/tutorial/datastructures.html to see the many built-in functions (\"methods\") that lists have."
   ]
  },
  {
   "cell_type": "code",
   "execution_count": null,
   "metadata": {
    "id": "wuOnwp7hGvcv",
    "slideshow": {
     "slide_type": "subslide"
    }
   },
   "outputs": [],
   "source": [
    "my_numbers.append(5) # Append:  add to end\n",
    "print(my_numbers)\n",
    "my_numbers.insert(1, 200) # First argument is the list position\n",
    "print(my_numbers)\n",
    "print(my_numbers.index(200)) # Find the earliest occurrence of 200\n",
    "my_copy = my_numbers.copy()"
   ]
  },
  {
   "cell_type": "markdown",
   "metadata": {
    "slideshow": {
     "slide_type": "fragment"
    }
   },
   "source": [
    "Note that running the cell above again will produce different results, because the list is modified by the cell.  Further runs will append more 5's and insert more 200's."
   ]
  },
  {
   "cell_type": "markdown",
   "metadata": {
    "id": "ISlkuT2SA5xM",
    "slideshow": {
     "slide_type": "slide"
    }
   },
   "source": [
    "A simple way to concatenate (stick together) two lists is to use the + operator, similar to how strings treat the operator."
   ]
  },
  {
   "cell_type": "code",
   "execution_count": 49,
   "metadata": {
    "id": "B-ain6sWBF6q",
    "slideshow": {
     "slide_type": "-"
    }
   },
   "outputs": [
    {
     "name": "stdout",
     "output_type": "stream",
     "text": [
      "['a', 'b', 'c', 'd', 'e']\n"
     ]
    }
   ],
   "source": [
    "list1 = ['a', 'b', 'c']\n",
    "list2 = ['d', 'e']\n",
    "print(list1 + list2)"
   ]
  },
  {
   "cell_type": "markdown",
   "metadata": {
    "id": "EOWa1uFHHhoR",
    "slideshow": {
     "slide_type": "slide"
    }
   },
   "source": [
    "Note that assignment doesn't work the way you expect if you try to assign a list to another variable.  The data doesn't get copied, but the new variable is just told *where the list data is*, so now modifications to the pseudo-copy now change the original data.  Assignment using copy() avoids this problem."
   ]
  },
  {
   "cell_type": "code",
   "execution_count": 50,
   "metadata": {
    "id": "0kYKct4TH7_j",
    "slideshow": {
     "slide_type": "slide"
    }
   },
   "outputs": [
    {
     "name": "stdout",
     "output_type": "stream",
     "text": [
      "['a', 'b', 'c']\n",
      "['a', 'b', 'c']\n"
     ]
    }
   ],
   "source": [
    "my_stuff = [\"a\", \"b\"]\n",
    "my_stuff2 = my_stuff # Both list variables now point to the same place\n",
    "my_stuff2.append(\"c\") # This therefore affects the same list as the original\n",
    "print(my_stuff)\n",
    "print(my_stuff2)"
   ]
  },
  {
   "cell_type": "code",
   "execution_count": null,
   "metadata": {
    "id": "PJUh5BPZIYyP",
    "slideshow": {
     "slide_type": "fragment"
    }
   },
   "outputs": [],
   "source": [
    "my_stuff3 = my_stuff2.copy()\n",
    "my_stuff3.append(\"d\")\n",
    "print(my_stuff3)\n",
    "print(my_stuff2)"
   ]
  },
  {
   "cell_type": "markdown",
   "metadata": {
    "id": "i9S_NNcSI4Ch",
    "slideshow": {
     "slide_type": "slide"
    }
   },
   "source": [
    "# Tuples"
   ]
  },
  {
   "cell_type": "markdown",
   "metadata": {
    "id": "UQ6QWuKnI644",
    "slideshow": {
     "slide_type": "slide"
    }
   },
   "source": [
    "Lists tend to refer to collections of the same type.  A list could represent a list of names in a class, or a list of movies watched by an individual, or a column in a spreadsheet of data.\n",
    "\n",
    "A tuple, on the other hand, typically represents different facts about a single observed thing.  If we are dealing with Cartesian coordinates, we could have a tuple (x, y) represent a point's coordinates.  If we're dealing with records of cars at a rental place, we could bundle a car name, a car year, the miles per gallon, and the rental price all into a 4-element tuple (with one string and three numbers)."
   ]
  },
  {
   "cell_type": "code",
   "execution_count": 51,
   "metadata": {
    "id": "PP1FkC7XJ48F",
    "slideshow": {
     "slide_type": "-"
    }
   },
   "outputs": [
    {
     "name": "stdout",
     "output_type": "stream",
     "text": [
      "('Honda Fit', 2010, 30, 40)\n"
     ]
    }
   ],
   "source": [
    "my_coords = (10, 20) # Coordinate pair\n",
    "my_car = \"Honda Fit\", 2010, 30, 40 # Will get auto-\"packed\" into tuple (comma-separated values)\n",
    "print(my_car)"
   ]
  },
  {
   "cell_type": "markdown",
   "metadata": {
    "id": "Q5vJBzAFKfR2",
    "slideshow": {
     "slide_type": "slide"
    }
   },
   "source": [
    "The same syntax is used for tuples as for lists when getting individual elements."
   ]
  },
  {
   "cell_type": "code",
   "execution_count": 52,
   "metadata": {
    "id": "nanwq-k9I1ki",
    "slideshow": {
     "slide_type": "-"
    }
   },
   "outputs": [
    {
     "data": {
      "text/plain": [
       "'Honda Fit'"
      ]
     },
     "execution_count": 52,
     "metadata": {},
     "output_type": "execute_result"
    }
   ],
   "source": [
    "my_car[0]"
   ]
  },
  {
   "cell_type": "markdown",
   "metadata": {
    "slideshow": {
     "slide_type": "subslide"
    }
   },
   "source": [
    "In fact, the indexing for lists and tuples can be mixed seamlessly."
   ]
  },
  {
   "cell_type": "code",
   "execution_count": 53,
   "metadata": {},
   "outputs": [
    {
     "data": {
      "text/plain": [
       "1"
      ]
     },
     "execution_count": 53,
     "metadata": {},
     "output_type": "execute_result"
    }
   ],
   "source": [
    "tuples = [(1,2,3),(4,5,6)]\n",
    "tuples[0][0]"
   ]
  },
  {
   "cell_type": "markdown",
   "metadata": {
    "id": "02lFSneGKqLg",
    "slideshow": {
     "slide_type": "slide"
    }
   },
   "source": [
    "A neat trick with tuples is that they allow multiple assignment on the left.  Comma-separated variables can accept the elements of the tuple, so a single tuple has its parts assigned to different variables."
   ]
  },
  {
   "cell_type": "code",
   "execution_count": 54,
   "metadata": {
    "id": "5EzV6SRzKpPj",
    "slideshow": {
     "slide_type": "-"
    }
   },
   "outputs": [
    {
     "name": "stdout",
     "output_type": "stream",
     "text": [
      "30\n"
     ]
    }
   ],
   "source": [
    "car_type, year, mpg, price = my_car\n",
    "print(mpg)"
   ]
  },
  {
   "cell_type": "markdown",
   "metadata": {
    "id": "Ks0TvT4wLaeO",
    "slideshow": {
     "slide_type": "slide"
    }
   },
   "source": [
    "# Exercise \n",
    "\n",
    "Make a (movie, rating) tuple, where movie is a string and rating is a number between 0 and 5, and assign it to a variable.  Then write a conditional that prints 'Great!' if the rating was >= 4, \"Meh\" otherwise."
   ]
  },
  {
   "cell_type": "code",
   "execution_count": null,
   "metadata": {
    "id": "7KJsyaaSCwRV",
    "slideshow": {
     "slide_type": "slide"
    }
   },
   "outputs": [],
   "source": [
    "my_movie = ('Eternals', 2)\n",
    "if my_movie[1] >= 4:\n",
    "    print('Great!')\n",
    "else:\n",
    "    print('Meh')"
   ]
  },
  {
   "cell_type": "code",
   "execution_count": null,
   "metadata": {},
   "outputs": [],
   "source": []
  }
 ],
 "metadata": {
  "celltoolbar": "Slideshow",
  "colab": {
   "collapsed_sections": [],
   "name": "Lecture3MoreIntroPython.ipynb",
   "provenance": []
  },
  "kernelspec": {
   "display_name": "Python 3",
   "language": "python",
   "name": "python3"
  },
  "language_info": {
   "codemirror_mode": {
    "name": "ipython",
    "version": 3
   },
   "file_extension": ".py",
   "mimetype": "text/x-python",
   "name": "python",
   "nbconvert_exporter": "python",
   "pygments_lexer": "ipython3",
   "version": "3.8.8"
  },
  "rise": {
   "scroll": true
  }
 },
 "nbformat": 4,
 "nbformat_minor": 1
}
