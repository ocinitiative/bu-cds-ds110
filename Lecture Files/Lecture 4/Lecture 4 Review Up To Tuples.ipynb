{
  "nbformat": 4,
  "nbformat_minor": 0,
  "metadata": {
    "colab": {
      "provenance": []
    },
    "kernelspec": {
      "name": "python3",
      "display_name": "Python 3"
    },
    "language_info": {
      "name": "python"
    }
  },
  "cells": [
    {
      "cell_type": "markdown",
      "source": [
        "# Review Example:  Date Tuple Validation"
      ],
      "metadata": {
        "id": "fXzKN43CMhzv"
      }
    },
    {
      "cell_type": "code",
      "execution_count": 10,
      "metadata": {
        "colab": {
          "base_uri": "https://localhost:8080/"
        },
        "id": "l9d6WqaMMgig",
        "outputId": "b06d0764-5c2d-4562-8784-8fdf22d85b5f"
      },
      "outputs": [
        {
          "output_type": "stream",
          "name": "stdout",
          "text": [
            "Valid date:  2/29/20\n"
          ]
        }
      ],
      "source": [
        "import math\n",
        "\n",
        "date = (2, 29, 20)  # change me for different output - assume integers\n",
        "month, day, year = date\n",
        "valid = True  # will set to False if something's wrong\n",
        "if month <= 0 or month > 12:\n",
        "  print('Error: month should be an integer between 1 and 12')\n",
        "  valid = False\n",
        "shortmonths = [4, 6, 9, 11] # 30 days hath September...\n",
        "# \\ is line continuation, and \"in\" checks whether an item is in a list\n",
        "if day <= 0 or day > 31 or (day > 29 and month == 2) or \\\n",
        "    (day > 30 and month in shortmonths):\n",
        "  print('Error: invalid day')\n",
        "  valid = False\n",
        "if year < 0 or year >= 100:\n",
        "  print('Invalid year: expected XX format (00 to 99)')\n",
        "  valid = False\n",
        "if math.remainder(year, 4) != 0 and month == 2 and day > 28:\n",
        "  print('Error: not a leap year but February day > 28')\n",
        "  valid = False\n",
        "if valid:\n",
        "  print('Valid date:  ' + str(month) + '/' + str(day) + '/' + str(year))\n"
      ]
    }
  ]
}