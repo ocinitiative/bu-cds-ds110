{
 "cells": [
  {
   "cell_type": "code",
   "execution_count": 1,
   "id": "14892085",
   "metadata": {
    "cell_id": "00000-53fe3949-a17f-46d0-b73c-178c2ac9ccbe",
    "deepnote_cell_type": "code",
    "deepnote_to_be_reexecuted": false,
    "execution": {
     "iopub.execute_input": "2021-08-08T09:17:06.395830Z",
     "iopub.status.busy": "2021-08-08T09:17:06.395224Z",
     "iopub.status.idle": "2021-08-08T09:17:07.644639Z",
     "shell.execute_reply": "2021-08-08T09:17:07.643831Z",
     "shell.execute_reply.started": "2021-08-08T08:39:03.974744Z"
    },
    "execution_millis": 2439,
    "execution_start": 1626680252863,
    "papermill": {
     "duration": 1.29298,
     "end_time": "2021-08-08T09:17:07.644804",
     "exception": false,
     "start_time": "2021-08-08T09:17:06.351824",
     "status": "completed"
    },
    "source_hash": "e36eec5",
    "tags": []
   },
   "outputs": [],
   "source": [
    "import pandas as pd\n",
    "import numpy as np\n",
    "import matplotlib.pyplot as plt\n",
    "import category_encoders as ce\n",
    "from sklearn.preprocessing import StandardScaler,MinMaxScaler\n",
    "from sklearn.model_selection import train_test_split\n",
    "from sklearn.metrics import mean_absolute_error,mean_squared_error,r2_score\n",
    "from tqdm.notebook import tqdm_notebook"
   ]
  },
  {
   "cell_type": "code",
   "execution_count": 2,
   "id": "3a985508",
   "metadata": {
    "cell_id": "00001-fa7359f2-753b-4b4c-ba35-6e13ad84378a",
    "deepnote_cell_type": "code",
    "deepnote_to_be_reexecuted": false,
    "execution": {
     "iopub.execute_input": "2021-08-08T09:17:07.711817Z",
     "iopub.status.busy": "2021-08-08T09:17:07.711198Z",
     "iopub.status.idle": "2021-08-08T09:17:07.733890Z",
     "shell.execute_reply": "2021-08-08T09:17:07.733248Z",
     "shell.execute_reply.started": "2021-08-08T08:39:05.386266Z"
    },
    "execution_millis": 13,
    "execution_start": 1626680255311,
    "papermill": {
     "duration": 0.059686,
     "end_time": "2021-08-08T09:17:07.734023",
     "exception": false,
     "start_time": "2021-08-08T09:17:07.674337",
     "status": "completed"
    },
    "source_hash": "cb54c74a",
    "tags": []
   },
   "outputs": [],
   "source": [
    "df = pd.read_csv(\"../input/chocolate-bar-ratings/flavors_of_cacao.csv\",header=None,names= [\"Company\",\"Specific Bean Originor\",\"REF\",\"Review Date\", \"Cocoa Percent\",\"Company Location\",\"rating\",\"Bean Type\",\"Broad Bean Origin\"])"
   ]
  },
  {
   "cell_type": "code",
   "execution_count": 3,
   "id": "06900c68",
   "metadata": {
    "cell_id": "00002-ccd0255a-103a-48bb-ba5b-85478a80c2e9",
    "deepnote_cell_type": "code",
    "deepnote_to_be_reexecuted": false,
    "execution": {
     "iopub.execute_input": "2021-08-08T09:17:07.805335Z",
     "iopub.status.busy": "2021-08-08T09:17:07.804569Z",
     "iopub.status.idle": "2021-08-08T09:17:07.825947Z",
     "shell.execute_reply": "2021-08-08T09:17:07.826445Z",
     "shell.execute_reply.started": "2021-08-08T08:39:05.419218Z"
    },
    "execution_millis": 13,
    "execution_start": 1626680255392,
    "papermill": {
     "duration": 0.061194,
     "end_time": "2021-08-08T09:17:07.826666",
     "exception": false,
     "start_time": "2021-08-08T09:17:07.765472",
     "status": "completed"
    },
    "source_hash": "c085b6ba",
    "tags": []
   },
   "outputs": [
    {
     "data": {
      "text/html": [
       "<div>\n",
       "<style scoped>\n",
       "    .dataframe tbody tr th:only-of-type {\n",
       "        vertical-align: middle;\n",
       "    }\n",
       "\n",
       "    .dataframe tbody tr th {\n",
       "        vertical-align: top;\n",
       "    }\n",
       "\n",
       "    .dataframe thead th {\n",
       "        text-align: right;\n",
       "    }\n",
       "</style>\n",
       "<table border=\"1\" class=\"dataframe\">\n",
       "  <thead>\n",
       "    <tr style=\"text-align: right;\">\n",
       "      <th></th>\n",
       "      <th>Company</th>\n",
       "      <th>Specific Bean Originor</th>\n",
       "      <th>REF</th>\n",
       "      <th>Review Date</th>\n",
       "      <th>Cocoa Percent</th>\n",
       "      <th>Company Location</th>\n",
       "      <th>rating</th>\n",
       "      <th>Bean Type</th>\n",
       "      <th>Broad Bean Origin</th>\n",
       "    </tr>\n",
       "  </thead>\n",
       "  <tbody>\n",
       "    <tr>\n",
       "      <th>0</th>\n",
       "      <td>Company \\n(Maker-if known)</td>\n",
       "      <td>Specific Bean Origin\\nor Bar Name</td>\n",
       "      <td>REF</td>\n",
       "      <td>Review\\nDate</td>\n",
       "      <td>Cocoa\\nPercent</td>\n",
       "      <td>Company\\nLocation</td>\n",
       "      <td>Rating</td>\n",
       "      <td>Bean\\nType</td>\n",
       "      <td>Broad Bean\\nOrigin</td>\n",
       "    </tr>\n",
       "    <tr>\n",
       "      <th>1</th>\n",
       "      <td>A. Morin</td>\n",
       "      <td>Agua Grande</td>\n",
       "      <td>1876</td>\n",
       "      <td>2016</td>\n",
       "      <td>63%</td>\n",
       "      <td>France</td>\n",
       "      <td>3.75</td>\n",
       "      <td></td>\n",
       "      <td>Sao Tome</td>\n",
       "    </tr>\n",
       "    <tr>\n",
       "      <th>2</th>\n",
       "      <td>A. Morin</td>\n",
       "      <td>Kpime</td>\n",
       "      <td>1676</td>\n",
       "      <td>2015</td>\n",
       "      <td>70%</td>\n",
       "      <td>France</td>\n",
       "      <td>2.75</td>\n",
       "      <td></td>\n",
       "      <td>Togo</td>\n",
       "    </tr>\n",
       "    <tr>\n",
       "      <th>3</th>\n",
       "      <td>A. Morin</td>\n",
       "      <td>Atsane</td>\n",
       "      <td>1676</td>\n",
       "      <td>2015</td>\n",
       "      <td>70%</td>\n",
       "      <td>France</td>\n",
       "      <td>3</td>\n",
       "      <td></td>\n",
       "      <td>Togo</td>\n",
       "    </tr>\n",
       "    <tr>\n",
       "      <th>4</th>\n",
       "      <td>A. Morin</td>\n",
       "      <td>Akata</td>\n",
       "      <td>1680</td>\n",
       "      <td>2015</td>\n",
       "      <td>70%</td>\n",
       "      <td>France</td>\n",
       "      <td>3.5</td>\n",
       "      <td></td>\n",
       "      <td>Togo</td>\n",
       "    </tr>\n",
       "  </tbody>\n",
       "</table>\n",
       "</div>"
      ],
      "text/plain": [
       "                      Company             Specific Bean Originor   REF  \\\n",
       "0  Company \\n(Maker-if known)  Specific Bean Origin\\nor Bar Name   REF   \n",
       "1                    A. Morin                        Agua Grande  1876   \n",
       "2                    A. Morin                              Kpime  1676   \n",
       "3                    A. Morin                             Atsane  1676   \n",
       "4                    A. Morin                              Akata  1680   \n",
       "\n",
       "    Review Date   Cocoa Percent   Company Location  rating   Bean Type  \\\n",
       "0  Review\\nDate  Cocoa\\nPercent  Company\\nLocation  Rating  Bean\\nType   \n",
       "1          2016             63%             France    3.75               \n",
       "2          2015             70%             France    2.75               \n",
       "3          2015             70%             France       3               \n",
       "4          2015             70%             France     3.5               \n",
       "\n",
       "    Broad Bean Origin  \n",
       "0  Broad Bean\\nOrigin  \n",
       "1            Sao Tome  \n",
       "2                Togo  \n",
       "3                Togo  \n",
       "4                Togo  "
      ]
     },
     "execution_count": 3,
     "metadata": {},
     "output_type": "execute_result"
    }
   ],
   "source": [
    "df.head()"
   ]
  },
  {
   "cell_type": "code",
   "execution_count": 4,
   "id": "bdada693",
   "metadata": {
    "cell_id": "00004-6f005990-1e10-4004-aa59-d4fa806b9d14",
    "deepnote_cell_type": "code",
    "deepnote_to_be_reexecuted": false,
    "execution": {
     "iopub.execute_input": "2021-08-08T09:17:07.890135Z",
     "iopub.status.busy": "2021-08-08T09:17:07.889201Z",
     "iopub.status.idle": "2021-08-08T09:17:07.895156Z",
     "shell.execute_reply": "2021-08-08T09:17:07.894648Z",
     "shell.execute_reply.started": "2021-08-08T08:39:05.453894Z"
    },
    "execution_millis": 0,
    "execution_start": 1626680255398,
    "papermill": {
     "duration": 0.038716,
     "end_time": "2021-08-08T09:17:07.895301",
     "exception": false,
     "start_time": "2021-08-08T09:17:07.856585",
     "status": "completed"
    },
    "source_hash": "59985233",
    "tags": []
   },
   "outputs": [],
   "source": [
    "df.drop(df.index[0],axis = 0,inplace=True)"
   ]
  },
  {
   "cell_type": "code",
   "execution_count": 5,
   "id": "5fbafbff",
   "metadata": {
    "cell_id": "00005-d047b73d-dbd5-4c2b-bde0-68be6c51f1c0",
    "deepnote_cell_type": "code",
    "deepnote_to_be_reexecuted": false,
    "execution": {
     "iopub.execute_input": "2021-08-08T09:17:07.964362Z",
     "iopub.status.busy": "2021-08-08T09:17:07.963482Z",
     "iopub.status.idle": "2021-08-08T09:17:07.967515Z",
     "shell.execute_reply": "2021-08-08T09:17:07.967006Z",
     "shell.execute_reply.started": "2021-08-08T08:39:05.461146Z"
    },
    "execution_millis": 0,
    "execution_start": 1626680255442,
    "papermill": {
     "duration": 0.042882,
     "end_time": "2021-08-08T09:17:07.967650",
     "exception": false,
     "start_time": "2021-08-08T09:17:07.924768",
     "status": "completed"
    },
    "source_hash": "f3dd26da",
    "tags": []
   },
   "outputs": [
    {
     "data": {
      "text/plain": [
       "Company                   0\n",
       "Specific Bean Originor    0\n",
       "REF                       0\n",
       "Review Date               0\n",
       "Cocoa Percent             0\n",
       "Company Location          0\n",
       "rating                    0\n",
       "Bean Type                 1\n",
       "Broad Bean Origin         1\n",
       "dtype: int64"
      ]
     },
     "execution_count": 5,
     "metadata": {},
     "output_type": "execute_result"
    }
   ],
   "source": [
    "df.isnull().sum()"
   ]
  },
  {
   "cell_type": "code",
   "execution_count": 6,
   "id": "85ada18d",
   "metadata": {
    "cell_id": "00006-d44abfb8-91b2-47b8-9e81-e370a26d60c7",
    "deepnote_cell_type": "code",
    "deepnote_to_be_reexecuted": false,
    "execution": {
     "iopub.execute_input": "2021-08-08T09:17:08.036047Z",
     "iopub.status.busy": "2021-08-08T09:17:08.035299Z",
     "iopub.status.idle": "2021-08-08T09:17:08.052943Z",
     "shell.execute_reply": "2021-08-08T09:17:08.052324Z",
     "shell.execute_reply.started": "2021-08-08T08:39:05.481765Z"
    },
    "execution_millis": 4,
    "execution_start": 1626680255443,
    "papermill": {
     "duration": 0.055741,
     "end_time": "2021-08-08T09:17:08.053105",
     "exception": false,
     "start_time": "2021-08-08T09:17:07.997364",
     "status": "completed"
    },
    "source_hash": "d4cad025",
    "tags": []
   },
   "outputs": [],
   "source": [
    "df.dropna(inplace = True)"
   ]
  },
  {
   "cell_type": "code",
   "execution_count": 7,
   "id": "3f10e0b7",
   "metadata": {
    "cell_id": "00006-52d6ef6f-aa9d-4620-a3f8-72f299511bff",
    "deepnote_cell_type": "code",
    "deepnote_to_be_reexecuted": false,
    "execution": {
     "iopub.execute_input": "2021-08-08T09:17:08.120155Z",
     "iopub.status.busy": "2021-08-08T09:17:08.119292Z",
     "iopub.status.idle": "2021-08-08T09:17:08.122149Z",
     "shell.execute_reply": "2021-08-08T09:17:08.122587Z",
     "shell.execute_reply.started": "2021-08-08T08:39:05.514548Z"
    },
    "execution_millis": 0,
    "execution_start": 1626680255444,
    "papermill": {
     "duration": 0.039719,
     "end_time": "2021-08-08T09:17:08.122751",
     "exception": false,
     "start_time": "2021-08-08T09:17:08.083032",
     "status": "completed"
    },
    "source_hash": "a94f1a01",
    "tags": []
   },
   "outputs": [],
   "source": [
    "def type_cast(df,column,type):\n",
    "    return df[column].astype(type)"
   ]
  },
  {
   "cell_type": "code",
   "execution_count": 8,
   "id": "0e7e1727",
   "metadata": {
    "cell_id": "00007-35960bab-98c4-41b5-bc8e-4c07653c16ab",
    "deepnote_cell_type": "code",
    "deepnote_to_be_reexecuted": false,
    "execution": {
     "iopub.execute_input": "2021-08-08T09:17:08.188863Z",
     "iopub.status.busy": "2021-08-08T09:17:08.188217Z",
     "iopub.status.idle": "2021-08-08T09:17:08.191299Z",
     "shell.execute_reply": "2021-08-08T09:17:08.190700Z",
     "shell.execute_reply.started": "2021-08-08T08:39:05.524305Z"
    },
    "execution_millis": 2,
    "execution_start": 1626680255445,
    "papermill": {
     "duration": 0.038189,
     "end_time": "2021-08-08T09:17:08.191431",
     "exception": false,
     "start_time": "2021-08-08T09:17:08.153242",
     "status": "completed"
    },
    "source_hash": "d9b54ee9",
    "tags": []
   },
   "outputs": [],
   "source": [
    "def mean_encoding(df,x,y):\n",
    "    mean_encoder=ce.TargetEncoder()\n",
    "    df = mean_encoder.fit_transform(df[x],df[y])\n",
    "    return df"
   ]
  },
  {
   "cell_type": "code",
   "execution_count": 9,
   "id": "e103bb22",
   "metadata": {
    "cell_id": "00007-21a0ab62-0c46-49a1-8d47-8a8efc514629",
    "deepnote_cell_type": "code",
    "deepnote_to_be_reexecuted": false,
    "execution": {
     "iopub.execute_input": "2021-08-08T09:17:08.255915Z",
     "iopub.status.busy": "2021-08-08T09:17:08.255290Z",
     "iopub.status.idle": "2021-08-08T09:17:08.258836Z",
     "shell.execute_reply": "2021-08-08T09:17:08.259355Z",
     "shell.execute_reply.started": "2021-08-08T08:39:05.533140Z"
    },
    "execution_millis": 1,
    "execution_start": 1626680255450,
    "papermill": {
     "duration": 0.037496,
     "end_time": "2021-08-08T09:17:08.259513",
     "exception": false,
     "start_time": "2021-08-08T09:17:08.222017",
     "status": "completed"
    },
    "source_hash": "cd936fd1",
    "tags": []
   },
   "outputs": [],
   "source": [
    "def clean_rating(df):\n",
    "    df[\"rating\"] = type_cast(df,\"rating\",\"float\")"
   ]
  },
  {
   "cell_type": "code",
   "execution_count": 10,
   "id": "646ab8c0",
   "metadata": {
    "cell_id": "00007-59e50d13-0ef4-40f0-9173-0c8d2db11ffe",
    "deepnote_cell_type": "code",
    "deepnote_to_be_reexecuted": false,
    "execution": {
     "iopub.execute_input": "2021-08-08T09:17:08.322711Z",
     "iopub.status.busy": "2021-08-08T09:17:08.322105Z",
     "iopub.status.idle": "2021-08-08T09:17:08.325968Z",
     "shell.execute_reply": "2021-08-08T09:17:08.326510Z",
     "shell.execute_reply.started": "2021-08-08T08:39:05.545965Z"
    },
    "execution_millis": 0,
    "execution_start": 1626680255490,
    "papermill": {
     "duration": 0.037238,
     "end_time": "2021-08-08T09:17:08.326666",
     "exception": false,
     "start_time": "2021-08-08T09:17:08.289428",
     "status": "completed"
    },
    "source_hash": "41841958",
    "tags": []
   },
   "outputs": [],
   "source": [
    "def clean_Specific_Bean_Originor(df):\n",
    "    df_Bean_Originor = mean_encoding(df,\"Specific Bean Originor\",\"rating\")\n",
    "    df['Specific Bean Originor'] = df_Bean_Originor['Specific Bean Originor'].round(3)"
   ]
  },
  {
   "cell_type": "code",
   "execution_count": 11,
   "id": "267300bb",
   "metadata": {
    "cell_id": "00010-7e2a1bb9-ab19-4a17-bd37-b984716997b7",
    "deepnote_cell_type": "code",
    "deepnote_to_be_reexecuted": false,
    "execution": {
     "iopub.execute_input": "2021-08-08T09:17:08.390049Z",
     "iopub.status.busy": "2021-08-08T09:17:08.389443Z",
     "iopub.status.idle": "2021-08-08T09:17:08.393909Z",
     "shell.execute_reply": "2021-08-08T09:17:08.393403Z",
     "shell.execute_reply.started": "2021-08-08T08:39:05.558645Z"
    },
    "execution_millis": 1,
    "execution_start": 1626680255490,
    "papermill": {
     "duration": 0.037245,
     "end_time": "2021-08-08T09:17:08.394046",
     "exception": false,
     "start_time": "2021-08-08T09:17:08.356801",
     "status": "completed"
    },
    "source_hash": "aa80f8e1",
    "tags": []
   },
   "outputs": [],
   "source": [
    "def clean_REF(df):\n",
    "    df[\"REF\"] = type_cast(df,\"REF\",\"int\")"
   ]
  },
  {
   "cell_type": "code",
   "execution_count": 12,
   "id": "8fbd05ad",
   "metadata": {
    "cell_id": "00011-767d0b24-f2ee-495d-af0c-4bfa6b22d462",
    "deepnote_cell_type": "code",
    "deepnote_to_be_reexecuted": false,
    "execution": {
     "iopub.execute_input": "2021-08-08T09:17:08.460368Z",
     "iopub.status.busy": "2021-08-08T09:17:08.459740Z",
     "iopub.status.idle": "2021-08-08T09:17:08.462568Z",
     "shell.execute_reply": "2021-08-08T09:17:08.462115Z",
     "shell.execute_reply.started": "2021-08-08T08:39:05.569900Z"
    },
    "execution_millis": 0,
    "execution_start": 1626680255491,
    "papermill": {
     "duration": 0.03815,
     "end_time": "2021-08-08T09:17:08.462681",
     "exception": false,
     "start_time": "2021-08-08T09:17:08.424531",
     "status": "completed"
    },
    "source_hash": "1a0e5ebd",
    "tags": []
   },
   "outputs": [],
   "source": [
    "def clean_Cocoa_Percent(df):\n",
    "    df['Cocoa Percent'] =df['Cocoa Percent'].map(lambda x: x.replace(\"%\", \"\"))\n",
    "    df['Cocoa Percent'] = type_cast(df,\"Cocoa Percent\",\"float\")"
   ]
  },
  {
   "cell_type": "code",
   "execution_count": 13,
   "id": "ecf51c2c",
   "metadata": {
    "cell_id": "00012-6ac94024-d19c-49e4-a540-781be9be66e2",
    "deepnote_cell_type": "code",
    "deepnote_to_be_reexecuted": false,
    "execution": {
     "iopub.execute_input": "2021-08-08T09:17:08.527929Z",
     "iopub.status.busy": "2021-08-08T09:17:08.527336Z",
     "iopub.status.idle": "2021-08-08T09:17:08.530215Z",
     "shell.execute_reply": "2021-08-08T09:17:08.529722Z",
     "shell.execute_reply.started": "2021-08-08T08:39:05.580338Z"
    },
    "execution_millis": 1,
    "execution_start": 1626680255492,
    "papermill": {
     "duration": 0.037749,
     "end_time": "2021-08-08T09:17:08.530364",
     "exception": false,
     "start_time": "2021-08-08T09:17:08.492615",
     "status": "completed"
    },
    "source_hash": "e1c41003",
    "tags": []
   },
   "outputs": [],
   "source": [
    "def clean_Company_Location(df):\n",
    "    df_Company_Location = mean_encoding(df,\"Company Location\",\"rating\")\n",
    "    df['Company Location'] = df_Company_Location['Company Location'].round(3)"
   ]
  },
  {
   "cell_type": "code",
   "execution_count": 14,
   "id": "d03076ee",
   "metadata": {
    "cell_id": "00013-0241d206-fe15-4a9f-896b-a59e79ee55b8",
    "deepnote_cell_type": "code",
    "deepnote_to_be_reexecuted": false,
    "execution": {
     "iopub.execute_input": "2021-08-08T09:17:08.596942Z",
     "iopub.status.busy": "2021-08-08T09:17:08.596338Z",
     "iopub.status.idle": "2021-08-08T09:17:08.599007Z",
     "shell.execute_reply": "2021-08-08T09:17:08.598500Z",
     "shell.execute_reply.started": "2021-08-08T08:39:05.590960Z"
    },
    "execution_millis": 0,
    "execution_start": 1626680255500,
    "papermill": {
     "duration": 0.038759,
     "end_time": "2021-08-08T09:17:08.599152",
     "exception": false,
     "start_time": "2021-08-08T09:17:08.560393",
     "status": "completed"
    },
    "source_hash": "1a81690e",
    "tags": []
   },
   "outputs": [],
   "source": [
    "def clean_Bean_Type(df):\n",
    "    empty_value = df[\"Bean Type\"].values[0]\n",
    "    def replace_nan(value):\n",
    "        if value == empty_value:\n",
    "            return \"Unknown\"\n",
    "        else:\n",
    "            return value\n",
    "    for col in df.columns:\n",
    "        if df[col].dtype == 'O':\n",
    "            df[col] = df[col].apply(lambda value: replace_nan(value))\n",
    "    df_Bean_Type = mean_encoding(df,\"Bean Type\",\"rating\")\n",
    "    df[\"Bean Type\"] = df_Bean_Type[\"Bean Type\"].round(3)"
   ]
  },
  {
   "cell_type": "code",
   "execution_count": 15,
   "id": "c602da30",
   "metadata": {
    "cell_id": "00014-56a69e5c-3947-496f-a6e9-7d776f6dfc61",
    "deepnote_cell_type": "code",
    "deepnote_to_be_reexecuted": false,
    "execution": {
     "iopub.execute_input": "2021-08-08T09:17:08.664954Z",
     "iopub.status.busy": "2021-08-08T09:17:08.664340Z",
     "iopub.status.idle": "2021-08-08T09:17:08.666151Z",
     "shell.execute_reply": "2021-08-08T09:17:08.666616Z",
     "shell.execute_reply.started": "2021-08-08T08:39:05.602800Z"
    },
    "execution_millis": 1,
    "execution_start": 1626680255531,
    "papermill": {
     "duration": 0.03751,
     "end_time": "2021-08-08T09:17:08.666780",
     "exception": false,
     "start_time": "2021-08-08T09:17:08.629270",
     "status": "completed"
    },
    "source_hash": "2ba94821",
    "tags": []
   },
   "outputs": [],
   "source": [
    "def clean_Broad_Bean_Origin(df):\n",
    "    df_Broad_Bean_Origin = mean_encoding(df,\"Broad Bean Origin\",\"rating\")\n",
    "    df[\"Broad Bean Origin\"] = df_Broad_Bean_Origin[\"Broad Bean Origin\"].round(3)"
   ]
  },
  {
   "cell_type": "code",
   "execution_count": 16,
   "id": "cbb8e393",
   "metadata": {
    "cell_id": "00015-567f127f-cade-4b42-ac56-6ee49bc47aec",
    "deepnote_cell_type": "code",
    "deepnote_to_be_reexecuted": false,
    "execution": {
     "iopub.execute_input": "2021-08-08T09:17:08.739035Z",
     "iopub.status.busy": "2021-08-08T09:17:08.738167Z",
     "iopub.status.idle": "2021-08-08T09:17:08.745623Z",
     "shell.execute_reply": "2021-08-08T09:17:08.744594Z",
     "shell.execute_reply.started": "2021-08-08T08:39:05.616863Z"
    },
    "execution_millis": 0,
    "execution_start": 1626680255532,
    "papermill": {
     "duration": 0.048228,
     "end_time": "2021-08-08T09:17:08.745844",
     "exception": false,
     "start_time": "2021-08-08T09:17:08.697616",
     "status": "completed"
    },
    "source_hash": "bf66a88b",
    "tags": []
   },
   "outputs": [],
   "source": [
    "columns = [\"Company\",\"Review Date\"]\n",
    "def columns_to_drop(df,columns):\n",
    "    df_final = df.drop(columns,axis = 1)\n",
    "    return df_final"
   ]
  },
  {
   "cell_type": "code",
   "execution_count": 1,
   "id": "15e9dcf3",
   "metadata": {
    "cell_id": "00012-a157580c-c0d5-4e60-920d-d167f8d8226d",
    "deepnote_cell_type": "code",
    "deepnote_to_be_reexecuted": false,
    "execution": {
     "iopub.execute_input": "2021-08-08T09:17:08.823873Z",
     "iopub.status.busy": "2021-08-08T09:17:08.823264Z",
     "iopub.status.idle": "2021-08-08T09:17:08.825171Z",
     "shell.execute_reply": "2021-08-08T09:17:08.825634Z",
     "shell.execute_reply.started": "2021-08-08T08:39:05.626671Z"
    },
    "execution_millis": 0,
    "execution_start": 1626680255533,
    "papermill": {
     "duration": 0.043875,
     "end_time": "2021-08-08T09:17:08.825787",
     "exception": false,
     "start_time": "2021-08-08T09:17:08.781912",
     "status": "completed"
    },
    "source_hash": "525a6145",
    "tags": []
   },
   "outputs": [],
   "source": [
    "def preprocess_data(df):\n",
    "    clean_rating(df)\n",
    "    clean_Specific_Bean_Originor(df)\n",
    "    clean_REF(df)\n",
    "    clean_Cocoa_Percent(df)\n",
    "    clean_Company_Location(df)\n",
    "    clean_Bean_Type(df)\n",
    "    clean_Broad_Bean_Origin(df)\n",
    "    df_final = columns_to_drop(df,columns)\n",
    "    return df_final"
   ]
  },
  {
   "cell_type": "code",
   "execution_count": 18,
   "id": "f2352a02",
   "metadata": {
    "cell_id": "00011-1f4180b8-2024-404a-a890-91c80ce04567",
    "deepnote_cell_type": "code",
    "deepnote_to_be_reexecuted": false,
    "execution": {
     "iopub.execute_input": "2021-08-08T09:17:08.889003Z",
     "iopub.status.busy": "2021-08-08T09:17:08.888391Z",
     "iopub.status.idle": "2021-08-08T09:17:08.986440Z",
     "shell.execute_reply": "2021-08-08T09:17:08.985778Z",
     "shell.execute_reply.started": "2021-08-08T08:39:05.636629Z"
    },
    "execution_millis": 106,
    "execution_start": 1626680255533,
    "papermill": {
     "duration": 0.130681,
     "end_time": "2021-08-08T09:17:08.986598",
     "exception": false,
     "start_time": "2021-08-08T09:17:08.855917",
     "status": "completed"
    },
    "source_hash": "6860650",
    "tags": []
   },
   "outputs": [
    {
     "name": "stderr",
     "output_type": "stream",
     "text": [
      "/opt/conda/lib/python3.7/site-packages/category_encoders/utils.py:21: FutureWarning: is_categorical is deprecated and will be removed in a future version.  Use is_categorical_dtype instead\n",
      "  elif pd.api.types.is_categorical(cols):\n",
      "/opt/conda/lib/python3.7/site-packages/category_encoders/utils.py:21: FutureWarning: is_categorical is deprecated and will be removed in a future version.  Use is_categorical_dtype instead\n",
      "  elif pd.api.types.is_categorical(cols):\n",
      "/opt/conda/lib/python3.7/site-packages/category_encoders/utils.py:21: FutureWarning: is_categorical is deprecated and will be removed in a future version.  Use is_categorical_dtype instead\n",
      "  elif pd.api.types.is_categorical(cols):\n",
      "/opt/conda/lib/python3.7/site-packages/category_encoders/utils.py:21: FutureWarning: is_categorical is deprecated and will be removed in a future version.  Use is_categorical_dtype instead\n",
      "  elif pd.api.types.is_categorical(cols):\n"
     ]
    }
   ],
   "source": [
    "df_final = preprocess_data(df)"
   ]
  },
  {
   "cell_type": "code",
   "execution_count": 19,
   "id": "72db73ab",
   "metadata": {
    "cell_id": "00012-fb7f8f00-8231-49b9-93d7-6ecd37e7b299",
    "deepnote_cell_type": "code",
    "deepnote_to_be_reexecuted": false,
    "execution": {
     "iopub.execute_input": "2021-08-08T09:17:09.055215Z",
     "iopub.status.busy": "2021-08-08T09:17:09.054248Z",
     "iopub.status.idle": "2021-08-08T09:17:09.058055Z",
     "shell.execute_reply": "2021-08-08T09:17:09.058516Z",
     "shell.execute_reply.started": "2021-08-08T08:39:05.746291Z"
    },
    "execution_millis": 1,
    "execution_start": 1626680255645,
    "papermill": {
     "duration": 0.041707,
     "end_time": "2021-08-08T09:17:09.058690",
     "exception": false,
     "start_time": "2021-08-08T09:17:09.016983",
     "status": "completed"
    },
    "source_hash": "bdbf0186",
    "tags": []
   },
   "outputs": [
    {
     "data": {
      "text/plain": [
       "Specific Bean Originor    float64\n",
       "REF                         int64\n",
       "Cocoa Percent             float64\n",
       "Company Location          float64\n",
       "rating                    float64\n",
       "Bean Type                 float64\n",
       "Broad Bean Origin         float64\n",
       "dtype: object"
      ]
     },
     "execution_count": 19,
     "metadata": {},
     "output_type": "execute_result"
    }
   ],
   "source": [
    "df_final.dtypes"
   ]
  },
  {
   "cell_type": "code",
   "execution_count": 20,
   "id": "ce5bbba6",
   "metadata": {
    "cell_id": "00021-2e22ada4-be55-4a6f-b0dd-6bd126736327",
    "deepnote_cell_type": "code",
    "deepnote_to_be_reexecuted": false,
    "execution": {
     "iopub.execute_input": "2021-08-08T09:17:09.123933Z",
     "iopub.status.busy": "2021-08-08T09:17:09.123002Z",
     "iopub.status.idle": "2021-08-08T09:17:09.141066Z",
     "shell.execute_reply": "2021-08-08T09:17:09.141530Z",
     "shell.execute_reply.started": "2021-08-08T08:39:05.758752Z"
    },
    "execution_millis": 1,
    "execution_start": 1626680255694,
    "papermill": {
     "duration": 0.052307,
     "end_time": "2021-08-08T09:17:09.141707",
     "exception": false,
     "start_time": "2021-08-08T09:17:09.089400",
     "status": "completed"
    },
    "source_hash": "8265ba4d",
    "tags": []
   },
   "outputs": [],
   "source": [
    "scale_X=MinMaxScaler()\n",
    "scale_Y=MinMaxScaler()\n",
    "X = df_final.drop([\"rating\"],axis =1)\n",
    "Y = df_final['rating']\n",
    "X_train,X_test,Y_train,Y_test = train_test_split(X,Y,random_state = 27)\n",
    "X_train = scale_X.fit_transform(X_train)\n",
    "X_test = scale_X.fit_transform(X_test)\n",
    "Y_train = scale_Y.fit_transform(np.array(Y_train).reshape(-1, 1)).squeeze()\n",
    "Y_test = scale_Y.fit_transform(np.array(Y_test).reshape(-1, 1)).squeeze()\n"
   ]
  },
  {
   "cell_type": "code",
   "execution_count": 21,
   "id": "bdb0e096",
   "metadata": {
    "cell_id": "00022-da2638fe-eb62-40e0-9dc9-c31a5ffdaec6",
    "deepnote_cell_type": "code",
    "deepnote_to_be_reexecuted": false,
    "execution": {
     "iopub.execute_input": "2021-08-08T09:17:09.207042Z",
     "iopub.status.busy": "2021-08-08T09:17:09.206135Z",
     "iopub.status.idle": "2021-08-08T09:17:09.219019Z",
     "shell.execute_reply": "2021-08-08T09:17:09.219483Z",
     "shell.execute_reply.started": "2021-08-08T08:39:05.781946Z"
    },
    "execution_millis": 0,
    "execution_start": 1626680255694,
    "papermill": {
     "duration": 0.046903,
     "end_time": "2021-08-08T09:17:09.219645",
     "exception": false,
     "start_time": "2021-08-08T09:17:09.172742",
     "status": "completed"
    },
    "source_hash": "f20d15db",
    "tags": []
   },
   "outputs": [],
   "source": [
    "#class ofr sigmoid neuron:\n",
    "class sigmoidNeuron:\n",
    "  def __init__(self):\n",
    "    self.w=None\n",
    "    self.b=None \n",
    "  def pereceptron(self,x):\n",
    "    return np.dot(self.w,x.T)+self.b\n",
    "  def sigmoid(self,x):\n",
    "    return 1.0/(1.0+np.exp(-x))\n",
    "  def grad_w(self,x,y):\n",
    "    y_pred=self.sigmoid(self.pereceptron(x))\n",
    "    return (y_pred-y)*y_pred*(1-y_pred)*x\n",
    "  def grad_b(self,x,y):\n",
    "    y_pred=self.sigmoid(self.pereceptron(x))\n",
    "    return (y_pred-y)*y_pred*(1-y_pred)\n",
    "  def fit(self,X,Y,epochs=1,learning_rate=1,ini=False,display_loss=False):\n",
    "\n",
    "    if ini:\n",
    "        self.w=np.random.randn(1,X.shape[1])\n",
    "        self.b=0\n",
    "    if display_loss:\n",
    "      loss={}\n",
    "\n",
    "\n",
    "    for i in range(epochs):\n",
    "      dw=0\n",
    "      db=0\n",
    "      for x,y in zip(X,Y):\n",
    "        dw+=self.grad_w(x,y)\n",
    "        db+=self.grad_b(x,y)\n",
    "      self.w-=learning_rate*dw\n",
    "      self.b-=learning_rate*db\n",
    "      if display_loss:\n",
    "        y_pred=self.sigmoid(self.pereceptron(X))\n",
    "        loss[i]=mean_squared_error(Y,y_pred.squeeze())\n",
    "    if display_loss:\n",
    "      plt.plot(loss.values())\n",
    "      plt.xlabel('epochs')\n",
    "      plt.ylabel('loss')\n",
    "      plt.show()\n",
    "      \n",
    "\n",
    "  def predict(self,X):\n",
    "    Y_pred=[]\n",
    "    for x in X:\n",
    "      y_pred=self.sigmoid(self.pereceptron(x))\n",
    "      Y_pred.append(y_pred)\n",
    "\n",
    "    return Y_pred\n",
    "      #number of updates is eual to numbrr of epochs\n"
   ]
  },
  {
   "cell_type": "code",
   "execution_count": 22,
   "id": "de75b792",
   "metadata": {
    "cell_id": "00023-5175e699-f1d4-45b7-88fe-36556ee8fb32",
    "deepnote_cell_type": "code",
    "deepnote_to_be_reexecuted": false,
    "execution": {
     "iopub.execute_input": "2021-08-08T09:17:09.284907Z",
     "iopub.status.busy": "2021-08-08T09:17:09.283939Z",
     "iopub.status.idle": "2021-08-08T09:18:15.642699Z",
     "shell.execute_reply": "2021-08-08T09:18:15.643214Z",
     "shell.execute_reply.started": "2021-08-08T08:39:05.797740Z"
    },
    "execution_millis": 88750,
    "execution_start": 1626680255824,
    "papermill": {
     "duration": 66.39291,
     "end_time": "2021-08-08T09:18:15.643400",
     "exception": false,
     "start_time": "2021-08-08T09:17:09.250490",
     "status": "completed"
    },
    "source_hash": "b7db7db8",
    "tags": []
   },
   "outputs": [
    {
     "data": {
      "image/png": "[encoded data removed]",
      "text/plain": [
       "<Figure size 432x288 with 1 Axes>"
      ]
     },
     "metadata": {
      "needs_background": "light"
     },
     "output_type": "display_data"
    }
   ],
   "source": [
    "sn=sigmoidNeuron()\n",
    "sn.fit(X_train,Y_train,1300,0.001,ini = True,display_loss=True)"
   ]
  },
  {
   "cell_type": "code",
   "execution_count": 23,
   "id": "c3ea57c8",
   "metadata": {
    "cell_id": "00026-6011b2ee-289c-4d9c-a5b7-1c0588fe8e8e",
    "deepnote_cell_type": "code",
    "deepnote_to_be_reexecuted": false,
    "execution": {
     "iopub.execute_input": "2021-08-08T09:18:15.713950Z",
     "iopub.status.busy": "2021-08-08T09:18:15.713127Z",
     "iopub.status.idle": "2021-08-08T09:18:15.717203Z",
     "shell.execute_reply": "2021-08-08T09:18:15.716570Z",
     "shell.execute_reply.started": "2021-08-08T08:40:14.081063Z"
    },
    "execution_millis": 0,
    "execution_start": 1626680344611,
    "papermill": {
     "duration": 0.041432,
     "end_time": "2021-08-08T09:18:15.717348",
     "exception": false,
     "start_time": "2021-08-08T09:18:15.675916",
     "status": "completed"
    },
    "source_hash": "47553d3f",
    "tags": []
   },
   "outputs": [
    {
     "data": {
      "text/plain": [
       "array([[ 0.69550762,  0.0947612 , -0.37513011,  0.34657497,  0.66017258,\n",
       "        -0.32463164]])"
      ]
     },
     "execution_count": 23,
     "metadata": {},
     "output_type": "execute_result"
    }
   ],
   "source": [
    "sn.w"
   ]
  },
  {
   "cell_type": "code",
   "execution_count": 24,
   "id": "56081662",
   "metadata": {
    "cell_id": "00028-a59aa5ab-8bc4-49f0-a315-5c5d717d04f0",
    "deepnote_cell_type": "code",
    "deepnote_to_be_reexecuted": false,
    "execution": {
     "iopub.execute_input": "2021-08-08T09:18:15.787641Z",
     "iopub.status.busy": "2021-08-08T09:18:15.786779Z",
     "iopub.status.idle": "2021-08-08T09:18:15.791196Z",
     "shell.execute_reply": "2021-08-08T09:18:15.790637Z",
     "shell.execute_reply.started": "2021-08-08T08:40:14.090492Z"
    },
    "execution_millis": 2,
    "execution_start": 1626680344612,
    "papermill": {
     "duration": 0.041506,
     "end_time": "2021-08-08T09:18:15.791335",
     "exception": false,
     "start_time": "2021-08-08T09:18:15.749829",
     "status": "completed"
    },
    "source_hash": "7cd5501e",
    "tags": []
   },
   "outputs": [
    {
     "data": {
      "text/plain": [
       "array([-0.28814239])"
      ]
     },
     "execution_count": 24,
     "metadata": {},
     "output_type": "execute_result"
    }
   ],
   "source": [
    "sn.b"
   ]
  },
  {
   "cell_type": "code",
   "execution_count": 25,
   "id": "7101d764",
   "metadata": {
    "cell_id": "00027-b4c08afc-bffa-4787-9f61-5d114796a863",
    "deepnote_cell_type": "code",
    "deepnote_to_be_reexecuted": false,
    "execution": {
     "iopub.execute_input": "2021-08-08T09:18:15.863813Z",
     "iopub.status.busy": "2021-08-08T09:18:15.860654Z",
     "iopub.status.idle": "2021-08-08T09:18:15.870349Z",
     "shell.execute_reply": "2021-08-08T09:18:15.869811Z",
     "shell.execute_reply.started": "2021-08-08T08:40:14.106652Z"
    },
    "execution_millis": 11,
    "execution_start": 1626680344612,
    "papermill": {
     "duration": 0.04698,
     "end_time": "2021-08-08T09:18:15.870486",
     "exception": false,
     "start_time": "2021-08-08T09:18:15.823506",
     "status": "completed"
    },
    "source_hash": "e74ef6eb",
    "tags": []
   },
   "outputs": [],
   "source": [
    "Y_pred = np.array(sn.predict(X_test)).squeeze()"
   ]
  },
  {
   "cell_type": "code",
   "execution_count": 26,
   "id": "3967cf73",
   "metadata": {
    "cell_id": "00031-575e243c-3d77-4436-a217-24cf5672fd3d",
    "deepnote_cell_type": "code",
    "deepnote_to_be_reexecuted": false,
    "execution": {
     "iopub.execute_input": "2021-08-08T09:18:15.940491Z",
     "iopub.status.busy": "2021-08-08T09:18:15.939879Z",
     "iopub.status.idle": "2021-08-08T09:18:15.943727Z",
     "shell.execute_reply": "2021-08-08T09:18:15.943128Z",
     "shell.execute_reply.started": "2021-08-08T08:40:14.122829Z"
    },
    "execution_millis": 7,
    "execution_start": 1626680344658,
    "papermill": {
     "duration": 0.041261,
     "end_time": "2021-08-08T09:18:15.943858",
     "exception": false,
     "start_time": "2021-08-08T09:18:15.902597",
     "status": "completed"
    },
    "source_hash": "c51856c3",
    "tags": []
   },
   "outputs": [
    {
     "data": {
      "text/plain": [
       "0.04075193398645394"
      ]
     },
     "execution_count": 26,
     "metadata": {},
     "output_type": "execute_result"
    }
   ],
   "source": [
    "mean_squared_error(Y_test,Y_pred)"
   ]
  },
  {
   "cell_type": "code",
   "execution_count": 27,
   "id": "0a22fbb1",
   "metadata": {
    "cell_id": "00032-e0610bc4-d82e-472c-b49c-40ffb9238a49",
    "deepnote_cell_type": "code",
    "deepnote_to_be_reexecuted": false,
    "execution": {
     "iopub.execute_input": "2021-08-08T09:18:16.013936Z",
     "iopub.status.busy": "2021-08-08T09:18:16.013354Z",
     "iopub.status.idle": "2021-08-08T09:18:16.017181Z",
     "shell.execute_reply": "2021-08-08T09:18:16.017618Z",
     "shell.execute_reply.started": "2021-08-08T08:40:14.131990Z"
    },
    "execution_millis": 6,
    "execution_start": 1626680344659,
    "papermill": {
     "duration": 0.04143,
     "end_time": "2021-08-08T09:18:16.017778",
     "exception": false,
     "start_time": "2021-08-08T09:18:15.976348",
     "status": "completed"
    },
    "source_hash": "4cd56536",
    "tags": []
   },
   "outputs": [
    {
     "data": {
      "text/plain": [
       "-0.6479463718583056"
      ]
     },
     "execution_count": 27,
     "metadata": {},
     "output_type": "execute_result"
    }
   ],
   "source": [
    "r2_score(Y_test,Y_pred)"
   ]
  },
  {
   "cell_type": "code",
   "execution_count": 28,
   "id": "74e4b037",
   "metadata": {
    "cell_id": "00031-26894d25-7b17-4513-9bb1-837ccd125941",
    "deepnote_cell_type": "code",
    "deepnote_to_be_reexecuted": false,
    "execution": {
     "iopub.execute_input": "2021-08-08T09:18:16.109418Z",
     "iopub.status.busy": "2021-08-08T09:18:16.102663Z",
     "iopub.status.idle": "2021-08-08T09:18:16.112344Z",
     "shell.execute_reply": "2021-08-08T09:18:16.112800Z",
     "shell.execute_reply.started": "2021-08-08T08:40:14.147615Z"
    },
    "execution_millis": 0,
    "execution_start": 1626680344702,
    "papermill": {
     "duration": 0.06248,
     "end_time": "2021-08-08T09:18:16.112972",
     "exception": false,
     "start_time": "2021-08-08T09:18:16.050492",
     "status": "completed"
    },
    "source_hash": "5b22f4f2",
    "tags": []
   },
   "outputs": [],
   "source": [
    "class FFSNNetwork:\n",
    "  def __init__(self,n_inputs,n_outputs=1,hidden_sizes=[2]):\n",
    "    self.nx=n_inputs\n",
    "    self.ny=n_outputs\n",
    "    self.nh=len(hidden_sizes)\n",
    "    #self.sizes reffer to size of each layer (ie) \n",
    "    self.sizes=[self.nx]+hidden_sizes+[self.ny]\n",
    "    self.W={}\n",
    "    self.B={}\n",
    "    for i in range(self.nh+1):\n",
    "      self.W[i+1]=np.random.randn(self.sizes[i],self.sizes[i+1])\n",
    "      self.B[i+1]=np.zeros((1,self.sizes[i+1]))\n",
    "  def sigmoid(self,x):\n",
    "    return 1.0/(1.0+np.exp(-x))\n",
    "  def forward_pass(self,x):\n",
    "    self.A={}\n",
    "    self.H={}\n",
    "    self.H[0]=x.reshape(1,-1)\n",
    "    for i in range(self.nh+1):\n",
    "      self.A[i+1]=np.matmul(self.H[i],self.W[i+1]+self.B[i+1])\n",
    "      self.H[i+1]=self.sigmoid(self.A[i+1])\n",
    "    return self.H[self.nh+1]\n",
    "  def grad_sigmoid(self, x):\n",
    "    return x*(1-x) \n",
    "    \n",
    "  def grad(self, x, y):\n",
    "    self.forward_pass(x)\n",
    "    self.dW = {}\n",
    "    self.dB = {}\n",
    "    self.dH = {}\n",
    "    self.dA = {}\n",
    "    L = self.nh + 1\n",
    "    self.dA[L] = (self.H[L] - y)\n",
    "    for k in range(L, 0, -1):\n",
    "      self.dW[k] = np.matmul(self.H[k-1].T, self.dA[k])\n",
    "      self.dB[k] = self.dA[k]\n",
    "      self.dH[k-1] = np.matmul(self.dA[k], self.W[k].T)\n",
    "      self.dA[k-1] = np.multiply(self.dH[k-1], self.grad_sigmoid(self.H[k-1]))\n",
    "\n",
    "  def fit(self, X, Y, epochs=1, learning_rate=1, initialise=True, display_loss=False):\n",
    "    \n",
    "    # initialise w, b\n",
    "    if initialise:\n",
    "      for i in range(self.nh+1):\n",
    "        self.W[i+1] = np.random.randn(self.sizes[i], self.sizes[i+1])\n",
    "        self.B[i+1] = np.zeros((1, self.sizes[i+1]))\n",
    "      \n",
    "    if display_loss:\n",
    "      loss = {}\n",
    "    \n",
    "    for j in range(epochs):\n",
    "\n",
    "      dW = {}\n",
    "      dB = {}\n",
    "      for i in range(self.nh+1):\n",
    "        dW[i+1] = np.zeros((self.sizes[i], self.sizes[i+1]))\n",
    "        dB[i+1] = np.zeros((1, self.sizes[i+1]))\n",
    "      for x, y in zip(X, Y):\n",
    "        self.grad(x, y)\n",
    "        for i in range(self.nh+1):\n",
    "          dW[i+1] += self.dW[i+1]\n",
    "          dB[i+1] += self.dB[i+1]\n",
    "        \n",
    "      m = X.shape[1]\n",
    "      for i in range(self.nh+1):\n",
    "        self.W[i+1] -= learning_rate * dW[i+1] / m\n",
    "        self.B[i+1] -= learning_rate * dB[i+1] / m\n",
    "      \n",
    "      if display_loss:\n",
    "        Y_pred = self.predict(X)\n",
    "        loss[j] = mean_squared_error(Y_pred, Y)\n",
    "        \n",
    "    if display_loss:\n",
    "      plt.plot(np.array(list(loss.values())).astype(float))\n",
    "      plt.xlabel('Epochs')\n",
    "      plt.ylabel('Mean Squared Error')\n",
    "      plt.show()\n",
    "      \n",
    "  def predict(self, X):\n",
    "    Y_pred = []\n",
    "    for x in X:\n",
    "      y_pred = self.forward_pass(x)\n",
    "      Y_pred.append(y_pred)\n",
    "    return np.array(Y_pred).squeeze()\n",
    " "
   ]
  },
  {
   "cell_type": "code",
   "execution_count": 29,
   "id": "c502bbac",
   "metadata": {
    "cell_id": "00032-8da873a6-eaf5-47f0-bc1b-be157f6494b9",
    "deepnote_cell_type": "code",
    "deepnote_to_be_reexecuted": false,
    "execution": {
     "iopub.execute_input": "2021-08-08T09:18:16.195476Z",
     "iopub.status.busy": "2021-08-08T09:18:16.190167Z",
     "iopub.status.idle": "2021-08-08T09:29:06.277815Z",
     "shell.execute_reply": "2021-08-08T09:29:06.278338Z",
     "shell.execute_reply.started": "2021-08-08T08:40:14.179429Z"
    },
    "execution_millis": 1297993,
    "execution_start": 1626680344743,
    "papermill": {
     "duration": 650.13164,
     "end_time": "2021-08-08T09:29:06.278533",
     "exception": false,
     "start_time": "2021-08-08T09:18:16.146893",
     "status": "completed"
    },
    "source_hash": "97322ae6",
    "tags": []
   },
   "outputs": [
    {
     "data": {
      "image/png": "[encoded data removed]",
      "text/plain": [
       "<Figure size 432x288 with 1 Axes>"
      ]
     },
     "metadata": {
      "needs_background": "light"
     },
     "output_type": "display_data"
    }
   ],
   "source": [
    "ffsnn = FFSNNetwork(6, hidden_sizes=[10])\n",
    "ffsnn.fit(X_train, Y_train, epochs=6000, learning_rate=.001, display_loss=True)"
   ]
  },
  {
   "cell_type": "code",
   "execution_count": 30,
   "id": "9e084f36",
   "metadata": {
    "cell_id": "00030-c8022cf2-b30a-4742-bc7d-53ddd6191833",
    "deepnote_cell_type": "code",
    "deepnote_to_be_reexecuted": false,
    "execution": {
     "iopub.execute_input": "2021-08-08T09:29:06.353283Z",
     "iopub.status.busy": "2021-08-08T09:29:06.352684Z",
     "iopub.status.idle": "2021-08-08T09:29:06.357037Z",
     "shell.execute_reply": "2021-08-08T09:29:06.356571Z",
     "shell.execute_reply.started": "2021-08-08T08:51:15.159814Z"
    },
    "execution_millis": 5,
    "execution_start": 1626681642731,
    "papermill": {
     "duration": 0.044333,
     "end_time": "2021-08-08T09:29:06.357182",
     "exception": false,
     "start_time": "2021-08-08T09:29:06.312849",
     "status": "completed"
    },
    "source_hash": "4acfb293",
    "tags": []
   },
   "outputs": [
    {
     "data": {
      "text/plain": [
       "{1: array([[-0.02832583, -0.45693147, -0.87111654, -0.77031625, -1.8881121 ,\n",
       "         -0.73154934, -0.73451996,  0.81258378,  1.24864847,  0.46207488],\n",
       "        [ 0.33787233, -0.50848578, -2.11618252, -0.99771391,  0.79576335,\n",
       "         -0.86376921,  1.03281739,  1.46328119,  0.17196844, -2.13155175],\n",
       "        [-1.22989854, -0.34753164, -0.16807344,  1.04110392, -0.76232334,\n",
       "         -1.07128425,  0.60443836, -1.0218897 , -0.21094618,  1.00315006],\n",
       "        [ 0.37582734,  0.5738027 , -0.84520185, -0.86701051, -1.39531425,\n",
       "         -0.99635736, -0.34738281, -1.51688285, -2.29920589, -0.39793178],\n",
       "        [ 1.29659061,  0.13306994,  0.74169257, -0.58963995, -0.35258073,\n",
       "         -0.43376619, -0.94042069, -1.77126045, -0.09813872,  0.33889938],\n",
       "        [ 0.39011012, -1.44274074, -0.24096619,  1.46137081, -0.13469276,\n",
       "          0.39882871,  0.08100101,  0.02335547, -0.66245493,  1.48735337]]),\n",
       " 2: array([[ 1.83240819],\n",
       "        [-1.51074902],\n",
       "        [-0.72918939],\n",
       "        [-1.30512417],\n",
       "        [-2.31887608],\n",
       "        [-0.74332069],\n",
       "        [-0.52534372],\n",
       "        [ 0.98486361],\n",
       "        [-0.69700305],\n",
       "        [ 0.24219646]])}"
      ]
     },
     "execution_count": 30,
     "metadata": {},
     "output_type": "execute_result"
    }
   ],
   "source": [
    "ffsnn.W"
   ]
  },
  {
   "cell_type": "code",
   "execution_count": 31,
   "id": "906200f7",
   "metadata": {
    "cell_id": "00030-0b9c83fa-bbab-4061-9599-fe9b7c29ed05",
    "deepnote_cell_type": "code",
    "deepnote_to_be_reexecuted": false,
    "execution": {
     "iopub.execute_input": "2021-08-08T09:29:06.458768Z",
     "iopub.status.busy": "2021-08-08T09:29:06.448466Z",
     "iopub.status.idle": "2021-08-08T09:29:06.475941Z",
     "shell.execute_reply": "2021-08-08T09:29:06.475292Z",
     "shell.execute_reply.started": "2021-08-08T08:51:15.170687Z"
    },
    "execution_millis": 104,
    "execution_start": 1626681642731,
    "papermill": {
     "duration": 0.084877,
     "end_time": "2021-08-08T09:29:06.476072",
     "exception": false,
     "start_time": "2021-08-08T09:29:06.391195",
     "status": "completed"
    },
    "source_hash": "6bea3868",
    "tags": []
   },
   "outputs": [],
   "source": [
    "Y_pred_train=ffsnn.predict(X_train)\n",
    "Y_pred_val=ffsnn.predict(X_test)\n",
    "r2_train=r2_score(Y_train,Y_pred_train)\n",
    "r2_val=r2_score(Y_test,Y_pred_val)"
   ]
  },
  {
   "cell_type": "code",
   "execution_count": 32,
   "id": "e399b067",
   "metadata": {
    "cell_id": "00033-7b2ab000-388b-4278-880b-2a1f247a71c9",
    "deepnote_cell_type": "code",
    "deepnote_to_be_reexecuted": false,
    "execution": {
     "iopub.execute_input": "2021-08-08T09:29:06.550080Z",
     "iopub.status.busy": "2021-08-08T09:29:06.549473Z",
     "iopub.status.idle": "2021-08-08T09:29:06.553573Z",
     "shell.execute_reply": "2021-08-08T09:29:06.553024Z",
     "shell.execute_reply.started": "2021-08-08T08:51:15.231605Z"
    },
    "execution_millis": 10,
    "execution_start": 1626681642841,
    "papermill": {
     "duration": 0.043524,
     "end_time": "2021-08-08T09:29:06.553702",
     "exception": false,
     "start_time": "2021-08-08T09:29:06.510178",
     "status": "completed"
    },
    "source_hash": "8f90395e",
    "tags": []
   },
   "outputs": [],
   "source": [
    "mse_train=mean_squared_error(Y_train,Y_pred_train)\n",
    "mse_val=mean_squared_error(Y_test,Y_pred_val)"
   ]
  },
  {
   "cell_type": "code",
   "execution_count": 33,
   "id": "5b22f952",
   "metadata": {
    "cell_id": "00032-04becec9-479d-4762-a35c-27c3189f36ab",
    "deepnote_cell_type": "code",
    "deepnote_to_be_reexecuted": false,
    "execution": {
     "iopub.execute_input": "2021-08-08T09:29:06.627932Z",
     "iopub.status.busy": "2021-08-08T09:29:06.627299Z",
     "iopub.status.idle": "2021-08-08T09:29:06.631980Z",
     "shell.execute_reply": "2021-08-08T09:29:06.631372Z",
     "shell.execute_reply.started": "2021-08-08T08:51:15.240053Z"
    },
    "execution_millis": 12,
    "execution_start": 1626681642858,
    "papermill": {
     "duration": 0.044225,
     "end_time": "2021-08-08T09:29:06.632154",
     "exception": false,
     "start_time": "2021-08-08T09:29:06.587929",
     "status": "completed"
    },
    "source_hash": "19e0a008",
    "tags": []
   },
   "outputs": [],
   "source": [
    "rmse_train=np.sqrt(mean_squared_error(Y_train,Y_pred_train))\n",
    "rmse_val=np.sqrt(mean_squared_error(Y_test,Y_pred_val))"
   ]
  },
  {
   "cell_type": "code",
   "execution_count": 34,
   "id": "5ea8e133",
   "metadata": {
    "cell_id": "00032-64fc3765-526d-4874-93df-16c8962dffdf",
    "deepnote_cell_type": "code",
    "deepnote_to_be_reexecuted": false,
    "execution": {
     "iopub.execute_input": "2021-08-08T09:29:06.711066Z",
     "iopub.status.busy": "2021-08-08T09:29:06.710473Z",
     "iopub.status.idle": "2021-08-08T09:29:06.712857Z",
     "shell.execute_reply": "2021-08-08T09:29:06.713367Z",
     "shell.execute_reply.started": "2021-08-08T08:51:15.254083Z"
    },
    "execution_millis": 26,
    "execution_start": 1626681642876,
    "papermill": {
     "duration": 0.046929,
     "end_time": "2021-08-08T09:29:06.713524",
     "exception": false,
     "start_time": "2021-08-08T09:29:06.666595",
     "status": "completed"
    },
    "source_hash": "b146893b",
    "tags": []
   },
   "outputs": [
    {
     "name": "stdout",
     "output_type": "stream",
     "text": [
      "R2 Score - train 0.20935060028417984\n",
      "R2 Score - val -0.16365911448069737\n",
      "MSE Score - train 0.011352225628810428\n",
      "MSE Score - val 0.02877603314395369\n",
      "RMSE Score - train 0.10654682364486719\n",
      "RMSE Score - val 0.1696349997611156\n"
     ]
    }
   ],
   "source": [
    "print(\"R2 Score - train\",r2_train)\n",
    "print(\"R2 Score - val\",r2_val)\n",
    "print(\"MSE Score - train\",mse_train)\n",
    "print(\"MSE Score - val\",mse_val)\n",
    "print(\"RMSE Score - train\",rmse_train)\n",
    "print(\"RMSE Score - val\",rmse_val)"
   ]
  },
  {
   "cell_type": "code",
   "execution_count": null,
   "id": "c6708306",
   "metadata": {
    "cell_id": "00034-132a2905-d9a6-4087-b47a-d9d646077483",
    "deepnote_cell_type": "code",
    "deepnote_to_be_reexecuted": false,
    "execution_millis": 7,
    "execution_start": 1626681642900,
    "papermill": {
     "duration": 0.033717,
     "end_time": "2021-08-08T09:29:06.781699",
     "exception": false,
     "start_time": "2021-08-08T09:29:06.747982",
     "status": "completed"
    },
    "source_hash": "b623e53d",
    "tags": []
   },
   "outputs": [],
   "source": []
  }
 ],
 "metadata": {
  "kernelspec": {
   "display_name": "Python 3",
   "language": "python",
   "name": "python3"
  },
  "language_info": {
   "codemirror_mode": {
    "name": "ipython",
    "version": 3
   },
   "file_extension": ".py",
   "mimetype": "text/x-python",
   "name": "python",
   "nbconvert_exporter": "python",
   "pygments_lexer": "ipython3",
   "version": "3.7.10"
  },
  "papermill": {
   "default_parameters": {},
   "duration": 728.600283,
   "end_time": "2021-08-08T09:29:07.526349",
   "environment_variables": {},
   "exception": null,
   "input_path": "__notebook__.ipynb",
   "output_path": "__notebook__.ipynb",
   "parameters": {},
   "start_time": "2021-08-08T09:16:58.926066",
   "version": "2.3.3"
  }
 },
 "nbformat": 4,
 "nbformat_minor": 5
}
