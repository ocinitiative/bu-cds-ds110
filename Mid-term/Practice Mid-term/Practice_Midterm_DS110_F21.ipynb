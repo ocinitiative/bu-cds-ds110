{
  "nbformat": 4,
  "nbformat_minor": 0,
  "metadata": {
    "colab": {
      "name": "YourName_Midterm_DS110_F21.ipynb",
      "provenance": []
    },
    "kernelspec": {
      "name": "python3",
      "display_name": "Python 3"
    },
    "language_info": {
      "name": "python"
    }
  },
  "cells": [
    {
      "cell_type": "markdown",
      "metadata": {
        "id": "LY_fojsY7XRB"
      },
      "source": [
        "This exam is open notes, open Internet resources, but you may not communicate with other students or anyone else outside the teaching staff.  Turn in this midterm as you would a homework, but you have only until the end of the next day (Saturday 11:59pm)."
      ]
    },
    {
      "cell_type": "markdown",
      "metadata": {
        "id": "iEn0CUMoxkeT"
      },
      "source": [
        "# Problem 1:  Loop (15 points)"
      ]
    },
    {
      "cell_type": "markdown",
      "metadata": {
        "id": "lXnq9cFTxzMR"
      },
      "source": [
        "Use a while loop to print squares of integers, starting from 1, until the result is greater than 1234.  (Don't print the square that is larger than 1234.)"
      ]
    },
    {
      "cell_type": "code",
      "metadata": {
        "id": "JUOac5IBxiY8"
      },
      "source": [
        ""
      ],
      "execution_count": null,
      "outputs": []
    },
    {
      "cell_type": "markdown",
      "metadata": {
        "id": "LEx3CRrKyxKG"
      },
      "source": [
        "# Problem 2:  Dictionary (15 points)\n",
        "\n",
        "Write a function comma_sep_to_dict() that takes a string with comma-separated values as input, and stores the count of each comma-separated value in a dictionary, which is returned.  For example, \"hello,hello,goodbye,goodbye\" would result in a dictionary mapping \"hello\" to 2 and \"goodbye\" to 2."
      ]
    },
    {
      "cell_type": "code",
      "metadata": {
        "id": "54k7E0xZzhVE"
      },
      "source": [
        ""
      ],
      "execution_count": null,
      "outputs": []
    },
    {
      "cell_type": "markdown",
      "metadata": {
        "id": "zwh2wH1E5q3Z"
      },
      "source": [
        "# Problem 3:  Dataframe (10 points)\n",
        "\n",
        "In the Starbucks dataframe, print the Grande beverage with the most calories and the number of calories it has.  (Your code must find these values - you can't simply read through the dataframe yourself.)\n",
        "\n"
      ]
    },
    {
      "cell_type": "code",
      "metadata": {
        "id": "k4ipxiqp6kEE"
      },
      "source": [
        "import pandas as pd\n",
        "from google.colab import files\n",
        "import io\n",
        "\n",
        "uploaded = files.upload() # pick starbucks_drinkMenu_expanded.csv"
      ],
      "execution_count": null,
      "outputs": []
    },
    {
      "cell_type": "code",
      "metadata": {
        "id": "D0Q6aZzy6qrR"
      },
      "source": [
        "df = pd.read_csv(io.BytesIO(uploaded['starbucks_drinkMenu_expanded.csv']), index_col = 'Beverage')"
      ],
      "execution_count": null,
      "outputs": []
    },
    {
      "cell_type": "code",
      "metadata": {
        "id": "kiTCSrbO65tN"
      },
      "source": [
        ""
      ],
      "execution_count": null,
      "outputs": []
    },
    {
      "cell_type": "markdown",
      "metadata": {
        "id": "_EN_L7OE7vZ5"
      },
      "source": [
        "# Problem 4:  Object (15 points)\n",
        "\n",
        "Define a TextHistogram object with the following methods:\n",
        "\n",
        "* The \\_\\_init\\_\\_() method should take a list of integers as an argument, and the object should store this list as a field named \"counts.\"\n",
        "\n",
        "* The \\_\\_str\\_\\_() method should return a string that renders the stored counts as rows of X's, so that [2,1,3] would be printed as \"XX\\nX\\nXXX\\n\".\n",
        "\n",
        "* The scatter() method should plot (using matplotlib) a scatterplot of the stored counts where each point (i,j) refers to list element i with value j.  Thus, [2,1,3] would be plotted as (0,2), (1,1), (2,3)."
      ]
    },
    {
      "cell_type": "code",
      "metadata": {
        "id": "2l26LweQ-sHn"
      },
      "source": [
        "\n"
      ],
      "execution_count": null,
      "outputs": []
    },
    {
      "cell_type": "markdown",
      "metadata": {
        "id": "rDgLq4hCwhCR"
      },
      "source": [
        "# Problem 5:  Recursion and regexes (15 points)\n",
        "\n",
        "Write a function all_have_digits() that takes a binary tree of the kind defined below and returns true iff every node in the tree has a string with a least one digit somewhere within the string."
      ]
    },
    {
      "cell_type": "code",
      "metadata": {
        "id": "KPRk00JZxH-O"
      },
      "source": [
        "class BinaryTree:\n",
        "  def __init__(self,left,right,s):\n",
        "    self.left = left\n",
        "    self.right = right\n",
        "    self.s = s\n",
        "\n",
        "# Test trees to help ... expect True for the first, False for the second\n",
        "tree1 = BinaryTree(BinaryTree(None,None,\"w3\"),BinaryTree(None,None,\"w2\"),\"w1\")\n",
        "tree2 = BinaryTree(tree1,BinaryTree(None,None,\"w4\"),\"w\")\n",
        "\n",
        "# TODO\n",
        "\n",
        "print(all_have_digits(tree1))\n",
        "print(all_have_digits(tree2))\n",
        "  "
      ],
      "execution_count": null,
      "outputs": []
    }
  ]
}