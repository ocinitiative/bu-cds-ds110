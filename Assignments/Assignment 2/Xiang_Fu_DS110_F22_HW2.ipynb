{
  "cells": [
    {
      "cell_type": "markdown",
      "metadata": {
        "id": "A7mpivJPWaNa"
      },
      "source": [
        "# Problem 1:  Ebi Sushi (28 pts: 6,10,12)\n",
        "\n",
        "My wife and I went to a sushi place called Ebi Sushi recently.  Here are the items that were on the receipt."
      ]
    },
    {
      "cell_type": "code",
      "execution_count": null,
      "metadata": {
        "id": "cVAqqK8OWW4O"
      },
      "outputs": [],
      "source": [
        "ebi_receipt = [('Edamame', 6), ('Chirashi', 18.99), ('Inari', 3.60), ('Veggie House Roll', 11), ('Broccoli Roll', 7)]"
      ]
    },
    {
      "cell_type": "markdown",
      "metadata": {
        "id": "786zDEMfYYAG"
      },
      "source": [
        "a) (6 pts) Write code below that uses a foreach loop to sum the cost of all the items in ebi_receipt, printing the cost at the end."
      ]
    },
    {
      "cell_type": "code",
      "execution_count": 6,
      "metadata": {
        "id": "YkPnDwkeYn0S",
        "colab": {
          "base_uri": "https://localhost:8080/"
        },
        "outputId": "6600affd-66ab-461f-b744-28e784a3497c"
      },
      "outputs": [
        {
          "output_type": "stream",
          "name": "stdout",
          "text": [
            "The total cost is $46.59\n"
          ]
        }
      ],
      "source": [
        "# TODO\n",
        "\n",
        "ebi_receipt = [('Edamame', 6), ('Chirashi', 18.99), ('Inari', 3.60), ('Veggie House Roll', 11), ('Broccoli Roll', 7)] # Copy the original list to this block\n",
        "total_cost = [] # empty list for each dishes' cost\n",
        "for dishes, cost in ebi_receipt:\n",
        "  if cost >= 0:\n",
        "    total_cost.append(cost)\n",
        "print(\"The total cost is \" + \"$\" + str(sum(total_cost)))"
      ]
    },
    {
      "cell_type": "markdown",
      "metadata": {
        "id": "anOn3kVwm2nY"
      },
      "source": [
        "b) (10 pts) When we went to Ebi Sushi, the bottom of our receipt mentioned different possible tips for different percentages, which is a nice touch.  Write code that uses a iterates through a list of tip percentages *tips* and prints the total tip amount assuming it's applied to variable *total_amount*.\n",
        "\n",
        "For example, if total_amount was 200 and tips were [15, 18, 20], then the output would be\n",
        "\n",
        "15%: 30.0\n",
        "\n",
        "18%: 36.0\n",
        "\n",
        "20%: 40.0\n",
        "\n",
        "Use round(value, 2) to round to two places after the decimal (pennies) in each case.\n",
        "\n"
      ]
    },
    {
      "cell_type": "code",
      "execution_count": 16,
      "metadata": {
        "id": "H7B_oQ_cnnVF",
        "colab": {
          "base_uri": "https://localhost:8080/"
        },
        "outputId": "4dcae8e6-26f8-41e4-ec03-e87a261e8e60"
      },
      "outputs": [
        {
          "output_type": "stream",
          "name": "stdout",
          "text": [
            "15%: 30.0\n",
            "18%: 36.0\n",
            "20%: 40.0\n"
          ]
        }
      ],
      "source": [
        "tips = [15, 18, 20]\n",
        "total_amount = 200\n",
        "\n",
        "# TODO\n",
        "\n",
        "for etips in tips:\n",
        "  print(str(etips) + \"%: \" + str(etips * 0.01 * total_amount))"
      ]
    },
    {
      "cell_type": "markdown",
      "metadata": {
        "id": "6K6_NhKdZQMc"
      },
      "source": [
        "c) (12 pts) The following list notes whether Sandra ('S') or Kevin ('K') ordered each item.  Write code that iterates through the list *who_ordered* of (item, amount, who_purchased) and prints a tuple with (highest individual total, person who had highest total).  For example, on the list *who_ordered* below, the code should print \"27.6, 'S'\".  (The comma between the values is optional.)\n",
        "\n",
        "You'll want to maintain two variables as you iterate through the list, and use a conditional (if/else) to decide which total to add to.  You can assume all the orderer codes are \"S\" or \"K\".  If it's a tie, print 'tie' as the string instead of either orderer.\n",
        "\n"
      ]
    },
    {
      "cell_type": "code",
      "execution_count": null,
      "metadata": {
        "id": "yWDi25leCLKO"
      },
      "outputs": [],
      "source": [
        "who_ordered = [('Edamame', 6, 'S'), ('Chirashi', 18.99, 'K'), ('Inari', 3.60, 'S'), ('Veggie House Roll', 11, 'S'), ('Broccoli Roll', 7, 'S')]\n",
        "\n",
        "# Can set who_ordered to who_ordered2 to test tie functionality\n",
        "\n",
        "who_ordered2 = [(\"thing1\", 5, \"K\"),(\"thing2\",5,\"S\")]"
      ]
    },
    {
      "cell_type": "code",
      "execution_count": 15,
      "metadata": {
        "id": "64gSWMUwaGx5",
        "colab": {
          "base_uri": "https://localhost:8080/"
        },
        "outputId": "58926391-878b-4a14-bd92-45e70d6c7589"
      },
      "outputs": [
        {
          "output_type": "stream",
          "name": "stdout",
          "text": [
            "Highest individual total: 27.6, Sandra\n"
          ]
        }
      ],
      "source": [
        "# TODO\n",
        "\n",
        "who_ordered = [('Edamame', 6, 'S'), ('Chirashi', 18.99, 'K'), ('Inari', 3.60, 'S'), ('Veggie House Roll', 11, 'S'), ('Broccoli Roll', 7, 'S')]\n",
        "sandraOrderList = [] # Create an empty list for Sandra's Order\n",
        "kevinOrderList = [] # Create an empty list for Kevin's Order\n",
        "\n",
        "# A foreach loop to add corresponding items to person's list\n",
        "for ordered_name, price_num, people in who_ordered:\n",
        "  if people == 'S':\n",
        "    sandraOrderList.append(price_num) # Add Sandra's order to the list\n",
        "  else: \n",
        "    kevinOrderList.append(price_num) # Add Kevin's order to the list\n",
        "\n",
        "# Condition list check\n",
        "if sum((sandraOrderList)) > sum((kevinOrderList)):\n",
        "    print('Highest individual total: '+ str(sum(sandraOrderList)) + ', ' + 'Sandra') # Sandra has the highest total\n",
        "elif sum((sandraOrderList)) < sum((kevinOrderList)):\n",
        "    print('Highest individual total: '+ str(sum(kevinOrderList)) + ', ' + 'Kevin') # Kevin has the highest total\n",
        "elif sum((sandraOrderList)) == sum((kevinOrderList)):\n",
        "    print('Since they have the exact same total cost: Tie') # Tie\n"
      ]
    },
    {
      "cell_type": "markdown",
      "metadata": {
        "id": "tzE9xO_Xbg_I"
      },
      "source": [
        "# Problem 2:  Graphing (22 pts: 6, 10, 6)\n",
        "\n",
        "\n",
        "\n",
        "\n"
      ]
    },
    {
      "cell_type": "markdown",
      "metadata": {
        "id": "5DzYB28N6NHp"
      },
      "source": [
        "a, 6 pts) Over the course of 7 days, the average gas price across Massachusetts fluctuates; these prices are given in the *gas_prices* variable.  Plot the prices with a line graph in matplotlib.  (The x axis, day, ranges from 1 to 7.)"
      ]
    },
    {
      "cell_type": "code",
      "execution_count": null,
      "metadata": {
        "id": "ZIgeAavB6yTt",
        "colab": {
          "base_uri": "https://localhost:8080/",
          "height": 265
        },
        "outputId": "7d528fd9-5d34-482c-d7ce-a1e2fe5d3540"
      },
      "outputs": [
        {
          "output_type": "display_data",
          "data": {
            "text/plain": [
              "<Figure size 432x288 with 1 Axes>"
            ],
            "image/png": "[encoded data removed]"
          },
          "metadata": {
            "needs_background": "light"
          }
        }
      ],
      "source": [
        "gas_prices = [4.80, 5.05, 4.90, 5.10, 5.20, 5.15, 5.30]\n",
        "\n",
        "# TODO\n",
        "\n",
        "import matplotlib.pyplot as plt\n",
        "import numpy as np\n",
        "\n",
        "xpoints = np.array([1, 2, 3, 4, 5, 6, 7])\n",
        "ypoints = np.array(gas_prices)\n",
        "\n",
        "plt.plot(xpoints, ypoints)\n",
        "plt.show()"
      ]
    },
    {
      "cell_type": "markdown",
      "metadata": {
        "id": "7JcOaozq8Bek"
      },
      "source": [
        "b, 10pts) Plot the same graph again but with additional trendline in red of y = x/12 + 4.75, plotted as a line graph on top of the original points, which should now be a scatter plot.  (Hint:  You just need two points on the line to plot the line.)"
      ]
    },
    {
      "cell_type": "code",
      "execution_count": 5,
      "metadata": {
        "id": "No84bXQd7POi",
        "colab": {
          "base_uri": "https://localhost:8080/",
          "height": 265
        },
        "outputId": "06cf5c18-9910-416b-a885-de1a22579246"
      },
      "outputs": [
        {
          "output_type": "display_data",
          "data": {
            "text/plain": [
              "<Figure size 432x288 with 1 Axes>"
            ],
            "image/png": "[encoded data removed]"
          },
          "metadata": {
            "needs_background": "light"
          }
        }
      ],
      "source": [
        "# TODO\n",
        "\n",
        "gas_prices = [4.80, 5.05, 4.90, 5.10, 5.20, 5.15, 5.30]\n",
        "\n",
        "import matplotlib.pyplot as plt\n",
        "import numpy as np\n",
        "\n",
        "x1 = np.array([1, 2, 3, 4, 5, 6, 7])\n",
        "y1 = np.array(gas_prices)\n",
        "\n",
        "y2 = x1/12 + 4.75\n",
        "\n",
        "plt.plot(x1, y1, '.')\n",
        "plt.plot(y2, 'r')\n",
        "\n",
        "plt.show()"
      ]
    },
    {
      "cell_type": "markdown",
      "metadata": {
        "id": "ue5ApzHM__FK"
      },
      "source": [
        "c, 6 pts) On a new graph, plot the function $y = 10e^x$ from 0 to 5.  Use np.linspace() to get at least 100 samples, then plot it as a line graph.  Note that you can call 10*numpy.exp(v) on a vector v to get all the y values, but you could instead calculate the y values in a loop if that feels more comfortable."
      ]
    },
    {
      "cell_type": "code",
      "execution_count": 14,
      "metadata": {
        "id": "T8e_Is7PAVx6",
        "colab": {
          "base_uri": "https://localhost:8080/",
          "height": 293
        },
        "outputId": "4d76c850-4bc4-407b-ae73-20f988800b08"
      },
      "outputs": [
        {
          "output_type": "execute_result",
          "data": {
            "text/plain": [
              "[<matplotlib.lines.Line2D at 0x7f8b15e7e350>]"
            ]
          },
          "metadata": {},
          "execution_count": 14
        },
        {
          "output_type": "display_data",
          "data": {
            "text/plain": [
              "<Figure size 432x288 with 1 Axes>"
            ],
            "image/png": "[encoded data removed]"
          },
          "metadata": {
            "needs_background": "light"
          }
        }
      ],
      "source": [
        "# TODO\n",
        "\n",
        "import matplotlib.pyplot as plt\n",
        "import numpy as np\n",
        "import math\n",
        "\n",
        "xpoints = np.linspace(0, 5, 100)\n",
        "ypoints = (10 * math.e) ** xpoints\n",
        "plt.plot(xpoints,ypoints)"
      ]
    },
    {
      "cell_type": "markdown",
      "metadata": {
        "id": "F1Irs2kvDCT0"
      },
      "source": [
        "# Problem 3:  Matrices (10 points)\n",
        "\n",
        "10pts) Find the **product** AB, where A is a 2x100 matrix with all ones in the first row and all zeros in the second row, and B is a 100x2 matrix of all 1's.  Use np.concatenate, np.zeros, and np.ones to create the matrix A, and np.ones to create matrix B.  (Recall an m x n matrix has *m* rows and *n* columns.)"
      ]
    },
    {
      "cell_type": "code",
      "execution_count": 1,
      "metadata": {
        "id": "-KNGwuiIDq5g",
        "colab": {
          "base_uri": "https://localhost:8080/"
        },
        "outputId": "ba182a7c-5cf9-468e-bb49-246647caf698"
      },
      "outputs": [
        {
          "output_type": "stream",
          "name": "stdout",
          "text": [
            "[[100. 100.]\n",
            " [  0.   0.]]\n"
          ]
        }
      ],
      "source": [
        "# TODO\n",
        "\n",
        "import numpy as np\n",
        "\n",
        "A = np.concatenate((np.ones((1, 100)),(np.zeros((1, 100)))))\n",
        "\n",
        "n = 100\n",
        "m = 2\n",
        "B = np.ones((n, m))\n",
        "\n",
        "C = A.dot(B) # product of AB\n",
        "print(C)\n"
      ]
    }
  ],
  "metadata": {
    "colab": {
      "collapsed_sections": [],
      "provenance": []
    },
    "kernelspec": {
      "display_name": "Python 3",
      "language": "python",
      "name": "python3"
    },
    "language_info": {
      "codemirror_mode": {
        "name": "ipython",
        "version": 3
      },
      "file_extension": ".py",
      "mimetype": "text/x-python",
      "name": "python",
      "nbconvert_exporter": "python",
      "pygments_lexer": "ipython3",
      "version": "3.8.8"
    }
  },
  "nbformat": 4,
  "nbformat_minor": 0
}