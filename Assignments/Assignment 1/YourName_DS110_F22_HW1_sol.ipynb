{
 "cells": [
  {
   "cell_type": "markdown",
   "metadata": {
    "id": "t5mfEbDIGzKz"
   },
   "source": [
    "# Homework 1 - 60 points possible - Due 9/19 11:59pm"
   ]
  },
  {
   "cell_type": "markdown",
   "metadata": {
    "id": "r3B-dpH5iZLv"
   },
   "source": [
    "# Problem 1:  Expression warmups (20 pts: 2,2,2,2,4,2,3,3)\n",
    "\n",
    "Compute the following quantities in the code boxes that follow each prompt.\n",
    "Note that for each of these, we care about what the code *evaluates to* and not what it *prints* - so you don't need to call print() for any of these.\n",
    "\n",
    "a) (2 pts) The square of 2022.\n",
    "\n"
   ]
  },
  {
   "cell_type": "code",
   "execution_count": 1,
   "metadata": {
    "colab": {
     "base_uri": "https://localhost:8080/"
    },
    "id": "rEMn_1TbiuB8",
    "outputId": "18f78286-c35a-4f15-da54-837b217d952a"
   },
   "outputs": [
    {
     "data": {
      "text/plain": [
       "4088484"
      ]
     },
     "execution_count": 1,
     "metadata": {},
     "output_type": "execute_result"
    }
   ],
   "source": [
    "2022 * 2022 # (Alternately, 2022 ** 2)"
   ]
  },
  {
   "cell_type": "markdown",
   "metadata": {
    "id": "xxv597ytixjM"
   },
   "source": [
    "b) (2 pts) The number of characters in the phrase \"Try, try again.\"  (Including the whitespace and period.)"
   ]
  },
  {
   "cell_type": "code",
   "execution_count": 2,
   "metadata": {
    "colab": {
     "base_uri": "https://localhost:8080/"
    },
    "id": "uIGdIsgbi_Lb",
    "outputId": "539a4130-a055-4f05-d56a-3932281b8c4f"
   },
   "outputs": [
    {
     "data": {
      "text/plain": [
       "15"
      ]
     },
     "execution_count": 2,
     "metadata": {},
     "output_type": "execute_result"
    }
   ],
   "source": [
    "len(\"Try, try again.\")"
   ]
  },
  {
   "cell_type": "markdown",
   "metadata": {
    "id": "V_fmMh-3ja1o"
   },
   "source": [
    "c) (2 pts) The square root - import the math library - of 289."
   ]
  },
  {
   "cell_type": "code",
   "execution_count": 3,
   "metadata": {
    "colab": {
     "base_uri": "https://localhost:8080/"
    },
    "id": "QM5HsgRIjZ5T",
    "outputId": "a6731f8a-8601-4a74-9dd2-6dca54514fa5"
   },
   "outputs": [
    {
     "data": {
      "text/plain": [
       "17.0"
      ]
     },
     "execution_count": 3,
     "metadata": {},
     "output_type": "execute_result"
    }
   ],
   "source": [
    "import math\n",
    "math.sqrt(289)"
   ]
  },
  {
   "cell_type": "markdown",
   "metadata": {
    "id": "V2Xpw2VuUzSi"
   },
   "source": [
    "d) (2 pts) A Boolean expression that is true only if both variable *a* and variable *b* are True."
   ]
  },
  {
   "cell_type": "code",
   "execution_count": 1,
   "metadata": {
    "colab": {
     "base_uri": "https://localhost:8080/"
    },
    "id": "1KBoX8FhUxgW",
    "outputId": "d1304e51-a931-43a1-9706-359730e16ed5"
   },
   "outputs": [
    {
     "data": {
      "text/plain": "True"
     },
     "execution_count": 1,
     "metadata": {},
     "output_type": "execute_result"
    }
   ],
   "source": [
    "a = True  # play with this to test\n",
    "b = True  # play with this to test\n",
    "# TODO your expression below\n",
    "a and b"
   ]
  },
  {
   "cell_type": "markdown",
   "metadata": {
    "id": "EjOTeZl90KO9"
   },
   "source": [
    "e) (4 pts) A Boolean expression that is true *unless* both variable *a* and variable *b* are True."
   ]
  },
  {
   "cell_type": "code",
   "execution_count": 7,
   "metadata": {
    "colab": {
     "base_uri": "https://localhost:8080/"
    },
    "id": "LOWHYmZ-0JZx",
    "outputId": "81a24a80-419f-4f4d-dc5a-81db30b3de8f"
   },
   "outputs": [
    {
     "data": {
      "text/plain": [
       "True"
      ]
     },
     "execution_count": 7,
     "metadata": {},
     "output_type": "execute_result"
    }
   ],
   "source": [
    "a=False\n",
    "b=True\n",
    "# TODO your expression below\n",
    "not (a and b)"
   ]
  },
  {
   "cell_type": "markdown",
   "metadata": {
    "id": "zoGUTlOjV_7O"
   },
   "source": [
    "f) (2 pts) An expression that is true only if the variable balance is not negative."
   ]
  },
  {
   "cell_type": "code",
   "execution_count": 8,
   "metadata": {
    "colab": {
     "base_uri": "https://localhost:8080/"
    },
    "id": "1wOj7ryvWL05",
    "outputId": "991ea4b9-cfe3-4a64-cdc0-a9da0ef25f9c"
   },
   "outputs": [
    {
     "data": {
      "text/plain": [
       "True"
      ]
     },
     "execution_count": 8,
     "metadata": {},
     "output_type": "execute_result"
    }
   ],
   "source": [
    "balance = 0\n",
    "# TODO your expression below\n",
    "balance >= 0"
   ]
  },
  {
   "cell_type": "markdown",
   "metadata": {
    "id": "mKs8KYCs1LEe"
   },
   "source": [
    "g) (3pts) An expression that is True only if variable *balance* is in the range [0, 10000] (0 through 10000 inclusive)"
   ]
  },
  {
   "cell_type": "code",
   "execution_count": null,
   "metadata": {
    "colab": {
     "base_uri": "https://localhost:8080/"
    },
    "id": "lMEhW2cT1keY",
    "outputId": "12057395-c053-4c3c-cfd3-af188e62258c"
   },
   "outputs": [
    {
     "data": {
      "text/plain": [
       "True"
      ]
     },
     "execution_count": 6,
     "metadata": {
      "tags": []
     },
     "output_type": "execute_result"
    }
   ],
   "source": [
    "balance = 10\n",
    "# TODO expression below\n",
    "(balance >= 0 and balance <= 10000)"
   ]
  },
  {
   "cell_type": "markdown",
   "metadata": {
    "id": "EocUerLnGOGX"
   },
   "source": [
    "h) (3 pts) An expression that is true only if list L is empty (length 0)."
   ]
  },
  {
   "cell_type": "code",
   "execution_count": null,
   "metadata": {
    "id": "QBZPtfqTGcbr"
   },
   "outputs": [],
   "source": [
    "L = [] # An empty list\n",
    "len(L) < 1 # a possibly slicker answer is \"not L\""
   ]
  },
  {
   "cell_type": "markdown",
   "metadata": {
    "id": "zSHlKxeL2Dxi"
   },
   "source": [
    "# Problem 2:  Conditional warmups (20 pts: 6,8,6)"
   ]
  },
  {
   "cell_type": "markdown",
   "metadata": {
    "id": "vnnhP-eg2GaI"
   },
   "source": [
    "Write a brief program for each prompt that makes use of the provided variable current_hour to determine what hour of the day it is.  current_hour can be set to any value between 0 (midnight) and 23 (11pm)."
   ]
  },
  {
   "cell_type": "code",
   "execution_count": 9,
   "metadata": {
    "id": "7INB3vZW2QEZ"
   },
   "outputs": [],
   "source": [
    "current_hour = 12  # change to get different outputs below"
   ]
  },
  {
   "cell_type": "markdown",
   "metadata": {
    "id": "WyUKMhGV3-TV"
   },
   "source": [
    "a) (6 pts) If the current hour is between 6 and 8 inclusive, print \"Breakfast!\".  If the current hour is between 10 and 12 inclusive, print \"Brunch!\"  Otherwise, print \"Not breakfast :(\"."
   ]
  },
  {
   "cell_type": "code",
   "execution_count": null,
   "metadata": {
    "colab": {
     "base_uri": "https://localhost:8080/"
    },
    "id": "0ywaqLMb4Znk",
    "outputId": "ed50f1bc-a54d-4d2a-8fda-6c1d43a779fb"
   },
   "outputs": [
    {
     "name": "stdout",
     "output_type": "stream",
     "text": [
      "Not breakfast :(\n"
     ]
    }
   ],
   "source": [
    "if (current_hour >= 6 and current_hour < 9):\n",
    "  print(\"Breakfast!\")\n",
    "elif (current_hour >= 10 and current_hour <= 12):\n",
    "  print(\"Brunch!\")\n",
    "else:\n",
    "  print(\"Not breakfast :(\")"
   ]
  },
  {
   "cell_type": "markdown",
   "metadata": {
    "id": "ydjGzl3N5FxV"
   },
   "source": [
    "b) (8 points) If the time is equal to or after 10:00pm (22), print \"In two hours, it will be tomorrow.\" Otherwise, print \"In two hours, it will be \" followed by the hour two hours later using non-military time (so between 1 and 12).  (For example, if current_hour were 16, write \"In two hours, it will be 6.\") Be careful about how you handle 10am, which should print 12.\n",
    "\n"
   ]
  },
  {
   "cell_type": "code",
   "execution_count": null,
   "metadata": {
    "colab": {
     "base_uri": "https://localhost:8080/"
    },
    "id": "qCDO8lpj5ENe",
    "outputId": "056b7eef-ef18-4658-b5fc-f478c97db859"
   },
   "outputs": [
    {
     "name": "stdout",
     "output_type": "stream",
     "text": [
      "In two hours, it will be 9\n"
     ]
    }
   ],
   "source": [
    "if current_hour >= 22:\n",
    "  print(\"In two hours, it will be tomorrow.\")\n",
    "elif current_hour >= 11:\n",
    "  print(\"In two hours, it will be \" + str(current_hour + 2 - 12))\n",
    "else:\n",
    "  print(\"In two hours, it will be \" + str(current_hour+2))"
   ]
  },
  {
   "cell_type": "markdown",
   "metadata": {},
   "source": [
    "c) (6 points)  Given another variable \"deadline\", print \"X hours until the deadline\" if current_hour is before or equal to the deadline and \"X hours after the deadline\" if current_hour is larger than the deadline, where X is the correct amount.  For example, if current_hour is 7 and deadline is 14, print \"7 hours until the deadline.\""
   ]
  },
  {
   "cell_type": "code",
   "execution_count": null,
   "metadata": {},
   "outputs": [],
   "source": [
    "deadline = 14\n",
    "if deadline <= current_hour:\n",
    "    print(str(deadline - current_hour) + \" hours until the deadline.\")\n",
    "else:\n",
    "    print(str(current_hour - deadline) + \" hours after the deadline.\")"
   ]
  },
  {
   "cell_type": "markdown",
   "metadata": {
    "id": "4ZCmUSwkr484"
   },
   "source": [
    "# Problem 3: Lists (20 pts: 2,2,3,4,3,3)\n",
    "\n",
    "Some gas prices around the Boston area are 4.99, 5.10, 5.40, and 4.80.\n",
    "\n",
    "a, 2pts) Create a variable named gas_prices that stores all four values as a list."
   ]
  },
  {
   "cell_type": "code",
   "execution_count": 2,
   "metadata": {
    "id": "Ujr6MRQQsX9t"
   },
   "outputs": [],
   "source": [
    "gas_prices = [4.99, 5.10, 5.40, 4.80]"
   ]
  },
  {
   "cell_type": "markdown",
   "metadata": {
    "id": "Yr3TSbbJsoao"
   },
   "source": [
    "b, 2pts) We discovered a new gas station.  Call the list method\n",
    " append() to add the value 4.75 to the end of the list."
   ]
  },
  {
   "cell_type": "code",
   "execution_count": 3,
   "metadata": {
    "colab": {
     "base_uri": "https://localhost:8080/"
    },
    "id": "NqzSEhGfsfiy",
    "outputId": "98ece99e-3989-4e6a-f6d3-f70b394eeacf"
   },
   "outputs": [
    {
     "data": {
      "text/plain": [
       "[4.99, 5.1, 5.4, 4.8, 4.75]"
      ]
     },
     "execution_count": 3,
     "metadata": {},
     "output_type": "execute_result"
    }
   ],
   "source": [
    "gas_prices.append(4.75)\n",
    "gas_prices"
   ]
  },
  {
   "cell_type": "markdown",
   "metadata": {
    "id": "aPVRow22s6mp"
   },
   "source": [
    "c, 3pts) Call the sort() method on the prices, then write an expression that returns the first (zeroth) price in the list."
   ]
  },
  {
   "cell_type": "code",
   "execution_count": 4,
   "metadata": {
    "colab": {
     "base_uri": "https://localhost:8080/"
    },
    "id": "vRM2otpXtOCg",
    "outputId": "aa53d9a4-f80a-4224-b579-57ef368ee21a"
   },
   "outputs": [
    {
     "data": {
      "text/plain": [
       "4.75"
      ]
     },
     "execution_count": 4,
     "metadata": {},
     "output_type": "execute_result"
    }
   ],
   "source": [
    "gas_prices.sort()\n",
    "gas_prices[0]"
   ]
  },
  {
   "cell_type": "markdown",
   "metadata": {
    "id": "2-MkftMYtlgZ"
   },
   "source": [
    "d, 4pts) Code an expression that returns the final element in the list.  Assume you don't know the length of the list - call len() to get this value, or use a method that doesn't rely on knowing the length of the list ahead of time."
   ]
  },
  {
   "cell_type": "code",
   "execution_count": 11,
   "metadata": {
    "colab": {
     "base_uri": "https://localhost:8080/"
    },
    "id": "V1RO8jtHtxnf",
    "outputId": "e3e1221a-dcc0-4c03-c6e0-945cdf9b0b6c"
   },
   "outputs": [
    {
     "data": {
      "text/plain": [
       "5.4"
      ]
     },
     "execution_count": 11,
     "metadata": {},
     "output_type": "execute_result"
    }
   ],
   "source": [
    "gas_prices[len(gas_prices)-1] # Alternately, gas_prices[-1]"
   ]
  },
  {
   "cell_type": "markdown",
   "metadata": {},
   "source": [
    "e, 3pts) Look online for a list method that removes the first (zeroth) item, whatever its value, and returns that value. Do this to gas_prices."
   ]
  },
  {
   "cell_type": "code",
   "execution_count": 5,
   "metadata": {},
   "outputs": [
    {
     "data": {
      "text/plain": [
       "4.75"
      ]
     },
     "execution_count": 5,
     "metadata": {},
     "output_type": "execute_result"
    }
   ],
   "source": [
    "gas_prices.pop(0)"
   ]
  },
  {
   "cell_type": "markdown",
   "metadata": {},
   "source": [
    "f, 3 pts) Here is a list-of-lists \"prices\" containing gas prices by the gallon in the first list, and milk prices by the gallon in the second list.  Write the expression that accesses the first (zeroth) milk price."
   ]
  },
  {
   "cell_type": "code",
   "execution_count": 2,
   "metadata": {},
   "outputs": [],
   "source": [
    "prices = [[4.99, 5.10, 5.40, 4.80], # gas prices\n",
    "          [2.90, 3.04, 3.32, 3.55]] # milk prices"
   ]
  },
  {
   "cell_type": "code",
   "execution_count": 3,
   "metadata": {},
   "outputs": [
    {
     "data": {
      "text/plain": [
       "2.9"
      ]
     },
     "execution_count": 3,
     "metadata": {},
     "output_type": "execute_result"
    }
   ],
   "source": [
    "prices[1][0]"
   ]
  },
  {
   "cell_type": "markdown",
   "metadata": {},
   "source": [
    "g, 3pts) Use the function max() to find the largest *milk* price.  (Index just once into prices, to get the milk list.)"
   ]
  },
  {
   "cell_type": "code",
   "execution_count": 6,
   "metadata": {},
   "outputs": [
    {
     "data": {
      "text/plain": [
       "3.55"
      ]
     },
     "execution_count": 6,
     "metadata": {},
     "output_type": "execute_result"
    }
   ],
   "source": [
    "max(prices[1])"
   ]
  }
 ],
 "metadata": {
  "colab": {
   "collapsed_sections": [],
   "name": "YourName_DS110_F22_HW1_sol.ipynb",
   "provenance": []
  },
  "kernelspec": {
   "display_name": "Python 3",
   "language": "python",
   "name": "python3"
  },
  "language_info": {
   "codemirror_mode": {
    "name": "ipython",
    "version": 3
   },
   "file_extension": ".py",
   "mimetype": "text/x-python",
   "name": "python",
   "nbconvert_exporter": "python",
   "pygments_lexer": "ipython3",
   "version": "3.8.8"
  }
 },
 "nbformat": 4,
 "nbformat_minor": 1
}
