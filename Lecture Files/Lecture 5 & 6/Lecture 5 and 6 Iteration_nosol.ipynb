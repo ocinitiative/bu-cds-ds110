{
 "cells": [
  {
   "cell_type": "markdown",
   "metadata": {
    "slideshow": {
     "slide_type": "slide"
    }
   },
   "source": [
    "# Iteration"
   ]
  },
  {
   "cell_type": "markdown",
   "metadata": {
    "id": "pf5VVkHdcGCP",
    "slideshow": {
     "slide_type": "slide"
    }
   },
   "source": [
    "# For loops\n",
    "\n",
    "It's quite common in data science that we want to go through a list and perform some computation on each element.  \n",
    "\n",
    "Python provides the \"for\" loop for this purpose.  For loops use indentation to signal what is to be repeated.  A list is provided to the loop, and it will execute its indented body once per item in the list."
   ]
  },
  {
   "cell_type": "code",
   "execution_count": null,
   "metadata": {
    "slideshow": {
     "slide_type": "-"
    }
   },
   "outputs": [],
   "source": [
    "people = ['Alice', 'Bob', 'Che']\n",
    "for person in people:\n",
    "    print('Hooray for ' + person + '!')"
   ]
  },
  {
   "cell_type": "markdown",
   "metadata": {
    "slideshow": {
     "slide_type": "slide"
    }
   },
   "source": [
    "We could \"unroll\" this loop and write out code that achieves the same effect but doesn't use a loop.  The loop code was easier to maintain; notice how we'd need to change the message in 3 places if we wanted to change it."
   ]
  },
  {
   "cell_type": "code",
   "execution_count": null,
   "metadata": {
    "slideshow": {
     "slide_type": "-"
    }
   },
   "outputs": [],
   "source": [
    "person = 'Alice'\n",
    "print('Hooray for ' + person + '!')\n",
    "person = 'Bob'\n",
    "print('Hooray for ' + person + '!')\n",
    "person = 'Che'\n",
    "print('Hooray for ' + person + '!')"
   ]
  },
  {
   "cell_type": "markdown",
   "metadata": {
    "slideshow": {
     "slide_type": "slide"
    }
   },
   "source": [
    "Here's an iteration over a list of numbers."
   ]
  },
  {
   "cell_type": "code",
   "execution_count": null,
   "metadata": {},
   "outputs": [],
   "source": [
    "my_grades = [4, 3, 2, 3, 4]\n",
    "for g in my_grades:\n",
    "    if g == 4:\n",
    "        print('A')\n",
    "    elif g == 3:\n",
    "        print('B')\n",
    "    elif g == 2:\n",
    "        print('C')"
   ]
  },
  {
   "cell_type": "markdown",
   "metadata": {
    "slideshow": {
     "slide_type": "slide"
    }
   },
   "source": [
    "In the next example, a variable stores a running total that is updated with every iteration of the loop.  In the end, the running total is the sum of all the numbers."
   ]
  },
  {
   "cell_type": "code",
   "execution_count": null,
   "metadata": {
    "slideshow": {
     "slide_type": "slide"
    }
   },
   "outputs": [],
   "source": [
    "running_total = 0\n",
    "numbers = [1,2,3,4,10]\n",
    "for n in numbers:\n",
    "    running_total = running_total + n  # Could be abbreviated running_total += n\n",
    "    print('Sum so far: ' + str(running_total))\n",
    "print('Sum: ' + str(running_total))"
   ]
  },
  {
   "cell_type": "markdown",
   "metadata": {
    "slideshow": {
     "slide_type": "slide"
    }
   },
   "source": [
    "This example is similar, but calculates an average."
   ]
  },
  {
   "cell_type": "code",
   "execution_count": null,
   "metadata": {
    "colab": {
     "base_uri": "https://localhost:8080/"
    },
    "id": "4YPMCb-ScAxL",
    "outputId": "53cd2a1b-6f5e-4643-dee0-1009de49ac00",
    "scrolled": true,
    "slideshow": {
     "slide_type": "-"
    }
   },
   "outputs": [],
   "source": [
    "my_numbers = [0, 5, 10, 15]\n",
    "my_total = 0\n",
    "for number in my_numbers: # number is 0, then 5, then 10, then 15\n",
    "  print(number)\n",
    "  my_total += number # +=: shorthand for my_total = my_total + number\n",
    "print(\"Average: \" + str(my_total / len(my_numbers)))"
   ]
  },
  {
   "cell_type": "markdown",
   "metadata": {
    "slideshow": {
     "slide_type": "slide"
    }
   },
   "source": [
    "It's common to do some computation on each element of the list that results in a new list.  We can initialize a variable to an empty list before the computation gets started, and then call append() to add to the contents of the list on each iteration."
   ]
  },
  {
   "cell_type": "code",
   "execution_count": null,
   "metadata": {
    "slideshow": {
     "slide_type": "-"
    }
   },
   "outputs": [],
   "source": [
    "my_grades = [4, 3, 2, 3, 4]\n",
    "letter_grades = []\n",
    "for g in my_grades:\n",
    "    if g == 4:\n",
    "        letter_grades.append('A')\n",
    "    elif g == 3:\n",
    "        letter_grades.append('B')\n",
    "    elif g == 2:\n",
    "        letter_grades.append('C')\n",
    "print(letter_grades)"
   ]
  },
  {
   "cell_type": "markdown",
   "metadata": {
    "slideshow": {
     "slide_type": "slide"
    }
   },
   "source": [
    "If a list of tuples is iterated over in a for loop, you can split the tuple so that its parts are assigned to different variables."
   ]
  },
  {
   "cell_type": "code",
   "execution_count": null,
   "metadata": {
    "slideshow": {
     "slide_type": "-"
    }
   },
   "outputs": [],
   "source": [
    "my_movies = [(\"No\", 4), (\"Rogue One\", 4.5), (\"Casablanca\", 5)]\n",
    "for moviename, stars in my_movies:  # Notice the two variable names\n",
    "    print ('I would rate ' + str(moviename) + ' ' + str(stars) + ' stars')"
   ]
  },
  {
   "cell_type": "markdown",
   "metadata": {
    "slideshow": {
     "slide_type": "slide"
    }
   },
   "source": [
    "You could assign each whole tuple to a variable and then index to get each part, but this is just a bit less readable."
   ]
  },
  {
   "cell_type": "code",
   "execution_count": null,
   "metadata": {
    "slideshow": {
     "slide_type": "-"
    }
   },
   "outputs": [],
   "source": [
    "my_movies = [(\"No\", 4), (\"Rogue One\", 4.5), (\"Casablanca\", 5)]\n",
    "for movietuple in my_movies:  # Notice the two variable names\n",
    "    print ('I would rate ' + str(movietuple[0]) + ' ' + str(movietuple[1]) + ' stars')"
   ]
  },
  {
   "cell_type": "markdown",
   "metadata": {
    "id": "CUSunSP-fBMC",
    "slideshow": {
     "slide_type": "slide"
    }
   },
   "source": [
    "The next example shows how iteration can be used to find a tuple with a maximum value in a list.  We maintain a variable for the best value seen so far, and compare each new value to the best so far, having the new value take the place of the old when the old value gets beat.  If we want to remember other information about the winner so far, we need to update a variable with that information, too."
   ]
  },
  {
   "cell_type": "code",
   "execution_count": null,
   "metadata": {
    "colab": {
     "base_uri": "https://localhost:8080/"
    },
    "id": "3JBzLkpEfSN_",
    "outputId": "ee7bf450-af96-45c6-8421-ca8b44c927d3",
    "slideshow": {
     "slide_type": "-"
    }
   },
   "outputs": [],
   "source": [
    "my_movies = [(\"No\", 4), (\"Rogue One\", 4.5), (\"Casablanca\", 5)]\n",
    "\n",
    "best_rating = 0 # Initialize with a value that is definitely beat\n",
    "best_movie = \"none\"\n",
    "for movie, rating in my_movies:\n",
    "  if rating > best_rating:\n",
    "    best_rating = rating\n",
    "    best_movie = movie\n",
    "\n",
    "print(\"Best movie: \" + best_movie + \"...rating = \" + str(best_rating))"
   ]
  },
  {
   "cell_type": "markdown",
   "metadata": {
    "slideshow": {
     "slide_type": "slide"
    }
   },
   "source": [
    "Another thing we can do by iterating through a list is filter the list, creating a new list that only contains elements that satisfy some criterion.  We can do this by creating a new empty list, and only copying over the values we want."
   ]
  },
  {
   "cell_type": "code",
   "execution_count": null,
   "metadata": {
    "slideshow": {
     "slide_type": "-"
    }
   },
   "outputs": [],
   "source": [
    "my_movies = [(\"No\", 4), (\"Rogue One\", 4.5), (\"Casablanca\", 5), (\"The Great Escape\", 3), (\"Cats\", 1)]\n",
    "\n",
    "good_movies = []\n",
    "for movie, stars in my_movies:\n",
    "    if stars >= 4:\n",
    "        good_movies.append((movie, stars))\n",
    "print(good_movies)"
   ]
  },
  {
   "cell_type": "markdown",
   "metadata": {
    "slideshow": {
     "slide_type": "slide"
    }
   },
   "source": [
    "# Exercise\n",
    "\n",
    "The list below contains tuples of (Star Wars movie name, Rotten Tomatoes score).  Produce a list (using .append() and a foreach loop) that contains only the titles of movies that scored 80 or above."
   ]
  },
  {
   "cell_type": "code",
   "execution_count": null,
   "metadata": {
    "slideshow": {
     "slide_type": "-"
    }
   },
   "outputs": [],
   "source": [
    "sw_movies = [('The Phantom Menace', 52),\n",
    "('Attack of the Clones', 65),\n",
    "('Revenge of the Sith', 80),\n",
    "('Rogue One', 84),\n",
    "('Solo', 70),\n",
    "('Star Wars', 92),\n",
    "('The Empire Strikes Back',94),\n",
    "('Return of the Jedi', 82),\n",
    "('The Force Awakens', 93),\n",
    "('The Last Jedi', 90),\n",
    "('The Rise of Skywalker', 51)]"
   ]
  },
  {
   "cell_type": "code",
   "execution_count": null,
   "metadata": {
    "slideshow": {
     "slide_type": "slide"
    }
   },
   "outputs": [],
   "source": [
    "# TODO"
   ]
  },
  {
   "cell_type": "markdown",
   "metadata": {
    "id": "pKU9lFPYhr6e",
    "slideshow": {
     "slide_type": "slide"
    }
   },
   "source": [
    "# For and range"
   ]
  },
  {
   "cell_type": "markdown",
   "metadata": {
    "id": "sZbcjJ4Dhle2",
    "slideshow": {
     "slide_type": "-"
    }
   },
   "source": [
    "Sometimes you don't want to tie your iteration to a list - you just want to do something n times.  To do this, iterate over range(n), where n is the number of times you want to iterate. "
   ]
  },
  {
   "cell_type": "code",
   "execution_count": null,
   "metadata": {
    "colab": {
     "base_uri": "https://localhost:8080/"
    },
    "id": "zxWMn7ajiodm",
    "outputId": "0c9103b4-c594-4e0c-fab9-9b38e19fee7a",
    "slideshow": {
     "slide_type": "slide"
    }
   },
   "outputs": [],
   "source": [
    "for i in range(5):\n",
    "  print (\"Iteration \" + str(i))"
   ]
  },
  {
   "cell_type": "markdown",
   "metadata": {
    "slideshow": {
     "slide_type": "-"
    }
   },
   "source": [
    "The number that is bound to your iterator variable will start at 0 but will not actually hit n, with n-1 the last value used for an iteration.  Counting from zero is a common computer science practice, and we get n iterations by counting zero and not counting n.\n",
    "\n",
    "Incidentally, range() isn't a list but a *generator*, a kind of function that returns a value whenever it's asked for one.  It doesn't bother to store all n numbers ahead of time."
   ]
  },
  {
   "cell_type": "markdown",
   "metadata": {
    "slideshow": {
     "slide_type": "slide"
    }
   },
   "source": [
    "range() can start from a number that isn't 0, as long as you supply two arguments, where the first argument is the starting number and the second is one more than the last number you want in the sequence."
   ]
  },
  {
   "cell_type": "code",
   "execution_count": null,
   "metadata": {
    "slideshow": {
     "slide_type": "-"
    }
   },
   "outputs": [],
   "source": [
    "for i in range (1,6):\n",
    "    print(i)"
   ]
  },
  {
   "cell_type": "markdown",
   "metadata": {
    "slideshow": {
     "slide_type": "slide"
    }
   },
   "source": [
    "The number generated by range can be used to index into a list.\n",
    "\n"
   ]
  },
  {
   "cell_type": "code",
   "execution_count": null,
   "metadata": {
    "slideshow": {
     "slide_type": "-"
    }
   },
   "outputs": [],
   "source": [
    "my_itinerary = ['Boston', 'Atlanta', 'LA', 'Seattle']\n",
    "for idx in range(len(my_itinerary)):\n",
    "    print(my_itinerary[idx])"
   ]
  },
  {
   "cell_type": "markdown",
   "metadata": {
    "slideshow": {
     "slide_type": "slide"
    }
   },
   "source": [
    "Normally we'd iterate with a straightforward for loop, but it's sometimes handy to know the index of a value in a list."
   ]
  },
  {
   "cell_type": "code",
   "execution_count": null,
   "metadata": {
    "slideshow": {
     "slide_type": "-"
    }
   },
   "outputs": [],
   "source": [
    "my_itinerary = ['Boston', 'Atlanta', 'LA', 'Seattle']\n",
    "for idx in range(len(my_itinerary)-1):  # Avoid indexing out of bounds\n",
    "    print(my_itinerary[idx] + '-' + my_itinerary[idx+1])"
   ]
  },
  {
   "cell_type": "markdown",
   "metadata": {
    "slideshow": {
     "slide_type": "slide"
    }
   },
   "source": [
    "Here is some code that answers the pressing question of which two *consecutive* Star Wars movies had the highest total rating.  (Consecutive in the list and in the movies' timeline, not release date.)"
   ]
  },
  {
   "cell_type": "code",
   "execution_count": null,
   "metadata": {
    "slideshow": {
     "slide_type": "-"
    }
   },
   "outputs": [],
   "source": [
    "best_pair = (None, None)\n",
    "best_rating_total = 0\n",
    "for idx in range(len(sw_movies)-1):\n",
    "    rating_total = sw_movies[idx][1] + sw_movies[idx+1][1] # [1] is the rating\n",
    "    if rating_total > best_rating_total:\n",
    "        best_rating_total = rating_total\n",
    "        best_pair = (sw_movies[idx], sw_movies[idx+1])\n",
    "print(best_pair)"
   ]
  },
  {
   "cell_type": "markdown",
   "metadata": {
    "slideshow": {
     "slide_type": "slide"
    }
   },
   "source": [
    "# Exercise\n",
    "\n",
    "Print \"Hello!\" 3 times in a loop.  Then modify your code so that it prints \"Hello 1\", \"Hello 2\", then \"Hello 3\"."
   ]
  },
  {
   "cell_type": "code",
   "execution_count": null,
   "metadata": {
    "slideshow": {
     "slide_type": "slide"
    }
   },
   "outputs": [],
   "source": [
    "# TODO"
   ]
  },
  {
   "cell_type": "markdown",
   "metadata": {
    "slideshow": {
     "slide_type": "-"
    }
   },
   "source": [
    "Or, another way to do it:"
   ]
  },
  {
   "cell_type": "code",
   "execution_count": null,
   "metadata": {
    "slideshow": {
     "slide_type": "-"
    }
   },
   "outputs": [],
   "source": [
    "# OPTIONAL TODO"
   ]
  },
  {
   "cell_type": "markdown",
   "metadata": {
    "slideshow": {
     "slide_type": "slide"
    }
   },
   "source": [
    "# Break\n",
    "\n",
    "Sometimes it makes sense to quit early from a loop - maybe we were searching through a list for something and we found it, for example.  A break statement, if reached, immediately breaks out of the current loop and continues executing after the end of the loop."
   ]
  },
  {
   "cell_type": "code",
   "execution_count": null,
   "metadata": {
    "slideshow": {
     "slide_type": "-"
    }
   },
   "outputs": [],
   "source": [
    "for movie, rating in sw_movies:\n",
    "    if movie == 'Rogue One':\n",
    "        print('The rating of Rogue One is ' + str(rating))\n",
    "        break  # We don't need to look at any other entries"
   ]
  },
  {
   "cell_type": "markdown",
   "metadata": {
    "slideshow": {
     "slide_type": "slide"
    }
   },
   "source": [
    "We can see that the movies after Rogue One aren't iterated through if we print out the movies as we iterate through them."
   ]
  },
  {
   "cell_type": "code",
   "execution_count": null,
   "metadata": {
    "slideshow": {
     "slide_type": "-"
    }
   },
   "outputs": [],
   "source": [
    "for movie, rating in sw_movies:\n",
    "    print('Looking at ' + movie)\n",
    "    if movie == 'Rogue One':\n",
    "        print('The rating of Rogue One is ' + str(rating))\n",
    "        break  # We don't need to look at any other entries\n",
    "print('Done')"
   ]
  },
  {
   "cell_type": "markdown",
   "metadata": {
    "slideshow": {
     "slide_type": "slide"
    }
   },
   "source": [
    "There's often a way to structure the code such that a break isn't necessary.  It's considered a little stylistically bad to use a break when there's a way not to use a break.  But it's good to know break exists, since it does come up sometimes."
   ]
  },
  {
   "cell_type": "markdown",
   "metadata": {},
   "source": [
    "# Day 2"
   ]
  },
  {
   "cell_type": "markdown",
   "metadata": {
    "id": "IiQ-bK_vjBjZ",
    "slideshow": {
     "slide_type": "slide"
    }
   },
   "source": [
    "# While loops\n",
    "\n",
    "Sometimes you want to iterate until some condition is met or not met, as opposed to the for loop's iterating once per item in a list.  This is where while loops come in.   They're more general than foreach loops, but they risk running forever if you have a bug.  The loop ends once the condition is not true.\n"
   ]
  },
  {
   "cell_type": "code",
   "execution_count": null,
   "metadata": {
    "colab": {
     "base_uri": "https://localhost:8080/"
    },
    "id": "x8u48oOnj2ks",
    "outputId": "68837d54-70dc-4a1b-a3f0-78d6f24a6aa6",
    "slideshow": {
     "slide_type": "-"
    }
   },
   "outputs": [],
   "source": [
    "i = 5\n",
    "while i > 0:\n",
    "  print(i)\n",
    "  i = i - 1 # Can be abbreviated i -= 1\n",
    "print('Final value of i: ' + str(i))"
   ]
  },
  {
   "cell_type": "markdown",
   "metadata": {
    "slideshow": {
     "slide_type": "slide"
    }
   },
   "source": [
    "Without the update to i, the code would run forever.  (At least, it would run until we killed it.)"
   ]
  },
  {
   "cell_type": "code",
   "execution_count": null,
   "metadata": {
    "slideshow": {
     "slide_type": "-"
    }
   },
   "outputs": [],
   "source": [
    "i = 5\n",
    "while i > 0:  # Runs forever if nothing decrements i\n",
    "  print(i)"
   ]
  },
  {
   "cell_type": "markdown",
   "metadata": {
    "slideshow": {
     "slide_type": "slide"
    }
   },
   "source": [
    "It's important while writing a while loop to know how you expect to get closer to termination (the end of the loop) each time.  A least one line in the loop must advance toward the loop quitting.  Often, this could just be a line advancing a numerical counter."
   ]
  },
  {
   "cell_type": "code",
   "execution_count": null,
   "metadata": {
    "slideshow": {
     "slide_type": "-"
    }
   },
   "outputs": [],
   "source": [
    "i = 0\n",
    "while i <= 20:\n",
    "    print(i)\n",
    "    i += 2"
   ]
  },
  {
   "cell_type": "markdown",
   "metadata": {
    "slideshow": {
     "slide_type": "slide"
    }
   },
   "source": [
    "The next example shows how a list can act as the \"todo list\" for a while loop.  The pop() method removes the last element of a list and returns it.  Here, by calling pop() on every iteration, we know we'll eventually have an empty list and the code will terminate."
   ]
  },
  {
   "cell_type": "code",
   "execution_count": null,
   "metadata": {
    "slideshow": {
     "slide_type": "-"
    }
   },
   "outputs": [],
   "source": [
    "list1 = ['a','b','c','d','e']\n",
    "reversed = \"\"\n",
    "# For simplicity, assume the lists are the same length\n",
    "while (len(list1) > 0): \n",
    "    reversed += list1.pop()  # pop() removes the last element and returns it\n",
    "print(reversed)"
   ]
  },
  {
   "cell_type": "markdown",
   "metadata": {
    "slideshow": {
     "slide_type": "slide"
    }
   },
   "source": [
    "If you want to iterate down a list with a while loop, you should first double-check that it wouldn't be more elegant to use a for loop.  If you still want to do this iteration, you can use a variable as a counter that indexes into the list.  You have to advance this counter yourself, and also check in the condition that you don't go past the end of the list.  (So this example needs two termination conditions:  finding the greater than 10 item, or reaching the end of the list if the list didn't have what we were looking for.)"
   ]
  },
  {
   "cell_type": "code",
   "execution_count": null,
   "metadata": {
    "slideshow": {
     "slide_type": "-"
    }
   },
   "outputs": [],
   "source": [
    "my_list = [9, 4, 3, 7, 10, 12, 9]\n",
    "\n",
    "# Find the first value that is greater than 10\n",
    "index = 0\n",
    "while (index < len(my_list) and my_list[index] <= 10):\n",
    "    index += 1\n",
    "if (index < len(my_list)):\n",
    "    print(my_list[index])\n",
    "else:\n",
    "    print('not found')"
   ]
  },
  {
   "cell_type": "markdown",
   "metadata": {
    "slideshow": {
     "slide_type": "slide"
    }
   },
   "source": [
    "Here is very similar code, but with a for loop.  To get the effect of quitting the loop immediately that we have with the while loop, we introduce the \"break\" keyword, which quits a loop immediately and moves on.  We also have a special value NOT_FOUND that can signal whether large_item was ever updated."
   ]
  },
  {
   "cell_type": "code",
   "execution_count": null,
   "metadata": {
    "slideshow": {
     "slide_type": "-"
    }
   },
   "outputs": [],
   "source": [
    "NOT_FOUND = -1\n",
    "large_item = NOT_FOUND\n",
    "for item in my_list:\n",
    "    if item > 10:\n",
    "        large_item = item\n",
    "        break  # A keyword that means end the loop immediately\n",
    "if large_item == NOT_FOUND:\n",
    "    print('not found')\n",
    "else:\n",
    "    print(large_item)"
   ]
  },
  {
   "cell_type": "markdown",
   "metadata": {
    "slideshow": {
     "slide_type": "slide"
    }
   },
   "source": [
    "It's also possible to write a while loop where the condition is just set to True, so it never terminates \"normally.\"  A break statement can finally get out of the loop when a termination condition is met.  If you want to be sure the while loop executes at least once, you can use this pattern.  It's commonly used while getting input from a user - you need to prompt at least once, but may need to prompt again on bad input. "
   ]
  },
  {
   "cell_type": "code",
   "execution_count": null,
   "metadata": {
    "slideshow": {
     "slide_type": "-"
    }
   },
   "outputs": [],
   "source": [
    "while (True):\n",
    "    name = input('What is your name? ') # Get name string from the user\n",
    "    if (name != 'Bob'):\n",
    "        break # Successfully set name, don't ask anymore.\n",
    "    print('Pick a name other than \"Bob\".')"
   ]
  },
  {
   "cell_type": "markdown",
   "metadata": {
    "slideshow": {
     "slide_type": "slide"
    }
   },
   "source": [
    "# Exercise\n",
    "\n",
    "Write a while loop that prints squares of numbers (1, 4, 9, ...) until the square would be greater than 1000.  (Recall that you can square a value *n* by writing *n ** 2*.)"
   ]
  },
  {
   "cell_type": "code",
   "execution_count": null,
   "metadata": {
    "slideshow": {
     "slide_type": "slide"
    }
   },
   "outputs": [],
   "source": [
    "# TODO"
   ]
  },
  {
   "cell_type": "markdown",
   "metadata": {
    "id": "OZMehbskkpON",
    "slideshow": {
     "slide_type": "slide"
    }
   },
   "source": [
    "# Nested loops\n",
    "\n",
    "Loops may need to be nested within each other.  Every iteration through the outer loop results in executing the full set of iterations for the inner loop.  One use for this is generating all the different combinations of values from different lists."
   ]
  },
  {
   "cell_type": "code",
   "execution_count": null,
   "metadata": {
    "slideshow": {
     "slide_type": "-"
    }
   },
   "outputs": [],
   "source": [
    "letters = ['a', 'b', 'c']\n",
    "numbers = [1, 2, 3]\n",
    "for l in letters:\n",
    "    print('beginning letter ' + l)\n",
    "    for n in numbers:\n",
    "        print(l + str(n))"
   ]
  },
  {
   "cell_type": "markdown",
   "metadata": {
    "slideshow": {
     "slide_type": "slide"
    }
   },
   "source": [
    "Another use case for nested loops is if you have a list-of-lists to iterate over.  Hitting every element requires iterating over the lists in the list-of-lists in the outer loop, and iterating over the list you got from that iteration for the inner loop."
   ]
  },
  {
   "cell_type": "code",
   "execution_count": null,
   "metadata": {
    "colab": {
     "base_uri": "https://localhost:8080/"
    },
    "id": "iVeSwNQDlLAM",
    "outputId": "9e88888c-5f7d-48d1-d02a-04234ce5ad3d",
    "slideshow": {
     "slide_type": "-"
    }
   },
   "outputs": [],
   "source": [
    "# Sum each list in my_lists\n",
    "my_lists = [[1, 2, 3], [4,5,6], [7,8,9]]\n",
    "\n",
    "my_totals = [] # empty list\n",
    "for l in my_lists:\n",
    "  print('new list')\n",
    "  listsum = 0\n",
    "  for l2 in l: # iterating over the list we got from the outer foreach\n",
    "    print('adding ' + str(l2))\n",
    "    listsum += l2\n",
    "  my_totals.append(listsum)\n",
    "print('List sums:' )\n",
    "my_totals"
   ]
  },
  {
   "cell_type": "markdown",
   "metadata": {
    "slideshow": {
     "slide_type": "slide"
    }
   },
   "source": [
    "Iterating over a 2D array is similar.  We can do something with every item in the array if we create every possible combination of indices into the 2D array - usually with range()."
   ]
  },
  {
   "cell_type": "code",
   "execution_count": null,
   "metadata": {
    "slideshow": {
     "slide_type": "-"
    }
   },
   "outputs": [],
   "source": [
    "import numpy as np\n",
    "\n",
    "my_array = np.array([[1,2,3],[4,5,6],[7,8,9]]) # 3x3 matrix\n",
    "sum = 0\n",
    "for row in range(3):\n",
    "    for col in range(3):\n",
    "        sum += my_array[row,col]\n",
    "        print('adding row ' + str(row) + ', col ' + str(col))\n",
    "print(sum)"
   ]
  },
  {
   "cell_type": "markdown",
   "metadata": {
    "slideshow": {
     "slide_type": "slide"
    }
   },
   "source": [
    "# Exercise\n",
    "\n",
    "Write a nested for loop that individually prints every string in the following list-of-lists."
   ]
  },
  {
   "cell_type": "code",
   "execution_count": null,
   "metadata": {
    "slideshow": {
     "slide_type": "-"
    }
   },
   "outputs": [],
   "source": [
    "my_strings = [[\"three\", \"blind\", \"mice\"],[\"happily\",\"ever\",\"after\"],[\"no\", \"free\", \"lunch\"]]"
   ]
  },
  {
   "cell_type": "code",
   "execution_count": null,
   "metadata": {
    "slideshow": {
     "slide_type": "slide"
    }
   },
   "outputs": [],
   "source": [
    "# TODO"
   ]
  },
  {
   "cell_type": "markdown",
   "metadata": {
    "id": "7WRLnXMJKacL",
    "slideshow": {
     "slide_type": "slide"
    }
   },
   "source": [
    "It's also possible for two for loops to iterate over the same list in a nested fashion.  This lets you iterate over every possible sequence of two items from the list.\n",
    "\n",
    "For example, if we have a Chess tournament and want to list every possible matchup including who plays white:"
   ]
  },
  {
   "cell_type": "code",
   "execution_count": null,
   "metadata": {
    "colab": {
     "base_uri": "https://localhost:8080/"
    },
    "id": "9Hdm5LutKyDt",
    "outputId": "ce70388a-7ca5-4ef4-f5a6-b7a8fa6403c5",
    "slideshow": {
     "slide_type": "-"
    }
   },
   "outputs": [],
   "source": [
    "print('Possible matchups:')\n",
    "players = ['Alice', 'Bobby', 'Caspar', 'Dmitri', 'Eve']\n",
    "for white_player in players:\n",
    "  for black_player in players:\n",
    "    print(\"White: \" + white_player + \"; Black player: \" + black_player)"
   ]
  },
  {
   "cell_type": "markdown",
   "metadata": {
    "id": "AZ_KPvt_Luzm",
    "slideshow": {
     "slide_type": "slide"
    }
   },
   "source": [
    "There's a slight bug in this code, because players shouldn't be able to play themselves.  But it's often okay to try a first pass at a program, then see what needs fixing.  **Make it run, then make it right, then make it fast** is an old programmer saying that I like.  Get a prototype that mostly works running, then clear out the bugs and get it working for corner cases, and only then worry about speed (which we won't worry about for a while).\n",
    "\n",
    "So, how do we *not* print \"Alice-Alice\" and so forth?"
   ]
  },
  {
   "cell_type": "code",
   "execution_count": null,
   "metadata": {
    "id": "-HxNH2VcMSHj",
    "slideshow": {
     "slide_type": "slide"
    }
   },
   "outputs": [],
   "source": [
    "print('Possible matchups:')\n",
    "players = ['Alice', 'Bobby', 'Caspar', 'Dmitri', 'Eve']\n",
    "for white_player in players:\n",
    "  for black_player in players:\n",
    "    if not white_player == black_player:\n",
    "        print(\"White: \" + white_player + \"; Black player: \" + black_player)"
   ]
  },
  {
   "cell_type": "markdown",
   "metadata": {
    "id": "c7wfArL-MXdQ",
    "slideshow": {
     "slide_type": "slide"
    }
   },
   "source": [
    "We could go further and say that we only want to print the possible pairs ignoring who plays what color; so if we list Alice-Eve, we shouldn't also list Eve-Alice.  The idea is to not have the innermost loop start at the beginning, but have it instead start after the index of the outer loop.  In this way, only pairs (i,j) where j > i are produced; (i,j) for i > j is never encountered."
   ]
  },
  {
   "cell_type": "code",
   "execution_count": null,
   "metadata": {
    "colab": {
     "base_uri": "https://localhost:8080/"
    },
    "id": "7Y-JcOe3NGr1",
    "outputId": "08c497ee-4072-4056-c362-59aa5de7569b",
    "slideshow": {
     "slide_type": "-"
    }
   },
   "outputs": [],
   "source": [
    "listlen = len(players)\n",
    "for player in range(listlen):\n",
    "  for player2 in range(player+1,listlen): # Notice player+1 argument for starting point\n",
    "    print(players[player] + \"-\" + players[player2])"
   ]
  },
  {
   "cell_type": "markdown",
   "metadata": {
    "slideshow": {
     "slide_type": "slide"
    }
   },
   "source": [
    "We can illustrate which pairs are being evaluated and which not by executing the same logic on a 2D array.  Only one side of the diagonal is filled with 1's; these are the values for which i < j.  So given any i and j with i < j, entry (i,j) gets acted on but (j,i) doesn't."
   ]
  },
  {
   "cell_type": "code",
   "execution_count": null,
   "metadata": {
    "slideshow": {
     "slide_type": "-"
    }
   },
   "outputs": [],
   "source": [
    "n = 5\n",
    "my_grid = np.zeros((n,n))  # Create n x n grid of zeros\n",
    "for row in range(n):\n",
    "    for col in range(row+1,n): # Start setting to 1 after the i=j entry on diagonal\n",
    "        my_grid[row,col] = 1\n",
    "print(my_grid)"
   ]
  },
  {
   "cell_type": "markdown",
   "metadata": {
    "slideshow": {
     "slide_type": "slide"
    }
   },
   "source": [
    "But most of the time, nested loops aren't so fancy and iterate through all possible combinations of their lists."
   ]
  },
  {
   "cell_type": "code",
   "execution_count": null,
   "metadata": {
    "slideshow": {
     "slide_type": "-"
    }
   },
   "outputs": [],
   "source": [
    "n = 5\n",
    "my_grid = np.zeros((n,n))  # Create n x n grid of zeros\n",
    "for i in range(n):  # Each row \n",
    "    for j in range(n):  # Each column\n",
    "        my_grid[i,j] = 1\n",
    "print(my_grid)"
   ]
  },
  {
   "cell_type": "markdown",
   "metadata": {
    "id": "oEsLTd1JDFne",
    "slideshow": {
     "slide_type": "slide"
    }
   },
   "source": [
    "# Enumerate\n",
    "\n",
    "You don't have to choose between iterating over an index (like with range()) and getting the item itself (with a foreach loop).  You can have both if you use enumerate.  Every iteration, it returns both the item and its index."
   ]
  },
  {
   "cell_type": "code",
   "execution_count": null,
   "metadata": {
    "colab": {
     "base_uri": "https://localhost:8080/"
    },
    "id": "n46LP31xDfu8",
    "outputId": "4638069c-1da0-47c9-8a3b-712b0a2f0ba3",
    "slideshow": {
     "slide_type": "-"
    }
   },
   "outputs": [],
   "source": [
    "for i, item in enumerate([\"duck\", \"duck\", \"goose\"]):\n",
    "  print(\"item \" + str(i) + \" is \" + item)"
   ]
  },
  {
   "cell_type": "markdown",
   "metadata": {
    "slideshow": {
     "slide_type": "slide"
    }
   },
   "source": [
    "This might be necessary if, for example, you cared about the item next in the list.  The item by itself can't tell you what comes after it, so you need the index, too."
   ]
  },
  {
   "cell_type": "code",
   "execution_count": null,
   "metadata": {
    "slideshow": {
     "slide_type": "-"
    }
   },
   "outputs": [],
   "source": [
    "my_list = [\"duck\", \"duck\", \"goose\"]\n",
    "for i, item in enumerate(my_list):\n",
    "  if i < len(my_list)-1: # Make sure we don't index off the end\n",
    "      print(\"item \" + str(i) + \" is \" + item + \" (next is \" + my_list[i+1] + \")\")\n",
    "  else:\n",
    "      print(\"item \" + str(i) + \" is \" + item + \" (end)\")"
   ]
  },
  {
   "cell_type": "markdown",
   "metadata": {
    "slideshow": {
     "slide_type": "slide"
    }
   },
   "source": [
    "But enumerate is just a convenience, since we could achieve the same effect by just using an index from range() and indexing into the list when we want the item."
   ]
  },
  {
   "cell_type": "code",
   "execution_count": null,
   "metadata": {
    "slideshow": {
     "slide_type": "-"
    }
   },
   "outputs": [],
   "source": [
    "my_list = [\"duck\", \"duck\", \"goose\"]\n",
    "for i in range(len(my_list)):\n",
    "  if i < len(my_list)-1: # Make sure we don't index off the end\n",
    "      print(\"item \" + str(i) + \" is \" + my_list[i] + \" (next is \" + my_list[i+1] + \")\")\n",
    "  else:\n",
    "      print(\"item \" + str(i) + \" is \" + my_list[i] + \" (end)\")  "
   ]
  },
  {
   "cell_type": "markdown",
   "metadata": {
    "id": "3MRuPv4zqg90",
    "slideshow": {
     "slide_type": "slide"
    }
   },
   "source": [
    "# List comprehensions\n",
    "\n",
    "A list comprehension is a way to generate a list from another list or generator, when you might otherwise have needed a few lines to write some iterative code.  The syntax is [expression **for** variable **in** iterable], where \"for *variable* in *iterable*\" works like a foreach loop, and *expression* transforms the list element into the value you want."
   ]
  },
  {
   "cell_type": "code",
   "execution_count": null,
   "metadata": {
    "colab": {
     "base_uri": "https://localhost:8080/"
    },
    "id": "0Fexm1sBrYYd",
    "outputId": "c0ce0da5-d1ff-44f3-eba7-26336abbb7d1",
    "slideshow": {
     "slide_type": "-"
    }
   },
   "outputs": [],
   "source": [
    "# A list comprehension with range input\n",
    "my_multiples_of_3 = [v * 3 for v in range(5)]\n",
    "my_multiples_of_3"
   ]
  },
  {
   "cell_type": "code",
   "execution_count": null,
   "metadata": {
    "slideshow": {
     "slide_type": "slide"
    }
   },
   "outputs": [],
   "source": [
    "# A list comprehension with a list input\n",
    "a = [1, 5, 9]\n",
    "more_mult_by_3 = [i * 3 for i in a]\n",
    "more_mult_by_3"
   ]
  },
  {
   "cell_type": "markdown",
   "metadata": {
    "slideshow": {
     "slide_type": "slide"
    }
   },
   "source": [
    "We could achieve this functionality with a for loop - it would just take more lines of code."
   ]
  },
  {
   "cell_type": "code",
   "execution_count": null,
   "metadata": {
    "slideshow": {
     "slide_type": "-"
    }
   },
   "outputs": [],
   "source": [
    "a = [1, 5, 9]\n",
    "out = []\n",
    "for item in a:\n",
    "    out.append(item * 3)\n",
    "print(out)"
   ]
  },
  {
   "cell_type": "markdown",
   "metadata": {
    "slideshow": {
     "slide_type": "slide"
    }
   },
   "source": [
    "The list content doesn't have to be integers, and the type of the output list doesn't need to match the input."
   ]
  },
  {
   "cell_type": "code",
   "execution_count": null,
   "metadata": {
    "slideshow": {
     "slide_type": "-"
    }
   },
   "outputs": [],
   "source": [
    "my_list = ['duck', 'duck', 'pig']\n",
    "plurals = [item + 's' for item in my_list]\n",
    "print('Plurals:')\n",
    "print(plurals)"
   ]
  },
  {
   "cell_type": "code",
   "execution_count": null,
   "metadata": {
    "slideshow": {
     "slide_type": "-"
    }
   },
   "outputs": [],
   "source": [
    "my_list = ['duck', 'duck', 'pig']\n",
    "lengths = [len(s) for s in my_list]\n",
    "print('Lengths: ')\n",
    "print(lengths)"
   ]
  },
  {
   "cell_type": "markdown",
   "metadata": {
    "slideshow": {
     "slide_type": "slide"
    }
   },
   "source": [
    "# Exercise\n",
    "\n",
    "Try writing a list comprehension that results in the even numbers from 0 to 20 (inclusive)."
   ]
  },
  {
   "cell_type": "code",
   "execution_count": null,
   "metadata": {
    "slideshow": {
     "slide_type": "slide"
    }
   },
   "outputs": [],
   "source": [
    "# TODO"
   ]
  }
 ],
 "metadata": {
  "celltoolbar": "Slideshow",
  "colab": {
   "collapsed_sections": [],
   "name": "Lecture5Iteration_after.ipynb",
   "provenance": []
  },
  "kernelspec": {
   "display_name": "Python 3",
   "language": "python",
   "name": "python3"
  },
  "language_info": {
   "codemirror_mode": {
    "name": "ipython",
    "version": 3
   },
   "file_extension": ".py",
   "mimetype": "text/x-python",
   "name": "python",
   "nbconvert_exporter": "python",
   "pygments_lexer": "ipython3",
   "version": "3.8.8"
  },
  "rise": {
   "scroll": true
  }
 },
 "nbformat": 4,
 "nbformat_minor": 1
}
