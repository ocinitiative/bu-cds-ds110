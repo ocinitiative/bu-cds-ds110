{
  "cells": [
    {
      "cell_type": "markdown",
      "metadata": {
        "id": "uKjY22dlnlvB"
      },
      "source": [
        "# SQL"
      ]
    },
    {
      "cell_type": "markdown",
      "metadata": {
        "id": "QS12-FUwq36c"
      },
      "source": [
        "# What is SQL?\n",
        "\n",
        "SQL (Structured Query Language) is a language for interacting with databases.  Databases store information in an organized way, and the queries to access the data are often written in SQL.  This is especially true if the database uses a Relational Database Management System (RDBMS), which treats the data as being organized in tables."
      ]
    },
    {
      "cell_type": "markdown",
      "metadata": {
        "id": "udqY5vtrnlvK"
      },
      "source": [
        "Even for big data, where before it was considered too expensive to do a full RDBMS system with SQL queries, things have gradually moved in the direction of the greater organization necessary to make these queries.  So even when dealing with big data, the interface will often be similar to SQL."
      ]
    },
    {
      "cell_type": "markdown",
      "metadata": {
        "id": "6HchrfTHnlvM"
      },
      "source": [
        "SQL has multiple implementations, but the one we'll be demonstrating is SQLite.  This python module gives us the power to make SQL queries against an existing database and put the result in a Pandas dataframe.  (These examples use the books.db file and corresponding examples from the textbook.)"
      ]
    },
    {
      "cell_type": "markdown",
      "metadata": {
        "id": "RYraMHthnlvN"
      },
      "source": [
        "An interesting aspect of SQL is that a query specifies what it wants, but not how to get it.  SQLite compiles the query into a program, and chooses among multiple approaches to get the data (for example, what to filter by first when handling an AND).  As a result, what the engine is doing is often treated like a black box by the user."
      ]
    },
    {
      "cell_type": "markdown",
      "metadata": {
        "id": "Dd_CfJa9Ddus"
      },
      "source": [
        "## Basic setup and column queries"
      ]
    },
    {
      "cell_type": "code",
      "execution_count": null,
      "metadata": {
        "id": "CLJIBGBkqSEf"
      },
      "outputs": [],
      "source": [
        "# For Google colab only\n",
        "from google.colab import files\n",
        "\n",
        "uploaded = files.upload() # Get \"books.db\" file"
      ]
    },
    {
      "cell_type": "code",
      "execution_count": null,
      "metadata": {
        "id": "C_QXYNjPu4Nm"
      },
      "outputs": [],
      "source": [
        "import sqlite3\n",
        "connection = sqlite3.connect('books.db')\n",
        "\n",
        "import pandas as pd\n",
        "pd.read_sql('SELECT * FROM authors', connection)"
      ]
    },
    {
      "cell_type": "markdown",
      "metadata": {
        "id": "iJehZK2Jxmiu"
      },
      "source": [
        "Here, we use SQLite to interact with a file, treating it as the database.  .connect() creates a Connection object, which can then be used as an argument indicating where our database is to be found.  And finally, the string with all the capital letters is SQL, indicating that we want all (*) lines from the authors table.  The result of the read_sql is a DataFrame containing the results of the query.\n"
      ]
    },
    {
      "cell_type": "markdown",
      "metadata": {
        "id": "pp-QaSjUnlvV"
      },
      "source": [
        "\n",
        "Note that some SQL systems require a semicolon at the end of each statement, particularly if they accept multiple statements at a time.  But this implementation doesn't.  There are a variety of little differences between SQL implementations that vary from vendor to vendor.\n",
        "\n",
        "Also note that the caps-lock is a stylistic choice rather than absolutely essential - the queries in SQLite would work as well with different case choices.  But capitalizing keywords makes it easier to see what's happening."
      ]
    },
    {
      "cell_type": "markdown",
      "metadata": {
        "id": "4lF0tJM-nlvV"
      },
      "source": [
        "This particular \"authors\" table is kind of small.  The same database has a \"titles\" table with more columns."
      ]
    },
    {
      "cell_type": "code",
      "execution_count": null,
      "metadata": {
        "id": "uw8XlZOAycNW"
      },
      "outputs": [],
      "source": [
        "pd.read_sql('SELECT * from titles', connection)"
      ]
    },
    {
      "cell_type": "markdown",
      "metadata": {
        "id": "zuJadl89ytPe"
      },
      "source": [
        "To select data from just some of the columns, we can list the desired columns where we put a * before."
      ]
    },
    {
      "cell_type": "code",
      "execution_count": null,
      "metadata": {
        "id": "jcpevglLyyiI"
      },
      "outputs": [],
      "source": [
        "pd.read_sql('SELECT title, edition from titles', connection)"
      ]
    },
    {
      "cell_type": "markdown",
      "metadata": {
        "id": "4BPqH0HDYQEv"
      },
      "source": [
        "If you're trying to just see the different values for a particular column,\n",
        "SELECT DISTINCT avoids repeating itself."
      ]
    },
    {
      "cell_type": "code",
      "execution_count": null,
      "metadata": {
        "id": "JBNNbRCJYZQ5"
      },
      "outputs": [],
      "source": [
        "pd.read_sql('SELECT DISTINCT copyright FROM titles', connection)"
      ]
    },
    {
      "cell_type": "markdown",
      "metadata": {
        "id": "T6E_AkY6DWlm"
      },
      "source": [
        "## Where, Like, and Order By"
      ]
    },
    {
      "cell_type": "markdown",
      "metadata": {
        "id": "3Nr6JbTm0l2Y"
      },
      "source": [
        "The WHERE clause allows filtering of values. We'll also move to triple-quote syntax as the queries get long.\n"
      ]
    },
    {
      "cell_type": "code",
      "execution_count": null,
      "metadata": {
        "id": "Gnf2QiHM0uu5"
      },
      "outputs": [],
      "source": [
        "pd.read_sql(\"\"\"SELECT title, edition from titles WHERE edition > 5\"\"\", connection)"
      ]
    },
    {
      "cell_type": "markdown",
      "metadata": {
        "id": "IjRq0NHLZGBd"
      },
      "source": [
        "Other numerical operators include <, <=, =, >=, =, and != (for not equal).  The conditions can be joined with AND, OR, and NOT.  (Also note that as queries get long,\n",
        "SQL doesn't mind additional whitespace, including newlines.)"
      ]
    },
    {
      "cell_type": "code",
      "execution_count": null,
      "metadata": {
        "id": "9RRxkPygZdW2"
      },
      "outputs": [],
      "source": [
        "pd.read_sql(\"\"\"SELECT title, edition\n",
        "from titles WHERE edition != 6 AND edition >= 3\n",
        "AND NOT edition >= 10\"\"\", connection)"
      ]
    },
    {
      "cell_type": "markdown",
      "source": [
        "Note that sometimes columns with numbers are mistyped in the database as being strings, in which case, comparison operators won't work as expected. To fix this, cast the column as an integer before making the comparison, like this:"
      ],
      "metadata": {
        "id": "lqsU0d5ontCb"
      }
    },
    {
      "cell_type": "code",
      "source": [
        "pd.read_sql(\"\"\"SELECT title, edition from titles WHERE cast(edition as int) > 5\"\"\", connection)"
      ],
      "metadata": {
        "id": "008ogYK6nu9_"
      },
      "execution_count": null,
      "outputs": []
    },
    {
      "cell_type": "markdown",
      "metadata": {
        "id": "JGAn9yj_dz1d"
      },
      "source": [
        "There isn't any missing data in these tables, but you could also avoid missing entries with WHERE [columnname] IS NOT NULL.  (Null is the value for missing data in SQL.)"
      ]
    },
    {
      "cell_type": "markdown",
      "metadata": {
        "id": "MkgbZTbj1NkI"
      },
      "source": [
        "WHERE can also look for regular-expression-like patterns using LIKE.  Here we retrieve all the Deitels' books about how to program.  The % acts like a * in other regular expressions, matching zero or more characters."
      ]
    },
    {
      "cell_type": "code",
      "execution_count": null,
      "metadata": {
        "id": "jnOL4alD1Y-f"
      },
      "outputs": [],
      "source": [
        "pd.read_sql(\"\"\"SELECT title, edition from titles\n",
        "            WHERE title LIKE '%How to Program'\"\"\", connection)"
      ]
    },
    {
      "cell_type": "markdown",
      "metadata": {
        "id": "vMW5uhf0-R3r"
      },
      "source": [
        "WHERE also understands NOT LIKE, which gets all the other entries."
      ]
    },
    {
      "cell_type": "code",
      "execution_count": null,
      "metadata": {
        "id": "OKUgdqZt-U6o"
      },
      "outputs": [],
      "source": [
        "pd.read_sql(\"\"\"SELECT title, edition FROM titles\n",
        "            WHERE title NOT LIKE '%How to Program'\"\"\", connection)"
      ]
    },
    {
      "cell_type": "markdown",
      "metadata": {
        "id": "X9Yaw1_F1x86"
      },
      "source": [
        "When there are many results, it may matter how they're ordered.  ORDER BY [column] [ASC/DESC] will choose the column and whether it's ascending or descending order.  The default is ascending."
      ]
    },
    {
      "cell_type": "code",
      "execution_count": null,
      "metadata": {
        "id": "9a4fBDnJ2DS5"
      },
      "outputs": [],
      "source": [
        "pd.read_sql(\"\"\"SELECT title, edition FROM titles\n",
        "               ORDER BY edition DESC\"\"\", connection)"
      ]
    },
    {
      "cell_type": "code",
      "execution_count": null,
      "metadata": {
        "id": "tnNRzpPzbDV9"
      },
      "outputs": [],
      "source": [
        "pd.read_sql(\"\"\"SELECT title, edition from titles\n",
        "               ORDER BY edition\"\"\", connection) # No DESC"
      ]
    },
    {
      "cell_type": "markdown",
      "metadata": {
        "id": "iBA3TgyXeKem"
      },
      "source": [
        "LIMIT [number] finds just the top [number] entries in the table, which is useful when dealing with a large table.  It's particularly useful in conjunction with ORDER BY."
      ]
    },
    {
      "cell_type": "code",
      "execution_count": null,
      "metadata": {
        "id": "28_vYNHaehO0"
      },
      "outputs": [],
      "source": [
        "pd.read_sql(\"\"\"SELECT title, edition FROM titles\n",
        "              ORDER BY edition DESC LIMIT 3\"\"\", connection)"
      ]
    },
    {
      "cell_type": "markdown",
      "metadata": {
        "id": "exoD0tCR4TUG"
      },
      "source": [
        "## Quick checks\n",
        "\n",
        "How would you create a DataFrame that had just the books that start with \"Android\" from the titles table?"
      ]
    },
    {
      "cell_type": "code",
      "execution_count": null,
      "metadata": {
        "id": "4gihRAAl4SLL"
      },
      "outputs": [],
      "source": [
        ""
      ]
    },
    {
      "cell_type": "markdown",
      "metadata": {
        "id": "FZSspOWdECAO"
      },
      "source": [
        "What about selecting titles published in or after 2017 that are at least 3rd edition?"
      ]
    },
    {
      "cell_type": "code",
      "execution_count": null,
      "metadata": {
        "id": "uFAIvwOeEHme"
      },
      "outputs": [],
      "source": [
        ""
      ]
    },
    {
      "cell_type": "markdown",
      "metadata": {
        "id": "3uHjIc26goTp"
      },
      "source": [
        "And the 4 smallest edition numbers?"
      ]
    },
    {
      "cell_type": "code",
      "execution_count": null,
      "metadata": {
        "id": "msvIsE2eg0nq"
      },
      "outputs": [],
      "source": [
        ""
      ]
    },
    {
      "cell_type": "markdown",
      "metadata": {
        "id": "u3nMkMNSDMdl"
      },
      "source": [
        "## Joins"
      ]
    },
    {
      "cell_type": "markdown",
      "metadata": {
        "id": "BqtPLDYi2Q1t"
      },
      "source": [
        "Now we'll take a look at joins, starting with the small author_ISBN table.  (ISBNs are codes that uniquely identify books.)"
      ]
    },
    {
      "cell_type": "code",
      "execution_count": null,
      "metadata": {
        "id": "KXieGaXI2ZWx"
      },
      "outputs": [],
      "source": [
        "pd.read_sql(\"SELECT * FROM author_ISBN\", connection)"
      ]
    },
    {
      "cell_type": "markdown",
      "metadata": {
        "id": "sM7GIzBLy_so"
      },
      "source": [
        "The provided author_ISBN table is somewhat cryptic as-is, but its id column refers to an author from the author table.  (This makes the id in the author_ISBN table a \"foreign key.\"  In the table where it uniquely identifies authors, the id is the \"primary key.\")  The query can \"join\" multiple tables and use this key to match the data."
      ]
    },
    {
      "cell_type": "code",
      "execution_count": null,
      "metadata": {
        "id": "RRXneS9tzyV8"
      },
      "outputs": [],
      "source": [
        "pd.read_sql(\"\"\"SELECT first, last, isbn \n",
        "               FROM authors\n",
        "               INNER JOIN author_ISBN \n",
        "                  ON authors.id = author_ISBN.id\n",
        "               ORDER BY last,first\"\"\", connection)"
      ]
    },
    {
      "cell_type": "markdown",
      "metadata": {
        "id": "2ZGpWR523Orp"
      },
      "source": [
        "Notice that isbn was not in the authors table, but we could include it because we were performing the INNER JOIN.  There are also a lot more entries here than in the authors table, which only listed each author once.  The database's use of tables helps it avoid redundancy in how it's using memory."
      ]
    },
    {
      "cell_type": "markdown",
      "metadata": {
        "id": "vnt6K1Bnnlvu"
      },
      "source": [
        "We can join across multiple tables in this way, but if columns appear in multiple tables, like isbn here, we have to be careful to specify which table the columns belong to, as in the SELECT below.  Otherwise, we'll get an error saying the query was ambiguous."
      ]
    },
    {
      "cell_type": "code",
      "execution_count": null,
      "metadata": {
        "id": "K4tOH8QYFpfX"
      },
      "outputs": [],
      "source": [
        "pd.read_sql(\"\"\"SELECT first, last, titles.isbn, title\n",
        "               FROM authors \n",
        "               INNER JOIN author_ISBN \n",
        "                  ON authors.id = author_ISBN.id\n",
        "               INNER JOIN titles\n",
        "                  ON author_ISBN.isbn = titles.isbn\n",
        "               ORDER BY last,first\"\"\", connection)"
      ]
    },
    {
      "cell_type": "markdown",
      "metadata": {
        "id": "cWM9E2xwnc25"
      },
      "source": [
        "Besides INNER JOIN, SQL supports a few other joins that differ in how they treat missing data.  In an INNER JOIN, only records with keys in both tables are joined.  In a FULL JOIN, aka FULL OUTER JOIN, all records are surfaced, but null values are given for missing data when one side is present and the other is not.  A LEFT JOIN or a RIGHT JOIN privileges the first or second table, showing all entries for that table and giving null values when the other table doesn't have a match.  On the whole, INNER JOIN is probably the most useful."
      ]
    },
    {
      "cell_type": "markdown",
      "metadata": {
        "id": "JIEaRMz35b6f"
      },
      "source": [
        "# Inserting, changing, and deleting data\n",
        "\n",
        "It's also possible to insert data into the table with SQL.  The object that does this is called a cursor, and it can generally be used to interact with the database in specific places.  An INSERT INTO can add a line, while an UPDATE can update the values of a particular row."
      ]
    },
    {
      "cell_type": "code",
      "execution_count": null,
      "metadata": {
        "id": "QxLeA9UB69kJ"
      },
      "outputs": [],
      "source": [
        "cursor = connection.cursor()\n",
        "cursor = cursor.execute(\"\"\"INSERT INTO authors (first, last)\n",
        "                           VALUES ('John', 'Doe')\"\"\")\n",
        "\n",
        "pd.read_sql(\"SELECT * from authors\", connection)"
      ]
    },
    {
      "cell_type": "code",
      "execution_count": null,
      "metadata": {
        "id": "A4LLm_4h7cQW"
      },
      "outputs": [],
      "source": [
        "cursor = cursor.execute(\"\"\"UPDATE authors SET first='Jane' WHERE first='John' AND last='Doe'\"\"\")\n",
        "pd.read_sql(\"SELECT * from authors\", connection)"
      ]
    },
    {
      "cell_type": "markdown",
      "metadata": {
        "id": "AZkO9ulW_oBf"
      },
      "source": [
        "You can also delete entries from the database with DELETE FROM."
      ]
    },
    {
      "cell_type": "code",
      "execution_count": null,
      "metadata": {
        "id": "q3OuyFwB_xMl"
      },
      "outputs": [],
      "source": [
        "cursor = cursor.execute(\"DELETE FROM authors WHERE first='Dan'\")\n",
        "pd.read_sql(\"SELECT * from authors\", connection)"
      ]
    },
    {
      "cell_type": "markdown",
      "metadata": {
        "id": "qNZ5gQhU8AJL"
      },
      "source": [
        "Out of all of these commands, SELECT and WHERE are the commands you're most likely to interact with, pulling the data you want and then manipulating the data on your own end within the DataFrame.  These useful basic operations are also the ones you'd be likely to use in a big distributed database.\n",
        "\n",
        "When you're done with the SQL connection, you should close it."
      ]
    },
    {
      "cell_type": "code",
      "execution_count": null,
      "metadata": {
        "id": "TDaIUF4-98NP"
      },
      "outputs": [],
      "source": [
        "connection.close()"
      ]
    },
    {
      "cell_type": "markdown",
      "metadata": {
        "id": "al1kLaM2Jc4C"
      },
      "source": [
        "# Dremel, BigQuery, Drill\n",
        "\n",
        "Google uses a SQL interface to its logs, called Dremel.  It made available a public version of Dremel roughly 10 years ago, and Apache's version of it is called Drill.  The queries in these systems use standard SQL with only slight changes, but the search for the answer to the query is distributed across many servers, allowing a very parallel search for the query results.  The speed requires several optimizations in how the data is stored, such as storing the columns together in storage instead of storing complete records together.  But the user only needs to know the SQL commands to successfully use it.\n",
        "\n",
        "While it seemed at first as if Big Data might not use SQL, big players like Google use it to interact with their data in a structured way."
      ]
    }
  ],
  "metadata": {
    "celltoolbar": "Slideshow",
    "colab": {
      "name": "Lecture30SQL_nosol.ipynb",
      "provenance": []
    },
    "kernelspec": {
      "display_name": "Python 3",
      "language": "python",
      "name": "python3"
    },
    "language_info": {
      "codemirror_mode": {
        "name": "ipython",
        "version": 3
      },
      "file_extension": ".py",
      "mimetype": "text/x-python",
      "name": "python",
      "nbconvert_exporter": "python",
      "pygments_lexer": "ipython3",
      "version": "3.8.8"
    },
    "rise": {
      "scroll": true
    }
  },
  "nbformat": 4,
  "nbformat_minor": 0
}