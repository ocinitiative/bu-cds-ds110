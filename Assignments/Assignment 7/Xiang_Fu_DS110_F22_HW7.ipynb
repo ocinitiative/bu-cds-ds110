{
  "cells": [
    {
      "cell_type": "markdown",
      "metadata": {
        "id": "Vqhh-Yct_RCh"
      },
      "source": [
        "# HW7 (60 points)\n",
        "\n",
        "This homework also requires the wine.data CSV, found where you downloaded this .ipynb file."
      ]
    },
    {
      "cell_type": "markdown",
      "metadata": {
        "id": "cS1T4OONAa4P"
      },
      "source": [
        "# Problem 1:  Recursion (6 points)\n",
        "\n",
        "Write a *recursive* function that calculates $f(n)$ where $f(n) = f(n-1) + f(n-3) + 1$ and $f(1) = 1, f(2) = 2, f(3) = 3$.  You can assume $n$ is a positive integer."
      ]
    },
    {
      "cell_type": "code",
      "execution_count": 30,
      "metadata": {
        "id": "uiuAoLG_BHo3"
      },
      "outputs": [],
      "source": [
        "# TODO f(n)\n",
        "\n",
        "def f(n):\n",
        "    if n == 1:\n",
        "        return 1\n",
        "    elif n == 2:\n",
        "        return 2\n",
        "    elif n == 3:\n",
        "        return 3\n",
        "    else:\n",
        "        return f(n-1) + f(n-3) + 1"
      ]
    },
    {
      "cell_type": "code",
      "execution_count": 29,
      "metadata": {
        "id": "76GGd582By_s",
        "colab": {
          "base_uri": "https://localhost:8080/"
        },
        "outputId": "73cfa3e5-1e41-4b7b-d26c-5a0b0a8c1b34"
      },
      "outputs": [
        {
          "output_type": "stream",
          "name": "stdout",
          "text": [
            "5\n",
            "8\n",
            "12\n"
          ]
        }
      ],
      "source": [
        "# Tests\n",
        "print(f(4)) # Should print 5\n",
        "print(f(5)) # Should print 8\n",
        "print(f(6)) # Should print 12"
      ]
    },
    {
      "cell_type": "markdown",
      "metadata": {
        "id": "OZ3nyXaVjxJk"
      },
      "source": [
        "# Problem 2:  Recursion on a Tree (14 points: 6,8)\n"
      ]
    },
    {
      "cell_type": "markdown",
      "metadata": {
        "id": "5h_QXcLXsEbi"
      },
      "source": [
        "a, 8 points) Write a recursive function sum_tree() that *recursively* sums all the values in a binary tree and returns this sum.  It should work with the BinaryTree definition that follows.  A left or right field of None means that there is no child there."
      ]
    },
    {
      "cell_type": "code",
      "execution_count": 28,
      "metadata": {
        "id": "MMjX2HphkfNS"
      },
      "outputs": [],
      "source": [
        "class BinaryTree():\n",
        "  def __init__(self, left, right, value):\n",
        "    self.left = left\n",
        "    self.right = right\n",
        "    self.value = value\n",
        "\n",
        "sample_tree = BinaryTree(BinaryTree(BinaryTree(None,None,1),\n",
        "                                    BinaryTree(None,None,2),\n",
        "                                    3),\n",
        "                         BinaryTree(BinaryTree(BinaryTree(None,None,4),\n",
        "                                               BinaryTree(None,None,5),\n",
        "                                               6),\n",
        "                                    BinaryTree(None,None,7),\n",
        "                                    8),\n",
        "                         9)\n",
        "sample_tree2 = BinaryTree(None, BinaryTree(None, BinaryTree(None, BinaryTree(None,None,1),2),3),4)"
      ]
    },
    {
      "cell_type": "code",
      "execution_count": 27,
      "metadata": {
        "id": "bH6sWEyWswEV"
      },
      "outputs": [],
      "source": [
        "# TODO sum_tree()\n",
        "\n",
        "def sum_tree(tree):\n",
        "    if tree == None:\n",
        "        return 0\n",
        "    return tree.value + sum_tree(tree.left) + sum_tree(tree.right)"
      ]
    },
    {
      "cell_type": "code",
      "execution_count": 26,
      "metadata": {
        "id": "y9cIkUNxthDm",
        "colab": {
          "base_uri": "https://localhost:8080/"
        },
        "outputId": "cf28563f-3cda-447d-d12e-c08aa0d88d0c"
      },
      "outputs": [
        {
          "output_type": "stream",
          "name": "stdout",
          "text": [
            "45\n",
            "10\n"
          ]
        }
      ],
      "source": [
        "# Tests\n",
        "print(sum_tree(sample_tree)) # Should be 45\n",
        "print(sum_tree(sample_tree2)) # Should be 10"
      ]
    },
    {
      "cell_type": "markdown",
      "metadata": {
        "id": "asZQk9OQj5ep"
      },
      "source": [
        "b, 8 pts) Write a function count_full_branches() that takes a binary tree and *recursively* counts the number of nodes that have both a left and right child.  Assume the tree argument was created using the provided binary tree class.  A missing child is signified by a left or right field that is None.  (The value field is not useful for this exercise.)"
      ]
    },
    {
      "cell_type": "code",
      "execution_count": null,
      "metadata": {
        "id": "vJt8urL1ivgc"
      },
      "outputs": [],
      "source": [
        "# TODO count_full_branches()\n",
        "\n",
        "def count_full_branches(tree):\n",
        "    if tree is None:\n",
        "        return 0\n",
        "    if tree.left is None or tree.right is None:\n",
        "        return 0\n",
        "    return 1 + count_full_branches(tree.left) + count_full_branches(tree.right)"
      ]
    },
    {
      "cell_type": "code",
      "execution_count": null,
      "metadata": {
        "id": "jAXZ41oao95X",
        "colab": {
          "base_uri": "https://localhost:8080/"
        },
        "outputId": "0f0f6580-7cbc-4143-fff2-e0c7a3925403"
      },
      "outputs": [
        {
          "output_type": "stream",
          "name": "stdout",
          "text": [
            "4\n",
            "0\n"
          ]
        }
      ],
      "source": [
        "print(count_full_branches(sample_tree)) # Expect 4\n",
        "print(count_full_branches(sample_tree2)) # Expect 0"
      ]
    },
    {
      "cell_type": "markdown",
      "metadata": {
        "id": "GNFEmlhW2S_x"
      },
      "source": [
        "# Problem 3:  Nearest neighbors (18 points:  4,3,4,3,4)"
      ]
    },
    {
      "cell_type": "markdown",
      "metadata": {
        "id": "CfC1tDBjmM6d"
      },
      "source": [
        "In this problem, we'll train on a dataset where the labels are different varieties (\"cultivars\") of wine, and the features are different chemical measurements of the wine.\n",
        "\n",
        "Upload the wine.data file."
      ]
    },
    {
      "cell_type": "code",
      "execution_count": null,
      "metadata": {
        "id": "A19Igw8t_sZK",
        "colab": {
          "base_uri": "https://localhost:8080/",
          "height": 74
        },
        "outputId": "2f187636-ca4c-4820-892d-a4f72411805c"
      },
      "outputs": [
        {
          "output_type": "display_data",
          "data": {
            "text/plain": [
              "<IPython.core.display.HTML object>"
            ],
            "text/html": [
              "\n",
              "     <input type=\"file\" id=\"files-25bb6962-7cfb-4973-b903-ce2659d0f5f6\" name=\"files[]\" multiple disabled\n",
              "        style=\"border:none\" />\n",
              "     <output id=\"result-25bb6962-7cfb-4973-b903-ce2659d0f5f6\">\n",
              "      Upload widget is only available when the cell has been executed in the\n",
              "      current browser session. Please rerun this cell to enable.\n",
              "      </output>\n",
              "      <script>// Copyright 2017 Google LLC\n",
              "//\n",
              "// Licensed under the Apache License, Version 2.0 (the \"License\");\n",
              "// you may not use this file except in compliance with the License.\n",
              "// You may obtain a copy of the License at\n",
              "//\n",
              "//      http://www.apache.org/licenses/LICENSE-2.0\n",
              "//\n",
              "// Unless required by applicable law or agreed to in writing, software\n",
              "// distributed under the License is distributed on an \"AS IS\" BASIS,\n",
              "// WITHOUT WARRANTIES OR CONDITIONS OF ANY KIND, either express or implied.\n",
              "// See the License for the specific language governing permissions and\n",
              "// limitations under the License.\n",
              "\n",
              "/**\n",
              " * @fileoverview Helpers for google.colab Python module.\n",
              " */\n",
              "(function(scope) {\n",
              "function span(text, styleAttributes = {}) {\n",
              "  const element = document.createElement('span');\n",
              "  element.textContent = text;\n",
              "  for (const key of Object.keys(styleAttributes)) {\n",
              "    element.style[key] = styleAttributes[key];\n",
              "  }\n",
              "  return element;\n",
              "}\n",
              "\n",
              "// Max number of bytes which will be uploaded at a time.\n",
              "const MAX_PAYLOAD_SIZE = 100 * 1024;\n",
              "\n",
              "function _uploadFiles(inputId, outputId) {\n",
              "  const steps = uploadFilesStep(inputId, outputId);\n",
              "  const outputElement = document.getElementById(outputId);\n",
              "  // Cache steps on the outputElement to make it available for the next call\n",
              "  // to uploadFilesContinue from Python.\n",
              "  outputElement.steps = steps;\n",
              "\n",
              "  return _uploadFilesContinue(outputId);\n",
              "}\n",
              "\n",
              "// This is roughly an async generator (not supported in the browser yet),\n",
              "// where there are multiple asynchronous steps and the Python side is going\n",
              "// to poll for completion of each step.\n",
              "// This uses a Promise to block the python side on completion of each step,\n",
              "// then passes the result of the previous step as the input to the next step.\n",
              "function _uploadFilesContinue(outputId) {\n",
              "  const outputElement = document.getElementById(outputId);\n",
              "  const steps = outputElement.steps;\n",
              "\n",
              "  const next = steps.next(outputElement.lastPromiseValue);\n",
              "  return Promise.resolve(next.value.promise).then((value) => {\n",
              "    // Cache the last promise value to make it available to the next\n",
              "    // step of the generator.\n",
              "    outputElement.lastPromiseValue = value;\n",
              "    return next.value.response;\n",
              "  });\n",
              "}\n",
              "\n",
              "/**\n",
              " * Generator function which is called between each async step of the upload\n",
              " * process.\n",
              " * @param {string} inputId Element ID of the input file picker element.\n",
              " * @param {string} outputId Element ID of the output display.\n",
              " * @return {!Iterable<!Object>} Iterable of next steps.\n",
              " */\n",
              "function* uploadFilesStep(inputId, outputId) {\n",
              "  const inputElement = document.getElementById(inputId);\n",
              "  inputElement.disabled = false;\n",
              "\n",
              "  const outputElement = document.getElementById(outputId);\n",
              "  outputElement.innerHTML = '';\n",
              "\n",
              "  const pickedPromise = new Promise((resolve) => {\n",
              "    inputElement.addEventListener('change', (e) => {\n",
              "      resolve(e.target.files);\n",
              "    });\n",
              "  });\n",
              "\n",
              "  const cancel = document.createElement('button');\n",
              "  inputElement.parentElement.appendChild(cancel);\n",
              "  cancel.textContent = 'Cancel upload';\n",
              "  const cancelPromise = new Promise((resolve) => {\n",
              "    cancel.onclick = () => {\n",
              "      resolve(null);\n",
              "    };\n",
              "  });\n",
              "\n",
              "  // Wait for the user to pick the files.\n",
              "  const files = yield {\n",
              "    promise: Promise.race([pickedPromise, cancelPromise]),\n",
              "    response: {\n",
              "      action: 'starting',\n",
              "    }\n",
              "  };\n",
              "\n",
              "  cancel.remove();\n",
              "\n",
              "  // Disable the input element since further picks are not allowed.\n",
              "  inputElement.disabled = true;\n",
              "\n",
              "  if (!files) {\n",
              "    return {\n",
              "      response: {\n",
              "        action: 'complete',\n",
              "      }\n",
              "    };\n",
              "  }\n",
              "\n",
              "  for (const file of files) {\n",
              "    const li = document.createElement('li');\n",
              "    li.append(span(file.name, {fontWeight: 'bold'}));\n",
              "    li.append(span(\n",
              "        `(${file.type || 'n/a'}) - ${file.size} bytes, ` +\n",
              "        `last modified: ${\n",
              "            file.lastModifiedDate ? file.lastModifiedDate.toLocaleDateString() :\n",
              "                                    'n/a'} - `));\n",
              "    const percent = span('0% done');\n",
              "    li.appendChild(percent);\n",
              "\n",
              "    outputElement.appendChild(li);\n",
              "\n",
              "    const fileDataPromise = new Promise((resolve) => {\n",
              "      const reader = new FileReader();\n",
              "      reader.onload = (e) => {\n",
              "        resolve(e.target.result);\n",
              "      };\n",
              "      reader.readAsArrayBuffer(file);\n",
              "    });\n",
              "    // Wait for the data to be ready.\n",
              "    let fileData = yield {\n",
              "      promise: fileDataPromise,\n",
              "      response: {\n",
              "        action: 'continue',\n",
              "      }\n",
              "    };\n",
              "\n",
              "    // Use a chunked sending to avoid message size limits. See b/62115660.\n",
              "    let position = 0;\n",
              "    do {\n",
              "      const length = Math.min(fileData.byteLength - position, MAX_PAYLOAD_SIZE);\n",
              "      const chunk = new Uint8Array(fileData, position, length);\n",
              "      position += length;\n",
              "\n",
              "      const base64 = btoa(String.fromCharCode.apply(null, chunk));\n",
              "      yield {\n",
              "        response: {\n",
              "          action: 'append',\n",
              "          file: file.name,\n",
              "          data: base64,\n",
              "        },\n",
              "      };\n",
              "\n",
              "      let percentDone = fileData.byteLength === 0 ?\n",
              "          100 :\n",
              "          Math.round((position / fileData.byteLength) * 100);\n",
              "      percent.textContent = `${percentDone}% done`;\n",
              "\n",
              "    } while (position < fileData.byteLength);\n",
              "  }\n",
              "\n",
              "  // All done.\n",
              "  yield {\n",
              "    response: {\n",
              "      action: 'complete',\n",
              "    }\n",
              "  };\n",
              "}\n",
              "\n",
              "scope.google = scope.google || {};\n",
              "scope.google.colab = scope.google.colab || {};\n",
              "scope.google.colab._files = {\n",
              "  _uploadFiles,\n",
              "  _uploadFilesContinue,\n",
              "};\n",
              "})(self);\n",
              "</script> "
            ]
          },
          "metadata": {}
        },
        {
          "output_type": "stream",
          "name": "stdout",
          "text": [
            "Saving wine.data to wine.data\n"
          ]
        }
      ],
      "source": [
        "from google.colab import files\n",
        "\n",
        "uploaded = files.upload() # Upload wine.data"
      ]
    },
    {
      "cell_type": "markdown",
      "metadata": {
        "id": "ZPnnCYnYmnIT"
      },
      "source": [
        "We next set up a dataframe to organize the data."
      ]
    },
    {
      "cell_type": "code",
      "execution_count": 25,
      "metadata": {
        "id": "Zrvjw8BT_HkS",
        "colab": {
          "base_uri": "https://localhost:8080/",
          "height": 268
        },
        "outputId": "ca0ec49c-55fb-4fd0-9d83-0c7fc5c500ea"
      },
      "outputs": [
        {
          "output_type": "execute_result",
          "data": {
            "text/plain": [
              "   Type  Alcohol  Malic acid   Ash  Alcalinity of ash  Magnesium  \\\n",
              "0     1    14.23        1.71  2.43               15.6        127   \n",
              "1     1    13.20        1.78  2.14               11.2        100   \n",
              "2     1    13.16        2.36  2.67               18.6        101   \n",
              "3     1    14.37        1.95  2.50               16.8        113   \n",
              "4     1    13.24        2.59  2.87               21.0        118   \n",
              "\n",
              "   Total phenols  Flavanoids  Nonflavanoid phenols  Proanthocyanins  \\\n",
              "0           2.80        3.06                  0.28             2.29   \n",
              "1           2.65        2.76                  0.26             1.28   \n",
              "2           2.80        3.24                  0.30             2.81   \n",
              "3           3.85        3.49                  0.24             2.18   \n",
              "4           2.80        2.69                  0.39             1.82   \n",
              "\n",
              "   Color intensity   Hue  OD280/OD315  Proline  \n",
              "0             5.64  1.04         3.92     1065  \n",
              "1             4.38  1.05         3.40     1050  \n",
              "2             5.68  1.03         3.17     1185  \n",
              "3             7.80  0.86         3.45     1480  \n",
              "4             4.32  1.04         2.93      735  "
            ],
            "text/html": [
              "\n",
              "  <div id=\"df-e10791e3-e62b-4d36-9a50-f92eff1de437\">\n",
              "    <div class=\"colab-df-container\">\n",
              "      <div>\n",
              "<style scoped>\n",
              "    .dataframe tbody tr th:only-of-type {\n",
              "        vertical-align: middle;\n",
              "    }\n",
              "\n",
              "    .dataframe tbody tr th {\n",
              "        vertical-align: top;\n",
              "    }\n",
              "\n",
              "    .dataframe thead th {\n",
              "        text-align: right;\n",
              "    }\n",
              "</style>\n",
              "<table border=\"1\" class=\"dataframe\">\n",
              "  <thead>\n",
              "    <tr style=\"text-align: right;\">\n",
              "      <th></th>\n",
              "      <th>Type</th>\n",
              "      <th>Alcohol</th>\n",
              "      <th>Malic acid</th>\n",
              "      <th>Ash</th>\n",
              "      <th>Alcalinity of ash</th>\n",
              "      <th>Magnesium</th>\n",
              "      <th>Total phenols</th>\n",
              "      <th>Flavanoids</th>\n",
              "      <th>Nonflavanoid phenols</th>\n",
              "      <th>Proanthocyanins</th>\n",
              "      <th>Color intensity</th>\n",
              "      <th>Hue</th>\n",
              "      <th>OD280/OD315</th>\n",
              "      <th>Proline</th>\n",
              "    </tr>\n",
              "  </thead>\n",
              "  <tbody>\n",
              "    <tr>\n",
              "      <th>0</th>\n",
              "      <td>1</td>\n",
              "      <td>14.23</td>\n",
              "      <td>1.71</td>\n",
              "      <td>2.43</td>\n",
              "      <td>15.6</td>\n",
              "      <td>127</td>\n",
              "      <td>2.80</td>\n",
              "      <td>3.06</td>\n",
              "      <td>0.28</td>\n",
              "      <td>2.29</td>\n",
              "      <td>5.64</td>\n",
              "      <td>1.04</td>\n",
              "      <td>3.92</td>\n",
              "      <td>1065</td>\n",
              "    </tr>\n",
              "    <tr>\n",
              "      <th>1</th>\n",
              "      <td>1</td>\n",
              "      <td>13.20</td>\n",
              "      <td>1.78</td>\n",
              "      <td>2.14</td>\n",
              "      <td>11.2</td>\n",
              "      <td>100</td>\n",
              "      <td>2.65</td>\n",
              "      <td>2.76</td>\n",
              "      <td>0.26</td>\n",
              "      <td>1.28</td>\n",
              "      <td>4.38</td>\n",
              "      <td>1.05</td>\n",
              "      <td>3.40</td>\n",
              "      <td>1050</td>\n",
              "    </tr>\n",
              "    <tr>\n",
              "      <th>2</th>\n",
              "      <td>1</td>\n",
              "      <td>13.16</td>\n",
              "      <td>2.36</td>\n",
              "      <td>2.67</td>\n",
              "      <td>18.6</td>\n",
              "      <td>101</td>\n",
              "      <td>2.80</td>\n",
              "      <td>3.24</td>\n",
              "      <td>0.30</td>\n",
              "      <td>2.81</td>\n",
              "      <td>5.68</td>\n",
              "      <td>1.03</td>\n",
              "      <td>3.17</td>\n",
              "      <td>1185</td>\n",
              "    </tr>\n",
              "    <tr>\n",
              "      <th>3</th>\n",
              "      <td>1</td>\n",
              "      <td>14.37</td>\n",
              "      <td>1.95</td>\n",
              "      <td>2.50</td>\n",
              "      <td>16.8</td>\n",
              "      <td>113</td>\n",
              "      <td>3.85</td>\n",
              "      <td>3.49</td>\n",
              "      <td>0.24</td>\n",
              "      <td>2.18</td>\n",
              "      <td>7.80</td>\n",
              "      <td>0.86</td>\n",
              "      <td>3.45</td>\n",
              "      <td>1480</td>\n",
              "    </tr>\n",
              "    <tr>\n",
              "      <th>4</th>\n",
              "      <td>1</td>\n",
              "      <td>13.24</td>\n",
              "      <td>2.59</td>\n",
              "      <td>2.87</td>\n",
              "      <td>21.0</td>\n",
              "      <td>118</td>\n",
              "      <td>2.80</td>\n",
              "      <td>2.69</td>\n",
              "      <td>0.39</td>\n",
              "      <td>1.82</td>\n",
              "      <td>4.32</td>\n",
              "      <td>1.04</td>\n",
              "      <td>2.93</td>\n",
              "      <td>735</td>\n",
              "    </tr>\n",
              "  </tbody>\n",
              "</table>\n",
              "</div>\n",
              "      <button class=\"colab-df-convert\" onclick=\"convertToInteractive('df-e10791e3-e62b-4d36-9a50-f92eff1de437')\"\n",
              "              title=\"Convert this dataframe to an interactive table.\"\n",
              "              style=\"display:none;\">\n",
              "        \n",
              "  <svg xmlns=\"http://www.w3.org/2000/svg\" height=\"24px\"viewBox=\"0 0 24 24\"\n",
              "       width=\"24px\">\n",
              "    <path d=\"M0 0h24v24H0V0z\" fill=\"none\"/>\n",
              "    <path d=\"M18.56 5.44l.94 2.06.94-2.06 2.06-.94-2.06-.94-.94-2.06-.94 2.06-2.06.94zm-11 1L8.5 8.5l.94-2.06 2.06-.94-2.06-.94L8.5 2.5l-.94 2.06-2.06.94zm10 10l.94 2.06.94-2.06 2.06-.94-2.06-.94-.94-2.06-.94 2.06-2.06.94z\"/><path d=\"M17.41 7.96l-1.37-1.37c-.4-.4-.92-.59-1.43-.59-.52 0-1.04.2-1.43.59L10.3 9.45l-7.72 7.72c-.78.78-.78 2.05 0 2.83L4 21.41c.39.39.9.59 1.41.59.51 0 1.02-.2 1.41-.59l7.78-7.78 2.81-2.81c.8-.78.8-2.07 0-2.86zM5.41 20L4 18.59l7.72-7.72 1.47 1.35L5.41 20z\"/>\n",
              "  </svg>\n",
              "      </button>\n",
              "      \n",
              "  <style>\n",
              "    .colab-df-container {\n",
              "      display:flex;\n",
              "      flex-wrap:wrap;\n",
              "      gap: 12px;\n",
              "    }\n",
              "\n",
              "    .colab-df-convert {\n",
              "      background-color: #E8F0FE;\n",
              "      border: none;\n",
              "      border-radius: 50%;\n",
              "      cursor: pointer;\n",
              "      display: none;\n",
              "      fill: #1967D2;\n",
              "      height: 32px;\n",
              "      padding: 0 0 0 0;\n",
              "      width: 32px;\n",
              "    }\n",
              "\n",
              "    .colab-df-convert:hover {\n",
              "      background-color: #E2EBFA;\n",
              "      box-shadow: 0px 1px 2px rgba(60, 64, 67, 0.3), 0px 1px 3px 1px rgba(60, 64, 67, 0.15);\n",
              "      fill: #174EA6;\n",
              "    }\n",
              "\n",
              "    [theme=dark] .colab-df-convert {\n",
              "      background-color: #3B4455;\n",
              "      fill: #D2E3FC;\n",
              "    }\n",
              "\n",
              "    [theme=dark] .colab-df-convert:hover {\n",
              "      background-color: #434B5C;\n",
              "      box-shadow: 0px 1px 3px 1px rgba(0, 0, 0, 0.15);\n",
              "      filter: drop-shadow(0px 1px 2px rgba(0, 0, 0, 0.3));\n",
              "      fill: #FFFFFF;\n",
              "    }\n",
              "  </style>\n",
              "\n",
              "      <script>\n",
              "        const buttonEl =\n",
              "          document.querySelector('#df-e10791e3-e62b-4d36-9a50-f92eff1de437 button.colab-df-convert');\n",
              "        buttonEl.style.display =\n",
              "          google.colab.kernel.accessAllowed ? 'block' : 'none';\n",
              "\n",
              "        async function convertToInteractive(key) {\n",
              "          const element = document.querySelector('#df-e10791e3-e62b-4d36-9a50-f92eff1de437');\n",
              "          const dataTable =\n",
              "            await google.colab.kernel.invokeFunction('convertToInteractive',\n",
              "                                                     [key], {});\n",
              "          if (!dataTable) return;\n",
              "\n",
              "          const docLinkHtml = 'Like what you see? Visit the ' +\n",
              "            '<a target=\"_blank\" href=https://colab.research.google.com/notebooks/data_table.ipynb>data table notebook</a>'\n",
              "            + ' to learn more about interactive tables.';\n",
              "          element.innerHTML = '';\n",
              "          dataTable['output_type'] = 'display_data';\n",
              "          await google.colab.output.renderOutput(dataTable, element);\n",
              "          const docLink = document.createElement('div');\n",
              "          docLink.innerHTML = docLinkHtml;\n",
              "          element.appendChild(docLink);\n",
              "        }\n",
              "      </script>\n",
              "    </div>\n",
              "  </div>\n",
              "  "
            ]
          },
          "metadata": {},
          "execution_count": 25
        }
      ],
      "source": [
        "# wine.data:  see https://archive.ics.uci.edu/ml/datasets/Wine\n",
        "\n",
        "import pandas as pd\n",
        "\n",
        "col_names = ['Type','Alcohol','Malic acid','Ash','Alcalinity of ash',\n",
        "             'Magnesium','Total phenols','Flavanoids','Nonflavanoid phenols',\n",
        "             'Proanthocyanins','Color intensity','Hue','OD280/OD315','Proline']\n",
        "\n",
        "df = pd.read_csv('wine.data', names =col_names)\n",
        "df.head()"
      ]
    },
    {
      "cell_type": "markdown",
      "metadata": {
        "id": "w9kIe_Jxm0mJ"
      },
      "source": [
        "We then separate the data into features (X) and labels (y)."
      ]
    },
    {
      "cell_type": "code",
      "execution_count": null,
      "metadata": {
        "id": "Ok1fBB8CCHUi"
      },
      "outputs": [],
      "source": [
        "y = df['Type']"
      ]
    },
    {
      "cell_type": "code",
      "execution_count": null,
      "metadata": {
        "id": "hRqy3BEGB28m"
      },
      "outputs": [],
      "source": [
        "X = df.iloc[:,1:]"
      ]
    },
    {
      "cell_type": "markdown",
      "metadata": {
        "id": "NCccXZkmm7Uy"
      },
      "source": [
        "a, 4 pts) Explain what the next code box is doing, and why it is important to do it for a nearest neighbors classifier training on this data."
      ]
    },
    {
      "cell_type": "code",
      "execution_count": 24,
      "metadata": {
        "id": "15qbUixqCjho"
      },
      "outputs": [],
      "source": [
        "for col in range(13):\n",
        "  X.iloc[:,col] = X.iloc[:,col] / X.iloc[:,col].max()"
      ]
    },
    {
      "cell_type": "code",
      "execution_count": null,
      "metadata": {
        "id": "jdk8vTdQDaad",
        "colab": {
          "base_uri": "https://localhost:8080/",
          "height": 268
        },
        "outputId": "1e247720-88da-4e9f-af7f-e98bc34a22d5"
      },
      "outputs": [
        {
          "output_type": "execute_result",
          "data": {
            "text/plain": [
              "    Alcohol  Malic acid       Ash  Alcalinity of ash  Magnesium  \\\n",
              "0  0.959541    0.294828  0.752322           0.520000   0.783951   \n",
              "1  0.890088    0.306897  0.662539           0.373333   0.617284   \n",
              "2  0.887390    0.406897  0.826625           0.620000   0.623457   \n",
              "3  0.968982    0.336207  0.773994           0.560000   0.697531   \n",
              "4  0.892785    0.446552  0.888545           0.700000   0.728395   \n",
              "\n",
              "   Total phenols  Flavanoids  Nonflavanoid phenols  Proanthocyanins  \\\n",
              "0       0.721649    0.602362              0.424242         0.639665   \n",
              "1       0.682990    0.543307              0.393939         0.357542   \n",
              "2       0.721649    0.637795              0.454545         0.784916   \n",
              "3       0.992268    0.687008              0.363636         0.608939   \n",
              "4       0.721649    0.529528              0.590909         0.508380   \n",
              "\n",
              "   Color intensity       Hue  OD280/OD315   Proline  \n",
              "0         0.433846  0.608187       0.9800  0.633929  \n",
              "1         0.336923  0.614035       0.8500  0.625000  \n",
              "2         0.436923  0.602339       0.7925  0.705357  \n",
              "3         0.600000  0.502924       0.8625  0.880952  \n",
              "4         0.332308  0.608187       0.7325  0.437500  "
            ],
            "text/html": [
              "\n",
              "  <div id=\"df-727c650c-5c14-48a7-a81d-0ae028f89add\">\n",
              "    <div class=\"colab-df-container\">\n",
              "      <div>\n",
              "<style scoped>\n",
              "    .dataframe tbody tr th:only-of-type {\n",
              "        vertical-align: middle;\n",
              "    }\n",
              "\n",
              "    .dataframe tbody tr th {\n",
              "        vertical-align: top;\n",
              "    }\n",
              "\n",
              "    .dataframe thead th {\n",
              "        text-align: right;\n",
              "    }\n",
              "</style>\n",
              "<table border=\"1\" class=\"dataframe\">\n",
              "  <thead>\n",
              "    <tr style=\"text-align: right;\">\n",
              "      <th></th>\n",
              "      <th>Alcohol</th>\n",
              "      <th>Malic acid</th>\n",
              "      <th>Ash</th>\n",
              "      <th>Alcalinity of ash</th>\n",
              "      <th>Magnesium</th>\n",
              "      <th>Total phenols</th>\n",
              "      <th>Flavanoids</th>\n",
              "      <th>Nonflavanoid phenols</th>\n",
              "      <th>Proanthocyanins</th>\n",
              "      <th>Color intensity</th>\n",
              "      <th>Hue</th>\n",
              "      <th>OD280/OD315</th>\n",
              "      <th>Proline</th>\n",
              "    </tr>\n",
              "  </thead>\n",
              "  <tbody>\n",
              "    <tr>\n",
              "      <th>0</th>\n",
              "      <td>0.959541</td>\n",
              "      <td>0.294828</td>\n",
              "      <td>0.752322</td>\n",
              "      <td>0.520000</td>\n",
              "      <td>0.783951</td>\n",
              "      <td>0.721649</td>\n",
              "      <td>0.602362</td>\n",
              "      <td>0.424242</td>\n",
              "      <td>0.639665</td>\n",
              "      <td>0.433846</td>\n",
              "      <td>0.608187</td>\n",
              "      <td>0.9800</td>\n",
              "      <td>0.633929</td>\n",
              "    </tr>\n",
              "    <tr>\n",
              "      <th>1</th>\n",
              "      <td>0.890088</td>\n",
              "      <td>0.306897</td>\n",
              "      <td>0.662539</td>\n",
              "      <td>0.373333</td>\n",
              "      <td>0.617284</td>\n",
              "      <td>0.682990</td>\n",
              "      <td>0.543307</td>\n",
              "      <td>0.393939</td>\n",
              "      <td>0.357542</td>\n",
              "      <td>0.336923</td>\n",
              "      <td>0.614035</td>\n",
              "      <td>0.8500</td>\n",
              "      <td>0.625000</td>\n",
              "    </tr>\n",
              "    <tr>\n",
              "      <th>2</th>\n",
              "      <td>0.887390</td>\n",
              "      <td>0.406897</td>\n",
              "      <td>0.826625</td>\n",
              "      <td>0.620000</td>\n",
              "      <td>0.623457</td>\n",
              "      <td>0.721649</td>\n",
              "      <td>0.637795</td>\n",
              "      <td>0.454545</td>\n",
              "      <td>0.784916</td>\n",
              "      <td>0.436923</td>\n",
              "      <td>0.602339</td>\n",
              "      <td>0.7925</td>\n",
              "      <td>0.705357</td>\n",
              "    </tr>\n",
              "    <tr>\n",
              "      <th>3</th>\n",
              "      <td>0.968982</td>\n",
              "      <td>0.336207</td>\n",
              "      <td>0.773994</td>\n",
              "      <td>0.560000</td>\n",
              "      <td>0.697531</td>\n",
              "      <td>0.992268</td>\n",
              "      <td>0.687008</td>\n",
              "      <td>0.363636</td>\n",
              "      <td>0.608939</td>\n",
              "      <td>0.600000</td>\n",
              "      <td>0.502924</td>\n",
              "      <td>0.8625</td>\n",
              "      <td>0.880952</td>\n",
              "    </tr>\n",
              "    <tr>\n",
              "      <th>4</th>\n",
              "      <td>0.892785</td>\n",
              "      <td>0.446552</td>\n",
              "      <td>0.888545</td>\n",
              "      <td>0.700000</td>\n",
              "      <td>0.728395</td>\n",
              "      <td>0.721649</td>\n",
              "      <td>0.529528</td>\n",
              "      <td>0.590909</td>\n",
              "      <td>0.508380</td>\n",
              "      <td>0.332308</td>\n",
              "      <td>0.608187</td>\n",
              "      <td>0.7325</td>\n",
              "      <td>0.437500</td>\n",
              "    </tr>\n",
              "  </tbody>\n",
              "</table>\n",
              "</div>\n",
              "      <button class=\"colab-df-convert\" onclick=\"convertToInteractive('df-727c650c-5c14-48a7-a81d-0ae028f89add')\"\n",
              "              title=\"Convert this dataframe to an interactive table.\"\n",
              "              style=\"display:none;\">\n",
              "        \n",
              "  <svg xmlns=\"http://www.w3.org/2000/svg\" height=\"24px\"viewBox=\"0 0 24 24\"\n",
              "       width=\"24px\">\n",
              "    <path d=\"M0 0h24v24H0V0z\" fill=\"none\"/>\n",
              "    <path d=\"M18.56 5.44l.94 2.06.94-2.06 2.06-.94-2.06-.94-.94-2.06-.94 2.06-2.06.94zm-11 1L8.5 8.5l.94-2.06 2.06-.94-2.06-.94L8.5 2.5l-.94 2.06-2.06.94zm10 10l.94 2.06.94-2.06 2.06-.94-2.06-.94-.94-2.06-.94 2.06-2.06.94z\"/><path d=\"M17.41 7.96l-1.37-1.37c-.4-.4-.92-.59-1.43-.59-.52 0-1.04.2-1.43.59L10.3 9.45l-7.72 7.72c-.78.78-.78 2.05 0 2.83L4 21.41c.39.39.9.59 1.41.59.51 0 1.02-.2 1.41-.59l7.78-7.78 2.81-2.81c.8-.78.8-2.07 0-2.86zM5.41 20L4 18.59l7.72-7.72 1.47 1.35L5.41 20z\"/>\n",
              "  </svg>\n",
              "      </button>\n",
              "      \n",
              "  <style>\n",
              "    .colab-df-container {\n",
              "      display:flex;\n",
              "      flex-wrap:wrap;\n",
              "      gap: 12px;\n",
              "    }\n",
              "\n",
              "    .colab-df-convert {\n",
              "      background-color: #E8F0FE;\n",
              "      border: none;\n",
              "      border-radius: 50%;\n",
              "      cursor: pointer;\n",
              "      display: none;\n",
              "      fill: #1967D2;\n",
              "      height: 32px;\n",
              "      padding: 0 0 0 0;\n",
              "      width: 32px;\n",
              "    }\n",
              "\n",
              "    .colab-df-convert:hover {\n",
              "      background-color: #E2EBFA;\n",
              "      box-shadow: 0px 1px 2px rgba(60, 64, 67, 0.3), 0px 1px 3px 1px rgba(60, 64, 67, 0.15);\n",
              "      fill: #174EA6;\n",
              "    }\n",
              "\n",
              "    [theme=dark] .colab-df-convert {\n",
              "      background-color: #3B4455;\n",
              "      fill: #D2E3FC;\n",
              "    }\n",
              "\n",
              "    [theme=dark] .colab-df-convert:hover {\n",
              "      background-color: #434B5C;\n",
              "      box-shadow: 0px 1px 3px 1px rgba(0, 0, 0, 0.15);\n",
              "      filter: drop-shadow(0px 1px 2px rgba(0, 0, 0, 0.3));\n",
              "      fill: #FFFFFF;\n",
              "    }\n",
              "  </style>\n",
              "\n",
              "      <script>\n",
              "        const buttonEl =\n",
              "          document.querySelector('#df-727c650c-5c14-48a7-a81d-0ae028f89add button.colab-df-convert');\n",
              "        buttonEl.style.display =\n",
              "          google.colab.kernel.accessAllowed ? 'block' : 'none';\n",
              "\n",
              "        async function convertToInteractive(key) {\n",
              "          const element = document.querySelector('#df-727c650c-5c14-48a7-a81d-0ae028f89add');\n",
              "          const dataTable =\n",
              "            await google.colab.kernel.invokeFunction('convertToInteractive',\n",
              "                                                     [key], {});\n",
              "          if (!dataTable) return;\n",
              "\n",
              "          const docLinkHtml = 'Like what you see? Visit the ' +\n",
              "            '<a target=\"_blank\" href=https://colab.research.google.com/notebooks/data_table.ipynb>data table notebook</a>'\n",
              "            + ' to learn more about interactive tables.';\n",
              "          element.innerHTML = '';\n",
              "          dataTable['output_type'] = 'display_data';\n",
              "          await google.colab.output.renderOutput(dataTable, element);\n",
              "          const docLink = document.createElement('div');\n",
              "          docLink.innerHTML = docLinkHtml;\n",
              "          element.appendChild(docLink);\n",
              "        }\n",
              "      </script>\n",
              "    </div>\n",
              "  </div>\n",
              "  "
            ]
          },
          "metadata": {},
          "execution_count": 13
        }
      ],
      "source": [
        "X.head()"
      ]
    },
    {
      "cell_type": "markdown",
      "metadata": {
        "id": "LT1uMlOgnGm6"
      },
      "source": [
        "**TODO answer to (a)**\n",
        "\n",
        "This code box is rescaling the dataset columns to the range"
      ]
    },
    {
      "cell_type": "markdown",
      "metadata": {
        "id": "XxPZyQIaknBW"
      },
      "source": [
        "b, 3 pts) Now use scikit-learn's train_test_split() function to separate X and y into training and test sets."
      ]
    },
    {
      "cell_type": "code",
      "execution_count": null,
      "metadata": {
        "id": "kR3ru2TxklML"
      },
      "outputs": [],
      "source": [
        "# TODO\n",
        "\n",
        "from sklearn.model_selection import train_test_split\n",
        "X_train, X_test, y_train, y_test = train_test_split(X, y, test_size = 0.2)"
      ]
    },
    {
      "cell_type": "markdown",
      "metadata": {
        "id": "drwd2DmKnv_w"
      },
      "source": [
        "c, 4 pts) Train a k-nearest neighbors classifier on the training data, where k is 3."
      ]
    },
    {
      "cell_type": "code",
      "execution_count": null,
      "metadata": {
        "id": "9LJ1hK6NlmZe",
        "colab": {
          "base_uri": "https://localhost:8080/"
        },
        "outputId": "4d249d5f-ff05-4753-8e76-702b845773a8"
      },
      "outputs": [
        {
          "output_type": "execute_result",
          "data": {
            "text/plain": [
              "KNeighborsClassifier(n_neighbors=3)"
            ]
          },
          "metadata": {},
          "execution_count": 15
        }
      ],
      "source": [
        "# TODO\n",
        "\n",
        "from sklearn.neighbors import KNeighborsClassifier\n",
        "knn = KNeighborsClassifier(n_neighbors=3)\n",
        "knn.fit(X_train, y_train)\n"
      ]
    },
    {
      "cell_type": "markdown",
      "metadata": {
        "id": "jfRUxI8hn7tA"
      },
      "source": [
        "d, 3 pts) Use the score() method of the nearest neighbors classifier on the test data, to determine how well this classifier does on the withheld data."
      ]
    },
    {
      "cell_type": "code",
      "execution_count": null,
      "metadata": {
        "id": "zGyoe6R8l07Y",
        "colab": {
          "base_uri": "https://localhost:8080/"
        },
        "outputId": "5c838c78-1302-4804-d0f8-423c90de2bb3"
      },
      "outputs": [
        {
          "output_type": "stream",
          "name": "stdout",
          "text": [
            "0.9444444444444444\n",
            "0.9859154929577465\n"
          ]
        }
      ],
      "source": [
        "# TODO\n",
        "\n",
        "print(knn.score(X_test, y_test))\n",
        "print(knn.score(X_train, y_train))"
      ]
    },
    {
      "cell_type": "markdown",
      "metadata": {
        "id": "XSe36I7JsgZf"
      },
      "source": [
        "e, 4pts) Evaluating with score() on the training data instead of the testing data should give 100% accuracy if k=1.  Why?"
      ]
    },
    {
      "cell_type": "markdown",
      "metadata": {
        "id": "t4DVmlnVs9Qq"
      },
      "source": [
        "**TODO answer to (e)**\n",
        "\n",
        "The KNN exhibits a high training score at K=1 because it has a tendency to closely follow the training data. Or, to put it another way, if k = 1, the item is simply put into the class of that one nearest neighbor. However, the test score is rather low in comparison, which suggests overfitting."
      ]
    },
    {
      "cell_type": "markdown",
      "metadata": {
        "id": "2ztv599otU7z"
      },
      "source": [
        "# Problem 4:  Decision trees (22 points:  8, 6, 4, 4)"
      ]
    },
    {
      "cell_type": "markdown",
      "metadata": {
        "id": "B3a0Vs_eyFxw"
      },
      "source": [
        "a, 8 pts) Using the same train/test split as the previous problem, train a scikit-learn entropy-based decision tree classifier on the scaled data, and use score() to evaluate the classifier.  When creating the DecisionTreeClassifier, pass in the argument random_state=110 so that we can be sure its performance matches expectations."
      ]
    },
    {
      "cell_type": "code",
      "execution_count": null,
      "metadata": {
        "id": "eV8eADqovIi2",
        "colab": {
          "base_uri": "https://localhost:8080/"
        },
        "outputId": "9a75f977-5fc6-4936-d979-dba6d3652aca"
      },
      "outputs": [
        {
          "output_type": "execute_result",
          "data": {
            "text/plain": [
              "DecisionTreeClassifier(random_state=110)"
            ]
          },
          "metadata": {},
          "execution_count": 18
        }
      ],
      "source": [
        "# TODO train and evaluate DecisionTreeClassifier\n",
        "\n",
        "from sklearn.tree import DecisionTreeClassifier\n",
        "atree = DecisionTreeClassifier(random_state=110)\n",
        "atree.fit(X_train, y_train)\n"
      ]
    },
    {
      "cell_type": "markdown",
      "metadata": {
        "id": "ksX6xMF2zZRg"
      },
      "source": [
        "b, 6 pts) What does \"overfitting\" mean?  Call score() on the training data.  Is this performance consistent with the idea that the model is overfitting?"
      ]
    },
    {
      "cell_type": "code",
      "execution_count": null,
      "metadata": {
        "id": "C-ns4hhSvheC",
        "colab": {
          "base_uri": "https://localhost:8080/"
        },
        "outputId": "d92066eb-0fc8-4676-a5ad-742995b364a8"
      },
      "outputs": [
        {
          "output_type": "execute_result",
          "data": {
            "text/plain": [
              "1.0"
            ]
          },
          "metadata": {},
          "execution_count": 19
        }
      ],
      "source": [
        "# TODO call score()\n",
        "atree.score(X_train, y_train)"
      ]
    },
    {
      "cell_type": "markdown",
      "metadata": {
        "id": "Z7xSl8zz0ZFr"
      },
      "source": [
        "**TODO overfitting explanation and whether model appears to be overfitting**\n",
        "\n",
        "Overfitting refers to a model that models the training data too well. overfitting happens when a model learns the detail and noise in the training data. In simple terms, it means our model does not generalize well from the training data to the testing data.\n",
        "\n",
        "Therefore, if we use the score() function to test the accuracy of the model when inputting the training data, it will appears as '1'.\n"
      ]
    },
    {
      "cell_type": "markdown",
      "metadata": {
        "id": "Swl-secl4Ia1"
      },
      "source": [
        "c, 4 points) Experiment with setting the following parameters of the DecisionTreeClassifier constructor:  max_depth=3, min_samples_leaf=8.  Does the evidence from train and test performance suggest the model is overfitting now?  "
      ]
    },
    {
      "cell_type": "code",
      "execution_count": 31,
      "metadata": {
        "id": "yarzQoX6vmgZ",
        "colab": {
          "base_uri": "https://localhost:8080/"
        },
        "outputId": "411f6c43-bb57-482e-fc6d-9b0da082bfff"
      },
      "outputs": [
        {
          "output_type": "stream",
          "name": "stdout",
          "text": [
            "0.9295774647887324\n",
            "0.8611111111111112\n"
          ]
        }
      ],
      "source": [
        "# TODO evaluate a DecisionTreeClassifier with the given parameters\n",
        "\n",
        "atree = DecisionTreeClassifier(max_depth = 3, min_samples_leaf = 8, random_state = 110)\n",
        "\n",
        "atree.fit(X_train, y_train)\n",
        "\n",
        "print(atree.score(X_train, y_train))\n",
        "print(atree.score(X_test, y_test))"
      ]
    },
    {
      "cell_type": "markdown",
      "metadata": {
        "id": "zbuhew5q6y3S"
      },
      "source": [
        "**TODO is there evidence of overfitting now?**\n",
        "\n",
        "It does not seems that we have a overfitting ocuurs since we implement the 'random_state' instance in our decision treem the accuracy of the model when input the training data or the testing data fall to a normal level."
      ]
    },
    {
      "cell_type": "markdown",
      "metadata": {
        "id": "qEA6eICD8CKp"
      },
      "source": [
        "d, 4 points) Using tree.plot_tree(), draw the tree you made in part (c).  You don't need to name the types or features."
      ]
    },
    {
      "cell_type": "code",
      "execution_count": 32,
      "metadata": {
        "id": "YCP3VlRV8ajB",
        "colab": {
          "base_uri": "https://localhost:8080/",
          "height": 801
        },
        "outputId": "fc734a82-9225-4f66-fc89-dda65e9e4cf1"
      },
      "outputs": [
        {
          "output_type": "execute_result",
          "data": {
            "text/plain": [
              "[Text(0.5416666666666666, 0.875, 'X[12] <= 0.449\\ngini = 0.659\\nsamples = 142\\nvalue = [47, 56, 39]'),\n",
              " Text(0.3333333333333333, 0.625, 'X[9] <= 0.373\\ngini = 0.483\\nsamples = 88\\nvalue = [1, 54, 33]'),\n",
              " Text(0.16666666666666666, 0.375, 'X[9] <= 0.309\\ngini = 0.163\\nsamples = 57\\nvalue = [1, 52, 4]'),\n",
              " Text(0.08333333333333333, 0.125, 'gini = 0.0\\nsamples = 47\\nvalue = [0, 47, 0]'),\n",
              " Text(0.25, 0.125, 'gini = 0.58\\nsamples = 10\\nvalue = [1, 5, 4]'),\n",
              " Text(0.5, 0.375, 'X[12] <= 0.301\\ngini = 0.121\\nsamples = 31\\nvalue = [0, 2, 29]'),\n",
              " Text(0.4166666666666667, 0.125, 'gini = 0.375\\nsamples = 8\\nvalue = [0, 2, 6]'),\n",
              " Text(0.5833333333333334, 0.125, 'gini = 0.0\\nsamples = 23\\nvalue = [0, 0, 23]'),\n",
              " Text(0.75, 0.625, 'X[6] <= 0.449\\ngini = 0.261\\nsamples = 54\\nvalue = [46, 2, 6]'),\n",
              " Text(0.6666666666666666, 0.375, 'gini = 0.406\\nsamples = 8\\nvalue = [1, 1, 6]'),\n",
              " Text(0.8333333333333334, 0.375, 'X[0] <= 0.889\\ngini = 0.043\\nsamples = 46\\nvalue = [45, 1, 0]'),\n",
              " Text(0.75, 0.125, 'gini = 0.219\\nsamples = 8\\nvalue = [7, 1, 0]'),\n",
              " Text(0.9166666666666666, 0.125, 'gini = 0.0\\nsamples = 38\\nvalue = [38, 0, 0]')]"
            ]
          },
          "metadata": {},
          "execution_count": 32
        },
        {
          "output_type": "display_data",
          "data": {
            "text/plain": [
              "<Figure size 1008x720 with 1 Axes>"
            ],
            "image/png": "[encoded data removed]"
          },
          "metadata": {
            "needs_background": "light"
          }
        }
      ],
      "source": [
        "# TODO tree.plot_tree()\n",
        "\n",
        "import matplotlib.pyplot as plt\n",
        "from sklearn import tree\n",
        "\n",
        "plt.figure(figsize=(14,10))\n",
        "tree.plot_tree(atree)"
      ]
    }
  ],
  "metadata": {
    "colab": {
      "collapsed_sections": [],
      "provenance": []
    },
    "kernelspec": {
      "display_name": "Python 3",
      "language": "python",
      "name": "python3"
    },
    "language_info": {
      "codemirror_mode": {
        "name": "ipython",
        "version": 3
      },
      "file_extension": ".py",
      "mimetype": "text/x-python",
      "name": "python",
      "nbconvert_exporter": "python",
      "pygments_lexer": "ipython3",
      "version": "3.8.8"
    }
  },
  "nbformat": 4,
  "nbformat_minor": 0
}