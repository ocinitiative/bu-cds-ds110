{
 "cells": [
  {
   "cell_type": "code",
   "execution_count": 4,
   "id": "174435b7",
   "metadata": {},
   "outputs": [
    {
     "name": "stdout",
     "output_type": "stream",
     "text": [
      "Recursive:\n",
      "A\n",
      "B\n",
      "C\n",
      "Iterative:\n",
      "A\n",
      "B\n",
      "C\n"
     ]
    }
   ],
   "source": [
    "class LinkedList:\n",
    "    def __init__(self, s, next):\n",
    "        self.s = s\n",
    "        self.next = next\n",
    "\n",
    "def print_all_recursive(node):\n",
    "    print(node.s)\n",
    "    if node.next == None:\n",
    "        return\n",
    "    print_all_recursive(node.next)\n",
    "    return  \n",
    "\n",
    "def print_all_iterative(node):\n",
    "    current = node\n",
    "    while current != None:\n",
    "        print(current.s)\n",
    "        current = current.next\n",
    "    return\n",
    "        \n",
    "sample_list = LinkedList('A', LinkedList('B', LinkedList('C', None)))\n",
    "print('Recursive:')\n",
    "print_all_recursive(sample_list)\n",
    "print('Iterative:')\n",
    "print_all_iterative(sample_list)"
   ]
  },
  {
   "cell_type": "code",
   "execution_count": null,
   "id": "a8743c09",
   "metadata": {},
   "outputs": [],
   "source": []
  }
 ],
 "metadata": {
  "kernelspec": {
   "display_name": "Python 3",
   "language": "python",
   "name": "python3"
  },
  "language_info": {
   "codemirror_mode": {
    "name": "ipython",
    "version": 3
   },
   "file_extension": ".py",
   "mimetype": "text/x-python",
   "name": "python",
   "nbconvert_exporter": "python",
   "pygments_lexer": "ipython3",
   "version": "3.8.8"
  }
 },
 "nbformat": 4,
 "nbformat_minor": 5
}
