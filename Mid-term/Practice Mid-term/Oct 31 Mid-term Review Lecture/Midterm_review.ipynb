{
 "cells": [
  {
   "cell_type": "markdown",
   "metadata": {
    "id": "NAzzJ7u9guf3",
    "slideshow": {
     "slide_type": "slide"
    }
   },
   "source": [
    "# Midterm Review"
   ]
  },
  {
   "cell_type": "markdown",
   "metadata": {
    "slideshow": {
     "slide_type": "slide"
    }
   },
   "source": [
    "\n",
    "##  Loops\n",
    "\n",
    "The basic kind of loop is the foreach loop that does something with each element in the list (or other \"iterable\"):"
   ]
  },
  {
   "cell_type": "code",
   "execution_count": 1,
   "metadata": {
    "colab": {
     "base_uri": "https://localhost:8080/"
    },
    "id": "8ctByDroiQY1",
    "outputId": "698ad56a-5938-4251-9e8d-a3c60d3b9cdb",
    "slideshow": {
     "slide_type": "-"
    }
   },
   "outputs": [
    {
     "name": "stdout",
     "output_type": "stream",
     "text": [
      "1\n",
      "2\n",
      "100\n"
     ]
    }
   ],
   "source": [
    "a  = [1, 2, 100]\n",
    "for item in a:\n",
    "  print(item)"
   ]
  },
  {
   "cell_type": "markdown",
   "metadata": {
    "id": "d8Z8wxt6ieiu",
    "slideshow": {
     "slide_type": "slide"
    }
   },
   "source": [
    "If we just want to do something a set number of times, we can use range() as the source of items to iterate over.  Remember that range(n) iterates from 0 to n-1 by default."
   ]
  },
  {
   "cell_type": "code",
   "execution_count": 2,
   "metadata": {
    "colab": {
     "base_uri": "https://localhost:8080/"
    },
    "id": "H8EamXK-ilfz",
    "outputId": "2e420fe0-13ca-4a66-8419-c0d2dfbc588f",
    "slideshow": {
     "slide_type": "-"
    }
   },
   "outputs": [
    {
     "name": "stdout",
     "output_type": "stream",
     "text": [
      "Hooray 0!\n",
      "Hooray 1!\n",
      "Hooray 2!\n"
     ]
    }
   ],
   "source": [
    "for i in range(3):\n",
    "  print(f'Hooray {i}!')"
   ]
  },
  {
   "cell_type": "markdown",
   "metadata": {
    "id": "CC5CzY7iitJb",
    "slideshow": {
     "slide_type": "slide"
    }
   },
   "source": [
    "If we want to do something until a condition is met, we can use a while loop -- which iterates until a condition is *not* met."
   ]
  },
  {
   "cell_type": "code",
   "execution_count": 3,
   "metadata": {
    "colab": {
     "base_uri": "https://localhost:8080/"
    },
    "id": "BAaMx6X-i1-v",
    "outputId": "20bc83ee-9bc0-49ef-fa02-66d8afef1de1",
    "slideshow": {
     "slide_type": "-"
    }
   },
   "outputs": [
    {
     "name": "stdout",
     "output_type": "stream",
     "text": [
      "3\n",
      "6\n",
      "9\n"
     ]
    }
   ],
   "source": [
    "a = 3\n",
    "while (a < 10):\n",
    "  print(a)\n",
    "  a += 3"
   ]
  },
  {
   "cell_type": "markdown",
   "metadata": {
    "id": "nN49x9ycjA_m",
    "slideshow": {
     "slide_type": "slide"
    }
   },
   "source": [
    "enumerate() is useful for producing both an item number and an item during iteration, in case you want both."
   ]
  },
  {
   "cell_type": "code",
   "execution_count": 4,
   "metadata": {
    "colab": {
     "base_uri": "https://localhost:8080/"
    },
    "id": "PP99IVKLjJqN",
    "outputId": "d40154c7-ff0d-4880-9dda-aff3c4db7458",
    "slideshow": {
     "slide_type": "-"
    }
   },
   "outputs": [
    {
     "name": "stdout",
     "output_type": "stream",
     "text": [
      "item 0 is 3\n",
      "item 1 is 6\n",
      "item 2 is 9\n"
     ]
    }
   ],
   "source": [
    "for i, item in enumerate([3, 6, 9]):\n",
    "  print(\"item \" + str(i) + \" is \" + str(item))"
   ]
  },
  {
   "cell_type": "markdown",
   "metadata": {
    "id": "_u_C9fzrjaBw",
    "slideshow": {
     "slide_type": "slide"
    }
   },
   "source": [
    "Recall also that you can generally unpack tuples as a part of list iteration."
   ]
  },
  {
   "cell_type": "code",
   "execution_count": 5,
   "metadata": {
    "colab": {
     "base_uri": "https://localhost:8080/"
    },
    "id": "B-6OkEx6gsP4",
    "outputId": "c399a7c8-4aa9-46bd-fc31-d7656bf8cf12",
    "slideshow": {
     "slide_type": "-"
    }
   },
   "outputs": [
    {
     "name": "stdout",
     "output_type": "stream",
     "text": [
      "My rating of Back to the Future is 4\n",
      "My rating of Time Bandits is 2\n",
      "My rating of Looper is 3\n"
     ]
    }
   ],
   "source": [
    "rated = [(\"Back to the Future\", 4), (\"Time Bandits\", 2), (\"Looper\", 3)]\n",
    "for movie, rating in rated:\n",
    "  print(\"My rating of \" + movie + \" is \" + str(rating))"
   ]
  },
  {
   "cell_type": "markdown",
   "metadata": {
    "id": "b9go-WR3kiAm",
    "slideshow": {
     "slide_type": "slide"
    }
   },
   "source": [
    "You can iterate over dictionaries, too."
   ]
  },
  {
   "cell_type": "code",
   "execution_count": 6,
   "metadata": {
    "colab": {
     "base_uri": "https://localhost:8080/"
    },
    "id": "uutrVcoVkmUk",
    "outputId": "927d288f-1942-471d-cfe7-b45ef483e459",
    "slideshow": {
     "slide_type": "-"
    }
   },
   "outputs": [
    {
     "name": "stdout",
     "output_type": "stream",
     "text": [
      "My rating of Back to the Future is 4\n",
      "My rating of Time Bandits is 2\n",
      "My rating of Looper is 3\n"
     ]
    }
   ],
   "source": [
    "mydict = {\n",
    "    \"Back to the Future\": 4,\n",
    "    \"Time Bandits\": 2,\n",
    "    \"Looper\": 3\n",
    "}\n",
    "\n",
    "for key in mydict:\n",
    "  print(\"My rating of \" + key + \" is \" + str(mydict[key]))"
   ]
  },
  {
   "cell_type": "markdown",
   "metadata": {
    "id": "Lx5A3J_7kX4l",
    "slideshow": {
     "slide_type": "slide"
    }
   },
   "source": [
    "## Dictionaries\n",
    "\n",
    "Recall that you can use square brackets to both set values for keys and look up values."
   ]
  },
  {
   "cell_type": "code",
   "execution_count": 7,
   "metadata": {
    "colab": {
     "base_uri": "https://localhost:8080/"
    },
    "id": "JZjJXYrDlmAv",
    "outputId": "62807b24-58c8-4f39-8814-0fd554638613",
    "slideshow": {
     "slide_type": "-"
    }
   },
   "outputs": [
    {
     "name": "stdout",
     "output_type": "stream",
     "text": [
      "Polo\n"
     ]
    }
   ],
   "source": [
    "newdict = {}\n",
    "newdict[\"Marco\"] = \"Polo\"\n",
    "print(newdict[\"Marco\"])"
   ]
  },
  {
   "cell_type": "markdown",
   "metadata": {
    "id": "XZh9liIklz9S",
    "slideshow": {
     "slide_type": "subslide"
    }
   },
   "source": [
    "If you try to access a key that isn't there, you will raise an error unless you supply a default value, as demonstrated below."
   ]
  },
  {
   "cell_type": "code",
   "execution_count": 8,
   "metadata": {
    "colab": {
     "base_uri": "https://localhost:8080/"
    },
    "id": "8WMWFOWFly8K",
    "outputId": "cc4f64c3-e584-4c37-d2f0-b4aa8f3a52b9",
    "slideshow": {
     "slide_type": "-"
    }
   },
   "outputs": [
    {
     "name": "stdout",
     "output_type": "stream",
     "text": [
      "Not Found\n"
     ]
    }
   ],
   "source": [
    "print(newdict.get(\"Polo\", \"Not Found\"))"
   ]
  },
  {
   "cell_type": "markdown",
   "metadata": {
    "id": "-8QiHaUtmRkS",
    "slideshow": {
     "slide_type": "slide"
    }
   },
   "source": [
    "The \"in\" keyword can also check whether something is a key in the dictionary already."
   ]
  },
  {
   "cell_type": "code",
   "execution_count": 9,
   "metadata": {
    "colab": {
     "base_uri": "https://localhost:8080/"
    },
    "id": "IOz1Rl5Em1E6",
    "outputId": "dd59864d-a5c4-42f0-cc64-49279dd6a04e",
    "slideshow": {
     "slide_type": "-"
    }
   },
   "outputs": [
    {
     "data": {
      "text/plain": [
       "False"
      ]
     },
     "execution_count": 9,
     "metadata": {},
     "output_type": "execute_result"
    }
   ],
   "source": [
    "\"Polo\" in newdict"
   ]
  },
  {
   "cell_type": "markdown",
   "metadata": {
    "id": "-DtW4FEMnsrx",
    "slideshow": {
     "slide_type": "slide"
    }
   },
   "source": [
    "We mentioned earlier that you can iterate over keys, but you can also iterate over both keys and values as a tuple:"
   ]
  },
  {
   "cell_type": "code",
   "execution_count": 10,
   "metadata": {
    "colab": {
     "base_uri": "https://localhost:8080/"
    },
    "id": "vAdSYwg0nyoz",
    "outputId": "1bada02b-ee39-4f29-9d5e-3d75e0ebad3b",
    "slideshow": {
     "slide_type": "-"
    }
   },
   "outputs": [
    {
     "name": "stdout",
     "output_type": "stream",
     "text": [
      "Back to the Future: 4\n",
      "Time Bandits: 2\n",
      "Looper: 3\n"
     ]
    }
   ],
   "source": [
    "for movie, rating in mydict.items():\n",
    "  print(movie + \": \" + str(rating))"
   ]
  },
  {
   "cell_type": "markdown",
   "metadata": {
    "id": "QUnGkSVEnfpp",
    "slideshow": {
     "slide_type": "slide"
    }
   },
   "source": [
    "## DataFrames\n",
    "\n",
    "DataFrames are a major way to work with data in data science.\n"
   ]
  },
  {
   "cell_type": "code",
   "execution_count": null,
   "metadata": {
    "colab": {
     "base_uri": "https://localhost:8080/",
     "height": 76,
     "resources": {
      "http://localhost:8080/nbextensions/google.colab/files.js": {
       "data": "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",
       "headers": [
        [
         "content-type",
         "application/javascript"
        ]
       ],
       "ok": true,
       "status": 200,
       "status_text": "OK"
      }
     }
    },
    "id": "erCg5liHog4v",
    "outputId": "694e66ea-d600-4c0a-d65d-9da3d828c76d",
    "slideshow": {
     "slide_type": "-"
    }
   },
   "outputs": [],
   "source": [
    "# Google colab only\n",
    "from google.colab import files\n",
    "import io\n",
    "\n",
    "uploaded = files.upload() # pick starbucks_drinkMenu_expanded.csv"
   ]
  },
  {
   "cell_type": "code",
   "execution_count": 12,
   "metadata": {
    "id": "7OetIyctorAP",
    "slideshow": {
     "slide_type": "-"
    }
   },
   "outputs": [],
   "source": [
    "import pandas as pd\n",
    "\n",
    "df = pd.read_csv('starbucks_drinkMenu_expanded.csv', index_col = 'Beverage')"
   ]
  },
  {
   "cell_type": "markdown",
   "metadata": {
    "id": "7z1lejRqpAYT",
    "slideshow": {
     "slide_type": "slide"
    }
   },
   "source": [
    "Recall that we can get smaller dataframes using \".loc[]\" on the dataframe.  We can pass it names of rows or columns we want, or colon if we want everything."
   ]
  },
  {
   "cell_type": "code",
   "execution_count": 14,
   "metadata": {
    "colab": {
     "base_uri": "https://localhost:8080/"
    },
    "id": "UtZFmAD_pQAM",
    "outputId": "ddac7e95-a458-4fa5-94f4-d7fdf1fe7747",
    "slideshow": {
     "slide_type": "-"
    }
   },
   "outputs": [
    {
     "data": {
      "text/plain": [
       "Beverage\n",
       "Brewed Coffee    3\n",
       "Brewed Coffee    4\n",
       "Brewed Coffee    5\n",
       "Brewed Coffee    5\n",
       "Name: Calories, dtype: int64"
      ]
     },
     "execution_count": 14,
     "metadata": {},
     "output_type": "execute_result"
    }
   ],
   "source": [
    "df.loc[\"Brewed Coffee\", \"Calories\"]"
   ]
  },
  {
   "cell_type": "code",
   "execution_count": 15,
   "metadata": {
    "colab": {
     "base_uri": "https://localhost:8080/",
     "height": 330
    },
    "id": "_GGFP8APpqwj",
    "outputId": "de07fdfd-e125-42f2-a428-e54016be4f26",
    "slideshow": {
     "slide_type": "slide"
    }
   },
   "outputs": [
    {
     "data": {
      "text/html": [
       "<div>\n",
       "<style scoped>\n",
       "    .dataframe tbody tr th:only-of-type {\n",
       "        vertical-align: middle;\n",
       "    }\n",
       "\n",
       "    .dataframe tbody tr th {\n",
       "        vertical-align: top;\n",
       "    }\n",
       "\n",
       "    .dataframe thead th {\n",
       "        text-align: right;\n",
       "    }\n",
       "</style>\n",
       "<table border=\"1\" class=\"dataframe\">\n",
       "  <thead>\n",
       "    <tr style=\"text-align: right;\">\n",
       "      <th></th>\n",
       "      <th>Beverage_category</th>\n",
       "      <th>Beverage_prep</th>\n",
       "      <th>Calories</th>\n",
       "      <th>Total_Fat_g</th>\n",
       "      <th>Trans_Fat_g</th>\n",
       "      <th>Saturated_Fat_g</th>\n",
       "      <th>Sodium_mg</th>\n",
       "      <th>Total_Carbohydrates_g</th>\n",
       "      <th>Cholesterol_mg</th>\n",
       "      <th>Dietary Fibre_g</th>\n",
       "      <th>Sugars_g</th>\n",
       "      <th>Protein_g</th>\n",
       "      <th>Vitamin_A</th>\n",
       "      <th>Vitamin_C</th>\n",
       "      <th>Calcium</th>\n",
       "      <th>Iron</th>\n",
       "      <th>Caffeine_mg</th>\n",
       "    </tr>\n",
       "    <tr>\n",
       "      <th>Beverage</th>\n",
       "      <th></th>\n",
       "      <th></th>\n",
       "      <th></th>\n",
       "      <th></th>\n",
       "      <th></th>\n",
       "      <th></th>\n",
       "      <th></th>\n",
       "      <th></th>\n",
       "      <th></th>\n",
       "      <th></th>\n",
       "      <th></th>\n",
       "      <th></th>\n",
       "      <th></th>\n",
       "      <th></th>\n",
       "      <th></th>\n",
       "      <th></th>\n",
       "      <th></th>\n",
       "    </tr>\n",
       "  </thead>\n",
       "  <tbody>\n",
       "    <tr>\n",
       "      <th>Brewed Coffee</th>\n",
       "      <td>Coffee</td>\n",
       "      <td>Short</td>\n",
       "      <td>3</td>\n",
       "      <td>0.1</td>\n",
       "      <td>0.0</td>\n",
       "      <td>0.0</td>\n",
       "      <td>0</td>\n",
       "      <td>5</td>\n",
       "      <td>0</td>\n",
       "      <td>0</td>\n",
       "      <td>0</td>\n",
       "      <td>0.3</td>\n",
       "      <td>0%</td>\n",
       "      <td>0%</td>\n",
       "      <td>0%</td>\n",
       "      <td>0%</td>\n",
       "      <td>175</td>\n",
       "    </tr>\n",
       "    <tr>\n",
       "      <th>Brewed Coffee</th>\n",
       "      <td>Coffee</td>\n",
       "      <td>Tall</td>\n",
       "      <td>4</td>\n",
       "      <td>0.1</td>\n",
       "      <td>0.0</td>\n",
       "      <td>0.0</td>\n",
       "      <td>0</td>\n",
       "      <td>10</td>\n",
       "      <td>0</td>\n",
       "      <td>0</td>\n",
       "      <td>0</td>\n",
       "      <td>0.5</td>\n",
       "      <td>0%</td>\n",
       "      <td>0%</td>\n",
       "      <td>0%</td>\n",
       "      <td>0%</td>\n",
       "      <td>260</td>\n",
       "    </tr>\n",
       "    <tr>\n",
       "      <th>Brewed Coffee</th>\n",
       "      <td>Coffee</td>\n",
       "      <td>Grande</td>\n",
       "      <td>5</td>\n",
       "      <td>0.1</td>\n",
       "      <td>0.0</td>\n",
       "      <td>0.0</td>\n",
       "      <td>0</td>\n",
       "      <td>10</td>\n",
       "      <td>0</td>\n",
       "      <td>0</td>\n",
       "      <td>0</td>\n",
       "      <td>1.0</td>\n",
       "      <td>0%</td>\n",
       "      <td>0%</td>\n",
       "      <td>0%</td>\n",
       "      <td>0%</td>\n",
       "      <td>330</td>\n",
       "    </tr>\n",
       "    <tr>\n",
       "      <th>Brewed Coffee</th>\n",
       "      <td>Coffee</td>\n",
       "      <td>Venti</td>\n",
       "      <td>5</td>\n",
       "      <td>0.1</td>\n",
       "      <td>0.0</td>\n",
       "      <td>0.0</td>\n",
       "      <td>0</td>\n",
       "      <td>10</td>\n",
       "      <td>0</td>\n",
       "      <td>0</td>\n",
       "      <td>0</td>\n",
       "      <td>1.0</td>\n",
       "      <td>0%</td>\n",
       "      <td>0%</td>\n",
       "      <td>2%</td>\n",
       "      <td>0%</td>\n",
       "      <td>410</td>\n",
       "    </tr>\n",
       "  </tbody>\n",
       "</table>\n",
       "</div>"
      ],
      "text/plain": [
       "              Beverage_category Beverage_prep  Calories Total_Fat_g  \\\n",
       "Beverage                                                              \n",
       "Brewed Coffee            Coffee         Short         3         0.1   \n",
       "Brewed Coffee            Coffee          Tall         4         0.1   \n",
       "Brewed Coffee            Coffee        Grande         5         0.1   \n",
       "Brewed Coffee            Coffee         Venti         5         0.1   \n",
       "\n",
       "               Trans_Fat_g  Saturated_Fat_g  Sodium_mg  Total_Carbohydrates_g  \\\n",
       "Beverage                                                                        \n",
       "Brewed Coffee          0.0              0.0          0                      5   \n",
       "Brewed Coffee          0.0              0.0          0                     10   \n",
       "Brewed Coffee          0.0              0.0          0                     10   \n",
       "Brewed Coffee          0.0              0.0          0                     10   \n",
       "\n",
       "               Cholesterol_mg  Dietary Fibre_g  Sugars_g  Protein_g Vitamin_A  \\\n",
       "Beverage                                                                        \n",
       "Brewed Coffee               0                0         0        0.3        0%   \n",
       "Brewed Coffee               0                0         0        0.5        0%   \n",
       "Brewed Coffee               0                0         0        1.0        0%   \n",
       "Brewed Coffee               0                0         0        1.0        0%   \n",
       "\n",
       "              Vitamin_C Calcium Iron Caffeine_mg  \n",
       "Beverage                                          \n",
       "Brewed Coffee        0%      0%   0%         175  \n",
       "Brewed Coffee        0%      0%   0%         260  \n",
       "Brewed Coffee        0%      0%   0%         330  \n",
       "Brewed Coffee        0%      2%   0%         410  "
      ]
     },
     "execution_count": 15,
     "metadata": {},
     "output_type": "execute_result"
    }
   ],
   "source": [
    "df.loc[\"Brewed Coffee\", :]"
   ]
  },
  {
   "cell_type": "markdown",
   "metadata": {
    "id": "lrbB5-VOpyV6",
    "slideshow": {
     "slide_type": "slide"
    }
   },
   "source": [
    "If we call mean() on a dataframe with no arguments, it'll find the means of all columns."
   ]
  },
  {
   "cell_type": "code",
   "execution_count": 16,
   "metadata": {
    "colab": {
     "base_uri": "https://localhost:8080/"
    },
    "id": "vQe6jIuRp7ue",
    "outputId": "946f3c9a-4040-48d4-b39d-960890b04d19",
    "slideshow": {
     "slide_type": "-"
    }
   },
   "outputs": [
    {
     "data": {
      "text/plain": [
       "Calories                 4.250000e+00\n",
       "Trans_Fat_g              0.000000e+00\n",
       "Saturated_Fat_g          0.000000e+00\n",
       "Sodium_mg                0.000000e+00\n",
       "Total_Carbohydrates_g    8.750000e+00\n",
       "Cholesterol_mg           0.000000e+00\n",
       "Dietary Fibre_g          0.000000e+00\n",
       "Sugars_g                 0.000000e+00\n",
       "Protein_g                7.000000e-01\n",
       "Caffeine_mg              4.381508e+10\n",
       "dtype: float64"
      ]
     },
     "execution_count": 16,
     "metadata": {},
     "output_type": "execute_result"
    }
   ],
   "source": [
    "df.loc[\"Brewed Coffee\", :].mean()"
   ]
  },
  {
   "cell_type": "markdown",
   "metadata": {
    "slideshow": {
     "slide_type": "slide"
    }
   },
   "source": [
    "idxmax() will find the entry with the greatest value in some column."
   ]
  },
  {
   "cell_type": "code",
   "execution_count": 17,
   "metadata": {
    "slideshow": {
     "slide_type": "-"
    }
   },
   "outputs": [
    {
     "data": {
      "text/plain": [
       "'White Chocolate Mocha (Without Whipped Cream)'"
      ]
     },
     "execution_count": 17,
     "metadata": {},
     "output_type": "execute_result"
    }
   ],
   "source": [
    "df[\"Calories\"].idxmax()"
   ]
  },
  {
   "cell_type": "markdown",
   "metadata": {
    "id": "DR9gFD3iqDcd",
    "slideshow": {
     "slide_type": "slide"
    }
   },
   "source": [
    "It's possible to filter for values that match particular criteria.  We create a nested expression where the inside expression checks which values fit and evaluates to an array of booleans, then use that to index the dataframe as a whole."
   ]
  },
  {
   "cell_type": "code",
   "execution_count": 20,
   "metadata": {
    "colab": {
     "base_uri": "https://localhost:8080/",
     "height": 254
    },
    "id": "cL0EjZXoqycA",
    "outputId": "b3332150-c714-4b4e-83d5-50fe2ee3f4d7",
    "slideshow": {
     "slide_type": "-"
    }
   },
   "outputs": [
    {
     "data": {
      "text/html": [
       "<div>\n",
       "<style scoped>\n",
       "    .dataframe tbody tr th:only-of-type {\n",
       "        vertical-align: middle;\n",
       "    }\n",
       "\n",
       "    .dataframe tbody tr th {\n",
       "        vertical-align: top;\n",
       "    }\n",
       "\n",
       "    .dataframe thead th {\n",
       "        text-align: right;\n",
       "    }\n",
       "</style>\n",
       "<table border=\"1\" class=\"dataframe\">\n",
       "  <thead>\n",
       "    <tr style=\"text-align: right;\">\n",
       "      <th></th>\n",
       "      <th>Beverage_category</th>\n",
       "      <th>Beverage_prep</th>\n",
       "      <th>Calories</th>\n",
       "      <th>Total_Fat_g</th>\n",
       "      <th>Trans_Fat_g</th>\n",
       "      <th>Saturated_Fat_g</th>\n",
       "      <th>Sodium_mg</th>\n",
       "      <th>Total_Carbohydrates_g</th>\n",
       "      <th>Cholesterol_mg</th>\n",
       "      <th>Dietary Fibre_g</th>\n",
       "      <th>Sugars_g</th>\n",
       "      <th>Protein_g</th>\n",
       "      <th>Vitamin_A</th>\n",
       "      <th>Vitamin_C</th>\n",
       "      <th>Calcium</th>\n",
       "      <th>Iron</th>\n",
       "      <th>Caffeine_mg</th>\n",
       "    </tr>\n",
       "    <tr>\n",
       "      <th>Beverage</th>\n",
       "      <th></th>\n",
       "      <th></th>\n",
       "      <th></th>\n",
       "      <th></th>\n",
       "      <th></th>\n",
       "      <th></th>\n",
       "      <th></th>\n",
       "      <th></th>\n",
       "      <th></th>\n",
       "      <th></th>\n",
       "      <th></th>\n",
       "      <th></th>\n",
       "      <th></th>\n",
       "      <th></th>\n",
       "      <th></th>\n",
       "      <th></th>\n",
       "      <th></th>\n",
       "    </tr>\n",
       "  </thead>\n",
       "  <tbody>\n",
       "    <tr>\n",
       "      <th>White Chocolate Mocha (Without Whipped Cream)</th>\n",
       "      <td>Signature Espresso Drinks</td>\n",
       "      <td>2% Milk</td>\n",
       "      <td>510</td>\n",
       "      <td>15</td>\n",
       "      <td>9.0</td>\n",
       "      <td>0.2</td>\n",
       "      <td>35</td>\n",
       "      <td>330</td>\n",
       "      <td>77</td>\n",
       "      <td>0</td>\n",
       "      <td>74</td>\n",
       "      <td>19.0</td>\n",
       "      <td>20%</td>\n",
       "      <td>4%</td>\n",
       "      <td>60%</td>\n",
       "      <td>2%</td>\n",
       "      <td>150</td>\n",
       "    </tr>\n",
       "  </tbody>\n",
       "</table>\n",
       "</div>"
      ],
      "text/plain": [
       "                                                       Beverage_category  \\\n",
       "Beverage                                                                   \n",
       "White Chocolate Mocha (Without Whipped Cream)  Signature Espresso Drinks   \n",
       "\n",
       "                                              Beverage_prep  Calories  \\\n",
       "Beverage                                                                \n",
       "White Chocolate Mocha (Without Whipped Cream)       2% Milk       510   \n",
       "\n",
       "                                              Total_Fat_g  Trans_Fat_g  \\\n",
       "Beverage                                                                 \n",
       "White Chocolate Mocha (Without Whipped Cream)          15          9.0   \n",
       "\n",
       "                                               Saturated_Fat_g  Sodium_mg  \\\n",
       "Beverage                                                                    \n",
       "White Chocolate Mocha (Without Whipped Cream)              0.2         35   \n",
       "\n",
       "                                               Total_Carbohydrates_g  \\\n",
       "Beverage                                                               \n",
       "White Chocolate Mocha (Without Whipped Cream)                    330   \n",
       "\n",
       "                                               Cholesterol_mg  \\\n",
       "Beverage                                                        \n",
       "White Chocolate Mocha (Without Whipped Cream)              77   \n",
       "\n",
       "                                               Dietary Fibre_g  Sugars_g  \\\n",
       "Beverage                                                                   \n",
       "White Chocolate Mocha (Without Whipped Cream)                0        74   \n",
       "\n",
       "                                               Protein_g Vitamin_A Vitamin_C  \\\n",
       "Beverage                                                                       \n",
       "White Chocolate Mocha (Without Whipped Cream)       19.0       20%        4%   \n",
       "\n",
       "                                              Calcium Iron Caffeine_mg  \n",
       "Beverage                                                                \n",
       "White Chocolate Mocha (Without Whipped Cream)     60%   2%         150  "
      ]
     },
     "execution_count": 20,
     "metadata": {},
     "output_type": "execute_result"
    }
   ],
   "source": [
    "df[df[\"Calories\"] > 500]"
   ]
  },
  {
   "cell_type": "markdown",
   "metadata": {
    "id": "1gcMrBhCrHSw",
    "slideshow": {
     "slide_type": "slide"
    }
   },
   "source": [
    "It's possible to index by multiple criteria in this way, but they need to be separated by an & and each surrounded by parentheses."
   ]
  },
  {
   "cell_type": "code",
   "execution_count": 22,
   "metadata": {
    "colab": {
     "base_uri": "https://localhost:8080/",
     "height": 254
    },
    "id": "umGA8jhNrVhD",
    "outputId": "25066d62-7a9d-46fa-b6c7-ad2d9bcb4940",
    "slideshow": {
     "slide_type": "-"
    }
   },
   "outputs": [
    {
     "data": {
      "text/html": [
       "<div>\n",
       "<style scoped>\n",
       "    .dataframe tbody tr th:only-of-type {\n",
       "        vertical-align: middle;\n",
       "    }\n",
       "\n",
       "    .dataframe tbody tr th {\n",
       "        vertical-align: top;\n",
       "    }\n",
       "\n",
       "    .dataframe thead th {\n",
       "        text-align: right;\n",
       "    }\n",
       "</style>\n",
       "<table border=\"1\" class=\"dataframe\">\n",
       "  <thead>\n",
       "    <tr style=\"text-align: right;\">\n",
       "      <th></th>\n",
       "      <th>Beverage_category</th>\n",
       "      <th>Beverage_prep</th>\n",
       "      <th>Calories</th>\n",
       "      <th>Total_Fat_g</th>\n",
       "      <th>Trans_Fat_g</th>\n",
       "      <th>Saturated_Fat_g</th>\n",
       "      <th>Sodium_mg</th>\n",
       "      <th>Total_Carbohydrates_g</th>\n",
       "      <th>Cholesterol_mg</th>\n",
       "      <th>Dietary Fibre_g</th>\n",
       "      <th>Sugars_g</th>\n",
       "      <th>Protein_g</th>\n",
       "      <th>Vitamin_A</th>\n",
       "      <th>Vitamin_C</th>\n",
       "      <th>Calcium</th>\n",
       "      <th>Iron</th>\n",
       "      <th>Caffeine_mg</th>\n",
       "    </tr>\n",
       "    <tr>\n",
       "      <th>Beverage</th>\n",
       "      <th></th>\n",
       "      <th></th>\n",
       "      <th></th>\n",
       "      <th></th>\n",
       "      <th></th>\n",
       "      <th></th>\n",
       "      <th></th>\n",
       "      <th></th>\n",
       "      <th></th>\n",
       "      <th></th>\n",
       "      <th></th>\n",
       "      <th></th>\n",
       "      <th></th>\n",
       "      <th></th>\n",
       "      <th></th>\n",
       "      <th></th>\n",
       "      <th></th>\n",
       "    </tr>\n",
       "  </thead>\n",
       "  <tbody>\n",
       "    <tr>\n",
       "      <th>Caramel Apple Spice (Without Whipped Cream)</th>\n",
       "      <td>Signature Espresso Drinks</td>\n",
       "      <td>Venti</td>\n",
       "      <td>360</td>\n",
       "      <td>0</td>\n",
       "      <td>0.0</td>\n",
       "      <td>0.0</td>\n",
       "      <td>0</td>\n",
       "      <td>25</td>\n",
       "      <td>89</td>\n",
       "      <td>0</td>\n",
       "      <td>83</td>\n",
       "      <td>0.0</td>\n",
       "      <td>0%</td>\n",
       "      <td>0%</td>\n",
       "      <td>0%</td>\n",
       "      <td>0%</td>\n",
       "      <td>0</td>\n",
       "    </tr>\n",
       "  </tbody>\n",
       "</table>\n",
       "</div>"
      ],
      "text/plain": [
       "                                                     Beverage_category  \\\n",
       "Beverage                                                                 \n",
       "Caramel Apple Spice (Without Whipped Cream)  Signature Espresso Drinks   \n",
       "\n",
       "                                            Beverage_prep  Calories  \\\n",
       "Beverage                                                              \n",
       "Caramel Apple Spice (Without Whipped Cream)         Venti       360   \n",
       "\n",
       "                                            Total_Fat_g  Trans_Fat_g  \\\n",
       "Beverage                                                               \n",
       "Caramel Apple Spice (Without Whipped Cream)           0          0.0   \n",
       "\n",
       "                                             Saturated_Fat_g  Sodium_mg  \\\n",
       "Beverage                                                                  \n",
       "Caramel Apple Spice (Without Whipped Cream)              0.0          0   \n",
       "\n",
       "                                             Total_Carbohydrates_g  \\\n",
       "Beverage                                                             \n",
       "Caramel Apple Spice (Without Whipped Cream)                     25   \n",
       "\n",
       "                                             Cholesterol_mg  Dietary Fibre_g  \\\n",
       "Beverage                                                                       \n",
       "Caramel Apple Spice (Without Whipped Cream)              89                0   \n",
       "\n",
       "                                             Sugars_g  Protein_g Vitamin_A  \\\n",
       "Beverage                                                                     \n",
       "Caramel Apple Spice (Without Whipped Cream)        83        0.0        0%   \n",
       "\n",
       "                                            Vitamin_C Calcium Iron Caffeine_mg  \n",
       "Beverage                                                                        \n",
       "Caramel Apple Spice (Without Whipped Cream)        0%      0%   0%           0  "
      ]
     },
     "execution_count": 22,
     "metadata": {},
     "output_type": "execute_result"
    }
   ],
   "source": [
    "df[(df[\"Calories\"] > 300) & (df[\"Beverage_prep\"] == \"Venti\")]"
   ]
  },
  {
   "cell_type": "markdown",
   "metadata": {
    "id": "6Ez7kAB9rsJz",
    "slideshow": {
     "slide_type": "slide"
    }
   },
   "source": [
    "## Objects\n",
    "\n",
    "We define objects as bundles of related data and functions associated with that data (methods).  Some methods are common to all objects and can be overridden; these include \\_\\_init\\_\\_() for initialization and \\_\\_str\\_\\_() for rendering the object as a string.  (The double-underscores indicate built-in functions.)\n"
   ]
  },
  {
   "cell_type": "markdown",
   "metadata": {
    "slideshow": {
     "slide_type": "subslide"
    }
   },
   "source": [
    "\n",
    "All of an object's methods need to include self as a first parameter (unless they're static).  You can then refer to fields (variables inside the object) within the object code with \"self.fieldname\", or from outside the object using \"variablename.fieldname\"."
   ]
  },
  {
   "cell_type": "code",
   "execution_count": 23,
   "metadata": {
    "colab": {
     "base_uri": "https://localhost:8080/"
    },
    "id": "Jxg7plVdslil",
    "outputId": "2c726fdd-b7b6-4a34-d22e-7e34adb6a5e8",
    "slideshow": {
     "slide_type": "slide"
    }
   },
   "outputs": [
    {
     "name": "stdout",
     "output_type": "stream",
     "text": [
      "OOOO\n",
      "OOOO\n",
      "OOOO\n",
      "OOOO\n",
      "\n",
      "4\n"
     ]
    }
   ],
   "source": [
    "class Square:\n",
    "  def __init__(self, side):\n",
    "    self.side = side\n",
    "\n",
    "  def __str__(self):\n",
    "    out = \"\"\n",
    "    for i in range(self.side):\n",
    "      for j in range(self.side):\n",
    "        out += \"O\"\n",
    "      out += \"\\n\"\n",
    "    return out\n",
    "  \n",
    "  def report_side_length(self):\n",
    "    print(str(self.side))\n",
    "\n",
    "square = Square(4)\n",
    "print(square) # implicitly calls __str__\n",
    "square.report_side_length()"
   ]
  },
  {
   "cell_type": "markdown",
   "metadata": {
    "id": "MzYBI4-67Z3F",
    "slideshow": {
     "slide_type": "slide"
    }
   },
   "source": [
    "## Strings\n",
    "\n",
    "Recall that split() is a handy way to turn a string into a list; its argument is the separator."
   ]
  },
  {
   "cell_type": "code",
   "execution_count": 24,
   "metadata": {
    "colab": {
     "base_uri": "https://localhost:8080/"
    },
    "id": "dpq1u3X37wJd",
    "outputId": "41ec4e39-64a2-49c7-caaa-e78a2b47b804",
    "slideshow": {
     "slide_type": "-"
    }
   },
   "outputs": [
    {
     "data": {
      "text/plain": [
       "['cabbage', 'beets', 'lettuce']"
      ]
     },
     "execution_count": 24,
     "metadata": {},
     "output_type": "execute_result"
    }
   ],
   "source": [
    "\"cabbage,beets,lettuce\".split(',')"
   ]
  },
  {
   "cell_type": "markdown",
   "metadata": {
    "id": "KZyfjuEk8WQl",
    "slideshow": {
     "slide_type": "subslide"
    }
   },
   "source": [
    ".lower() is a good way of making sure comparisons are case-insensitive."
   ]
  },
  {
   "cell_type": "code",
   "execution_count": 25,
   "metadata": {
    "colab": {
     "base_uri": "https://localhost:8080/"
    },
    "id": "Lz2SCAoL8ePP",
    "outputId": "5fb77b40-f725-4e26-e748-1002e4531fdc",
    "slideshow": {
     "slide_type": "-"
    }
   },
   "outputs": [
    {
     "data": {
      "text/plain": [
       "True"
      ]
     },
     "execution_count": 25,
     "metadata": {},
     "output_type": "execute_result"
    }
   ],
   "source": [
    "\"Hello\".lower() == \"hEllO\".lower()"
   ]
  },
  {
   "cell_type": "markdown",
   "metadata": {
    "id": "rra2wikR75VL",
    "slideshow": {
     "slide_type": "slide"
    }
   },
   "source": [
    "Remember that \"in\" is the Python way of checking whether a string contains a substring."
   ]
  },
  {
   "cell_type": "code",
   "execution_count": 26,
   "metadata": {
    "colab": {
     "base_uri": "https://localhost:8080/"
    },
    "id": "NTj__mJi8BVW",
    "outputId": "42a6429c-9a03-4b32-cee6-368087ec67af",
    "slideshow": {
     "slide_type": "-"
    }
   },
   "outputs": [
    {
     "data": {
      "text/plain": [
       "True"
      ]
     },
     "execution_count": 26,
     "metadata": {},
     "output_type": "execute_result"
    }
   ],
   "source": [
    "\"foo\" in \"foobar\""
   ]
  },
  {
   "cell_type": "markdown",
   "metadata": {
    "id": "Z5hJQJkL8Iu4",
    "slideshow": {
     "slide_type": "slide"
    }
   },
   "source": [
    "But for more complex pattern-matching, you need to use regular expressions."
   ]
  },
  {
   "cell_type": "code",
   "execution_count": 27,
   "metadata": {
    "colab": {
     "base_uri": "https://localhost:8080/"
    },
    "id": "tAbTrcZI8zs9",
    "outputId": "0f4db340-a9d1-481f-8739-00eebe59619e",
    "slideshow": {
     "slide_type": "-"
    }
   },
   "outputs": [
    {
     "name": "stdout",
     "output_type": "stream",
     "text": [
      "200\n"
     ]
    }
   ],
   "source": [
    "import re\n",
    "\n",
    "longstring = \"We saw 200 people\"\n",
    "pattern = '(\\d+) people'\n",
    "result = re.search(pattern, longstring)\n",
    "print(result.group(1))"
   ]
  },
  {
   "cell_type": "markdown",
   "metadata": {
    "id": "0D_CPBOT9I3I",
    "slideshow": {
     "slide_type": "slide"
    }
   },
   "source": [
    "# Recursion\n",
    "\n",
    "Recall that a good way to program recursively is to assume the function already works for smaller problems, then make use of that to code the current case.\n",
    "\n",
    "The recursive call should always be making progress toward your base cases, or else the program will run infinitely.\n"
   ]
  },
  {
   "cell_type": "code",
   "execution_count": 28,
   "metadata": {
    "colab": {
     "base_uri": "https://localhost:8080/",
     "height": 36
    },
    "id": "0ORVCZm09nmN",
    "outputId": "e254d82b-362b-4830-ca33-e248148941b5",
    "slideshow": {
     "slide_type": "slide"
    }
   },
   "outputs": [
    {
     "data": {
      "text/plain": [
       "'raboof'"
      ]
     },
     "execution_count": 28,
     "metadata": {},
     "output_type": "execute_result"
    }
   ],
   "source": [
    "def reverse_string(s):\n",
    "  if s == \"\":\n",
    "    return \"\"\n",
    "  return reverse_string(s[1:]) + s[0]\n",
    "\n",
    "reverse_string(\"foobar\")"
   ]
  },
  {
   "cell_type": "markdown",
   "metadata": {
    "id": "WBb7gYER-Pia",
    "slideshow": {
     "slide_type": "slide"
    }
   },
   "source": [
    "Recursion is particularly common for functions on trees, with the recursive calls acting on the children of the current node."
   ]
  },
  {
   "cell_type": "markdown",
   "metadata": {
    "id": "JdsnKID_wmUY",
    "slideshow": {
     "slide_type": "slide"
    }
   },
   "source": [
    "## Other assorted reminders\n",
    "\n",
    "* When you get errors, it tells you where things went wrong.\n",
    "\n",
    "* You may find it helpful to create pseudocode to structure your answers before writing the program.  Outline in comments what needs to be done."
   ]
  },
  {
   "cell_type": "markdown",
   "metadata": {
    "id": "bHGUGwDam3bR",
    "slideshow": {
     "slide_type": "slide"
    }
   },
   "source": [
    "# Short sample problem 1:  Loop\n",
    "\n",
    "Write a function that returns the next power of 2 after the argument (or the argument, if it is a power of 2).  You can assume the argument is at least 1."
   ]
  },
  {
   "cell_type": "code",
   "execution_count": null,
   "metadata": {
    "colab": {
     "base_uri": "https://localhost:8080/"
    },
    "id": "vxHqbkaqnZnj",
    "outputId": "a0a6c449-7be0-40ae-b65b-85093c31af0e",
    "slideshow": {
     "slide_type": "slide"
    }
   },
   "outputs": [],
   "source": [
    "def next_power(input):\n",
    "  p = 0\n",
    "\n",
    "  while 2 ** p < input:\n",
    "    p += 1\n",
    "  \n",
    "  return 2 ** p\n",
    "\n",
    "print(next_power(32))\n",
    "print(next_power(33))"
   ]
  },
  {
   "cell_type": "markdown",
   "metadata": {
    "id": "VwPe_Zzxn9UZ",
    "slideshow": {
     "slide_type": "slide"
    }
   },
   "source": [
    "# Short sample problem 2:  Dictionaries\n",
    "\n",
    "Write a function that takes a list of strings and a dictionary as input.  Return a tuple, where the first element is the number of strings in the argument that are keys in the dictionary, and the second element is a list of the found keys' values."
   ]
  },
  {
   "cell_type": "code",
   "execution_count": null,
   "metadata": {
    "colab": {
     "base_uri": "https://localhost:8080/"
    },
    "id": "UXMhigaLpLlj",
    "outputId": "c15ccc4d-2d74-4351-dcc6-0e9f129a7818",
    "slideshow": {
     "slide_type": "slide"
    }
   },
   "outputs": [],
   "source": [
    "def find_strings(strings, mydict):\n",
    "  found_count = 0\n",
    "  found_vals = []\n",
    "  for string in strings:\n",
    "    if string in mydict:\n",
    "      found_count += 1\n",
    "      found_vals.append(mydict[string])\n",
    "  return found_count, found_vals\n",
    "\n",
    "test_dict = {\n",
    "    \"foo\" : 1,\n",
    "    \"bar\" : 3,\n",
    "    \"qux\" : 2\n",
    "}\n",
    "find_strings([\"foo\", \"bar\", \"baz\"], test_dict)"
   ]
  },
  {
   "cell_type": "markdown",
   "metadata": {
    "id": "_UtiGgGPqrfj",
    "slideshow": {
     "slide_type": "slide"
    }
   },
   "source": [
    "# Short sample problem 3:  Dataframes\n",
    "\n",
    "Using the Starbucks dataframe, find the mean calories of all Venti drinks."
   ]
  },
  {
   "cell_type": "code",
   "execution_count": null,
   "metadata": {
    "colab": {
     "base_uri": "https://localhost:8080/"
    },
    "id": "9R-QQ6XerYSV",
    "outputId": "8de34c32-2e00-4dbb-bbfe-5a365d1e3a3e",
    "slideshow": {
     "slide_type": "slide"
    }
   },
   "outputs": [],
   "source": [
    "venti = df[df[\"Beverage_prep\"] == \"Venti\"]\n",
    "venti[\"Calories\"].mean()"
   ]
  },
  {
   "cell_type": "markdown",
   "metadata": {
    "id": "Hym5JcDWr19j",
    "slideshow": {
     "slide_type": "slide"
    }
   },
   "source": [
    "# Short sample problem 4:  Objects\n",
    "\n",
    "Define a right triangle object.  The constructor should take the lengths of the two legs adjacent to the right angle.  Define a method that returns the area, and also override the string method so that it says \"Triangle of area X\", where X is the area."
   ]
  },
  {
   "cell_type": "code",
   "execution_count": null,
   "metadata": {
    "colab": {
     "base_uri": "https://localhost:8080/"
    },
    "id": "IdNtaVfHr00U",
    "outputId": "37b2b4cc-44a7-4758-b3ae-317060493746",
    "slideshow": {
     "slide_type": "slide"
    }
   },
   "outputs": [],
   "source": [
    "class RightTriangle():\n",
    "  def __init__(self, left, right):\n",
    "    self.left = left\n",
    "    self.right = right\n",
    "  \n",
    "  def area(self):\n",
    "    return self.left*self.right/2\n",
    "  \n",
    "  def __str__(self):\n",
    "    return \"Triangle of area \" + str(self.area())\n",
    "\n",
    "my_tri = RightTriangle(5,4)\n",
    "print(my_tri)"
   ]
  },
  {
   "cell_type": "markdown",
   "metadata": {
    "id": "2Oq-4l1i-gXg",
    "slideshow": {
     "slide_type": "slide"
    }
   },
   "source": [
    "# Short sample problem 5:  Recursion\n",
    "\n",
    "Write a recursive program that flips a BinaryTree (defined below) to be its mirror image, so that the rightmost leaf is now the leftmost leaf and similarly throughout the tree."
   ]
  },
  {
   "cell_type": "code",
   "execution_count": null,
   "metadata": {
    "colab": {
     "base_uri": "https://localhost:8080/"
    },
    "id": "8tl8iC18-9Tu",
    "outputId": "ac601027-daa2-4068-e408-c28862dce7ca",
    "slideshow": {
     "slide_type": "slide"
    }
   },
   "outputs": [],
   "source": [
    "class BinaryTree:\n",
    "  def __init__(self,left,right,s):  # s is string data\n",
    "    self.left = left\n",
    "    self.right = right\n",
    "    self.s = s\n",
    "  \n",
    "  def __str__(self):\n",
    "    if (self.left):\n",
    "      leftstring = str(self.left)\n",
    "    else:\n",
    "      leftstring = \"\"\n",
    "    if (self.right):\n",
    "      rightstring = str(self.right)\n",
    "    else:\n",
    "      rightstring = \"\"\n",
    "    return leftstring + self.s + rightstring\n",
    "\n",
    "leftleft = BinaryTree(None,None,\"a\")\n",
    "leftright = BinaryTree(None,None,\"c\")\n",
    "left = BinaryTree(leftleft,leftright,\"b\")\n",
    "rightleft = BinaryTree(None,None,\"e\")\n",
    "rightright = BinaryTree(None,None,\"g\")\n",
    "right = BinaryTree(rightleft,rightright,\"f\")\n",
    "root = BinaryTree(left,right,\"d\")\n",
    "\n",
    "def mirror(bt):\n",
    "  if bt == None:\n",
    "    return None\n",
    "  temp = mirror(bt.left)\n",
    "  bt.left = mirror(bt.right)\n",
    "  bt.right = temp\n",
    "  return bt\n",
    "\n",
    "print(mirror(root))\n"
   ]
  }
 ],
 "metadata": {
  "celltoolbar": "Slideshow",
  "colab": {
   "name": "Midterm_review_after.ipynb",
   "provenance": []
  },
  "kernelspec": {
   "display_name": "Python 3",
   "language": "python",
   "name": "python3"
  },
  "language_info": {
   "codemirror_mode": {
    "name": "ipython",
    "version": 3
   },
   "file_extension": ".py",
   "mimetype": "text/x-python",
   "name": "python",
   "nbconvert_exporter": "python",
   "pygments_lexer": "ipython3",
   "version": "3.8.8"
  },
  "rise": {
   "scroll": true
  }
 },
 "nbformat": 4,
 "nbformat_minor": 1
}
