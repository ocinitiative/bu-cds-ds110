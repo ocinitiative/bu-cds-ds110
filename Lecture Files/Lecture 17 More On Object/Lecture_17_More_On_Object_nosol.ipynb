{
 "cells": [
  {
   "cell_type": "markdown",
   "metadata": {
    "slideshow": {
     "slide_type": "slide"
    }
   },
   "source": [
    "# Inheritance"
   ]
  },
  {
   "cell_type": "markdown",
   "metadata": {
    "id": "7CtxoYmmzqFv",
    "slideshow": {
     "slide_type": "slide"
    }
   },
   "source": [
    "As programmers, we're always on the lookout for ways to write less code.  Less code is less buggy code.\n"
   ]
  },
  {
   "cell_type": "markdown",
   "metadata": {
    "slideshow": {
     "slide_type": "slide"
    }
   },
   "source": [
    "Inheritance is a way of sharing code between similar classes.  If two classes inherit from the same class, their shared functionality can rest there instead of being implemented twice.  Objects get all of the code in the parent class, as well as all the code in their own class.\n"
   ]
  },
  {
   "cell_type": "markdown",
   "metadata": {
    "slideshow": {
     "slide_type": "slide"
    }
   },
   "source": [
    "So, suppose we're dealing with data for Faculty and Students.  They have in common some things like a University ID and a birth year, but only Students have a graduation year.  We can use Inheritance to create a parent class that holds the shared fields."
   ]
  },
  {
   "cell_type": "code",
   "execution_count": null,
   "metadata": {
    "id": "0izmLHYVyv1D",
    "slideshow": {
     "slide_type": "-"
    }
   },
   "outputs": [],
   "source": [
    "class Client:  # both Faculty and Students\n",
    "  def __init__(self, birthyear, uid):\n",
    "    self.birthyear = birthyear\n",
    "    self.uid = uid\n",
    "\n",
    "  def get_uid(self):\n",
    "    return self.uid\n",
    "  \n",
    "  def get_birthyear(self):\n",
    "    return self.birthyear\n",
    "\n",
    "class Student(Client):  # inherit from Client\n",
    "  def __init__(self, birthyear, uid, gradyear):\n",
    "    self.birthyear = birthyear\n",
    "    self.uid = uid\n",
    "    self.gradyear = gradyear\n",
    "\n",
    "  def get_gradyear(self):\n",
    "    return self.gradyear\n",
    "    \n",
    "class Faculty(Client):\n",
    "  pass     # Nothing else we want to do for Faculty\n",
    "  \n"
   ]
  },
  {
   "cell_type": "code",
   "execution_count": null,
   "metadata": {},
   "outputs": [],
   "source": [
    "alice = Student(2003, 123456789, 2024)\n",
    "print(alice.get_birthyear()) # Inherited from Client\n",
    "print(alice.get_uid())       # Inherited from Client\n",
    "print(alice.get_gradyear())  # Specific to Student"
   ]
  },
  {
   "cell_type": "markdown",
   "metadata": {
    "id": "Q2jfsSYU3E2G",
    "slideshow": {
     "slide_type": "slide"
    }
   },
   "source": [
    "We can say \"pass\" for the body of a class that just inherits from another one.\n",
    "\n",
    "Why just pass?  Giving things their own types is still useful because we can check a type with isinstance(), and this can catch bugs where data is not where it should be."
   ]
  },
  {
   "cell_type": "code",
   "execution_count": null,
   "metadata": {
    "colab": {
     "base_uri": "https://localhost:8080/"
    },
    "id": "ZSmCz_jx52QI",
    "outputId": "2e15ba59-3ea9-4934-c1ff-22ba9b7b75f2",
    "slideshow": {
     "slide_type": "-"
    }
   },
   "outputs": [],
   "source": [
    "student1 = Student(2000,123456,2025)\n",
    "print(isinstance(student1,Student))"
   ]
  },
  {
   "cell_type": "code",
   "execution_count": null,
   "metadata": {
    "colab": {
     "base_uri": "https://localhost:8080/"
    },
    "id": "1sNpn5ai6T2O",
    "outputId": "1f535e2e-b277-463c-a6bf-0cad196a5f3b",
    "slideshow": {
     "slide_type": "-"
    }
   },
   "outputs": [],
   "source": [
    "faculty1 = Faculty(1979,654321)\n",
    "print(isinstance(faculty1,Faculty))"
   ]
  },
  {
   "cell_type": "markdown",
   "metadata": {
    "id": "rraltjIY6iga",
    "slideshow": {
     "slide_type": "slide"
    }
   },
   "source": [
    "Objects also count as their parent class, or any other class they inherited from."
   ]
  },
  {
   "cell_type": "code",
   "execution_count": null,
   "metadata": {
    "colab": {
     "base_uri": "https://localhost:8080/"
    },
    "id": "T9d-sCfN6gkT",
    "outputId": "10e6d494-f6c1-4eb1-9a90-54baec3bda4b",
    "slideshow": {
     "slide_type": "-"
    }
   },
   "outputs": [],
   "source": [
    "student1 = Student(2000,123456,2025)\n",
    "print(isinstance(student1,Client))"
   ]
  },
  {
   "cell_type": "markdown",
   "metadata": {
    "id": "t1Pw5SauhFm0",
    "slideshow": {
     "slide_type": "subslide"
    }
   },
   "source": [
    "```isinstance(object, class)``` is a very useful built-in function for checking whether an object belongs to a particular class.\n",
    "\n",
    "You can check isinstance() to make sure it's legal to call a subclass's functions.\n",
    "\n",
    "You can use it proactively to prevent bugs that result from the wrong type being passed.\n",
    "\n",
    "Or you can use it in the middle of debugging to check your assumptions about an object."
   ]
  },
  {
   "cell_type": "markdown",
   "metadata": {
    "slideshow": {
     "slide_type": "slide"
    }
   },
   "source": [
    "## super\n",
    "\n",
    "It's likely you'll want to make use of method definitions in the parent class when writing the child's methods.  For example, Student is just a specialized Client with a gradyear, so it would make sense that the constuctor is almost the same.  You can use the super function to refer to the parent class, as in the following example."
   ]
  },
  {
   "cell_type": "code",
   "execution_count": null,
   "metadata": {},
   "outputs": [],
   "source": [
    "class Student(Client):  # inherit from Client\n",
    "  def __init__(self, birthyear, uid, gradyear):\n",
    "    super().__init__(birthyear, uid)\n",
    "    self.gradyear = gradyear\n",
    "\n",
    "  def get_gradyear():\n",
    "    return self.gradyear\n",
    "\n",
    "bob = Student(2002,987654321,2022)\n",
    "print(bob.get_uid()) # inherited from Client"
   ]
  },
  {
   "cell_type": "markdown",
   "metadata": {
    "id": "fvK4LfAP7D8X",
    "slideshow": {
     "slide_type": "slide"
    }
   },
   "source": [
    "# When to use inheritance\n",
    "\n",
    "It can be difficult to know what kind of inheritance, if any, you should use in your programming.  In general, if A inherits from B, A should satisfy an \"is-a\" relationship with B.  A faculty member *is-a* client in the previous example.  But that doesn't tell you when it's worthwhile to go through the extra steps of making a class hierarchy."
   ]
  },
  {
   "cell_type": "markdown",
   "metadata": {
    "slideshow": {
     "slide_type": "subslide"
    }
   },
   "source": [
    "\n",
    "\n",
    "An organic approach is often used in practice:  don't use inheritance until you see an opportunity for refactoring, then create parent classes to get rid of the duplicated code."
   ]
  },
  {
   "cell_type": "markdown",
   "metadata": {
    "id": "dtJhsdhb4k0_",
    "slideshow": {
     "slide_type": "slide"
    }
   },
   "source": [
    "For example, suppose we had the following two classes in some kind of accounting software:"
   ]
  },
  {
   "cell_type": "code",
   "execution_count": null,
   "metadata": {
    "id": "xACAmhMa5Vt2"
   },
   "outputs": [],
   "source": [
    "class Trip:\n",
    "\n",
    "  def __init__(self,cost,start_date,end_date):\n",
    "    self.cost = cost\n",
    "    self.start_date = start_date\n",
    "    self.end_date = end_date\n",
    "    self.reimbursed = False\n",
    "\n",
    "  def cost(self):\n",
    "    return self.cost\n",
    "  \n",
    "  def reimburse(self):\n",
    "    self.reimbursed = True\n",
    "  \n",
    "  def dates(self):\n",
    "    return self.startDate, self.endDate\n",
    "\n",
    "class EquipmentOrder:\n",
    "  def __init__(self,cost,domestic_seller):\n",
    "    self.cost = cost\n",
    "    self.reimbursed = False\n",
    "    self.domestic_seller = domestic_seller\n",
    "\n",
    "  def cost(self):\n",
    "    return cost\n",
    "  \n",
    "  def reimburse(self):\n",
    "    self.reimbursed = True\n",
    "  \n",
    "  def domestic_seller(self):\n",
    "    return self.domestic_seller"
   ]
  },
  {
   "cell_type": "markdown",
   "metadata": {
    "id": "y401oBHd6he4",
    "slideshow": {
     "slide_type": "slide"
    }
   },
   "source": [
    "This is the kind of situation that lends itself to refactoring - not only do these two classes share some information about being expenses, but they're only likely to get more shared functionality in the future.  So here's a refactoring that uses inheritance."
   ]
  },
  {
   "cell_type": "code",
   "execution_count": null,
   "metadata": {
    "id": "hTvkX8dH61NV",
    "slideshow": {
     "slide_type": "-"
    }
   },
   "outputs": [],
   "source": [
    "class Expense:\n",
    "  def __init__(self,cost):\n",
    "    self.cost = cost\n",
    "    self.reimbursed = False\n",
    "  \n",
    "  def cost(self):\n",
    "    return cost\n",
    "  \n",
    "  def reimburse(self):\n",
    "    self.reimbursed = True\n",
    "\n",
    "class Trip(Expense):\n",
    "  def __init__(self,cost,start_date,end_date):\n",
    "    super().__init__(self, cost)\n",
    "    self.start_date = start_date\n",
    "    self.end_date = end_date\n",
    "  \n",
    "  # inherit cost, reimburse\n",
    "\n",
    "  def dates(self):\n",
    "    return self.start_date, self.end_date\n",
    "\n",
    "class EquipmentOrder(Expense):\n",
    "  def __init__(self,cost,domestic_seller):\n",
    "    super().__init__(self,cost)\n",
    "    self.domestic_seller = domestic_seller\n",
    "\n",
    "  # inherit cost, reimburse\n",
    "\n",
    "  def domestic_seller(self):\n",
    "    return self.domestic_seller"
   ]
  },
  {
   "cell_type": "markdown",
   "metadata": {
    "id": "ne8tzGqe9MPL",
    "slideshow": {
     "slide_type": "slide"
    }
   },
   "source": [
    "# Brief discussion questions\n",
    "\n",
    "Suppose I have a new expense type, Conference.  It has start and end dates and a cost, so it's similar to Trip, but it also has a Boolean field \"presented.\"  Should it inherit from Trip, inherit from Expense, or do something else?"
   ]
  },
  {
   "cell_type": "markdown",
   "metadata": {
    "slideshow": {
     "slide_type": "subslide"
    }
   },
   "source": [
    "\n",
    "Another object type that could fit in as an expense is a Party, which is like a Trip except there's just a start date.  Inherit from Trip, inherit from Expense, or do something else?"
   ]
  },
  {
   "cell_type": "markdown",
   "metadata": {
    "slideshow": {
     "slide_type": "slide"
    }
   },
   "source": [
    "# Exercise\n",
    "\n",
    "Below are two classes with similar fields and methods.  Rewrite the code in the box that follows so that the two classes inherit from a single class, Worker, and give that class the shared method, give_raise(), as well as a constructor from which the two classes can derive their own constructors."
   ]
  },
  {
   "cell_type": "code",
   "execution_count": 2,
   "metadata": {},
   "outputs": [
    {
     "name": "stdout",
     "output_type": "stream",
     "text": [
      "100000\n",
      "90000\n"
     ]
    }
   ],
   "source": [
    "class Employee:\n",
    "    def __init__(self, name, salary, title, years_of_service):\n",
    "        self.name = name\n",
    "        self.salary = salary\n",
    "        self.title = title\n",
    "        self.years_of_service = years_of_service\n",
    "    \n",
    "    def give_raise(self, raise_amount):\n",
    "        self.salary += raise_amount\n",
    "        \n",
    "    def change_title(self, new_title):\n",
    "        self.title = new_title\n",
    "    \n",
    "    def update_years_of_service(self, increase):\n",
    "        self.years_of_service += increase\n",
    "\n",
    "class Contractor:\n",
    "    def __init__(self, name, salary, contract_duration):\n",
    "        self.name = name\n",
    "        self.salary = salary\n",
    "        self.contract_duration = contract_duration\n",
    "    \n",
    "    def give_raise(self, raise_amount):\n",
    "        self.salary += raise_amount\n",
    "    \n",
    "alice = Employee(\"Alice\", 90000, \"Manager\", 7)\n",
    "alice.give_raise(10000)\n",
    "print(alice.salary)\n",
    "bob = Contractor(\"Bob\", 80000, 2)\n",
    "bob.give_raise(10000)\n",
    "print(bob.salary)"
   ]
  },
  {
   "cell_type": "code",
   "execution_count": null,
   "metadata": {
    "slideshow": {
     "slide_type": "slide"
    }
   },
   "outputs": [],
   "source": [
    "# TODO"
   ]
  },
  {
   "cell_type": "markdown",
   "metadata": {
    "id": "RAnkWP1j69Iy",
    "slideshow": {
     "slide_type": "slide"
    }
   },
   "source": [
    "# Commonly overridden functions\n",
    "\n",
    "All objects inherit from the python Object class, which has default ways of doing particular things, like checking for equality or copying.  Often, they don't work the way you'd like for your particular object.\n",
    "\n",
    "To \"override\" a method is to rewrite it in your class so that it works differently from a parent's implementation.  (When parent and child disagree about how a method works, the child takes precedence and overrides the parent.)\n",
    "\n"
   ]
  },
  {
   "cell_type": "markdown",
   "metadata": {
    "slideshow": {
     "slide_type": "slide"
    }
   },
   "source": [
    "Here are some common built-in methods that you may want to override.\n",
    "\n",
    "1.   ```__str__()```: Gets the string representation for your object.  The default for an object is just its address in memory, which isn't usually useful."
   ]
  },
  {
   "cell_type": "markdown",
   "metadata": {
    "slideshow": {
     "slide_type": "subslide"
    }
   },
   "source": [
    "2.  ```__lt__()```,```__le__()```, etc:  Short for \"less than,\" \"less than or equal,\" and so on.  If you want a sorting function to understand how to sort your object, override these."
   ]
  },
  {
   "cell_type": "markdown",
   "metadata": {
    "slideshow": {
     "slide_type": "subslide"
    }
   },
   "source": [
    "3.  ```__eq__()```:  Determine equality with another object.  By default, never true unless it is literally the same object, so this is often overridden.  Also necessary for ```__hash__()```, next."
   ]
  },
  {
   "cell_type": "markdown",
   "metadata": {
    "slideshow": {
     "slide_type": "subslide"
    }
   },
   "source": [
    "4.  ```__hash__()```:  Compute a hash function on your object.  You may need to implement this if you want to use your object as a key or item in a dictionary or set.  You need to override ```__eq__()``` as well, and make objects that are equal have the same hash code.\n",
    "\n",
    "A common easy hash is to just cast to a string, then call the string hash() function."
   ]
  },
  {
   "cell_type": "code",
   "execution_count": null,
   "metadata": {
    "colab": {
     "base_uri": "https://localhost:8080/"
    },
    "id": "uiEFZL_N-Muh",
    "outputId": "8987d3ab-0769-47ec-e9c1-827606ebdf06",
    "slideshow": {
     "slide_type": "slide"
    }
   },
   "outputs": [],
   "source": [
    "# Bad built-in str, just spits out address\n",
    "class Gradyear:\n",
    "  def __init__(self, year):\n",
    "    self.year = year\n",
    "\n",
    "year = Gradyear(2024)\n",
    "print(year)"
   ]
  },
  {
   "cell_type": "code",
   "execution_count": null,
   "metadata": {
    "colab": {
     "base_uri": "https://localhost:8080/"
    },
    "id": "Ohk9G1xX-v0T",
    "outputId": "7500af32-8c3e-466b-9930-a022b44b2c50",
    "slideshow": {
     "slide_type": "-"
    }
   },
   "outputs": [],
   "source": [
    "# Do-over with str overridden\n",
    "class Gradyear:\n",
    "  def __init__(self, year):\n",
    "    self.year = year\n",
    "\n",
    "  def __str__(self):    # Our own implementation\n",
    "    return str(self.year)\n",
    "\n",
    "gradyear = Gradyear(2024)\n",
    "print(gradyear)"
   ]
  },
  {
   "cell_type": "code",
   "execution_count": null,
   "metadata": {
    "colab": {
     "base_uri": "https://localhost:8080/"
    },
    "id": "FpYny3ROATne",
    "outputId": "976876fd-b565-4291-b8b1-dbb067bc2fc6",
    "slideshow": {
     "slide_type": "subslide"
    }
   },
   "outputs": [],
   "source": [
    "# But equals, hash behavior are still odd\n",
    "\n",
    "gy1 = Gradyear(2024)\n",
    "gy2 = Gradyear(2024)\n",
    "print(gy1 == gy2)\n",
    "myset = set()\n",
    "myset.add(gy1)\n",
    "myset.add(gy2)\n",
    "len(myset)"
   ]
  },
  {
   "cell_type": "code",
   "execution_count": null,
   "metadata": {
    "colab": {
     "base_uri": "https://localhost:8080/"
    },
    "id": "lPB5GXdbAC7o",
    "outputId": "3d0ca2c9-696e-47a0-917b-9765ce667af3",
    "slideshow": {
     "slide_type": "slide"
    }
   },
   "outputs": [],
   "source": [
    "# Example of equals, hash override\n",
    "class Gradyear:\n",
    "  def __init__(self, year):\n",
    "    self.year = year\n",
    "\n",
    "  def __str__(self):    # Our own implementation\n",
    "    return str(self.year)\n",
    "  \n",
    "  def __eq__(self, other):\n",
    "    return self.year == other.year\n",
    "\n",
    "  def __hash__(self):\n",
    "    return self.year # Just store by number itself\n",
    "\n",
    "gy1 = Gradyear(2024)\n",
    "gy2 = Gradyear(2024)\n",
    "print(gy1 == gy2)\n",
    "myset = set()\n",
    "myset.add(gy1)\n",
    "myset.add(gy2)\n",
    "len(myset)"
   ]
  },
  {
   "cell_type": "markdown",
   "metadata": {
    "id": "AIdKA7AQXswf",
    "slideshow": {
     "slide_type": "slide"
    }
   },
   "source": [
    "# Exercise\n",
    "\n",
    "Write a class Gradmonth that inherits from Gradyear but adds a new \"month\" attribute (for a number 1-12).  Override \\_\\_str__() to return month then year, as in \"12-2024\", and override \\_\\_init__().  If you have time, try also overriding \\_\\_eq__() and \\_\\_hash__()."
   ]
  },
  {
   "cell_type": "code",
   "execution_count": null,
   "metadata": {
    "id": "bUs72awNYyId",
    "slideshow": {
     "slide_type": "slide"
    }
   },
   "outputs": [],
   "source": [
    "# TODO"
   ]
  }
 ],
 "metadata": {
  "celltoolbar": "Slideshow",
  "colab": {
   "collapsed_sections": [],
   "name": "Lecture15MoreOO_after.ipynb",
   "provenance": []
  },
  "kernelspec": {
   "display_name": "Python 3",
   "language": "python",
   "name": "python3"
  },
  "language_info": {
   "codemirror_mode": {
    "name": "ipython",
    "version": 3
   },
   "file_extension": ".py",
   "mimetype": "text/x-python",
   "name": "python",
   "nbconvert_exporter": "python",
   "pygments_lexer": "ipython3",
   "version": "3.8.8"
  },
  "rise": {
   "scroll": true
  }
 },
 "nbformat": 4,
 "nbformat_minor": 1
}
