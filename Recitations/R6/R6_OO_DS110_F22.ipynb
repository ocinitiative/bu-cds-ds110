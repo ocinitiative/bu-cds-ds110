{
  "nbformat": 4,
  "nbformat_minor": 0,
  "metadata": {
    "colab": {
      "name": "R6_OO_DS110_F22.ipynb",
      "provenance": [],
      "collapsed_sections": []
    },
    "kernelspec": {
      "name": "python3",
      "display_name": "Python 3"
    },
    "language_info": {
      "name": "python"
    }
  },
  "cells": [
    {
      "cell_type": "markdown",
      "metadata": {
        "id": "P_CIUUOu3kGB"
      },
      "source": [
        "1.  Write a class TwoStrings that contains two strings *a* and *b* as attributes and has the following methods:\n",
        "\n",
        "* \\_\\_init__() initializing with the two strings, or *b* if there's a tie.\n",
        "\n",
        "* longer_string() returns the longer of the two strings.\n",
        "\n",
        "* substring() returns string *a* if *a* is a substring of string *b*, *b* if *b* is a substring of *a*, and None if neither is true."
      ]
    },
    {
      "cell_type": "code",
      "metadata": {
        "id": "1p9gnD7c3FPq"
      },
      "source": [
        "# TODO class TwoStrings"
      ],
      "execution_count": null,
      "outputs": []
    },
    {
      "cell_type": "markdown",
      "metadata": {
        "id": "j6Q6o3tx4tDB"
      },
      "source": [
        "2.  Now try writing a subclass TwoStringsOrdered which *raises* a ValueError in the constructor if len(a) > len(b).   Rewrite the two methods so that they make use of the fact that len(a) <= len(b)."
      ]
    },
    {
      "cell_type": "code",
      "metadata": {
        "id": "KpKDK9nq5gvK"
      },
      "source": [
        "# TODO class TwoStringsOrdered"
      ],
      "execution_count": null,
      "outputs": []
    },
    {
      "cell_type": "markdown",
      "metadata": {
        "id": "ZqiSOboT5hb3"
      },
      "source": [
        "3. Now rewrite TwoStringsOrdered so that it \"remembers\" the value of substring() for its values of a and b and doesn't need to recompute it if it's called again.  (You may find it's easiest to use two fields, one for whether it remembers something and one for storing the value.) "
      ]
    },
    {
      "cell_type": "code",
      "metadata": {
        "id": "AjNjpvZ76NRw"
      },
      "source": [
        "# TODO class TwoStringsOrdered"
      ],
      "execution_count": null,
      "outputs": []
    },
    {
      "cell_type": "markdown",
      "metadata": {
        "id": "VzC233is6i48"
      },
      "source": [
        "4.  Now, override \\_\\_str__(), and \\_\\_eq__() for TwoStrings.  (This will require copying the code into the new code cell to start.)  The string representation should make the two strings legible, and equals should return equal if the string a's match and the string b's match."
      ]
    },
    {
      "cell_type": "code",
      "metadata": {
        "id": "3wJ-9KFs85oX"
      },
      "source": [
        "# TODO class TwoStrings\n"
      ],
      "execution_count": null,
      "outputs": []
    },
    {
      "cell_type": "code",
      "metadata": {
        "colab": {
          "base_uri": "https://localhost:8080/"
        },
        "id": "eMxCeTvN-BLV",
        "outputId": "60643ce7-5b19-444f-f5a3-b17599312f95"
      },
      "source": [
        "# Tests\n",
        "\n",
        "two_strings1 = TwoStrings(\"foo\", \"foobar\")\n",
        "print(two_strings1.longer_string())  # expect foobar\n",
        "print(two_strings1.substring()) # expect foo\n",
        "two_strings2 = TwoStringsOrdered(\"baz\", \"foobaz\")\n",
        "print(two_strings2.longer_string())  # expect foobaz\n",
        "print(two_strings2.substring()) # expect baz\n",
        "print(two_strings1) # expect reasonable printing\n",
        "two_strings3 = TwoStrings(\"foo\", \"foobar\")\n",
        "print(two_strings1 == two_strings3) # expect True"
      ],
      "execution_count": null,
      "outputs": [
        {
          "output_type": "stream",
          "name": "stdout",
          "text": [
            "foobar\n",
            "foo\n",
            "foobaz\n",
            "baz\n",
            "foo,foobar\n",
            "True\n"
          ]
        }
      ]
    }
  ]
}