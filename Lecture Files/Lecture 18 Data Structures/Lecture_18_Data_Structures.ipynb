{
 "cells": [
  {
   "cell_type": "markdown",
   "metadata": {
    "slideshow": {
     "slide_type": "slide"
    }
   },
   "source": [
    "# Data Structures"
   ]
  },
  {
   "cell_type": "markdown",
   "metadata": {
    "id": "V7o7DnutCspu",
    "slideshow": {
     "slide_type": "slide"
    }
   },
   "source": [
    "# (Re)Implementing data structures\n",
    "\n",
    "As a learning exercise, we're going to see how to build a few classic data structures using Python.  Python provides a variety of nice data structures ready for use, but rebuilding some classic data structures will help you understand more complex data structures generally."
   ]
  },
  {
   "cell_type": "markdown",
   "metadata": {
    "slideshow": {
     "slide_type": "subslide"
    }
   },
   "source": [
    "A key idea that will make all of this work is that when an object has an attribute (field) that is an object, that field actually has a reference to that object, a link.  These links \"hold together\" complex multi-part data structures, in which each piece of the data structure is itself an object."
   ]
  },
  {
   "cell_type": "markdown",
   "metadata": {
    "id": "zkHh2aUBELME",
    "slideshow": {
     "slide_type": "slide"
    }
   },
   "source": [
    "# Search on a Linked List\n",
    "\n",
    "The first structure we'll look at is a linked list.  We don't particularly need it in Python with the existence of built-in lists, but it's the easiest of these complex multi-part data structures to reason about.\n",
    "\n",
    "Something that you might find surprising is that we just define the class of the individual \"nodes\", and don't create a separate class for the list.  To know where the first node in line is, is to know where the whole list is.  Each node knows the location of the next node.  The last knows there is none after it."
   ]
  },
  {
   "cell_type": "code",
   "execution_count": 2,
   "metadata": {
    "id": "J0QuasPxCh_l",
    "slideshow": {
     "slide_type": "slide"
    }
   },
   "outputs": [],
   "source": [
    "class ll_node:\n",
    "  def __init__(self, num):\n",
    "    self.number = num\n",
    "    self.next = None\n",
    "\n",
    "  def append(self, num):\n",
    "    if self.next == None:     # End of the list\n",
    "      self.next = ll_node(num)\n",
    "    else:\n",
    "      self.next.append(num)\n",
    "    \n",
    "  def contains(self, othernum):\n",
    "    if self.number == othernum:\n",
    "      return True\n",
    "    elif self.next == None:\n",
    "      return False\n",
    "    return self.next.contains(othernum)"
   ]
  },
  {
   "cell_type": "code",
   "execution_count": 3,
   "metadata": {
    "colab": {
     "base_uri": "https://localhost:8080/"
    },
    "id": "mUGS1zKwHcBB",
    "outputId": "dc6e3a77-afbd-4c1c-a540-1740239140f8",
    "slideshow": {
     "slide_type": "subslide"
    }
   },
   "outputs": [
    {
     "name": "stdout",
     "output_type": "stream",
     "text": [
      "True\n",
      "False\n"
     ]
    }
   ],
   "source": [
    "mylist = ll_node(5)\n",
    "mylist.append(7)\n",
    "mylist.append(9)\n",
    "print(mylist.contains(7))\n",
    "print(mylist.contains(6))"
   ]
  },
  {
   "cell_type": "markdown",
   "metadata": {
    "id": "dlMmcf5gH122",
    "slideshow": {
     "slide_type": "subslide"
    }
   },
   "source": [
    "Code on lists tends to be of the form \"if the current node is relevant, do x, else proceed to the next element.\"  That's certainly the case here for the contains method.  It has three cases - we found it, we didn't and there's nowhere else to go, or we didn't but we can move on."
   ]
  },
  {
   "cell_type": "markdown",
   "metadata": {
    "slideshow": {
     "slide_type": "subslide"
    }
   },
   "source": [
    "Contains() and append() both have recursive calls, where a function calls itself.  Since we don't know how many times we need to go down the list, and don't even know its length, it makes sense to write code that talks about the \"head\" of the list and proceeding recursively to the \"rest\" of the list.\n",
    "\n",
    "The search is slow, and linked lists tend to be a little slow generally, because if they're unordered, the desired element could always be waiting at the end of the list.  That's a \"worst case linear\" time to find something in the list.\n"
   ]
  },
  {
   "cell_type": "markdown",
   "metadata": {
    "slideshow": {
     "slide_type": "subslide"
    }
   },
   "source": [
    "Python lists are actually arrays that get resized when they run out of room; they don't follow this structure at all.  But being able to think about a linked list is often seen as a fundamental skill, for the purpose of coding interviews and such.\n",
    "\n",
    "A \"doubly-linked list\" also has a field that points to the previous item in the list, making a backwards traversal possible.  This isn't really necessary in many cases, and in Python, you'll mostly work with the built-in lists anyway.  But this also shows up in coding interviews."
   ]
  },
  {
   "cell_type": "markdown",
   "metadata": {
    "id": "Ot_sgFcO22WW",
    "slideshow": {
     "slide_type": "slide"
    }
   },
   "source": [
    "# Example of Linked List Code\n",
    "\n",
    "Suppose we want to write a method filter_less_than(), which takes a number, and returns a linked list with just the values in the current list that are smaller than the number.  So filter_less_than(6) with a linked list [5,4,6,9] returns [5,4].\n",
    "\n",
    "The solution follows a pattern of getting the rest of the list, then attaching something to it or not depending on whether the condition is met."
   ]
  },
  {
   "cell_type": "code",
   "execution_count": 6,
   "metadata": {
    "colab": {
     "base_uri": "https://localhost:8080/"
    },
    "id": "EfDDqLLl3TZG",
    "outputId": "258d342a-55ec-491d-f0c5-a073de055260",
    "slideshow": {
     "slide_type": "slide"
    }
   },
   "outputs": [
    {
     "name": "stdout",
     "output_type": "stream",
     "text": [
      "6-8\n"
     ]
    }
   ],
   "source": [
    "class ll_node:\n",
    "  def __init__(self, num):\n",
    "    self.number = num\n",
    "    self.next = None\n",
    "    \n",
    "  def __str__(self):\n",
    "    if self.next is not None:\n",
    "      result = str(self.number) + \"-\" + str(self.next)\n",
    "    else:\n",
    "      result = str(self.number)\n",
    "    return result\n",
    "    \n",
    "  def append(self, num):\n",
    "    if self.next == None:\n",
    "      self.next = ll_node(num)\n",
    "    else:\n",
    "      self.next.append(num)\n",
    "    \n",
    "  def contains(self, othernum):\n",
    "    if self.number == othernum:\n",
    "      return True\n",
    "    elif self.next == None:\n",
    "      return False\n",
    "    return self.next.contains(othernum)\n",
    "  \n",
    "  def filter_less_than(self, number):\n",
    "    if self.next is not None:\n",
    "      result = self.next.filter_less_than(number)\n",
    "    else:\n",
    "      result = None\n",
    "    if self.number < number:\n",
    "      new_node = ll_node(self.number)\n",
    "      new_node.next = result\n",
    "      return new_node\n",
    "    return result  # Drop the head, doesn't make it under number\n",
    "\n",
    "\n",
    "node1 = ll_node(6)\n",
    "node2 = ll_node(8)\n",
    "node1.next = node2\n",
    "node3 = ll_node(10)\n",
    "node2.next = node3\n",
    "print(node1.filter_less_than(9))"
   ]
  },
  {
   "cell_type": "markdown",
   "metadata": {
    "id": "O9YSK1CGJdt4",
    "slideshow": {
     "slide_type": "slide"
    }
   },
   "source": [
    "# Trees\n",
    "\n",
    "Trees don't have generic implementations in Python, but they come up in a wide variety of contexts.  Written text gets parsed into trees, code itself gets parsed into trees by compilers, game-playing AIs view the possible moves in the future as a tree, trees are created by search algorithms while exploring, and so on.\n",
    "\n",
    "Trees are generally good at representing a hierarchy, like folders in a filesystem.\n",
    "\n",
    "\n"
   ]
  },
  {
   "cell_type": "markdown",
   "metadata": {
    "slideshow": {
     "slide_type": "subslide"
    }
   },
   "source": [
    "In a rooted tree, exactly one node -- the \"root\" -- has no parent nodes, and all other nodes have one parent node.  In a binary tree, each node has up to two children.  (In other trees, there may not be a cap on the number of children.) A binary tree is a bit easier to think about, but it wouldn't be good at representing some situations, like a hard drive where there could be more than two folders at a given level of the directory."
   ]
  },
  {
   "cell_type": "markdown",
   "metadata": {
    "slideshow": {
     "slide_type": "subslide"
    }
   },
   "source": [
    "Our example will be just searching for a file in a tree, similar to the linked list application.  The \"leaves,\" or elements with no children, will represent files, while interior nodes represent folders.  To keep things simple, we'll assume a binary tree, even though we'd want to use a list of children for trees that branch more."
   ]
  },
  {
   "cell_type": "code",
   "execution_count": 5,
   "metadata": {
    "colab": {
     "base_uri": "https://localhost:8080/"
    },
    "id": "TVfTtnA-L-Pw",
    "outputId": "2b8da68a-9448-47ca-ee9b-19cf7ce466b1",
    "slideshow": {
     "slide_type": "slide"
    }
   },
   "outputs": [
    {
     "name": "stdout",
     "output_type": "stream",
     "text": [
      "True\n",
      "False\n"
     ]
    }
   ],
   "source": [
    "class FolderTree:\n",
    "  # binary left and right are its fields\n",
    "  def __init__(self, val):\n",
    "    self.left = None\n",
    "    self.right = None\n",
    "    self.val = val\n",
    "  \n",
    "  def addLeft(self, node):\n",
    "    self.left = node\n",
    "  \n",
    "  def addRight(self, node):\n",
    "    self.right = node\n",
    "  \n",
    "  def find(self, v):\n",
    "    if self.val == v:\n",
    "      return True\n",
    "    if self.left and self.left.find(v):\n",
    "      return True\n",
    "    if self.right and self.right.find(v):\n",
    "      return True\n",
    "    return False\n",
    "\n",
    "root = FolderTree(\"root\")\n",
    "leftparent = FolderTree(\"folder1\")\n",
    "rightparent = FolderTree(\"folder2\")\n",
    "leftleftchild = FolderTree(\"wow.exe\")\n",
    "leftrightchild = FolderTree(\"xls.exe\")\n",
    "rightleftchild = FolderTree(\"lec12.pdf\")\n",
    "rightrightchild = FolderTree(\"lec14.pdf\")\n",
    "leftparent.addLeft(leftleftchild)\n",
    "leftparent.addRight(leftrightchild)\n",
    "rightparent.addLeft(rightleftchild)\n",
    "rightparent.addRight(rightrightchild)\n",
    "root.addLeft(leftparent)\n",
    "root.addRight(rightparent)\n",
    "\n",
    "print(root.find(\"wow.exe\"))\n",
    "print(root.find(\"lec13.exe\"))\n"
   ]
  },
  {
   "cell_type": "markdown",
   "metadata": {
    "id": "qPjWLskpPR4L",
    "slideshow": {
     "slide_type": "-"
    }
   },
   "source": [
    "The keyword None can often play a handy role of \"no value here\" for both links (to signal end of the line) and data (maybe interior nodes don't get values).\n"
   ]
  },
  {
   "cell_type": "markdown",
   "metadata": {
    "slideshow": {
     "slide_type": "subslide"
    }
   },
   "source": [
    "The above implementation leaves a little something to be desired in terms of efficiency, because the whole tree needs to be searched.  If we instead require that all values to the left of a node be less than its key, and all values to the right are greater, then we get a \"binary search tree,\" and the running time gets very good as long as the tree is also roughly balanced."
   ]
  },
  {
   "cell_type": "code",
   "execution_count": 7,
   "metadata": {
    "colab": {
     "base_uri": "https://localhost:8080/"
    },
    "id": "62BGH65XQo2F",
    "outputId": "dbc37210-d8bc-4334-abf3-92e45300458c",
    "scrolled": true,
    "slideshow": {
     "slide_type": "slide"
    }
   },
   "outputs": [
    {
     "name": "stdout",
     "output_type": "stream",
     "text": [
      "Going Left\n",
      "Going Right\n",
      "True\n",
      "Going Left\n",
      "Going Left\n",
      "False\n"
     ]
    }
   ],
   "source": [
    "class BinarySearchTree:\n",
    "  # binary left and right are its fields\n",
    "  def __init__(self, val):\n",
    "    self.left = None\n",
    "    self.right = None\n",
    "    self.val = val\n",
    "  \n",
    "  def addLeft(self, node):\n",
    "    self.left = node\n",
    "  \n",
    "  def addRight(self, node):\n",
    "    self.right = node\n",
    "  \n",
    "  def find(self, v):\n",
    "    if self.val == v:\n",
    "      return True\n",
    "    if v < self.val:\n",
    "      if self.left:\n",
    "        print(\"Going Left\")\n",
    "        return self.left.find(v)\n",
    "      else:\n",
    "        return False\n",
    "    else:\n",
    "      if self.right:\n",
    "        print(\"Going Right\")\n",
    "        return self.right.find(v)\n",
    "      else:\n",
    "        return False\n",
    "\n",
    "root = BinarySearchTree(\"m\")\n",
    "leftparent = BinarySearchTree(\"f\")\n",
    "rightparent = BinarySearchTree(\"q\")\n",
    "leftleftchild = BinarySearchTree(\"a\")\n",
    "leftrightchild = BinarySearchTree(\"h\")\n",
    "rightleftchild = BinarySearchTree(\"o\")\n",
    "rightrightchild = BinarySearchTree(\"u\")\n",
    "leftparent.addLeft(leftleftchild)\n",
    "leftparent.addRight(leftrightchild)\n",
    "rightparent.addLeft(rightleftchild)\n",
    "rightparent.addRight(rightrightchild)\n",
    "root.addLeft(leftparent)\n",
    "root.addRight(rightparent)\n",
    "\n",
    "print(root.find(\"h\"))\n",
    "print(root.find(\"d\"))"
   ]
  },
  {
   "cell_type": "markdown",
   "metadata": {
    "id": "hcQyIfu5Rpt5",
    "slideshow": {
     "slide_type": "subslide"
    }
   },
   "source": [
    "The tree is superficially similar, but only one of the recursive calls happens to a node on a given search (at most), and only one path to the file is explored instead of the whole tree.\n",
    "\n",
    "Binary search trees illustrate the broader principle that a little bit of organization in the data can make the code a lot faster.  (Here the speed of the search grows logarithmically with the number of items, as long as the tree is roughly balanced.  \"Logarithmically\" is the opposite of \"exponentially.\")"
   ]
  },
  {
   "cell_type": "markdown",
   "metadata": {
    "id": "0eRfHjKo64fZ",
    "slideshow": {
     "slide_type": "slide"
    }
   },
   "source": [
    "# Example of Binary Search Tree code\n",
    "\n",
    "Binary search trees insert nodes by following the code to look for the data, then placing the data wherever this search finally leads.  So an insert operation looks very similar to a find, except for what it does when it gets to the right place."
   ]
  },
  {
   "cell_type": "code",
   "execution_count": 8,
   "metadata": {
    "colab": {
     "base_uri": "https://localhost:8080/"
    },
    "id": "fSI973BZ7bWs",
    "outputId": "21e2504e-af33-4a0c-bb0b-7b65b57af235",
    "slideshow": {
     "slide_type": "slide"
    }
   },
   "outputs": [
    {
     "name": "stdout",
     "output_type": "stream",
     "text": [
      "m, Lf, Rq, Rz\n"
     ]
    }
   ],
   "source": [
    "class BinarySearchTree:\n",
    "  # binary left and right are its fields\n",
    "  def __init__(self, val):\n",
    "    self.left = None\n",
    "    self.right = None\n",
    "    self.val = val\n",
    "\n",
    "  def __str__(self):  # To help visualize the output\n",
    "    result = self.val\n",
    "    if self.left:\n",
    "      result += \", L\" + str(self.left)\n",
    "    if self.right:\n",
    "      result += \", R\" + str(self.right)\n",
    "    return result\n",
    "\n",
    "  def addLeft(self, node):\n",
    "    self.left = node\n",
    "  \n",
    "  def addRight(self, node):\n",
    "    self.right = node\n",
    "  \n",
    "  def find(self, v):\n",
    "    if self.val == v:\n",
    "      return True\n",
    "    if v < self.val:\n",
    "      if self.left:\n",
    "        return self.left.find()\n",
    "      else:\n",
    "        return False\n",
    "    else:\n",
    "      if self.right:\n",
    "        return self.right.find()\n",
    "      else:\n",
    "        return False\n",
    "\n",
    "  def insert(self, v):\n",
    "    if v <= self.val:\n",
    "      if self.left == None:\n",
    "        self.left = BinarySearchTree(v)\n",
    "      else:\n",
    "        self.left.insert(v)\n",
    "    else:\n",
    "      if self.right == None:\n",
    "        self.right = BinarySearchTree(v)\n",
    "      else:\n",
    "        self.right.insert(v)\n",
    "\n",
    "root = BinarySearchTree(\"m\")\n",
    "leftparent = BinarySearchTree(\"f\")\n",
    "rightparent = BinarySearchTree(\"q\")\n",
    "root.addLeft(leftparent)\n",
    "root.addRight(rightparent)\n",
    "\n",
    "root.insert(\"z\")\n",
    "\n",
    "print(root)"
   ]
  },
  {
   "cell_type": "markdown",
   "metadata": {
    "id": "gzRBwtfNT2n1",
    "slideshow": {
     "slide_type": "slide"
    }
   },
   "source": [
    "# Dynamic arrays\n",
    "\n",
    "Python's list isn't a linked list, but a dynamic array.  This means a fixed amount of memory is allocated to the items, and if adding more items exceeds the memory that was allocated, everything needs to be moved to a new, more spacious location. "
   ]
  },
  {
   "cell_type": "markdown",
   "metadata": {
    "slideshow": {
     "slide_type": "slide"
    }
   },
   "source": [
    " Here's a re-implementation using a numpy array."
   ]
  },
  {
   "cell_type": "code",
   "execution_count": null,
   "metadata": {
    "id": "l9Dx7YhoUSTc",
    "slideshow": {
     "slide_type": "-"
    }
   },
   "outputs": [],
   "source": [
    "class dynamic_array:\n",
    "  def __init__(self, initial_size):\n",
    "    self.memory = np.zeros(initial_size)\n",
    "    self.occupied = 0\n",
    "    self.size = initial_size\n",
    "  \n",
    "  def append(self, val):\n",
    "    if self.occupied == initial_size:\n",
    "      new_memory = np.zeros(size*2)\n",
    "      for i in range(len(memory)):\n",
    "        new_memory[i] = memory[i]\n",
    "      memory = new_memory\n",
    "      size = size*2\n",
    "    new_memory[occupied] = val\n",
    "    occupied += 1\n",
    "  "
   ]
  },
  {
   "cell_type": "markdown",
   "metadata": {
    "id": "3jUlgVlRWwkn",
    "slideshow": {
     "slide_type": "slide"
    }
   },
   "source": [
    "Python uses dynamic arrays instead of linked lists because there are a variety of operations, like checking the value in the middle of the list, that are faster when you don't need to start from one end of the list and work your way in.  But there is a slight \"speed bump\" every time the underlying array gets full, and a new home needs to be found for the memory.\n"
   ]
  },
  {
   "cell_type": "markdown",
   "metadata": {
    "slideshow": {
     "slide_type": "slide"
    }
   },
   "source": [
    "You may be wondering, looking at the preceding code:  what happens to all that old memory that was left lying around?  But Python has a garbage collector running in the background that frees up all data that is no longer being \"held on to\" with a reference.  It will realize nothing has the address of that used memory, and free the memory for later allocation."
   ]
  }
 ],
 "metadata": {
  "celltoolbar": "Slideshow",
  "colab": {
   "name": "Lecture16DataStructures_after.ipynb",
   "provenance": []
  },
  "kernelspec": {
   "display_name": "Python 3",
   "language": "python",
   "name": "python3"
  },
  "language_info": {
   "codemirror_mode": {
    "name": "ipython",
    "version": 3
   },
   "file_extension": ".py",
   "mimetype": "text/x-python",
   "name": "python",
   "nbconvert_exporter": "python",
   "pygments_lexer": "ipython3",
   "version": "3.8.8"
  },
  "rise": {
   "scroll": true
  }
 },
 "nbformat": 4,
 "nbformat_minor": 1
}
