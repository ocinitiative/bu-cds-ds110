{
 "cells": [
  {
   "cell_type": "markdown",
   "metadata": {
    "slideshow": {
     "slide_type": "slide"
    }
   },
   "source": [
    "# Pandas"
   ]
  },
  {
   "cell_type": "markdown",
   "metadata": {
    "id": "i6hUmQVLVUnw",
    "slideshow": {
     "slide_type": "slide"
    }
   },
   "source": [
    "By the end of this lecture, we'll be ready to import datasets from the Internet for analysis."
   ]
  },
  {
   "cell_type": "markdown",
   "metadata": {
    "slideshow": {
     "slide_type": "slide"
    }
   },
   "source": [
    "The pandas module provides all kinds of functionality for dealing with tables of data.  Python incorporates ideas from many places in its design, but Pandas was clearly inspired by the R programming language.\n",
    "\n"
   ]
  },
  {
   "cell_type": "markdown",
   "metadata": {
    "slideshow": {
     "slide_type": "slide"
    }
   },
   "source": [
    "One big idea that made it into Pandas is that columns and rows in datasets want to be labeled; a plain array that just has the data but no labels is error-prone and harder to understand at a glance.\n"
   ]
  },
  {
   "cell_type": "code",
   "execution_count": null,
   "metadata": {
    "slideshow": {
     "slide_type": "-"
    }
   },
   "outputs": [],
   "source": [
    "import pandas as pd\n",
    "import numpy as np\n",
    "\n",
    "# Hotel ratings on a 5-star scale\n",
    "my_data = np.array([[5, 5, 4], [2, 3, 4]])\n",
    "print(my_data)\n",
    "# Contrast with the labeled Pandas version\n",
    "df2 = pd.DataFrame(my_data, columns = [\"Hilton\", \"Marriott\", \"Four Seasons\"])\n",
    "df2 = df2.set_index([pd.Index([\"Alice rating\", \"Bob rating\"])])\n",
    "df2\n"
   ]
  },
  {
   "cell_type": "markdown",
   "metadata": {
    "slideshow": {
     "slide_type": "slide"
    }
   },
   "source": [
    "DataFrames also have functionality for dealing with more messy data, with missing values and different data types mixed in the same object.  Numpy arrays, by contrast, expect all values to be present and of the same type."
   ]
  },
  {
   "cell_type": "markdown",
   "metadata": {
    "id": "fqAF0NDRXKm1",
    "slideshow": {
     "slide_type": "slide"
    }
   },
   "source": [
    "# .tsv and .csv files\n",
    "\n",
    "The data that we'll import to DataFrames will very often be .tsv files - \"Tab Separated Value\" files - or .csv files - \"Comma Separated Value.\"\n",
    "\n",
    ".tsv and .csv are easily readable as text, as almost the whole format is described in the name.  .csv files contain the values in the table separated by commas (or newline to go to a new row), while .tsv files contain the data values separated by tabs (or newline to go to a new row).  A simple format makes it easy for anyone to read or edit the data."
   ]
  },
  {
   "cell_type": "markdown",
   "metadata": {
    "slideshow": {
     "slide_type": "slide"
    }
   },
   "source": [
    "Examples of what each file type looks like if you open it (CSV then TSV):"
   ]
  },
  {
   "cell_type": "code",
   "execution_count": null,
   "metadata": {
    "slideshow": {
     "slide_type": "-"
    }
   },
   "outputs": [],
   "source": [
    "5,5,4\n",
    "2,3,4"
   ]
  },
  {
   "cell_type": "code",
   "execution_count": null,
   "metadata": {
    "slideshow": {
     "slide_type": "-"
    }
   },
   "outputs": [],
   "source": [
    "5    5    4\n",
    "2    3    4"
   ]
  },
  {
   "cell_type": "markdown",
   "metadata": {
    "id": "GYHGpJ5lZk-Q",
    "slideshow": {
     "slide_type": "slide"
    }
   },
   "source": [
    "# Importing the data as a dataframe\n",
    "\n",
    "The fundamental object that you interact with in Pandas is a DataFrame, which you can think of as a highly annotated array with mixed data types.  We'll first load a file into a dataframe."
   ]
  },
  {
   "cell_type": "markdown",
   "metadata": {
    "slideshow": {
     "slide_type": "slide"
    }
   },
   "source": [
    "If you're running in Google Colab, you'll first need to upload the file to Google colab.  Here is how to do that.  You can skip this cell if you're working locally with Jupyter notebook."
   ]
  },
  {
   "cell_type": "code",
   "execution_count": null,
   "metadata": {
    "id": "syY62q2QZ50T",
    "slideshow": {
     "slide_type": "-"
    }
   },
   "outputs": [],
   "source": [
    "# Skip this cell if not working in Google Colab\n",
    "from google.colab import files\n",
    "\n",
    "uploaded = files.upload() # pick starbucks_drinkMenu_expanded.csv"
   ]
  },
  {
   "cell_type": "markdown",
   "metadata": {
    "id": "UOh3lmchaT3x",
    "slideshow": {
     "slide_type": "-"
    }
   },
   "source": [
    "The above code should create a menu where the user can upload a file into Google colab's space."
   ]
  },
  {
   "cell_type": "markdown",
   "metadata": {},
   "source": [
    "Once you upload the file in that menu, you should be able to see the file with the system command ls, which lists files in a directory.  We put a ! before the command to indicate that we're using a system command instead of Python."
   ]
  },
  {
   "cell_type": "code",
   "execution_count": null,
   "metadata": {},
   "outputs": [],
   "source": [
    "!ls"
   ]
  },
  {
   "cell_type": "markdown",
   "metadata": {
    "slideshow": {
     "slide_type": "slide"
    }
   },
   "source": [
    "Once that's done, or if you're working locally and have the necessary file in your current directory (the one where you launched Jupyter notebook), you can read the CSV file into a dataframe as follows.  (The head() method displays only the first few rows of a DataFrame, making it helpful for previewing files to see whether you have the data you expect.)"
   ]
  },
  {
   "cell_type": "code",
   "execution_count": null,
   "metadata": {
    "slideshow": {
     "slide_type": "-"
    }
   },
   "outputs": [],
   "source": [
    "import pandas as pd\n",
    "df = pd.read_csv('starbucks_drinkMenu_expanded.csv', index_col = 'Beverage')\n",
    "df.head()"
   ]
  },
  {
   "cell_type": "markdown",
   "metadata": {
    "slideshow": {
     "slide_type": "slide"
    }
   },
   "source": [
    "One argument to read_csv that we haven't explained is index_col.  This determines which column will also be used to index into the data easily.  It makes the most sense to make this the column with the most specific \"names\" for the rows, which is Beverage in this example.  The loc property lets us look up values by index and column, even if the index doesn't uniquely identify a row.   (Notice that it uses square brackets instead of parens, hence its not being a \"method\" but a \"property.\")"
   ]
  },
  {
   "cell_type": "code",
   "execution_count": null,
   "metadata": {},
   "outputs": [],
   "source": [
    "df.loc['Brewed Coffee','Calories'] # will retrieve the different sizes' calories"
   ]
  },
  {
   "cell_type": "markdown",
   "metadata": {},
   "source": [
    "But we could have chosen a different column to be the index."
   ]
  },
  {
   "cell_type": "code",
   "execution_count": null,
   "metadata": {
    "slideshow": {
     "slide_type": "slide"
    }
   },
   "outputs": [],
   "source": [
    "df2 = pd.read_csv('starbucks_drinkMenu_expanded.csv', index_col = 'Beverage_category')\n",
    "df2.head()"
   ]
  },
  {
   "cell_type": "code",
   "execution_count": null,
   "metadata": {
    "slideshow": {
     "slide_type": "slide"
    }
   },
   "outputs": [],
   "source": [
    "df2.loc['Coffee', 'Calories']"
   ]
  },
  {
   "cell_type": "markdown",
   "metadata": {
    "id": "XzHGWgCUVICD",
    "slideshow": {
     "slide_type": "slide"
    }
   },
   "source": [
    "# Constructors\n",
    "\n",
    "We can get a better appreciation of the structure of these tables if we look at a constructor.  A numpy array can provide much of the data, but it has neither column names nor an index column.  If we supply both, the data is easier to read.  We can supply column names in the constructor and provide index values immediately after with set_index()."
   ]
  },
  {
   "cell_type": "code",
   "execution_count": null,
   "metadata": {
    "id": "_VQdVKnGWGPX",
    "slideshow": {
     "slide_type": "-"
    }
   },
   "outputs": [],
   "source": [
    "import numpy as np\n",
    "\n",
    "# Hotel ratings on a 5-star scale\n",
    "my_data = np.array([[5, 5, 4], [2, 3, 4]])\n",
    "df2 = pd.DataFrame(my_data, columns = [\"Hilton\", \"Marriott\", \"Four Seasons\"])\n",
    "df2 = df2.set_index([pd.Index([\"Alice\", \"Bob\"])])\n",
    "df2"
   ]
  },
  {
   "cell_type": "markdown",
   "metadata": {
    "slideshow": {
     "slide_type": "slide"
    }
   },
   "source": [
    "Strictly speaking, we don't need the column names or the index for our DataFrame.  We can create a DataFrame from a numpy array that doesn't have either column or index names.  We can access elements using the iloc property, which relies on numbers instead of strings."
   ]
  },
  {
   "cell_type": "code",
   "execution_count": null,
   "metadata": {
    "scrolled": true,
    "slideshow": {
     "slide_type": "-"
    }
   },
   "outputs": [],
   "source": [
    "df3 = pd.DataFrame(my_data) # plain numpy array as input\n",
    "df3.head()"
   ]
  },
  {
   "cell_type": "code",
   "execution_count": null,
   "metadata": {
    "slideshow": {
     "slide_type": "-"
    }
   },
   "outputs": [],
   "source": [
    "df3.iloc[1,0]"
   ]
  },
  {
   "cell_type": "markdown",
   "metadata": {
    "slideshow": {
     "slide_type": "slide"
    }
   },
   "source": [
    "A plain numpy array wouldn't work to build a table of mixed types, like having strings and integers both in the table, so DataFrames also have a constructor that takes a dictionary where the keys are column names and the values are columns, given as lists of equal length."
   ]
  },
  {
   "cell_type": "code",
   "execution_count": null,
   "metadata": {
    "slideshow": {
     "slide_type": "-"
    }
   },
   "outputs": [],
   "source": [
    "my_data_dict = {\n",
    "    \"Gender\" : [\"F\", \"M\"],\n",
    "    \"Hilton\" : [5, 2],\n",
    "    \"Marriott\": [5, 3],\n",
    "    \"Four Seasons\": [4,4]\n",
    "}\n",
    "df4 = pd.DataFrame(my_data_dict)\n",
    "df4 = df4.set_index([pd.Index([\"Alice\", \"Bob\"])])\n",
    "df4"
   ]
  },
  {
   "cell_type": "markdown",
   "metadata": {
    "id": "W9LBQEnkb3XI",
    "slideshow": {
     "slide_type": "slide"
    }
   },
   "source": [
    "# Slicing the table\n",
    "\n",
    "Suppose we want to iterate over all the items in a column or row.\n",
    "\n",
    "It's easy to get a whole column to iterate over - just write tablename[columnname], as if the DataFrame were a dictionary and the column name a key.  When a column is removed from the table like this, it becomes a Series object.  Series can be iterated over using for loops; they're like annotated lists, or one-dimensional DataFrames."
   ]
  },
  {
   "cell_type": "code",
   "execution_count": null,
   "metadata": {
    "slideshow": {
     "slide_type": "-"
    }
   },
   "outputs": [],
   "source": [
    "df4['Hilton']"
   ]
  },
  {
   "cell_type": "code",
   "execution_count": null,
   "metadata": {
    "slideshow": {
     "slide_type": "slide"
    }
   },
   "outputs": [],
   "source": [
    "sum = 0\n",
    "for i in df4['Hilton']:\n",
    "    sum += i\n",
    "print('Average Hilton Rating: ' + str(sum/len(df4['Hilton'])))"
   ]
  },
  {
   "cell_type": "markdown",
   "metadata": {
    "slideshow": {
     "slide_type": "slide"
    }
   },
   "source": [
    "To get sections of the table that aren't simply columns, we can use the loc and iloc properties mentioned previously, which access values by names of the rows and columns (loc) or numbers of the rows and columns (iloc) respectively.   Both have a syntax of df.loc[row, col] or df.iloc[row,col].  : (colon) reprises its role that says \"Give me all of these,\" resulting in a Series if it's one-dimensional."
   ]
  },
  {
   "cell_type": "code",
   "execution_count": null,
   "metadata": {
    "slideshow": {
     "slide_type": "-"
    }
   },
   "outputs": [],
   "source": [
    "df2"
   ]
  },
  {
   "cell_type": "code",
   "execution_count": null,
   "metadata": {
    "id": "KGuUrvPHaKVD",
    "slideshow": {
     "slide_type": "-"
    }
   },
   "outputs": [],
   "source": [
    "df2.loc[:, \"Marriott\"]"
   ]
  },
  {
   "cell_type": "code",
   "execution_count": null,
   "metadata": {
    "slideshow": {
     "slide_type": "-"
    }
   },
   "outputs": [],
   "source": [
    "df2.loc[\"Bob\",:]"
   ]
  },
  {
   "cell_type": "code",
   "execution_count": null,
   "metadata": {
    "slideshow": {
     "slide_type": "slide"
    }
   },
   "outputs": [],
   "source": [
    "df2"
   ]
  },
  {
   "cell_type": "code",
   "execution_count": null,
   "metadata": {
    "id": "FACPcajLlybE",
    "slideshow": {
     "slide_type": "-"
    }
   },
   "outputs": [],
   "source": [
    "df2.iloc[:, 2]"
   ]
  },
  {
   "cell_type": "code",
   "execution_count": null,
   "metadata": {
    "slideshow": {
     "slide_type": "-"
    }
   },
   "outputs": [],
   "source": [
    "df2.iloc[0,:]"
   ]
  },
  {
   "cell_type": "code",
   "execution_count": null,
   "metadata": {
    "id": "N24oFA04cmUg",
    "slideshow": {
     "slide_type": "slide"
    }
   },
   "outputs": [],
   "source": [
    "df.loc[\"Brewed Coffee\",:]"
   ]
  },
  {
   "cell_type": "code",
   "execution_count": null,
   "metadata": {},
   "outputs": [],
   "source": [
    "df.loc[:,'Beverage_prep']"
   ]
  },
  {
   "cell_type": "markdown",
   "metadata": {
    "slideshow": {
     "slide_type": "slide"
    }
   },
   "source": [
    "Iterating over one of these slice results with a for loop works the way you would expect."
   ]
  },
  {
   "cell_type": "code",
   "execution_count": null,
   "metadata": {
    "id": "m94RHe9HdVrG",
    "slideshow": {
     "slide_type": "-"
    }
   },
   "outputs": [],
   "source": [
    "# Iterating over Series returned by indexing\n",
    "biggest_c = 0\n",
    "calorie_list = df.loc[\"Brewed Coffee\",\"Calories\"] # 4 items\n",
    "for c in calorie_list:\n",
    "  if c > biggest_c:\n",
    "    biggest_c = c\n",
    "print(biggest_c)"
   ]
  },
  {
   "cell_type": "markdown",
   "metadata": {
    "id": "GuSY6jpPeHpt",
    "slideshow": {
     "slide_type": "slide"
    }
   },
   "source": [
    "Series objects can often be treated as numpy arrays and behave in the way you'd expect.  Here we show an arbitrary example of this - we can multiply a whole Series by 2 without a loop.\n"
   ]
  },
  {
   "cell_type": "code",
   "execution_count": null,
   "metadata": {},
   "outputs": [],
   "source": [
    "df.loc['Brewed Coffee', 'Calories'] * 2"
   ]
  },
  {
   "cell_type": "markdown",
   "metadata": {
    "slideshow": {
     "slide_type": "slide"
    }
   },
   "source": [
    "# Exercise\n",
    "\n",
    "Write code that finds the highest amount of sugar (Sugars_g) among all the products in the Starbucks table.  You don't have to name the item."
   ]
  },
  {
   "cell_type": "code",
   "execution_count": null,
   "metadata": {
    "slideshow": {
     "slide_type": "slide"
    }
   },
   "outputs": [],
   "source": [
    "most_sugar = 0\n",
    "for i in df['Sugars_g']:\n",
    "    if i > most_sugar:\n",
    "        most_sugar = i\n",
    "print(most_sugar)"
   ]
  },
  {
   "cell_type": "markdown",
   "metadata": {
    "id": "x-gdbKlVgL_c",
    "slideshow": {
     "slide_type": "slide"
    }
   },
   "source": [
    "# Indexing with conditions\n",
    "\n",
    "We can also index into the dataframe using expressions that evaluate to true or false for the cell.  The inner expression, \"df['Calories'] > 300\" creates a table full of true or false values.  (A numpy array would do something similar.)  Passing this to df again results in a smaller table with just the cells that evaluated to True."
   ]
  },
  {
   "cell_type": "code",
   "execution_count": null,
   "metadata": {
    "id": "hebf1LWmmUFz",
    "slideshow": {
     "slide_type": "-"
    }
   },
   "outputs": [],
   "source": [
    "(df['Calories'] > 300)"
   ]
  },
  {
   "cell_type": "code",
   "execution_count": null,
   "metadata": {
    "id": "H14MjTGQgHTP",
    "slideshow": {
     "slide_type": "slide"
    }
   },
   "outputs": [],
   "source": [
    "df[df['Calories'] > 300].head()"
   ]
  },
  {
   "cell_type": "markdown",
   "metadata": {
    "id": "6Zbl2K-XhOaU",
    "slideshow": {
     "slide_type": "slide"
    }
   },
   "source": [
    "It's also possible to link together multiple criteria, in order to ask for all soymilk beverages that have more than 300 calories, for example.  The one catch is that you can't use normal boolean operators for this - that results in a type error, because those operators are for the single boolean values we were generating earlier in the course, not tables full of boolean values that need to be compared elementwise.  The operators &, |, and ~ act as and, or, and not in this context, respectively."
   ]
  },
  {
   "cell_type": "code",
   "execution_count": null,
   "metadata": {
    "id": "2uGO5VhJhNPi",
    "slideshow": {
     "slide_type": "-"
    }
   },
   "outputs": [],
   "source": [
    "df[(df['Calories'] > 300) & (df['Beverage_prep'] == 'Soymilk')]"
   ]
  },
  {
   "cell_type": "markdown",
   "metadata": {
    "id": "1zguoVswsdK4",
    "slideshow": {
     "slide_type": "slide"
    }
   },
   "source": [
    "# Exercise\n",
    "\n",
    "Try creating a DataFrame that contains all beverages with no trans fat (\"Trans_Fat_g\") and more than 2 grams of protein (\"Protein_g\")"
   ]
  },
  {
   "cell_type": "code",
   "execution_count": null,
   "metadata": {
    "id": "m67hI_vtswSe",
    "slideshow": {
     "slide_type": "slide"
    }
   },
   "outputs": [],
   "source": [
    "df[(df['Protein_g'] > 2) & (df['Trans_Fat_g'] == 0)]"
   ]
  },
  {
   "cell_type": "markdown",
   "metadata": {
    "id": "QW0NXOGeu5Jn",
    "slideshow": {
     "slide_type": "slide"
    }
   },
   "source": [
    "# Convenient mathematical functions\n",
    "\n",
    "The Series objects that make up the columns of a DataFrame have a variety of convenient functions.\n",
    "\n",
    "For example, there's an existing implementation of max() that would have made our previous efforts more concise.  And while max() finds the maximum value, idxmax() finds the index of that value - the name of the item instead of the value."
   ]
  },
  {
   "cell_type": "code",
   "execution_count": null,
   "metadata": {
    "id": "A3ftY6QAvRDv",
    "slideshow": {
     "slide_type": "-"
    }
   },
   "outputs": [],
   "source": [
    "print(df.loc[:, \"Protein_g\"].mean())\n",
    "print(df.loc[:, \"Protein_g\"].max())\n",
    "print(df.loc[:, \"Protein_g\"].idxmax()) # \"argmax,\" gives index with biggest value"
   ]
  },
  {
   "cell_type": "markdown",
   "metadata": {
    "id": "y8ON96I1uQWx",
    "slideshow": {
     "slide_type": "slide"
    }
   },
   "source": [
    "In fact, you can get the min, max, mean, median, standard deviation, and some percentiles all in one go using the describe() method."
   ]
  },
  {
   "cell_type": "code",
   "execution_count": null,
   "metadata": {
    "id": "zeD7Xu3kudxc",
    "slideshow": {
     "slide_type": "-"
    }
   },
   "outputs": [],
   "source": [
    "df.describe()"
   ]
  },
  {
   "cell_type": "code",
   "execution_count": null,
   "metadata": {
    "slideshow": {
     "slide_type": "slide"
    }
   },
   "outputs": [],
   "source": [
    "df.describe()"
   ]
  },
  {
   "cell_type": "markdown",
   "metadata": {
    "id": "q6wjD4ikvMaW",
    "slideshow": {
     "slide_type": "-"
    }
   },
   "source": [
    "The percentages give the 25th percentile, 50th percentile (median), and 75th percentile, i.e. 25% of the calorie values are 120 or less, and so on.  This gives a nice numerical first pass over the data that helps to give context to individual entries, like knowing 300 calories is a lot for a drink, or 4 grams is below average for a drink's protein."
   ]
  },
  {
   "cell_type": "markdown",
   "metadata": {
    "slideshow": {
     "slide_type": "slide"
    }
   },
   "source": [
    "# DataFrames Day 2"
   ]
  },
  {
   "cell_type": "markdown",
   "metadata": {
    "id": "McWxQGGfe8A9",
    "slideshow": {
     "slide_type": "slide"
    }
   },
   "source": [
    "# Correlation\n",
    "\n",
    "One mathematical function that is particularly interesting that Pandas makes very accessible is the correlation.  A correlation is a number between -1 and 1 that measures the extent to which two variables covary, with 1 for rising and falling in perfect sync, -1 for one variable always rising as the other falls, and 0 for no (linear) relationship between the variables.  Pandas will show the correlation of every pair of numerical columns in a table with the df.corr() function."
   ]
  },
  {
   "cell_type": "code",
   "execution_count": 161,
   "metadata": {
    "id": "OJryy2a0fhDM",
    "slideshow": {
     "slide_type": "-"
    }
   },
   "outputs": [
    {
     "data": {
      "text/html": [
       "<div>\n",
       "<style scoped>\n",
       "    .dataframe tbody tr th:only-of-type {\n",
       "        vertical-align: middle;\n",
       "    }\n",
       "\n",
       "    .dataframe tbody tr th {\n",
       "        vertical-align: top;\n",
       "    }\n",
       "\n",
       "    .dataframe thead th {\n",
       "        text-align: right;\n",
       "    }\n",
       "</style>\n",
       "<table border=\"1\" class=\"dataframe\">\n",
       "  <thead>\n",
       "    <tr style=\"text-align: right;\">\n",
       "      <th></th>\n",
       "      <th>Calories</th>\n",
       "      <th>Trans_Fat_g</th>\n",
       "      <th>Saturated_Fat_g</th>\n",
       "      <th>Sodium_mg</th>\n",
       "      <th>Total_Carbohydrates_g</th>\n",
       "      <th>Cholesterol_mg</th>\n",
       "      <th>Dietary Fibre_g</th>\n",
       "      <th>Sugars_g</th>\n",
       "      <th>Protein_g</th>\n",
       "    </tr>\n",
       "  </thead>\n",
       "  <tbody>\n",
       "    <tr>\n",
       "      <th>Calories</th>\n",
       "      <td>1.000000</td>\n",
       "      <td>0.642818</td>\n",
       "      <td>0.331047</td>\n",
       "      <td>0.387892</td>\n",
       "      <td>0.795037</td>\n",
       "      <td>0.940034</td>\n",
       "      <td>0.384292</td>\n",
       "      <td>0.909675</td>\n",
       "      <td>0.578453</td>\n",
       "    </tr>\n",
       "    <tr>\n",
       "      <th>Trans_Fat_g</th>\n",
       "      <td>0.642818</td>\n",
       "      <td>1.000000</td>\n",
       "      <td>0.694871</td>\n",
       "      <td>0.707794</td>\n",
       "      <td>0.524176</td>\n",
       "      <td>0.439811</td>\n",
       "      <td>0.131267</td>\n",
       "      <td>0.419887</td>\n",
       "      <td>0.496317</td>\n",
       "    </tr>\n",
       "    <tr>\n",
       "      <th>Saturated_Fat_g</th>\n",
       "      <td>0.331047</td>\n",
       "      <td>0.694871</td>\n",
       "      <td>1.000000</td>\n",
       "      <td>0.920077</td>\n",
       "      <td>0.238142</td>\n",
       "      <td>0.161791</td>\n",
       "      <td>-0.093783</td>\n",
       "      <td>0.179255</td>\n",
       "      <td>0.287532</td>\n",
       "    </tr>\n",
       "    <tr>\n",
       "      <th>Sodium_mg</th>\n",
       "      <td>0.387892</td>\n",
       "      <td>0.707794</td>\n",
       "      <td>0.920077</td>\n",
       "      <td>1.000000</td>\n",
       "      <td>0.290295</td>\n",
       "      <td>0.199477</td>\n",
       "      <td>-0.060154</td>\n",
       "      <td>0.205969</td>\n",
       "      <td>0.496233</td>\n",
       "    </tr>\n",
       "    <tr>\n",
       "      <th>Total_Carbohydrates_g</th>\n",
       "      <td>0.795037</td>\n",
       "      <td>0.524176</td>\n",
       "      <td>0.238142</td>\n",
       "      <td>0.290295</td>\n",
       "      <td>1.000000</td>\n",
       "      <td>0.766654</td>\n",
       "      <td>0.173378</td>\n",
       "      <td>0.771407</td>\n",
       "      <td>0.410629</td>\n",
       "    </tr>\n",
       "    <tr>\n",
       "      <th>Cholesterol_mg</th>\n",
       "      <td>0.940034</td>\n",
       "      <td>0.439811</td>\n",
       "      <td>0.161791</td>\n",
       "      <td>0.199477</td>\n",
       "      <td>0.766654</td>\n",
       "      <td>1.000000</td>\n",
       "      <td>0.342040</td>\n",
       "      <td>0.984196</td>\n",
       "      <td>0.360449</td>\n",
       "    </tr>\n",
       "    <tr>\n",
       "      <th>Dietary Fibre_g</th>\n",
       "      <td>0.384292</td>\n",
       "      <td>0.131267</td>\n",
       "      <td>-0.093783</td>\n",
       "      <td>-0.060154</td>\n",
       "      <td>0.173378</td>\n",
       "      <td>0.342040</td>\n",
       "      <td>1.000000</td>\n",
       "      <td>0.184171</td>\n",
       "      <td>0.540274</td>\n",
       "    </tr>\n",
       "    <tr>\n",
       "      <th>Sugars_g</th>\n",
       "      <td>0.909675</td>\n",
       "      <td>0.419887</td>\n",
       "      <td>0.179255</td>\n",
       "      <td>0.205969</td>\n",
       "      <td>0.771407</td>\n",
       "      <td>0.984196</td>\n",
       "      <td>0.184171</td>\n",
       "      <td>1.000000</td>\n",
       "      <td>0.263061</td>\n",
       "    </tr>\n",
       "    <tr>\n",
       "      <th>Protein_g</th>\n",
       "      <td>0.578453</td>\n",
       "      <td>0.496317</td>\n",
       "      <td>0.287532</td>\n",
       "      <td>0.496233</td>\n",
       "      <td>0.410629</td>\n",
       "      <td>0.360449</td>\n",
       "      <td>0.540274</td>\n",
       "      <td>0.263061</td>\n",
       "      <td>1.000000</td>\n",
       "    </tr>\n",
       "  </tbody>\n",
       "</table>\n",
       "</div>"
      ],
      "text/plain": [
       "                       Calories  Trans_Fat_g  Saturated_Fat_g  Sodium_mg  \\\n",
       "Calories               1.000000     0.642818         0.331047   0.387892   \n",
       "Trans_Fat_g            0.642818     1.000000         0.694871   0.707794   \n",
       "Saturated_Fat_g        0.331047     0.694871         1.000000   0.920077   \n",
       "Sodium_mg              0.387892     0.707794         0.920077   1.000000   \n",
       "Total_Carbohydrates_g  0.795037     0.524176         0.238142   0.290295   \n",
       "Cholesterol_mg         0.940034     0.439811         0.161791   0.199477   \n",
       "Dietary Fibre_g        0.384292     0.131267        -0.093783  -0.060154   \n",
       "Sugars_g               0.909675     0.419887         0.179255   0.205969   \n",
       "Protein_g              0.578453     0.496317         0.287532   0.496233   \n",
       "\n",
       "                       Total_Carbohydrates_g  Cholesterol_mg  Dietary Fibre_g  \\\n",
       "Calories                            0.795037        0.940034         0.384292   \n",
       "Trans_Fat_g                         0.524176        0.439811         0.131267   \n",
       "Saturated_Fat_g                     0.238142        0.161791        -0.093783   \n",
       "Sodium_mg                           0.290295        0.199477        -0.060154   \n",
       "Total_Carbohydrates_g               1.000000        0.766654         0.173378   \n",
       "Cholesterol_mg                      0.766654        1.000000         0.342040   \n",
       "Dietary Fibre_g                     0.173378        0.342040         1.000000   \n",
       "Sugars_g                            0.771407        0.984196         0.184171   \n",
       "Protein_g                           0.410629        0.360449         0.540274   \n",
       "\n",
       "                       Sugars_g  Protein_g  \n",
       "Calories               0.909675   0.578453  \n",
       "Trans_Fat_g            0.419887   0.496317  \n",
       "Saturated_Fat_g        0.179255   0.287532  \n",
       "Sodium_mg              0.205969   0.496233  \n",
       "Total_Carbohydrates_g  0.771407   0.410629  \n",
       "Cholesterol_mg         0.984196   0.360449  \n",
       "Dietary Fibre_g        0.184171   0.540274  \n",
       "Sugars_g               1.000000   0.263061  \n",
       "Protein_g              0.263061   1.000000  "
      ]
     },
     "execution_count": 161,
     "metadata": {},
     "output_type": "execute_result"
    }
   ],
   "source": [
    "df.corr()"
   ]
  },
  {
   "cell_type": "markdown",
   "metadata": {
    "id": "8vHtirBjg9Gw",
    "slideshow": {
     "slide_type": "slide"
    }
   },
   "source": [
    "In general, a correlation's absolute value of 0.4 or less can be considered weak, an absolute value of 0.6 or more can be considered strong, and correlations between can be considered moderate.  However, this can depend on what's being studied - if the subjects are unpredictable people in a psychology experiment, a moderate result might be considered strong."
   ]
  },
  {
   "cell_type": "markdown",
   "metadata": {
    "slideshow": {
     "slide_type": "slide"
    }
   },
   "source": [
    "While the correlation function can perform three kinds of correlation - Pearson, Spearman's, and Kendall -- the default of Pearson is what people usually are referring to when they talk about correlations."
   ]
  },
  {
   "cell_type": "code",
   "execution_count": 162,
   "metadata": {
    "slideshow": {
     "slide_type": "slide"
    }
   },
   "outputs": [
    {
     "data": {
      "text/html": [
       "<div>\n",
       "<style scoped>\n",
       "    .dataframe tbody tr th:only-of-type {\n",
       "        vertical-align: middle;\n",
       "    }\n",
       "\n",
       "    .dataframe tbody tr th {\n",
       "        vertical-align: top;\n",
       "    }\n",
       "\n",
       "    .dataframe thead th {\n",
       "        text-align: right;\n",
       "    }\n",
       "</style>\n",
       "<table border=\"1\" class=\"dataframe\">\n",
       "  <thead>\n",
       "    <tr style=\"text-align: right;\">\n",
       "      <th></th>\n",
       "      <th>Calories</th>\n",
       "      <th>Trans_Fat_g</th>\n",
       "      <th>Saturated_Fat_g</th>\n",
       "      <th>Sodium_mg</th>\n",
       "      <th>Total_Carbohydrates_g</th>\n",
       "      <th>Cholesterol_mg</th>\n",
       "      <th>Dietary Fibre_g</th>\n",
       "      <th>Sugars_g</th>\n",
       "      <th>Protein_g</th>\n",
       "    </tr>\n",
       "  </thead>\n",
       "  <tbody>\n",
       "    <tr>\n",
       "      <th>count</th>\n",
       "      <td>242.000000</td>\n",
       "      <td>242.000000</td>\n",
       "      <td>242.000000</td>\n",
       "      <td>242.000000</td>\n",
       "      <td>242.000000</td>\n",
       "      <td>242.000000</td>\n",
       "      <td>242.000000</td>\n",
       "      <td>242.000000</td>\n",
       "      <td>242.000000</td>\n",
       "    </tr>\n",
       "    <tr>\n",
       "      <th>mean</th>\n",
       "      <td>193.871901</td>\n",
       "      <td>1.307025</td>\n",
       "      <td>0.037603</td>\n",
       "      <td>6.363636</td>\n",
       "      <td>128.884298</td>\n",
       "      <td>35.991736</td>\n",
       "      <td>0.805785</td>\n",
       "      <td>32.962810</td>\n",
       "      <td>6.978512</td>\n",
       "    </tr>\n",
       "    <tr>\n",
       "      <th>std</th>\n",
       "      <td>102.863303</td>\n",
       "      <td>1.640259</td>\n",
       "      <td>0.071377</td>\n",
       "      <td>8.630257</td>\n",
       "      <td>82.303223</td>\n",
       "      <td>20.795186</td>\n",
       "      <td>1.445944</td>\n",
       "      <td>19.730199</td>\n",
       "      <td>4.871659</td>\n",
       "    </tr>\n",
       "    <tr>\n",
       "      <th>min</th>\n",
       "      <td>0.000000</td>\n",
       "      <td>0.000000</td>\n",
       "      <td>0.000000</td>\n",
       "      <td>0.000000</td>\n",
       "      <td>0.000000</td>\n",
       "      <td>0.000000</td>\n",
       "      <td>0.000000</td>\n",
       "      <td>0.000000</td>\n",
       "      <td>0.000000</td>\n",
       "    </tr>\n",
       "    <tr>\n",
       "      <th>25%</th>\n",
       "      <td>120.000000</td>\n",
       "      <td>0.100000</td>\n",
       "      <td>0.000000</td>\n",
       "      <td>0.000000</td>\n",
       "      <td>70.000000</td>\n",
       "      <td>21.000000</td>\n",
       "      <td>0.000000</td>\n",
       "      <td>18.000000</td>\n",
       "      <td>3.000000</td>\n",
       "    </tr>\n",
       "    <tr>\n",
       "      <th>50%</th>\n",
       "      <td>185.000000</td>\n",
       "      <td>0.500000</td>\n",
       "      <td>0.000000</td>\n",
       "      <td>5.000000</td>\n",
       "      <td>125.000000</td>\n",
       "      <td>34.000000</td>\n",
       "      <td>0.000000</td>\n",
       "      <td>32.000000</td>\n",
       "      <td>6.000000</td>\n",
       "    </tr>\n",
       "    <tr>\n",
       "      <th>75%</th>\n",
       "      <td>260.000000</td>\n",
       "      <td>2.000000</td>\n",
       "      <td>0.100000</td>\n",
       "      <td>10.000000</td>\n",
       "      <td>170.000000</td>\n",
       "      <td>50.750000</td>\n",
       "      <td>1.000000</td>\n",
       "      <td>43.750000</td>\n",
       "      <td>10.000000</td>\n",
       "    </tr>\n",
       "    <tr>\n",
       "      <th>max</th>\n",
       "      <td>510.000000</td>\n",
       "      <td>9.000000</td>\n",
       "      <td>0.300000</td>\n",
       "      <td>40.000000</td>\n",
       "      <td>340.000000</td>\n",
       "      <td>90.000000</td>\n",
       "      <td>8.000000</td>\n",
       "      <td>84.000000</td>\n",
       "      <td>20.000000</td>\n",
       "    </tr>\n",
       "  </tbody>\n",
       "</table>\n",
       "</div>"
      ],
      "text/plain": [
       "         Calories  Trans_Fat_g  Saturated_Fat_g   Sodium_mg  \\\n",
       "count  242.000000   242.000000       242.000000  242.000000   \n",
       "mean   193.871901     1.307025         0.037603    6.363636   \n",
       "std    102.863303     1.640259         0.071377    8.630257   \n",
       "min      0.000000     0.000000         0.000000    0.000000   \n",
       "25%    120.000000     0.100000         0.000000    0.000000   \n",
       "50%    185.000000     0.500000         0.000000    5.000000   \n",
       "75%    260.000000     2.000000         0.100000   10.000000   \n",
       "max    510.000000     9.000000         0.300000   40.000000   \n",
       "\n",
       "       Total_Carbohydrates_g  Cholesterol_mg  Dietary Fibre_g    Sugars_g  \\\n",
       "count             242.000000      242.000000       242.000000  242.000000   \n",
       "mean              128.884298       35.991736         0.805785   32.962810   \n",
       "std                82.303223       20.795186         1.445944   19.730199   \n",
       "min                 0.000000        0.000000         0.000000    0.000000   \n",
       "25%                70.000000       21.000000         0.000000   18.000000   \n",
       "50%               125.000000       34.000000         0.000000   32.000000   \n",
       "75%               170.000000       50.750000         1.000000   43.750000   \n",
       "max               340.000000       90.000000         8.000000   84.000000   \n",
       "\n",
       "        Protein_g  \n",
       "count  242.000000  \n",
       "mean     6.978512  \n",
       "std      4.871659  \n",
       "min      0.000000  \n",
       "25%      3.000000  \n",
       "50%      6.000000  \n",
       "75%     10.000000  \n",
       "max     20.000000  "
      ]
     },
     "execution_count": 162,
     "metadata": {},
     "output_type": "execute_result"
    }
   ],
   "source": [
    "df.describe()"
   ]
  },
  {
   "cell_type": "markdown",
   "metadata": {
    "slideshow": {
     "slide_type": "-"
    }
   },
   "source": [
    "Notice that, for the describe() and corr() tables, we're actually missing some columns that we would consider numerical, like 'Vitamin_A'.  This is where additional data cleaning becomes necessary."
   ]
  },
  {
   "cell_type": "markdown",
   "metadata": {
    "id": "it2DJDKEVr3o",
    "slideshow": {
     "slide_type": "slide"
    }
   },
   "source": [
    "# Checking the column names and types"
   ]
  },
  {
   "cell_type": "markdown",
   "metadata": {
    "id": "69TAU8khmS2X",
    "slideshow": {
     "slide_type": "-"
    }
   },
   "source": [
    "Real data may be formatted somewhat annoyingly - if the whitespace doesn't match exactly, you may not succeed in naming the column you want.  Examining the .columns field of the dataframe can help you get the proper names for things.  (This file already had its names cleaned up, but did have excess whitespace before.)"
   ]
  },
  {
   "cell_type": "code",
   "execution_count": 163,
   "metadata": {
    "id": "vamwcFGsmUmP",
    "slideshow": {
     "slide_type": "-"
    }
   },
   "outputs": [
    {
     "data": {
      "text/plain": [
       "Index(['Beverage_category', 'Beverage_prep', 'Calories', 'Total_Fat_g',\n",
       "       'Trans_Fat_g', 'Saturated_Fat_g', 'Sodium_mg', 'Total_Carbohydrates_g',\n",
       "       'Cholesterol_mg', 'Dietary Fibre_g', 'Sugars_g', 'Protein_g',\n",
       "       'Vitamin_A', 'Vitamin_C', 'Calcium', 'Iron', 'Caffeine_mg'],\n",
       "      dtype='object')"
      ]
     },
     "execution_count": 163,
     "metadata": {},
     "output_type": "execute_result"
    }
   ],
   "source": [
    "df.columns"
   ]
  },
  {
   "cell_type": "markdown",
   "metadata": {
    "id": "CZYuI-OZsS5c",
    "slideshow": {
     "slide_type": "slide"
    }
   },
   "source": [
    "There may also be columns that seem to be mostly numerical, but a stray string value causes the whole column to be interpreted as strings.  Looking at the dtypes field can help catch these.  In our file here, a \"Varies\" note under \"Caffeine_mg\" causes the column to be interpreted as general objects instead of numbers, while a % sign makes Vitamin A and other nutrients read as strings."
   ]
  },
  {
   "cell_type": "code",
   "execution_count": 164,
   "metadata": {
    "id": "FlGiusqQsq88",
    "slideshow": {
     "slide_type": "-"
    }
   },
   "outputs": [
    {
     "data": {
      "text/plain": [
       "Beverage_category         object\n",
       "Beverage_prep             object\n",
       "Calories                   int64\n",
       "Total_Fat_g               object\n",
       "Trans_Fat_g              float64\n",
       "Saturated_Fat_g          float64\n",
       "Sodium_mg                  int64\n",
       "Total_Carbohydrates_g      int64\n",
       "Cholesterol_mg             int64\n",
       "Dietary Fibre_g            int64\n",
       "Sugars_g                   int64\n",
       "Protein_g                float64\n",
       "Vitamin_A                 object\n",
       "Vitamin_C                 object\n",
       "Calcium                   object\n",
       "Iron                      object\n",
       "Caffeine_mg               object\n",
       "dtype: object"
      ]
     },
     "execution_count": 164,
     "metadata": {},
     "output_type": "execute_result"
    }
   ],
   "source": [
    "df.dtypes"
   ]
  },
  {
   "cell_type": "markdown",
   "metadata": {
    "slideshow": {
     "slide_type": "slide"
    }
   },
   "source": [
    "We can fix Vitamin A as an example.  Its problem is that it isn't interpreted as numeric, and therefore isn't getting its describe() or corr() stats computed, because of a percent sign at the end of each value.  If we strip the last character from each string, we are then able to convert each string to a number."
   ]
  },
  {
   "cell_type": "markdown",
   "metadata": {
    "slideshow": {
     "slide_type": "slide"
    }
   },
   "source": [
    "A way to strip off a character from a string named 'string' is to slice it with the last index -1, thus string[0:-1].  The -1 signals the character at the end of the string, and making that the second index drops the last character."
   ]
  },
  {
   "cell_type": "code",
   "execution_count": 165,
   "metadata": {
    "slideshow": {
     "slide_type": "-"
    }
   },
   "outputs": [
    {
     "data": {
      "text/plain": [
       "'strin'"
      ]
     },
     "execution_count": 165,
     "metadata": {},
     "output_type": "execute_result"
    }
   ],
   "source": [
    "string = 'string'\n",
    "string[0:-1]"
   ]
  },
  {
   "cell_type": "markdown",
   "metadata": {
    "slideshow": {
     "slide_type": "slide"
    }
   },
   "source": [
    "The str property of a Series allows us to call string-related methods on every string in the Series.  So we can use our character-dropping technique on the whole Vitamin A column.  We can then replace the whole column by assigning our result to the original column."
   ]
  },
  {
   "cell_type": "code",
   "execution_count": 166,
   "metadata": {
    "slideshow": {
     "slide_type": "-"
    }
   },
   "outputs": [
    {
     "data": {
      "text/plain": [
       "Beverage\n",
       "Brewed Coffee                                    0\n",
       "Brewed Coffee                                    0\n",
       "Brewed Coffee                                    0\n",
       "Brewed Coffee                                    0\n",
       "Caffè Latte                                     10\n",
       "                                                ..\n",
       "Strawberries & Crème (Without Whipped Cream)     6\n",
       "Vanilla Bean (Without Whipped Cream)             6\n",
       "Vanilla Bean (Without Whipped Cream)             6\n",
       "Vanilla Bean (Without Whipped Cream)             4\n",
       "Vanilla Bean (Without Whipped Cream)             8\n",
       "Name: Vitamin_A, Length: 242, dtype: object"
      ]
     },
     "execution_count": 166,
     "metadata": {},
     "output_type": "execute_result"
    }
   ],
   "source": [
    "df['Vitamin_A'] = df['Vitamin_A'].str[0:-1] # Remove the % at the end\n",
    "df['Vitamin_A']"
   ]
  },
  {
   "cell_type": "markdown",
   "metadata": {
    "slideshow": {
     "slide_type": "slide"
    }
   },
   "source": [
    "Last, we can convert the whole column to numerical using pd.to_numeric(), again assigning the whole column result to the column."
   ]
  },
  {
   "cell_type": "code",
   "execution_count": 167,
   "metadata": {},
   "outputs": [
    {
     "data": {
      "text/plain": [
       "Beverage_category         object\n",
       "Beverage_prep             object\n",
       "Calories                   int64\n",
       "Total_Fat_g               object\n",
       "Trans_Fat_g              float64\n",
       "Saturated_Fat_g          float64\n",
       "Sodium_mg                  int64\n",
       "Total_Carbohydrates_g      int64\n",
       "Cholesterol_mg             int64\n",
       "Dietary Fibre_g            int64\n",
       "Sugars_g                   int64\n",
       "Protein_g                float64\n",
       "Vitamin_A                  int64\n",
       "Vitamin_C                 object\n",
       "Calcium                   object\n",
       "Iron                      object\n",
       "Caffeine_mg               object\n",
       "dtype: object"
      ]
     },
     "execution_count": 167,
     "metadata": {},
     "output_type": "execute_result"
    }
   ],
   "source": [
    "df['Vitamin_A'] = pd.to_numeric(df['Vitamin_A'])\n",
    "df.dtypes"
   ]
  },
  {
   "cell_type": "markdown",
   "metadata": {},
   "source": [
    "Since the Vitamin A column is now numerical, it now shows in our statistics."
   ]
  },
  {
   "cell_type": "code",
   "execution_count": null,
   "metadata": {},
   "outputs": [],
   "source": [
    "df.describe()"
   ]
  },
  {
   "cell_type": "markdown",
   "metadata": {
    "id": "b6veOAQMnJLu",
    "slideshow": {
     "slide_type": "slide"
    }
   },
   "source": [
    "# Drop missing values\n",
    "\n",
    "Another common issue with data is that it's just not there.  Pandas makes it relatively straightforward to drop rows with missing data, which is represented by NaN (\"not a number\") in Pandas.  You can detect missing data with isnull(), which returns booleans for every place, and drop relevant rows or columns with dropna()."
   ]
  },
  {
   "cell_type": "code",
   "execution_count": 168,
   "metadata": {
    "id": "8tsJ5-JMnIey",
    "slideshow": {
     "slide_type": "-"
    }
   },
   "outputs": [
    {
     "data": {
      "text/plain": [
       "Beverage_category        0\n",
       "Beverage_prep            0\n",
       "Calories                 0\n",
       "Total_Fat_g              0\n",
       "Trans_Fat_g              0\n",
       "Saturated_Fat_g          0\n",
       "Sodium_mg                0\n",
       "Total_Carbohydrates_g    0\n",
       "Cholesterol_mg           0\n",
       "Dietary Fibre_g          0\n",
       "Sugars_g                 0\n",
       "Protein_g                0\n",
       "Vitamin_A                0\n",
       "Vitamin_C                0\n",
       "Calcium                  0\n",
       "Iron                     0\n",
       "Caffeine_mg              1\n",
       "dtype: int64"
      ]
     },
     "execution_count": 168,
     "metadata": {},
     "output_type": "execute_result"
    }
   ],
   "source": [
    "df.isnull().sum()"
   ]
  },
  {
   "cell_type": "code",
   "execution_count": 169,
   "metadata": {
    "id": "L9AjwwVep4oz",
    "slideshow": {
     "slide_type": "-"
    }
   },
   "outputs": [
    {
     "data": {
      "text/plain": [
       "Beverage_category        0\n",
       "Beverage_prep            0\n",
       "Calories                 0\n",
       "Total_Fat_g              0\n",
       "Trans_Fat_g              0\n",
       "Saturated_Fat_g          0\n",
       "Sodium_mg                0\n",
       "Total_Carbohydrates_g    0\n",
       "Cholesterol_mg           0\n",
       "Dietary Fibre_g          0\n",
       "Sugars_g                 0\n",
       "Protein_g                0\n",
       "Vitamin_A                0\n",
       "Vitamin_C                0\n",
       "Calcium                  0\n",
       "Iron                     0\n",
       "Caffeine_mg              0\n",
       "dtype: int64"
      ]
     },
     "execution_count": 169,
     "metadata": {},
     "output_type": "execute_result"
    }
   ],
   "source": [
    "df = df.dropna(axis=0, how=\"any\") # Remove the offending row\n",
    "df.isnull().sum()"
   ]
  },
  {
   "cell_type": "markdown",
   "metadata": {
    "id": "bnRNtF3vdU4K",
    "slideshow": {
     "slide_type": "slide"
    }
   },
   "source": [
    "# Named tuples\n",
    "\n",
    "It's possible to iterate over the rows of a DataFrame, treating each row as a *named tuple*.  So, before we describe how to iterate like that, what are named tuples?\n"
   ]
  },
  {
   "cell_type": "markdown",
   "metadata": {
    "slideshow": {
     "slide_type": "slide"
    }
   },
   "source": [
    "\n",
    "Named tuples are little bit more structured than normal tuples. A namedtuple allows us to name each place in the tuple. Then, when accessing that place, we can use the name instead of [0] or [1]. An example follows."
   ]
  },
  {
   "cell_type": "code",
   "execution_count": null,
   "metadata": {
    "id": "1NpjH4xhdy6H",
    "slideshow": {
     "slide_type": "-"
    }
   },
   "outputs": [],
   "source": [
    "from collections import namedtuple\n",
    "\n",
    "BillItem = namedtuple(\"BillItem\", [\"name\", \"price\"])\n",
    "\n",
    "item = BillItem(\"sushi\", 10)\n",
    "print(item.price)"
   ]
  },
  {
   "cell_type": "markdown",
   "metadata": {
    "id": "uKbvCBgTeHJP",
    "slideshow": {
     "slide_type": "-"
    }
   },
   "source": [
    "Notice how \"item.price\" is much more readable than item[1].  A named tuple thus adds a little readabilty without adding the complexity that would come with making it a full-fledged object."
   ]
  },
  {
   "cell_type": "markdown",
   "metadata": {
    "id": "qYAGbeoTkbJ5",
    "slideshow": {
     "slide_type": "slide"
    }
   },
   "source": [
    "# itertuples() and iterrows()\n",
    "\n",
    "We may want access to a whole row record as we iterate down the table.  This is made more convenient with the itertuples() generator.  Placed in a for loop, it formats one row at a time as a named tuple, where a value can be accessed with a dot followed by the column name."
   ]
  },
  {
   "cell_type": "code",
   "execution_count": 170,
   "metadata": {
    "id": "96pLTynSkaIL",
    "slideshow": {
     "slide_type": "-"
    }
   },
   "outputs": [
    {
     "name": "stdout",
     "output_type": "stream",
     "text": [
      "White Chocolate Mocha (Without Whipped Cream)\n"
     ]
    }
   ],
   "source": [
    "# Find the name and size of the beverage with the most calories\n",
    "calorie_max = 0\n",
    "best_name = \"\"\n",
    "for row in df.itertuples():\n",
    "  if row.Calories > calorie_max:\n",
    "    calorie_max = row.Calories\n",
    "    best_name = row.Index      # index is the beverage\n",
    "\n",
    "print(best_name)"
   ]
  },
  {
   "cell_type": "markdown",
   "metadata": {
    "id": "aCQg2bAypYzW",
    "slideshow": {
     "slide_type": "slide"
    }
   },
   "source": [
    "\n",
    "Iterrows() does something similar, but its fields can be accessed with strings instead of the dot notation."
   ]
  },
  {
   "cell_type": "code",
   "execution_count": 171,
   "metadata": {
    "id": "8cJu3QElqJaC",
    "slideshow": {
     "slide_type": "-"
    }
   },
   "outputs": [
    {
     "name": "stdout",
     "output_type": "stream",
     "text": [
      "White Chocolate Mocha (Without Whipped Cream)\n"
     ]
    }
   ],
   "source": [
    "# Find the name and size of the beverage with the most calories\n",
    "calorie_max = 0\n",
    "best_name = \"\"\n",
    "for index, row in df.iterrows():\n",
    "  if row['Calories'] > calorie_max:\n",
    "    calorie_max = row['Calories']\n",
    "    best_name = index\n",
    "\n",
    "print(best_name)"
   ]
  },
  {
   "cell_type": "markdown",
   "metadata": {
    "id": "XgoP-clsiB-n",
    "slideshow": {
     "slide_type": "slide"
    }
   },
   "source": [
    "# Exercise\n",
    "\n",
    "Using iterrows() or itertuples(), try finding the drink under 200 calories that offers the most protein."
   ]
  },
  {
   "cell_type": "code",
   "execution_count": null,
   "metadata": {
    "id": "RspN-lG3h_6m",
    "slideshow": {
     "slide_type": "slide"
    }
   },
   "outputs": [],
   "source": [
    "lowcal = df[df[\"Calories\"] < 200]\n",
    "protein_max = 0\n",
    "best_name = \"\"\n",
    "for index, row in lowcal.iterrows():\n",
    "  if row[\"Protein_g\"] > protein_max:\n",
    "    protein_max = row[\"Protein_g\"]\n",
    "    best_name = index\n",
    "\n",
    "print(best_name)\n"
   ]
  },
  {
   "cell_type": "markdown",
   "metadata": {
    "id": "E2JANFDIv_tc",
    "slideshow": {
     "slide_type": "slide"
    }
   },
   "source": [
    "# Convenient statistical visualization tools"
   ]
  },
  {
   "cell_type": "markdown",
   "metadata": {
    "id": "F3m0a8M4wEve",
    "slideshow": {
     "slide_type": "-"
    }
   },
   "source": [
    "In addition to convenient mathematical tools for DataFrames, there are some easy functions for visualizing data."
   ]
  },
  {
   "cell_type": "code",
   "execution_count": 174,
   "metadata": {
    "id": "CKuL1rkSwZqe",
    "slideshow": {
     "slide_type": "slide"
    }
   },
   "outputs": [
    {
     "data": {
      "text/plain": [
       "<AxesSubplot:>"
      ]
     },
     "execution_count": 174,
     "metadata": {},
     "output_type": "execute_result"
    },
    {
     "data": {
      "image/png": "[encoded data removed]",
      "text/plain": [
       "<Figure size 432x288 with 1 Axes>"
      ]
     },
     "metadata": {
      "needs_background": "light"
     },
     "output_type": "display_data"
    }
   ],
   "source": [
    "protein = df.loc[:, \"Protein_g\"]\n",
    "protein.hist(bins=20) # Create a histogram with 20 equally spaced bins for the data"
   ]
  },
  {
   "cell_type": "code",
   "execution_count": 175,
   "metadata": {
    "id": "bIsWeXSKxdfv",
    "slideshow": {
     "slide_type": "slide"
    }
   },
   "outputs": [
    {
     "data": {
      "text/plain": [
       "<AxesSubplot:>"
      ]
     },
     "execution_count": 175,
     "metadata": {},
     "output_type": "execute_result"
    },
    {
     "data": {
      "image/png": "[encoded data removed]",
      "text/plain": [
       "<Figure size 432x288 with 1 Axes>"
      ]
     },
     "metadata": {
      "needs_background": "light"
     },
     "output_type": "display_data"
    }
   ],
   "source": [
    "subplot = df[[\"Protein_g\"]] # Notice another way to get desired column\n",
    "subplot.boxplot() # Boxplots give median value, middle 50% of data, and range of non-outliers"
   ]
  },
  {
   "cell_type": "markdown",
   "metadata": {
    "slideshow": {
     "slide_type": "slide"
    }
   },
   "source": [
    "# Putting it all together"
   ]
  },
  {
   "cell_type": "markdown",
   "metadata": {
    "slideshow": {
     "slide_type": "slide"
    }
   },
   "source": [
    "We'll try putting it all together with a new dataset, the Titanic dataset.  This dataset has survival data on all the passengers on the Titanic.  It also has information like the gender of the passenger and how much they paid for a ticket.\n",
    "\n",
    "We can explore this data with the question, are there variables that tend to predict survival for certain passengers?  Specificallly, did gender, age, or class matter in who survived?"
   ]
  },
  {
   "cell_type": "markdown",
   "metadata": {
    "slideshow": {
     "slide_type": "slide"
    }
   },
   "source": [
    "The data is in a CSV file, so we can load that up first."
   ]
  },
  {
   "cell_type": "code",
   "execution_count": null,
   "metadata": {
    "slideshow": {
     "slide_type": "-"
    }
   },
   "outputs": [],
   "source": [
    "# Skip this cell if not working in Google Colab\n",
    "from google.colab import files\n",
    "\n",
    "uploaded = files.upload() # pick titanic.csv"
   ]
  },
  {
   "cell_type": "markdown",
   "metadata": {
    "slideshow": {
     "slide_type": "slide"
    }
   },
   "source": [
    "Some relevant variables to us are Survived (1 if they did, 0 if they didn't), Pclass (1st, 2nd, or 3rd class), Sex, and Age.  The variables we'll ignore are SibSp (how many siblings or spouses on the Titanic), Parch (number of parents or children on the Titanic), Ticket number, the fare paid, the cabin number, and the port of embarkation."
   ]
  },
  {
   "cell_type": "code",
   "execution_count": 176,
   "metadata": {
    "slideshow": {
     "slide_type": "slide"
    }
   },
   "outputs": [
    {
     "data": {
      "text/html": [
       "<div>\n",
       "<style scoped>\n",
       "    .dataframe tbody tr th:only-of-type {\n",
       "        vertical-align: middle;\n",
       "    }\n",
       "\n",
       "    .dataframe tbody tr th {\n",
       "        vertical-align: top;\n",
       "    }\n",
       "\n",
       "    .dataframe thead th {\n",
       "        text-align: right;\n",
       "    }\n",
       "</style>\n",
       "<table border=\"1\" class=\"dataframe\">\n",
       "  <thead>\n",
       "    <tr style=\"text-align: right;\">\n",
       "      <th></th>\n",
       "      <th>Survived</th>\n",
       "      <th>Pclass</th>\n",
       "      <th>Name</th>\n",
       "      <th>Sex</th>\n",
       "      <th>Age</th>\n",
       "      <th>SibSp</th>\n",
       "      <th>Parch</th>\n",
       "      <th>Ticket</th>\n",
       "      <th>Fare</th>\n",
       "      <th>Cabin</th>\n",
       "      <th>Embarked</th>\n",
       "    </tr>\n",
       "    <tr>\n",
       "      <th>PassengerId</th>\n",
       "      <th></th>\n",
       "      <th></th>\n",
       "      <th></th>\n",
       "      <th></th>\n",
       "      <th></th>\n",
       "      <th></th>\n",
       "      <th></th>\n",
       "      <th></th>\n",
       "      <th></th>\n",
       "      <th></th>\n",
       "      <th></th>\n",
       "    </tr>\n",
       "  </thead>\n",
       "  <tbody>\n",
       "    <tr>\n",
       "      <th>1</th>\n",
       "      <td>0</td>\n",
       "      <td>3</td>\n",
       "      <td>Braund, Mr. Owen Harris</td>\n",
       "      <td>male</td>\n",
       "      <td>22.0</td>\n",
       "      <td>1</td>\n",
       "      <td>0</td>\n",
       "      <td>A/5 21171</td>\n",
       "      <td>7.2500</td>\n",
       "      <td>NaN</td>\n",
       "      <td>S</td>\n",
       "    </tr>\n",
       "    <tr>\n",
       "      <th>2</th>\n",
       "      <td>1</td>\n",
       "      <td>1</td>\n",
       "      <td>Cumings, Mrs. John Bradley (Florence Briggs Th...</td>\n",
       "      <td>female</td>\n",
       "      <td>38.0</td>\n",
       "      <td>1</td>\n",
       "      <td>0</td>\n",
       "      <td>PC 17599</td>\n",
       "      <td>71.2833</td>\n",
       "      <td>C85</td>\n",
       "      <td>C</td>\n",
       "    </tr>\n",
       "    <tr>\n",
       "      <th>3</th>\n",
       "      <td>1</td>\n",
       "      <td>3</td>\n",
       "      <td>Heikkinen, Miss. Laina</td>\n",
       "      <td>female</td>\n",
       "      <td>26.0</td>\n",
       "      <td>0</td>\n",
       "      <td>0</td>\n",
       "      <td>STON/O2. 3101282</td>\n",
       "      <td>7.9250</td>\n",
       "      <td>NaN</td>\n",
       "      <td>S</td>\n",
       "    </tr>\n",
       "    <tr>\n",
       "      <th>4</th>\n",
       "      <td>1</td>\n",
       "      <td>1</td>\n",
       "      <td>Futrelle, Mrs. Jacques Heath (Lily May Peel)</td>\n",
       "      <td>female</td>\n",
       "      <td>35.0</td>\n",
       "      <td>1</td>\n",
       "      <td>0</td>\n",
       "      <td>113803</td>\n",
       "      <td>53.1000</td>\n",
       "      <td>C123</td>\n",
       "      <td>S</td>\n",
       "    </tr>\n",
       "    <tr>\n",
       "      <th>5</th>\n",
       "      <td>0</td>\n",
       "      <td>3</td>\n",
       "      <td>Allen, Mr. William Henry</td>\n",
       "      <td>male</td>\n",
       "      <td>35.0</td>\n",
       "      <td>0</td>\n",
       "      <td>0</td>\n",
       "      <td>373450</td>\n",
       "      <td>8.0500</td>\n",
       "      <td>NaN</td>\n",
       "      <td>S</td>\n",
       "    </tr>\n",
       "  </tbody>\n",
       "</table>\n",
       "</div>"
      ],
      "text/plain": [
       "             Survived  Pclass  \\\n",
       "PassengerId                     \n",
       "1                   0       3   \n",
       "2                   1       1   \n",
       "3                   1       3   \n",
       "4                   1       1   \n",
       "5                   0       3   \n",
       "\n",
       "                                                          Name     Sex   Age  \\\n",
       "PassengerId                                                                    \n",
       "1                                      Braund, Mr. Owen Harris    male  22.0   \n",
       "2            Cumings, Mrs. John Bradley (Florence Briggs Th...  female  38.0   \n",
       "3                                       Heikkinen, Miss. Laina  female  26.0   \n",
       "4                 Futrelle, Mrs. Jacques Heath (Lily May Peel)  female  35.0   \n",
       "5                                     Allen, Mr. William Henry    male  35.0   \n",
       "\n",
       "             SibSp  Parch            Ticket     Fare Cabin Embarked  \n",
       "PassengerId                                                          \n",
       "1                1      0         A/5 21171   7.2500   NaN        S  \n",
       "2                1      0          PC 17599  71.2833   C85        C  \n",
       "3                0      0  STON/O2. 3101282   7.9250   NaN        S  \n",
       "4                1      0            113803  53.1000  C123        S  \n",
       "5                0      0            373450   8.0500   NaN        S  "
      ]
     },
     "execution_count": 176,
     "metadata": {},
     "output_type": "execute_result"
    }
   ],
   "source": [
    "import pandas as pd\n",
    "df = pd.read_csv('titanic.csv', index_col = 'PassengerId')\n",
    "df.head()"
   ]
  },
  {
   "cell_type": "markdown",
   "metadata": {
    "slideshow": {
     "slide_type": "slide"
    }
   },
   "source": [
    "We next make sure there's nothing unexpected about the column names or the types of these columns.  Aside from sex being a string instead of a more convenient number, everything here is as expected."
   ]
  },
  {
   "cell_type": "code",
   "execution_count": 177,
   "metadata": {
    "slideshow": {
     "slide_type": "-"
    }
   },
   "outputs": [
    {
     "data": {
      "text/plain": [
       "Index(['Survived', 'Pclass', 'Name', 'Sex', 'Age', 'SibSp', 'Parch', 'Ticket',\n",
       "       'Fare', 'Cabin', 'Embarked'],\n",
       "      dtype='object')"
      ]
     },
     "execution_count": 177,
     "metadata": {},
     "output_type": "execute_result"
    }
   ],
   "source": [
    "df.columns"
   ]
  },
  {
   "cell_type": "code",
   "execution_count": 178,
   "metadata": {
    "slideshow": {
     "slide_type": "-"
    }
   },
   "outputs": [
    {
     "data": {
      "text/plain": [
       "Survived      int64\n",
       "Pclass        int64\n",
       "Name         object\n",
       "Sex          object\n",
       "Age         float64\n",
       "SibSp         int64\n",
       "Parch         int64\n",
       "Ticket       object\n",
       "Fare        float64\n",
       "Cabin        object\n",
       "Embarked     object\n",
       "dtype: object"
      ]
     },
     "execution_count": 178,
     "metadata": {},
     "output_type": "execute_result"
    }
   ],
   "source": [
    "df.dtypes"
   ]
  },
  {
   "cell_type": "markdown",
   "metadata": {
    "slideshow": {
     "slide_type": "slide"
    }
   },
   "source": [
    "What is the overall average survival rate?  The average age?  We can use describe() to get a sense of the numeric variables."
   ]
  },
  {
   "cell_type": "code",
   "execution_count": 179,
   "metadata": {},
   "outputs": [
    {
     "data": {
      "text/html": [
       "<div>\n",
       "<style scoped>\n",
       "    .dataframe tbody tr th:only-of-type {\n",
       "        vertical-align: middle;\n",
       "    }\n",
       "\n",
       "    .dataframe tbody tr th {\n",
       "        vertical-align: top;\n",
       "    }\n",
       "\n",
       "    .dataframe thead th {\n",
       "        text-align: right;\n",
       "    }\n",
       "</style>\n",
       "<table border=\"1\" class=\"dataframe\">\n",
       "  <thead>\n",
       "    <tr style=\"text-align: right;\">\n",
       "      <th></th>\n",
       "      <th>Survived</th>\n",
       "      <th>Pclass</th>\n",
       "      <th>Age</th>\n",
       "      <th>SibSp</th>\n",
       "      <th>Parch</th>\n",
       "      <th>Fare</th>\n",
       "    </tr>\n",
       "  </thead>\n",
       "  <tbody>\n",
       "    <tr>\n",
       "      <th>count</th>\n",
       "      <td>891.000000</td>\n",
       "      <td>891.000000</td>\n",
       "      <td>714.000000</td>\n",
       "      <td>891.000000</td>\n",
       "      <td>891.000000</td>\n",
       "      <td>891.000000</td>\n",
       "    </tr>\n",
       "    <tr>\n",
       "      <th>mean</th>\n",
       "      <td>0.383838</td>\n",
       "      <td>2.308642</td>\n",
       "      <td>29.699118</td>\n",
       "      <td>0.523008</td>\n",
       "      <td>0.381594</td>\n",
       "      <td>32.204208</td>\n",
       "    </tr>\n",
       "    <tr>\n",
       "      <th>std</th>\n",
       "      <td>0.486592</td>\n",
       "      <td>0.836071</td>\n",
       "      <td>14.526497</td>\n",
       "      <td>1.102743</td>\n",
       "      <td>0.806057</td>\n",
       "      <td>49.693429</td>\n",
       "    </tr>\n",
       "    <tr>\n",
       "      <th>min</th>\n",
       "      <td>0.000000</td>\n",
       "      <td>1.000000</td>\n",
       "      <td>0.420000</td>\n",
       "      <td>0.000000</td>\n",
       "      <td>0.000000</td>\n",
       "      <td>0.000000</td>\n",
       "    </tr>\n",
       "    <tr>\n",
       "      <th>25%</th>\n",
       "      <td>0.000000</td>\n",
       "      <td>2.000000</td>\n",
       "      <td>20.125000</td>\n",
       "      <td>0.000000</td>\n",
       "      <td>0.000000</td>\n",
       "      <td>7.910400</td>\n",
       "    </tr>\n",
       "    <tr>\n",
       "      <th>50%</th>\n",
       "      <td>0.000000</td>\n",
       "      <td>3.000000</td>\n",
       "      <td>28.000000</td>\n",
       "      <td>0.000000</td>\n",
       "      <td>0.000000</td>\n",
       "      <td>14.454200</td>\n",
       "    </tr>\n",
       "    <tr>\n",
       "      <th>75%</th>\n",
       "      <td>1.000000</td>\n",
       "      <td>3.000000</td>\n",
       "      <td>38.000000</td>\n",
       "      <td>1.000000</td>\n",
       "      <td>0.000000</td>\n",
       "      <td>31.000000</td>\n",
       "    </tr>\n",
       "    <tr>\n",
       "      <th>max</th>\n",
       "      <td>1.000000</td>\n",
       "      <td>3.000000</td>\n",
       "      <td>80.000000</td>\n",
       "      <td>8.000000</td>\n",
       "      <td>6.000000</td>\n",
       "      <td>512.329200</td>\n",
       "    </tr>\n",
       "  </tbody>\n",
       "</table>\n",
       "</div>"
      ],
      "text/plain": [
       "         Survived      Pclass         Age       SibSp       Parch        Fare\n",
       "count  891.000000  891.000000  714.000000  891.000000  891.000000  891.000000\n",
       "mean     0.383838    2.308642   29.699118    0.523008    0.381594   32.204208\n",
       "std      0.486592    0.836071   14.526497    1.102743    0.806057   49.693429\n",
       "min      0.000000    1.000000    0.420000    0.000000    0.000000    0.000000\n",
       "25%      0.000000    2.000000   20.125000    0.000000    0.000000    7.910400\n",
       "50%      0.000000    3.000000   28.000000    0.000000    0.000000   14.454200\n",
       "75%      1.000000    3.000000   38.000000    1.000000    0.000000   31.000000\n",
       "max      1.000000    3.000000   80.000000    8.000000    6.000000  512.329200"
      ]
     },
     "execution_count": 179,
     "metadata": {},
     "output_type": "execute_result"
    }
   ],
   "source": [
    "df.describe()"
   ]
  },
  {
   "cell_type": "markdown",
   "metadata": {
    "slideshow": {
     "slide_type": "slide"
    }
   },
   "source": [
    "Now, what was correlated with survival?  We can use df.corr() to see."
   ]
  },
  {
   "cell_type": "code",
   "execution_count": 180,
   "metadata": {
    "slideshow": {
     "slide_type": "-"
    }
   },
   "outputs": [
    {
     "data": {
      "text/html": [
       "<div>\n",
       "<style scoped>\n",
       "    .dataframe tbody tr th:only-of-type {\n",
       "        vertical-align: middle;\n",
       "    }\n",
       "\n",
       "    .dataframe tbody tr th {\n",
       "        vertical-align: top;\n",
       "    }\n",
       "\n",
       "    .dataframe thead th {\n",
       "        text-align: right;\n",
       "    }\n",
       "</style>\n",
       "<table border=\"1\" class=\"dataframe\">\n",
       "  <thead>\n",
       "    <tr style=\"text-align: right;\">\n",
       "      <th></th>\n",
       "      <th>Survived</th>\n",
       "      <th>Pclass</th>\n",
       "      <th>Age</th>\n",
       "      <th>SibSp</th>\n",
       "      <th>Parch</th>\n",
       "      <th>Fare</th>\n",
       "    </tr>\n",
       "  </thead>\n",
       "  <tbody>\n",
       "    <tr>\n",
       "      <th>Survived</th>\n",
       "      <td>1.000000</td>\n",
       "      <td>-0.338481</td>\n",
       "      <td>-0.077221</td>\n",
       "      <td>-0.035322</td>\n",
       "      <td>0.081629</td>\n",
       "      <td>0.257307</td>\n",
       "    </tr>\n",
       "    <tr>\n",
       "      <th>Pclass</th>\n",
       "      <td>-0.338481</td>\n",
       "      <td>1.000000</td>\n",
       "      <td>-0.369226</td>\n",
       "      <td>0.083081</td>\n",
       "      <td>0.018443</td>\n",
       "      <td>-0.549500</td>\n",
       "    </tr>\n",
       "    <tr>\n",
       "      <th>Age</th>\n",
       "      <td>-0.077221</td>\n",
       "      <td>-0.369226</td>\n",
       "      <td>1.000000</td>\n",
       "      <td>-0.308247</td>\n",
       "      <td>-0.189119</td>\n",
       "      <td>0.096067</td>\n",
       "    </tr>\n",
       "    <tr>\n",
       "      <th>SibSp</th>\n",
       "      <td>-0.035322</td>\n",
       "      <td>0.083081</td>\n",
       "      <td>-0.308247</td>\n",
       "      <td>1.000000</td>\n",
       "      <td>0.414838</td>\n",
       "      <td>0.159651</td>\n",
       "    </tr>\n",
       "    <tr>\n",
       "      <th>Parch</th>\n",
       "      <td>0.081629</td>\n",
       "      <td>0.018443</td>\n",
       "      <td>-0.189119</td>\n",
       "      <td>0.414838</td>\n",
       "      <td>1.000000</td>\n",
       "      <td>0.216225</td>\n",
       "    </tr>\n",
       "    <tr>\n",
       "      <th>Fare</th>\n",
       "      <td>0.257307</td>\n",
       "      <td>-0.549500</td>\n",
       "      <td>0.096067</td>\n",
       "      <td>0.159651</td>\n",
       "      <td>0.216225</td>\n",
       "      <td>1.000000</td>\n",
       "    </tr>\n",
       "  </tbody>\n",
       "</table>\n",
       "</div>"
      ],
      "text/plain": [
       "          Survived    Pclass       Age     SibSp     Parch      Fare\n",
       "Survived  1.000000 -0.338481 -0.077221 -0.035322  0.081629  0.257307\n",
       "Pclass   -0.338481  1.000000 -0.369226  0.083081  0.018443 -0.549500\n",
       "Age      -0.077221 -0.369226  1.000000 -0.308247 -0.189119  0.096067\n",
       "SibSp    -0.035322  0.083081 -0.308247  1.000000  0.414838  0.159651\n",
       "Parch     0.081629  0.018443 -0.189119  0.414838  1.000000  0.216225\n",
       "Fare      0.257307 -0.549500  0.096067  0.159651  0.216225  1.000000"
      ]
     },
     "execution_count": 180,
     "metadata": {},
     "output_type": "execute_result"
    }
   ],
   "source": [
    "df.corr()"
   ]
  },
  {
   "cell_type": "markdown",
   "metadata": {
    "slideshow": {
     "slide_type": "-"
    }
   },
   "source": [
    "It looks like age doesn't have much relationship with the survived variable, but Pclass has a weak negative correlation with it (third class has lower survival than first)."
   ]
  },
  {
   "cell_type": "markdown",
   "metadata": {
    "slideshow": {
     "slide_type": "slide"
    }
   },
   "source": [
    "Sex isn't in the table because it's not numeric.  But we can compute the survival rates separately for men and women."
   ]
  },
  {
   "cell_type": "code",
   "execution_count": 181,
   "metadata": {
    "slideshow": {
     "slide_type": "-"
    }
   },
   "outputs": [
    {
     "data": {
      "text/html": [
       "<div>\n",
       "<style scoped>\n",
       "    .dataframe tbody tr th:only-of-type {\n",
       "        vertical-align: middle;\n",
       "    }\n",
       "\n",
       "    .dataframe tbody tr th {\n",
       "        vertical-align: top;\n",
       "    }\n",
       "\n",
       "    .dataframe thead th {\n",
       "        text-align: right;\n",
       "    }\n",
       "</style>\n",
       "<table border=\"1\" class=\"dataframe\">\n",
       "  <thead>\n",
       "    <tr style=\"text-align: right;\">\n",
       "      <th></th>\n",
       "      <th>Survived</th>\n",
       "      <th>Pclass</th>\n",
       "      <th>Name</th>\n",
       "      <th>Sex</th>\n",
       "      <th>Age</th>\n",
       "      <th>SibSp</th>\n",
       "      <th>Parch</th>\n",
       "      <th>Ticket</th>\n",
       "      <th>Fare</th>\n",
       "      <th>Cabin</th>\n",
       "      <th>Embarked</th>\n",
       "    </tr>\n",
       "    <tr>\n",
       "      <th>PassengerId</th>\n",
       "      <th></th>\n",
       "      <th></th>\n",
       "      <th></th>\n",
       "      <th></th>\n",
       "      <th></th>\n",
       "      <th></th>\n",
       "      <th></th>\n",
       "      <th></th>\n",
       "      <th></th>\n",
       "      <th></th>\n",
       "      <th></th>\n",
       "    </tr>\n",
       "  </thead>\n",
       "  <tbody>\n",
       "    <tr>\n",
       "      <th>1</th>\n",
       "      <td>0</td>\n",
       "      <td>3</td>\n",
       "      <td>Braund, Mr. Owen Harris</td>\n",
       "      <td>male</td>\n",
       "      <td>22.0</td>\n",
       "      <td>1</td>\n",
       "      <td>0</td>\n",
       "      <td>A/5 21171</td>\n",
       "      <td>7.2500</td>\n",
       "      <td>NaN</td>\n",
       "      <td>S</td>\n",
       "    </tr>\n",
       "    <tr>\n",
       "      <th>5</th>\n",
       "      <td>0</td>\n",
       "      <td>3</td>\n",
       "      <td>Allen, Mr. William Henry</td>\n",
       "      <td>male</td>\n",
       "      <td>35.0</td>\n",
       "      <td>0</td>\n",
       "      <td>0</td>\n",
       "      <td>373450</td>\n",
       "      <td>8.0500</td>\n",
       "      <td>NaN</td>\n",
       "      <td>S</td>\n",
       "    </tr>\n",
       "    <tr>\n",
       "      <th>6</th>\n",
       "      <td>0</td>\n",
       "      <td>3</td>\n",
       "      <td>Moran, Mr. James</td>\n",
       "      <td>male</td>\n",
       "      <td>NaN</td>\n",
       "      <td>0</td>\n",
       "      <td>0</td>\n",
       "      <td>330877</td>\n",
       "      <td>8.4583</td>\n",
       "      <td>NaN</td>\n",
       "      <td>Q</td>\n",
       "    </tr>\n",
       "    <tr>\n",
       "      <th>7</th>\n",
       "      <td>0</td>\n",
       "      <td>1</td>\n",
       "      <td>McCarthy, Mr. Timothy J</td>\n",
       "      <td>male</td>\n",
       "      <td>54.0</td>\n",
       "      <td>0</td>\n",
       "      <td>0</td>\n",
       "      <td>17463</td>\n",
       "      <td>51.8625</td>\n",
       "      <td>E46</td>\n",
       "      <td>S</td>\n",
       "    </tr>\n",
       "    <tr>\n",
       "      <th>8</th>\n",
       "      <td>0</td>\n",
       "      <td>3</td>\n",
       "      <td>Palsson, Master. Gosta Leonard</td>\n",
       "      <td>male</td>\n",
       "      <td>2.0</td>\n",
       "      <td>3</td>\n",
       "      <td>1</td>\n",
       "      <td>349909</td>\n",
       "      <td>21.0750</td>\n",
       "      <td>NaN</td>\n",
       "      <td>S</td>\n",
       "    </tr>\n",
       "    <tr>\n",
       "      <th>...</th>\n",
       "      <td>...</td>\n",
       "      <td>...</td>\n",
       "      <td>...</td>\n",
       "      <td>...</td>\n",
       "      <td>...</td>\n",
       "      <td>...</td>\n",
       "      <td>...</td>\n",
       "      <td>...</td>\n",
       "      <td>...</td>\n",
       "      <td>...</td>\n",
       "      <td>...</td>\n",
       "    </tr>\n",
       "    <tr>\n",
       "      <th>884</th>\n",
       "      <td>0</td>\n",
       "      <td>2</td>\n",
       "      <td>Banfield, Mr. Frederick James</td>\n",
       "      <td>male</td>\n",
       "      <td>28.0</td>\n",
       "      <td>0</td>\n",
       "      <td>0</td>\n",
       "      <td>C.A./SOTON 34068</td>\n",
       "      <td>10.5000</td>\n",
       "      <td>NaN</td>\n",
       "      <td>S</td>\n",
       "    </tr>\n",
       "    <tr>\n",
       "      <th>885</th>\n",
       "      <td>0</td>\n",
       "      <td>3</td>\n",
       "      <td>Sutehall, Mr. Henry Jr</td>\n",
       "      <td>male</td>\n",
       "      <td>25.0</td>\n",
       "      <td>0</td>\n",
       "      <td>0</td>\n",
       "      <td>SOTON/OQ 392076</td>\n",
       "      <td>7.0500</td>\n",
       "      <td>NaN</td>\n",
       "      <td>S</td>\n",
       "    </tr>\n",
       "    <tr>\n",
       "      <th>887</th>\n",
       "      <td>0</td>\n",
       "      <td>2</td>\n",
       "      <td>Montvila, Rev. Juozas</td>\n",
       "      <td>male</td>\n",
       "      <td>27.0</td>\n",
       "      <td>0</td>\n",
       "      <td>0</td>\n",
       "      <td>211536</td>\n",
       "      <td>13.0000</td>\n",
       "      <td>NaN</td>\n",
       "      <td>S</td>\n",
       "    </tr>\n",
       "    <tr>\n",
       "      <th>890</th>\n",
       "      <td>1</td>\n",
       "      <td>1</td>\n",
       "      <td>Behr, Mr. Karl Howell</td>\n",
       "      <td>male</td>\n",
       "      <td>26.0</td>\n",
       "      <td>0</td>\n",
       "      <td>0</td>\n",
       "      <td>111369</td>\n",
       "      <td>30.0000</td>\n",
       "      <td>C148</td>\n",
       "      <td>C</td>\n",
       "    </tr>\n",
       "    <tr>\n",
       "      <th>891</th>\n",
       "      <td>0</td>\n",
       "      <td>3</td>\n",
       "      <td>Dooley, Mr. Patrick</td>\n",
       "      <td>male</td>\n",
       "      <td>32.0</td>\n",
       "      <td>0</td>\n",
       "      <td>0</td>\n",
       "      <td>370376</td>\n",
       "      <td>7.7500</td>\n",
       "      <td>NaN</td>\n",
       "      <td>Q</td>\n",
       "    </tr>\n",
       "  </tbody>\n",
       "</table>\n",
       "<p>577 rows × 11 columns</p>\n",
       "</div>"
      ],
      "text/plain": [
       "             Survived  Pclass                            Name   Sex   Age  \\\n",
       "PassengerId                                                                 \n",
       "1                   0       3         Braund, Mr. Owen Harris  male  22.0   \n",
       "5                   0       3        Allen, Mr. William Henry  male  35.0   \n",
       "6                   0       3                Moran, Mr. James  male   NaN   \n",
       "7                   0       1         McCarthy, Mr. Timothy J  male  54.0   \n",
       "8                   0       3  Palsson, Master. Gosta Leonard  male   2.0   \n",
       "...               ...     ...                             ...   ...   ...   \n",
       "884                 0       2   Banfield, Mr. Frederick James  male  28.0   \n",
       "885                 0       3          Sutehall, Mr. Henry Jr  male  25.0   \n",
       "887                 0       2           Montvila, Rev. Juozas  male  27.0   \n",
       "890                 1       1           Behr, Mr. Karl Howell  male  26.0   \n",
       "891                 0       3             Dooley, Mr. Patrick  male  32.0   \n",
       "\n",
       "             SibSp  Parch            Ticket     Fare Cabin Embarked  \n",
       "PassengerId                                                          \n",
       "1                1      0         A/5 21171   7.2500   NaN        S  \n",
       "5                0      0            373450   8.0500   NaN        S  \n",
       "6                0      0            330877   8.4583   NaN        Q  \n",
       "7                0      0             17463  51.8625   E46        S  \n",
       "8                3      1            349909  21.0750   NaN        S  \n",
       "...            ...    ...               ...      ...   ...      ...  \n",
       "884              0      0  C.A./SOTON 34068  10.5000   NaN        S  \n",
       "885              0      0   SOTON/OQ 392076   7.0500   NaN        S  \n",
       "887              0      0            211536  13.0000   NaN        S  \n",
       "890              0      0            111369  30.0000  C148        C  \n",
       "891              0      0            370376   7.7500   NaN        Q  \n",
       "\n",
       "[577 rows x 11 columns]"
      ]
     },
     "execution_count": 181,
     "metadata": {},
     "output_type": "execute_result"
    }
   ],
   "source": [
    "males = df[df['Sex'] == 'male']\n",
    "males"
   ]
  },
  {
   "cell_type": "code",
   "execution_count": 182,
   "metadata": {},
   "outputs": [
    {
     "data": {
      "text/html": [
       "<div>\n",
       "<style scoped>\n",
       "    .dataframe tbody tr th:only-of-type {\n",
       "        vertical-align: middle;\n",
       "    }\n",
       "\n",
       "    .dataframe tbody tr th {\n",
       "        vertical-align: top;\n",
       "    }\n",
       "\n",
       "    .dataframe thead th {\n",
       "        text-align: right;\n",
       "    }\n",
       "</style>\n",
       "<table border=\"1\" class=\"dataframe\">\n",
       "  <thead>\n",
       "    <tr style=\"text-align: right;\">\n",
       "      <th></th>\n",
       "      <th>Survived</th>\n",
       "      <th>Pclass</th>\n",
       "      <th>Age</th>\n",
       "      <th>SibSp</th>\n",
       "      <th>Parch</th>\n",
       "      <th>Fare</th>\n",
       "    </tr>\n",
       "  </thead>\n",
       "  <tbody>\n",
       "    <tr>\n",
       "      <th>count</th>\n",
       "      <td>577.000000</td>\n",
       "      <td>577.000000</td>\n",
       "      <td>453.000000</td>\n",
       "      <td>577.000000</td>\n",
       "      <td>577.000000</td>\n",
       "      <td>577.000000</td>\n",
       "    </tr>\n",
       "    <tr>\n",
       "      <th>mean</th>\n",
       "      <td>0.188908</td>\n",
       "      <td>2.389948</td>\n",
       "      <td>30.726645</td>\n",
       "      <td>0.429809</td>\n",
       "      <td>0.235702</td>\n",
       "      <td>25.523893</td>\n",
       "    </tr>\n",
       "    <tr>\n",
       "      <th>std</th>\n",
       "      <td>0.391775</td>\n",
       "      <td>0.813580</td>\n",
       "      <td>14.678201</td>\n",
       "      <td>1.061811</td>\n",
       "      <td>0.612294</td>\n",
       "      <td>43.138263</td>\n",
       "    </tr>\n",
       "    <tr>\n",
       "      <th>min</th>\n",
       "      <td>0.000000</td>\n",
       "      <td>1.000000</td>\n",
       "      <td>0.420000</td>\n",
       "      <td>0.000000</td>\n",
       "      <td>0.000000</td>\n",
       "      <td>0.000000</td>\n",
       "    </tr>\n",
       "    <tr>\n",
       "      <th>25%</th>\n",
       "      <td>0.000000</td>\n",
       "      <td>2.000000</td>\n",
       "      <td>21.000000</td>\n",
       "      <td>0.000000</td>\n",
       "      <td>0.000000</td>\n",
       "      <td>7.895800</td>\n",
       "    </tr>\n",
       "    <tr>\n",
       "      <th>50%</th>\n",
       "      <td>0.000000</td>\n",
       "      <td>3.000000</td>\n",
       "      <td>29.000000</td>\n",
       "      <td>0.000000</td>\n",
       "      <td>0.000000</td>\n",
       "      <td>10.500000</td>\n",
       "    </tr>\n",
       "    <tr>\n",
       "      <th>75%</th>\n",
       "      <td>0.000000</td>\n",
       "      <td>3.000000</td>\n",
       "      <td>39.000000</td>\n",
       "      <td>0.000000</td>\n",
       "      <td>0.000000</td>\n",
       "      <td>26.550000</td>\n",
       "    </tr>\n",
       "    <tr>\n",
       "      <th>max</th>\n",
       "      <td>1.000000</td>\n",
       "      <td>3.000000</td>\n",
       "      <td>80.000000</td>\n",
       "      <td>8.000000</td>\n",
       "      <td>5.000000</td>\n",
       "      <td>512.329200</td>\n",
       "    </tr>\n",
       "  </tbody>\n",
       "</table>\n",
       "</div>"
      ],
      "text/plain": [
       "         Survived      Pclass         Age       SibSp       Parch        Fare\n",
       "count  577.000000  577.000000  453.000000  577.000000  577.000000  577.000000\n",
       "mean     0.188908    2.389948   30.726645    0.429809    0.235702   25.523893\n",
       "std      0.391775    0.813580   14.678201    1.061811    0.612294   43.138263\n",
       "min      0.000000    1.000000    0.420000    0.000000    0.000000    0.000000\n",
       "25%      0.000000    2.000000   21.000000    0.000000    0.000000    7.895800\n",
       "50%      0.000000    3.000000   29.000000    0.000000    0.000000   10.500000\n",
       "75%      0.000000    3.000000   39.000000    0.000000    0.000000   26.550000\n",
       "max      1.000000    3.000000   80.000000    8.000000    5.000000  512.329200"
      ]
     },
     "execution_count": 182,
     "metadata": {},
     "output_type": "execute_result"
    }
   ],
   "source": [
    "males.describe()"
   ]
  },
  {
   "cell_type": "code",
   "execution_count": 183,
   "metadata": {
    "slideshow": {
     "slide_type": "slide"
    }
   },
   "outputs": [
    {
     "data": {
      "text/html": [
       "<div>\n",
       "<style scoped>\n",
       "    .dataframe tbody tr th:only-of-type {\n",
       "        vertical-align: middle;\n",
       "    }\n",
       "\n",
       "    .dataframe tbody tr th {\n",
       "        vertical-align: top;\n",
       "    }\n",
       "\n",
       "    .dataframe thead th {\n",
       "        text-align: right;\n",
       "    }\n",
       "</style>\n",
       "<table border=\"1\" class=\"dataframe\">\n",
       "  <thead>\n",
       "    <tr style=\"text-align: right;\">\n",
       "      <th></th>\n",
       "      <th>Survived</th>\n",
       "      <th>Pclass</th>\n",
       "      <th>Age</th>\n",
       "      <th>SibSp</th>\n",
       "      <th>Parch</th>\n",
       "      <th>Fare</th>\n",
       "    </tr>\n",
       "  </thead>\n",
       "  <tbody>\n",
       "    <tr>\n",
       "      <th>count</th>\n",
       "      <td>314.000000</td>\n",
       "      <td>314.000000</td>\n",
       "      <td>261.000000</td>\n",
       "      <td>314.000000</td>\n",
       "      <td>314.000000</td>\n",
       "      <td>314.000000</td>\n",
       "    </tr>\n",
       "    <tr>\n",
       "      <th>mean</th>\n",
       "      <td>0.742038</td>\n",
       "      <td>2.159236</td>\n",
       "      <td>27.915709</td>\n",
       "      <td>0.694268</td>\n",
       "      <td>0.649682</td>\n",
       "      <td>44.479818</td>\n",
       "    </tr>\n",
       "    <tr>\n",
       "      <th>std</th>\n",
       "      <td>0.438211</td>\n",
       "      <td>0.857290</td>\n",
       "      <td>14.110146</td>\n",
       "      <td>1.156520</td>\n",
       "      <td>1.022846</td>\n",
       "      <td>57.997698</td>\n",
       "    </tr>\n",
       "    <tr>\n",
       "      <th>min</th>\n",
       "      <td>0.000000</td>\n",
       "      <td>1.000000</td>\n",
       "      <td>0.750000</td>\n",
       "      <td>0.000000</td>\n",
       "      <td>0.000000</td>\n",
       "      <td>6.750000</td>\n",
       "    </tr>\n",
       "    <tr>\n",
       "      <th>25%</th>\n",
       "      <td>0.000000</td>\n",
       "      <td>1.000000</td>\n",
       "      <td>18.000000</td>\n",
       "      <td>0.000000</td>\n",
       "      <td>0.000000</td>\n",
       "      <td>12.071875</td>\n",
       "    </tr>\n",
       "    <tr>\n",
       "      <th>50%</th>\n",
       "      <td>1.000000</td>\n",
       "      <td>2.000000</td>\n",
       "      <td>27.000000</td>\n",
       "      <td>0.000000</td>\n",
       "      <td>0.000000</td>\n",
       "      <td>23.000000</td>\n",
       "    </tr>\n",
       "    <tr>\n",
       "      <th>75%</th>\n",
       "      <td>1.000000</td>\n",
       "      <td>3.000000</td>\n",
       "      <td>37.000000</td>\n",
       "      <td>1.000000</td>\n",
       "      <td>1.000000</td>\n",
       "      <td>55.000000</td>\n",
       "    </tr>\n",
       "    <tr>\n",
       "      <th>max</th>\n",
       "      <td>1.000000</td>\n",
       "      <td>3.000000</td>\n",
       "      <td>63.000000</td>\n",
       "      <td>8.000000</td>\n",
       "      <td>6.000000</td>\n",
       "      <td>512.329200</td>\n",
       "    </tr>\n",
       "  </tbody>\n",
       "</table>\n",
       "</div>"
      ],
      "text/plain": [
       "         Survived      Pclass         Age       SibSp       Parch        Fare\n",
       "count  314.000000  314.000000  261.000000  314.000000  314.000000  314.000000\n",
       "mean     0.742038    2.159236   27.915709    0.694268    0.649682   44.479818\n",
       "std      0.438211    0.857290   14.110146    1.156520    1.022846   57.997698\n",
       "min      0.000000    1.000000    0.750000    0.000000    0.000000    6.750000\n",
       "25%      0.000000    1.000000   18.000000    0.000000    0.000000   12.071875\n",
       "50%      1.000000    2.000000   27.000000    0.000000    0.000000   23.000000\n",
       "75%      1.000000    3.000000   37.000000    1.000000    1.000000   55.000000\n",
       "max      1.000000    3.000000   63.000000    8.000000    6.000000  512.329200"
      ]
     },
     "execution_count": 183,
     "metadata": {},
     "output_type": "execute_result"
    }
   ],
   "source": [
    "females = df[df['Sex'] == 'female']\n",
    "females.describe()"
   ]
  },
  {
   "cell_type": "markdown",
   "metadata": {
    "slideshow": {
     "slide_type": "-"
    }
   },
   "source": [
    "That's certainly a larger survival rate for women.  Can we compute a correlation?"
   ]
  },
  {
   "cell_type": "markdown",
   "metadata": {
    "slideshow": {
     "slide_type": "slide"
    }
   },
   "source": [
    "We can, as long as we create a new column for our table with numeric values instead of strings.  We can create a boolean column of True and False for df['Sex'] == 'female', then add this column to our dataframe by assigning it to a new column name.  The boolean values will be interpreted as 0 and 1 for the correlation."
   ]
  },
  {
   "cell_type": "code",
   "execution_count": 185,
   "metadata": {
    "slideshow": {
     "slide_type": "-"
    }
   },
   "outputs": [],
   "source": [
    "df['sex_numeric'] = df['Sex'] == 'female'"
   ]
  },
  {
   "cell_type": "code",
   "execution_count": 186,
   "metadata": {
    "scrolled": true,
    "slideshow": {
     "slide_type": "-"
    }
   },
   "outputs": [
    {
     "data": {
      "text/html": [
       "<div>\n",
       "<style scoped>\n",
       "    .dataframe tbody tr th:only-of-type {\n",
       "        vertical-align: middle;\n",
       "    }\n",
       "\n",
       "    .dataframe tbody tr th {\n",
       "        vertical-align: top;\n",
       "    }\n",
       "\n",
       "    .dataframe thead th {\n",
       "        text-align: right;\n",
       "    }\n",
       "</style>\n",
       "<table border=\"1\" class=\"dataframe\">\n",
       "  <thead>\n",
       "    <tr style=\"text-align: right;\">\n",
       "      <th></th>\n",
       "      <th>Survived</th>\n",
       "      <th>Pclass</th>\n",
       "      <th>Age</th>\n",
       "      <th>SibSp</th>\n",
       "      <th>Parch</th>\n",
       "      <th>Fare</th>\n",
       "      <th>sex_numeric</th>\n",
       "    </tr>\n",
       "  </thead>\n",
       "  <tbody>\n",
       "    <tr>\n",
       "      <th>Survived</th>\n",
       "      <td>1.000000</td>\n",
       "      <td>-0.338481</td>\n",
       "      <td>-0.077221</td>\n",
       "      <td>-0.035322</td>\n",
       "      <td>0.081629</td>\n",
       "      <td>0.257307</td>\n",
       "      <td>0.543351</td>\n",
       "    </tr>\n",
       "    <tr>\n",
       "      <th>Pclass</th>\n",
       "      <td>-0.338481</td>\n",
       "      <td>1.000000</td>\n",
       "      <td>-0.369226</td>\n",
       "      <td>0.083081</td>\n",
       "      <td>0.018443</td>\n",
       "      <td>-0.549500</td>\n",
       "      <td>-0.131900</td>\n",
       "    </tr>\n",
       "    <tr>\n",
       "      <th>Age</th>\n",
       "      <td>-0.077221</td>\n",
       "      <td>-0.369226</td>\n",
       "      <td>1.000000</td>\n",
       "      <td>-0.308247</td>\n",
       "      <td>-0.189119</td>\n",
       "      <td>0.096067</td>\n",
       "      <td>-0.093254</td>\n",
       "    </tr>\n",
       "    <tr>\n",
       "      <th>SibSp</th>\n",
       "      <td>-0.035322</td>\n",
       "      <td>0.083081</td>\n",
       "      <td>-0.308247</td>\n",
       "      <td>1.000000</td>\n",
       "      <td>0.414838</td>\n",
       "      <td>0.159651</td>\n",
       "      <td>0.114631</td>\n",
       "    </tr>\n",
       "    <tr>\n",
       "      <th>Parch</th>\n",
       "      <td>0.081629</td>\n",
       "      <td>0.018443</td>\n",
       "      <td>-0.189119</td>\n",
       "      <td>0.414838</td>\n",
       "      <td>1.000000</td>\n",
       "      <td>0.216225</td>\n",
       "      <td>0.245489</td>\n",
       "    </tr>\n",
       "    <tr>\n",
       "      <th>Fare</th>\n",
       "      <td>0.257307</td>\n",
       "      <td>-0.549500</td>\n",
       "      <td>0.096067</td>\n",
       "      <td>0.159651</td>\n",
       "      <td>0.216225</td>\n",
       "      <td>1.000000</td>\n",
       "      <td>0.182333</td>\n",
       "    </tr>\n",
       "    <tr>\n",
       "      <th>sex_numeric</th>\n",
       "      <td>0.543351</td>\n",
       "      <td>-0.131900</td>\n",
       "      <td>-0.093254</td>\n",
       "      <td>0.114631</td>\n",
       "      <td>0.245489</td>\n",
       "      <td>0.182333</td>\n",
       "      <td>1.000000</td>\n",
       "    </tr>\n",
       "  </tbody>\n",
       "</table>\n",
       "</div>"
      ],
      "text/plain": [
       "             Survived    Pclass       Age     SibSp     Parch      Fare  \\\n",
       "Survived     1.000000 -0.338481 -0.077221 -0.035322  0.081629  0.257307   \n",
       "Pclass      -0.338481  1.000000 -0.369226  0.083081  0.018443 -0.549500   \n",
       "Age         -0.077221 -0.369226  1.000000 -0.308247 -0.189119  0.096067   \n",
       "SibSp       -0.035322  0.083081 -0.308247  1.000000  0.414838  0.159651   \n",
       "Parch        0.081629  0.018443 -0.189119  0.414838  1.000000  0.216225   \n",
       "Fare         0.257307 -0.549500  0.096067  0.159651  0.216225  1.000000   \n",
       "sex_numeric  0.543351 -0.131900 -0.093254  0.114631  0.245489  0.182333   \n",
       "\n",
       "             sex_numeric  \n",
       "Survived        0.543351  \n",
       "Pclass         -0.131900  \n",
       "Age            -0.093254  \n",
       "SibSp           0.114631  \n",
       "Parch           0.245489  \n",
       "Fare            0.182333  \n",
       "sex_numeric     1.000000  "
      ]
     },
     "execution_count": 186,
     "metadata": {},
     "output_type": "execute_result"
    }
   ],
   "source": [
    "df.corr()"
   ]
  },
  {
   "cell_type": "markdown",
   "metadata": {
    "slideshow": {
     "slide_type": "-"
    }
   },
   "source": [
    "That's a pretty strong correlation, the strongest in the table."
   ]
  },
  {
   "cell_type": "markdown",
   "metadata": {
    "slideshow": {
     "slide_type": "slide"
    }
   },
   "source": [
    "Circling back to the class of cabin, we could visualize the three survival rates using the built-in histogram method."
   ]
  },
  {
   "cell_type": "code",
   "execution_count": 187,
   "metadata": {
    "slideshow": {
     "slide_type": "slide"
    }
   },
   "outputs": [
    {
     "data": {
      "text/plain": [
       "<AxesSubplot:>"
      ]
     },
     "execution_count": 187,
     "metadata": {},
     "output_type": "execute_result"
    },
    {
     "data": {
      "image/png": "[encoded data removed]",
      "text/plain": [
       "<Figure size 432x288 with 1 Axes>"
      ]
     },
     "metadata": {
      "needs_background": "light"
     },
     "output_type": "display_data"
    }
   ],
   "source": [
    "third_class = df[df['Pclass'] == 3]\n",
    "second_class = df[df['Pclass'] == 2]\n",
    "first_class = df[df['Pclass'] == 1]\n",
    "third_class['Survived'].hist()"
   ]
  },
  {
   "cell_type": "code",
   "execution_count": 188,
   "metadata": {
    "slideshow": {
     "slide_type": "-"
    }
   },
   "outputs": [
    {
     "data": {
      "text/plain": [
       "<AxesSubplot:>"
      ]
     },
     "execution_count": 188,
     "metadata": {},
     "output_type": "execute_result"
    },
    {
     "data": {
      "image/png": "[encoded data removed]",
      "text/plain": [
       "<Figure size 432x288 with 1 Axes>"
      ]
     },
     "metadata": {
      "needs_background": "light"
     },
     "output_type": "display_data"
    }
   ],
   "source": [
    "second_class['Survived'].hist()"
   ]
  },
  {
   "cell_type": "code",
   "execution_count": 189,
   "metadata": {
    "slideshow": {
     "slide_type": "-"
    }
   },
   "outputs": [
    {
     "data": {
      "text/plain": [
       "<AxesSubplot:>"
      ]
     },
     "execution_count": 189,
     "metadata": {},
     "output_type": "execute_result"
    },
    {
     "data": {
      "image/png": "[encoded data removed]",
      "text/plain": [
       "<Figure size 432x288 with 1 Axes>"
      ]
     },
     "metadata": {
      "needs_background": "light"
     },
     "output_type": "display_data"
    }
   ],
   "source": [
    "first_class['Survived'].hist()"
   ]
  },
  {
   "cell_type": "markdown",
   "metadata": {
    "id": "eqUBDt_a0Xqp",
    "slideshow": {
     "slide_type": "slide"
    }
   },
   "source": [
    "# More to come\n",
    "\n",
    "We'll return to all this later - DataFrames have quite a lot that they can do."
   ]
  }
 ],
 "metadata": {
  "celltoolbar": "Slideshow",
  "colab": {
   "collapsed_sections": [],
   "name": "Lecture10Pandas.ipynb",
   "provenance": []
  },
  "kernelspec": {
   "display_name": "Python 3",
   "language": "python",
   "name": "python3"
  },
  "language_info": {
   "codemirror_mode": {
    "name": "ipython",
    "version": 3
   },
   "file_extension": ".py",
   "mimetype": "text/x-python",
   "name": "python",
   "nbconvert_exporter": "python",
   "pygments_lexer": "ipython3",
   "version": "3.8.8"
  },
  "rise": {
   "scroll": true
  }
 },
 "nbformat": 4,
 "nbformat_minor": 1
}
