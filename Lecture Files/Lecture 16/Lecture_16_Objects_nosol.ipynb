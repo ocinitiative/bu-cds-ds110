{
 "cells": [
  {
   "cell_type": "markdown",
   "metadata": {
    "slideshow": {
     "slide_type": "slide"
    }
   },
   "source": [
    "# Objects"
   ]
  },
  {
   "cell_type": "markdown",
   "metadata": {
    "id": "6YlsZ1Y4USgD",
    "slideshow": {
     "slide_type": "slide"
    }
   },
   "source": [
    "# Creating objects with fields and methods"
   ]
  },
  {
   "cell_type": "markdown",
   "metadata": {
    "id": "kXLh0FdPUYWz",
    "slideshow": {
     "slide_type": "-"
    }
   },
   "source": [
    "Objects bundle data and related functions together to make useful things.  If functions are reusable verbs, then objects are reusable nouns.\n",
    "\n",
    "We've now spent some time using existing objects, such as the Pandas DataFrame.  Now we'll see how to define our own.\n"
   ]
  },
  {
   "cell_type": "markdown",
   "metadata": {
    "slideshow": {
     "slide_type": "subslide"
    }
   },
   "source": [
    "Let's consider a restaurant bill as a candidate for becoming an object, since it has several pieces of information associated with it and some different things you can do with it.  A Bill contains a few pieces of information:  a list of items purchased and their prices, a total cost before and after tax, a tip, and whether it was paid.  We have a choice about how to represent some information, like the total price before and after tax, because it might either be stored or computed on the fly.\n"
   ]
  },
  {
   "cell_type": "markdown",
   "metadata": {
    "slideshow": {
     "slide_type": "subslide"
    }
   },
   "source": [
    "To create an object type, we need to declare a class.  This is like the template that can create multiple object instances according to the same instructions."
   ]
  },
  {
   "cell_type": "code",
   "execution_count": null,
   "metadata": {
    "id": "XeYUbBYGP3hc",
    "slideshow": {
     "slide_type": "-"
    }
   },
   "outputs": [],
   "source": [
    "class Bill:\n",
    "  \"\"\" Represents a bill at a restaurant.\n",
    "\n",
    "  items (list of tuples):  list of (item name, cost) tuples\n",
    "  \"\"\"\n",
    "  def __init__(self, items):\n",
    "    self._items = items\n",
    "\n",
    "  # Just a \"getter\" method - reasons for this explained later\n",
    "  def items(self):\n",
    "    return self._items\n",
    "\n",
    "  # \"Setter\" method\n",
    "  def set_items(self, items):\n",
    "    self._items = items\n",
    "  \n",
    "  def total_cost_pretax(self):\n",
    "    total = 0\n",
    "    for name, cost in self._items:\n",
    "      total += cost\n",
    "    return total\n",
    "\n",
    "  def total_cost_with_tax(self, tax_rate):\n",
    "    return self.total_cost_pretax() * (1 + tax_rate)\n"
   ]
  },
  {
   "cell_type": "code",
   "execution_count": null,
   "metadata": {
    "colab": {
     "base_uri": "https://localhost:8080/"
    },
    "id": "TtR-qYgXRLTJ",
    "outputId": "63cedfb3-225c-44a8-b7ed-c0725213510e",
    "slideshow": {
     "slide_type": "-"
    }
   },
   "outputs": [],
   "source": [
    "my_lunch = [(\"Ham Sandwich\", 9), (\"Coke\", 2)]\n",
    "new_bill = Bill(my_lunch) # Calls the __init__() constructor\n",
    "print(f\"Total cost: {new_bill.total_cost_with_tax(0.08):.2f}\")"
   ]
  },
  {
   "cell_type": "markdown",
   "metadata": {
    "id": "PNJjdFvsZTIQ",
    "slideshow": {
     "slide_type": "subslide"
    }
   },
   "source": [
    "```__init__()``` is a constructor, and has a special name so that the interpreter knows it's a constructor (the constructor always has exactly that name).  It's called by naming the class, then adding any necessary arguments between the parentheses.  Calling the constructor creates an object of the Class's type - an *instance*."
   ]
  },
  {
   "cell_type": "markdown",
   "metadata": {
    "slideshow": {
     "slide_type": "slide"
    }
   },
   "source": [
    "```_items``` is an instance attribute, also known as a field.  Each copy of the object that we create will have its own ```_items``` attribute, set in the constructor to hold a list of tuples.  While many instance attributes can be accessed from anywhere with the syntax name_of_object.attribute, the underscore at the beginning of this name says we're supposed to leave it alone outside the class."
   ]
  },
  {
   "cell_type": "markdown",
   "metadata": {
    "slideshow": {
     "slide_type": "subslide"
    }
   },
   "source": [
    "Each method takes \"self\" as its first argument, but we don't actually pass in anything for this when we call the method.  That is just a way to refer to the object itself in the method.  Leaving \"self\" out is legal but makes the function \"static\" (see later)."
   ]
  },
  {
   "cell_type": "markdown",
   "metadata": {
    "slideshow": {
     "slide_type": "subslide"
    }
   },
   "source": [
    "It's a little unusual compared to other languages like Java, but we don't need to explicitly name what fields of the object exist.  We can later assign to a new variable name that we haven't mentioned before, and the object will just behave as if that field always existed.  (Even if the new name was a typo, sadly.)"
   ]
  },
  {
   "cell_type": "code",
   "execution_count": null,
   "metadata": {
    "colab": {
     "base_uri": "https://localhost:8080/"
    },
    "id": "_x_6HFdsa676",
    "outputId": "470bf170-ee5e-46ca-ca00-c9bd960b47d0",
    "slideshow": {
     "slide_type": "-"
    }
   },
   "outputs": [],
   "source": [
    "new_bill.foo = 5\n",
    "print(new_bill.foo)"
   ]
  },
  {
   "cell_type": "markdown",
   "metadata": {
    "id": "KmA1hG_dcXgL",
    "slideshow": {
     "slide_type": "slide"
    }
   },
   "source": [
    "In the body of the constructor, we assign the arguments of the function to the fields of the object, which are always preceded by \"self.\" in the method code.  Outside the class code, we can refer to fields using the syntax objectname.fieldname, as demonstrated above.  So we could just not use the methods we created for accessing the data, and get it directly."
   ]
  },
  {
   "cell_type": "markdown",
   "metadata": {
    "id": "zQzPqEQYc4Vm",
    "slideshow": {
     "slide_type": "subslide"
    }
   },
   "source": [
    "However, it's generally considered a better practice to work with the \"setter\" and \"getter\" methods for an object, the methods designed to replace accessing fields directly.  One reason for this practice is to allow easy changes to the underlying representation of the object, without needing to change code that interacts with it.  If we shouldn't touch an attribute outside the class code, it should start its name with an underscore.\n"
   ]
  },
  {
   "cell_type": "markdown",
   "metadata": {
    "slideshow": {
     "slide_type": "slide"
    }
   },
   "source": [
    "Here's an example of why code tends to interact with attributes/fields through methods instead of directly.  We'll see two ways of representing a fit to data in a moment.\n",
    "\n",
    "The first just needs to be told what the fit is and remembers it.\n",
    "\n",
    "The second actually computes the fit from the points (don't worry about that code) but doesn't do so until its fit() method is called.  Trying to access fields in the second version before fit() is called would result in a crash with Python claiming the fields don't exist."
   ]
  },
  {
   "cell_type": "code",
   "execution_count": null,
   "metadata": {
    "id": "QxH7lTgtUQFK",
    "slideshow": {
     "slide_type": "subslide"
    }
   },
   "outputs": [],
   "source": [
    "class LinearFit:\n",
    "  def __init__(self, x, y, m, b):\n",
    "    self.x = x # list of x-coordinates\n",
    "    self.y = y # list of y-coordinates\n",
    "    self.m = m\n",
    "    self.b = b\n",
    "\n",
    "  def points(self):\n",
    "    return self.x, self.y\n",
    "\n",
    "  def fit(self):\n",
    "    return self.m, self.b"
   ]
  },
  {
   "cell_type": "code",
   "execution_count": null,
   "metadata": {
    "colab": {
     "base_uri": "https://localhost:8080/"
    },
    "id": "vm85rHjrYtOU",
    "outputId": "1abab7d5-9227-4bc5-826e-7b2bd8b186b9",
    "slideshow": {
     "slide_type": "-"
    }
   },
   "outputs": [],
   "source": [
    "linearfit = LinearFit([1,2,3],[1,2,3],1,0)\n",
    "print(linearfit.points())"
   ]
  },
  {
   "cell_type": "code",
   "execution_count": null,
   "metadata": {
    "id": "QG3-X-SwdkYe",
    "slideshow": {
     "slide_type": "subslide"
    }
   },
   "outputs": [],
   "source": [
    "import numpy as np\n",
    "\n",
    "class LinearFit2:\n",
    "  def __init__(self, x, y):\n",
    "    self.x = x\n",
    "    self.y = y\n",
    "    self.computed_fit = False\n",
    "\n",
    "  def points(self):\n",
    "    return self.x, self.y\n",
    "\n",
    "  def fit(self):\n",
    "    if (self.computed_fit):\n",
    "      return self._m, self._b\n",
    "    # Compute the fit\n",
    "    A = np.transpose(np.concatenate (([self.x], np.ones((1,len(self.x))))))\n",
    "    fit = np.linalg.lstsq(A,self.y,rcond=None)\n",
    "    self._m = fit[0][0]\n",
    "    self._b = fit[0][1]\n",
    "    self.computed_fit = True\n",
    "    return self._m, self._b"
   ]
  },
  {
   "cell_type": "code",
   "execution_count": null,
   "metadata": {
    "colab": {
     "base_uri": "https://localhost:8080/"
    },
    "id": "KDna6aFQc3Jr",
    "outputId": "9dc466b3-bd75-4713-de77-9bb4c1cbfde8",
    "slideshow": {
     "slide_type": "-"
    }
   },
   "outputs": [],
   "source": [
    "linearfit = LinearFit2([1,2,3],[1,2,3])\n",
    "print(linearfit.fit())"
   ]
  },
  {
   "cell_type": "markdown",
   "metadata": {
    "id": "zRWmI9iGqbFh",
    "slideshow": {
     "slide_type": "subslide"
    }
   },
   "source": [
    "In the second version, the code is \"lazy\" and doesn't compute the fit until it is needed.  If we were to try to examine the fields without calling fit(), we'd get an error.  \n"
   ]
  },
  {
   "cell_type": "markdown",
   "metadata": {
    "slideshow": {
     "slide_type": "subslide"
    }
   },
   "source": [
    "As a second example, a circle's size is defined by one parameter.  But should that parameter be the radius, the diameter, the area, or the circumference?  Code that interacts with the methods to get and set values need not worry about what happens when the underlying representation changes."
   ]
  },
  {
   "cell_type": "code",
   "execution_count": null,
   "metadata": {
    "colab": {
     "base_uri": "https://localhost:8080/"
    },
    "id": "g-jC2fjeo_x9",
    "outputId": "4809904a-d851-413b-d5de-a65a41597b96",
    "slideshow": {
     "slide_type": "subslide"
    }
   },
   "outputs": [],
   "source": [
    "import math\n",
    "\n",
    "class Circle:\n",
    "  def __init__(self, radius):\n",
    "    self._radius = radius\n",
    "  \n",
    "  def radius(self):\n",
    "    return self._radius\n",
    "\n",
    "  def area(self):\n",
    "    return math.pi * self._radius ** 2\n",
    "  \n",
    "  def diameter(self):\n",
    "    return 2 * self._radius\n",
    "  \n",
    "  def circumference(self):\n",
    "    return 2 * math.pi * self._radius\n",
    "\n",
    "my_circle = Circle(2)\n",
    "print(my_circle.area())"
   ]
  },
  {
   "cell_type": "code",
   "execution_count": null,
   "metadata": {
    "colab": {
     "base_uri": "https://localhost:8080/"
    },
    "id": "GtqFio0EqX1B",
    "outputId": "4d9bd88e-1445-412c-ea12-e3168c4e1d81",
    "slideshow": {
     "slide_type": "subslide"
    }
   },
   "outputs": [],
   "source": [
    "import math\n",
    "\n",
    "class Circle2:\n",
    "  def __init__(self, radius):\n",
    "    self._diameter = radius*2\n",
    "  \n",
    "  def radius(self):\n",
    "    return self._diameter/2\n",
    "\n",
    "  def area(self):\n",
    "    return math.pi * self.radius() ** 2\n",
    "  \n",
    "  def diameter(self):\n",
    "    return self._diameter\n",
    "  \n",
    "  def circumference(self):\n",
    "    return math.pi * self._diameter\n",
    "\n",
    "my_circle = Circle(2)\n",
    "print(my_circle.area())"
   ]
  },
  {
   "cell_type": "markdown",
   "metadata": {
    "id": "OprNylJL1vaW",
    "slideshow": {
     "slide_type": "slide"
    }
   },
   "source": [
    "# Validation in the Constructor\n",
    "\n",
    "One use of objects is in validating data - making sure it's the right type and range for its intended use.  This also demonstrates the use of *raise*, or raising your own exception."
   ]
  },
  {
   "cell_type": "code",
   "execution_count": null,
   "metadata": {
    "colab": {
     "base_uri": "https://localhost:8080/",
     "height": 337
    },
    "id": "TZ0Gl_fJ19ur",
    "outputId": "77a4f8e7-8e86-44d4-fe81-454d8da798fb",
    "slideshow": {
     "slide_type": "-"
    }
   },
   "outputs": [],
   "source": [
    "class Circle3:\n",
    "  def __init__(self, radius):\n",
    "    if radius < 0:\n",
    "      raise ValueError(\"Can't have negative circle radius\")\n",
    "    self.radius=radius\n",
    "\n",
    "Circle3(-1)"
   ]
  },
  {
   "cell_type": "markdown",
   "metadata": {
    "id": "Nl_DZsuA2onA",
    "slideshow": {
     "slide_type": "slide"
    }
   },
   "source": [
    "# Default parameter values\n",
    "\n",
    "It often makes sense to have the constructor take all the attributes of an object as arguments.  But there may be some default values that work well.\n",
    "You can set default arguments to the constructor by following each argument with =value, where value is the default value."
   ]
  },
  {
   "cell_type": "code",
   "execution_count": null,
   "metadata": {
    "colab": {
     "base_uri": "https://localhost:8080/"
    },
    "id": "3b9xOClM3Ck3",
    "outputId": "44957bce-3f40-4d49-d2d1-85822425d02f",
    "slideshow": {
     "slide_type": "-"
    }
   },
   "outputs": [],
   "source": [
    "class Circle4:\n",
    "  def __init__(self,radius=2):\n",
    "    self.radius = radius\n",
    "\n",
    "Circle4().radius"
   ]
  },
  {
   "cell_type": "markdown",
   "metadata": {
    "id": "HJxr2IvV6A71",
    "slideshow": {
     "slide_type": "slide"
    }
   },
   "source": [
    "# Choosing what is an object\n",
    "\n",
    "Suppose we're writing software for a gradebook.  There are students who have grades on assignments and tests.  It's for a particular class.  What among these might usefully be an object?\n"
   ]
  },
  {
   "cell_type": "markdown",
   "metadata": {
    "slideshow": {
     "slide_type": "subslide"
    }
   },
   "source": [
    "\n",
    "The students themselves are good candidates for being objects, because each has a wealth of data associated with them (multiple assignments and tests) and verb-like actions we could do to them (add or remove).\n",
    "\n",
    "The Gradebook itself might be an object, even though there's only one of it, because it also has a lot of data associated with it (many students) and actions we could perform on it (sort, find averages).\n"
   ]
  },
  {
   "cell_type": "markdown",
   "metadata": {
    "slideshow": {
     "slide_type": "subslide"
    }
   },
   "source": [
    "The grades themselves are probably too small and simple to need to be objects, although we could just for the validation aspect (ensuring grades when created are between 0 and 100, for example).\n",
    "\n",
    "The particular course name, such as \"Geology 101,\" probably is best as an attribute of the gradebook instead of its own class."
   ]
  },
  {
   "cell_type": "markdown",
   "metadata": {
    "slideshow": {
     "slide_type": "subslide"
    }
   },
   "source": [
    "In short, things that make good classes often have several pieces of data associated with them, along with functions that specifically pertain to that data.  But choosing what to treat as an object is often a question of elegance rather than a hard-and-fast rule."
   ]
  },
  {
   "cell_type": "markdown",
   "metadata": {
    "id": "W4Cc7bhVs8IR",
    "slideshow": {
     "slide_type": "slide"
    }
   },
   "source": [
    "# Exercise\n",
    "\n",
    "Try defining an object that represents a student.  Include at least 3 variables that describe the student, including age.  Define a constructor and a method get_older() which increases the student's age by the argument.  You don't need to define all the getters and setters."
   ]
  },
  {
   "cell_type": "code",
   "execution_count": null,
   "metadata": {
    "colab": {
     "base_uri": "https://localhost:8080/"
    },
    "id": "r6i5KbmSJ-qg",
    "outputId": "6bbb77ae-e2d6-4b76-a33b-da4067d0538a",
    "slideshow": {
     "slide_type": "slide"
    }
   },
   "outputs": [],
   "source": []
  },
  {
   "cell_type": "markdown",
   "metadata": {
    "id": "Y9kvq8fGrwaK",
    "slideshow": {
     "slide_type": "slide"
    }
   },
   "source": [
    "# Pass by reference and objects\n",
    "\n",
    "Like lists and dictionaries, objects are considered heavyweight enough that an assignment doesn't copy the underlying data - it just hands off a reference to the same data.  We can actually see this because the default way to print an object prints its address.\n",
    "(Addresses are numbers in hexadecimal, base 16, where a = 10, b = 11, etc, f = 15.)"
   ]
  },
  {
   "cell_type": "code",
   "execution_count": null,
   "metadata": {
    "colab": {
     "base_uri": "https://localhost:8080/"
    },
    "id": "bMCNsXwdsPOB",
    "outputId": "0c820aed-96f4-4f03-8900-39274e617c8b",
    "slideshow": {
     "slide_type": "-"
    }
   },
   "outputs": [],
   "source": [
    "lf = LinearFit([1],[2],3,4)\n",
    "lf2 = lf\n",
    "lf2.x = [10]\n",
    "print(lf.x)  # Will say 10 - we modified the underlying array, affecting both\n",
    "print(lf)\n",
    "print(lf2)"
   ]
  },
  {
   "cell_type": "markdown",
   "metadata": {
    "id": "TduCVkPNsuNj",
    "slideshow": {
     "slide_type": "-"
    }
   },
   "source": [
    "You can see from the print statements that these are both talking about the same object instance."
   ]
  },
  {
   "cell_type": "markdown",
   "metadata": {
    "id": "UXguPZQn-N3M",
    "slideshow": {
     "slide_type": "slide"
    }
   },
   "source": [
    "# Privacy conventions\n",
    "\n",
    "Naming an attribute with a leading underscore is a hint that it's not meant to be accessed directly outside the class.  Naming an attribute with two leading underscores says it's *really* not meant to be accessed except by the class, and Python will \"mangle\" the name of the variable by adding _ClassName to it just to help ensure it's not accessed by accident.  But in all cases, unlike in other languages (C++,Java), there's no way to absolutely prevent attributes from being accessed."
   ]
  },
  {
   "cell_type": "markdown",
   "metadata": {
    "id": "io_P7gXkt9lz",
    "slideshow": {
     "slide_type": "slide"
    }
   },
   "source": [
    "# Static methods\n",
    "\n",
    "The above methods show how you can call methods from objects, and use the objects' information.  But sometimes, you want a kind of \"mothership\" for the objects that has general functionality associated with the objects, without being one of them.  That's a class, and the \"static\" methods associated with a class don't refer to the \"self,\" because they're called without having an instance available."
   ]
  },
  {
   "cell_type": "markdown",
   "metadata": {
    "slideshow": {
     "slide_type": "subslide"
    }
   },
   "source": [
    "In short, the class can have its own fields and methods which don't require an object to be created.  The classname, instead of an object's name, is used to access these.  The fields and methods are called \"static.\"\n",
    "\n",
    "One use for this might be to track how many objects we've created.  The count of zero can't be stored in an object when there are no objects yet."
   ]
  },
  {
   "cell_type": "code",
   "execution_count": null,
   "metadata": {
    "id": "khZ2mDe8vIuQ",
    "slideshow": {
     "slide_type": "slide"
    }
   },
   "outputs": [],
   "source": [
    "class Robot:\n",
    "  robot_count = 0 # class attribute\n",
    "\n",
    "  def __init__(self):\n",
    "    self.name = \"robot\" + str(Robot.robot_count)\n",
    "    print(\"Hello, \" + self.name + \"!\")\n",
    "    Robot.update_robot_count() # static method, uses Class name\n",
    "\n",
    "  def update_robot_count(): # notice no \"self\"\n",
    "    Robot.robot_count += 1"
   ]
  },
  {
   "cell_type": "code",
   "execution_count": null,
   "metadata": {
    "colab": {
     "base_uri": "https://localhost:8080/"
    },
    "id": "SLPr4-yBvyny",
    "outputId": "99e433e3-051a-4b6f-f35a-24896b6097f4",
    "slideshow": {
     "slide_type": "-"
    }
   },
   "outputs": [],
   "source": [
    "Robot1 = Robot()\n",
    "Robot2 = Robot()\n",
    "Robot3 = Robot()"
   ]
  },
  {
   "cell_type": "code",
   "execution_count": null,
   "metadata": {
    "colab": {
     "base_uri": "https://localhost:8080/"
    },
    "id": "ety40CC6omm8",
    "outputId": "93043b0e-3c73-4882-9670-5f08ea894cd2",
    "slideshow": {
     "slide_type": "-"
    }
   },
   "outputs": [],
   "source": [
    "Robot.robot_count"
   ]
  },
  {
   "cell_type": "markdown",
   "metadata": {
    "id": "dCuihhpaf-V1",
    "slideshow": {
     "slide_type": "subslide"
    }
   },
   "source": [
    "It's very easy to accidentally make static methods, by leaving \"self\" out of the arguments."
   ]
  },
  {
   "cell_type": "markdown",
   "metadata": {
    "id": "ZRK-YvJp_SV7",
    "slideshow": {
     "slide_type": "slide"
    }
   },
   "source": [
    "# Exercise"
   ]
  },
  {
   "cell_type": "markdown",
   "metadata": {
    "id": "DkS833SG_pJ4",
    "slideshow": {
     "slide_type": "-"
    }
   },
   "source": [
    "Modify the robot code above to have a non-static method pew(), a static robots_destroyed variable, and a non-static dead variable.  On calling robot.pew(target), if the target or the shooter (self) was dead, do nothing.  If both are alive, announce that the caller of pew() is firing at its target, set the target to dead, increment robots_destroyed, and print the value of robots_destroyed."
   ]
  },
  {
   "cell_type": "code",
   "execution_count": null,
   "metadata": {
    "colab": {
     "base_uri": "https://localhost:8080/"
    },
    "id": "IDV7PPfe_RIB",
    "outputId": "c74cbb98-3ce1-4de5-cd92-d6b565a1ffe0",
    "slideshow": {
     "slide_type": "slide"
    }
   },
   "outputs": [],
   "source": [
    "class Robot:\n",
    "  robot_count = 0 # class attribute\n",
    "  # TODO robots_destroyed initialized here\n",
    "\n",
    "  def __init__(self):\n",
    "    self.name = \"robot\" + str(Robot.robot_count)\n",
    "    print(\"Hello, \" + self.name + \"!\")\n",
    "    Robot.update_robot_count() # static method, uses Class name\n",
    "\n",
    "  def update_robot_count(): # notice no \"self\"\n",
    "    Robot.robot_count += 1\n",
    "    \n",
    "  def pew(self, target):\n",
    "    # Fire at and destroy another robot.\n",
    "    # Check that both are alive TODO\n",
    "      print(f'{self.name} fires at {target.name}!')\n",
    "      # TODO make target dead\n",
    "      # TODO update Robot.robots_destroyed\n",
    "      print(f'Robots destroyed: {Robot.robots_destroyed}')"
   ]
  }
 ],
 "metadata": {
  "celltoolbar": "Slideshow",
  "colab": {
   "name": "Lecture14Objects_after.ipynb",
   "provenance": []
  },
  "kernelspec": {
   "display_name": "Python 3",
   "language": "python",
   "name": "python3"
  },
  "language_info": {
   "codemirror_mode": {
    "name": "ipython",
    "version": 3
   },
   "file_extension": ".py",
   "mimetype": "text/x-python",
   "name": "python",
   "nbconvert_exporter": "python",
   "pygments_lexer": "ipython3",
   "version": "3.8.8"
  },
  "rise": {
   "scroll": true
  }
 },
 "nbformat": 4,
 "nbformat_minor": 1
}
