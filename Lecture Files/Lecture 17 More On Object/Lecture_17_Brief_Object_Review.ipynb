{
 "cells": [
  {
   "cell_type": "markdown",
   "id": "2ff21452",
   "metadata": {
    "slideshow": {
     "slide_type": "slide"
    }
   },
   "source": [
    "# Brief review of objects\n",
    "\n",
    "Objects bundle data (attributes) with functions (methods) associated with that data.  The class provides a blueprint for creating instances of the object."
   ]
  },
  {
   "cell_type": "code",
   "execution_count": 22,
   "id": "649ae56a",
   "metadata": {
    "slideshow": {
     "slide_type": "slide"
    }
   },
   "outputs": [],
   "source": [
    "class Student:\n",
    "    def __init__(self, gradyear, grades):\n",
    "        self.gradyear = gradyear\n",
    "        self.grades = grades\n",
    "    \n",
    "    def average_grade(self):\n",
    "        return sum(self.grades)/len(self.grades)\n",
    "    \n",
    "    def years_until_grad(self, currentyear):\n",
    "        return self.gradyear-currentyear"
   ]
  },
  {
   "cell_type": "code",
   "execution_count": 6,
   "id": "a757ead4",
   "metadata": {},
   "outputs": [
    {
     "name": "stdout",
     "output_type": "stream",
     "text": [
      "2024\n",
      "[90, 100, 95]\n",
      "95.0\n",
      "2\n"
     ]
    }
   ],
   "source": [
    "alice = Student(2024, [90, 100, 95])\n",
    "print(alice.gradyear)\n",
    "print(alice.grades)\n",
    "print(alice.average_grade())\n",
    "print(alice.years_until_grad(2022))"
   ]
  },
  {
   "cell_type": "code",
   "execution_count": 7,
   "id": "614fa036",
   "metadata": {},
   "outputs": [
    {
     "name": "stdout",
     "output_type": "stream",
     "text": [
      "2023\n",
      "[65, 95, 80]\n",
      "80.0\n",
      "1\n"
     ]
    }
   ],
   "source": [
    "bob = Student(2023, [65, 95, 80])\n",
    "print(bob.gradyear)\n",
    "print(bob.grades)\n",
    "print(bob.average_grade())\n",
    "print(bob.years_until_grad(2022))"
   ]
  },
  {
   "cell_type": "markdown",
   "id": "5425d99d",
   "metadata": {
    "slideshow": {
     "slide_type": "slide"
    }
   },
   "source": [
    "It's legal to access attributes directly from outside the object (see above).  But some objects may encourage you to use \"setter\" and \"getter\" methods instead of accessing the attribute directly.  Such attributes may begin with an underscore to indicate they shouldn't be directly accessed."
   ]
  },
  {
   "cell_type": "code",
   "execution_count": 29,
   "id": "3d892817",
   "metadata": {
    "slideshow": {
     "slide_type": "slide"
    }
   },
   "outputs": [
    {
     "name": "stdout",
     "output_type": "stream",
     "text": [
      "[90, 92, 94, 100]\n"
     ]
    },
    {
     "ename": "ValueError",
     "evalue": "Bad value for a grade: 101",
     "output_type": "error",
     "traceback": [
      "\u001b[0;31m---------------------------------------------------------------------------\u001b[0m",
      "\u001b[0;31mValueError\u001b[0m                                Traceback (most recent call last)",
      "\u001b[0;32m<ipython-input-29-61f277df4b48>\u001b[0m in \u001b[0;36m<module>\u001b[0;34m\u001b[0m\n\u001b[1;32m     18\u001b[0m \u001b[0mmark\u001b[0m\u001b[0;34m.\u001b[0m\u001b[0madd_grade\u001b[0m\u001b[0;34m(\u001b[0m\u001b[0;36m100\u001b[0m\u001b[0;34m)\u001b[0m\u001b[0;34m\u001b[0m\u001b[0;34m\u001b[0m\u001b[0m\n\u001b[1;32m     19\u001b[0m \u001b[0mprint\u001b[0m\u001b[0;34m(\u001b[0m\u001b[0mmark\u001b[0m\u001b[0;34m.\u001b[0m\u001b[0mget_grades\u001b[0m\u001b[0;34m(\u001b[0m\u001b[0;34m)\u001b[0m\u001b[0;34m)\u001b[0m\u001b[0;34m\u001b[0m\u001b[0;34m\u001b[0m\u001b[0m\n\u001b[0;32m---> 20\u001b[0;31m \u001b[0mmark\u001b[0m\u001b[0;34m.\u001b[0m\u001b[0madd_grade\u001b[0m\u001b[0;34m(\u001b[0m\u001b[0;36m101\u001b[0m\u001b[0;34m)\u001b[0m\u001b[0;34m\u001b[0m\u001b[0;34m\u001b[0m\u001b[0m\n\u001b[0m",
      "\u001b[0;32m<ipython-input-29-61f277df4b48>\u001b[0m in \u001b[0;36madd_grade\u001b[0;34m(self, grade)\u001b[0m\n\u001b[1;32m      9\u001b[0m     \u001b[0;32mdef\u001b[0m \u001b[0madd_grade\u001b[0m\u001b[0;34m(\u001b[0m\u001b[0mself\u001b[0m\u001b[0;34m,\u001b[0m \u001b[0mgrade\u001b[0m\u001b[0;34m)\u001b[0m\u001b[0;34m:\u001b[0m\u001b[0;34m\u001b[0m\u001b[0;34m\u001b[0m\u001b[0m\n\u001b[1;32m     10\u001b[0m         \u001b[0;32mif\u001b[0m \u001b[0mgrade\u001b[0m \u001b[0;34m<\u001b[0m \u001b[0;36m0\u001b[0m \u001b[0;32mor\u001b[0m \u001b[0mgrade\u001b[0m \u001b[0;34m>\u001b[0m \u001b[0;36m100\u001b[0m\u001b[0;34m:\u001b[0m\u001b[0;34m\u001b[0m\u001b[0;34m\u001b[0m\u001b[0m\n\u001b[0;32m---> 11\u001b[0;31m             \u001b[0;32mraise\u001b[0m \u001b[0mValueError\u001b[0m\u001b[0;34m(\u001b[0m\u001b[0;34mf'Bad value for a grade: {grade}'\u001b[0m\u001b[0;34m)\u001b[0m\u001b[0;34m\u001b[0m\u001b[0;34m\u001b[0m\u001b[0m\n\u001b[0m\u001b[1;32m     12\u001b[0m         \u001b[0mself\u001b[0m\u001b[0;34m.\u001b[0m\u001b[0m_grades\u001b[0m\u001b[0;34m.\u001b[0m\u001b[0mappend\u001b[0m\u001b[0;34m(\u001b[0m\u001b[0mgrade\u001b[0m\u001b[0;34m)\u001b[0m\u001b[0;34m\u001b[0m\u001b[0;34m\u001b[0m\u001b[0m\n\u001b[1;32m     13\u001b[0m \u001b[0;34m\u001b[0m\u001b[0m\n",
      "\u001b[0;31mValueError\u001b[0m: Bad value for a grade: 101"
     ]
    }
   ],
   "source": [
    "# Encourage people to use add_grade, get_grades over _grades\n",
    "# to get the bounds check between [0,100]\n",
    "class Student2:\n",
    "    def __init__(self, grades):\n",
    "        self._grades = []\n",
    "        for grade in grades:\n",
    "            self.add_grade(grade)\n",
    "    \n",
    "    def add_grade(self, grade):\n",
    "        if grade < 0 or grade > 100:\n",
    "            raise ValueError(f'Bad value for a grade: {grade}')\n",
    "        self._grades.append(grade)\n",
    "    \n",
    "    def get_grades(self):\n",
    "        return self._grades\n",
    "\n",
    "mark = Student2([90, 92, 94])\n",
    "mark.add_grade(100)\n",
    "print(mark.get_grades())\n",
    "# mark._grades = 101 works but we'd be circumventing the add_grade check\n",
    "mark.add_grade(101)"
   ]
  },
  {
   "cell_type": "code",
   "execution_count": null,
   "id": "ef972ef7",
   "metadata": {},
   "outputs": [],
   "source": []
  }
 ],
 "metadata": {
  "celltoolbar": "Slideshow",
  "kernelspec": {
   "display_name": "Python 3",
   "language": "python",
   "name": "python3"
  },
  "language_info": {
   "codemirror_mode": {
    "name": "ipython",
    "version": 3
   },
   "file_extension": ".py",
   "mimetype": "text/x-python",
   "name": "python",
   "nbconvert_exporter": "python",
   "pygments_lexer": "ipython3",
   "version": "3.8.8"
  },
  "rise": {
   "scroll": true
  }
 },
 "nbformat": 4,
 "nbformat_minor": 5
}
