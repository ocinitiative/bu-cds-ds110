{
  "cells": [
    {
      "cell_type": "markdown",
      "metadata": {
        "id": "1Sjqb47ZM6FM"
      },
      "source": [
        "# HW8 (60 points possible)"
      ]
    },
    {
      "cell_type": "markdown",
      "metadata": {
        "id": "7f0bPxFgDLZk"
      },
      "source": [
        "This homework also needs winequality-red.csv, which you can find at the same place you found this homework or at the UCI Machine Learning repository (https://archive.ics.uci.edu/ml/machine-learning-databases/wine-quality/)"
      ]
    },
    {
      "cell_type": "markdown",
      "metadata": {
        "id": "qS8ThAcgM-4K"
      },
      "source": [
        "# Problem 1:  Scraping Rotten Tomatoes (24 points)"
      ]
    },
    {
      "cell_type": "markdown",
      "metadata": {
        "id": "8qrRi6ADOWOE"
      },
      "source": [
        "Rotten Tomatoes is a website that aggregates movie critic reviews.  Use the requests module to get the Rotten Tomatoes review site for *Star Wars:  A New Hope*, at URL https://www.rottentomatoes.com/m/star_wars_a_new_hope/reviews?intcmp=rt-scorecard_tomatometer-reviews .  Then use Beautiful Soup to extract all div tags with a class of 'the_review'.  Use Beautiful Soup's get_text() method to remove the tags from these text snippets, and finally, use the TextBlob class to print a Sentiment for each sentence, separated from the sentence itself by '::'.\n",
        "\n",
        "For example, the expected output for one review would be:  \"Star Wars is the best science fiction film that’s come down the pike to date.::Sentiment(polarity=0.4222222222222222, subjectivity=0.29444444444444445)\n",
        "And every good thing you’ve heard about it is true.::Sentiment(polarity=0.5249999999999999, subjectivity=0.625)\""
      ]
    },
    {
      "cell_type": "code",
      "source": [
        "# TODO\n",
        "\n",
        "# Import the libraries we need\n",
        "import requests\n",
        "from bs4 import BeautifulSoup\n",
        "from textblob import TextBlob\n",
        "\n",
        "# Get the Rotten Tomatoes review site for Star Wars: A New Hope\n",
        "url = 'https://www.rottentomatoes.com/m/star_wars_a_new_hope/reviews?intcmp=rt-scorecard_tomatometer-reviews'\n",
        "\n",
        "# Use the requests module to get the Rotten Tomatoes review site for Star Wars: A New Hope\n",
        "response = requests.get(url)\n",
        "\n",
        "# Use Beautiful Soup to extract all div tags with a class of 'the_review'\n",
        "soup = BeautifulSoup(response.text, 'html.parser')\n",
        "reviews = soup.find_all('div', class_='the_review')\n",
        "\n",
        "# Use Beautiful Soup's get_text() method to remove the tags from these text snippets\n",
        "for review in reviews:\n",
        "    print(review.get_text())\n",
        "    print('::')\n",
        "    # Use the TextBlob class to print a Sentiment for each sentence, separated from the sentence itself by '::'\n",
        "    analysis = TextBlob(review.get_text())\n",
        "    print(analysis.sentiment)\n",
        "    print('')"
      ],
      "metadata": {
        "id": "0Ex9VhRBJbG1"
      },
      "execution_count": null,
      "outputs": []
    },
    {
      "cell_type": "markdown",
      "metadata": {
        "id": "sLVrWUgi8YSZ"
      },
      "source": [
        "# Problem 2:  Random Forests (27 points:  3,6,6,12)"
      ]
    },
    {
      "cell_type": "markdown",
      "metadata": {
        "id": "9I4nLXBx_vdf"
      },
      "source": [
        "For this exercise, we'll try using random forests to predict wine quality.  The dataset is from the UCI Machine Learning repository, and rates wines on a scale from 1 to 10.  To turn this into a binary classification problem, we are just interested in identifying wines with a quality score of 7 or more."
      ]
    },
    {
      "cell_type": "code",
      "execution_count": null,
      "metadata": {
        "id": "Zt3UE8Lv_wQa"
      },
      "outputs": [],
      "source": [
        "from google.colab import files\n",
        "\n",
        "uploaded = files.upload() # Upload winequality-red.csv"
      ]
    },
    {
      "cell_type": "code",
      "execution_count": null,
      "metadata": {
        "id": "tEzMl7DZAMs0"
      },
      "outputs": [],
      "source": [
        "import pandas as pd\n",
        "\n",
        "df = pd.read_csv('winequality-red.csv', sep = ';')\n",
        "df.head()"
      ]
    },
    {
      "cell_type": "markdown",
      "metadata": {
        "id": "rLFwCzE2A4vV"
      },
      "source": [
        "To help you, below we've turned the final column into a *target* vector and created a DataFrame *features* that consists of all the other columns."
      ]
    },
    {
      "cell_type": "code",
      "execution_count": 9,
      "metadata": {
        "id": "LwG-XRYrA5d0"
      },
      "outputs": [],
      "source": [
        "target = df['quality'] >= 7\n",
        "features = df.iloc[:,0:11]"
      ]
    },
    {
      "cell_type": "markdown",
      "metadata": {
        "id": "ll9M3w_ZEr4s"
      },
      "source": [
        "a, 3 pts) Separate the features and target vector into training and testing data with scikit-learn's *train_test_split()* function."
      ]
    },
    {
      "cell_type": "code",
      "execution_count": 10,
      "metadata": {
        "id": "QTM05b_MB1yV"
      },
      "outputs": [],
      "source": [
        "# TODO\n",
        "\n",
        "from sklearn.model_selection import train_test_split\n",
        "X_train, X_test, y_train, y_test = train_test_split(features, target, test_size = 0.2, random_state = 123, stratify = target)\n"
      ]
    },
    {
      "cell_type": "markdown",
      "metadata": {
        "id": "jfzElL_nE8rx"
      },
      "source": [
        "b, 6 pts) Use the RandomForestClassifier of sklearn.ensemble to create a random forest with 200 trees.  Train on the training data with *fit()*, and test on the test data with *score()*."
      ]
    },
    {
      "cell_type": "code",
      "execution_count": 11,
      "metadata": {
        "id": "jBTAAwl2CHd-",
        "colab": {
          "base_uri": "https://localhost:8080/"
        },
        "outputId": "06fb2b1b-ac86-47b8-b6b0-0400ed576e0e"
      },
      "outputs": [
        {
          "output_type": "execute_result",
          "data": {
            "text/plain": [
              "0.903125"
            ]
          },
          "metadata": {},
          "execution_count": 11
        }
      ],
      "source": [
        "# TODO\n",
        "\n",
        "from sklearn.ensemble import RandomForestClassifier\n",
        "\n",
        "rf = RandomForestClassifier(n_estimators = 200, random_state = 123)\n",
        "rf.fit(X_train, y_train)\n",
        "rf.score(X_test, y_test)\n"
      ]
    },
    {
      "cell_type": "markdown",
      "metadata": {
        "id": "qvYZmKjeFfbl"
      },
      "source": [
        "c, 6 pts) Consult the classifier's feature_importances_ attribute.  What is the most important feature that the classifier is using to classify the wines?"
      ]
    },
    {
      "cell_type": "code",
      "execution_count": 12,
      "metadata": {
        "id": "YkejNjt5FZOK",
        "colab": {
          "base_uri": "https://localhost:8080/"
        },
        "outputId": "297c5347-dbe7-43c5-90cb-8d61b7478314"
      },
      "outputs": [
        {
          "output_type": "stream",
          "name": "stdout",
          "text": [
            "[0.07545932 0.11577706 0.09506743 0.06917127 0.07281473 0.05944952\n",
            " 0.07366557 0.09375483 0.06116593 0.12004518 0.16362917]\n"
          ]
        }
      ],
      "source": [
        "# TODO\n",
        "\n",
        "print(rf.feature_importances_)"
      ]
    },
    {
      "cell_type": "code",
      "source": [
        "# Using a graphical way to solve this\n",
        "\n",
        "import matplotlib.pyplot as plt\n",
        "\n",
        "plt.barh(features.columns, rf.feature_importances_)\n",
        "plt.xlabel('Feature Importance')\n",
        "plt.ylabel('Feature')\n",
        "plt.show()\n"
      ],
      "metadata": {
        "colab": {
          "base_uri": "https://localhost:8080/",
          "height": 279
        },
        "id": "BmhJKQGpWEkz",
        "outputId": "8f5b75c2-066d-4cb4-a3c6-8e80f7fe488e"
      },
      "execution_count": 13,
      "outputs": [
        {
          "output_type": "display_data",
          "data": {
            "text/plain": [
              "<Figure size 432x288 with 1 Axes>"
            ],
            "image/png": "[encoded data removed]"
          },
          "metadata": {
            "needs_background": "light"
          }
        }
      ]
    },
    {
      "cell_type": "markdown",
      "metadata": {
        "id": "m9B-xB_2GU4P"
      },
      "source": [
        "**TODO most important feature**\n",
        "\n",
        "As we can see from the graph, 'alcohol' is the most important feature."
      ]
    },
    {
      "cell_type": "markdown",
      "metadata": {
        "id": "DODp0APRIMdp"
      },
      "source": [
        "d, 12 points) Run an experiment in which you find the average test score over 100 trials for a scikit-learn decision tree classifier trained on the wine quality data.  Compare its performance to the average score over 100 trials of a random forest with *just one tree*.  What's one difference between these two classifiers that can explain the slight difference in average scores?"
      ]
    },
    {
      "cell_type": "code",
      "execution_count": 22,
      "metadata": {
        "id": "pRZx8IiUG3cl",
        "colab": {
          "base_uri": "https://localhost:8080/"
        },
        "outputId": "07286a62-d674-42a1-8674-916dd8e8f2ad"
      },
      "outputs": [
        {
          "output_type": "stream",
          "name": "stdout",
          "text": [
            "Average test score: 0.874\n"
          ]
        }
      ],
      "source": [
        "# TODO Decision Tree part of the experiment\n",
        "\n",
        "from sklearn.tree import DecisionTreeClassifier\n",
        "from sklearn.model_selection import train_test_split\n",
        "from sklearn.metrics import accuracy_score\n",
        "\n",
        "scores = []\n",
        "\n",
        "for i in range(100):\n",
        "    X_train, X_test, y_train, y_test = train_test_split(features, target, test_size = 0.2, random_state = i, stratify = target)\n",
        "    dt = DecisionTreeClassifier(random_state = i)\n",
        "    dt.fit(X_train, y_train)\n",
        "    y_pred = dt.predict(X_test)\n",
        "    scores.append(accuracy_score(y_test, y_pred))\n",
        "\n",
        "print('Average test score: {:.3f}'.format(sum(scores)/len(scores)))\n"
      ]
    },
    {
      "cell_type": "code",
      "execution_count": 15,
      "metadata": {
        "id": "peZurCoeIuTp",
        "colab": {
          "base_uri": "https://localhost:8080/"
        },
        "outputId": "a1cacb56-70b5-48fe-c762-aa030b2c4260"
      },
      "outputs": [
        {
          "output_type": "stream",
          "name": "stdout",
          "text": [
            "Average test score: 0.857\n"
          ]
        }
      ],
      "source": [
        "# TODO Random Forest with one tree part of the experiment\n",
        "\n",
        "from sklearn.ensemble import RandomForestClassifier\n",
        "from sklearn.model_selection import train_test_split\n",
        "from sklearn.metrics import accuracy_score\n",
        "\n",
        "scores = []\n",
        "\n",
        "for i in range(100):\n",
        "    X_train, X_test, y_train, y_test = train_test_split(features, target, test_size = 0.2, random_state = i, stratify = target)\n",
        "    rf = RandomForestClassifier(n_estimators = 1, random_state = i)\n",
        "    rf.fit(X_train, y_train)\n",
        "    y_pred = rf.predict(X_test)\n",
        "    scores.append(accuracy_score(y_test, y_pred))\n",
        "\n",
        "print('Average test score: {:.3f}'.format(sum(scores)/len(scores)))\n"
      ]
    },
    {
      "cell_type": "markdown",
      "metadata": {
        "id": "CRcL89G7Q4qu"
      },
      "source": [
        "**TODO explain the difference**\n",
        "\n",
        "What can explain the difference of performance for these classifiers is that while a random forest classifier randomly chooses observations or rows and particular features or variables to build numerous decision trees from and then averages the results, a decision tree builds on a whole dataset utilizing all the features/variables of interest. The class that receives the most votes by a simple majority is the \"winner\" or predicted class when a large number of trees are constructed using this method."
      ]
    },
    {
      "cell_type": "markdown",
      "metadata": {
        "id": "yJ8CVUafSR4k"
      },
      "source": [
        "# Problem 3:  Text Processing (9 points)"
      ]
    },
    {
      "cell_type": "markdown",
      "metadata": {
        "id": "wGhELYgiV9dw"
      },
      "source": [
        "Write a function just_verbs() that takes a string as an argument, and returns a list of the verbs in the sentence.  (Note that the tags returned in the .tags attribute of a TextBlob start with 'VB' for verbs.)"
      ]
    },
    {
      "cell_type": "code",
      "execution_count": 16,
      "metadata": {
        "id": "FP0WV2SdWe4u",
        "colab": {
          "base_uri": "https://localhost:8080/"
        },
        "outputId": "2f1842c4-abe7-489b-8004-53f260e9d7e8"
      },
      "outputs": [
        {
          "output_type": "stream",
          "name": "stderr",
          "text": [
            "[nltk_data] Downloading package averaged_perceptron_tagger to\n",
            "[nltk_data]     /root/nltk_data...\n",
            "[nltk_data]   Unzipping taggers/averaged_perceptron_tagger.zip.\n",
            "[nltk_data] Downloading package punkt to /root/nltk_data...\n",
            "[nltk_data]   Package punkt is already up-to-date!\n"
          ]
        },
        {
          "output_type": "execute_result",
          "data": {
            "text/plain": [
              "True"
            ]
          },
          "metadata": {},
          "execution_count": 16
        }
      ],
      "source": [
        "from textblob import TextBlob\n",
        "import nltk\n",
        "nltk.download('averaged_perceptron_tagger')\n",
        "nltk.download('punkt')"
      ]
    },
    {
      "cell_type": "code",
      "execution_count": 17,
      "metadata": {
        "id": "uVImvzOQXA1o"
      },
      "outputs": [],
      "source": [
        "# TODO just_verbs()\n",
        "\n",
        "def just_verbs(text):\n",
        "    blob = TextBlob(text)\n",
        "    return [word for word, tag in blob.tags if tag.startswith('VB')]\n"
      ]
    },
    {
      "cell_type": "code",
      "execution_count": 18,
      "metadata": {
        "id": "RDU0IO7AXXId",
        "colab": {
          "base_uri": "https://localhost:8080/"
        },
        "outputId": "ba706acb-5719-4b4a-8084-fd595d20748f"
      },
      "outputs": [
        {
          "output_type": "execute_result",
          "data": {
            "text/plain": [
              "['jumped', 'sang']"
            ]
          },
          "metadata": {},
          "execution_count": 18
        }
      ],
      "source": [
        "# Test - should produce ['jumped', 'sang']\n",
        "\n",
        "just_verbs('I jumped and sang')"
      ]
    },
    {
      "cell_type": "code",
      "source": [
        "# Even more tests\n",
        "\n",
        "print(just_verbs(\"Mary slapped the green witch.\"))\n",
        "print(just_verbs(\"Peter told me that he would never do that again.\"))\n",
        "print(just_verbs(\"I love to write Python programs.\"))"
      ],
      "metadata": {
        "colab": {
          "base_uri": "https://localhost:8080/"
        },
        "id": "PL8LqhVXbfiv",
        "outputId": "10911341-982c-4fc1-f15b-efcd490a48bb"
      },
      "execution_count": 19,
      "outputs": [
        {
          "output_type": "stream",
          "name": "stdout",
          "text": [
            "['slapped']\n",
            "['told', 'do']\n",
            "['love', 'write']\n"
          ]
        }
      ]
    }
  ],
  "metadata": {
    "colab": {
      "collapsed_sections": [],
      "provenance": []
    },
    "kernelspec": {
      "display_name": "Python 3",
      "language": "python",
      "name": "python3"
    },
    "language_info": {
      "codemirror_mode": {
        "name": "ipython",
        "version": 3
      },
      "file_extension": ".py",
      "mimetype": "text/x-python",
      "name": "python",
      "nbconvert_exporter": "python",
      "pygments_lexer": "ipython3",
      "version": "3.8.8"
    }
  },
  "nbformat": 4,
  "nbformat_minor": 0
}