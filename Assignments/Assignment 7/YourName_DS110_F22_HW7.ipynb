{
  "cells": [
    {
      "cell_type": "markdown",
      "metadata": {
        "id": "Vqhh-Yct_RCh"
      },
      "source": [
        "# HW7 (60 points)\n",
        "\n",
        "This homework also requires the wine.data CSV, found where you downloaded this .ipynb file."
      ]
    },
    {
      "cell_type": "markdown",
      "metadata": {
        "id": "cS1T4OONAa4P"
      },
      "source": [
        "# Problem 1:  Recursion (6 points)\n",
        "\n",
        "Write a *recursive* function that calculates $f(n)$ where $f(n) = f(n-1) + f(n-3) + 1$ and $f(1) = 1, f(2) = 2, f(3) = 3$.  You can assume $n$ is a positive integer."
      ]
    },
    {
      "cell_type": "code",
      "execution_count": null,
      "metadata": {
        "id": "uiuAoLG_BHo3"
      },
      "outputs": [],
      "source": [
        "# TODO f(n)\n"
      ]
    },
    {
      "cell_type": "code",
      "execution_count": null,
      "metadata": {
        "id": "76GGd582By_s"
      },
      "outputs": [],
      "source": [
        "# Tests\n",
        "print(f(4)) # Should print 5\n",
        "print(f(5)) # Should print 8\n",
        "print(f(6)) # Should print 12"
      ]
    },
    {
      "cell_type": "markdown",
      "metadata": {
        "id": "OZ3nyXaVjxJk"
      },
      "source": [
        "# Problem 2:  Recursion on a Tree (14 points: 6,8)\n"
      ]
    },
    {
      "cell_type": "markdown",
      "metadata": {
        "id": "5h_QXcLXsEbi"
      },
      "source": [
        "a, 8 points) Write a recursive function sum_tree() that *recursively* sums all the values in a binary tree and returns this sum.  It should work with the BinaryTree definition that follows.  A left or right field of None means that there is no child there."
      ]
    },
    {
      "cell_type": "code",
      "execution_count": null,
      "metadata": {
        "id": "MMjX2HphkfNS"
      },
      "outputs": [],
      "source": [
        "class BinaryTree():\n",
        "  def __init__(self, left, right, value):\n",
        "    self.left = left\n",
        "    self.right = right\n",
        "    self.value = value\n",
        "\n",
        "sample_tree = BinaryTree(BinaryTree(BinaryTree(None,None,1),\n",
        "                                    BinaryTree(None,None,2),\n",
        "                                    3),\n",
        "                         BinaryTree(BinaryTree(BinaryTree(None,None,4),\n",
        "                                               BinaryTree(None,None,5),\n",
        "                                               6),\n",
        "                                    BinaryTree(None,None,7),\n",
        "                                    8),\n",
        "                         9)\n",
        "sample_tree2 = BinaryTree(None, BinaryTree(None, BinaryTree(None, BinaryTree(None,None,1),2),3),4)"
      ]
    },
    {
      "cell_type": "code",
      "execution_count": null,
      "metadata": {
        "id": "bH6sWEyWswEV"
      },
      "outputs": [],
      "source": [
        "# TODO sum_tree()"
      ]
    },
    {
      "cell_type": "code",
      "execution_count": null,
      "metadata": {
        "id": "y9cIkUNxthDm"
      },
      "outputs": [],
      "source": [
        "# Tests\n",
        "print(sum_tree(sample_tree)) # Should be 45\n",
        "print(sum_tree(sample_tree2)) # Should be 10"
      ]
    },
    {
      "cell_type": "markdown",
      "metadata": {
        "id": "asZQk9OQj5ep"
      },
      "source": [
        "b, 8 pts) Write a function count_full_branches() that takes a binary tree and *recursively* counts the number of nodes that have both a left and right child.  Assume the tree argument was created using the provided binary tree class.  A missing child is signified by a left or right field that is None.  (The value field is not useful for this exercise.)"
      ]
    },
    {
      "cell_type": "code",
      "execution_count": null,
      "metadata": {
        "id": "vJt8urL1ivgc"
      },
      "outputs": [],
      "source": [
        "# TODO count_full_branches()"
      ]
    },
    {
      "cell_type": "code",
      "execution_count": null,
      "metadata": {
        "id": "jAXZ41oao95X"
      },
      "outputs": [],
      "source": [
        "print(count_full_branches(sample_tree)) # Expect 4\n",
        "print(count_full_branches(sample_tree2)) # Expect 0"
      ]
    },
    {
      "cell_type": "markdown",
      "metadata": {
        "id": "GNFEmlhW2S_x"
      },
      "source": [
        "# Problem 3:  Nearest neighbors (18 points:  4,3,4,3,4)"
      ]
    },
    {
      "cell_type": "markdown",
      "metadata": {
        "id": "CfC1tDBjmM6d"
      },
      "source": [
        "In this problem, we'll train on a dataset where the labels are different varieties (\"cultivars\") of wine, and the features are different chemical measurements of the wine.\n",
        "\n",
        "Upload the wine.data file."
      ]
    },
    {
      "cell_type": "code",
      "execution_count": null,
      "metadata": {
        "id": "A19Igw8t_sZK"
      },
      "outputs": [],
      "source": [
        "from google.colab import files\n",
        "\n",
        "uploaded = files.upload() # Upload wine.data"
      ]
    },
    {
      "cell_type": "markdown",
      "metadata": {
        "id": "ZPnnCYnYmnIT"
      },
      "source": [
        "We next set up a dataframe to organize the data."
      ]
    },
    {
      "cell_type": "code",
      "execution_count": null,
      "metadata": {
        "id": "Zrvjw8BT_HkS"
      },
      "outputs": [],
      "source": [
        "# wine.data:  see https://archive.ics.uci.edu/ml/datasets/Wine\n",
        "\n",
        "import pandas as pd\n",
        "\n",
        "col_names = ['Type','Alcohol','Malic acid','Ash','Alcalinity of ash',\n",
        "             'Magnesium','Total phenols','Flavanoids','Nonflavanoid phenols',\n",
        "             'Proanthocyanins','Color intensity','Hue','OD280/OD315','Proline']\n",
        "\n",
        "df = pd.read_csv('wine.data', names =col_names)\n",
        "df.head()"
      ]
    },
    {
      "cell_type": "markdown",
      "metadata": {
        "id": "w9kIe_Jxm0mJ"
      },
      "source": [
        "We then separate the data into features (X) and labels (y)."
      ]
    },
    {
      "cell_type": "code",
      "execution_count": null,
      "metadata": {
        "id": "Ok1fBB8CCHUi"
      },
      "outputs": [],
      "source": [
        "y = df['Type']"
      ]
    },
    {
      "cell_type": "code",
      "execution_count": null,
      "metadata": {
        "id": "hRqy3BEGB28m"
      },
      "outputs": [],
      "source": [
        "X = df.iloc[:,1:]"
      ]
    },
    {
      "cell_type": "markdown",
      "metadata": {
        "id": "NCccXZkmm7Uy"
      },
      "source": [
        "a, 4 pts) Explain what the next code box is doing, and why it is important to do it for a nearest neighbors classifier training on this data."
      ]
    },
    {
      "cell_type": "code",
      "execution_count": null,
      "metadata": {
        "id": "15qbUixqCjho"
      },
      "outputs": [],
      "source": [
        "for col in range(13):\n",
        "  X.iloc[:,col] = X.iloc[:,col]/X.iloc[:,col].max()"
      ]
    },
    {
      "cell_type": "code",
      "execution_count": null,
      "metadata": {
        "id": "jdk8vTdQDaad"
      },
      "outputs": [],
      "source": [
        "X.head()"
      ]
    },
    {
      "cell_type": "markdown",
      "metadata": {
        "id": "LT1uMlOgnGm6"
      },
      "source": [
        "**TODO answer to (a)**"
      ]
    },
    {
      "cell_type": "markdown",
      "metadata": {
        "id": "XxPZyQIaknBW"
      },
      "source": [
        "b, 3 pts) Now use scikit-learn's train_test_split() function to separate X and y into training and test sets."
      ]
    },
    {
      "cell_type": "code",
      "execution_count": null,
      "metadata": {
        "id": "kR3ru2TxklML"
      },
      "outputs": [],
      "source": [
        "# TODO\n"
      ]
    },
    {
      "cell_type": "markdown",
      "metadata": {
        "id": "drwd2DmKnv_w"
      },
      "source": [
        "c, 4 pts) Train a k-nearest neighbors classifier on the training data, where k is 3."
      ]
    },
    {
      "cell_type": "code",
      "execution_count": null,
      "metadata": {
        "id": "9LJ1hK6NlmZe"
      },
      "outputs": [],
      "source": [
        "# TODO\n"
      ]
    },
    {
      "cell_type": "markdown",
      "metadata": {
        "id": "jfRUxI8hn7tA"
      },
      "source": [
        "d, 3 pts) Use the score() method of the nearest neighbors classifier on the test data, to determine how well this classifier does on the withheld data."
      ]
    },
    {
      "cell_type": "code",
      "execution_count": null,
      "metadata": {
        "id": "zGyoe6R8l07Y"
      },
      "outputs": [],
      "source": [
        "# TODO"
      ]
    },
    {
      "cell_type": "markdown",
      "metadata": {
        "id": "XSe36I7JsgZf"
      },
      "source": [
        "e, 4pts) Evaluating with score() on the training data instead of the testing data should give 100% accuracy if k=1.  Why?"
      ]
    },
    {
      "cell_type": "markdown",
      "metadata": {
        "id": "t4DVmlnVs9Qq"
      },
      "source": [
        "**TODO answer to (e)**"
      ]
    },
    {
      "cell_type": "markdown",
      "metadata": {
        "id": "2ztv599otU7z"
      },
      "source": [
        "# Problem 4:  Decision trees (22 points:  8, 6, 4, 4)"
      ]
    },
    {
      "cell_type": "markdown",
      "metadata": {
        "id": "B3a0Vs_eyFxw"
      },
      "source": [
        "a, 8 pts) Using the same train/test split as the previous problem, train a scikit-learn entropy-based decision tree classifier on the scaled data, and use score() to evaluate the classifier.  When creating the DecisionTreeClassifier, pass in the argument random_state=110 so that we can be sure its performance matches expectations."
      ]
    },
    {
      "cell_type": "code",
      "execution_count": null,
      "metadata": {
        "id": "eV8eADqovIi2"
      },
      "outputs": [],
      "source": [
        "# TODO train and evaluate DecisionTreeClassifier"
      ]
    },
    {
      "cell_type": "markdown",
      "metadata": {
        "id": "ksX6xMF2zZRg"
      },
      "source": [
        "b, 6 pts) What does \"overfitting\" mean?  Call score() on the training data.  Is this performance consistent with the idea that the model is overfitting?"
      ]
    },
    {
      "cell_type": "code",
      "execution_count": null,
      "metadata": {
        "id": "C-ns4hhSvheC"
      },
      "outputs": [],
      "source": [
        "# TODO call score()"
      ]
    },
    {
      "cell_type": "markdown",
      "metadata": {
        "id": "Z7xSl8zz0ZFr"
      },
      "source": [
        "**TODO overfitting explanation and whether model appears to be overfitting**"
      ]
    },
    {
      "cell_type": "markdown",
      "metadata": {
        "id": "Swl-secl4Ia1"
      },
      "source": [
        "c, 4 points) Experiment with setting the following parameters of the DecisionTreeClassifier constructor:  max_depth=3, min_samples_leaf=8.  Does the evidence from train and test performance suggest the model is overfitting now?  "
      ]
    },
    {
      "cell_type": "code",
      "execution_count": null,
      "metadata": {
        "id": "yarzQoX6vmgZ"
      },
      "outputs": [],
      "source": [
        "# TODO evaluate a DecisionTreeClassifier with the given parameters"
      ]
    },
    {
      "cell_type": "markdown",
      "metadata": {
        "id": "zbuhew5q6y3S"
      },
      "source": [
        "**TODO is there evidence of overfitting now?**"
      ]
    },
    {
      "cell_type": "markdown",
      "metadata": {
        "id": "qEA6eICD8CKp"
      },
      "source": [
        "d, 4 points) Using tree.plot_tree(), draw the tree you made in part (c).  You don't need to name the types or features."
      ]
    },
    {
      "cell_type": "code",
      "execution_count": null,
      "metadata": {
        "id": "YCP3VlRV8ajB"
      },
      "outputs": [],
      "source": [
        "# TODO tree.plot_tree()"
      ]
    }
  ],
  "metadata": {
    "colab": {
      "collapsed_sections": [],
      "provenance": []
    },
    "kernelspec": {
      "display_name": "Python 3",
      "language": "python",
      "name": "python3"
    },
    "language_info": {
      "codemirror_mode": {
        "name": "ipython",
        "version": 3
      },
      "file_extension": ".py",
      "mimetype": "text/x-python",
      "name": "python",
      "nbconvert_exporter": "python",
      "pygments_lexer": "ipython3",
      "version": "3.8.8"
    }
  },
  "nbformat": 4,
  "nbformat_minor": 0
}