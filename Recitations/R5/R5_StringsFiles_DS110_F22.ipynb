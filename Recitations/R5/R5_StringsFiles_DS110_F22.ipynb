{
  "nbformat": 4,
  "nbformat_minor": 0,
  "metadata": {
    "colab": {
      "name": "R5_StringsFiles_DS110_F22.ipynb",
      "provenance": [],
      "collapsed_sections": []
    },
    "kernelspec": {
      "name": "python3",
      "display_name": "Python 3"
    },
    "language_info": {
      "name": "python"
    }
  },
  "cells": [
    {
      "cell_type": "markdown",
      "source": [
        "1) Write a regular expression that looks for the pattern \"\"In a ____ in the ground\" where the blank contains at least one \"word\" character.  (Note that the case must match.)"
      ],
      "metadata": {
        "id": "eVvAlS5ndXKa"
      }
    },
    {
      "cell_type": "code",
      "execution_count": null,
      "metadata": {
        "id": "LCro-LQHdJML"
      },
      "outputs": [],
      "source": [
        "hobbit_beginning = \"\"\"In a hole in the ground there lived a hobbit.\n",
        "Not a nasty, dirty, wet hole, filled with the ends of worms and an oozy smell,\n",
        "nor yet a dry, bare, sandy hole with nothing in it to sit down on or to eat:\n",
        "it was a hobbit-hole, and that means comfort.\"\"\""
      ]
    },
    {
      "cell_type": "code",
      "source": [
        "import re\n",
        "\n",
        "# TODO"
      ],
      "metadata": {
        "id": "B49wp2UUkU5X"
      },
      "execution_count": null,
      "outputs": []
    },
    {
      "cell_type": "markdown",
      "source": [
        "2) Perform the same search, but capture the group with parentheses and print just what filled in the blank."
      ],
      "metadata": {
        "id": "cwUAzsl9kThK"
      }
    },
    {
      "cell_type": "code",
      "source": [
        "# TODO"
      ],
      "metadata": {
        "id": "8d3KCV1flKc-"
      },
      "execution_count": null,
      "outputs": []
    },
    {
      "cell_type": "markdown",
      "source": [
        "3) Now write an expression that grabs the whole first line up to the newline.  It helps to know that a '.' can match any character except a newline."
      ],
      "metadata": {
        "id": "7UFZLHs1lVK1"
      }
    },
    {
      "cell_type": "code",
      "source": [
        "# TODO"
      ],
      "metadata": {
        "id": "H6NC3UVolcVk"
      },
      "execution_count": null,
      "outputs": []
    },
    {
      "cell_type": "markdown",
      "source": [
        "4) In the following, have the regular expression look for the word \"color\" or \"colour\" (the expression should accept either), and print a color word that comes any distance after it.  The colors\n",
        "to look for can be green, yellow, red, or blue.  It doesn't need to be the first matching color word after the word \"color/colour\", just any match."
      ],
      "metadata": {
        "id": "IA5LEGxlm-LJ"
      }
    },
    {
      "cell_type": "code",
      "source": [
        "longstring = \"\"\"They are inclined to be fat in the stomach;\n",
        "they dress in bright colours (chiefly green and yellow);\n",
        "wear no shoes, because their feet grow natural leathery soles\n",
        "and thick warm brown hair like the stuff on their heads (which is curly);\n",
        "have long clever brown fingers, good-natured faces, and laugh deep fruity laughs\n",
        "(especially after dinner, which they have twice a day when they can get it).\"\"\"\n",
        "\n",
        "# TODO"
      ],
      "metadata": {
        "id": "gEL4cGHwnLrT"
      },
      "execution_count": null,
      "outputs": []
    },
    {
      "cell_type": "markdown",
      "source": [
        "For the following problems, you'll find it especially helpful to refer to the lecture .ipynb for Files and Exceptions."
      ],
      "metadata": {
        "id": "_xBXtEJ_8I2O"
      }
    },
    {
      "cell_type": "markdown",
      "source": [
        "5) Try writing a csv file hobbit.csv that consists of two lines:  \"green, yellow\" for the first line, \"curly, clever\" for the second."
      ],
      "metadata": {
        "id": "IzQzeCXutwJ8"
      }
    },
    {
      "cell_type": "code",
      "source": [
        "import csv\n",
        "\n",
        "# TODO"
      ],
      "metadata": {
        "id": "_fFmJkPXuQgF"
      },
      "execution_count": null,
      "outputs": []
    },
    {
      "cell_type": "markdown",
      "source": [
        "Use !ls and !cat hobbit.csv to make sure it worked."
      ],
      "metadata": {
        "id": "KwmGs863umHP"
      }
    },
    {
      "cell_type": "code",
      "source": [
        "!ls\n",
        "!cat hobbit.csv"
      ],
      "metadata": {
        "id": "bdq7QuAJurth"
      },
      "execution_count": null,
      "outputs": []
    },
    {
      "cell_type": "markdown",
      "source": [
        "6) Now, try writing to file a JSON that uses the following dictionary."
      ],
      "metadata": {
        "id": "VXdGu315u6-b"
      }
    },
    {
      "cell_type": "code",
      "source": [
        "my_dict = {\n",
        "    'colors': ['green, blue'],\n",
        "    'descriptions': ['curly','clever']\n",
        "}\n",
        "# TODO"
      ],
      "metadata": {
        "id": "FlmROqQru_nc"
      },
      "execution_count": null,
      "outputs": []
    },
    {
      "cell_type": "code",
      "source": [
        "!ls"
      ],
      "metadata": {
        "id": "ba_ruoa_v2_f"
      },
      "execution_count": null,
      "outputs": []
    },
    {
      "cell_type": "markdown",
      "source": [
        "7) Read the JSON file back again and print the values associated with 'colors'."
      ],
      "metadata": {
        "id": "6KAjgD6qwKOR"
      }
    },
    {
      "cell_type": "code",
      "source": [
        "# TODO"
      ],
      "metadata": {
        "id": "Bfi8wBG1wSwx"
      },
      "execution_count": null,
      "outputs": []
    }
  ]
}