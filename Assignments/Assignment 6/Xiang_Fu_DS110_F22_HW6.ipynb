{
  "cells": [
    {
      "cell_type": "markdown",
      "metadata": {
        "id": "HdjVihUK9jyv"
      },
      "source": [
        "# HW6:  60 points possible"
      ]
    },
    {
      "cell_type": "markdown",
      "metadata": {
        "id": "zEzeFPRdbYlr"
      },
      "source": [
        "This assignment needs the file books2.csv, which should be at the same location where you got this file."
      ]
    },
    {
      "cell_type": "markdown",
      "metadata": {
        "id": "DEj1rxno9bo9"
      },
      "source": [
        "# Problem:  The Book Class (60 points:  3,5,5,5,6,8,12,9,7)"
      ]
    },
    {
      "cell_type": "markdown",
      "metadata": {
        "id": "qkT7p1RS9tel"
      },
      "source": [
        "a) Create a Book class with the following methods:\n",
        "\n",
        "* (3 pts) A constructor that takes the author (string), title (string), and a list of ratings (integers)\n",
        "* (5 pts) A `__str__()` method that returns the string \"[title] by [author]\" when invoked\n",
        "* (5 pts) An `average_rating()` method that takes no argument and returns the average of all the ratings in the list\n",
        "* (5 pts) A `rate()` method that takes one integer argument and adds that integer to the end of the ratings, returning the new list of ratings"
      ]
    },
    {
      "cell_type": "code",
      "execution_count": 15,
      "metadata": {
        "id": "1updg7II9LhF"
      },
      "outputs": [],
      "source": [
        "# TODO Book class with __init__(), __str__(), average_rating(), rate()\n",
        "\n",
        "class Book:\n",
        "    def __init__(self, author, title, ratings):\n",
        "        self.author = author\n",
        "        self.title = title\n",
        "        self.ratings = ratings\n",
        "\n",
        "    def __str__(self):\n",
        "        return f\"{self.title} by {self.author}\"\n",
        "\n",
        "    def average_rating(self):\n",
        "        return sum(self.ratings) / len(self.ratings)\n",
        "\n",
        "    def rate(self, rating):\n",
        "        self.ratings.append(rating)\n",
        "        return self.ratings"
      ]
    },
    {
      "cell_type": "code",
      "execution_count": 16,
      "metadata": {
        "id": "Io3RbBcSAsUF",
        "colab": {
          "base_uri": "https://localhost:8080/"
        },
        "outputId": "e92d7703-dd6a-4cab-8770-aec3aa993721"
      },
      "outputs": [
        {
          "output_type": "stream",
          "name": "stdout",
          "text": [
            "Frankenstein by Mary Shelley\n",
            "4.0\n",
            "[5, 4, 3, 5, 3, 5]\n"
          ]
        }
      ],
      "source": [
        "# Tests\n",
        "my_book = Book('Mary Shelley', 'Frankenstein', [5, 4, 3, 5, 3])\n",
        "print(my_book) # expect 'Frankenstein by Mary Shelley'\n",
        "print(my_book.average_rating()) # expect 4.0\n",
        "print(my_book.rate(5)) # expect [5, 4, 3, 5, 3, 5]"
      ]
    },
    {
      "cell_type": "markdown",
      "metadata": {
        "id": "P6ATI6qpE_KO"
      },
      "source": [
        "b, 6 pts) Sometimes data for an entity can be spread across multiple records in the dataset.  Code the function merge() which takes two Book objects as arguments, and returns a single Book record where the author and title match the first argument, and the ratings are a concatenation of the two ratings lists."
      ]
    },
    {
      "cell_type": "code",
      "execution_count": 17,
      "metadata": {
        "id": "1iauKPJFBTFl"
      },
      "outputs": [],
      "source": [
        "# TODO merge()\n",
        "\n",
        "def merge(book1, book2):\n",
        "    return Book(book1.author, book1.title, book1.ratings + book2.ratings)\n"
      ]
    },
    {
      "cell_type": "code",
      "execution_count": 18,
      "metadata": {
        "id": "vL_nP3OiFq3Q",
        "colab": {
          "base_uri": "https://localhost:8080/"
        },
        "outputId": "240e5850-f553-4ef4-e685-4809dbefa5fa"
      },
      "outputs": [
        {
          "output_type": "stream",
          "name": "stdout",
          "text": [
            "Pride and Prejudice by Jane Austen\n",
            "[5, 4, 5, 3, 5, 5]\n"
          ]
        }
      ],
      "source": [
        "book1 = Book('Jane Austen', 'Pride and Prejudice', [5, 4, 5, 3])\n",
        "book2 = Book('J. Austen', 'Pride and Prejudice', [5, 5])\n",
        "book3 = merge(book1, book2)\n",
        "print(book3)\n",
        "print(book3.ratings)"
      ]
    },
    {
      "cell_type": "markdown",
      "metadata": {
        "id": "ZI-Muy47NzCU"
      },
      "source": [
        "c, 8 pts) Code a class that inherits from Book, Nonfiction.  Give it a constructor identical to Book's, except it has one additional argument:  the edition number (an int).  Then add to the Nonfiction class a method more_recent_than() which takes a Book as an argument and returns true if 1) the authors and titles match, *and* 2) the Book calling it has a higher edition number than the argument."
      ]
    },
    {
      "cell_type": "code",
      "execution_count": 19,
      "metadata": {
        "id": "pbqYgcIMPEBf"
      },
      "outputs": [],
      "source": [
        "# TODO Nonfiction class with __init__(), more_recent_than()\n",
        "\n",
        "class Nonfiction(Book):\n",
        "    def __init__(self, author, title, ratings, edition):\n",
        "        super().__init__(author, title, ratings)\n",
        "        self.edition = edition\n",
        "\n",
        "    def more_recent_than(self, book):\n",
        "        return self.author == book.author and self.title == book.title and self.edition > book.edition"
      ]
    },
    {
      "cell_type": "code",
      "execution_count": 20,
      "metadata": {
        "id": "XZy0pIHxQbug",
        "colab": {
          "base_uri": "https://localhost:8080/"
        },
        "outputId": "1ed47495-dc67-43ff-f997-fdd7c80d9be7"
      },
      "outputs": [
        {
          "output_type": "stream",
          "name": "stdout",
          "text": [
            "True\n",
            "False\n",
            "5.0\n"
          ]
        }
      ],
      "source": [
        "book1 = Nonfiction('Feynman', 'Physics', [5,4,5], 1)\n",
        "book2 = Nonfiction('Feynman', 'Physics', [5,5,5], 2)\n",
        "book3 = Nonfiction('Herschbach', 'Chemistry', [5,5,5], 1)\n",
        "\n",
        "print(book2.more_recent_than(book1)) # expect True\n",
        "print(book2.more_recent_than(book3)) # expect False, author/title mismatch\n",
        "print(book3.average_rating()) # Should have inherited this method from Book"
      ]
    },
    {
      "cell_type": "markdown",
      "metadata": {
        "id": "jP_O96rDQR39"
      },
      "source": [
        "d, 12pts) Code a class Fiction that inherits from Book and has an extra attribute *sequel*, which should be a Fiction (or None if there is no sequel).  Accept an extra argument in the constructor to set this attribute.  Throw a ValueError if the sequel argument isn't a Fiction object or None.\n",
        "\n",
        "Then write a method rest_of_series() that returns a list of the remaining titles in the series (as strings).  For example, if the Book The Fellowship of the Ring had the sequel The Two Towers, and that had a sequel of The Return of the King, then calling this method of The Fellowship of the Ring would return the list of strings ['The Two Towers', 'The Return of the King'].  (Your method should work with arbitrarily long chains of sequels, not just trilogies.)"
      ]
    },
    {
      "cell_type": "code",
      "execution_count": 21,
      "metadata": {
        "id": "bEKNt8iLXxR_"
      },
      "outputs": [],
      "source": [
        "# TODO Fiction class with __init__(), rest_of_series()\n",
        "\n",
        "class Fiction(Book):\n",
        "    def __init__(self, author, title, ratings, sequel):\n",
        "        super().__init__(author, title, ratings)\n",
        "        if sequel is not None and not isinstance(sequel, Fiction):\n",
        "            raise ValueError(\"Sequel should be a Fiction object to be able to work in this situation\")\n",
        "        self.sequel = sequel\n",
        "\n",
        "    def rest_of_series(self):\n",
        "        if self.sequel is None:\n",
        "            return []\n",
        "        else:\n",
        "            return [self.sequel.title] + self.sequel.rest_of_series()"
      ]
    },
    {
      "cell_type": "code",
      "execution_count": 22,
      "metadata": {
        "id": "aqihtjdXsRSk",
        "colab": {
          "base_uri": "https://localhost:8080/",
          "height": 323
        },
        "outputId": "43b26be6-d025-4c17-fb5f-913d81d0ea05"
      },
      "outputs": [
        {
          "output_type": "error",
          "ename": "ValueError",
          "evalue": "ignored",
          "traceback": [
            "\u001b[0;31m---------------------------------------------------------------------------\u001b[0m",
            "\u001b[0;31mValueError\u001b[0m                                Traceback (most recent call last)",
            "\u001b[0;32m<ipython-input-22-e557555c7bb9>\u001b[0m in \u001b[0;36m<module>\u001b[0;34m\u001b[0m\n\u001b[1;32m      1\u001b[0m \u001b[0;31m# Test, should throw an error because sequel isn't Fiction\u001b[0m\u001b[0;34m\u001b[0m\u001b[0;34m\u001b[0m\u001b[0;34m\u001b[0m\u001b[0m\n\u001b[1;32m      2\u001b[0m \u001b[0mbook1\u001b[0m \u001b[0;34m=\u001b[0m \u001b[0mNonfiction\u001b[0m\u001b[0;34m(\u001b[0m\u001b[0;34m'Feynman'\u001b[0m\u001b[0;34m,\u001b[0m \u001b[0;34m'Physics'\u001b[0m\u001b[0;34m,\u001b[0m \u001b[0;34m[\u001b[0m\u001b[0;36m5\u001b[0m\u001b[0;34m,\u001b[0m \u001b[0;36m4\u001b[0m\u001b[0;34m,\u001b[0m \u001b[0;36m5\u001b[0m\u001b[0;34m]\u001b[0m\u001b[0;34m,\u001b[0m \u001b[0;36m1\u001b[0m\u001b[0;34m)\u001b[0m\u001b[0;34m\u001b[0m\u001b[0;34m\u001b[0m\u001b[0m\n\u001b[0;32m----> 3\u001b[0;31m \u001b[0mbook2\u001b[0m \u001b[0;34m=\u001b[0m \u001b[0mFiction\u001b[0m\u001b[0;34m(\u001b[0m\u001b[0;34m'Mary Shelley'\u001b[0m\u001b[0;34m,\u001b[0m \u001b[0;34m'Frankenstein'\u001b[0m\u001b[0;34m,\u001b[0m \u001b[0;34m[\u001b[0m\u001b[0;36m5\u001b[0m\u001b[0;34m,\u001b[0m \u001b[0;36m5\u001b[0m\u001b[0;34m,\u001b[0m \u001b[0;36m5\u001b[0m\u001b[0;34m]\u001b[0m\u001b[0;34m,\u001b[0m \u001b[0mbook1\u001b[0m\u001b[0;34m)\u001b[0m\u001b[0;34m\u001b[0m\u001b[0;34m\u001b[0m\u001b[0m\n\u001b[0m",
            "\u001b[0;32m<ipython-input-21-5335f807655b>\u001b[0m in \u001b[0;36m__init__\u001b[0;34m(self, author, title, ratings, sequel)\u001b[0m\n\u001b[1;32m      5\u001b[0m         \u001b[0msuper\u001b[0m\u001b[0;34m(\u001b[0m\u001b[0;34m)\u001b[0m\u001b[0;34m.\u001b[0m\u001b[0m__init__\u001b[0m\u001b[0;34m(\u001b[0m\u001b[0mauthor\u001b[0m\u001b[0;34m,\u001b[0m \u001b[0mtitle\u001b[0m\u001b[0;34m,\u001b[0m \u001b[0mratings\u001b[0m\u001b[0;34m)\u001b[0m\u001b[0;34m\u001b[0m\u001b[0;34m\u001b[0m\u001b[0m\n\u001b[1;32m      6\u001b[0m         \u001b[0;32mif\u001b[0m \u001b[0msequel\u001b[0m \u001b[0;32mis\u001b[0m \u001b[0;32mnot\u001b[0m \u001b[0;32mNone\u001b[0m \u001b[0;32mand\u001b[0m \u001b[0;32mnot\u001b[0m \u001b[0misinstance\u001b[0m\u001b[0;34m(\u001b[0m\u001b[0msequel\u001b[0m\u001b[0;34m,\u001b[0m \u001b[0mFiction\u001b[0m\u001b[0;34m)\u001b[0m\u001b[0;34m:\u001b[0m\u001b[0;34m\u001b[0m\u001b[0;34m\u001b[0m\u001b[0m\n\u001b[0;32m----> 7\u001b[0;31m             \u001b[0;32mraise\u001b[0m \u001b[0mValueError\u001b[0m\u001b[0;34m(\u001b[0m\u001b[0;34m\"Sequel should be a Fiction object to be able to work in this situation\"\u001b[0m\u001b[0;34m)\u001b[0m\u001b[0;34m\u001b[0m\u001b[0;34m\u001b[0m\u001b[0m\n\u001b[0m\u001b[1;32m      8\u001b[0m         \u001b[0mself\u001b[0m\u001b[0;34m.\u001b[0m\u001b[0msequel\u001b[0m \u001b[0;34m=\u001b[0m \u001b[0msequel\u001b[0m\u001b[0;34m\u001b[0m\u001b[0;34m\u001b[0m\u001b[0m\n\u001b[1;32m      9\u001b[0m \u001b[0;34m\u001b[0m\u001b[0m\n",
            "\u001b[0;31mValueError\u001b[0m: Sequel should be a Fiction object to be able to work in this situation"
          ]
        }
      ],
      "source": [
        "# Test, should throw an error because sequel isn't Fiction\n",
        "book1 = Nonfiction('Feynman', 'Physics', [5, 4, 5], 1)\n",
        "book2 = Fiction('Mary Shelley', 'Frankenstein', [5, 5, 5], book1)"
      ]
    },
    {
      "cell_type": "code",
      "execution_count": 23,
      "metadata": {
        "id": "0hAMucibalvs",
        "colab": {
          "base_uri": "https://localhost:8080/"
        },
        "outputId": "f273e57f-766b-48c9-f251-3b1abbb77665"
      },
      "outputs": [
        {
          "output_type": "stream",
          "name": "stdout",
          "text": [
            "['The Fellowship of the Ring', 'The Two Towers', 'The Return of the King']\n",
            "[]\n"
          ]
        }
      ],
      "source": [
        "# Test rest_of_series()\n",
        "king = Fiction('J.R.R. Tolkien', 'The Return of the King', [], None)\n",
        "towers = Fiction('J.R.R. Tolkien', 'The Two Towers', [], king)\n",
        "fellowship = Fiction('J.R.R. Tolkien', 'The Fellowship of the Ring', [], towers)\n",
        "hobbit = Fiction('J.R.R. Tolkien', 'The Hobbit', [], fellowship)\n",
        "\n",
        "print(hobbit.rest_of_series()) # Should be ['The Fellowship of the Ring', 'The Two Towers', 'The Return of the King']\n",
        "print(king.rest_of_series()) # Expect empty list []"
      ]
    },
    {
      "cell_type": "code",
      "source": [],
      "metadata": {
        "id": "bFPX0wIea6sT"
      },
      "execution_count": null,
      "outputs": []
    },
    {
      "cell_type": "markdown",
      "metadata": {
        "id": "qm9H_FxWPYhT"
      },
      "source": [
        "e, 9 pts)  Create a new BookDict class.  The argument for the constructor should be the string name of a csv file.  The csv columns in order from left to right are title, author, and a comma-separated string of ratings.  The constructor should create a dictionary from title (string) to the Book object with that title.  Call that dictionary my_dict and make it a field (attribute) of the BookDict object.  (You can assume titles are unique for this exercise.  Note that you will need to use the function float() to convert string ratings to floating point numbers.)\n",
        "\n",
        "f, 7 pts) The one other method for the BookDict, lookup(), should take a title (string) as an argument, and print the information stored in the Book for that title.  The printed information should follow the format '[title] by [author] (average_rating)' -- for example, 'Pride and Prejudice by Jane Austen (4.2)'.  Print no more than two digits after the decimal place.  lookup() should also return the Book, besides printing its information.  If the title isn't in the dictionary, print 'Not Found' and return None.  Use methods you have already created when you can.  You can again assume titles are unique."
      ]
    },
    {
      "cell_type": "code",
      "execution_count": 24,
      "metadata": {
        "id": "Y9R-L1jktq78"
      },
      "outputs": [],
      "source": [
        "# TODO BookDict class with __init__(), lookup()\n",
        "\n",
        "class BookDict:\n",
        "    def __init__(self, csv_file):\n",
        "        self.my_dict = {}\n",
        "        with open(csv_file, 'r') as f:\n",
        "            for line in f:\n",
        "                line = line.strip()\n",
        "                title, author, ratings = line.split()\n",
        "                ratings = ratings.split()\n",
        "                ratings = [float(rating) for rating in ratings]\n",
        "                self.my_dict[title] = Book(title, author, ratings)\n",
        "\n",
        "    def lookup(self, title):\n",
        "        if title in self.my_dict:\n",
        "            print(self.my_dict[title])\n",
        "            return self.my_dict[title]\n",
        "        else:\n",
        "            print('Not Found')\n",
        "            return None"
      ]
    },
    {
      "cell_type": "code",
      "execution_count": 25,
      "metadata": {
        "id": "LLci7VTbXBsD",
        "colab": {
          "base_uri": "https://localhost:8080/",
          "height": 147
        },
        "outputId": "54a1cc50-4c9e-4e98-8b30-1a8c4df47b9d"
      },
      "outputs": [
        {
          "output_type": "display_data",
          "data": {
            "text/plain": [
              "<IPython.core.display.HTML object>"
            ],
            "text/html": [
              "\n",
              "     <input type=\"file\" id=\"files-05788476-da7c-4334-823a-2ffbea51d3b6\" name=\"files[]\" multiple disabled\n",
              "        style=\"border:none\" />\n",
              "     <output id=\"result-05788476-da7c-4334-823a-2ffbea51d3b6\">\n",
              "      Upload widget is only available when the cell has been executed in the\n",
              "      current browser session. Please rerun this cell to enable.\n",
              "      </output>\n",
              "      <script>// Copyright 2017 Google LLC\n",
              "//\n",
              "// Licensed under the Apache License, Version 2.0 (the \"License\");\n",
              "// you may not use this file except in compliance with the License.\n",
              "// You may obtain a copy of the License at\n",
              "//\n",
              "//      http://www.apache.org/licenses/LICENSE-2.0\n",
              "//\n",
              "// Unless required by applicable law or agreed to in writing, software\n",
              "// distributed under the License is distributed on an \"AS IS\" BASIS,\n",
              "// WITHOUT WARRANTIES OR CONDITIONS OF ANY KIND, either express or implied.\n",
              "// See the License for the specific language governing permissions and\n",
              "// limitations under the License.\n",
              "\n",
              "/**\n",
              " * @fileoverview Helpers for google.colab Python module.\n",
              " */\n",
              "(function(scope) {\n",
              "function span(text, styleAttributes = {}) {\n",
              "  const element = document.createElement('span');\n",
              "  element.textContent = text;\n",
              "  for (const key of Object.keys(styleAttributes)) {\n",
              "    element.style[key] = styleAttributes[key];\n",
              "  }\n",
              "  return element;\n",
              "}\n",
              "\n",
              "// Max number of bytes which will be uploaded at a time.\n",
              "const MAX_PAYLOAD_SIZE = 100 * 1024;\n",
              "\n",
              "function _uploadFiles(inputId, outputId) {\n",
              "  const steps = uploadFilesStep(inputId, outputId);\n",
              "  const outputElement = document.getElementById(outputId);\n",
              "  // Cache steps on the outputElement to make it available for the next call\n",
              "  // to uploadFilesContinue from Python.\n",
              "  outputElement.steps = steps;\n",
              "\n",
              "  return _uploadFilesContinue(outputId);\n",
              "}\n",
              "\n",
              "// This is roughly an async generator (not supported in the browser yet),\n",
              "// where there are multiple asynchronous steps and the Python side is going\n",
              "// to poll for completion of each step.\n",
              "// This uses a Promise to block the python side on completion of each step,\n",
              "// then passes the result of the previous step as the input to the next step.\n",
              "function _uploadFilesContinue(outputId) {\n",
              "  const outputElement = document.getElementById(outputId);\n",
              "  const steps = outputElement.steps;\n",
              "\n",
              "  const next = steps.next(outputElement.lastPromiseValue);\n",
              "  return Promise.resolve(next.value.promise).then((value) => {\n",
              "    // Cache the last promise value to make it available to the next\n",
              "    // step of the generator.\n",
              "    outputElement.lastPromiseValue = value;\n",
              "    return next.value.response;\n",
              "  });\n",
              "}\n",
              "\n",
              "/**\n",
              " * Generator function which is called between each async step of the upload\n",
              " * process.\n",
              " * @param {string} inputId Element ID of the input file picker element.\n",
              " * @param {string} outputId Element ID of the output display.\n",
              " * @return {!Iterable<!Object>} Iterable of next steps.\n",
              " */\n",
              "function* uploadFilesStep(inputId, outputId) {\n",
              "  const inputElement = document.getElementById(inputId);\n",
              "  inputElement.disabled = false;\n",
              "\n",
              "  const outputElement = document.getElementById(outputId);\n",
              "  outputElement.innerHTML = '';\n",
              "\n",
              "  const pickedPromise = new Promise((resolve) => {\n",
              "    inputElement.addEventListener('change', (e) => {\n",
              "      resolve(e.target.files);\n",
              "    });\n",
              "  });\n",
              "\n",
              "  const cancel = document.createElement('button');\n",
              "  inputElement.parentElement.appendChild(cancel);\n",
              "  cancel.textContent = 'Cancel upload';\n",
              "  const cancelPromise = new Promise((resolve) => {\n",
              "    cancel.onclick = () => {\n",
              "      resolve(null);\n",
              "    };\n",
              "  });\n",
              "\n",
              "  // Wait for the user to pick the files.\n",
              "  const files = yield {\n",
              "    promise: Promise.race([pickedPromise, cancelPromise]),\n",
              "    response: {\n",
              "      action: 'starting',\n",
              "    }\n",
              "  };\n",
              "\n",
              "  cancel.remove();\n",
              "\n",
              "  // Disable the input element since further picks are not allowed.\n",
              "  inputElement.disabled = true;\n",
              "\n",
              "  if (!files) {\n",
              "    return {\n",
              "      response: {\n",
              "        action: 'complete',\n",
              "      }\n",
              "    };\n",
              "  }\n",
              "\n",
              "  for (const file of files) {\n",
              "    const li = document.createElement('li');\n",
              "    li.append(span(file.name, {fontWeight: 'bold'}));\n",
              "    li.append(span(\n",
              "        `(${file.type || 'n/a'}) - ${file.size} bytes, ` +\n",
              "        `last modified: ${\n",
              "            file.lastModifiedDate ? file.lastModifiedDate.toLocaleDateString() :\n",
              "                                    'n/a'} - `));\n",
              "    const percent = span('0% done');\n",
              "    li.appendChild(percent);\n",
              "\n",
              "    outputElement.appendChild(li);\n",
              "\n",
              "    const fileDataPromise = new Promise((resolve) => {\n",
              "      const reader = new FileReader();\n",
              "      reader.onload = (e) => {\n",
              "        resolve(e.target.result);\n",
              "      };\n",
              "      reader.readAsArrayBuffer(file);\n",
              "    });\n",
              "    // Wait for the data to be ready.\n",
              "    let fileData = yield {\n",
              "      promise: fileDataPromise,\n",
              "      response: {\n",
              "        action: 'continue',\n",
              "      }\n",
              "    };\n",
              "\n",
              "    // Use a chunked sending to avoid message size limits. See b/62115660.\n",
              "    let position = 0;\n",
              "    do {\n",
              "      const length = Math.min(fileData.byteLength - position, MAX_PAYLOAD_SIZE);\n",
              "      const chunk = new Uint8Array(fileData, position, length);\n",
              "      position += length;\n",
              "\n",
              "      const base64 = btoa(String.fromCharCode.apply(null, chunk));\n",
              "      yield {\n",
              "        response: {\n",
              "          action: 'append',\n",
              "          file: file.name,\n",
              "          data: base64,\n",
              "        },\n",
              "      };\n",
              "\n",
              "      let percentDone = fileData.byteLength === 0 ?\n",
              "          100 :\n",
              "          Math.round((position / fileData.byteLength) * 100);\n",
              "      percent.textContent = `${percentDone}% done`;\n",
              "\n",
              "    } while (position < fileData.byteLength);\n",
              "  }\n",
              "\n",
              "  // All done.\n",
              "  yield {\n",
              "    response: {\n",
              "      action: 'complete',\n",
              "    }\n",
              "  };\n",
              "}\n",
              "\n",
              "scope.google = scope.google || {};\n",
              "scope.google.colab = scope.google.colab || {};\n",
              "scope.google.colab._files = {\n",
              "  _uploadFiles,\n",
              "  _uploadFilesContinue,\n",
              "};\n",
              "})(self);\n",
              "</script> "
            ]
          },
          "metadata": {}
        },
        {
          "output_type": "stream",
          "name": "stdout",
          "text": [
            "Saving books2.csv to books2 (1).csv\n"
          ]
        },
        {
          "output_type": "execute_result",
          "data": {
            "text/plain": [
              "{'books2.csv': b'Pride and Prejudice,Jane Austen,\"4, 4, 4, 4, 5\"\\r\\nSense and Sensibility,Jane Austen,\"3, 4, 3, 4, 5, 4, 4\"\\r\\n1Q84,Haruki Murakami,\"4,2,5,3,4,3,3,5\"\\r\\n\"Little, Big\",John Crowley,\"4,3,5,4,3,4,5,5\"\\r\\nPossession,A.S. Byatt,\"3,5,4,5,4,5,5\"\\r\\nDragons of Autumn Twilight,Margaret Weis and Tracy Hickman,\"2,5,1,4,3,3,4,4,2\"\\r\\nUnder the Whispering Door,T.J. Klune,\"4,5,5,4,3,3,4\"\\r\\nThe Hitchhiker\\xe2\\x80\\x99s Guide To the Galaxy,Douglas Adams,\"5,3,5,4,5,5,2,5\"'}"
            ]
          },
          "metadata": {},
          "execution_count": 25
        }
      ],
      "source": [
        "from google.colab import files\n",
        "files.upload() # Upload books2.csv"
      ]
    },
    {
      "cell_type": "code",
      "execution_count": 26,
      "metadata": {
        "id": "EnqIm7luXO6-",
        "colab": {
          "base_uri": "https://localhost:8080/",
          "height": 340
        },
        "outputId": "cc6aaac5-d7c8-4fa9-f4b7-5450588da86e"
      },
      "outputs": [
        {
          "output_type": "error",
          "ename": "ValueError",
          "evalue": "ignored",
          "traceback": [
            "\u001b[0;31m---------------------------------------------------------------------------\u001b[0m",
            "\u001b[0;31mValueError\u001b[0m                                Traceback (most recent call last)",
            "\u001b[0;32m<ipython-input-26-f33d1e37b693>\u001b[0m in \u001b[0;36m<module>\u001b[0;34m\u001b[0m\n\u001b[1;32m      1\u001b[0m \u001b[0;31m# Test:  should print 'Pride and Prejudice by Jane Austen (4.2)'\u001b[0m\u001b[0;34m\u001b[0m\u001b[0;34m\u001b[0m\u001b[0;34m\u001b[0m\u001b[0m\n\u001b[0;32m----> 2\u001b[0;31m \u001b[0mmy_bookdict\u001b[0m \u001b[0;34m=\u001b[0m \u001b[0mBookDict\u001b[0m\u001b[0;34m(\u001b[0m\u001b[0;34m'books2.csv'\u001b[0m\u001b[0;34m)\u001b[0m\u001b[0;34m\u001b[0m\u001b[0;34m\u001b[0m\u001b[0m\n\u001b[0m\u001b[1;32m      3\u001b[0m \u001b[0mmy_book\u001b[0m \u001b[0;34m=\u001b[0m \u001b[0mmy_bookdict\u001b[0m\u001b[0;34m.\u001b[0m\u001b[0mlookup\u001b[0m\u001b[0;34m(\u001b[0m\u001b[0;34m'Pride and Prejudice'\u001b[0m\u001b[0;34m)\u001b[0m\u001b[0;34m\u001b[0m\u001b[0;34m\u001b[0m\u001b[0m\n\u001b[1;32m      4\u001b[0m \u001b[0mbook2\u001b[0m \u001b[0;34m=\u001b[0m \u001b[0mmy_bookdict\u001b[0m\u001b[0;34m.\u001b[0m\u001b[0mlookup\u001b[0m\u001b[0;34m(\u001b[0m\u001b[0;34m'Erehwon'\u001b[0m\u001b[0;34m)\u001b[0m\u001b[0;34m\u001b[0m\u001b[0;34m\u001b[0m\u001b[0m\n",
            "\u001b[0;32m<ipython-input-24-3e6d05340af1>\u001b[0m in \u001b[0;36m__init__\u001b[0;34m(self, csv_file)\u001b[0m\n\u001b[1;32m      7\u001b[0m             \u001b[0;32mfor\u001b[0m \u001b[0mline\u001b[0m \u001b[0;32min\u001b[0m \u001b[0mf\u001b[0m\u001b[0;34m:\u001b[0m\u001b[0;34m\u001b[0m\u001b[0;34m\u001b[0m\u001b[0m\n\u001b[1;32m      8\u001b[0m                 \u001b[0mline\u001b[0m \u001b[0;34m=\u001b[0m \u001b[0mline\u001b[0m\u001b[0;34m.\u001b[0m\u001b[0mstrip\u001b[0m\u001b[0;34m(\u001b[0m\u001b[0;34m)\u001b[0m\u001b[0;34m\u001b[0m\u001b[0;34m\u001b[0m\u001b[0m\n\u001b[0;32m----> 9\u001b[0;31m                 \u001b[0mtitle\u001b[0m\u001b[0;34m,\u001b[0m \u001b[0mauthor\u001b[0m\u001b[0;34m,\u001b[0m \u001b[0mratings\u001b[0m \u001b[0;34m=\u001b[0m \u001b[0mline\u001b[0m\u001b[0;34m.\u001b[0m\u001b[0msplit\u001b[0m\u001b[0;34m(\u001b[0m\u001b[0;34m)\u001b[0m\u001b[0;34m\u001b[0m\u001b[0;34m\u001b[0m\u001b[0m\n\u001b[0m\u001b[1;32m     10\u001b[0m                 \u001b[0mratings\u001b[0m \u001b[0;34m=\u001b[0m \u001b[0mratings\u001b[0m\u001b[0;34m.\u001b[0m\u001b[0msplit\u001b[0m\u001b[0;34m(\u001b[0m\u001b[0;34m)\u001b[0m\u001b[0;34m\u001b[0m\u001b[0;34m\u001b[0m\u001b[0m\n\u001b[1;32m     11\u001b[0m                 \u001b[0mratings\u001b[0m \u001b[0;34m=\u001b[0m \u001b[0;34m[\u001b[0m\u001b[0mfloat\u001b[0m\u001b[0;34m(\u001b[0m\u001b[0mrating\u001b[0m\u001b[0;34m)\u001b[0m \u001b[0;32mfor\u001b[0m \u001b[0mrating\u001b[0m \u001b[0;32min\u001b[0m \u001b[0mratings\u001b[0m\u001b[0;34m]\u001b[0m\u001b[0;34m\u001b[0m\u001b[0;34m\u001b[0m\u001b[0m\n",
            "\u001b[0;31mValueError\u001b[0m: too many values to unpack (expected 3)"
          ]
        }
      ],
      "source": [
        "# Test:  should print 'Pride and Prejudice by Jane Austen (4.2)'\n",
        "my_bookdict = BookDict('books2.csv')\n",
        "my_book = my_bookdict.lookup('Pride and Prejudice')\n",
        "book2 = my_bookdict.lookup('Erehwon')"
      ]
    }
  ],
  "metadata": {
    "colab": {
      "collapsed_sections": [],
      "provenance": []
    },
    "kernelspec": {
      "display_name": "Python 3",
      "language": "python",
      "name": "python3"
    },
    "language_info": {
      "codemirror_mode": {
        "name": "ipython",
        "version": 3
      },
      "file_extension": ".py",
      "mimetype": "text/x-python",
      "name": "python",
      "nbconvert_exporter": "python",
      "pygments_lexer": "ipython3",
      "version": "3.8.8"
    }
  },
  "nbformat": 4,
  "nbformat_minor": 0
}