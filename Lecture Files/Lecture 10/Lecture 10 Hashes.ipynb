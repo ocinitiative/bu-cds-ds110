{
 "cells": [
  {
   "cell_type": "markdown",
   "metadata": {
    "slideshow": {
     "slide_type": "slide"
    }
   },
   "source": [
    "# Dictionaries and Sets"
   ]
  },
  {
   "cell_type": "markdown",
   "metadata": {
    "id": "a4vKF3L6_Ofq",
    "slideshow": {
     "slide_type": "slide"
    }
   },
   "source": [
    "# Using dictionaries\n",
    "\n",
    "Dictionaries are common and useful in Python for organizing stored data.  They let you look up a value using a string instead of a number.  The string you use to look up the item is called a **key**, and the value retreived is called the **value**.\n"
   ]
  },
  {
   "cell_type": "markdown",
   "metadata": {
    "slideshow": {
     "slide_type": "subslide"
    }
   },
   "source": [
    "\n",
    "In the following example, we create an array of prices for some foods at a restaurant, and then look up the value for the salmon."
   ]
  },
  {
   "cell_type": "code",
   "execution_count": 5,
   "metadata": {
    "colab": {
     "base_uri": "https://localhost:8080/"
    },
    "id": "q48inFGh_Hbb",
    "outputId": "5de4f552-3aa7-401f-aeb5-24ebfece63ba",
    "slideshow": {
     "slide_type": "-"
    }
   },
   "outputs": [
    {
     "name": "stdout",
     "output_type": "stream",
     "text": [
      "25\n"
     ]
    }
   ],
   "source": [
    "my_menu_dict = {\n",
    "    \"Salmon\": 25,\n",
    "    \"Steak\": 30,\n",
    "    \"Mac and cheese\" : 18\n",
    "}\n",
    "\n",
    "print(my_menu_dict[\"Salmon\"])"
   ]
  },
  {
   "cell_type": "markdown",
   "metadata": {
    "id": "Wa9MZOT3BQkV",
    "slideshow": {
     "slide_type": "subslide"
    }
   },
   "source": [
    "We could instead initialize an empty dictionary and then insert the key-value pairs.  That would look like this:"
   ]
  },
  {
   "cell_type": "code",
   "execution_count": 6,
   "metadata": {
    "colab": {
     "base_uri": "https://localhost:8080/"
    },
    "id": "hsPHOfMRBX-l",
    "outputId": "b3a1fa08-0cdf-4b10-8c4f-31755343a627",
    "slideshow": {
     "slide_type": "-"
    }
   },
   "outputs": [
    {
     "name": "stdout",
     "output_type": "stream",
     "text": [
      "25\n"
     ]
    }
   ],
   "source": [
    "my_menu_dict = {} # empty dictionary\n",
    "my_menu_dict[\"Salmon\"] = 25\n",
    "my_menu_dict[\"Steak\"] = 30\n",
    "my_menu_dict[\"Mac and cheese\"] = 18\n",
    "\n",
    "print(my_menu_dict[\"Salmon\"])"
   ]
  },
  {
   "cell_type": "markdown",
   "metadata": {
    "id": "HdcFjwqJEpwX",
    "slideshow": {
     "slide_type": "subslide"
    }
   },
   "source": [
    "Depending on what you're doing, you may want your dictionary to return a default value if the key isn't found; if you don't specify this, you will get a KeyError if you try to look up a key with no stored value.  You get do this with the get() method, which takes a key to look up as its first value, and the default value to retrieve as the second value.  This takes the place of looking up the value with square brackets."
   ]
  },
  {
   "cell_type": "code",
   "execution_count": 10,
   "metadata": {
    "colab": {
     "base_uri": "https://localhost:8080/"
    },
    "id": "dZuknbZnEo0d",
    "outputId": "3b4d45ed-73e5-41df-fa9c-fb931cca6aa8",
    "slideshow": {
     "slide_type": "-"
    }
   },
   "outputs": [
    {
     "data": {
      "text/plain": [
       "0"
      ]
     },
     "execution_count": 10,
     "metadata": {},
     "output_type": "execute_result"
    }
   ],
   "source": [
    "my_dict = {}\n",
    "my_dict.get('sushi', 0)"
   ]
  },
  {
   "cell_type": "markdown",
   "metadata": {
    "id": "uKBcy5DNBrW9",
    "slideshow": {
     "slide_type": "subslide"
    }
   },
   "source": [
    "There are other ways we could store data.  We could, for example, store everything in lists of tuples, and iterate down the list looking for the right menu item.  But, that would be slow if we planned to do a lot of lookups - every one of them would involve a little search for the right word.\n",
    "\n",
    "Dictionaries are *expected constant time* for lookups, which means that they don't get slower as the number of items stored gets bigger."
   ]
  },
  {
   "cell_type": "markdown",
   "metadata": {
    "id": "-re89fnXCa8D",
    "slideshow": {
     "slide_type": "slide"
    }
   },
   "source": [
    "# Why hash tables are fast\n",
    "\n",
    "Dictionaries are fast because they use a technique called *hashing* to ensure they're fast.  But before we can explain hashing, we need to take a step back and explain why arrays are fast.\n"
   ]
  },
  {
   "cell_type": "markdown",
   "metadata": {
    "slideshow": {
     "slide_type": "subslide"
    }
   },
   "source": [
    "\n",
    "Recall that arrays also are thought to be fast as data structures.  They index by natural numbers, not strings.  When indexing into an array, it doesn't need to look through all the data to find the matching record.  Rather, it takes the address in memory where the array starts, and adds (size of data type * index) to that to get the correct address.  All it needs is a quick computation to find the right place in memory given an index.\n"
   ]
  },
  {
   "cell_type": "markdown",
   "metadata": {
    "slideshow": {
     "slide_type": "subslide"
    }
   },
   "source": [
    "\n",
    "Hashing similarly only needs a quick computation on the key to figure out where it should go.  A *hash function* is a function specially designed to send data to an address within a range seemingly at random.  The function isn't actually random, which is good, because we'll want to find the data again quickly in the same spot where we left it.  Giving the same argument to the hash function always produces the same arbitrary value.\n"
   ]
  },
  {
   "cell_type": "markdown",
   "metadata": {
    "slideshow": {
     "slide_type": "subslide"
    }
   },
   "source": [
    "\n",
    "The hash function is just designed to spread the data evenly over the space allocated to the hash table.  It's deterministic, so the data will be found again in the same place by calling the hash function again.  But it's \"pseudorandom,\" in the sense that it spreads out the data so well and with such apparent unpredictability that we may as well treat the function as producing a random index.\n"
   ]
  },
  {
   "cell_type": "markdown",
   "metadata": {
    "slideshow": {
     "slide_type": "subslide"
    }
   },
   "source": [
    "\n",
    "What might this hash function look like?  One approach for a string could be to read its bits as a number $M$, then compute $M^n$ mod $p$ for some large numbers $p$ and $n$.  It isn't supposed to make sense relative to what the string said; in fact, rather the opposite, because we want it to say very different results for very similar strings, lest we get *collisions* where multiple pieces of data try to go to the same place.\n"
   ]
  },
  {
   "cell_type": "markdown",
   "metadata": {
    "slideshow": {
     "slide_type": "subslide"
    }
   },
   "source": [
    "\n",
    "Collisions are something that could slow us down, but aside from those, storing data and looking up data both take a short amount of time that doesn't change with the amount of data stored.  It's just a quick computation of a hash function in either case to find the right address in memory."
   ]
  },
  {
   "cell_type": "markdown",
   "metadata": {
    "id": "-XmL03LIFuV1",
    "slideshow": {
     "slide_type": "slide"
    }
   },
   "source": [
    "# Collisions\n",
    "\n",
    "Suppose we find that applying the hash function to two different keys produces the same address for both.  This should be always possible, since there are more possible strings than locations in the hash table's memory.  What happens next?\n",
    "\n"
   ]
  },
  {
   "cell_type": "markdown",
   "metadata": {
    "slideshow": {
     "slide_type": "subslide"
    }
   },
   "source": [
    "In Python dictionaries, the scheme it uses is called \"open addressing.\"  If the hash function said to store the value at address h, and that's occupied, it'll query another function for where to try next. Similar to the first call, the subsequent calls also generate random-looking addresses to try.\n",
    "\n"
   ]
  },
  {
   "cell_type": "markdown",
   "metadata": {
    "slideshow": {
     "slide_type": "subslide"
    }
   },
   "source": [
    "This continues until it finds a space or decides there's no room at all - an unusual occurrence.\n",
    "\n",
    "Lookup goes through a similar process, reconstructing the addresses that would have been tried on storing the value."
   ]
  },
  {
   "cell_type": "markdown",
   "metadata": {
    "id": "CFBxRPhlIRD9",
    "slideshow": {
     "slide_type": "slide"
    }
   },
   "source": [
    "# Example of dictionary in action\n",
    "\n",
    "Something that machine learning sometimes wants to do to text is count how many times each word appears in the text.  The frequency of different words can help to tell you who wrote a piece, and what they were feeling at the time.\n"
   ]
  },
  {
   "cell_type": "code",
   "execution_count": 11,
   "metadata": {
    "colab": {
     "base_uri": "https://localhost:8080/"
    },
    "id": "PEf6PASFI5es",
    "outputId": "73efe514-7bcd-4cc8-d625-bc298f31d23a",
    "slideshow": {
     "slide_type": "subslide"
    }
   },
   "outputs": [
    {
     "name": "stdout",
     "output_type": "stream",
     "text": [
      "2\n",
      "10\n"
     ]
    }
   ],
   "source": [
    "two_cities = \"\"\"It was the best of times, it was the worst of times,\n",
    " it was the age of wisdom, it was the age of foolishness, it was the epoch of belief,\n",
    " it was the epoch of incredulity, it was the season of light, it was the season of darkness,\n",
    " it was the spring of hope, it was the winter of despair.\"\"\"\n",
    "\n",
    "worddict = {}\n",
    "wordlist = two_cities.split()\n",
    "for word in wordlist:\n",
    "  if word in worddict:  # Check for presence of key\n",
    "    worddict[word] += 1\n",
    "  else:\n",
    "    worddict[word] = 1\n",
    "\n",
    "print(worddict[\"age\"])\n",
    "print(worddict[\"of\"])"
   ]
  },
  {
   "cell_type": "markdown",
   "metadata": {
    "id": "wyf9DiJYL5SU",
    "slideshow": {
     "slide_type": "slide"
    }
   },
   "source": [
    "# Iterating over a dictionary\n",
    "\n",
    "You can iterate over a dictionary using items() to generate key, value pairs.  You can also call individual functions to get just the keys or the just the values; these are keys() and values(), not demonstrated here.\n",
    "\n",
    "(This also reveals we weren't careful about handling capitalization and punctuation before making our counts - ideally, we should use a more advanced function to break the sentence into parts, called a tokenizer.)"
   ]
  },
  {
   "cell_type": "code",
   "execution_count": 12,
   "metadata": {
    "colab": {
     "base_uri": "https://localhost:8080/"
    },
    "id": "JWC02ZgVMU5F",
    "outputId": "1f70018a-f744-4bc5-f660-cd42ae683dad",
    "slideshow": {
     "slide_type": "-"
    }
   },
   "outputs": [
    {
     "name": "stdout",
     "output_type": "stream",
     "text": [
      "It:1\n",
      "was:10\n",
      "the:10\n",
      "best:1\n",
      "of:10\n",
      "times,:2\n",
      "it:9\n",
      "worst:1\n",
      "age:2\n",
      "wisdom,:1\n",
      "foolishness,:1\n",
      "epoch:2\n",
      "belief,:1\n",
      "incredulity,:1\n",
      "season:2\n",
      "light,:1\n",
      "darkness,:1\n",
      "spring:1\n",
      "hope,:1\n",
      "winter:1\n",
      "despair.:1\n"
     ]
    }
   ],
   "source": [
    "for word, count in worddict.items():\n",
    "  print(word + \":\" + str(count))"
   ]
  },
  {
   "cell_type": "markdown",
   "metadata": {
    "id": "haFzPxdRKaQl",
    "slideshow": {
     "slide_type": "slide"
    }
   },
   "source": [
    "# Sets\n",
    "\n",
    "Sometimes there are no key-value relationships to remember, just a set of keys.  For example, a set of IP addresses may be banned from connecting to our server.  \n",
    "\n",
    "This is a good application for sets, which just store keys using hash tables.  As with dictionaries, we could just store the data in lists, but that would be inefficient if we want a quick lookup (there are lots of IP addresses out there)."
   ]
  },
  {
   "cell_type": "code",
   "execution_count": 15,
   "metadata": {
    "colab": {
     "base_uri": "https://localhost:8080/"
    },
    "id": "EsX2X0iGK-PE",
    "outputId": "4223be51-4012-4ee3-983a-84d8f8461df4",
    "slideshow": {
     "slide_type": "-"
    }
   },
   "outputs": [
    {
     "data": {
      "text/plain": [
       "4"
      ]
     },
     "execution_count": 15,
     "metadata": {},
     "output_type": "execute_result"
    }
   ],
   "source": [
    "bigIPs = {\"209.85.231.104\", \"207.46.170.123\", \"72.30.2.43\"}\n",
    "\n",
    "bigIPs.add(\"208.80.152.2\")\n",
    "len(bigIPs)"
   ]
  },
  {
   "cell_type": "code",
   "execution_count": 13,
   "metadata": {
    "colab": {
     "base_uri": "https://localhost:8080/"
    },
    "id": "adxM__W5Ec2w",
    "outputId": "742adc47-3190-4d8b-db11-510af50452c9",
    "slideshow": {
     "slide_type": "subslide"
    }
   },
   "outputs": [
    {
     "name": "stdout",
     "output_type": "stream",
     "text": [
      "True\n"
     ]
    }
   ],
   "source": [
    "newset = set()\n",
    "newset.add(\"First item\")\n",
    "print(\"First item\" in newset)"
   ]
  },
  {
   "cell_type": "markdown",
   "metadata": {
    "id": "4QaHtn0oObHU",
    "slideshow": {
     "slide_type": "slide"
    }
   },
   "source": [
    "# in\n",
    "\n",
    "Python tries to give some shared functionality across its different container data structures, but the implementation is very different.  \"in\" works for dictionaries, sets, and lists, returning true if the key or item is present.  But in dictionaries and sets, the actual implementation is a quick hash function, while for lists, the list is scanned for the item."
   ]
  },
  {
   "cell_type": "code",
   "execution_count": 16,
   "metadata": {
    "colab": {
     "base_uri": "https://localhost:8080/"
    },
    "id": "CPpk9CQVNPs-",
    "outputId": "69977a5c-c8b9-45e1-df87-7d03050a0b93",
    "slideshow": {
     "slide_type": "-"
    }
   },
   "outputs": [
    {
     "data": {
      "text/plain": [
       "True"
      ]
     },
     "execution_count": 16,
     "metadata": {},
     "output_type": "execute_result"
    }
   ],
   "source": [
    "\"72.30.2.43\" in bigIPs"
   ]
  },
  {
   "cell_type": "code",
   "execution_count": 17,
   "metadata": {
    "colab": {
     "base_uri": "https://localhost:8080/"
    },
    "id": "UlJVF9AQO4J3",
    "outputId": "0a23f1a2-8bb2-4cdc-cfca-db4135b2736f",
    "slideshow": {
     "slide_type": "subslide"
    }
   },
   "outputs": [
    {
     "data": {
      "text/plain": [
       "True"
      ]
     },
     "execution_count": 17,
     "metadata": {},
     "output_type": "execute_result"
    }
   ],
   "source": [
    "bigIPsList = [\"209.85.231.104\", \"207.46.170.123\", \"72.30.2.43\"]\n",
    "\"72.30.2.43\" in bigIPsList"
   ]
  },
  {
   "cell_type": "markdown",
   "metadata": {
    "id": "PmkTxb1nPFdR",
    "slideshow": {
     "slide_type": "slide"
    }
   },
   "source": [
    "# SpeedDemo\n",
    "\n",
    "Here's a demo of the speed difference between searching lists and looking up in dictionaries.  It gets more significant with bigger tables."
   ]
  },
  {
   "cell_type": "code",
   "execution_count": 18,
   "metadata": {
    "colab": {
     "base_uri": "https://localhost:8080/"
    },
    "id": "J94X15vCPR_j",
    "outputId": "1cff4821-3b81-4f79-9229-a5d55feec58c",
    "slideshow": {
     "slide_type": "-"
    }
   },
   "outputs": [
    {
     "name": "stdout",
     "output_type": "stream",
     "text": [
      "CPU times: user 1.2 ms, sys: 68 µs, total: 1.27 ms\n",
      "Wall time: 1.42 ms\n"
     ]
    }
   ],
   "source": [
    "two_cities_extended = \"\"\"It was the best of times,\n",
    "it was the worst of times, it was the age of wisdom,\n",
    "it was the age of foolishness, it was the epoch of belief,\n",
    "it was the epoch of incredulity, it was the season of Light,\n",
    "it was the season of Darkness, it was the spring of hope,\n",
    "it was the winter of despair, we had everything before us,\n",
    "we had nothing before us, we were all going direct to Heaven,\n",
    "we were all going direct the other way--in short, the period was\n",
    "so far like the present period that some of its noisiest authorities\n",
    "insisted on its being received, for good or for evil, in the superlative\n",
    "degree of comparison only.\n",
    "\n",
    "There were a king with a large jaw and a queen with a plain face,\n",
    "on the throne of England; there were a king with a large jaw and a\n",
    "queen with a fair face, on the throne of France. In both countries\n",
    "it was clearer than crystal to the lords of the State preserves of\n",
    "loaves and fishes, that things in general were settled for ever.\n",
    "\n",
    "It was the year of Our Lord one thousand seven hundred and seventy-five.\n",
    "Spiritual revelations were conceded to England at that favoured period,\n",
    "as at this. Mrs. Southcott had recently attained her five-and-twentieth\n",
    "blessed birthday, of whom a prophetic private in the Life Guards had heralded\n",
    "the sublime appearance by announcing that arrangements were made for the\n",
    "swallowing up of London and Westminster. Even the Cock-lane ghost had been\n",
    "laid only a round dozen of years, after rapping out its messages, as the\n",
    "spirits of this very year last past (supernaturally deficient in originality)\n",
    "rapped out theirs. Mere messages in the earthly order of events had lately\n",
    "come to the English Crown and People, from a congress of British subjects\n",
    "in America: which, strange to relate, have proved more important to the human\n",
    "race than any communications yet received through any of the chickens of the\n",
    "Cock-lane brood. \n",
    "\"\"\"\n",
    "\n",
    "# Both pieces of timed code look for every word in their respective data structures\n",
    "\n",
    "wordlist = two_cities_extended.split()\n",
    "\n",
    "# Using a list\n",
    "def find_by_list(wordlist):\n",
    "  for word in wordlist:\n",
    "    if word in wordlist:\n",
    "        continue # Move on to next loop\n",
    "\n",
    "%time find_by_list(wordlist)\n"
   ]
  },
  {
   "cell_type": "code",
   "execution_count": 19,
   "metadata": {
    "colab": {
     "base_uri": "https://localhost:8080/"
    },
    "id": "rmwQly83Qnev",
    "outputId": "c563c96f-e0e4-4a1c-9617-e1302482af72",
    "slideshow": {
     "slide_type": "-"
    }
   },
   "outputs": [
    {
     "name": "stdout",
     "output_type": "stream",
     "text": [
      "CPU times: user 48 µs, sys: 1 µs, total: 49 µs\n",
      "Wall time: 55.8 µs\n"
     ]
    }
   ],
   "source": [
    "# Using dictionary\n",
    "worddict = {}\n",
    "for word in wordlist:\n",
    "  if word in worddict:\n",
    "    worddict[word] += 1\n",
    "  else:\n",
    "    worddict[word] = 1\n",
    "\n",
    "def find_by_dict(wordlist, dict):\n",
    "  for word in wordlist:\n",
    "    if word in dict:\n",
    "      continue # Move on to next iteration of the for loop\n",
    "\n",
    "%time find_by_dict(wordlist,worddict)"
   ]
  },
  {
   "cell_type": "markdown",
   "metadata": {
    "id": "5iBL1HDRYSjN",
    "slideshow": {
     "slide_type": "slide"
    }
   },
   "source": [
    "# Pass by reference\n",
    "\n",
    "As long as we're talking about lists, dictionaries, and sets, there's another point these all have in common:  they don't get copied when they are passed to functions or assigned to variables.  The new variable in question gets a copy of the *address* of the data, but any changes inside the function or from the new variable will be seen on the original copy.  This is to avoid the time it would take to copy the data, which may be unnecessary.  But it is confusing to the newcomer.\n",
    "\n",
    "This is best illustrated with examples."
   ]
  },
  {
   "cell_type": "code",
   "execution_count": 20,
   "metadata": {
    "colab": {
     "base_uri": "https://localhost:8080/"
    },
    "id": "GZpqZGw0Yxz4",
    "outputId": "91eccddc-3481-4f06-eeea-ff5043e665aa",
    "slideshow": {
     "slide_type": "-"
    }
   },
   "outputs": [
    {
     "name": "stdout",
     "output_type": "stream",
     "text": [
      "{'a': 1000, 'b': 500}\n"
     ]
    }
   ],
   "source": [
    "mydict = {\"a\":1000}\n",
    "dict2 = mydict # gets the address, so any changes are permanent to the original\n",
    "dict2[\"b\"] = 500\n",
    "print(mydict) # we modified the original!"
   ]
  },
  {
   "cell_type": "code",
   "execution_count": 21,
   "metadata": {
    "colab": {
     "base_uri": "https://localhost:8080/"
    },
    "id": "1cRXbooyZVYi",
    "outputId": "eb451644-67fe-4605-b9ae-b9096ba7ec4d",
    "slideshow": {
     "slide_type": "subslide"
    }
   },
   "outputs": [
    {
     "name": "stdout",
     "output_type": "stream",
     "text": [
      "['a', 'b', 1]\n"
     ]
    }
   ],
   "source": [
    "def add1(mylist):\n",
    "  mylist.append(1)\n",
    "  return mylist\n",
    "\n",
    "mylist = [\"a\",\"b\"]\n",
    "mylist2 = add1(mylist)\n",
    "print(mylist)  # changes were permanent here"
   ]
  },
  {
   "cell_type": "markdown",
   "metadata": {
    "id": "uvxeKU-LZwW4",
    "slideshow": {
     "slide_type": "subslide"
    }
   },
   "source": [
    "As a reminder, more primitive types don't work like this."
   ]
  },
  {
   "cell_type": "code",
   "execution_count": 22,
   "metadata": {
    "colab": {
     "base_uri": "https://localhost:8080/"
    },
    "id": "W4x8N1BLZ_-e",
    "outputId": "1158dd2c-775a-484e-c24e-08f134c1fa74",
    "slideshow": {
     "slide_type": "-"
    }
   },
   "outputs": [
    {
     "name": "stdout",
     "output_type": "stream",
     "text": [
      "10\n"
     ]
    }
   ],
   "source": [
    "def add1(a):\n",
    "  a += 1 # not returned and not by reference, so it's forgotten on return\n",
    "\n",
    "a = 10\n",
    "add1(a)\n",
    "print(a) # still 10"
   ]
  },
  {
   "cell_type": "markdown",
   "metadata": {
    "id": "eArmKaVqaevF",
    "slideshow": {
     "slide_type": "subslide"
    }
   },
   "source": [
    "This is actually a very important point for avoiding bugs, especially working with lists - there's a grave danger of handing off a value thinking it's a copy, and then modifying the original data structure accidentally.\n",
    "\n",
    "Working with memory is on the expensive side as operations go, and this behavior makes sure large blocks of memory aren't copied unless the programmer specifically requests them with copy() functions."
   ]
  },
  {
   "cell_type": "code",
   "execution_count": 23,
   "metadata": {
    "colab": {
     "base_uri": "https://localhost:8080/"
    },
    "id": "lEsswDZqbAbk",
    "outputId": "a37b4a62-8823-41ef-e8bc-2a2eddfff5dd",
    "slideshow": {
     "slide_type": "subslide"
    }
   },
   "outputs": [
    {
     "name": "stdout",
     "output_type": "stream",
     "text": [
      "['a', 'b']\n",
      "['a', 'b', 1]\n"
     ]
    }
   ],
   "source": [
    "def add1(mylist):\n",
    "  # Returns a copy of the list with \"1\" appended\n",
    "  list2 = mylist.copy()\n",
    "  list2.append(1) # original list is now unmodified\n",
    "  return list2\n",
    "\n",
    "mylist = [\"a\",\"b\"]\n",
    "mylist2 = add1(mylist)\n",
    "print(mylist)  # changes were made to original before, now they're not\n",
    "print(mylist2)"
   ]
  },
  {
   "cell_type": "markdown",
   "metadata": {
    "id": "5OwMu7ZUCESX",
    "slideshow": {
     "slide_type": "slide"
    }
   },
   "source": [
    "# Exercise\n",
    "\n",
    "Does the longer passage from *A Tale of Two Cities* use all the letters of the alphabet?  Find out by first populating a set with the letters inside (note that you can index into strings as if they were lists, with []).  Then iterate over string.ascii_lowercase (a string containing all lowercase letters of the alphabet) checking whether each letter is in the set.  (This method is faster than some other possible approaches because it makes only a single pass through the original long string.)\n"
   ]
  },
  {
   "cell_type": "code",
   "execution_count": 24,
   "metadata": {
    "colab": {
     "base_uri": "https://localhost:8080/"
    },
    "id": "tjcvsxwrCw_H",
    "outputId": "17c7a98d-3a4c-4f07-8fae-b4150640a733",
    "slideshow": {
     "slide_type": "slide"
    }
   },
   "outputs": [
    {
     "name": "stdout",
     "output_type": "stream",
     "text": [
      "Missing: x\n"
     ]
    },
    {
     "data": {
      "text/plain": [
       "False"
      ]
     },
     "execution_count": 24,
     "metadata": {},
     "output_type": "execute_result"
    }
   ],
   "source": [
    "from string import ascii_lowercase\n",
    "# To iterate through lc letters, \"for c in ascii_lowercase\"\n",
    "\n",
    "myset = set()\n",
    "for i in range(len(two_cities_extended)):\n",
    "  myset.add(two_cities_extended[i].lower())\n",
    "\n",
    "def checkletters(myset):\n",
    "  for c in ascii_lowercase:\n",
    "    if c not in myset:\n",
    "      print(\"Missing: \" + c)\n",
    "      return False\n",
    "  print(\"All found\")\n",
    "  return True\n",
    "\n",
    "checkletters(myset)"
   ]
  }
 ],
 "metadata": {
  "celltoolbar": "Slideshow",
  "colab": {
   "name": "Lecture8Hashes_after.ipynb",
   "provenance": []
  },
  "kernelspec": {
   "display_name": "Python 3",
   "language": "python",
   "name": "python3"
  },
  "language_info": {
   "codemirror_mode": {
    "name": "ipython",
    "version": 3
   },
   "file_extension": ".py",
   "mimetype": "text/x-python",
   "name": "python",
   "nbconvert_exporter": "python",
   "pygments_lexer": "ipython3",
   "version": "3.8.8"
  },
  "rise": {
   "scroll": true
  }
 },
 "nbformat": 4,
 "nbformat_minor": 1
}
