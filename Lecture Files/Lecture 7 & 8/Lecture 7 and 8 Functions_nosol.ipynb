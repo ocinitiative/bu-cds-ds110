{
 "cells": [
  {
   "cell_type": "markdown",
   "metadata": {
    "slideshow": {
     "slide_type": "slide"
    }
   },
   "source": [
    "# Functions"
   ]
  },
  {
   "cell_type": "markdown",
   "metadata": {
    "slideshow": {
     "slide_type": "slide"
    }
   },
   "source": [
    "## What is a function?\n",
    "\n",
    "A function is some code that takes some inputs (arguments) and calculates a value (the return value).  The arguments and return value could be of any types - integers, strings, boolean values, or more complex data types are all possible.  If the function does something else besides calculate its return value, like print something to the screen, this is considered a \"side effect\" of the function.\n"
   ]
  },
  {
   "cell_type": "markdown",
   "metadata": {
    "slideshow": {
     "slide_type": "slide"
    }
   },
   "source": [
    "Many functions have already been written for you in Python, and you just need to import the right library to use them.  But if you write code of any significant length, you will eventually want to define your own functions."
   ]
  },
  {
   "cell_type": "markdown",
   "metadata": {
    "slideshow": {
     "slide_type": "slide"
    }
   },
   "source": [
    "When you write a function, you state the arguments (input) you expect, then write the body of the function that calculates the value, then you write the return value.  Here's a function that appends an s to its argument."
   ]
  },
  {
   "cell_type": "code",
   "execution_count": null,
   "metadata": {
    "slideshow": {
     "slide_type": "-"
    }
   },
   "outputs": [],
   "source": [
    "def add_an_s(string):\n",
    "    new_string = string + 's'\n",
    "    return new_string\n",
    "\n",
    "add_an_s('example')"
   ]
  },
  {
   "cell_type": "markdown",
   "metadata": {
    "id": "nldGwUuWyiyg",
    "slideshow": {
     "slide_type": "slide"
    }
   },
   "source": [
    "## Why functions?"
   ]
  },
  {
   "cell_type": "markdown",
   "metadata": {
    "slideshow": {
     "slide_type": "subslide"
    }
   },
   "source": [
    "\n",
    "Without writing functions, code tends to get long, repetitive, and error-prone.  It gets long because every time a tiny detail of what you want to do is changed, you'd need to copy-paste the code with the one small detail changed everywhere it appears.  It gets error-prone because you may miss a spot where the code needed to change, and now you have a bug.\n"
   ]
  },
  {
   "cell_type": "markdown",
   "metadata": {
    "slideshow": {
     "slide_type": "subslide"
    }
   },
   "source": [
    "\n",
    "So one benefit of writing functions is to have code that is reusable for new situations, with no manual copy-pasting (and the bugginess that comes with it).\n"
   ]
  },
  {
   "cell_type": "markdown",
   "metadata": {
    "slideshow": {
     "slide_type": "slide"
    }
   },
   "source": [
    "Another benefit of functions is that they make your code much more readable.  And this, in turn, helps you catch bugs.  A checkers-playing program may read at the top level:\n",
    "\n",
    "```\n",
    "while not somebody_won():\n",
    "  if (player_turn == HUMAN):\n",
    "    move = get_move()\n",
    "    play(HUMAN, move)\n",
    "  else:\n",
    "    move = ai_find_best_move()\n",
    "    play(AI, move)\n",
    "print(\"Winner is \" + str(get_winner()))\n",
    "```\n",
    "\n",
    "This \"main\" function gives a nice clean outline of the logic of the game.  Each of the functions mentioned in this code could be tested separately, and it's easy to find the relevant code if you want to improve something."
   ]
  },
  {
   "cell_type": "markdown",
   "metadata": {
    "slideshow": {
     "slide_type": "slide"
    }
   },
   "source": [
    "\n",
    "We see function-like instructions in a lot of places outside computer science and data science.  Recipes may include sub-recipes - for the special sauce, for example.  Crochet and knitting instructions sometimes give little subroutines that should be repeated.  Cartooning instructions tell you how to draw figures in general, but face-drawing is a subroutine, and eye-drawing is a subroutine of that.  Everywhere you see instructions, you might see an attempt on the part of the instructor to make them more concise or more organized."
   ]
  },
  {
   "cell_type": "markdown",
   "metadata": {
    "id": "8dXb8FhB16-s",
    "slideshow": {
     "slide_type": "slide"
    }
   },
   "source": [
    "# Parts of a function definition in Python"
   ]
  },
  {
   "cell_type": "markdown",
   "metadata": {
    "id": "JWFfoNZI2OCc",
    "slideshow": {
     "slide_type": "-"
    }
   },
   "source": [
    "Here's a simple function for us to dissect."
   ]
  },
  {
   "cell_type": "code",
   "execution_count": null,
   "metadata": {
    "colab": {
     "base_uri": "https://localhost:8080/"
    },
    "id": "AbY6iFQyye7r",
    "outputId": "51ce8c57-1e00-4d5e-d9e2-e255fd274c12",
    "slideshow": {
     "slide_type": "-"
    }
   },
   "outputs": [],
   "source": [
    "def add_two(my_number):\n",
    "  # Adds two to the argument.\n",
    "  return my_number + 2\n",
    "\n",
    "add_two(3)"
   ]
  },
  {
   "cell_type": "markdown",
   "metadata": {
    "id": "dFXqRZBu2hLf",
    "slideshow": {
     "slide_type": "-"
    }
   },
   "source": [
    "\"def\" followed by functionname(argument) and a colon indicates that we're defining a function.  By putting my_number between the parentheses, we've indicated that it is an argument.  While we're in the function, my_number will have whatever value was passed to the function."
   ]
  },
  {
   "cell_type": "code",
   "execution_count": null,
   "metadata": {
    "slideshow": {
     "slide_type": "slide"
    }
   },
   "outputs": [],
   "source": [
    "# Repeated for the presentation\n",
    "def add_two(my_number):\n",
    "  # Adds two to the argument.\n",
    "  return my_number + 2\n",
    "\n",
    "add_two(3)"
   ]
  },
  {
   "cell_type": "markdown",
   "metadata": {
    "slideshow": {
     "slide_type": "-"
    }
   },
   "source": [
    "It's typical to put in a comment right after the first line, explaining what the function is supposed to do in just one line.\n",
    "\n",
    "The last line of our function has a return statement.  The expression after \"return\" is what the function as a whole will evaluate to.  In this case, it'll evaluate to whatever was passed in, plus 2.\n",
    "\n",
    "The final line in the code box isn't a part of the function at all; it's just to try out the function with a sample call.  We can tell it's not part of the function because it's not indented."
   ]
  },
  {
   "cell_type": "markdown",
   "metadata": {
    "id": "IQWxiuID3_id",
    "slideshow": {
     "slide_type": "slide"
    }
   },
   "source": [
    "Let's do another example with more arguments."
   ]
  },
  {
   "cell_type": "code",
   "execution_count": null,
   "metadata": {
    "colab": {
     "base_uri": "https://localhost:8080/"
    },
    "id": "YNFIpUNk4E56",
    "outputId": "698efd63-dd85-42a6-e622-ba78d3ee31e5",
    "slideshow": {
     "slide_type": "slide"
    }
   },
   "outputs": [],
   "source": [
    "def count_matches(to_match, my_list):\n",
    "  # Counts how many times to_match appears in my_list\n",
    "  count = 0\n",
    "  for m in my_list:\n",
    "    if to_match == m:\n",
    "      count += 1\n",
    "  return count\n",
    "\n",
    "print(count_matches(5, [5, 6, 7, 5]))\n",
    "print(count_matches(\"foo\", [\"foo\",\"bar\",\"baz\"]))"
   ]
  },
  {
   "cell_type": "markdown",
   "metadata": {
    "id": "rVUh7V7q5FSg",
    "slideshow": {
     "slide_type": "-"
    }
   },
   "source": [
    "This function has two arguments because it needs to know two things:  what to match, and the list to look in.  The first example call binds 5 to to_match and a list of ints to my_list, while the second example looks for \"foo\" in its list of strings."
   ]
  },
  {
   "cell_type": "code",
   "execution_count": null,
   "metadata": {
    "slideshow": {
     "slide_type": "subslide"
    }
   },
   "outputs": [],
   "source": [
    "# Repeated for presentation\n",
    "def count_matches(to_match, my_list):\n",
    "  # Counts how many times to_match appears in my_list\n",
    "  count = 0\n",
    "  for m in my_list:\n",
    "    if to_match == m:\n",
    "      count += 1\n",
    "  return count"
   ]
  },
  {
   "cell_type": "markdown",
   "metadata": {
    "slideshow": {
     "slide_type": "-"
    }
   },
   "source": [
    "Notice how the \"count\" variable gets manipulated from beginning to end, so that when the return statement is hit, this variable has the right value to return.  It's very common to not do any significant computation in the return statement's expression, but instead return a variable holding the result.\n"
   ]
  },
  {
   "cell_type": "code",
   "execution_count": null,
   "metadata": {
    "slideshow": {
     "slide_type": "slide"
    }
   },
   "outputs": [],
   "source": [
    "# Repeated for presentation\n",
    "def count_matches(to_match, my_list):\n",
    "  # Counts how many times to_match appears in my_list\n",
    "  count = 0\n",
    "  for m in my_list:\n",
    "    if to_match == m:\n",
    "      count += 1\n",
    "  return count"
   ]
  },
  {
   "cell_type": "markdown",
   "metadata": {
    "slideshow": {
     "slide_type": "-"
    }
   },
   "source": [
    "The indentation level changed over the course of the function because of the iteration and the conditional.  Python has no problem indenting an arbitrary number of times.  Each indent is a new logical block that also belongs to the blocks containing it.  The function is over only when the code is no longer indented at all."
   ]
  },
  {
   "cell_type": "markdown",
   "metadata": {
    "slideshow": {
     "slide_type": "slide"
    }
   },
   "source": [
    "Sometimes a function is a reusable tool, and other times, it is just called once, but making that part of the program a function helps to organize the code.  Filtering inputs so that they meet certain criteria may happen only once in the program, but the filtering forms a logical step in the program that could be compartmentalized into a function.  Separating it out into a function also makes the code easier to test in isolation from the rest of the program."
   ]
  },
  {
   "cell_type": "code",
   "execution_count": null,
   "metadata": {
    "slideshow": {
     "slide_type": "slide"
    }
   },
   "outputs": [],
   "source": [
    "def filter_movies(movies, min_star_rating):\n",
    "    # Assume movies is a list of (movie, rating) tuples\n",
    "    new_movies = []\n",
    "    for movie, rating in movies:\n",
    "        if rating >= min_star_rating:\n",
    "            new_movies.append((movie, rating))\n",
    "    return new_movies\n",
    "\n",
    "movies = [('Casablanca', 5), ('The Avengers', 4), ('Labyrinth', 4.5), ('Minions', 3)]\n",
    "filter_movies(movies, 4.5)"
   ]
  },
  {
   "cell_type": "markdown",
   "metadata": {
    "slideshow": {
     "slide_type": "slide"
    }
   },
   "source": [
    "If a sequence of steps appears repeatedly in the code, though, that means those steps are a prime candidate for a function.  If a function is small, it may not seem necessary, but it could just serve to make some code more readable."
   ]
  },
  {
   "cell_type": "code",
   "execution_count": null,
   "metadata": {
    "slideshow": {
     "slide_type": "-"
    }
   },
   "outputs": [],
   "source": [
    "def get_rating(movie_tuple):\n",
    "    # More readable way to access a movie rating\n",
    "    return movie_tuple[1] # Now we don't need to remember what [1] refers to\n",
    "\n",
    "get_rating(('Portrait of a Lady on Fire', 5))"
   ]
  },
  {
   "cell_type": "markdown",
   "metadata": {
    "id": "K7meB9eIe_SX",
    "slideshow": {
     "slide_type": "slide"
    }
   },
   "source": [
    "# Exercise\n",
    "\n",
    "Try writing a function double() that simply multiplies its argument by 2, and returns that value."
   ]
  },
  {
   "cell_type": "code",
   "execution_count": null,
   "metadata": {
    "id": "twKRPDFVfFsZ",
    "slideshow": {
     "slide_type": "slide"
    }
   },
   "outputs": [],
   "source": [
    "# TODO"
   ]
  },
  {
   "cell_type": "markdown",
   "metadata": {
    "slideshow": {
     "slide_type": "slide"
    }
   },
   "source": [
    "# Variations"
   ]
  },
  {
   "cell_type": "markdown",
   "metadata": {
    "slideshow": {
     "slide_type": "slide"
    }
   },
   "source": [
    "## No arguments, no return value"
   ]
  },
  {
   "cell_type": "markdown",
   "metadata": {
    "slideshow": {
     "slide_type": "slide"
    }
   },
   "source": [
    "Here's an example that takes no arguments at all.  (This is unusual.)"
   ]
  },
  {
   "cell_type": "code",
   "execution_count": null,
   "metadata": {
    "colab": {
     "base_uri": "https://localhost:8080/"
    },
    "id": "6A9MOHbp6oUU",
    "outputId": "b0bc22df-eb94-4a79-af44-44c5c249ab1a",
    "slideshow": {
     "slide_type": "-"
    }
   },
   "outputs": [],
   "source": [
    "from datetime import date\n",
    "\n",
    "def greet_user():\n",
    "  print(\"Hello, user!\")\n",
    "  print(\"Today's date is \" + str(date.today()))\n",
    "\n",
    "greet_user()"
   ]
  },
  {
   "cell_type": "markdown",
   "metadata": {
    "id": "6sz2Ifkh7Pie",
    "slideshow": {
     "slide_type": "-"
    }
   },
   "source": [
    "Having no arguments is unusual because it means whatever causes the behavior to vary is coming in through some other channel besides the arguments.  Here, the program can just query the operating system for the time with date.today(), and we don't need to tell it anything.\n"
   ]
  },
  {
   "cell_type": "markdown",
   "metadata": {
    "slideshow": {
     "slide_type": "slide"
    }
   },
   "source": [
    "Note also that this function doesn't return anything, either - it just stops when it runs out of code.  If you try to evaluate the function, you'll get a result of \"None.\"  This is fine if you're calling the function primarily for its \"side effects,\" such as printing something."
   ]
  },
  {
   "cell_type": "code",
   "execution_count": null,
   "metadata": {
    "slideshow": {
     "slide_type": "-"
    }
   },
   "outputs": [],
   "source": [
    "a = greet_user()\n",
    "print(a)"
   ]
  },
  {
   "cell_type": "markdown",
   "metadata": {
    "slideshow": {
     "slide_type": "slide"
    }
   },
   "source": [
    "A simple statement of \"return\" returns from the function with a value of None, but it's optional since the function will return with a \"None\" value without it as well."
   ]
  },
  {
   "cell_type": "code",
   "execution_count": null,
   "metadata": {
    "slideshow": {
     "slide_type": "-"
    }
   },
   "outputs": [],
   "source": [
    "def greet_user():\n",
    "  print(\"Hello, user!\")\n",
    "  print(\"Today's date is \" + str(date.today()))\n",
    "  return\n",
    "\n",
    "greet_user()"
   ]
  },
  {
   "cell_type": "markdown",
   "metadata": {
    "slideshow": {
     "slide_type": "slide"
    }
   },
   "source": [
    "Note that these features of the function - no arguments, no return value - are independent of each other.  You can have a function with an argument that returns nothing, or a function with no arguments and a return value."
   ]
  },
  {
   "cell_type": "code",
   "execution_count": null,
   "metadata": {
    "slideshow": {
     "slide_type": "-"
    }
   },
   "outputs": [],
   "source": [
    "def greet_username(name):\n",
    "    # Argument but no return value example.  Notice print is not the same as a return value.\n",
    "    print('Hello, ' + name + '!')\n",
    "    \n",
    "def get_date_string():\n",
    "    # No argument but return value example.\n",
    "    return str(date.today())\n",
    "\n",
    "greet_username('class')\n",
    "print('It is ' + get_date_string())"
   ]
  },
  {
   "cell_type": "markdown",
   "metadata": {
    "slideshow": {
     "slide_type": "slide"
    }
   },
   "source": [
    "## Multiple return values"
   ]
  },
  {
   "cell_type": "markdown",
   "metadata": {
    "slideshow": {
     "slide_type": "slide"
    }
   },
   "source": [
    "It's possible for a function to have multiple return values.  The return statement should separate the different return values with commas, and where the function is called, comma-separated variables can have these multiple values assigned to them.  (The program thinks of the return value as a single tuple.)"
   ]
  },
  {
   "cell_type": "code",
   "execution_count": null,
   "metadata": {
    "slideshow": {
     "slide_type": "slide"
    }
   },
   "outputs": [],
   "source": [
    "def longest_string(list_of_strings):\n",
    "    # Returns the longest string and its number of characters.\n",
    "    longest_len = 0\n",
    "    longest_word = \"\"\n",
    "    for s in list_of_strings:\n",
    "        if len(s) > longest_len:\n",
    "            longest_len = len(s)\n",
    "            longest_word = s\n",
    "    return longest_word, longest_len\n",
    "\n",
    "word, length = longest_string(['apple', 'pear', 'banana'])\n",
    "print(word)\n",
    "print(length)"
   ]
  },
  {
   "cell_type": "markdown",
   "metadata": {
    "slideshow": {
     "slide_type": "slide"
    }
   },
   "source": [
    "Our example of finding the best movie, with the best rating, from the iteration lecture is also a function that would benefit from multiple return values, since we may want to return both the movie and its rating."
   ]
  },
  {
   "cell_type": "code",
   "execution_count": null,
   "metadata": {
    "slideshow": {
     "slide_type": "-"
    }
   },
   "outputs": [],
   "source": [
    "movies = [('Casablanca', 5), ('The Avengers', 4), ('Labyrinth', 4.5), ('Minions', 3)]\n",
    "\n",
    "def best_movie(list_of_movie_ratings):\n",
    "    # Assume list_of_movie_ratings is a list of (movie, rating) tuples\n",
    "    best_movie = \"\"\n",
    "    best_rating = 0\n",
    "    for movie, rating in list_of_movie_ratings:\n",
    "        if rating > best_rating:\n",
    "            best_movie = movie\n",
    "            best_rating = rating\n",
    "    return best_movie, best_rating\n",
    "\n",
    "best_movie(movies)"
   ]
  },
  {
   "cell_type": "markdown",
   "metadata": {},
   "source": [
    "# Exercise\n",
    "\n",
    "Recall that ** raises a number to a power.  Write a function powers() that takes a number and returns three values:  that number squared, cubed, and raised to the fourth power."
   ]
  },
  {
   "cell_type": "code",
   "execution_count": null,
   "metadata": {},
   "outputs": [],
   "source": [
    "# TODO"
   ]
  },
  {
   "cell_type": "markdown",
   "metadata": {},
   "source": [
    "# Day 2"
   ]
  },
  {
   "cell_type": "markdown",
   "metadata": {
    "slideshow": {
     "slide_type": "slide"
    }
   },
   "source": [
    "## Multiple return statements"
   ]
  },
  {
   "cell_type": "markdown",
   "metadata": {
    "slideshow": {
     "slide_type": "slide"
    }
   },
   "source": [
    "There could be multiple points in the function with return statements, although it's considered stylistically preferable for there to be just one return statement if possible.  As soon as the return statement is reached and evaluated, the function quits, and any lines further down aren't evaluated."
   ]
  },
  {
   "cell_type": "code",
   "execution_count": null,
   "metadata": {
    "slideshow": {
     "slide_type": "slide"
    }
   },
   "outputs": [],
   "source": [
    "def count_items(lst):\n",
    "    # Count items but warn if the list is empty\n",
    "    if (len(lst) == 0):\n",
    "        print('Warning: empty list passed to count_items!')\n",
    "        return 0\n",
    "    print(\"We don't get here with an empty list\")\n",
    "    return len(lst)\n",
    "\n",
    "count_items([])"
   ]
  },
  {
   "cell_type": "markdown",
   "metadata": {
    "slideshow": {
     "slide_type": "slide"
    }
   },
   "source": [
    "In this case and many other cases, the extra return statement doesn't really need to be there."
   ]
  },
  {
   "cell_type": "code",
   "execution_count": null,
   "metadata": {
    "slideshow": {
     "slide_type": "-"
    }
   },
   "outputs": [],
   "source": [
    "def count_items(lst):\n",
    "    # Count items but warn if the list is empty\n",
    "    if (len(lst) == 0):\n",
    "        print('Warning: empty list passed to count_items!')\n",
    "    return len(lst)"
   ]
  },
  {
   "cell_type": "markdown",
   "metadata": {
    "slideshow": {
     "slide_type": "slide"
    }
   },
   "source": [
    "One reason to return early could be that the function found something it was looking for - and there's no need to look any further.  The final return statement could be the behavior for the case where nothing is found."
   ]
  },
  {
   "cell_type": "code",
   "execution_count": null,
   "metadata": {
    "slideshow": {
     "slide_type": "-"
    }
   },
   "outputs": [],
   "source": [
    "def is_prime(n):\n",
    "    for i in range(2, n): # Look for a divisor\n",
    "        if n % i == 0:    # i divides n evenly, no remainder\n",
    "            return False\n",
    "    return True           # didn't find a divisor\n",
    "\n",
    "print(is_prime(11))\n",
    "print(is_prime(4))"
   ]
  },
  {
   "cell_type": "markdown",
   "metadata": {
    "slideshow": {
     "slide_type": "slide"
    }
   },
   "source": [
    "## Functions calling functions"
   ]
  },
  {
   "cell_type": "markdown",
   "metadata": {
    "slideshow": {
     "slide_type": "slide"
    }
   },
   "source": [
    "You can define functions that call other functions that you've written.  In a big project, there could be several levels of hierarchy to your code, with function A calling function B calling function C."
   ]
  },
  {
   "cell_type": "code",
   "execution_count": null,
   "metadata": {
    "slideshow": {
     "slide_type": "-"
    }
   },
   "outputs": [],
   "source": [
    "def count_longest_string(list_of_strings):\n",
    "    # Count how many times the longest string appears in the list\n",
    "    # Return this count\n",
    "    word, length = longest_string(list_of_strings)  # We defined this function above\n",
    "    return count_matches(word,list_of_strings) # We defined this function above, too\n",
    "\n",
    "count_longest_string(['apple','banana','pear','banana'])\n"
   ]
  },
  {
   "cell_type": "markdown",
   "metadata": {
    "slideshow": {
     "slide_type": "slide"
    }
   },
   "source": [
    "# Exercise (8 min)\n",
    "\n",
    "Write a function that returns the first number in a list that is 100 or greater.  If no such number is found, return -1."
   ]
  },
  {
   "cell_type": "code",
   "execution_count": null,
   "metadata": {
    "slideshow": {
     "slide_type": "slide"
    }
   },
   "outputs": [],
   "source": [
    "# TODO"
   ]
  },
  {
   "cell_type": "markdown",
   "metadata": {
    "id": "GERMMYi57tD4",
    "slideshow": {
     "slide_type": "slide"
    }
   },
   "source": [
    "# Scope and local variables\n",
    "\n",
    "All the variables created in a function, including the arguments, are no longer accessible once the function returns.  All that memory gets cleaned up and made available again.  This helps reduce bugs, because if a function \"makes a mess\" by creating many different variables as it executes, there's no way the code outside the function can accidentally look at a value that was intended just for the function.\n"
   ]
  },
  {
   "cell_type": "code",
   "execution_count": null,
   "metadata": {
    "slideshow": {
     "slide_type": "slide"
    }
   },
   "outputs": [],
   "source": [
    "def add5(arg):\n",
    "    b = arg + 5\n",
    "    return b\n",
    "\n",
    "add5(7) # Return 12\n",
    "b  # Program says it doesn't know what this is\n",
    "arg  # Similarly no recollection"
   ]
  },
  {
   "cell_type": "markdown",
   "metadata": {
    "slideshow": {
     "slide_type": "slide"
    }
   },
   "source": [
    "This is also an example of \"encapsulation,\" the principle that the user of a function shouldn't need to know how it was implemented. You assume that as long as you know the inputs, outputs, and that it works, you don't need to know exactly how it works.  If you needed to know the names of a lot of variables that get modified as the function works, that wouldn't be encapsulated.\n"
   ]
  },
  {
   "cell_type": "markdown",
   "metadata": {
    "slideshow": {
     "slide_type": "slide"
    }
   },
   "source": [
    "While the program \"forgets\" variables when it leaves functions, it's aware of variables outside the function while the function is executing.  Variables declared outside all functions are called \"global variables,\" and they can be accessed from inside functions.  But it's better style to pass in the needed values as arguments, rather than using global variables."
   ]
  },
  {
   "cell_type": "markdown",
   "metadata": {
    "slideshow": {
     "slide_type": "slide"
    }
   },
   "source": [
    "Newcomers to functions often don't understand why pattern A in the next code box is better than pattern B.  They both theoretically get the job done, but the second one uses a *global variable* that breaks encapsulation.  In big code bases, hunting for where a global variable was defined, and trying to determine what might change it, is not sustainable."
   ]
  },
  {
   "cell_type": "code",
   "execution_count": null,
   "metadata": {
    "colab": {
     "base_uri": "https://localhost:8080/"
    },
    "id": "dDO03oa59dOG",
    "outputId": "2e446b49-dd20-4d33-96bb-5f6c7f0bb687",
    "slideshow": {
     "slide_type": "-"
    }
   },
   "outputs": [],
   "source": [
    "def pattern_a(x, y, z):\n",
    "  # Computes x * y - z\n",
    "  return x * y - z\n",
    "\n",
    "z = 4 # Global variable\n",
    "def pattern_b(x, y):\n",
    "  return x * y - z # Uses global variable\n",
    "\n",
    "print(pattern_a(2,3,4))\n",
    "print(pattern_b(2,3))"
   ]
  },
  {
   "cell_type": "markdown",
   "metadata": {
    "id": "ARU9Z5JL-Aov",
    "slideshow": {
     "slide_type": "slide"
    }
   },
   "source": [
    "The first pattern, A, is vastly preferred.  We want to be able to figure out what a function will do from its arguments alone, and not worry about variables somewhere in the codebase having far-reaching effects.  Global variables, those accessible from all functions, are generally seen as a last resort."
   ]
  },
  {
   "cell_type": "markdown",
   "metadata": {
    "id": "XGZDyOiCmXlf",
    "slideshow": {
     "slide_type": "slide"
    }
   },
   "source": [
    "# Shadowing\n",
    "\n",
    "A variable declared in a function can \"shadow\" a variable that lives outside the function with the same name, sharing its name and preventing access to the outside variable until the function is done.  Again, this means users of your function don't need to worry about what you named your variables.  Below, the local copy of *a* shadows the value of *a* that lives outside the function."
   ]
  },
  {
   "cell_type": "code",
   "execution_count": null,
   "metadata": {
    "colab": {
     "base_uri": "https://localhost:8080/"
    },
    "id": "woox2zkDnIV5",
    "outputId": "3797d901-2502-44bd-acda-4cbcd06981be",
    "slideshow": {
     "slide_type": "-"
    }
   },
   "outputs": [],
   "source": [
    "def add_two(my_number):\n",
    "  # Adds two to the argument.\n",
    "  a = my_number + 2\n",
    "  print(\"a is \" + str(a))\n",
    "  return a\n",
    "\n",
    "a = 5\n",
    "print(add_two(2)) # local \"a\" set to 4\n",
    "print(a)"
   ]
  },
  {
   "cell_type": "markdown",
   "metadata": {
    "slideshow": {
     "slide_type": "slide"
    }
   },
   "source": [
    "Shadowing often happens with arguments, because the name of the argument is what we wanted to call the variable at the top level, too.  But the local variable in the function and the one at the top level are two different variables."
   ]
  },
  {
   "cell_type": "code",
   "execution_count": null,
   "metadata": {
    "slideshow": {
     "slide_type": "-"
    }
   },
   "outputs": [],
   "source": [
    "my_list = ['a','b','c']\n",
    "\n",
    "def concatenate_all(my_list):\n",
    "    out = ''\n",
    "    for item in my_list:\n",
    "        out += item\n",
    "    return out\n",
    "\n",
    "print(concatenate_all(['d','e'])) # ['d','e'] is called my_list in the function\n",
    "print(concatenate_all(my_list))  # my_list is still a,b,c"
   ]
  },
  {
   "cell_type": "markdown",
   "metadata": {
    "id": "vq971zrV_SD3",
    "slideshow": {
     "slide_type": "slide"
    }
   },
   "source": [
    "# Refactoring\n",
    "\n",
    "It might not be obvious at first what parts of code need to be broken up into functions.  You may well end up writing a piece of code only to look back and say, \"Hmm, that could have been more concise with functions.\"  If you did copy-paste any code in the course of writing it, that might be a good signal that the code could use some reorganization.\n",
    "\n",
    "\"Refactoring\" is simply the act of trying to clean up the breakdown of the code into functions - probably by turning non-function code into functions, but perhaps also cleaning up which functions do what."
   ]
  },
  {
   "cell_type": "markdown",
   "metadata": {
    "slideshow": {
     "slide_type": "slide"
    }
   },
   "source": [
    "Here is some code that could use a cleanup:"
   ]
  },
  {
   "cell_type": "code",
   "execution_count": null,
   "metadata": {
    "colab": {
     "base_uri": "https://localhost:8080/"
    },
    "id": "reirVd75Aafj",
    "outputId": "d2434120-acbd-4187-db4e-88a06786f586",
    "slideshow": {
     "slide_type": "-"
    }
   },
   "outputs": [],
   "source": [
    "list1 = [\"A\",\"B\",\"C\",\"D\"]\n",
    "list2 = [\"W\",\"X\",\"Y\",\"Z\"]\n",
    "for item in list1:\n",
    "  for item2 in list2:\n",
    "      print(item+item2)\n",
    "list3 = [\"1\",\"2\",\"3\"]\n",
    "for item in list1:\n",
    "  for item2 in list3:\n",
    "    print(item+item2)\n"
   ]
  },
  {
   "cell_type": "markdown",
   "metadata": {
    "id": "dIvmX5IHBW5b",
    "slideshow": {
     "slide_type": "-"
    }
   },
   "source": [
    "The familiarity of the second set of nested loops should clue us in to the repetitiveness.  The second batch of code differs only in the list and its name."
   ]
  },
  {
   "cell_type": "markdown",
   "metadata": {
    "slideshow": {
     "slide_type": "slide"
    }
   },
   "source": [
    "So instead, we can turn this into a function.  We can get new, more readable code like this:"
   ]
  },
  {
   "cell_type": "code",
   "execution_count": null,
   "metadata": {
    "colab": {
     "base_uri": "https://localhost:8080/"
    },
    "id": "xRPgiOpXBwVA",
    "outputId": "ed733f87-bc8f-421c-b0a5-cef03455a1ed",
    "slideshow": {
     "slide_type": "-"
    }
   },
   "outputs": [],
   "source": [
    "def create_letter_combos(first_list, second_list):\n",
    "  for m in first_list:\n",
    "    for s in second_list:\n",
    "      print(m + s)\n",
    "\n",
    "create_letter_combos([\"A\",\"B\",\"C\",\"D\"],[\"W\",\"X\",\"Y\",\"Z\"])\n",
    "create_letter_combos([\"A\",\"B\",\"C\",\"D\"],[\"1\",\"2\",\"3\"])"
   ]
  },
  {
   "cell_type": "markdown",
   "metadata": {
    "id": "AbjpebNICWJW",
    "slideshow": {
     "slide_type": "-"
    }
   },
   "source": [
    "This is a fairly small cleanup job, but it shows how the code is now a little more concise and a little more readable."
   ]
  },
  {
   "cell_type": "markdown",
   "metadata": {
    "slideshow": {
     "slide_type": "slide"
    }
   },
   "source": [
    "# Exercise\n",
    "\n",
    "Refactor the following code so that it calls a function (that you will write, based on the provided code), evens(), that returns just the even numbers from a list."
   ]
  },
  {
   "cell_type": "code",
   "execution_count": null,
   "metadata": {
    "slideshow": {
     "slide_type": "-"
    }
   },
   "outputs": [],
   "source": [
    "important_numbers1 = [1, 2, 3, 4, 5]\n",
    "evens1 = []\n",
    "for n in important_numbers1:\n",
    "    if n % 2 == 0:  # Remainder when dividing by 2 is 0\n",
    "        evens1.append(n)\n",
    "print(evens1)\n",
    "important_numbers2 = [6, 7, 8, 9, 10]\n",
    "evens2 = []\n",
    "for n in important_numbers2:\n",
    "    if n % 2 == 0:\n",
    "        evens2.append(n)\n",
    "print(evens2)"
   ]
  },
  {
   "cell_type": "code",
   "execution_count": null,
   "metadata": {
    "slideshow": {
     "slide_type": "slide"
    }
   },
   "outputs": [],
   "source": [
    "# TODO"
   ]
  },
  {
   "cell_type": "markdown",
   "metadata": {
    "id": "L8bjgc20bqW1",
    "slideshow": {
     "slide_type": "slide"
    }
   },
   "source": [
    "# Pseudocode and functions\n",
    "\n",
    "Pseudocode is code that is written in a style closer to English than any particular programming language.  It's meant for human readers instead of being parsed by machine.  Sketching out a program in pseudocode ahead of time can help identify what would make a good function in the program.\n",
    "\n"
   ]
  },
  {
   "cell_type": "markdown",
   "metadata": {
    "slideshow": {
     "slide_type": "slide"
    }
   },
   "source": [
    "Here is some pseudocode for the top level of a checkers-playing program:\n",
    "```\n",
    "while there is no winner:\n",
    "  if it's the human's turn:\n",
    "    get the human's move from the keyboard\n",
    "    play the human's move on the board\n",
    "  else:\n",
    "    search for the best-looking move for the computer\n",
    "    play the best-looking move\n",
    "print the winner\n",
    "```"
   ]
  },
  {
   "cell_type": "markdown",
   "metadata": {
    "slideshow": {
     "slide_type": "slide"
    }
   },
   "source": [
    "The pseudocode's high-level view of the program gives us an idea of what functions we might reasonably expect to code.  We can further sketch pseudocode for the functions themselves, until we feel like we've gone deep enough that there's no further use to pseudocode.\n",
    "\n",
    "\n",
    "```\n",
    "# pseudocode for looking for the best-looking move\n",
    "moves = find all checkers that can move\n",
    "for each move in moves:\n",
    "  try the move\n",
    "  find the difference between the red and black piece counts\n",
    "  remember the difference if it's best so far\n",
    "return the move with the best board value\n",
    "\n",
    "```\n",
    "\n"
   ]
  },
  {
   "cell_type": "markdown",
   "metadata": {
    "slideshow": {
     "slide_type": "subslide"
    }
   },
   "source": [
    "Here, \"find all checkers that can move\" sounds like another good candidate for a function.  So does \"try the move\" and \"find the difference between the red and black piece counts.\"  The process of writing pseudocode can reveal a structure to your program that matches a good functional decomposition of the code."
   ]
  },
  {
   "cell_type": "markdown",
   "metadata": {
    "id": "slXn6JwhfITS",
    "slideshow": {
     "slide_type": "slide"
    }
   },
   "source": [
    "# Comment conventions\n",
    "\n",
    "There is a standard way to comment Python functions.  It's probably overkill for very simple functions, but it's a good habit to get into, and whoever needs to work with your code next, whether a grader, a coworker, or your boss, will be happy that everything is well-commented.  The style for \"docstrings,\" the strings that provide these comments, is uniform enough that some coding tools automatically can pull them up, allowing smarter tooltips and that kind of thing.\n"
   ]
  },
  {
   "cell_type": "markdown",
   "metadata": {
    "slideshow": {
     "slide_type": "slide"
    }
   },
   "source": [
    "\n",
    "These comments use three double-quotes surrounding a multiline string:"
   ]
  },
  {
   "cell_type": "code",
   "execution_count": null,
   "metadata": {
    "id": "7LOKMHQkfjFj",
    "slideshow": {
     "slide_type": "-"
    }
   },
   "outputs": [],
   "source": [
    "def get_first_letter(word):\n",
    "  \"\"\" Returns the first letter of a string.\n",
    "\n",
    "  word (str):  The string to get the letter from.\n",
    "\n",
    "  A simple function just for demo purposes.  Probably\n",
    "  not useful since get_first_letter takes more characters\n",
    "  to type than string[0].\n",
    "  \"\"\"\n",
    "\n",
    "  return word[0]"
   ]
  },
  {
   "cell_type": "markdown",
   "metadata": {
    "id": "mLLxGyYzglcK",
    "slideshow": {
     "slide_type": "-"
    }
   },
   "source": [
    "The first line of the multiline comment should be a quick description of what the function does.  After some space, there's then a description of every argument and its expected type.  Below that is anything else a programmer ought to know."
   ]
  },
  {
   "cell_type": "markdown",
   "metadata": {
    "id": "HoVZRenbiBtd",
    "slideshow": {
     "slide_type": "slide"
    }
   },
   "source": [
    "# Tests\n",
    "\n",
    "It's a good software engineering principle to write tests for every function that you write.  This can use dedicated testing tools for your language, or it can just consist of writing function calls and comparing the results to what they should be."
   ]
  },
  {
   "cell_type": "code",
   "execution_count": null,
   "metadata": {
    "colab": {
     "base_uri": "https://localhost:8080/"
    },
    "id": "X7MErytjibgJ",
    "outputId": "d9b8d713-8ff7-46fa-ac39-9f07ed586930",
    "slideshow": {
     "slide_type": "-"
    }
   },
   "outputs": [],
   "source": [
    "print(get_first_letter(\"Shibboleth\") == \"S\")\n",
    "print(pattern_a(5,4,3) == 17)   # 5*4-3\n",
    "print(count_matches(\"A\",[]) == 0)\n",
    "print(count_matches(\"A\", [\"A\",\"A\",\"A\"]) == 3)"
   ]
  },
  {
   "cell_type": "markdown",
   "metadata": {
    "id": "xOiv39I4jVVC",
    "slideshow": {
     "slide_type": "slide"
    }
   },
   "source": [
    "In tests, you want to \"kick the tires\" of your function and determine not only whether it works under ideal conditions, but also in the toughest of corner cases.  For count_matches, I could test whether the function does the right thing for empty lists, or for longer lists where all the items match."
   ]
  },
  {
   "cell_type": "markdown",
   "metadata": {
    "id": "oPLiChn6mFov",
    "slideshow": {
     "slide_type": "subslide"
    }
   },
   "source": [
    "Some styles of programming even define the tests first, before writing the function, as a way of defining the expected behavior."
   ]
  },
  {
   "cell_type": "markdown",
   "metadata": {
    "slideshow": {
     "slide_type": "subslide"
    }
   },
   "source": [
    "We won't adopt any official tools for testing in this class.  But I suggest that for any major piece of code, you have a cell with test calls that make it easy to tell whether the code is doing the right thing."
   ]
  },
  {
   "cell_type": "raw",
   "metadata": {},
   "source": []
  }
 ],
 "metadata": {
  "celltoolbar": "Slideshow",
  "colab": {
   "name": "Lecture6Functions.ipynb",
   "provenance": []
  },
  "kernelspec": {
   "display_name": "Python 3",
   "language": "python",
   "name": "python3"
  },
  "language_info": {
   "codemirror_mode": {
    "name": "ipython",
    "version": 3
   },
   "file_extension": ".py",
   "mimetype": "text/x-python",
   "name": "python",
   "nbconvert_exporter": "python",
   "pygments_lexer": "ipython3",
   "version": "3.8.8"
  },
  "rise": {
   "scroll": true
  }
 },
 "nbformat": 4,
 "nbformat_minor": 1
}
