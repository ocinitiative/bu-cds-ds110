{
 "cells": [
  {
   "cell_type": "markdown",
   "metadata": {
    "slideshow": {
     "slide_type": "slide"
    },
    "pycharm": {
     "name": "#%% md\n"
    }
   },
   "source": [
    "# Expressions and More"
   ]
  },
  {
   "cell_type": "markdown",
   "metadata": {
    "id": "JtxSO770W08b",
    "slideshow": {
     "slide_type": "slide"
    },
    "pycharm": {
     "name": "#%% md\n"
    }
   },
   "source": [
    "# Notebooks\n",
    "\n",
    "Jupyter notebooks are a handy way of mixing text instructions with Python code snippets.  You can add either a Code box (darker gray) or a text box (light background) to your current notebook by going to Insert at the top of the screen, then choosing the box type you want.\n"
   ]
  },
  {
   "cell_type": "markdown",
   "metadata": {
    "slideshow": {
     "slide_type": "subslide"
    },
    "pycharm": {
     "name": "#%% md\n"
    }
   },
   "source": [
    "\n",
    "For text, the main part you may want to be aware of is the ability to switch to LaTex formatting by surrounding some text with dollar signs.  If you don't currently know LateX, that's fine, but it does allow for nicer-looking math, like $\\frac{\\sqrt{2}}{2}$.  You can also get italics or bold by surrounding text with *asterisks* or **double-asterisks**, respectively.\n",
    "\n",
    "A code box contains Python code, and you can run that code by clicking on the little box to the left, which should become a play symbol.  Try this on the \"Hello, world!\" snippet that follows.\n"
   ]
  },
  {
   "cell_type": "code",
   "execution_count": null,
   "metadata": {
    "id": "KhqU3j09YQuy",
    "slideshow": {
     "slide_type": "subslide"
    },
    "pycharm": {
     "name": "#%%\n"
    }
   },
   "outputs": [],
   "source": [
    "print('Hello, world!')"
   ]
  },
  {
   "cell_type": "markdown",
   "metadata": {
    "id": "lygqyzeCWsbl",
    "slideshow": {
     "slide_type": "slide"
    },
    "pycharm": {
     "name": "#%% md\n"
    }
   },
   "source": [
    "# Expressions\n",
    "\n",
    "If you want to, you can treat Python as a glorified calculator. Python will evaluate numerical expressions using +, -, * (multiply), and / (divide) and will follow the correct order of operations when doing so.  In Jupyter notebooks, the last expression evaluated will have its value displayed underneath the code box."
   ]
  },
  {
   "cell_type": "code",
   "execution_count": null,
   "metadata": {
    "id": "G8H7nHSvWnmk",
    "slideshow": {
     "slide_type": "fragment"
    },
    "pycharm": {
     "name": "#%%\n"
    }
   },
   "outputs": [],
   "source": [
    "2+2 "
   ]
  },
  {
   "cell_type": "code",
   "execution_count": null,
   "metadata": {
    "id": "W7L0dgmYZKD6",
    "slideshow": {
     "slide_type": "fragment"
    },
    "pycharm": {
     "name": "#%%\n"
    }
   },
   "outputs": [],
   "source": [
    "1+2*7"
   ]
  },
  {
   "cell_type": "markdown",
   "metadata": {
    "id": "rUHBTSVEZN2x",
    "slideshow": {
     "slide_type": "slide"
    },
    "pycharm": {
     "name": "#%% md\n"
    }
   },
   "source": [
    "The order of operations you're familiar with from algebra is generally followed (multiplication before addition, etc), but now there are more kinds of operators, like Boolean operators.  If you want to be sure of the order in which things are evaluated, you can use parentheses."
   ]
  },
  {
   "cell_type": "code",
   "execution_count": null,
   "metadata": {
    "id": "FORZ-PFnZW-d",
    "slideshow": {
     "slide_type": "fragment"
    },
    "pycharm": {
     "name": "#%%\n"
    }
   },
   "outputs": [],
   "source": [
    "(1+2)*7"
   ]
  },
  {
   "cell_type": "markdown",
   "metadata": {
    "pycharm": {
     "name": "#%% md\n"
    }
   },
   "source": [
    "## Exercise\n",
    "\n",
    "Try writing a mathematical expression in a code box, and evaluate it."
   ]
  },
  {
   "cell_type": "code",
   "execution_count": null,
   "metadata": {
    "pycharm": {
     "name": "#%%\n"
    }
   },
   "outputs": [],
   "source": [
    "# TODO"
   ]
  },
  {
   "cell_type": "markdown",
   "metadata": {
    "id": "zAImCwU4b15d",
    "slideshow": {
     "slide_type": "slide"
    },
    "pycharm": {
     "name": "#%% md\n"
    }
   },
   "source": [
    "It shouldn't be a surprise that as part of being a data scientist, you're going to write a lot of mathematical expressions.  But expressions aren't just for math; we can also use expressions to determine whether to take one course of action or another.  If the expression evaluates to True, we can take one course of action, and if it evaluates to False, we take another.  (See next lecture's coverage of if/elif/else.)"
   ]
  },
  {
   "cell_type": "markdown",
   "metadata": {
    "id": "MVOwTHZYZcFT",
    "slideshow": {
     "slide_type": "slide"
    },
    "pycharm": {
     "name": "#%% md\n"
    }
   },
   "source": [
    "If you use comparison operators, such as >, the expression can evaluate to True or False (the capitalization is how Python writes these values).  An expression that evaluates to true or false is a \"condition.\""
   ]
  },
  {
   "cell_type": "code",
   "execution_count": null,
   "metadata": {
    "id": "Fgd6UablZulk",
    "slideshow": {
     "slide_type": "fragment"
    },
    "pycharm": {
     "name": "#%%\n"
    }
   },
   "outputs": [],
   "source": [
    "7 < 5"
   ]
  },
  {
   "cell_type": "code",
   "execution_count": null,
   "metadata": {
    "id": "wd7saoCYZw5y",
    "slideshow": {
     "slide_type": "fragment"
    },
    "pycharm": {
     "name": "#%%\n"
    }
   },
   "outputs": [],
   "source": [
    "5 < 7"
   ]
  },
  {
   "cell_type": "markdown",
   "metadata": {
    "id": "pamEZju6Z0w1",
    "slideshow": {
     "slide_type": "slide"
    },
    "pycharm": {
     "name": "#%% md\n"
    }
   },
   "source": [
    "Checking for equality is very common in code, and uses the special == operator.  It's a common source of bugs to accidentally put in a single equals sign.  But that means something else, assignment, that we'll get to later."
   ]
  },
  {
   "cell_type": "code",
   "execution_count": null,
   "metadata": {
    "id": "Xlercwm9aGY3",
    "slideshow": {
     "slide_type": "fragment"
    },
    "pycharm": {
     "name": "#%%\n"
    }
   },
   "outputs": [],
   "source": [
    "5 == 7"
   ]
  },
  {
   "cell_type": "markdown",
   "metadata": {
    "id": "NbJcwK-4btAS",
    "slideshow": {
     "slide_type": "slide"
    },
    "pycharm": {
     "name": "#%% md\n"
    }
   },
   "source": [
    "# Errors\n",
    "\n",
    "Now we'll intentionally make the mistake we just mentioned, and see what happens."
   ]
  },
  {
   "cell_type": "code",
   "execution_count": null,
   "metadata": {
    "id": "tiI2xgG5aILT",
    "slideshow": {
     "slide_type": "fragment"
    },
    "pycharm": {
     "name": "#%%\n"
    }
   },
   "outputs": [],
   "source": [
    "5 = 7"
   ]
  },
  {
   "cell_type": "markdown",
   "metadata": {
    "id": "4FplVPKjaFgA",
    "slideshow": {
     "slide_type": "slide"
    },
    "pycharm": {
     "name": "#%% md\n"
    }
   },
   "source": [
    "If an error happens while running your code, the program will halt, and an error message will try to show you where the error happened, and explain in its own curious dialect what went wrong."
   ]
  },
  {
   "cell_type": "markdown",
   "metadata": {
    "slideshow": {
     "slide_type": "subslide"
    },
    "pycharm": {
     "name": "#%% md\n"
    }
   },
   "source": [
    "These messages can be quite opaque, but knowing more of the vocabulary of programming can help. If we knew a little more, we could read the message as saying the interpreter didn't expect a single equals to the right of a constant value like \"5,\" as usually what's callled a *variable* would go on the left hand side of a single equals, =.  But we don't need to understand exactly what the message means before giving the faulty line a closer look for bugs.  "
   ]
  },
  {
   "cell_type": "markdown",
   "metadata": {
    "slideshow": {
     "slide_type": "slide"
    },
    "pycharm": {
     "name": "#%% md\n"
    }
   },
   "source": [
    "When you get an error message you can't understand, at least try to mull over what is wrong with the line in question."
   ]
  },
  {
   "cell_type": "markdown",
   "metadata": {
    "id": "cVbiUcxNbUFs",
    "slideshow": {
     "slide_type": "slide"
    },
    "pycharm": {
     "name": "#%% md\n"
    }
   },
   "source": [
    "# Boolean expressions\n",
    "\n",
    "True and False are called Boolean values.  We can combine Boolean values to make new Boolean values, using logical (Boolean) operators.\n",
    "\n",
    "**and** evaluates to True when both expressions are True.\n",
    "\n",
    "**or** evaluates to True when *at least* one of the expressions is True.\n",
    "\n",
    "**not** evaluates to True only when the expression was False.\n",
    "\n"
   ]
  },
  {
   "cell_type": "markdown",
   "metadata": {
    "slideshow": {
     "slide_type": "slide"
    },
    "pycharm": {
     "name": "#%% md\n"
    }
   },
   "source": [
    "Here are some examples of Boolean operators and expressions."
   ]
  },
  {
   "cell_type": "code",
   "execution_count": null,
   "metadata": {
    "id": "Him6fyu9b7Hg",
    "slideshow": {
     "slide_type": "fragment"
    },
    "pycharm": {
     "name": "#%%\n"
    }
   },
   "outputs": [],
   "source": [
    "True or False"
   ]
  },
  {
   "cell_type": "code",
   "execution_count": null,
   "metadata": {
    "id": "Gu0KBSPJb99y",
    "slideshow": {
     "slide_type": "fragment"
    },
    "pycharm": {
     "name": "#%%\n"
    }
   },
   "outputs": [],
   "source": [
    "(3 < 5) or (5 < 7)"
   ]
  },
  {
   "cell_type": "code",
   "execution_count": null,
   "metadata": {
    "id": "o7H_gqrlcCtG",
    "slideshow": {
     "slide_type": "fragment"
    },
    "pycharm": {
     "name": "#%%\n"
    }
   },
   "outputs": [],
   "source": [
    "not ((3 < 5) and (5 < 7))"
   ]
  },
  {
   "cell_type": "markdown",
   "metadata": {
    "id": "52j5W-OocRl4",
    "slideshow": {
     "slide_type": "slide"
    },
    "pycharm": {
     "name": "#%% md\n"
    }
   },
   "source": [
    "# Strings\n",
    "\n",
    "Expressions can also include text.  The technical programming term for a snippet of text is a \"string.\"  In Python, strings are surrounded by either single quotes or double quotes, thus 'this is a string' or \"this is a string\".\n"
   ]
  },
  {
   "cell_type": "markdown",
   "metadata": {
    "slideshow": {
     "slide_type": "subslide"
    },
    "pycharm": {
     "name": "#%% md\n"
    }
   },
   "source": [
    "Surrounding strings with quotation marks is how a program avoids confusion with the other numbers or pieces of text in a program.  '7' is a printable string, but 7 is a number that\n",
    "can be added or multiplied.  If you would prefer your number 7 be printable, it must be converted to a string.  And if you would prefer '7' be addable, it must be converted *from* a string."
   ]
  },
  {
   "cell_type": "markdown",
   "metadata": {
    "slideshow": {
     "slide_type": "subslide"
    },
    "pycharm": {
     "name": "#%% md\n"
    }
   },
   "source": [
    "The + operator happens to work with strings, but it no longer means addition.  It means *concatenation*, or joining two strings together to create one string."
   ]
  },
  {
   "cell_type": "code",
   "execution_count": null,
   "metadata": {
    "id": "lzBSJ_swdMNq",
    "slideshow": {
     "slide_type": "fragment"
    },
    "pycharm": {
     "name": "#%%\n"
    }
   },
   "outputs": [],
   "source": [
    "'hello' + ',' + ' ' + 'world!'"
   ]
  },
  {
   "cell_type": "markdown",
   "metadata": {
    "id": "1MYgxbK1dazz",
    "slideshow": {
     "slide_type": "slide"
    },
    "pycharm": {
     "name": "#%% md\n"
    }
   },
   "source": [
    "A number can be converted to a string in the following way.  This is calling a function, which we'll say more about later.\n"
   ]
  },
  {
   "cell_type": "code",
   "execution_count": null,
   "metadata": {
    "id": "NzbVP2DtdTUQ",
    "slideshow": {
     "slide_type": "fragment"
    },
    "pycharm": {
     "name": "#%%\n"
    }
   },
   "outputs": [],
   "source": [
    "str(3) + \" little pigs\""
   ]
  },
  {
   "cell_type": "code",
   "execution_count": null,
   "metadata": {
    "id": "NofIYHQ_d1HU",
    "slideshow": {
     "slide_type": "fragment"
    },
    "pycharm": {
     "name": "#%%\n"
    }
   },
   "outputs": [],
   "source": [
    "\"the \" + str(3) + \" amigos\""
   ]
  },
  {
   "cell_type": "markdown",
   "metadata": {
    "id": "Y_hai6twd6rg",
    "slideshow": {
     "slide_type": "slide"
    },
    "pycharm": {
     "name": "#%% md\n"
    }
   },
   "source": [
    "It's quite common to want to report some numerical value computed by your program within some text that makes it clear what the number means.  But first the number must be converted to a string.  Converting between one type of data and another is called *casting*.  We are casting a number to a string.  And if we don't do that ..."
   ]
  },
  {
   "cell_type": "code",
   "execution_count": null,
   "metadata": {
    "id": "iCxf4rxueRqi",
    "slideshow": {
     "slide_type": "fragment"
    },
    "pycharm": {
     "name": "#%%\n"
    }
   },
   "outputs": [],
   "source": [
    "\"the \" + 3 + \" amigos\""
   ]
  },
  {
   "cell_type": "markdown",
   "metadata": {
    "id": "6WfKII9leWh4",
    "slideshow": {
     "slide_type": "fragment"
    },
    "pycharm": {
     "name": "#%% md\n"
    }
   },
   "source": [
    "Here the error message is understandable:  Python is not going to do this casting for us.  (Java would allow + to join a string and an int.  Languages can differ about when they change a variable's type implicitly.)"
   ]
  },
  {
   "cell_type": "markdown",
   "metadata": {
    "id": "Heqq99aOeZ2R",
    "slideshow": {
     "slide_type": "slide"
    },
    "pycharm": {
     "name": "#%% md\n"
    }
   },
   "source": [
    "# Escape characters\n",
    "\n",
    "Certain characters would be awkward to try to type directly in a string, especially the newline character (for a line break), tab character, and single or double quotation marks.  Each of these is an \"escape character\" prefaced with \\ to distinguish it from a normal character. '\\\\' itself then also needs to be an escape character, to signal that you literally mean '\\\\'!"
   ]
  },
  {
   "cell_type": "code",
   "execution_count": null,
   "metadata": {
    "id": "vnyS4tzrfEgg",
    "slideshow": {
     "slide_type": "fragment"
    },
    "pycharm": {
     "name": "#%%\n"
    }
   },
   "outputs": [],
   "source": [
    "print('This\\tThat\\nThe other')"
   ]
  },
  {
   "cell_type": "code",
   "execution_count": null,
   "metadata": {
    "id": "qdmTiwpQfZ9U",
    "slideshow": {
     "slide_type": "fragment"
    },
    "pycharm": {
     "name": "#%%\n"
    }
   },
   "outputs": [],
   "source": [
    "print('I really do mean \\\\')"
   ]
  },
  {
   "cell_type": "markdown",
   "metadata": {
    "id": "YzSLmbxleqU1",
    "slideshow": {
     "slide_type": "slide"
    },
    "pycharm": {
     "name": "#%% md\n"
    }
   },
   "source": [
    "# Calling functions"
   ]
  },
  {
   "cell_type": "markdown",
   "metadata": {
    "id": "VdpIHkEre7ob",
    "slideshow": {
     "slide_type": "subslide"
    },
    "pycharm": {
     "name": "#%% md\n"
    }
   },
   "source": [
    "We've so far seen two functions in this document:  print(), which prints a value to the screen, and str(), which converts a number to a string so that it can be concatenated with other strings.  There are many, many functions in Python.\n",
    "\n"
   ]
  },
  {
   "cell_type": "markdown",
   "metadata": {
    "slideshow": {
     "slide_type": "subslide"
    },
    "pycharm": {
     "name": "#%% md\n"
    }
   },
   "source": [
    "Some functions are in the core language, and are usable immediately; print and str are like this.  Some are defined in \"libraries\" or \"modules\" that you need to load before you can use them.  And many of them are just defined by programmers like us."
   ]
  },
  {
   "cell_type": "markdown",
   "metadata": {
    "slideshow": {
     "slide_type": "subslide"
    },
    "pycharm": {
     "name": "#%% md\n"
    }
   },
   "source": [
    "Most of your time programming will probably be spent defining new functions - reusable tools that make the main job easier.  But for right now, we'll just look at how to make use of predefined functions.\n"
   ]
  },
  {
   "cell_type": "markdown",
   "metadata": {
    "slideshow": {
     "slide_type": "slide"
    },
    "pycharm": {
     "name": "#%% md\n"
    }
   },
   "source": [
    "A function can have zero or more arguments -- usually it takes at least one -- and then evaluates to something - it *returns* a value.  Let's take a look at *len()* as an example, which takes a string and returns the length in characters."
   ]
  },
  {
   "cell_type": "code",
   "execution_count": null,
   "metadata": {
    "id": "ezgt2rDXhWd9",
    "scrolled": true,
    "slideshow": {
     "slide_type": "fragment"
    },
    "pycharm": {
     "name": "#%%\n"
    }
   },
   "outputs": [],
   "source": [
    "len(\"foo\")"
   ]
  },
  {
   "cell_type": "code",
   "execution_count": null,
   "metadata": {
    "id": "KU7VIUX7i9MU",
    "slideshow": {
     "slide_type": "fragment"
    },
    "pycharm": {
     "name": "#%%\n"
    }
   },
   "outputs": [],
   "source": [
    "len(\"foo\") + len(\"bar\")"
   ]
  },
  {
   "cell_type": "markdown",
   "metadata": {
    "id": "SD2Ee52khox3",
    "slideshow": {
     "slide_type": "slide"
    },
    "pycharm": {
     "name": "#%% md\n"
    }
   },
   "source": [
    "Functions can be a part of expressions, and we can also put expressions inside functions."
   ]
  },
  {
   "cell_type": "code",
   "execution_count": null,
   "metadata": {
    "id": "l3VwDnkxhm3n",
    "slideshow": {
     "slide_type": "fragment"
    },
    "pycharm": {
     "name": "#%%\n"
    }
   },
   "outputs": [],
   "source": [
    "print(\"The \" + str(len(\"ABC\")) + \" amigos\")"
   ]
  },
  {
   "cell_type": "markdown",
   "metadata": {
    "id": "JV3A3GFkiDVS",
    "slideshow": {
     "slide_type": "slide"
    },
    "pycharm": {
     "name": "#%% md\n"
    }
   },
   "source": [
    "Not all functions evaluate to something.  print() just has the \"side effect\" of printing to the screen.  Even though that's obviously what print() is for, anything that doesn't contribute to a final return value is considered a side effect."
   ]
  },
  {
   "cell_type": "markdown",
   "metadata": {
    "slideshow": {
     "slide_type": "subslide"
    },
    "pycharm": {
     "name": "#%% md\n"
    }
   },
   "source": [
    "If we actually try to treat print's return value as a string, we'll get an error.  (It could have worked that way, returning the string - it just happens not to.) In the error message, we'll see print returns NoneType - it doesn't return anything.  But it also manages to get out its \"foo\" side effect before the program crashes."
   ]
  },
  {
   "cell_type": "code",
   "execution_count": null,
   "metadata": {
    "id": "dKclho43h4y9",
    "slideshow": {
     "slide_type": "fragment"
    },
    "pycharm": {
     "name": "#%%\n"
    }
   },
   "outputs": [],
   "source": [
    "print(\"foo\") + \"bar\""
   ]
  },
  {
   "cell_type": "markdown",
   "metadata": {
    "id": "3Cqfh_UGjJlF",
    "slideshow": {
     "slide_type": "slide"
    },
    "pycharm": {
     "name": "#%% md\n"
    }
   },
   "source": [
    "If the function we want is not in the core libraries, we need to import its module.  Just for this example, we'll import the math library.  This is necessary to use any functions in that library."
   ]
  },
  {
   "cell_type": "code",
   "execution_count": null,
   "metadata": {
    "id": "pRCWktdjjcfz",
    "slideshow": {
     "slide_type": "fragment"
    },
    "pycharm": {
     "name": "#%%\n"
    }
   },
   "outputs": [],
   "source": [
    "import math"
   ]
  },
  {
   "cell_type": "markdown",
   "metadata": {
    "id": "RkMlD022jjjh",
    "slideshow": {
     "slide_type": "subslide"
    },
    "pycharm": {
     "name": "#%% md\n"
    }
   },
   "source": [
    "Now we can call any function in the math module, as long as we preface it with \"math.\"  We can take square roots, for example."
   ]
  },
  {
   "cell_type": "code",
   "execution_count": null,
   "metadata": {
    "id": "wUzcz3GMjihU",
    "slideshow": {
     "slide_type": "fragment"
    },
    "pycharm": {
     "name": "#%%\n"
    }
   },
   "outputs": [],
   "source": [
    "math.sqrt(4)"
   ]
  },
  {
   "cell_type": "markdown",
   "metadata": {
    "id": "Xz-q46jCjvfx",
    "slideshow": {
     "slide_type": "subslide"
    },
    "pycharm": {
     "name": "#%% md\n"
    }
   },
   "source": [
    "It's not common to memorize the functions in a module.  Rather, we expect to make heavy use of the documentation to see what we can do and what the function arguments mean.  The documentation for math is at https://docs.python.org/3/library/math.html, and it tells us that one example of a two-argument function in this library is remainder(), which finds the remainder after division."
   ]
  },
  {
   "cell_type": "code",
   "execution_count": null,
   "metadata": {
    "id": "BpiBEPHkktwA",
    "slideshow": {
     "slide_type": "subslide"
    },
    "pycharm": {
     "name": "#%%\n"
    }
   },
   "outputs": [],
   "source": [
    "import math as m\n",
    "\n",
    "m.remainder(9,2)"
   ]
  },
  {
   "cell_type": "markdown",
   "metadata": {
    "id": "9_dGcGMAk6L3",
    "slideshow": {
     "slide_type": "subslide"
    },
    "pycharm": {
     "name": "#%% md\n"
    }
   },
   "source": [
    "Sometimes the correct order of the arguments is obvious or intuitive - it's 9 divided by 2, not 2 divided by 9 - but many other times, you will need to refer to documentation to get the order of arguments right.  Bugs where you accidentally swap arguments can be very tricky to track down!"
   ]
  },
  {
   "cell_type": "markdown",
   "metadata": {
    "pycharm": {
     "name": "#%% md\n"
    }
   },
   "source": [
    "## Exercise\n",
    "\n",
    "Google \"python math power\" to find out the name of the math function for raising x to the power of y, then compute $2^8$ with that function.  (Python also has a shorthand for power, **, but don't use it here.)"
   ]
  },
  {
   "cell_type": "code",
   "execution_count": null,
   "metadata": {
    "pycharm": {
     "name": "#%%\n"
    }
   },
   "outputs": [],
   "source": [
    "# TODO"
   ]
  },
  {
   "cell_type": "markdown",
   "metadata": {
    "id": "nUju21dIlaAI",
    "slideshow": {
     "slide_type": "slide"
    },
    "pycharm": {
     "name": "#%% md\n"
    }
   },
   "source": [
    "# Code comments"
   ]
  },
  {
   "cell_type": "markdown",
   "metadata": {
    "id": "Kzuk6H_DljiJ",
    "slideshow": {
     "slide_type": "slide"
    },
    "pycharm": {
     "name": "#%% md\n"
    }
   },
   "source": [
    "In a Jupyter notebook, it's less obvious why we'd want to put human-readable comments in code; after all, in this environment, we have text boxes.  But it's still fundamental to programming to comment your code in some way. "
   ]
  },
  {
   "cell_type": "markdown",
   "metadata": {
    "slideshow": {
     "slide_type": "fragment"
    },
    "pycharm": {
     "name": "#%% md\n"
    }
   },
   "source": [
    "If anybody else will need to interact with your code, they will be relieved that you explained your thought process.  If *you* need to interact with your code in the future, you will thank yourself for any documentation that you left for yourself."
   ]
  },
  {
   "cell_type": "markdown",
   "metadata": {
    "slideshow": {
     "slide_type": "slide"
    },
    "pycharm": {
     "name": "#%% md\n"
    }
   },
   "source": [
    "Typically, you don't need to explain anything that is immediately obvious from looking at the code.  But you should comment anything that could cause head-scratching later down the line, by adding a pound symbol (#) to the end of the line, followed by your comment.  For example:"
   ]
  },
  {
   "cell_type": "code",
   "execution_count": null,
   "metadata": {
    "id": "jegNv1Clk3Jf",
    "slideshow": {
     "slide_type": "fragment"
    },
    "pycharm": {
     "name": "#%%\n"
    }
   },
   "outputs": [],
   "source": [
    "print(\"The \" + str(len(\"ABC\")) + \" amigos\") #  Arbitrary example of nesting functions"
   ]
  },
  {
   "cell_type": "markdown",
   "metadata": {
    "id": "eVNrHnG8mbaM",
    "slideshow": {
     "slide_type": "fragment"
    },
    "pycharm": {
     "name": "#%% md\n"
    }
   },
   "source": [
    "There's a lot that is weird about that expression, but the comment reassures us that it's intentionally nonsense that just shows off nested functions."
   ]
  },
  {
   "cell_type": "markdown",
   "metadata": {
    "slideshow": {
     "slide_type": "slide"
    },
    "pycharm": {
     "name": "#%% md\n"
    }
   },
   "source": [
    "Applying this kind of logic to earlier examples would give:"
   ]
  },
  {
   "cell_type": "code",
   "execution_count": null,
   "metadata": {
    "id": "AQluv21LkxMm",
    "slideshow": {
     "slide_type": "fragment"
    },
    "pycharm": {
     "name": "#%%\n"
    }
   },
   "outputs": [],
   "source": [
    "math.remainder(9,2) # Arbitrary example of a 2-argument function"
   ]
  },
  {
   "cell_type": "code",
   "execution_count": null,
   "metadata": {
    "id": "le4m7NnLm5CI",
    "slideshow": {
     "slide_type": "fragment"
    },
    "pycharm": {
     "name": "#%%\n"
    }
   },
   "outputs": [],
   "source": [
    "print(\"foo\") + \"bar\" # Intentionally doesn't work, showing print() returns NoneType"
   ]
  },
  {
   "cell_type": "markdown",
   "metadata": {
    "id": "YQ-44yaznCOX",
    "slideshow": {
     "slide_type": "slide"
    },
    "pycharm": {
     "name": "#%% md\n"
    }
   },
   "source": [
    "These are the kinds of comments that could save the programmer headaches in the future, and save other programmers even more headaches.\n"
   ]
  },
  {
   "cell_type": "markdown",
   "metadata": {
    "slideshow": {
     "slide_type": "slide"
    },
    "pycharm": {
     "name": "#%% md\n"
    }
   },
   "source": [
    "It's also common to put long comments in multiline strings, as shown below.  This is also the conventional way to add documentation to functions you define yourself, which we'll describe later."
   ]
  },
  {
   "cell_type": "code",
   "execution_count": null,
   "metadata": {
    "id": "gkAnQGmQnXW9",
    "slideshow": {
     "slide_type": "fragment"
    },
    "pycharm": {
     "name": "#%%\n"
    }
   },
   "outputs": [],
   "source": [
    "\"\"\"This is a pretty long comment.\n",
    "It happens to evaluate to a string,\n",
    "but it's a convenient convention for handling\n",
    "multiline comments without needing to insert\n",
    "a # at every line.\"\"\""
   ]
  },
  {
   "cell_type": "markdown",
   "metadata": {
    "id": "mfiNCDY3oGvi",
    "slideshow": {
     "slide_type": "slide"
    },
    "pycharm": {
     "name": "#%% md\n"
    }
   },
   "source": [
    "# Exercise"
   ]
  },
  {
   "cell_type": "markdown",
   "metadata": {
    "id": "NLYID4cKo4VO",
    "slideshow": {
     "slide_type": "slide"
    },
    "pycharm": {
     "name": "#%% md\n"
    }
   },
   "source": [
    "In a single expression, create and print a string that contains your name, followed by the number of characters in that string, such as \"Kevin Gold 10\" (counting the space).  See if you can do this without hardcoding the number into the string; use len() and string concatenation instead."
   ]
  },
  {
   "cell_type": "code",
   "execution_count": null,
   "metadata": {
    "id": "-G4DGoaqqJPI",
    "slideshow": {
     "slide_type": "slide"
    },
    "pycharm": {
     "name": "#%%\n"
    }
   },
   "outputs": [],
   "source": [
    "# TODO"
   ]
  }
 ],
 "metadata": {
  "celltoolbar": "Slideshow",
  "colab": {
   "collapsed_sections": [],
   "name": "Lecture2ExpressionsAndMore.ipynb",
   "provenance": []
  },
  "kernelspec": {
   "display_name": "Python 3",
   "language": "python",
   "name": "python3"
  },
  "language_info": {
   "codemirror_mode": {
    "name": "ipython",
    "version": 3
   },
   "file_extension": ".py",
   "mimetype": "text/x-python",
   "name": "python",
   "nbconvert_exporter": "python",
   "pygments_lexer": "ipython3",
   "version": "3.8.8"
  },
  "rise": {
   "scroll": true
  }
 },
 "nbformat": 4,
 "nbformat_minor": 1
}