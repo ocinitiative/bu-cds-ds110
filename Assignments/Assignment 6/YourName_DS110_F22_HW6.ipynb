{
 "cells": [
  {
   "cell_type": "markdown",
   "metadata": {
    "id": "HdjVihUK9jyv"
   },
   "source": [
    "# HW6:  60 points possible"
   ]
  },
  {
   "cell_type": "markdown",
   "metadata": {
    "id": "zEzeFPRdbYlr"
   },
   "source": [
    "This assignment needs the file books2.csv, which should be at the same location where you got this file."
   ]
  },
  {
   "cell_type": "markdown",
   "metadata": {
    "id": "DEj1rxno9bo9"
   },
   "source": [
    "# Problem:  The Book Class (60 points:  3,5,5,5,6,8,12,9,7)"
   ]
  },
  {
   "cell_type": "markdown",
   "metadata": {
    "id": "qkT7p1RS9tel"
   },
   "source": [
    "a) Create a Book class with the following methods:\n",
    "\n",
    "* (3 pts) A constructor that takes the author (string), title (string), and a list of ratings (integers)\n",
    "* (5 pts) A `__str__()` method that returns the string \"[title] by [author]\" when invoked\n",
    "* (5 pts) An `average_rating()` method that takes no argument and returns the average of all the ratings in the list\n",
    "* (5 pts) A `rate()` method that takes one integer argument and adds that integer to the end of the ratings, returning the new list of ratings"
   ]
  },
  {
   "cell_type": "code",
   "execution_count": null,
   "metadata": {
    "id": "1updg7II9LhF"
   },
   "outputs": [],
   "source": [
    "# TODO Book class with __init__(), __str__(), average_rating(), rate()\n"
   ]
  },
  {
   "cell_type": "code",
   "execution_count": null,
   "metadata": {
    "id": "Io3RbBcSAsUF"
   },
   "outputs": [],
   "source": [
    "# Tests\n",
    "my_book = Book('Mary Shelley', 'Frankenstein', [5, 4, 3, 5, 3])\n",
    "print(my_book) # expect 'Frankenstein by Mary Shelley'\n",
    "print(my_book.average_rating()) # expect 4.0\n",
    "print(my_book.rate(5)) # expect [5, 4, 3, 5, 3, 5]"
   ]
  },
  {
   "cell_type": "markdown",
   "metadata": {
    "id": "P6ATI6qpE_KO"
   },
   "source": [
    "b, 6 pts) Sometimes data for an entity can be spread across multiple records in the dataset.  Code the function merge() which takes two Book objects as arguments, and returns a single Book record where the author and title match the first argument, and the ratings are a concatenation of the two ratings lists."
   ]
  },
  {
   "cell_type": "code",
   "execution_count": null,
   "metadata": {
    "id": "1iauKPJFBTFl"
   },
   "outputs": [],
   "source": [
    "# TODO merge()\n"
   ]
  },
  {
   "cell_type": "code",
   "execution_count": null,
   "metadata": {
    "id": "vL_nP3OiFq3Q"
   },
   "outputs": [],
   "source": [
    "book1 = Book('Jane Austen', 'Pride and Prejudice', [5,4,5,3])\n",
    "book2 = Book('J. Austen', 'Pride and Prejudice', [5, 5])\n",
    "book3 = merge(book1,book2)\n",
    "print(book3)\n",
    "print(book3.ratings)"
   ]
  },
  {
   "cell_type": "markdown",
   "metadata": {
    "id": "ZI-Muy47NzCU"
   },
   "source": [
    "c, 8 pts) Code a class that inherits from Book, Nonfiction.  Give it a constructor identical to Book's, except it has one additional argument:  the edition number (an int).  Then add to the Nonfiction class a method more_recent_than() which takes a Book as an argument and returns true if 1) the authors and titles match, *and* 2) the Book calling it has a higher edition number than the argument."
   ]
  },
  {
   "cell_type": "code",
   "execution_count": null,
   "metadata": {
    "id": "pbqYgcIMPEBf"
   },
   "outputs": [],
   "source": [
    "# TODO Nonfiction class with __init__(), more_recent_than()\n"
   ]
  },
  {
   "cell_type": "code",
   "execution_count": null,
   "metadata": {
    "id": "XZy0pIHxQbug"
   },
   "outputs": [],
   "source": [
    "book1 = Nonfiction('Feynman', 'Physics', [5,4,5], 1)\n",
    "book2 = Nonfiction('Feynman', 'Physics', [5,5,5], 2)\n",
    "book3 = Nonfiction('Herschbach', 'Chemistry', [5,5,5], 1)\n",
    "\n",
    "print(book2.more_recent_than(book1)) # expect True\n",
    "print(book2.more_recent_than(book3)) # expect False, author/title mismatch\n",
    "print(book3.average_rating()) # Should have inherited this method from Book"
   ]
  },
  {
   "cell_type": "markdown",
   "metadata": {
    "id": "jP_O96rDQR39"
   },
   "source": [
    "d, 12pts) Code a class Fiction that inherits from Book and has an extra attribute *sequel*, which should be a Fiction (or None if there is no sequel).  Accept an extra argument in the constructor to set this attribute.  Throw a ValueError if the sequel argument isn't a Fiction object or None.\n",
    "\n",
    "Then write a method rest_of_series() that returns a list of the remaining titles in the series (as strings).  For example, if the Book The Fellowship of the Ring had the sequel The Two Towers, and that had a sequel of The Return of the King, then calling this method of The Fellowship of the Ring would return the list of strings ['The Two Towers', 'The Return of the King'].  (Your method should work with arbitrarily long chains of sequels, not just trilogies.)"
   ]
  },
  {
   "cell_type": "code",
   "execution_count": null,
   "metadata": {
    "id": "bEKNt8iLXxR_"
   },
   "outputs": [],
   "source": [
    "# TODO Fiction class with __init__(), rest_of_series()\n"
   ]
  },
  {
   "cell_type": "code",
   "execution_count": null,
   "metadata": {
    "id": "aqihtjdXsRSk"
   },
   "outputs": [],
   "source": [
    "# Test, should throw an error because sequel isn't Fiction\n",
    "book1 = Nonfiction('Feynman', 'Physics', [5,4,5], 1)\n",
    "book2 = Fiction('Mary Shelley', 'Frankenstein', [5,5,5], book1)"
   ]
  },
  {
   "cell_type": "code",
   "execution_count": null,
   "metadata": {
    "id": "0hAMucibalvs"
   },
   "outputs": [],
   "source": [
    "# Test rest_of_series()\n",
    "king = Fiction('J.R.R. Tolkien', 'The Return of the King', [], None)\n",
    "towers = Fiction('J.R.R. Tolkien', 'The Two Towers', [], king)\n",
    "fellowship = Fiction('J.R.R. Tolkien', 'The Fellowship of the Ring', [], towers)\n",
    "hobbit = Fiction('J.R.R. Tolkien', 'The Hobbit', [], fellowship)\n",
    "\n",
    "print(hobbit.rest_of_series()) # Should be ['The Fellowship of the Ring', 'The Two Towers', 'The Return of the King']\n",
    "print(king.rest_of_series()) # Expect empty list []"
   ]
  },
  {
   "cell_type": "markdown",
   "metadata": {
    "id": "qm9H_FxWPYhT"
   },
   "source": [
    "e, 9 pts)  Create a new BookDict class.  The argument for the constructor should be the string name of a csv file.  The csv columns in order from left to right are title, author, and a comma-separated string of ratings.  The constructor should create a dictionary from title (string) to the Book object with that title.  Call that dictionary my_dict and make it a field (attribute) of the BookDict object.  (You can assume titles are unique for this exercise.  Note that you will need to use the function float() to convert string ratings to floating point numbers.)\n",
    "\n",
    "f, 7 pts) The one other method for the BookDict, lookup(), should take a title (string) as an argument, and print the information stored in the Book for that title.  The printed information should follow the format '[title] by [author] (average_rating)' -- for example, 'Pride and Prejudice by Jane Austen (4.2)'.  Print no more than two digits after the decimal place.  lookup() should also return the Book, besides printing its information.  If the title isn't in the dictionary, print 'Not Found' and return None.  Use methods you have already created when you can.  You can again assume titles are unique."
   ]
  },
  {
   "cell_type": "code",
   "execution_count": null,
   "metadata": {
    "id": "Y9R-L1jktq78"
   },
   "outputs": [],
   "source": [
    "# TODO BookDict class with __init__(), lookup()"
   ]
  },
  {
   "cell_type": "code",
   "execution_count": null,
   "metadata": {
    "id": "LLci7VTbXBsD"
   },
   "outputs": [],
   "source": [
    "from google.colab import files\n",
    "files.upload() # Upload books2.csv"
   ]
  },
  {
   "cell_type": "code",
   "execution_count": null,
   "metadata": {
    "id": "EnqIm7luXO6-"
   },
   "outputs": [],
   "source": [
    "# Test:  should print 'Pride and Prejudice by Jane Austen (4.2)'\n",
    "my_bookdict = BookDict('books2.csv')\n",
    "my_book = my_bookdict.lookup('Pride and Prejudice')\n",
    "# Test:  should print 'Not Found'\n",
    "book2 = my_bookdict.lookup('Erehwon')"
   ]
  }
 ],
 "metadata": {
  "colab": {
   "collapsed_sections": [],
   "name": "YourName_DS110_F22_HW6",
   "provenance": []
  },
  "kernelspec": {
   "display_name": "Python 3.10.7 64-bit",
   "language": "python",
   "name": "python3"
  },
  "language_info": {
   "codemirror_mode": {
    "name": "ipython",
    "version": 3
   },
   "file_extension": ".py",
   "mimetype": "text/x-python",
   "name": "python",
   "nbconvert_exporter": "python",
   "pygments_lexer": "ipython3",
   "version": "3.10.7"
  },
  "vscode": {
   "interpreter": {
    "hash": "aee8b7b246df8f9039afb4144a1f6fd8d2ca17a180786b69acc140d282b71a49"
   }
  }
 },
 "nbformat": 4,
 "nbformat_minor": 1
}
