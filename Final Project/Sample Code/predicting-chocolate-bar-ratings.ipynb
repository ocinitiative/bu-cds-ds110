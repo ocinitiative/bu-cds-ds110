{
 "cells": [
  {
   "cell_type": "markdown",
   "execution_count": null,
   "metadata": {
    "papermill": {
     "duration": 0.00734,
     "end_time": "2020-08-29T15:41:08.667004",
     "exception": false,
     "start_time": "2020-08-29T15:41:08.659664",
     "status": "completed"
    },
    "tags": []
   },
   "source": [
    "# Getting Started"
   ]
  },
  {
   "cell_type": "code",
   "execution_count": 1,
   "metadata": {
    "_cell_guid": "79c7e3d0-c299-4dcb-8224-4455121ee9b0",
    "_uuid": "d629ff2d2480ee46fbb7e2d37f6b5fab8052498a",
    "execution": {
     "iopub.execute_input": "2020-08-29T15:41:08.687808Z",
     "iopub.status.busy": "2020-08-29T15:41:08.687218Z",
     "iopub.status.idle": "2020-08-29T15:41:15.163359Z",
     "shell.execute_reply": "2020-08-29T15:41:15.162763Z"
    },
    "papermill": {
     "duration": 6.490248,
     "end_time": "2020-08-29T15:41:15.163477",
     "exception": false,
     "start_time": "2020-08-29T15:41:08.673229",
     "status": "completed"
    },
    "tags": []
   },
   "outputs": [],
   "source": [
    "import numpy as np\n",
    "import pandas as pd\n",
    "import matplotlib.pyplot as plt\n",
    "import seaborn as sns\n",
    "\n",
    "from sklearn.preprocessing import MinMaxScaler\n",
    "from sklearn.model_selection import train_test_split\n",
    "\n",
    "import tensorflow as tf"
   ]
  },
  {
   "cell_type": "code",
   "execution_count": 2,
   "metadata": {
    "execution": {
     "iopub.execute_input": "2020-08-29T15:41:15.186972Z",
     "iopub.status.busy": "2020-08-29T15:41:15.186332Z",
     "iopub.status.idle": "2020-08-29T15:41:15.217470Z",
     "shell.execute_reply": "2020-08-29T15:41:15.216799Z"
    },
    "papermill": {
     "duration": 0.047227,
     "end_time": "2020-08-29T15:41:15.217576",
     "exception": false,
     "start_time": "2020-08-29T15:41:15.170349",
     "status": "completed"
    },
    "tags": []
   },
   "outputs": [],
   "source": [
    "data = pd.read_csv(\"../input/chocolate-bar-ratings/flavors_of_cacao.csv\")"
   ]
  },
  {
   "cell_type": "code",
   "execution_count": 3,
   "metadata": {
    "execution": {
     "iopub.execute_input": "2020-08-29T15:41:15.239339Z",
     "iopub.status.busy": "2020-08-29T15:41:15.238690Z",
     "iopub.status.idle": "2020-08-29T15:41:15.266105Z",
     "shell.execute_reply": "2020-08-29T15:41:15.266745Z"
    },
    "papermill": {
     "duration": 0.04266,
     "end_time": "2020-08-29T15:41:15.266931",
     "exception": false,
     "start_time": "2020-08-29T15:41:15.224271",
     "status": "completed"
    },
    "tags": []
   },
   "outputs": [
    {
     "data": {
      "text/html": [
       "<div>\n",
       "<style scoped>\n",
       "    .dataframe tbody tr th:only-of-type {\n",
       "        vertical-align: middle;\n",
       "    }\n",
       "\n",
       "    .dataframe tbody tr th {\n",
       "        vertical-align: top;\n",
       "    }\n",
       "\n",
       "    .dataframe thead th {\n",
       "        text-align: right;\n",
       "    }\n",
       "</style>\n",
       "<table border=\"1\" class=\"dataframe\">\n",
       "  <thead>\n",
       "    <tr style=\"text-align: right;\">\n",
       "      <th></th>\n",
       "      <th>Company \\n(Maker-if known)</th>\n",
       "      <th>Specific Bean Origin\\nor Bar Name</th>\n",
       "      <th>REF</th>\n",
       "      <th>Review\\nDate</th>\n",
       "      <th>Cocoa\\nPercent</th>\n",
       "      <th>Company\\nLocation</th>\n",
       "      <th>Rating</th>\n",
       "      <th>Bean\\nType</th>\n",
       "      <th>Broad Bean\\nOrigin</th>\n",
       "    </tr>\n",
       "  </thead>\n",
       "  <tbody>\n",
       "    <tr>\n",
       "      <th>0</th>\n",
       "      <td>A. Morin</td>\n",
       "      <td>Agua Grande</td>\n",
       "      <td>1876</td>\n",
       "      <td>2016</td>\n",
       "      <td>63%</td>\n",
       "      <td>France</td>\n",
       "      <td>3.75</td>\n",
       "      <td></td>\n",
       "      <td>Sao Tome</td>\n",
       "    </tr>\n",
       "    <tr>\n",
       "      <th>1</th>\n",
       "      <td>A. Morin</td>\n",
       "      <td>Kpime</td>\n",
       "      <td>1676</td>\n",
       "      <td>2015</td>\n",
       "      <td>70%</td>\n",
       "      <td>France</td>\n",
       "      <td>2.75</td>\n",
       "      <td></td>\n",
       "      <td>Togo</td>\n",
       "    </tr>\n",
       "    <tr>\n",
       "      <th>2</th>\n",
       "      <td>A. Morin</td>\n",
       "      <td>Atsane</td>\n",
       "      <td>1676</td>\n",
       "      <td>2015</td>\n",
       "      <td>70%</td>\n",
       "      <td>France</td>\n",
       "      <td>3.00</td>\n",
       "      <td></td>\n",
       "      <td>Togo</td>\n",
       "    </tr>\n",
       "    <tr>\n",
       "      <th>3</th>\n",
       "      <td>A. Morin</td>\n",
       "      <td>Akata</td>\n",
       "      <td>1680</td>\n",
       "      <td>2015</td>\n",
       "      <td>70%</td>\n",
       "      <td>France</td>\n",
       "      <td>3.50</td>\n",
       "      <td></td>\n",
       "      <td>Togo</td>\n",
       "    </tr>\n",
       "    <tr>\n",
       "      <th>4</th>\n",
       "      <td>A. Morin</td>\n",
       "      <td>Quilla</td>\n",
       "      <td>1704</td>\n",
       "      <td>2015</td>\n",
       "      <td>70%</td>\n",
       "      <td>France</td>\n",
       "      <td>3.50</td>\n",
       "      <td></td>\n",
       "      <td>Peru</td>\n",
       "    </tr>\n",
       "    <tr>\n",
       "      <th>...</th>\n",
       "      <td>...</td>\n",
       "      <td>...</td>\n",
       "      <td>...</td>\n",
       "      <td>...</td>\n",
       "      <td>...</td>\n",
       "      <td>...</td>\n",
       "      <td>...</td>\n",
       "      <td>...</td>\n",
       "      <td>...</td>\n",
       "    </tr>\n",
       "    <tr>\n",
       "      <th>1790</th>\n",
       "      <td>Zotter</td>\n",
       "      <td>Peru</td>\n",
       "      <td>647</td>\n",
       "      <td>2011</td>\n",
       "      <td>70%</td>\n",
       "      <td>Austria</td>\n",
       "      <td>3.75</td>\n",
       "      <td></td>\n",
       "      <td>Peru</td>\n",
       "    </tr>\n",
       "    <tr>\n",
       "      <th>1791</th>\n",
       "      <td>Zotter</td>\n",
       "      <td>Congo</td>\n",
       "      <td>749</td>\n",
       "      <td>2011</td>\n",
       "      <td>65%</td>\n",
       "      <td>Austria</td>\n",
       "      <td>3.00</td>\n",
       "      <td>Forastero</td>\n",
       "      <td>Congo</td>\n",
       "    </tr>\n",
       "    <tr>\n",
       "      <th>1792</th>\n",
       "      <td>Zotter</td>\n",
       "      <td>Kerala State</td>\n",
       "      <td>749</td>\n",
       "      <td>2011</td>\n",
       "      <td>65%</td>\n",
       "      <td>Austria</td>\n",
       "      <td>3.50</td>\n",
       "      <td>Forastero</td>\n",
       "      <td>India</td>\n",
       "    </tr>\n",
       "    <tr>\n",
       "      <th>1793</th>\n",
       "      <td>Zotter</td>\n",
       "      <td>Kerala State</td>\n",
       "      <td>781</td>\n",
       "      <td>2011</td>\n",
       "      <td>62%</td>\n",
       "      <td>Austria</td>\n",
       "      <td>3.25</td>\n",
       "      <td></td>\n",
       "      <td>India</td>\n",
       "    </tr>\n",
       "    <tr>\n",
       "      <th>1794</th>\n",
       "      <td>Zotter</td>\n",
       "      <td>Brazil, Mitzi Blue</td>\n",
       "      <td>486</td>\n",
       "      <td>2010</td>\n",
       "      <td>65%</td>\n",
       "      <td>Austria</td>\n",
       "      <td>3.00</td>\n",
       "      <td></td>\n",
       "      <td>Brazil</td>\n",
       "    </tr>\n",
       "  </tbody>\n",
       "</table>\n",
       "<p>1795 rows × 9 columns</p>\n",
       "</div>"
      ],
      "text/plain": [
       "     Company \\n(Maker-if known) Specific Bean Origin\\nor Bar Name   REF  \\\n",
       "0                      A. Morin                       Agua Grande  1876   \n",
       "1                      A. Morin                             Kpime  1676   \n",
       "2                      A. Morin                            Atsane  1676   \n",
       "3                      A. Morin                             Akata  1680   \n",
       "4                      A. Morin                            Quilla  1704   \n",
       "...                         ...                               ...   ...   \n",
       "1790                     Zotter                              Peru   647   \n",
       "1791                     Zotter                             Congo   749   \n",
       "1792                     Zotter                      Kerala State   749   \n",
       "1793                     Zotter                      Kerala State   781   \n",
       "1794                     Zotter                Brazil, Mitzi Blue   486   \n",
       "\n",
       "      Review\\nDate Cocoa\\nPercent Company\\nLocation  Rating Bean\\nType  \\\n",
       "0             2016            63%            France    3.75              \n",
       "1             2015            70%            France    2.75              \n",
       "2             2015            70%            France    3.00              \n",
       "3             2015            70%            France    3.50              \n",
       "4             2015            70%            France    3.50              \n",
       "...            ...            ...               ...     ...        ...   \n",
       "1790          2011            70%           Austria    3.75              \n",
       "1791          2011            65%           Austria    3.00  Forastero   \n",
       "1792          2011            65%           Austria    3.50  Forastero   \n",
       "1793          2011            62%           Austria    3.25              \n",
       "1794          2010            65%           Austria    3.00              \n",
       "\n",
       "     Broad Bean\\nOrigin  \n",
       "0              Sao Tome  \n",
       "1                  Togo  \n",
       "2                  Togo  \n",
       "3                  Togo  \n",
       "4                  Peru  \n",
       "...                 ...  \n",
       "1790               Peru  \n",
       "1791              Congo  \n",
       "1792              India  \n",
       "1793              India  \n",
       "1794             Brazil  \n",
       "\n",
       "[1795 rows x 9 columns]"
      ]
     },
     "execution_count": 3,
     "metadata": {},
     "output_type": "execute_result"
    }
   ],
   "source": [
    "data"
   ]
  },
  {
   "cell_type": "code",
   "execution_count": 4,
   "metadata": {
    "execution": {
     "iopub.execute_input": "2020-08-29T15:41:15.293317Z",
     "iopub.status.busy": "2020-08-29T15:41:15.292458Z",
     "iopub.status.idle": "2020-08-29T15:41:15.552174Z",
     "shell.execute_reply": "2020-08-29T15:41:15.551345Z"
    },
    "papermill": {
     "duration": 0.274359,
     "end_time": "2020-08-29T15:41:15.552298",
     "exception": false,
     "start_time": "2020-08-29T15:41:15.277939",
     "status": "completed"
    },
    "tags": []
   },
   "outputs": [
    {
     "data": {
      "image/png": "[encoded data removed]",
      "text/plain": [
       "<Figure size 864x720 with 2 Axes>"
      ]
     },
     "metadata": {
      "needs_background": "light"
     },
     "output_type": "display_data"
    }
   ],
   "source": [
    "plt.figure(figsize=(12, 10))\n",
    "sns.heatmap(data.corr(), annot=True)\n",
    "plt.show()"
   ]
  },
  {
   "cell_type": "code",
   "execution_count": 5,
   "metadata": {
    "execution": {
     "iopub.execute_input": "2020-08-29T15:41:15.585085Z",
     "iopub.status.busy": "2020-08-29T15:41:15.584187Z",
     "iopub.status.idle": "2020-08-29T15:41:15.587408Z",
     "shell.execute_reply": "2020-08-29T15:41:15.586910Z"
    },
    "papermill": {
     "duration": 0.024118,
     "end_time": "2020-08-29T15:41:15.587508",
     "exception": false,
     "start_time": "2020-08-29T15:41:15.563390",
     "status": "completed"
    },
    "tags": []
   },
   "outputs": [],
   "source": [
    "data.drop(['REF', 'Review\\nDate'], axis=1, inplace=True)"
   ]
  },
  {
   "cell_type": "code",
   "execution_count": 6,
   "metadata": {
    "execution": {
     "iopub.execute_input": "2020-08-29T15:41:15.620605Z",
     "iopub.status.busy": "2020-08-29T15:41:15.619744Z",
     "iopub.status.idle": "2020-08-29T15:41:15.623987Z",
     "shell.execute_reply": "2020-08-29T15:41:15.623453Z"
    },
    "papermill": {
     "duration": 0.029467,
     "end_time": "2020-08-29T15:41:15.624093",
     "exception": false,
     "start_time": "2020-08-29T15:41:15.594626",
     "status": "completed"
    },
    "tags": []
   },
   "outputs": [
    {
     "data": {
      "text/html": [
       "<div>\n",
       "<style scoped>\n",
       "    .dataframe tbody tr th:only-of-type {\n",
       "        vertical-align: middle;\n",
       "    }\n",
       "\n",
       "    .dataframe tbody tr th {\n",
       "        vertical-align: top;\n",
       "    }\n",
       "\n",
       "    .dataframe thead th {\n",
       "        text-align: right;\n",
       "    }\n",
       "</style>\n",
       "<table border=\"1\" class=\"dataframe\">\n",
       "  <thead>\n",
       "    <tr style=\"text-align: right;\">\n",
       "      <th></th>\n",
       "      <th>Company \\n(Maker-if known)</th>\n",
       "      <th>Specific Bean Origin\\nor Bar Name</th>\n",
       "      <th>Cocoa\\nPercent</th>\n",
       "      <th>Company\\nLocation</th>\n",
       "      <th>Rating</th>\n",
       "      <th>Bean\\nType</th>\n",
       "      <th>Broad Bean\\nOrigin</th>\n",
       "    </tr>\n",
       "  </thead>\n",
       "  <tbody>\n",
       "    <tr>\n",
       "      <th>0</th>\n",
       "      <td>A. Morin</td>\n",
       "      <td>Agua Grande</td>\n",
       "      <td>63%</td>\n",
       "      <td>France</td>\n",
       "      <td>3.75</td>\n",
       "      <td></td>\n",
       "      <td>Sao Tome</td>\n",
       "    </tr>\n",
       "    <tr>\n",
       "      <th>1</th>\n",
       "      <td>A. Morin</td>\n",
       "      <td>Kpime</td>\n",
       "      <td>70%</td>\n",
       "      <td>France</td>\n",
       "      <td>2.75</td>\n",
       "      <td></td>\n",
       "      <td>Togo</td>\n",
       "    </tr>\n",
       "    <tr>\n",
       "      <th>2</th>\n",
       "      <td>A. Morin</td>\n",
       "      <td>Atsane</td>\n",
       "      <td>70%</td>\n",
       "      <td>France</td>\n",
       "      <td>3.00</td>\n",
       "      <td></td>\n",
       "      <td>Togo</td>\n",
       "    </tr>\n",
       "    <tr>\n",
       "      <th>3</th>\n",
       "      <td>A. Morin</td>\n",
       "      <td>Akata</td>\n",
       "      <td>70%</td>\n",
       "      <td>France</td>\n",
       "      <td>3.50</td>\n",
       "      <td></td>\n",
       "      <td>Togo</td>\n",
       "    </tr>\n",
       "    <tr>\n",
       "      <th>4</th>\n",
       "      <td>A. Morin</td>\n",
       "      <td>Quilla</td>\n",
       "      <td>70%</td>\n",
       "      <td>France</td>\n",
       "      <td>3.50</td>\n",
       "      <td></td>\n",
       "      <td>Peru</td>\n",
       "    </tr>\n",
       "    <tr>\n",
       "      <th>...</th>\n",
       "      <td>...</td>\n",
       "      <td>...</td>\n",
       "      <td>...</td>\n",
       "      <td>...</td>\n",
       "      <td>...</td>\n",
       "      <td>...</td>\n",
       "      <td>...</td>\n",
       "    </tr>\n",
       "    <tr>\n",
       "      <th>1790</th>\n",
       "      <td>Zotter</td>\n",
       "      <td>Peru</td>\n",
       "      <td>70%</td>\n",
       "      <td>Austria</td>\n",
       "      <td>3.75</td>\n",
       "      <td></td>\n",
       "      <td>Peru</td>\n",
       "    </tr>\n",
       "    <tr>\n",
       "      <th>1791</th>\n",
       "      <td>Zotter</td>\n",
       "      <td>Congo</td>\n",
       "      <td>65%</td>\n",
       "      <td>Austria</td>\n",
       "      <td>3.00</td>\n",
       "      <td>Forastero</td>\n",
       "      <td>Congo</td>\n",
       "    </tr>\n",
       "    <tr>\n",
       "      <th>1792</th>\n",
       "      <td>Zotter</td>\n",
       "      <td>Kerala State</td>\n",
       "      <td>65%</td>\n",
       "      <td>Austria</td>\n",
       "      <td>3.50</td>\n",
       "      <td>Forastero</td>\n",
       "      <td>India</td>\n",
       "    </tr>\n",
       "    <tr>\n",
       "      <th>1793</th>\n",
       "      <td>Zotter</td>\n",
       "      <td>Kerala State</td>\n",
       "      <td>62%</td>\n",
       "      <td>Austria</td>\n",
       "      <td>3.25</td>\n",
       "      <td></td>\n",
       "      <td>India</td>\n",
       "    </tr>\n",
       "    <tr>\n",
       "      <th>1794</th>\n",
       "      <td>Zotter</td>\n",
       "      <td>Brazil, Mitzi Blue</td>\n",
       "      <td>65%</td>\n",
       "      <td>Austria</td>\n",
       "      <td>3.00</td>\n",
       "      <td></td>\n",
       "      <td>Brazil</td>\n",
       "    </tr>\n",
       "  </tbody>\n",
       "</table>\n",
       "<p>1795 rows × 7 columns</p>\n",
       "</div>"
      ],
      "text/plain": [
       "     Company \\n(Maker-if known) Specific Bean Origin\\nor Bar Name  \\\n",
       "0                      A. Morin                       Agua Grande   \n",
       "1                      A. Morin                             Kpime   \n",
       "2                      A. Morin                            Atsane   \n",
       "3                      A. Morin                             Akata   \n",
       "4                      A. Morin                            Quilla   \n",
       "...                         ...                               ...   \n",
       "1790                     Zotter                              Peru   \n",
       "1791                     Zotter                             Congo   \n",
       "1792                     Zotter                      Kerala State   \n",
       "1793                     Zotter                      Kerala State   \n",
       "1794                     Zotter                Brazil, Mitzi Blue   \n",
       "\n",
       "     Cocoa\\nPercent Company\\nLocation  Rating Bean\\nType Broad Bean\\nOrigin  \n",
       "0               63%            France    3.75                      Sao Tome  \n",
       "1               70%            France    2.75                          Togo  \n",
       "2               70%            France    3.00                          Togo  \n",
       "3               70%            France    3.50                          Togo  \n",
       "4               70%            France    3.50                          Peru  \n",
       "...             ...               ...     ...        ...                ...  \n",
       "1790            70%           Austria    3.75                          Peru  \n",
       "1791            65%           Austria    3.00  Forastero              Congo  \n",
       "1792            65%           Austria    3.50  Forastero              India  \n",
       "1793            62%           Austria    3.25                         India  \n",
       "1794            65%           Austria    3.00                        Brazil  \n",
       "\n",
       "[1795 rows x 7 columns]"
      ]
     },
     "execution_count": 6,
     "metadata": {},
     "output_type": "execute_result"
    }
   ],
   "source": [
    "data"
   ]
  },
  {
   "cell_type": "markdown",
   "execution_count": null,
   "metadata": {
    "papermill": {
     "duration": 0.007106,
     "end_time": "2020-08-29T15:41:15.638627",
     "exception": false,
     "start_time": "2020-08-29T15:41:15.631521",
     "status": "completed"
    },
    "tags": []
   },
   "source": [
    "# Preprocesing"
   ]
  },
  {
   "cell_type": "code",
   "execution_count": 7,
   "metadata": {
    "execution": {
     "iopub.execute_input": "2020-08-29T15:41:15.660450Z",
     "iopub.status.busy": "2020-08-29T15:41:15.659767Z",
     "iopub.status.idle": "2020-08-29T15:41:15.664944Z",
     "shell.execute_reply": "2020-08-29T15:41:15.664442Z"
    },
    "papermill": {
     "duration": 0.019172,
     "end_time": "2020-08-29T15:41:15.665043",
     "exception": false,
     "start_time": "2020-08-29T15:41:15.645871",
     "status": "completed"
    },
    "tags": []
   },
   "outputs": [
    {
     "data": {
      "text/plain": [
       "Company \\n(Maker-if known)           0\n",
       "Specific Bean Origin\\nor Bar Name    0\n",
       "Cocoa\\nPercent                       0\n",
       "Company\\nLocation                    0\n",
       "Rating                               0\n",
       "Bean\\nType                           1\n",
       "Broad Bean\\nOrigin                   1\n",
       "dtype: int64"
      ]
     },
     "execution_count": 7,
     "metadata": {},
     "output_type": "execute_result"
    }
   ],
   "source": [
    "data.isnull().sum()"
   ]
  },
  {
   "cell_type": "code",
   "execution_count": 8,
   "metadata": {
    "execution": {
     "iopub.execute_input": "2020-08-29T15:41:15.688386Z",
     "iopub.status.busy": "2020-08-29T15:41:15.687771Z",
     "iopub.status.idle": "2020-08-29T15:41:15.711805Z",
     "shell.execute_reply": "2020-08-29T15:41:15.711259Z"
    },
    "papermill": {
     "duration": 0.039262,
     "end_time": "2020-08-29T15:41:15.711931",
     "exception": false,
     "start_time": "2020-08-29T15:41:15.672669",
     "status": "completed"
    },
    "tags": []
   },
   "outputs": [],
   "source": [
    "data = data.dropna(axis=0)"
   ]
  },
  {
   "cell_type": "code",
   "execution_count": 9,
   "metadata": {
    "execution": {
     "iopub.execute_input": "2020-08-29T15:41:15.733265Z",
     "iopub.status.busy": "2020-08-29T15:41:15.732576Z",
     "iopub.status.idle": "2020-08-29T15:41:15.737216Z",
     "shell.execute_reply": "2020-08-29T15:41:15.737726Z"
    },
    "papermill": {
     "duration": 0.018018,
     "end_time": "2020-08-29T15:41:15.737871",
     "exception": false,
     "start_time": "2020-08-29T15:41:15.719853",
     "status": "completed"
    },
    "tags": []
   },
   "outputs": [
    {
     "data": {
      "text/plain": [
       "Company \\n(Maker-if known)            object\n",
       "Specific Bean Origin\\nor Bar Name     object\n",
       "Cocoa\\nPercent                        object\n",
       "Company\\nLocation                     object\n",
       "Rating                               float64\n",
       "Bean\\nType                            object\n",
       "Broad Bean\\nOrigin                    object\n",
       "dtype: object"
      ]
     },
     "execution_count": 9,
     "metadata": {},
     "output_type": "execute_result"
    }
   ],
   "source": [
    "data.dtypes"
   ]
  },
  {
   "cell_type": "code",
   "execution_count": 10,
   "metadata": {
    "execution": {
     "iopub.execute_input": "2020-08-29T15:41:15.758165Z",
     "iopub.status.busy": "2020-08-29T15:41:15.757449Z",
     "iopub.status.idle": "2020-08-29T15:41:15.760730Z",
     "shell.execute_reply": "2020-08-29T15:41:15.761226Z"
    },
    "papermill": {
     "duration": 0.015679,
     "end_time": "2020-08-29T15:41:15.761350",
     "exception": false,
     "start_time": "2020-08-29T15:41:15.745671",
     "status": "completed"
    },
    "tags": []
   },
   "outputs": [],
   "source": [
    "data.columns = ['Company', 'SpecificOrigin', 'CocoaPercent', 'Location', 'Rating', 'BeanType', 'BroadOrigin']"
   ]
  },
  {
   "cell_type": "code",
   "execution_count": 11,
   "metadata": {
    "execution": {
     "iopub.execute_input": "2020-08-29T15:41:15.800550Z",
     "iopub.status.busy": "2020-08-29T15:41:15.799827Z",
     "iopub.status.idle": "2020-08-29T15:41:15.805285Z",
     "shell.execute_reply": "2020-08-29T15:41:15.804669Z"
    },
    "papermill": {
     "duration": 0.03603,
     "end_time": "2020-08-29T15:41:15.805386",
     "exception": false,
     "start_time": "2020-08-29T15:41:15.769356",
     "status": "completed"
    },
    "tags": []
   },
   "outputs": [
    {
     "data": {
      "text/html": [
       "<div>\n",
       "<style scoped>\n",
       "    .dataframe tbody tr th:only-of-type {\n",
       "        vertical-align: middle;\n",
       "    }\n",
       "\n",
       "    .dataframe tbody tr th {\n",
       "        vertical-align: top;\n",
       "    }\n",
       "\n",
       "    .dataframe thead th {\n",
       "        text-align: right;\n",
       "    }\n",
       "</style>\n",
       "<table border=\"1\" class=\"dataframe\">\n",
       "  <thead>\n",
       "    <tr style=\"text-align: right;\">\n",
       "      <th></th>\n",
       "      <th>Company</th>\n",
       "      <th>SpecificOrigin</th>\n",
       "      <th>CocoaPercent</th>\n",
       "      <th>Location</th>\n",
       "      <th>Rating</th>\n",
       "      <th>BeanType</th>\n",
       "      <th>BroadOrigin</th>\n",
       "    </tr>\n",
       "  </thead>\n",
       "  <tbody>\n",
       "    <tr>\n",
       "      <th>0</th>\n",
       "      <td>A. Morin</td>\n",
       "      <td>Agua Grande</td>\n",
       "      <td>63%</td>\n",
       "      <td>France</td>\n",
       "      <td>3.75</td>\n",
       "      <td></td>\n",
       "      <td>Sao Tome</td>\n",
       "    </tr>\n",
       "    <tr>\n",
       "      <th>1</th>\n",
       "      <td>A. Morin</td>\n",
       "      <td>Kpime</td>\n",
       "      <td>70%</td>\n",
       "      <td>France</td>\n",
       "      <td>2.75</td>\n",
       "      <td></td>\n",
       "      <td>Togo</td>\n",
       "    </tr>\n",
       "    <tr>\n",
       "      <th>2</th>\n",
       "      <td>A. Morin</td>\n",
       "      <td>Atsane</td>\n",
       "      <td>70%</td>\n",
       "      <td>France</td>\n",
       "      <td>3.00</td>\n",
       "      <td></td>\n",
       "      <td>Togo</td>\n",
       "    </tr>\n",
       "    <tr>\n",
       "      <th>3</th>\n",
       "      <td>A. Morin</td>\n",
       "      <td>Akata</td>\n",
       "      <td>70%</td>\n",
       "      <td>France</td>\n",
       "      <td>3.50</td>\n",
       "      <td></td>\n",
       "      <td>Togo</td>\n",
       "    </tr>\n",
       "    <tr>\n",
       "      <th>4</th>\n",
       "      <td>A. Morin</td>\n",
       "      <td>Quilla</td>\n",
       "      <td>70%</td>\n",
       "      <td>France</td>\n",
       "      <td>3.50</td>\n",
       "      <td></td>\n",
       "      <td>Peru</td>\n",
       "    </tr>\n",
       "    <tr>\n",
       "      <th>...</th>\n",
       "      <td>...</td>\n",
       "      <td>...</td>\n",
       "      <td>...</td>\n",
       "      <td>...</td>\n",
       "      <td>...</td>\n",
       "      <td>...</td>\n",
       "      <td>...</td>\n",
       "    </tr>\n",
       "    <tr>\n",
       "      <th>1790</th>\n",
       "      <td>Zotter</td>\n",
       "      <td>Peru</td>\n",
       "      <td>70%</td>\n",
       "      <td>Austria</td>\n",
       "      <td>3.75</td>\n",
       "      <td></td>\n",
       "      <td>Peru</td>\n",
       "    </tr>\n",
       "    <tr>\n",
       "      <th>1791</th>\n",
       "      <td>Zotter</td>\n",
       "      <td>Congo</td>\n",
       "      <td>65%</td>\n",
       "      <td>Austria</td>\n",
       "      <td>3.00</td>\n",
       "      <td>Forastero</td>\n",
       "      <td>Congo</td>\n",
       "    </tr>\n",
       "    <tr>\n",
       "      <th>1792</th>\n",
       "      <td>Zotter</td>\n",
       "      <td>Kerala State</td>\n",
       "      <td>65%</td>\n",
       "      <td>Austria</td>\n",
       "      <td>3.50</td>\n",
       "      <td>Forastero</td>\n",
       "      <td>India</td>\n",
       "    </tr>\n",
       "    <tr>\n",
       "      <th>1793</th>\n",
       "      <td>Zotter</td>\n",
       "      <td>Kerala State</td>\n",
       "      <td>62%</td>\n",
       "      <td>Austria</td>\n",
       "      <td>3.25</td>\n",
       "      <td></td>\n",
       "      <td>India</td>\n",
       "    </tr>\n",
       "    <tr>\n",
       "      <th>1794</th>\n",
       "      <td>Zotter</td>\n",
       "      <td>Brazil, Mitzi Blue</td>\n",
       "      <td>65%</td>\n",
       "      <td>Austria</td>\n",
       "      <td>3.00</td>\n",
       "      <td></td>\n",
       "      <td>Brazil</td>\n",
       "    </tr>\n",
       "  </tbody>\n",
       "</table>\n",
       "<p>1793 rows × 7 columns</p>\n",
       "</div>"
      ],
      "text/plain": [
       "       Company      SpecificOrigin CocoaPercent Location  Rating   BeanType  \\\n",
       "0     A. Morin         Agua Grande          63%   France    3.75              \n",
       "1     A. Morin               Kpime          70%   France    2.75              \n",
       "2     A. Morin              Atsane          70%   France    3.00              \n",
       "3     A. Morin               Akata          70%   France    3.50              \n",
       "4     A. Morin              Quilla          70%   France    3.50              \n",
       "...        ...                 ...          ...      ...     ...        ...   \n",
       "1790    Zotter                Peru          70%  Austria    3.75              \n",
       "1791    Zotter               Congo          65%  Austria    3.00  Forastero   \n",
       "1792    Zotter        Kerala State          65%  Austria    3.50  Forastero   \n",
       "1793    Zotter        Kerala State          62%  Austria    3.25              \n",
       "1794    Zotter  Brazil, Mitzi Blue          65%  Austria    3.00              \n",
       "\n",
       "     BroadOrigin  \n",
       "0       Sao Tome  \n",
       "1           Togo  \n",
       "2           Togo  \n",
       "3           Togo  \n",
       "4           Peru  \n",
       "...          ...  \n",
       "1790        Peru  \n",
       "1791       Congo  \n",
       "1792       India  \n",
       "1793       India  \n",
       "1794      Brazil  \n",
       "\n",
       "[1793 rows x 7 columns]"
      ]
     },
     "execution_count": 11,
     "metadata": {},
     "output_type": "execute_result"
    }
   ],
   "source": [
    "data"
   ]
  },
  {
   "cell_type": "code",
   "execution_count": 12,
   "metadata": {
    "execution": {
     "iopub.execute_input": "2020-08-29T15:41:15.826478Z",
     "iopub.status.busy": "2020-08-29T15:41:15.825876Z",
     "iopub.status.idle": "2020-08-29T15:41:15.829595Z",
     "shell.execute_reply": "2020-08-29T15:41:15.829085Z"
    },
    "papermill": {
     "duration": 0.016141,
     "end_time": "2020-08-29T15:41:15.829700",
     "exception": false,
     "start_time": "2020-08-29T15:41:15.813559",
     "status": "completed"
    },
    "tags": []
   },
   "outputs": [],
   "source": [
    "def removePercents(data):\n",
    "    return data.apply(lambda x: float(x.strip('%')) / 100)"
   ]
  },
  {
   "cell_type": "code",
   "execution_count": 13,
   "metadata": {
    "execution": {
     "iopub.execute_input": "2020-08-29T15:41:15.855243Z",
     "iopub.status.busy": "2020-08-29T15:41:15.854369Z",
     "iopub.status.idle": "2020-08-29T15:41:15.859061Z",
     "shell.execute_reply": "2020-08-29T15:41:15.859514Z"
    },
    "papermill": {
     "duration": 0.021374,
     "end_time": "2020-08-29T15:41:15.859637",
     "exception": false,
     "start_time": "2020-08-29T15:41:15.838263",
     "status": "completed"
    },
    "tags": []
   },
   "outputs": [
    {
     "name": "stderr",
     "output_type": "stream",
     "text": [
      "/opt/conda/lib/python3.7/site-packages/ipykernel_launcher.py:1: SettingWithCopyWarning: \n",
      "A value is trying to be set on a copy of a slice from a DataFrame.\n",
      "Try using .loc[row_indexer,col_indexer] = value instead\n",
      "\n",
      "See the caveats in the documentation: https://pandas.pydata.org/pandas-docs/stable/user_guide/indexing.html#returning-a-view-versus-a-copy\n",
      "  \"\"\"Entry point for launching an IPython kernel.\n"
     ]
    }
   ],
   "source": [
    "data['CocoaPercent'] = removePercents(data['CocoaPercent'])"
   ]
  },
  {
   "cell_type": "code",
   "execution_count": 14,
   "metadata": {
    "execution": {
     "iopub.execute_input": "2020-08-29T15:41:15.880772Z",
     "iopub.status.busy": "2020-08-29T15:41:15.880202Z",
     "iopub.status.idle": "2020-08-29T15:41:15.885123Z",
     "shell.execute_reply": "2020-08-29T15:41:15.885576Z"
    },
    "papermill": {
     "duration": 0.017604,
     "end_time": "2020-08-29T15:41:15.885694",
     "exception": false,
     "start_time": "2020-08-29T15:41:15.868090",
     "status": "completed"
    },
    "tags": []
   },
   "outputs": [
    {
     "data": {
      "text/plain": [
       "1038"
      ]
     },
     "execution_count": 14,
     "metadata": {},
     "output_type": "execute_result"
    }
   ],
   "source": [
    "len(data['SpecificOrigin'].unique())"
   ]
  },
  {
   "cell_type": "code",
   "execution_count": 15,
   "metadata": {
    "execution": {
     "iopub.execute_input": "2020-08-29T15:41:15.907603Z",
     "iopub.status.busy": "2020-08-29T15:41:15.906927Z",
     "iopub.status.idle": "2020-08-29T15:41:15.910862Z",
     "shell.execute_reply": "2020-08-29T15:41:15.910252Z"
    },
    "papermill": {
     "duration": 0.016463,
     "end_time": "2020-08-29T15:41:15.910957",
     "exception": false,
     "start_time": "2020-08-29T15:41:15.894494",
     "status": "completed"
    },
    "tags": []
   },
   "outputs": [],
   "source": [
    "categorical_features = ['Company', 'SpecificOrigin', 'Location', 'BeanType', 'BroadOrigin']"
   ]
  },
  {
   "cell_type": "code",
   "execution_count": 16,
   "metadata": {
    "execution": {
     "iopub.execute_input": "2020-08-29T15:41:15.933890Z",
     "iopub.status.busy": "2020-08-29T15:41:15.933209Z",
     "iopub.status.idle": "2020-08-29T15:41:15.937114Z",
     "shell.execute_reply": "2020-08-29T15:41:15.936489Z"
    },
    "papermill": {
     "duration": 0.017715,
     "end_time": "2020-08-29T15:41:15.937208",
     "exception": false,
     "start_time": "2020-08-29T15:41:15.919493",
     "status": "completed"
    },
    "tags": []
   },
   "outputs": [],
   "source": [
    "def onehot_encode(data, columns):\n",
    "    for column in columns:\n",
    "        dummies = pd.get_dummies(data[column])\n",
    "        data = pd.concat([data, dummies], axis=1)\n",
    "        data.drop(column, axis=1, inplace=True)\n",
    "    return data"
   ]
  },
  {
   "cell_type": "code",
   "execution_count": 17,
   "metadata": {
    "execution": {
     "iopub.execute_input": "2020-08-29T15:41:15.962734Z",
     "iopub.status.busy": "2020-08-29T15:41:15.961830Z",
     "iopub.status.idle": "2020-08-29T15:41:16.021149Z",
     "shell.execute_reply": "2020-08-29T15:41:16.020407Z"
    },
    "papermill": {
     "duration": 0.075001,
     "end_time": "2020-08-29T15:41:16.021275",
     "exception": false,
     "start_time": "2020-08-29T15:41:15.946274",
     "status": "completed"
    },
    "tags": []
   },
   "outputs": [],
   "source": [
    "data = onehot_encode(data, categorical_features)"
   ]
  },
  {
   "cell_type": "code",
   "execution_count": 18,
   "metadata": {
    "execution": {
     "iopub.execute_input": "2020-08-29T15:41:16.055795Z",
     "iopub.status.busy": "2020-08-29T15:41:16.055182Z",
     "iopub.status.idle": "2020-08-29T15:41:16.060156Z",
     "shell.execute_reply": "2020-08-29T15:41:16.059577Z"
    },
    "papermill": {
     "duration": 0.025526,
     "end_time": "2020-08-29T15:41:16.060263",
     "exception": false,
     "start_time": "2020-08-29T15:41:16.034737",
     "status": "completed"
    },
    "tags": []
   },
   "outputs": [],
   "source": [
    "y = data['Rating']\n",
    "X = data.drop('Rating', axis=1)"
   ]
  },
  {
   "cell_type": "code",
   "execution_count": 19,
   "metadata": {
    "execution": {
     "iopub.execute_input": "2020-08-29T15:41:16.090603Z",
     "iopub.status.busy": "2020-08-29T15:41:16.084070Z",
     "iopub.status.idle": "2020-08-29T15:41:16.108307Z",
     "shell.execute_reply": "2020-08-29T15:41:16.107523Z"
    },
    "papermill": {
     "duration": 0.038725,
     "end_time": "2020-08-29T15:41:16.108429",
     "exception": false,
     "start_time": "2020-08-29T15:41:16.069704",
     "status": "completed"
    },
    "tags": []
   },
   "outputs": [
    {
     "data": {
      "text/html": [
       "<div>\n",
       "<style scoped>\n",
       "    .dataframe tbody tr th:only-of-type {\n",
       "        vertical-align: middle;\n",
       "    }\n",
       "\n",
       "    .dataframe tbody tr th {\n",
       "        vertical-align: top;\n",
       "    }\n",
       "\n",
       "    .dataframe thead th {\n",
       "        text-align: right;\n",
       "    }\n",
       "</style>\n",
       "<table border=\"1\" class=\"dataframe\">\n",
       "  <thead>\n",
       "    <tr style=\"text-align: right;\">\n",
       "      <th></th>\n",
       "      <th>CocoaPercent</th>\n",
       "      <th>A. Morin</th>\n",
       "      <th>AMMA</th>\n",
       "      <th>Acalli</th>\n",
       "      <th>Adi</th>\n",
       "      <th>Aequare (Gianduja)</th>\n",
       "      <th>Ah Cacao</th>\n",
       "      <th>Akesson's (Pralus)</th>\n",
       "      <th>Alain Ducasse</th>\n",
       "      <th>Alexandre</th>\n",
       "      <th>...</th>\n",
       "      <th>Venezuela</th>\n",
       "      <th>Venezuela, Carribean</th>\n",
       "      <th>Venezuela, Dom. Rep.</th>\n",
       "      <th>Venezuela, Ghana</th>\n",
       "      <th>Venezuela, Java</th>\n",
       "      <th>Venezuela, Trinidad</th>\n",
       "      <th>Venezuela/ Ghana</th>\n",
       "      <th>Vietnam</th>\n",
       "      <th>West Africa</th>\n",
       "      <th></th>\n",
       "    </tr>\n",
       "  </thead>\n",
       "  <tbody>\n",
       "    <tr>\n",
       "      <th>0</th>\n",
       "      <td>0.63</td>\n",
       "      <td>1</td>\n",
       "      <td>0</td>\n",
       "      <td>0</td>\n",
       "      <td>0</td>\n",
       "      <td>0</td>\n",
       "      <td>0</td>\n",
       "      <td>0</td>\n",
       "      <td>0</td>\n",
       "      <td>0</td>\n",
       "      <td>...</td>\n",
       "      <td>0</td>\n",
       "      <td>0</td>\n",
       "      <td>0</td>\n",
       "      <td>0</td>\n",
       "      <td>0</td>\n",
       "      <td>0</td>\n",
       "      <td>0</td>\n",
       "      <td>0</td>\n",
       "      <td>0</td>\n",
       "      <td>0</td>\n",
       "    </tr>\n",
       "    <tr>\n",
       "      <th>1</th>\n",
       "      <td>0.70</td>\n",
       "      <td>1</td>\n",
       "      <td>0</td>\n",
       "      <td>0</td>\n",
       "      <td>0</td>\n",
       "      <td>0</td>\n",
       "      <td>0</td>\n",
       "      <td>0</td>\n",
       "      <td>0</td>\n",
       "      <td>0</td>\n",
       "      <td>...</td>\n",
       "      <td>0</td>\n",
       "      <td>0</td>\n",
       "      <td>0</td>\n",
       "      <td>0</td>\n",
       "      <td>0</td>\n",
       "      <td>0</td>\n",
       "      <td>0</td>\n",
       "      <td>0</td>\n",
       "      <td>0</td>\n",
       "      <td>0</td>\n",
       "    </tr>\n",
       "    <tr>\n",
       "      <th>2</th>\n",
       "      <td>0.70</td>\n",
       "      <td>1</td>\n",
       "      <td>0</td>\n",
       "      <td>0</td>\n",
       "      <td>0</td>\n",
       "      <td>0</td>\n",
       "      <td>0</td>\n",
       "      <td>0</td>\n",
       "      <td>0</td>\n",
       "      <td>0</td>\n",
       "      <td>...</td>\n",
       "      <td>0</td>\n",
       "      <td>0</td>\n",
       "      <td>0</td>\n",
       "      <td>0</td>\n",
       "      <td>0</td>\n",
       "      <td>0</td>\n",
       "      <td>0</td>\n",
       "      <td>0</td>\n",
       "      <td>0</td>\n",
       "      <td>0</td>\n",
       "    </tr>\n",
       "    <tr>\n",
       "      <th>3</th>\n",
       "      <td>0.70</td>\n",
       "      <td>1</td>\n",
       "      <td>0</td>\n",
       "      <td>0</td>\n",
       "      <td>0</td>\n",
       "      <td>0</td>\n",
       "      <td>0</td>\n",
       "      <td>0</td>\n",
       "      <td>0</td>\n",
       "      <td>0</td>\n",
       "      <td>...</td>\n",
       "      <td>0</td>\n",
       "      <td>0</td>\n",
       "      <td>0</td>\n",
       "      <td>0</td>\n",
       "      <td>0</td>\n",
       "      <td>0</td>\n",
       "      <td>0</td>\n",
       "      <td>0</td>\n",
       "      <td>0</td>\n",
       "      <td>0</td>\n",
       "    </tr>\n",
       "    <tr>\n",
       "      <th>4</th>\n",
       "      <td>0.70</td>\n",
       "      <td>1</td>\n",
       "      <td>0</td>\n",
       "      <td>0</td>\n",
       "      <td>0</td>\n",
       "      <td>0</td>\n",
       "      <td>0</td>\n",
       "      <td>0</td>\n",
       "      <td>0</td>\n",
       "      <td>0</td>\n",
       "      <td>...</td>\n",
       "      <td>0</td>\n",
       "      <td>0</td>\n",
       "      <td>0</td>\n",
       "      <td>0</td>\n",
       "      <td>0</td>\n",
       "      <td>0</td>\n",
       "      <td>0</td>\n",
       "      <td>0</td>\n",
       "      <td>0</td>\n",
       "      <td>0</td>\n",
       "    </tr>\n",
       "    <tr>\n",
       "      <th>...</th>\n",
       "      <td>...</td>\n",
       "      <td>...</td>\n",
       "      <td>...</td>\n",
       "      <td>...</td>\n",
       "      <td>...</td>\n",
       "      <td>...</td>\n",
       "      <td>...</td>\n",
       "      <td>...</td>\n",
       "      <td>...</td>\n",
       "      <td>...</td>\n",
       "      <td>...</td>\n",
       "      <td>...</td>\n",
       "      <td>...</td>\n",
       "      <td>...</td>\n",
       "      <td>...</td>\n",
       "      <td>...</td>\n",
       "      <td>...</td>\n",
       "      <td>...</td>\n",
       "      <td>...</td>\n",
       "      <td>...</td>\n",
       "      <td>...</td>\n",
       "    </tr>\n",
       "    <tr>\n",
       "      <th>1790</th>\n",
       "      <td>0.70</td>\n",
       "      <td>0</td>\n",
       "      <td>0</td>\n",
       "      <td>0</td>\n",
       "      <td>0</td>\n",
       "      <td>0</td>\n",
       "      <td>0</td>\n",
       "      <td>0</td>\n",
       "      <td>0</td>\n",
       "      <td>0</td>\n",
       "      <td>...</td>\n",
       "      <td>0</td>\n",
       "      <td>0</td>\n",
       "      <td>0</td>\n",
       "      <td>0</td>\n",
       "      <td>0</td>\n",
       "      <td>0</td>\n",
       "      <td>0</td>\n",
       "      <td>0</td>\n",
       "      <td>0</td>\n",
       "      <td>0</td>\n",
       "    </tr>\n",
       "    <tr>\n",
       "      <th>1791</th>\n",
       "      <td>0.65</td>\n",
       "      <td>0</td>\n",
       "      <td>0</td>\n",
       "      <td>0</td>\n",
       "      <td>0</td>\n",
       "      <td>0</td>\n",
       "      <td>0</td>\n",
       "      <td>0</td>\n",
       "      <td>0</td>\n",
       "      <td>0</td>\n",
       "      <td>...</td>\n",
       "      <td>0</td>\n",
       "      <td>0</td>\n",
       "      <td>0</td>\n",
       "      <td>0</td>\n",
       "      <td>0</td>\n",
       "      <td>0</td>\n",
       "      <td>0</td>\n",
       "      <td>0</td>\n",
       "      <td>0</td>\n",
       "      <td>0</td>\n",
       "    </tr>\n",
       "    <tr>\n",
       "      <th>1792</th>\n",
       "      <td>0.65</td>\n",
       "      <td>0</td>\n",
       "      <td>0</td>\n",
       "      <td>0</td>\n",
       "      <td>0</td>\n",
       "      <td>0</td>\n",
       "      <td>0</td>\n",
       "      <td>0</td>\n",
       "      <td>0</td>\n",
       "      <td>0</td>\n",
       "      <td>...</td>\n",
       "      <td>0</td>\n",
       "      <td>0</td>\n",
       "      <td>0</td>\n",
       "      <td>0</td>\n",
       "      <td>0</td>\n",
       "      <td>0</td>\n",
       "      <td>0</td>\n",
       "      <td>0</td>\n",
       "      <td>0</td>\n",
       "      <td>0</td>\n",
       "    </tr>\n",
       "    <tr>\n",
       "      <th>1793</th>\n",
       "      <td>0.62</td>\n",
       "      <td>0</td>\n",
       "      <td>0</td>\n",
       "      <td>0</td>\n",
       "      <td>0</td>\n",
       "      <td>0</td>\n",
       "      <td>0</td>\n",
       "      <td>0</td>\n",
       "      <td>0</td>\n",
       "      <td>0</td>\n",
       "      <td>...</td>\n",
       "      <td>0</td>\n",
       "      <td>0</td>\n",
       "      <td>0</td>\n",
       "      <td>0</td>\n",
       "      <td>0</td>\n",
       "      <td>0</td>\n",
       "      <td>0</td>\n",
       "      <td>0</td>\n",
       "      <td>0</td>\n",
       "      <td>0</td>\n",
       "    </tr>\n",
       "    <tr>\n",
       "      <th>1794</th>\n",
       "      <td>0.65</td>\n",
       "      <td>0</td>\n",
       "      <td>0</td>\n",
       "      <td>0</td>\n",
       "      <td>0</td>\n",
       "      <td>0</td>\n",
       "      <td>0</td>\n",
       "      <td>0</td>\n",
       "      <td>0</td>\n",
       "      <td>0</td>\n",
       "      <td>...</td>\n",
       "      <td>0</td>\n",
       "      <td>0</td>\n",
       "      <td>0</td>\n",
       "      <td>0</td>\n",
       "      <td>0</td>\n",
       "      <td>0</td>\n",
       "      <td>0</td>\n",
       "      <td>0</td>\n",
       "      <td>0</td>\n",
       "      <td>0</td>\n",
       "    </tr>\n",
       "  </tbody>\n",
       "</table>\n",
       "<p>1793 rows × 1655 columns</p>\n",
       "</div>"
      ],
      "text/plain": [
       "      CocoaPercent  A. Morin  AMMA  Acalli  Adi  Aequare (Gianduja)  Ah Cacao  \\\n",
       "0             0.63         1     0       0    0                   0         0   \n",
       "1             0.70         1     0       0    0                   0         0   \n",
       "2             0.70         1     0       0    0                   0         0   \n",
       "3             0.70         1     0       0    0                   0         0   \n",
       "4             0.70         1     0       0    0                   0         0   \n",
       "...            ...       ...   ...     ...  ...                 ...       ...   \n",
       "1790          0.70         0     0       0    0                   0         0   \n",
       "1791          0.65         0     0       0    0                   0         0   \n",
       "1792          0.65         0     0       0    0                   0         0   \n",
       "1793          0.62         0     0       0    0                   0         0   \n",
       "1794          0.65         0     0       0    0                   0         0   \n",
       "\n",
       "      Akesson's (Pralus)  Alain Ducasse  Alexandre  ...  Venezuela  \\\n",
       "0                      0              0          0  ...          0   \n",
       "1                      0              0          0  ...          0   \n",
       "2                      0              0          0  ...          0   \n",
       "3                      0              0          0  ...          0   \n",
       "4                      0              0          0  ...          0   \n",
       "...                  ...            ...        ...  ...        ...   \n",
       "1790                   0              0          0  ...          0   \n",
       "1791                   0              0          0  ...          0   \n",
       "1792                   0              0          0  ...          0   \n",
       "1793                   0              0          0  ...          0   \n",
       "1794                   0              0          0  ...          0   \n",
       "\n",
       "      Venezuela, Carribean  Venezuela, Dom. Rep.  Venezuela, Ghana  \\\n",
       "0                        0                     0                 0   \n",
       "1                        0                     0                 0   \n",
       "2                        0                     0                 0   \n",
       "3                        0                     0                 0   \n",
       "4                        0                     0                 0   \n",
       "...                    ...                   ...               ...   \n",
       "1790                     0                     0                 0   \n",
       "1791                     0                     0                 0   \n",
       "1792                     0                     0                 0   \n",
       "1793                     0                     0                 0   \n",
       "1794                     0                     0                 0   \n",
       "\n",
       "      Venezuela, Java  Venezuela, Trinidad  Venezuela/ Ghana  Vietnam  \\\n",
       "0                   0                    0                 0        0   \n",
       "1                   0                    0                 0        0   \n",
       "2                   0                    0                 0        0   \n",
       "3                   0                    0                 0        0   \n",
       "4                   0                    0                 0        0   \n",
       "...               ...                  ...               ...      ...   \n",
       "1790                0                    0                 0        0   \n",
       "1791                0                    0                 0        0   \n",
       "1792                0                    0                 0        0   \n",
       "1793                0                    0                 0        0   \n",
       "1794                0                    0                 0        0   \n",
       "\n",
       "      West Africa     \n",
       "0               0  0  \n",
       "1               0  0  \n",
       "2               0  0  \n",
       "3               0  0  \n",
       "4               0  0  \n",
       "...           ... ..  \n",
       "1790            0  0  \n",
       "1791            0  0  \n",
       "1792            0  0  \n",
       "1793            0  0  \n",
       "1794            0  0  \n",
       "\n",
       "[1793 rows x 1655 columns]"
      ]
     },
     "execution_count": 19,
     "metadata": {},
     "output_type": "execute_result"
    }
   ],
   "source": [
    "X"
   ]
  },
  {
   "cell_type": "code",
   "execution_count": 20,
   "metadata": {
    "execution": {
     "iopub.execute_input": "2020-08-29T15:41:16.155578Z",
     "iopub.status.busy": "2020-08-29T15:41:16.149741Z",
     "iopub.status.idle": "2020-08-29T15:41:16.206952Z",
     "shell.execute_reply": "2020-08-29T15:41:16.207426Z"
    },
    "papermill": {
     "duration": 0.084564,
     "end_time": "2020-08-29T15:41:16.207558",
     "exception": false,
     "start_time": "2020-08-29T15:41:16.122994",
     "status": "completed"
    },
    "tags": []
   },
   "outputs": [],
   "source": [
    "scaler = MinMaxScaler()\n",
    "\n",
    "X = pd.DataFrame(scaler.fit_transform(X), columns=X.columns)"
   ]
  },
  {
   "cell_type": "markdown",
   "execution_count": null,
   "metadata": {
    "papermill": {
     "duration": 0.009055,
     "end_time": "2020-08-29T15:41:16.226462",
     "exception": false,
     "start_time": "2020-08-29T15:41:16.217407",
     "status": "completed"
    },
    "tags": []
   },
   "source": [
    "# Training"
   ]
  },
  {
   "cell_type": "code",
   "execution_count": 21,
   "metadata": {
    "execution": {
     "iopub.execute_input": "2020-08-29T15:41:16.249815Z",
     "iopub.status.busy": "2020-08-29T15:41:16.249242Z",
     "iopub.status.idle": "2020-08-29T15:41:16.266649Z",
     "shell.execute_reply": "2020-08-29T15:41:16.267142Z"
    },
    "papermill": {
     "duration": 0.031625,
     "end_time": "2020-08-29T15:41:16.267281",
     "exception": false,
     "start_time": "2020-08-29T15:41:16.235656",
     "status": "completed"
    },
    "tags": []
   },
   "outputs": [],
   "source": [
    "X_train, X_test, y_train, y_test = train_test_split(X, y, train_size=0.8)"
   ]
  },
  {
   "cell_type": "code",
   "execution_count": 22,
   "metadata": {
    "execution": {
     "iopub.execute_input": "2020-08-29T15:41:16.292426Z",
     "iopub.status.busy": "2020-08-29T15:41:16.291824Z",
     "iopub.status.idle": "2020-08-29T15:41:16.423209Z",
     "shell.execute_reply": "2020-08-29T15:41:16.423691Z"
    },
    "papermill": {
     "duration": 0.146669,
     "end_time": "2020-08-29T15:41:16.423827",
     "exception": false,
     "start_time": "2020-08-29T15:41:16.277158",
     "status": "completed"
    },
    "tags": []
   },
   "outputs": [],
   "source": [
    "inputs = tf.keras.Input(shape=(1655,))\n",
    "x = tf.keras.layers.Dense(16, activation='relu')(inputs)\n",
    "x = tf.keras.layers.Dense(16, activation='relu')(x)\n",
    "outputs = tf.keras.layers.Dense(1)(x)\n",
    "\n",
    "model = tf.keras.Model(inputs=inputs, outputs=outputs)"
   ]
  },
  {
   "cell_type": "code",
   "execution_count": 23,
   "metadata": {
    "execution": {
     "iopub.execute_input": "2020-08-29T15:41:16.454938Z",
     "iopub.status.busy": "2020-08-29T15:41:16.454110Z",
     "iopub.status.idle": "2020-08-29T15:41:16.461000Z",
     "shell.execute_reply": "2020-08-29T15:41:16.460203Z"
    },
    "papermill": {
     "duration": 0.027526,
     "end_time": "2020-08-29T15:41:16.461133",
     "exception": false,
     "start_time": "2020-08-29T15:41:16.433607",
     "status": "completed"
    },
    "tags": []
   },
   "outputs": [],
   "source": [
    "optimizer = tf.keras.optimizers.RMSprop(0.001)\n",
    "\n",
    "model.compile(\n",
    "    optimizer=optimizer,\n",
    "    loss='mse'\n",
    ")"
   ]
  },
  {
   "cell_type": "code",
   "execution_count": 24,
   "metadata": {
    "execution": {
     "iopub.execute_input": "2020-08-29T15:41:16.496283Z",
     "iopub.status.busy": "2020-08-29T15:41:16.495272Z",
     "iopub.status.idle": "2020-08-29T15:41:16.501310Z",
     "shell.execute_reply": "2020-08-29T15:41:16.500301Z"
    },
    "papermill": {
     "duration": 0.02476,
     "end_time": "2020-08-29T15:41:16.501445",
     "exception": false,
     "start_time": "2020-08-29T15:41:16.476685",
     "status": "completed"
    },
    "tags": []
   },
   "outputs": [
    {
     "name": "stdout",
     "output_type": "stream",
     "text": [
      "Model: \"functional_1\"\n",
      "_________________________________________________________________\n",
      "Layer (type)                 Output Shape              Param #   \n",
      "=================================================================\n",
      "input_1 (InputLayer)         [(None, 1655)]            0         \n",
      "_________________________________________________________________\n",
      "dense (Dense)                (None, 16)                26496     \n",
      "_________________________________________________________________\n",
      "dense_1 (Dense)              (None, 16)                272       \n",
      "_________________________________________________________________\n",
      "dense_2 (Dense)              (None, 1)                 17        \n",
      "=================================================================\n",
      "Total params: 26,785\n",
      "Trainable params: 26,785\n",
      "Non-trainable params: 0\n",
      "_________________________________________________________________\n"
     ]
    }
   ],
   "source": [
    "model.summary()"
   ]
  },
  {
   "cell_type": "code",
   "execution_count": 25,
   "metadata": {
    "execution": {
     "iopub.execute_input": "2020-08-29T15:41:16.538391Z",
     "iopub.status.busy": "2020-08-29T15:41:16.537575Z",
     "iopub.status.idle": "2020-08-29T15:41:18.127970Z",
     "shell.execute_reply": "2020-08-29T15:41:18.127391Z"
    },
    "papermill": {
     "duration": 1.61206,
     "end_time": "2020-08-29T15:41:18.128075",
     "exception": false,
     "start_time": "2020-08-29T15:41:16.516015",
     "status": "completed"
    },
    "tags": []
   },
   "outputs": [
    {
     "name": "stdout",
     "output_type": "stream",
     "text": [
      "Epoch 1/10\n",
      "36/36 [==============================] - 0s 6ms/step - loss: 8.1559 - val_loss: 5.7972\n",
      "Epoch 2/10\n",
      "36/36 [==============================] - 0s 2ms/step - loss: 3.6318 - val_loss: 1.6193\n",
      "Epoch 3/10\n",
      "36/36 [==============================] - 0s 2ms/step - loss: 0.7277 - val_loss: 0.4089\n",
      "Epoch 4/10\n",
      "36/36 [==============================] - 0s 2ms/step - loss: 0.2953 - val_loss: 0.3275\n",
      "Epoch 5/10\n",
      "36/36 [==============================] - 0s 2ms/step - loss: 0.2255 - val_loss: 0.2961\n",
      "Epoch 6/10\n",
      "36/36 [==============================] - 0s 2ms/step - loss: 0.1913 - val_loss: 0.2749\n",
      "Epoch 7/10\n",
      "36/36 [==============================] - 0s 2ms/step - loss: 0.1622 - val_loss: 0.2690\n",
      "Epoch 8/10\n",
      "36/36 [==============================] - 0s 2ms/step - loss: 0.1403 - val_loss: 0.2613\n",
      "Epoch 9/10\n",
      "36/36 [==============================] - 0s 2ms/step - loss: 0.1238 - val_loss: 0.2610\n",
      "Epoch 10/10\n",
      "36/36 [==============================] - 0s 2ms/step - loss: 0.1106 - val_loss: 0.2576\n"
     ]
    }
   ],
   "source": [
    "epochs = 10\n",
    "batch_size = 32\n",
    "\n",
    "history = model.fit(\n",
    "    X_train,\n",
    "    y_train,\n",
    "    validation_split=0.2,\n",
    "    epochs=epochs,\n",
    "    batch_size=batch_size,\n",
    "    verbose=1\n",
    ")"
   ]
  },
  {
   "cell_type": "code",
   "execution_count": 26,
   "metadata": {
    "execution": {
     "iopub.execute_input": "2020-08-29T15:41:18.175891Z",
     "iopub.status.busy": "2020-08-29T15:41:18.165823Z",
     "iopub.status.idle": "2020-08-29T15:41:18.374879Z",
     "shell.execute_reply": "2020-08-29T15:41:18.374211Z"
    },
    "papermill": {
     "duration": 0.236065,
     "end_time": "2020-08-29T15:41:18.374986",
     "exception": false,
     "start_time": "2020-08-29T15:41:18.138921",
     "status": "completed"
    },
    "tags": []
   },
   "outputs": [
    {
     "data": {
      "image/png": "[encoded data removed]",
      "text/plain": [
       "<Figure size 1008x720 with 1 Axes>"
      ]
     },
     "metadata": {
      "needs_background": "light"
     },
     "output_type": "display_data"
    }
   ],
   "source": [
    "plt.figure(figsize=(14, 10))\n",
    "\n",
    "plt.plot(range(epochs), history.history['loss'], color='b')\n",
    "plt.plot(range(epochs), history.history['val_loss'], color='r')\n",
    "\n",
    "plt.xlabel('Epoch')\n",
    "plt.ylabel('Loss')\n",
    "\n",
    "plt.show()"
   ]
  },
  {
   "cell_type": "code",
   "execution_count": 27,
   "metadata": {
    "execution": {
     "iopub.execute_input": "2020-08-29T15:41:18.405167Z",
     "iopub.status.busy": "2020-08-29T15:41:18.404413Z",
     "iopub.status.idle": "2020-08-29T15:41:18.409137Z",
     "shell.execute_reply": "2020-08-29T15:41:18.408588Z"
    },
    "papermill": {
     "duration": 0.022477,
     "end_time": "2020-08-29T15:41:18.409237",
     "exception": false,
     "start_time": "2020-08-29T15:41:18.386760",
     "status": "completed"
    },
    "tags": []
   },
   "outputs": [
    {
     "data": {
      "text/plain": [
       "9"
      ]
     },
     "execution_count": 27,
     "metadata": {},
     "output_type": "execute_result"
    }
   ],
   "source": [
    "np.argmin(history.history['val_loss'])"
   ]
  },
  {
   "cell_type": "code",
   "execution_count": 28,
   "metadata": {
    "execution": {
     "iopub.execute_input": "2020-08-29T15:41:18.437118Z",
     "iopub.status.busy": "2020-08-29T15:41:18.436487Z",
     "iopub.status.idle": "2020-08-29T15:41:18.534563Z",
     "shell.execute_reply": "2020-08-29T15:41:18.534068Z"
    },
    "papermill": {
     "duration": 0.113791,
     "end_time": "2020-08-29T15:41:18.534671",
     "exception": false,
     "start_time": "2020-08-29T15:41:18.420880",
     "status": "completed"
    },
    "tags": []
   },
   "outputs": [
    {
     "name": "stdout",
     "output_type": "stream",
     "text": [
      "12/12 [==============================] - 0s 998us/step - loss: 0.2102\n"
     ]
    },
    {
     "data": {
      "text/plain": [
       "0.21018393337726593"
      ]
     },
     "execution_count": 28,
     "metadata": {},
     "output_type": "execute_result"
    }
   ],
   "source": [
    "model.evaluate(X_test, y_test)"
   ]
  }
 ],
 "metadata": {
  "kernelspec": {
   "display_name": "Python 3",
   "language": "python",
   "name": "python3"
  },
  "language_info": {
   "codemirror_mode": {
    "name": "ipython",
    "version": 3
   },
   "file_extension": ".py",
   "mimetype": "text/x-python",
   "name": "python",
   "nbconvert_exporter": "python",
   "pygments_lexer": "ipython3",
   "version": "3.7.6"
  },
  "papermill": {
   "duration": 14.321166,
   "end_time": "2020-08-29T15:41:18.652974",
   "environment_variables": {},
   "exception": null,
   "input_path": "__notebook__.ipynb",
   "output_path": "__notebook__.ipynb",
   "parameters": {},
   "start_time": "2020-08-29T15:41:04.331808",
   "version": "2.1.0"
  }
 },
 "nbformat": 4,
 "nbformat_minor": 4
}
