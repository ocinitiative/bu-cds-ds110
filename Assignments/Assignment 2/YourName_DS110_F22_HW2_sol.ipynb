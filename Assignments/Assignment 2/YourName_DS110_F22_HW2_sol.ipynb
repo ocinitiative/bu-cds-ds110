{
 "cells": [
  {
   "cell_type": "markdown",
   "metadata": {
    "id": "A7mpivJPWaNa"
   },
   "source": [
    "# Problem 1:  Ebi Sushi (28 pts: 6,10,12)\n",
    "\n",
    "My wife and I went to a sushi place called Ebi Sushi recently.  Here are the items that were on the receipt."
   ]
  },
  {
   "cell_type": "code",
   "execution_count": null,
   "metadata": {
    "id": "cVAqqK8OWW4O"
   },
   "outputs": [],
   "source": [
    "ebi_receipt = [('Edamame', 6), ('Chirashi', 18.99), ('Inari', 3.60), ('Veggie House Roll', 11), ('Broccoli Roll', 7)]"
   ]
  },
  {
   "cell_type": "markdown",
   "metadata": {
    "id": "786zDEMfYYAG"
   },
   "source": [
    "a) (6 pts) Write code below that uses a foreach loop to sum the cost of all the items in ebi_receipt, printing the cost at the end."
   ]
  },
  {
   "cell_type": "code",
   "execution_count": null,
   "metadata": {
    "colab": {
     "base_uri": "https://localhost:8080/"
    },
    "id": "YkPnDwkeYn0S",
    "outputId": "8b2ddd35-439e-4265-b7a4-cb5954e941f2"
   },
   "outputs": [
    {
     "name": "stdout",
     "output_type": "stream",
     "text": [
      "46.59\n"
     ]
    }
   ],
   "source": [
    "total = 0\n",
    "for item, price in ebi_receipt:\n",
    "  total += price\n",
    "print(total)"
   ]
  },
  {
   "cell_type": "markdown",
   "metadata": {
    "id": "anOn3kVwm2nY"
   },
   "source": [
    "b) (10 pts) When we went to Ebi Sushi, the bottom of our receipt mentioned different possible tips for different percentages, which is a nice touch.  Write code that uses a iterates through a list of tip percentages *tips* and prints the total tip amount assuming it's applied to variable *total_amount*.\n",
    "\n",
    "For example, if total_amount was 200 and tips were [15, 18, 20], then the output would be\n",
    "\n",
    "15%: 30.0\n",
    "\n",
    "18%: 36.0\n",
    "\n",
    "20%: 40.0\n",
    "\n",
    "Use round(value, 2) to round to two places after the decimal (pennies) in each case.\n",
    "\n"
   ]
  },
  {
   "cell_type": "code",
   "execution_count": 4,
   "metadata": {
    "colab": {
     "base_uri": "https://localhost:8080/"
    },
    "id": "H7B_oQ_cnnVF",
    "outputId": "e8e54169-f42c-4145-8797-398fec7c6cdd"
   },
   "outputs": [
    {
     "name": "stdout",
     "output_type": "stream",
     "text": [
      "15%:30.0\n",
      "18%:36.0\n",
      "20%:40.0\n"
     ]
    }
   ],
   "source": [
    "tips = [15, 18, 20]\n",
    "total_amount = 200\n",
    "\n",
    "# Print tip amounts on the given bill amount, for each tip percent in given list\n",
    "for tip in tips:\n",
    "  print(str(tip) + \"%:\" + str(round(tip/100 * total_amount, 2)))"
   ]
  },
  {
   "cell_type": "markdown",
   "metadata": {
    "id": "6K6_NhKdZQMc"
   },
   "source": [
    "c) (12 pts) The following list notes whether Sandra ('S') or Kevin ('K') ordered each item.  Write code that iterates through the list *who_ordered* of (item, amount, who_purchased) and prints a tuple with (highest individual total, person who had highest total).  For example, on the list *who_ordered* below, the code should print \"27.6, 'S'\".  (The comma between the values is optional.)\n",
    "\n",
    "You'll want to maintain two variables as you iterate through the list, and use a conditional (if/else) to decide which total to add to.  You can assume all the orderer codes are \"S\" or \"K\".  If it's a tie, print 'tie' as the string instead of either orderer.\n",
    "\n"
   ]
  },
  {
   "cell_type": "code",
   "execution_count": 7,
   "metadata": {
    "id": "yWDi25leCLKO"
   },
   "outputs": [],
   "source": [
    "who_ordered = [('Edamame', 6, 'S'), ('Chirashi', 18.99, 'K'), ('Inari', 3.60, 'S'), ('Veggie House Roll', 11, 'S'), ('Broccoli Roll', 7, 'S')]\n",
    "# Can set who_ordered to who_ordered2 to test tie functionality\n",
    "who_ordered2 = [(\"thing1\", 5, \"K\"),(\"thing2\",5,\"S\")]"
   ]
  },
  {
   "cell_type": "code",
   "execution_count": 8,
   "metadata": {
    "colab": {
     "base_uri": "https://localhost:8080/"
    },
    "id": "64gSWMUwaGx5",
    "outputId": "94210380-16fd-45ff-c1f2-acdb1cdc33b8"
   },
   "outputs": [
    {
     "name": "stdout",
     "output_type": "stream",
     "text": [
      "27.6 S\n"
     ]
    }
   ],
   "source": [
    "k_total = 0\n",
    "s_total = 0\n",
    "for (item, price, orderer) in who_ordered:\n",
    "  if (orderer == 'K'):\n",
    "    k_total += price\n",
    "  else:\n",
    "    s_total += price\n",
    "if (s_total > k_total):\n",
    "  print(s_total, 'S')\n",
    "elif (s_total < k_total):\n",
    "  print(k_total, 'K')\n",
    "else:\n",
    "  print(k_total, 'tie')\n"
   ]
  },
  {
   "cell_type": "markdown",
   "metadata": {
    "id": "tzE9xO_Xbg_I"
   },
   "source": [
    "# Problem 2:  Graphing (22 pts: 6, 10, 6)\n",
    "\n",
    "\n",
    "\n",
    "\n"
   ]
  },
  {
   "cell_type": "markdown",
   "metadata": {
    "id": "5DzYB28N6NHp"
   },
   "source": [
    "a, 6 pts) Over the course of 7 days, the average gas price across Massachusetts fluctuates; these prices are given in the *gas_prices* variable.  Plot the prices with a line graph in matplotlib.  (The x axis, day, ranges from 1 to 7.)"
   ]
  },
  {
   "cell_type": "code",
   "execution_count": 13,
   "metadata": {
    "colab": {
     "base_uri": "https://localhost:8080/",
     "height": 283
    },
    "id": "ZIgeAavB6yTt",
    "outputId": "55e1b684-753c-4c86-d4ee-dc830ae196a8"
   },
   "outputs": [
    {
     "data": {
      "text/plain": [
       "[<matplotlib.lines.Line2D at 0x7f5d949ab490>]"
      ]
     },
     "execution_count": 13,
     "metadata": {},
     "output_type": "execute_result"
    },
    {
     "data": {
      "image/png": "[encoded data removed]",
      "text/plain": [
       "<Figure size 432x288 with 1 Axes>"
      ]
     },
     "metadata": {
      "needs_background": "light"
     },
     "output_type": "display_data"
    }
   ],
   "source": [
    "gas_prices = [4.80, 5.05, 4.90, 5.10, 5.20, 5.15, 5.30]\n",
    "\n",
    "import matplotlib.pyplot as plt\n",
    "x = range(1,8)\n",
    "plt.plot(x, gas_prices)"
   ]
  },
  {
   "cell_type": "markdown",
   "metadata": {
    "id": "7JcOaozq8Bek"
   },
   "source": [
    "b, 10pts) Plot the same graph again but with additional trendline in red of y = x/12 + 4.75, plotted as a line graph on top of the original points, which should now be a scatter plot.  (Hint:  You just need two points on the line to plot the line.)"
   ]
  },
  {
   "cell_type": "code",
   "execution_count": 17,
   "metadata": {
    "colab": {
     "base_uri": "https://localhost:8080/",
     "height": 283
    },
    "id": "No84bXQd7POi",
    "outputId": "20385f5d-3cfc-4c2e-92c2-4f4ad7c8a501"
   },
   "outputs": [
    {
     "data": {
      "text/plain": [
       "[<matplotlib.lines.Line2D at 0x7f5d947b1d10>]"
      ]
     },
     "execution_count": 17,
     "metadata": {},
     "output_type": "execute_result"
    },
    {
     "data": {
      "image/png": "[encoded data removed]",
      "text/plain": [
       "<Figure size 432x288 with 1 Axes>"
      ]
     },
     "metadata": {
      "needs_background": "light"
     },
     "output_type": "display_data"
    }
   ],
   "source": [
    "import matplotlib.pyplot as plt\n",
    "x = range(1,8)\n",
    "plt.plot(x, gas_prices, 'o')\n",
    "line_y_1 = 1/12 + 4.75\n",
    "line_y_7 = 7/12 + 4.75\n",
    "plt.plot([1,7], [line_y_1,line_y_7], 'r')\n"
   ]
  },
  {
   "cell_type": "markdown",
   "metadata": {
    "id": "ue5ApzHM__FK"
   },
   "source": [
    "c, 6 pts) On a new graph, plot the function $y = 10e^x$ from 0 to 5.  Use np.linspace() to get at least 100 samples, then plot it as a line graph.  Note that you can call 10*numpy.exp(v) on a vector v to get all the y values, but you could instead calculate the y values in a loop if that feels more comfortable."
   ]
  },
  {
   "cell_type": "code",
   "execution_count": 20,
   "metadata": {
    "colab": {
     "base_uri": "https://localhost:8080/",
     "height": 283
    },
    "id": "T8e_Is7PAVx6",
    "outputId": "e4cce3dc-f4f9-46a6-dfda-bb1a8f151e50"
   },
   "outputs": [
    {
     "data": {
      "text/plain": [
       "[<matplotlib.lines.Line2D at 0x7f5d94385fd0>]"
      ]
     },
     "execution_count": 20,
     "metadata": {},
     "output_type": "execute_result"
    },
    {
     "data": {
      "image/png": "[encoded data removed]",
      "text/plain": [
       "<Figure size 432x288 with 1 Axes>"
      ]
     },
     "metadata": {
      "needs_background": "light"
     },
     "output_type": "display_data"
    }
   ],
   "source": [
    "import numpy as np\n",
    "x = np.linspace(0,5,100)\n",
    "y = 10*np.exp(x)\n",
    "plt.plot(x,y)"
   ]
  },
  {
   "cell_type": "markdown",
   "metadata": {
    "id": "F1Irs2kvDCT0"
   },
   "source": [
    "# Problem 3:  Matrices (10 points)\n",
    "\n",
    "10pts) Find the **product** AB, where A is a 2x100 matrix with all ones in the first row and all zeros in the second row, and B is a 100x2 matrix of all 1's.  Use np.concatenate, np.zeros, and np.ones to create the matrix A, and np.ones to create matrix B.  (Recall an m x n matrix has *m* rows and *n* columns.)"
   ]
  },
  {
   "cell_type": "code",
   "execution_count": 24,
   "metadata": {
    "colab": {
     "base_uri": "https://localhost:8080/"
    },
    "id": "-KNGwuiIDq5g",
    "outputId": "213e9044-50ec-4591-b338-7a0f17a6c3c2"
   },
   "outputs": [
    {
     "data": {
      "text/plain": [
       "array([[100., 100.],\n",
       "       [  0.,   0.]])"
      ]
     },
     "execution_count": 24,
     "metadata": {},
     "output_type": "execute_result"
    }
   ],
   "source": [
    "A = np.concatenate((np.ones((1,100)),np.zeros((1,100))))\n",
    "B = np.ones((100,2))\n",
    "A @ B"
   ]
  }
 ],
 "metadata": {
  "colab": {
   "collapsed_sections": [],
   "name": "YourName_DS110_F22_HW2_sol.ipynb",
   "provenance": []
  },
  "kernelspec": {
   "display_name": "Python 3",
   "language": "python",
   "name": "python3"
  },
  "language_info": {
   "codemirror_mode": {
    "name": "ipython",
    "version": 3
   },
   "file_extension": ".py",
   "mimetype": "text/x-python",
   "name": "python",
   "nbconvert_exporter": "python",
   "pygments_lexer": "ipython3",
   "version": "3.8.8"
  }
 },
 "nbformat": 4,
 "nbformat_minor": 1
}
