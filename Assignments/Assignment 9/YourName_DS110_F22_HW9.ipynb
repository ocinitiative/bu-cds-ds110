{
 "cells": [
  {
   "cell_type": "markdown",
   "metadata": {
    "id": "y2_0e_U3Unyj"
   },
   "source": [
    "# HW9 (60 points total)\n",
    "\n",
    "This homework requires the cities.db and winequality-red.csv files, found where you downloaded the homework."
   ]
  },
  {
   "cell_type": "markdown",
   "metadata": {
    "id": "OvJtkordHp2I"
   },
   "source": [
    "# Problem 1: SQLite Queries (17 points: 4,6,7)"
   ]
  },
  {
   "cell_type": "markdown",
   "metadata": {
    "id": "kWSaJX9aHvGB"
   },
   "source": [
    "For each text description of a query, make the corresponding query in SQLite (in Python).  Be sure to upload the cities.db file first.  This file contains two tables, the cities table containing \"name\" (of city) and \"population\", and the \"best_cities\" table, containing \"city\" and \"reason\" (one reason it's a good city, according to the AFAR website)."
   ]
  },
  {
   "cell_type": "code",
   "execution_count": null,
   "metadata": {
    "id": "9C_IIjmlHuU6"
   },
   "outputs": [],
   "source": [
    "from google.colab import files\n",
    "\n",
    "uploaded = files.upload()"
   ]
  },
  {
   "cell_type": "code",
   "execution_count": null,
   "metadata": {
    "id": "_ndwjKS2IeCa"
   },
   "outputs": [],
   "source": [
    "import sqlite3\n",
    "connection = sqlite3.connect('cities.db')"
   ]
  },
  {
   "cell_type": "markdown",
   "metadata": {
    "id": "FEhwXBP2n1Qm"
   },
   "source": [
    "(a) (4 points) Query: all the best cities where the reason is \"Nightlife.\""
   ]
  },
  {
   "cell_type": "code",
   "execution_count": null,
   "metadata": {
    "id": "rJBI_Gh7n9bp"
   },
   "outputs": [],
   "source": [
    "# TODO"
   ]
  },
  {
   "cell_type": "markdown",
   "metadata": {
    "id": "lhwK3HNtJIPz"
   },
   "source": [
    "(b) (6 points) Query:  All the cities in the cities table that end in '-ton,' and their populations.\n",
    "\n",
    "\n"
   ]
  },
  {
   "cell_type": "code",
   "execution_count": null,
   "metadata": {
    "id": "pnAccG2GJdxz"
   },
   "outputs": [],
   "source": [
    "# TODO"
   ]
  },
  {
   "cell_type": "markdown",
   "metadata": {
    "id": "rRfH9oi2VBmU"
   },
   "source": [
    "(c) (7 points) Query:  city name, reason it's a good city, and population, from an inner join of the two tables.  (This should produce 5 American cities.)"
   ]
  },
  {
   "cell_type": "code",
   "execution_count": null,
   "metadata": {
    "id": "uhO3uy51Nla8"
   },
   "outputs": [],
   "source": [
    "# TODO"
   ]
  },
  {
   "cell_type": "markdown",
   "metadata": {
    "id": "3Cxmof0waQy-"
   },
   "source": [
    "# Problem 2:  Advanced Pandas (25 points, 7, 6, 6, 6)\n",
    "\n",
    "Perform the requested transformations of the table below.\n"
   ]
  },
  {
   "cell_type": "code",
   "execution_count": null,
   "metadata": {
    "id": "QwJgpHTgabUA"
   },
   "outputs": [],
   "source": [
    "import pandas as pd\n",
    "import numpy as np\n",
    "\n",
    "movies = pd.DataFrame({\"Title\": [\"Perfect Blue\",\n",
    "                                 \"Three Colours: Red\",\n",
    "                                 \"Three Colours: Blue\",\n",
    "                                 \"Three Colours: White\",\n",
    "                                 \"Harold and Kumar Go to White Castle\",\n",
    "                                 \"Men in Black\",\n",
    "                                 \"Yellow Submarine\"],\n",
    "                       \"Genre\": [\"Thriller\",\"Drama\",\"Drama\",\"Drama\",\"Comedy\",\"Fantasy\",\"Fantasy\"],\n",
    "                       \"Year\": [1997,1994,1994,1994,2004,1997,1968],\n",
    "                       \"Country\": [\"Japan\",\"France\",\"France\",\"France\",\"USA\",\"USA\",\"UK\"],\n",
    "                       \"RTScore\": [80, 100, 98, 87, 74, 92, 95]})\n",
    "                       "
   ]
  },
  {
   "cell_type": "markdown",
   "metadata": {
    "id": "p7HD6ZHFhWZ4"
   },
   "source": [
    "(a) (7 points) Use pivot_table to create a table from the movies data where the rows are genres, the columns are countries, and the numerical values are average Rotten Tomatoes scores (\"RTScore\")."
   ]
  },
  {
   "cell_type": "code",
   "execution_count": null,
   "metadata": {
    "id": "4K119J2Zge6M"
   },
   "outputs": [],
   "source": [
    "# TODO"
   ]
  },
  {
   "cell_type": "markdown",
   "metadata": {
    "id": "kxpR7WFVip2f"
   },
   "source": [
    "(b) (6 points) Use groupby to find the mean score by genre.  Don't include averages of the year (use just the Genre and RTScore columns)."
   ]
  },
  {
   "cell_type": "code",
   "execution_count": null,
   "metadata": {
    "id": "I4QNoIJ3hy9s"
   },
   "outputs": [],
   "source": [
    "# TODO"
   ]
  },
  {
   "cell_type": "markdown",
   "metadata": {
    "id": "SWZXLP3WkEyE"
   },
   "source": [
    "(c) (6 points) Perform an outer join with the following table on movie title."
   ]
  },
  {
   "cell_type": "code",
   "execution_count": null,
   "metadata": {
    "id": "c39wR5C9kLoo"
   },
   "outputs": [],
   "source": [
    "animated = pd.DataFrame({\"Title\": [\"Perfect Blue\",\n",
    "                                 \"Harold and Kumar Go to White Castle\",\n",
    "                                 \"Men in Black\",\n",
    "                                 \"Yellow Submarine\",\n",
    "                                 \"Revolutionary Girl Utena\",\n",
    "                                 \"End of Evangelion\",\n",
    "                                 \"No\"],\n",
    "                         \"Animated\": [True,False,False,True,True,True,False]})"
   ]
  },
  {
   "cell_type": "code",
   "execution_count": null,
   "metadata": {
    "id": "nBralgpik_3F"
   },
   "outputs": [],
   "source": [
    "# TODO"
   ]
  },
  {
   "cell_type": "markdown",
   "metadata": {
    "id": "6z6gz73ZotJL"
   },
   "source": [
    "(d) (6 points) Create a pivot table from the first movies table where the rows are genres and the columns are min, mean, and max RTScore. (The columns can have any order.)\n"
   ]
  },
  {
   "cell_type": "code",
   "execution_count": null,
   "metadata": {
    "id": "YuhS3v9Yo7Se"
   },
   "outputs": [],
   "source": [
    "# TODO"
   ]
  },
  {
   "cell_type": "markdown",
   "metadata": {
    "id": "3R9Sq86lYaf0"
   },
   "source": [
    "# Problem 3:  Seaborn (8 points)"
   ]
  },
  {
   "cell_type": "markdown",
   "metadata": {
    "id": "zlKm2v32_g61"
   },
   "source": [
    "Download the winequality-red.csv file and upload it to Google colab.  Then, draw a 4-dimensional scatterplot of the data using the following features (which were the most important in predicting quality according to our random forests homework):  alcohol for the x-axis, quality for the y-axis, volatile acidity for the hue, and sulphates for the size.  Set the sizes parameter to (10,400) to make those more visible.  You don't need to change the colormap or other defaults not mentioned here."
   ]
  },
  {
   "cell_type": "code",
   "execution_count": null,
   "metadata": {
    "id": "eE-lQ76I93Z-"
   },
   "outputs": [],
   "source": [
    "from google.colab import files\n",
    "\n",
    "uploaded = files.upload()"
   ]
  },
  {
   "cell_type": "code",
   "execution_count": null,
   "metadata": {
    "id": "Zrh4Hf0D98BP"
   },
   "outputs": [],
   "source": [
    "import pandas as pd\n",
    "\n",
    "df = pd.read_csv('winequality-red.csv', sep = ';')\n",
    "df.head()"
   ]
  },
  {
   "cell_type": "code",
   "execution_count": null,
   "metadata": {
    "id": "eWHktstv-Ogg"
   },
   "outputs": [],
   "source": [
    "# TODO"
   ]
  },
  {
   "cell_type": "markdown",
   "metadata": {
    "id": "leEQxXEhA4cM"
   },
   "source": [
    "# Problem 4: Complexity (10 points: 4,4,2)"
   ]
  },
  {
   "cell_type": "markdown",
   "metadata": {
    "id": "5E128HbRBM7r"
   },
   "source": [
    "a, 4 pts) Find the big-$\\Theta$ asymptotic complexity of the following function in terms of N, its input.  Don't include constants and lower-order terms."
   ]
  },
  {
   "cell_type": "code",
   "execution_count": null,
   "metadata": {
    "id": "Bg0YV6uLdv5e"
   },
   "outputs": [],
   "source": []
  },
  {
   "cell_type": "code",
   "execution_count": null,
   "metadata": {
    "id": "lvh0mw2GBWyv"
   },
   "outputs": [],
   "source": [
    "import numpy as np\n",
    "\n",
    "def create_matrix(N):\n",
    "  my_matrix = np.zeros((N,N)) # Hint: every item in the zeros matrix must be set to zero\n",
    "  for i in range(0,N-2):\n",
    "    for j in range(0,N):\n",
    "      my_matrix[i][j] = 2\n",
    "  return my_matrix\n",
    "\n",
    "# Example\n",
    "  create_matrix(5)"
   ]
  },
  {
   "cell_type": "markdown",
   "metadata": {
    "id": "AMN_0YxWCsG1"
   },
   "source": [
    "**TODO**"
   ]
  },
  {
   "cell_type": "markdown",
   "metadata": {
    "id": "B5DeNZSSCqFH"
   },
   "source": [
    "b, 4 pts) Find the big-$\\Theta$ worst case running time in terms of the number of strings $N$ in the input list.  Assume string comparisons and append() take constant time.  Hint:  The number of times append() is called is $N(N-1)(N-2)$."
   ]
  },
  {
   "cell_type": "code",
   "execution_count": null,
   "metadata": {
    "id": "HZcnALTHDpFA"
   },
   "outputs": [],
   "source": [
    "def all_triples(string_list):\n",
    "  triple_list = []\n",
    "  for a in string_list:\n",
    "    for b in string_list:\n",
    "      if b != a:\n",
    "        for c in string_list:\n",
    "          if c != a and c != b:\n",
    "            triple_list.append((a,b,c)) # Assume append is constant time\n",
    "  return triple_list\n",
    "\n",
    "# Example\n",
    "all_triples(['Alice','Bob','Kai','Yulin'])\n"
   ]
  },
  {
   "cell_type": "markdown",
   "metadata": {
    "id": "XlFocLOgGRiP"
   },
   "source": [
    "**TODO**"
   ]
  },
  {
   "cell_type": "markdown",
   "metadata": {
    "id": "VU1YLZmvI5YT"
   },
   "source": [
    "3, 2 pts) Of the two asymptotic running times you listed (which should be different), which is the more desirable running time?"
   ]
  },
  {
   "cell_type": "markdown",
   "metadata": {
    "id": "po_Wx2VoJQSn"
   },
   "source": [
    "**TODO**"
   ]
  }
 ],
 "metadata": {
  "colab": {
   "collapsed_sections": [],
   "name": "YourName_DS110_F22_HW9.ipynb",
   "provenance": []
  },
  "kernelspec": {
   "display_name": "Python 3",
   "language": "python",
   "name": "python3"
  },
  "language_info": {
   "codemirror_mode": {
    "name": "ipython",
    "version": 3
   },
   "file_extension": ".py",
   "mimetype": "text/x-python",
   "name": "python",
   "nbconvert_exporter": "python",
   "pygments_lexer": "ipython3",
   "version": "3.8.8"
  }
 },
 "nbformat": 4,
 "nbformat_minor": 1
}
